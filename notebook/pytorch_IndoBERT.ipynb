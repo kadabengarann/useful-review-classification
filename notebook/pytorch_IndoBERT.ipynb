{
  "cells": [
    {
      "cell_type": "markdown",
      "metadata": {
        "id": "f7UvCWa5iIvY"
      },
      "source": [
        "# **1. Cek resource**"
      ]
    },
    {
      "cell_type": "code",
      "execution_count": null,
      "metadata": {
        "colab": {
          "base_uri": "https://localhost:8080/"
        },
        "id": "G2ir5JFA-htd",
        "outputId": "3f3e856a-16aa-4a96-c5c9-e72f8d02eddb"
      },
      "outputs": [
        {
          "output_type": "stream",
          "name": "stdout",
          "text": [
            "there are 1 GPU(s) available.\n",
            "we will use the GPU:  Tesla T4\n"
          ]
        }
      ],
      "source": [
        "import torch\n",
        "\n",
        "if torch.cuda.is_available():\n",
        "  device = torch.device('cuda')\n",
        "\n",
        "  print('there are %d GPU(s) available.' % torch.cuda.device_count())\n",
        "\n",
        "  print('we will use the GPU: ', torch.cuda.get_device_name(0))\n",
        "  USE_CUDA = True\n",
        "else:\n",
        "  USE_CUDA = False\n",
        "  print(\"No GPU available, using the CPU instead\")\n",
        "  device = torch.device(\"cpu\")"
      ]
    },
    {
      "cell_type": "code",
      "execution_count": null,
      "metadata": {
        "colab": {
          "base_uri": "https://localhost:8080/"
        },
        "id": "04RmMFdIAO9R",
        "outputId": "9ccf27df-1e66-4f11-c292-8113e82a0b6f"
      },
      "outputs": [
        {
          "output_type": "stream",
          "name": "stdout",
          "text": [
            "Mounted at /content/gdrive\n"
          ]
        }
      ],
      "source": [
        "from google.colab import drive\n",
        "drive.mount('/content/gdrive')"
      ]
    },
    {
      "cell_type": "code",
      "execution_count": null,
      "metadata": {
        "colab": {
          "base_uri": "https://localhost:8080/"
        },
        "id": "xXqKnVVn_P-H",
        "outputId": "770000fd-e1fd-4134-8146-878b81d2efe0"
      },
      "outputs": [
        {
          "output_type": "stream",
          "name": "stdout",
          "text": [
            "Collecting transformers\n",
            "  Downloading transformers-4.30.2-py3-none-any.whl (7.2 MB)\n",
            "\u001b[2K     \u001b[90m━━━━━━━━━━━━━━━━━━━━━━━━━━━━━━━━━━━━━━━━\u001b[0m \u001b[32m7.2/7.2 MB\u001b[0m \u001b[31m93.1 MB/s\u001b[0m eta \u001b[36m0:00:00\u001b[0m\n",
            "\u001b[?25hRequirement already satisfied: filelock in /usr/local/lib/python3.10/dist-packages (from transformers) (3.12.2)\n",
            "Collecting huggingface-hub<1.0,>=0.14.1 (from transformers)\n",
            "  Downloading huggingface_hub-0.16.4-py3-none-any.whl (268 kB)\n",
            "\u001b[2K     \u001b[90m━━━━━━━━━━━━━━━━━━━━━━━━━━━━━━━━━━━━━━\u001b[0m \u001b[32m268.8/268.8 kB\u001b[0m \u001b[31m30.6 MB/s\u001b[0m eta \u001b[36m0:00:00\u001b[0m\n",
            "\u001b[?25hRequirement already satisfied: numpy>=1.17 in /usr/local/lib/python3.10/dist-packages (from transformers) (1.22.4)\n",
            "Requirement already satisfied: packaging>=20.0 in /usr/local/lib/python3.10/dist-packages (from transformers) (23.1)\n",
            "Requirement already satisfied: pyyaml>=5.1 in /usr/local/lib/python3.10/dist-packages (from transformers) (6.0)\n",
            "Requirement already satisfied: regex!=2019.12.17 in /usr/local/lib/python3.10/dist-packages (from transformers) (2022.10.31)\n",
            "Requirement already satisfied: requests in /usr/local/lib/python3.10/dist-packages (from transformers) (2.27.1)\n",
            "Collecting tokenizers!=0.11.3,<0.14,>=0.11.1 (from transformers)\n",
            "  Downloading tokenizers-0.13.3-cp310-cp310-manylinux_2_17_x86_64.manylinux2014_x86_64.whl (7.8 MB)\n",
            "\u001b[2K     \u001b[90m━━━━━━━━━━━━━━━━━━━━━━━━━━━━━━━━━━━━━━━━\u001b[0m \u001b[32m7.8/7.8 MB\u001b[0m \u001b[31m116.0 MB/s\u001b[0m eta \u001b[36m0:00:00\u001b[0m\n",
            "\u001b[?25hCollecting safetensors>=0.3.1 (from transformers)\n",
            "  Downloading safetensors-0.3.1-cp310-cp310-manylinux_2_17_x86_64.manylinux2014_x86_64.whl (1.3 MB)\n",
            "\u001b[2K     \u001b[90m━━━━━━━━━━━━━━━━━━━━━━━━━━━━━━━━━━━━━━━━\u001b[0m \u001b[32m1.3/1.3 MB\u001b[0m \u001b[31m85.1 MB/s\u001b[0m eta \u001b[36m0:00:00\u001b[0m\n",
            "\u001b[?25hRequirement already satisfied: tqdm>=4.27 in /usr/local/lib/python3.10/dist-packages (from transformers) (4.65.0)\n",
            "Requirement already satisfied: fsspec in /usr/local/lib/python3.10/dist-packages (from huggingface-hub<1.0,>=0.14.1->transformers) (2023.6.0)\n",
            "Requirement already satisfied: typing-extensions>=3.7.4.3 in /usr/local/lib/python3.10/dist-packages (from huggingface-hub<1.0,>=0.14.1->transformers) (4.7.1)\n",
            "Requirement already satisfied: urllib3<1.27,>=1.21.1 in /usr/local/lib/python3.10/dist-packages (from requests->transformers) (1.26.16)\n",
            "Requirement already satisfied: certifi>=2017.4.17 in /usr/local/lib/python3.10/dist-packages (from requests->transformers) (2023.5.7)\n",
            "Requirement already satisfied: charset-normalizer~=2.0.0 in /usr/local/lib/python3.10/dist-packages (from requests->transformers) (2.0.12)\n",
            "Requirement already satisfied: idna<4,>=2.5 in /usr/local/lib/python3.10/dist-packages (from requests->transformers) (3.4)\n",
            "Installing collected packages: tokenizers, safetensors, huggingface-hub, transformers\n",
            "Successfully installed huggingface-hub-0.16.4 safetensors-0.3.1 tokenizers-0.13.3 transformers-4.30.2\n"
          ]
        }
      ],
      "source": [
        "!pip install transformers"
      ]
    },
    {
      "cell_type": "markdown",
      "metadata": {
        "id": "6wVQtUNeOoF8"
      },
      "source": [
        "## Import library"
      ]
    },
    {
      "cell_type": "code",
      "execution_count": null,
      "metadata": {
        "id": "yvcc-7dXK_fP"
      },
      "outputs": [],
      "source": [
        "import pandas as pd"
      ]
    },
    {
      "cell_type": "code",
      "execution_count": null,
      "metadata": {
        "id": "Nf45XycNNlwV"
      },
      "outputs": [],
      "source": [
        "import time\n",
        "import datetime\n",
        "from tqdm import tqdm\n",
        "\n",
        "def format_time(elapsed):\n",
        "  elapsed_rounded = int(round(elapsed))\n",
        "  return str(datetime.timedelta(seconds=elapsed_rounded))"
      ]
    },
    {
      "cell_type": "markdown",
      "metadata": {
        "id": "KQkHoz0dOhwL"
      },
      "source": [
        "# Preparation"
      ]
    },
    {
      "cell_type": "markdown",
      "metadata": {
        "id": "oyL_J4UR8nhU"
      },
      "source": [
        "## Config"
      ]
    },
    {
      "cell_type": "code",
      "execution_count": null,
      "metadata": {
        "id": "aTd4XtTs8nhU"
      },
      "outputs": [],
      "source": [
        "RANDOM_SEED = 843734\n",
        "max_seq = 128\n",
        "l_rate = 2e-5   # or 5e-5\n",
        "epochs = 20\n",
        "batch_size = 16  # or 32\n",
        "patience = 5\n",
        "OUTPUT_DIM = 2 # Binary\n",
        "\n",
        "main_path = \"/content/gdrive/My Drive/TA/Ards/\"\n",
        "\n",
        "dataset_path = main_path + \"datas/datasets_cleaned.csv\"\n",
        "graph_path =  main_path + \"graph/\"\n",
        "report_path =  main_path + \"report/\"\n",
        "\n",
        "bert_path = 'indobenchmark/indobert-base-p2'\n",
        "model_name = \"indobert_2e5_16\"\n",
        "model_save_name = F\"{model_name}.pth\"\n",
        "model_identifier = \"f_\"\n",
        "model_path = F\"{main_path}saved/f_{model_save_name}\"\n",
        "tokenizer_path = F\"{main_path}tokenizer/{model_name}\"\n",
        "best_model_path = F\"{main_path}saved/b_{model_save_name}\""
      ]
    },
    {
      "cell_type": "markdown",
      "metadata": {
        "id": "c24O-0OIKcyw"
      },
      "source": [
        "# Load Data"
      ]
    },
    {
      "cell_type": "code",
      "execution_count": null,
      "metadata": {
        "colab": {
          "base_uri": "https://localhost:8080/"
        },
        "id": "_LAr5ObBKbs1",
        "outputId": "76af174e-42bb-4ceb-a7ce-cd5f78848ba0"
      },
      "outputs": [
        {
          "output_type": "execute_result",
          "data": {
            "text/plain": [
              "   ï»¿usefulness       userName  score             at  \\\n",
              "0              1        IYAN JM      1  1/5/2023 7:22   \n",
              "1              1     Abdul Gani      1  1/5/2023 5:58   \n",
              "2              1          oplet      1  1/5/2023 3:25   \n",
              "3              0  Yudi Novianto      3  1/5/2023 3:13   \n",
              "4              0  holdi saputra      1  1/5/2023 0:18   \n",
              "\n",
              "                                             content  \n",
              "0  tidak bisa upload foto ktp maupun stnk baik la...  \n",
              "1  pembayaran ovo tidak bisa saya sudah isi ovo s...  \n",
              "2                 sudah daftar tapi tidak bisa masuk  \n",
              "3  kalo di saya aplikasi ini tidak terlalu bermas...  \n",
              "4  aplikasi tidak ada guna nya kebanyakan tidak b...  "
            ],
            "text/html": [
              "\n",
              "\n",
              "  <div id=\"df-cc89ffe7-775a-43b6-9e01-1188feb758ee\">\n",
              "    <div class=\"colab-df-container\">\n",
              "      <div>\n",
              "<style scoped>\n",
              "    .dataframe tbody tr th:only-of-type {\n",
              "        vertical-align: middle;\n",
              "    }\n",
              "\n",
              "    .dataframe tbody tr th {\n",
              "        vertical-align: top;\n",
              "    }\n",
              "\n",
              "    .dataframe thead th {\n",
              "        text-align: right;\n",
              "    }\n",
              "</style>\n",
              "<table border=\"1\" class=\"dataframe\">\n",
              "  <thead>\n",
              "    <tr style=\"text-align: right;\">\n",
              "      <th></th>\n",
              "      <th>ï»¿usefulness</th>\n",
              "      <th>userName</th>\n",
              "      <th>score</th>\n",
              "      <th>at</th>\n",
              "      <th>content</th>\n",
              "    </tr>\n",
              "  </thead>\n",
              "  <tbody>\n",
              "    <tr>\n",
              "      <th>0</th>\n",
              "      <td>1</td>\n",
              "      <td>IYAN JM</td>\n",
              "      <td>1</td>\n",
              "      <td>1/5/2023 7:22</td>\n",
              "      <td>tidak bisa upload foto ktp maupun stnk baik la...</td>\n",
              "    </tr>\n",
              "    <tr>\n",
              "      <th>1</th>\n",
              "      <td>1</td>\n",
              "      <td>Abdul Gani</td>\n",
              "      <td>1</td>\n",
              "      <td>1/5/2023 5:58</td>\n",
              "      <td>pembayaran ovo tidak bisa saya sudah isi ovo s...</td>\n",
              "    </tr>\n",
              "    <tr>\n",
              "      <th>2</th>\n",
              "      <td>1</td>\n",
              "      <td>oplet</td>\n",
              "      <td>1</td>\n",
              "      <td>1/5/2023 3:25</td>\n",
              "      <td>sudah daftar tapi tidak bisa masuk</td>\n",
              "    </tr>\n",
              "    <tr>\n",
              "      <th>3</th>\n",
              "      <td>0</td>\n",
              "      <td>Yudi Novianto</td>\n",
              "      <td>3</td>\n",
              "      <td>1/5/2023 3:13</td>\n",
              "      <td>kalo di saya aplikasi ini tidak terlalu bermas...</td>\n",
              "    </tr>\n",
              "    <tr>\n",
              "      <th>4</th>\n",
              "      <td>0</td>\n",
              "      <td>holdi saputra</td>\n",
              "      <td>1</td>\n",
              "      <td>1/5/2023 0:18</td>\n",
              "      <td>aplikasi tidak ada guna nya kebanyakan tidak b...</td>\n",
              "    </tr>\n",
              "  </tbody>\n",
              "</table>\n",
              "</div>\n",
              "      <button class=\"colab-df-convert\" onclick=\"convertToInteractive('df-cc89ffe7-775a-43b6-9e01-1188feb758ee')\"\n",
              "              title=\"Convert this dataframe to an interactive table.\"\n",
              "              style=\"display:none;\">\n",
              "\n",
              "  <svg xmlns=\"http://www.w3.org/2000/svg\" height=\"24px\"viewBox=\"0 0 24 24\"\n",
              "       width=\"24px\">\n",
              "    <path d=\"M0 0h24v24H0V0z\" fill=\"none\"/>\n",
              "    <path d=\"M18.56 5.44l.94 2.06.94-2.06 2.06-.94-2.06-.94-.94-2.06-.94 2.06-2.06.94zm-11 1L8.5 8.5l.94-2.06 2.06-.94-2.06-.94L8.5 2.5l-.94 2.06-2.06.94zm10 10l.94 2.06.94-2.06 2.06-.94-2.06-.94-.94-2.06-.94 2.06-2.06.94z\"/><path d=\"M17.41 7.96l-1.37-1.37c-.4-.4-.92-.59-1.43-.59-.52 0-1.04.2-1.43.59L10.3 9.45l-7.72 7.72c-.78.78-.78 2.05 0 2.83L4 21.41c.39.39.9.59 1.41.59.51 0 1.02-.2 1.41-.59l7.78-7.78 2.81-2.81c.8-.78.8-2.07 0-2.86zM5.41 20L4 18.59l7.72-7.72 1.47 1.35L5.41 20z\"/>\n",
              "  </svg>\n",
              "      </button>\n",
              "\n",
              "\n",
              "\n",
              "    <div id=\"df-9bc26d19-73fc-4b37-8fb1-1b9758d9baba\">\n",
              "      <button class=\"colab-df-quickchart\" onclick=\"quickchart('df-9bc26d19-73fc-4b37-8fb1-1b9758d9baba')\"\n",
              "              title=\"Suggest charts.\"\n",
              "              style=\"display:none;\">\n",
              "\n",
              "<svg xmlns=\"http://www.w3.org/2000/svg\" height=\"24px\"viewBox=\"0 0 24 24\"\n",
              "     width=\"24px\">\n",
              "    <g>\n",
              "        <path d=\"M19 3H5c-1.1 0-2 .9-2 2v14c0 1.1.9 2 2 2h14c1.1 0 2-.9 2-2V5c0-1.1-.9-2-2-2zM9 17H7v-7h2v7zm4 0h-2V7h2v10zm4 0h-2v-4h2v4z\"/>\n",
              "    </g>\n",
              "</svg>\n",
              "      </button>\n",
              "    </div>\n",
              "\n",
              "<style>\n",
              "  .colab-df-quickchart {\n",
              "    background-color: #E8F0FE;\n",
              "    border: none;\n",
              "    border-radius: 50%;\n",
              "    cursor: pointer;\n",
              "    display: none;\n",
              "    fill: #1967D2;\n",
              "    height: 32px;\n",
              "    padding: 0 0 0 0;\n",
              "    width: 32px;\n",
              "  }\n",
              "\n",
              "  .colab-df-quickchart:hover {\n",
              "    background-color: #E2EBFA;\n",
              "    box-shadow: 0px 1px 2px rgba(60, 64, 67, 0.3), 0px 1px 3px 1px rgba(60, 64, 67, 0.15);\n",
              "    fill: #174EA6;\n",
              "  }\n",
              "\n",
              "  [theme=dark] .colab-df-quickchart {\n",
              "    background-color: #3B4455;\n",
              "    fill: #D2E3FC;\n",
              "  }\n",
              "\n",
              "  [theme=dark] .colab-df-quickchart:hover {\n",
              "    background-color: #434B5C;\n",
              "    box-shadow: 0px 1px 3px 1px rgba(0, 0, 0, 0.15);\n",
              "    filter: drop-shadow(0px 1px 2px rgba(0, 0, 0, 0.3));\n",
              "    fill: #FFFFFF;\n",
              "  }\n",
              "</style>\n",
              "\n",
              "    <script>\n",
              "      async function quickchart(key) {\n",
              "        const containerElement = document.querySelector('#' + key);\n",
              "        const charts = await google.colab.kernel.invokeFunction(\n",
              "            'suggestCharts', [key], {});\n",
              "      }\n",
              "    </script>\n",
              "\n",
              "      <script>\n",
              "\n",
              "function displayQuickchartButton(domScope) {\n",
              "  let quickchartButtonEl =\n",
              "    domScope.querySelector('#df-9bc26d19-73fc-4b37-8fb1-1b9758d9baba button.colab-df-quickchart');\n",
              "  quickchartButtonEl.style.display =\n",
              "    google.colab.kernel.accessAllowed ? 'block' : 'none';\n",
              "}\n",
              "\n",
              "        displayQuickchartButton(document);\n",
              "      </script>\n",
              "      <style>\n",
              "    .colab-df-container {\n",
              "      display:flex;\n",
              "      flex-wrap:wrap;\n",
              "      gap: 12px;\n",
              "    }\n",
              "\n",
              "    .colab-df-convert {\n",
              "      background-color: #E8F0FE;\n",
              "      border: none;\n",
              "      border-radius: 50%;\n",
              "      cursor: pointer;\n",
              "      display: none;\n",
              "      fill: #1967D2;\n",
              "      height: 32px;\n",
              "      padding: 0 0 0 0;\n",
              "      width: 32px;\n",
              "    }\n",
              "\n",
              "    .colab-df-convert:hover {\n",
              "      background-color: #E2EBFA;\n",
              "      box-shadow: 0px 1px 2px rgba(60, 64, 67, 0.3), 0px 1px 3px 1px rgba(60, 64, 67, 0.15);\n",
              "      fill: #174EA6;\n",
              "    }\n",
              "\n",
              "    [theme=dark] .colab-df-convert {\n",
              "      background-color: #3B4455;\n",
              "      fill: #D2E3FC;\n",
              "    }\n",
              "\n",
              "    [theme=dark] .colab-df-convert:hover {\n",
              "      background-color: #434B5C;\n",
              "      box-shadow: 0px 1px 3px 1px rgba(0, 0, 0, 0.15);\n",
              "      filter: drop-shadow(0px 1px 2px rgba(0, 0, 0, 0.3));\n",
              "      fill: #FFFFFF;\n",
              "    }\n",
              "  </style>\n",
              "\n",
              "      <script>\n",
              "        const buttonEl =\n",
              "          document.querySelector('#df-cc89ffe7-775a-43b6-9e01-1188feb758ee button.colab-df-convert');\n",
              "        buttonEl.style.display =\n",
              "          google.colab.kernel.accessAllowed ? 'block' : 'none';\n",
              "\n",
              "        async function convertToInteractive(key) {\n",
              "          const element = document.querySelector('#df-cc89ffe7-775a-43b6-9e01-1188feb758ee');\n",
              "          const dataTable =\n",
              "            await google.colab.kernel.invokeFunction('convertToInteractive',\n",
              "                                                     [key], {});\n",
              "          if (!dataTable) return;\n",
              "\n",
              "          const docLinkHtml = 'Like what you see? Visit the ' +\n",
              "            '<a target=\"_blank\" href=https://colab.research.google.com/notebooks/data_table.ipynb>data table notebook</a>'\n",
              "            + ' to learn more about interactive tables.';\n",
              "          element.innerHTML = '';\n",
              "          dataTable['output_type'] = 'display_data';\n",
              "          await google.colab.output.renderOutput(dataTable, element);\n",
              "          const docLink = document.createElement('div');\n",
              "          docLink.innerHTML = docLinkHtml;\n",
              "          element.appendChild(docLink);\n",
              "        }\n",
              "      </script>\n",
              "    </div>\n",
              "  </div>\n"
            ]
          },
          "metadata": {},
          "execution_count": 9
        }
      ],
      "source": [
        "df=pd.read_csv(dataset_path, encoding='latin-1')\n",
        "df.head()"
      ]
    },
    {
      "cell_type": "code",
      "execution_count": null,
      "metadata": {
        "colab": {
          "base_uri": "https://localhost:8080/"
        },
        "id": "4heuuPK8Llak",
        "outputId": "bdcd0b71-9d17-4cf6-8f41-d780bd96b8f1"
      },
      "outputs": [
        {
          "output_type": "execute_result",
          "data": {
            "text/plain": [
              "   label       userName  score             at  \\\n",
              "0      1        IYAN JM      1  1/5/2023 7:22   \n",
              "1      1     Abdul Gani      1  1/5/2023 5:58   \n",
              "2      1          oplet      1  1/5/2023 3:25   \n",
              "3      0  Yudi Novianto      3  1/5/2023 3:13   \n",
              "4      0  holdi saputra      1  1/5/2023 0:18   \n",
              "\n",
              "                                                text  \n",
              "0  tidak bisa upload foto ktp maupun stnk baik la...  \n",
              "1  pembayaran ovo tidak bisa saya sudah isi ovo s...  \n",
              "2                 sudah daftar tapi tidak bisa masuk  \n",
              "3  kalo di saya aplikasi ini tidak terlalu bermas...  \n",
              "4  aplikasi tidak ada guna nya kebanyakan tidak b...  "
            ],
            "text/html": [
              "\n",
              "\n",
              "  <div id=\"df-84eab897-9f2e-4230-926d-eb177e522b2d\">\n",
              "    <div class=\"colab-df-container\">\n",
              "      <div>\n",
              "<style scoped>\n",
              "    .dataframe tbody tr th:only-of-type {\n",
              "        vertical-align: middle;\n",
              "    }\n",
              "\n",
              "    .dataframe tbody tr th {\n",
              "        vertical-align: top;\n",
              "    }\n",
              "\n",
              "    .dataframe thead th {\n",
              "        text-align: right;\n",
              "    }\n",
              "</style>\n",
              "<table border=\"1\" class=\"dataframe\">\n",
              "  <thead>\n",
              "    <tr style=\"text-align: right;\">\n",
              "      <th></th>\n",
              "      <th>label</th>\n",
              "      <th>userName</th>\n",
              "      <th>score</th>\n",
              "      <th>at</th>\n",
              "      <th>text</th>\n",
              "    </tr>\n",
              "  </thead>\n",
              "  <tbody>\n",
              "    <tr>\n",
              "      <th>0</th>\n",
              "      <td>1</td>\n",
              "      <td>IYAN JM</td>\n",
              "      <td>1</td>\n",
              "      <td>1/5/2023 7:22</td>\n",
              "      <td>tidak bisa upload foto ktp maupun stnk baik la...</td>\n",
              "    </tr>\n",
              "    <tr>\n",
              "      <th>1</th>\n",
              "      <td>1</td>\n",
              "      <td>Abdul Gani</td>\n",
              "      <td>1</td>\n",
              "      <td>1/5/2023 5:58</td>\n",
              "      <td>pembayaran ovo tidak bisa saya sudah isi ovo s...</td>\n",
              "    </tr>\n",
              "    <tr>\n",
              "      <th>2</th>\n",
              "      <td>1</td>\n",
              "      <td>oplet</td>\n",
              "      <td>1</td>\n",
              "      <td>1/5/2023 3:25</td>\n",
              "      <td>sudah daftar tapi tidak bisa masuk</td>\n",
              "    </tr>\n",
              "    <tr>\n",
              "      <th>3</th>\n",
              "      <td>0</td>\n",
              "      <td>Yudi Novianto</td>\n",
              "      <td>3</td>\n",
              "      <td>1/5/2023 3:13</td>\n",
              "      <td>kalo di saya aplikasi ini tidak terlalu bermas...</td>\n",
              "    </tr>\n",
              "    <tr>\n",
              "      <th>4</th>\n",
              "      <td>0</td>\n",
              "      <td>holdi saputra</td>\n",
              "      <td>1</td>\n",
              "      <td>1/5/2023 0:18</td>\n",
              "      <td>aplikasi tidak ada guna nya kebanyakan tidak b...</td>\n",
              "    </tr>\n",
              "  </tbody>\n",
              "</table>\n",
              "</div>\n",
              "      <button class=\"colab-df-convert\" onclick=\"convertToInteractive('df-84eab897-9f2e-4230-926d-eb177e522b2d')\"\n",
              "              title=\"Convert this dataframe to an interactive table.\"\n",
              "              style=\"display:none;\">\n",
              "\n",
              "  <svg xmlns=\"http://www.w3.org/2000/svg\" height=\"24px\"viewBox=\"0 0 24 24\"\n",
              "       width=\"24px\">\n",
              "    <path d=\"M0 0h24v24H0V0z\" fill=\"none\"/>\n",
              "    <path d=\"M18.56 5.44l.94 2.06.94-2.06 2.06-.94-2.06-.94-.94-2.06-.94 2.06-2.06.94zm-11 1L8.5 8.5l.94-2.06 2.06-.94-2.06-.94L8.5 2.5l-.94 2.06-2.06.94zm10 10l.94 2.06.94-2.06 2.06-.94-2.06-.94-.94-2.06-.94 2.06-2.06.94z\"/><path d=\"M17.41 7.96l-1.37-1.37c-.4-.4-.92-.59-1.43-.59-.52 0-1.04.2-1.43.59L10.3 9.45l-7.72 7.72c-.78.78-.78 2.05 0 2.83L4 21.41c.39.39.9.59 1.41.59.51 0 1.02-.2 1.41-.59l7.78-7.78 2.81-2.81c.8-.78.8-2.07 0-2.86zM5.41 20L4 18.59l7.72-7.72 1.47 1.35L5.41 20z\"/>\n",
              "  </svg>\n",
              "      </button>\n",
              "\n",
              "\n",
              "\n",
              "    <div id=\"df-3d88caf1-5bd8-4179-9a33-38865289d7c8\">\n",
              "      <button class=\"colab-df-quickchart\" onclick=\"quickchart('df-3d88caf1-5bd8-4179-9a33-38865289d7c8')\"\n",
              "              title=\"Suggest charts.\"\n",
              "              style=\"display:none;\">\n",
              "\n",
              "<svg xmlns=\"http://www.w3.org/2000/svg\" height=\"24px\"viewBox=\"0 0 24 24\"\n",
              "     width=\"24px\">\n",
              "    <g>\n",
              "        <path d=\"M19 3H5c-1.1 0-2 .9-2 2v14c0 1.1.9 2 2 2h14c1.1 0 2-.9 2-2V5c0-1.1-.9-2-2-2zM9 17H7v-7h2v7zm4 0h-2V7h2v10zm4 0h-2v-4h2v4z\"/>\n",
              "    </g>\n",
              "</svg>\n",
              "      </button>\n",
              "    </div>\n",
              "\n",
              "<style>\n",
              "  .colab-df-quickchart {\n",
              "    background-color: #E8F0FE;\n",
              "    border: none;\n",
              "    border-radius: 50%;\n",
              "    cursor: pointer;\n",
              "    display: none;\n",
              "    fill: #1967D2;\n",
              "    height: 32px;\n",
              "    padding: 0 0 0 0;\n",
              "    width: 32px;\n",
              "  }\n",
              "\n",
              "  .colab-df-quickchart:hover {\n",
              "    background-color: #E2EBFA;\n",
              "    box-shadow: 0px 1px 2px rgba(60, 64, 67, 0.3), 0px 1px 3px 1px rgba(60, 64, 67, 0.15);\n",
              "    fill: #174EA6;\n",
              "  }\n",
              "\n",
              "  [theme=dark] .colab-df-quickchart {\n",
              "    background-color: #3B4455;\n",
              "    fill: #D2E3FC;\n",
              "  }\n",
              "\n",
              "  [theme=dark] .colab-df-quickchart:hover {\n",
              "    background-color: #434B5C;\n",
              "    box-shadow: 0px 1px 3px 1px rgba(0, 0, 0, 0.15);\n",
              "    filter: drop-shadow(0px 1px 2px rgba(0, 0, 0, 0.3));\n",
              "    fill: #FFFFFF;\n",
              "  }\n",
              "</style>\n",
              "\n",
              "    <script>\n",
              "      async function quickchart(key) {\n",
              "        const containerElement = document.querySelector('#' + key);\n",
              "        const charts = await google.colab.kernel.invokeFunction(\n",
              "            'suggestCharts', [key], {});\n",
              "      }\n",
              "    </script>\n",
              "\n",
              "      <script>\n",
              "\n",
              "function displayQuickchartButton(domScope) {\n",
              "  let quickchartButtonEl =\n",
              "    domScope.querySelector('#df-3d88caf1-5bd8-4179-9a33-38865289d7c8 button.colab-df-quickchart');\n",
              "  quickchartButtonEl.style.display =\n",
              "    google.colab.kernel.accessAllowed ? 'block' : 'none';\n",
              "}\n",
              "\n",
              "        displayQuickchartButton(document);\n",
              "      </script>\n",
              "      <style>\n",
              "    .colab-df-container {\n",
              "      display:flex;\n",
              "      flex-wrap:wrap;\n",
              "      gap: 12px;\n",
              "    }\n",
              "\n",
              "    .colab-df-convert {\n",
              "      background-color: #E8F0FE;\n",
              "      border: none;\n",
              "      border-radius: 50%;\n",
              "      cursor: pointer;\n",
              "      display: none;\n",
              "      fill: #1967D2;\n",
              "      height: 32px;\n",
              "      padding: 0 0 0 0;\n",
              "      width: 32px;\n",
              "    }\n",
              "\n",
              "    .colab-df-convert:hover {\n",
              "      background-color: #E2EBFA;\n",
              "      box-shadow: 0px 1px 2px rgba(60, 64, 67, 0.3), 0px 1px 3px 1px rgba(60, 64, 67, 0.15);\n",
              "      fill: #174EA6;\n",
              "    }\n",
              "\n",
              "    [theme=dark] .colab-df-convert {\n",
              "      background-color: #3B4455;\n",
              "      fill: #D2E3FC;\n",
              "    }\n",
              "\n",
              "    [theme=dark] .colab-df-convert:hover {\n",
              "      background-color: #434B5C;\n",
              "      box-shadow: 0px 1px 3px 1px rgba(0, 0, 0, 0.15);\n",
              "      filter: drop-shadow(0px 1px 2px rgba(0, 0, 0, 0.3));\n",
              "      fill: #FFFFFF;\n",
              "    }\n",
              "  </style>\n",
              "\n",
              "      <script>\n",
              "        const buttonEl =\n",
              "          document.querySelector('#df-84eab897-9f2e-4230-926d-eb177e522b2d button.colab-df-convert');\n",
              "        buttonEl.style.display =\n",
              "          google.colab.kernel.accessAllowed ? 'block' : 'none';\n",
              "\n",
              "        async function convertToInteractive(key) {\n",
              "          const element = document.querySelector('#df-84eab897-9f2e-4230-926d-eb177e522b2d');\n",
              "          const dataTable =\n",
              "            await google.colab.kernel.invokeFunction('convertToInteractive',\n",
              "                                                     [key], {});\n",
              "          if (!dataTable) return;\n",
              "\n",
              "          const docLinkHtml = 'Like what you see? Visit the ' +\n",
              "            '<a target=\"_blank\" href=https://colab.research.google.com/notebooks/data_table.ipynb>data table notebook</a>'\n",
              "            + ' to learn more about interactive tables.';\n",
              "          element.innerHTML = '';\n",
              "          dataTable['output_type'] = 'display_data';\n",
              "          await google.colab.output.renderOutput(dataTable, element);\n",
              "          const docLink = document.createElement('div');\n",
              "          docLink.innerHTML = docLinkHtml;\n",
              "          element.appendChild(docLink);\n",
              "        }\n",
              "      </script>\n",
              "    </div>\n",
              "  </div>\n"
            ]
          },
          "metadata": {},
          "execution_count": 10
        }
      ],
      "source": [
        "df = df.rename(columns={'content': 'text', 'ï»¿usefulness': 'label'})\n",
        "df.head()"
      ]
    },
    {
      "cell_type": "code",
      "execution_count": null,
      "metadata": {
        "id": "JgBTtBB3LgY0"
      },
      "outputs": [],
      "source": [
        "text = df['text']\n",
        "labels = df['label']"
      ]
    },
    {
      "cell_type": "code",
      "execution_count": null,
      "metadata": {
        "colab": {
          "base_uri": "https://localhost:8080/"
        },
        "id": "P34rkf9b-nNY",
        "outputId": "9387fe6c-8e07-4a09-9de5-03f8de2ca770"
      },
      "outputs": [
        {
          "output_type": "execute_result",
          "data": {
            "text/plain": [
              "1    5205\n",
              "0    5205\n",
              "Name: label, dtype: int64"
            ]
          },
          "metadata": {},
          "execution_count": 12
        }
      ],
      "source": [
        "labels.value_counts()"
      ]
    },
    {
      "cell_type": "markdown",
      "metadata": {
        "id": "FyVNqDIcZw60"
      },
      "source": [
        "# Tokenizing"
      ]
    },
    {
      "cell_type": "code",
      "execution_count": null,
      "metadata": {
        "id": "zJ5z4I-xZw7C"
      },
      "outputs": [],
      "source": [
        "import torch\n",
        "\n",
        "import random\n",
        "import numpy as np"
      ]
    },
    {
      "cell_type": "code",
      "execution_count": null,
      "metadata": {
        "id": "ZXXzN6jCZw7D"
      },
      "outputs": [],
      "source": [
        "def set_seed(seed):\n",
        "    random.seed(seed)\n",
        "    np.random.seed(seed)\n",
        "    torch.manual_seed(seed)\n",
        "    torch.cuda.manual_seed(seed)\n",
        "\n",
        "def get_lr(optimizer):\n",
        "    for param_group in optimizer.param_groups:\n",
        "        return param_group['lr']"
      ]
    },
    {
      "cell_type": "code",
      "execution_count": null,
      "metadata": {
        "id": "608jMu0QZw7D"
      },
      "outputs": [],
      "source": [
        "# Set random seed\n",
        "set_seed(RANDOM_SEED)"
      ]
    },
    {
      "cell_type": "code",
      "execution_count": null,
      "metadata": {
        "id": "sskAEc6CZw7E",
        "colab": {
          "base_uri": "https://localhost:8080/",
          "referenced_widgets": [
            "1f4533a2b2764af996b4bfd130ff8c87",
            "5b6c46f8de514fbaaccd051e0117cdd2",
            "1270a8ab69d84451a3c98af54a762f09",
            "39584995f5fc48199f86f67ac5bfe9f0",
            "ea341c8b4f31461bbcef093b6b0f8fe6",
            "4d495ad2fd0d412190d5b5dde46887ca",
            "4693b0da14c54845aaa76c065b2aed52",
            "9c70db700c3d4d04851d30399e66fc73",
            "d00299911ea04846b575c388de6c1dd9",
            "dbbf86a53b8547fe9434eec938f4dd51",
            "95b1959a323148428c4d3f1c830d53f3",
            "6b7cf605ba7a45e2a41f638d62378670",
            "da21a614ac1440f2a88a1c2fd0a57660",
            "6299eefc2cc24ed48d2c467f9ab9c4b4",
            "10df62e1de6247eca9c15682fa5485ef",
            "47d64914fa9c4f4ea6fbb5778d0f4d72",
            "d7f45ea3250c4f72a63128ce9a1c2e1d",
            "50fb5da990a14d3dbb25943971a61e95",
            "722ae7c7d6c947e8bd27689c93d68b09",
            "b2cee9da4d72458ca0afb3a8ae2a8a01",
            "19d6e8d82ab54177830a85e1368f55c5",
            "ba156556cffd4bb18cdd19a270f67dc2",
            "d60c85a46cad40c1a78a1ad814771595",
            "a54bbcc9fb8245458a2314a24056def7",
            "7c66445988ba4dc98a393b85262ad180",
            "afae1ae0fe684be49dbf439618b04af8",
            "005d1d5c950445e793fc70d8cb2c7b09",
            "180d22a073194363af4972563356a429",
            "5dd969b12a9e4c67a3fd0b5a81bfcc31",
            "4c6d1213e67b4483b6a0dd854152ea54",
            "2095659787014892ad18a5462efd780c",
            "c5933ba4b14b4524927129c7530bb31d",
            "57151726fc714c47891ef268cdba60a0",
            "75d6973f379e4c46a42a0225d8e4e786",
            "c4d9ab96a2d04a969a5775ab2e7591d1",
            "fa2bdca2cde04b23ba10f193a0c241dd",
            "0da10cf245734dd0b62f9c3792af0d7c",
            "c788873f70f14396b77efdf5de4c9659",
            "0877f25f3cd04225a6fc427f1ad39fec",
            "10767a76878c4a879a9f4abfe244cd4e",
            "1d4b2c1bd83c443aa05bb668f533c379",
            "cfa9e323cac84010b8eebf9d9a4d3546",
            "704386dbe9cb44d5b2a73615455ed7f9",
            "1b68bbebd3a44c59bae0b7e1860e39f6"
          ]
        },
        "outputId": "30b79c33-4c10-4f69-f96b-e6154dba7c33"
      },
      "outputs": [
        {
          "output_type": "display_data",
          "data": {
            "text/plain": [
              "Downloading (…)solve/main/vocab.txt:   0%|          | 0.00/229k [00:00<?, ?B/s]"
            ],
            "application/vnd.jupyter.widget-view+json": {
              "version_major": 2,
              "version_minor": 0,
              "model_id": "1f4533a2b2764af996b4bfd130ff8c87"
            }
          },
          "metadata": {}
        },
        {
          "output_type": "display_data",
          "data": {
            "text/plain": [
              "Downloading (…)cial_tokens_map.json:   0%|          | 0.00/112 [00:00<?, ?B/s]"
            ],
            "application/vnd.jupyter.widget-view+json": {
              "version_major": 2,
              "version_minor": 0,
              "model_id": "6b7cf605ba7a45e2a41f638d62378670"
            }
          },
          "metadata": {}
        },
        {
          "output_type": "display_data",
          "data": {
            "text/plain": [
              "Downloading (…)okenizer_config.json:   0%|          | 0.00/2.00 [00:00<?, ?B/s]"
            ],
            "application/vnd.jupyter.widget-view+json": {
              "version_major": 2,
              "version_minor": 0,
              "model_id": "d60c85a46cad40c1a78a1ad814771595"
            }
          },
          "metadata": {}
        },
        {
          "output_type": "display_data",
          "data": {
            "text/plain": [
              "Downloading (…)lve/main/config.json:   0%|          | 0.00/1.53k [00:00<?, ?B/s]"
            ],
            "application/vnd.jupyter.widget-view+json": {
              "version_major": 2,
              "version_minor": 0,
              "model_id": "75d6973f379e4c46a42a0225d8e4e786"
            }
          },
          "metadata": {}
        }
      ],
      "source": [
        "from transformers import BertTokenizer\n",
        "\n",
        "tokenizer = BertTokenizer.from_pretrained(bert_path)"
      ]
    },
    {
      "cell_type": "code",
      "execution_count": null,
      "metadata": {
        "id": "z0ECPGyVZw7E"
      },
      "outputs": [],
      "source": [
        "from tabulate import tabulate"
      ]
    },
    {
      "cell_type": "code",
      "execution_count": null,
      "metadata": {
        "id": "b5qPP9v0Zw7F"
      },
      "outputs": [],
      "source": [
        "max_length = df['text'].apply(lambda x: len(tokenizer.encode(x))).max()\n",
        "max_indices = df[df['text'].apply(lambda x: len(tokenizer.encode(x))) == max_length].index.tolist()"
      ]
    },
    {
      "cell_type": "code",
      "execution_count": null,
      "metadata": {
        "colab": {
          "base_uri": "https://localhost:8080/"
        },
        "id": "-5xzo5I5Zw7G",
        "outputId": "cb2b6b84-e635-47e2-ed48-8d4d1f5f656f"
      },
      "outputs": [
        {
          "output_type": "execute_result",
          "data": {
            "text/plain": [
              "110"
            ]
          },
          "metadata": {},
          "execution_count": 19
        }
      ],
      "source": [
        "max_length"
      ]
    },
    {
      "cell_type": "code",
      "execution_count": null,
      "metadata": {
        "id": "Ta8DDMdjZw7G"
      },
      "outputs": [],
      "source": [
        "max_indices = max_indices[0]"
      ]
    },
    {
      "cell_type": "code",
      "execution_count": null,
      "metadata": {
        "colab": {
          "base_uri": "https://localhost:8080/"
        },
        "id": "jSek1__fZw7H",
        "outputId": "92820c5c-5c5f-4417-ed11-574172d14ddc"
      },
      "outputs": [
        {
          "output_type": "execute_result",
          "data": {
            "text/plain": [
              "110"
            ]
          },
          "metadata": {},
          "execution_count": 21
        }
      ],
      "source": [
        "len(tokenizer.encode(df['text'][max_indices]))"
      ]
    },
    {
      "cell_type": "code",
      "execution_count": null,
      "metadata": {
        "colab": {
          "base_uri": "https://localhost:8080/"
        },
        "id": "abI99TJdZw7H",
        "outputId": "2b1d203b-700c-4233-f478-7b10b0e58879"
      },
      "outputs": [
        {
          "output_type": "execute_result",
          "data": {
            "text/plain": [
              "'waktu itu kendalanya setiap foto selalu maaf itu bukan struk bbk padahal jelas itu struk dari pertamina itu sudah agak benar eh sekarang tiap upload pilih dari foto ada batas scan nya dann parahnya adalah ketika baru foto kali itu bilang maaf batas scan anda habis maksudnya bagaimana coba terus juga ada keluar memory ram hp anda tidak cukup lah hape gue biasa biasa saja tuh kak kenapa kenapa dipakai fb twitter ig dan wa biasa saja kenapa repot benar pakai pertamina kalau memang nge php mengapai dibuat beginian kan mengapai meminta struk ke mbak mbaknya di pom'"
            ],
            "application/vnd.google.colaboratory.intrinsic+json": {
              "type": "string"
            }
          },
          "metadata": {},
          "execution_count": 22
        }
      ],
      "source": [
        "df['text'][max_indices]"
      ]
    },
    {
      "cell_type": "code",
      "execution_count": null,
      "metadata": {
        "id": "SsVF9CaXZw7I"
      },
      "outputs": [],
      "source": [
        "def preprocessing(input_text, tokenizer):\n",
        "  '''\n",
        "  Returns <class transformers.tokenization_utils_base.BatchEncoding> with the following fields:\n",
        "    - input_ids: list of token ids\n",
        "    - token_type_ids: list of token type ids\n",
        "    - attention_mask: list of indices (0,1) specifying which tokens should considered by the model (return_attention_mask = True).\n",
        "  '''\n",
        "  return tokenizer.encode_plus(input_text, add_special_tokens = True, max_length = max_seq,\n",
        "                        pad_to_max_length = True,\n",
        "                        return_attention_mask = True,\n",
        "                        return_tensors = 'pt'\n",
        "                   )"
      ]
    },
    {
      "cell_type": "code",
      "execution_count": null,
      "metadata": {
        "colab": {
          "base_uri": "https://localhost:8080/"
        },
        "id": "gCX_XDtsZw7I",
        "outputId": "0aca83e0-fbbf-4cd1-a870-bab8dadeac0a"
      },
      "outputs": [
        {
          "output_type": "execute_result",
          "data": {
            "text/plain": [
              "pandas.core.series.Series"
            ]
          },
          "metadata": {},
          "execution_count": 24
        }
      ],
      "source": [
        "type(text)"
      ]
    },
    {
      "cell_type": "code",
      "execution_count": null,
      "metadata": {
        "colab": {
          "base_uri": "https://localhost:8080/"
        },
        "id": "ICQjsB0fPlA0",
        "outputId": "6f58220c-7864-4fda-d9ac-4ba4e1e7a716"
      },
      "outputs": [
        {
          "output_type": "stream",
          "name": "stderr",
          "text": [
            "  0%|          | 0/10410 [00:00<?, ?it/s]Truncation was not explicitly activated but `max_length` is provided a specific value, please use `truncation=True` to explicitly truncate examples to max length. Defaulting to 'longest_first' truncation strategy. If you encode pairs of sequences (GLUE-style) with the tokenizer you can select this strategy more precisely by providing a specific strategy to `truncation`.\n",
            "/usr/local/lib/python3.10/dist-packages/transformers/tokenization_utils_base.py:2377: FutureWarning: The `pad_to_max_length` argument is deprecated and will be removed in a future version, use `padding=True` or `padding='longest'` to pad to the longest sequence in the batch, or use `padding='max_length'` to pad to a max length. In this case, you can give a specific length with `max_length` (e.g. `max_length=45`) or leave max_length to None to pad to the maximal input size of the model (e.g. 512 for Bert).\n",
            "  warnings.warn(\n",
            "100%|██████████| 10410/10410 [00:08<00:00, 1173.02it/s]\n"
          ]
        }
      ],
      "source": [
        "input_ids = []\n",
        "attention_masks = []\n",
        "\n",
        "for sample in tqdm(text.tolist()):\n",
        "  encoding_dict = preprocessing(sample, tokenizer)\n",
        "  input_ids.append(encoding_dict['input_ids'])\n",
        "  attention_masks.append(encoding_dict['attention_mask'])"
      ]
    },
    {
      "cell_type": "code",
      "execution_count": null,
      "metadata": {
        "colab": {
          "base_uri": "https://localhost:8080/"
        },
        "id": "BJnt65gnPMLM",
        "outputId": "f6037702-ff28-49ac-fc6f-928a9e34e6af"
      },
      "outputs": [
        {
          "output_type": "execute_result",
          "data": {
            "text/plain": [
              "0        1\n",
              "1        1\n",
              "2        1\n",
              "3        0\n",
              "4        0\n",
              "        ..\n",
              "10405    0\n",
              "10406    0\n",
              "10407    0\n",
              "10408    0\n",
              "10409    0\n",
              "Name: label, Length: 10410, dtype: int64"
            ]
          },
          "metadata": {},
          "execution_count": 26
        }
      ],
      "source": [
        "labels"
      ]
    },
    {
      "cell_type": "code",
      "execution_count": null,
      "metadata": {
        "id": "4PZvmcvGMsmG"
      },
      "outputs": [],
      "source": [
        "input_ids = torch.cat(input_ids, dim = 0)\n",
        "attention_masks = torch.cat(attention_masks, dim = 0)\n",
        "# labels = torch.tensor(labels)"
      ]
    },
    {
      "cell_type": "code",
      "execution_count": null,
      "metadata": {
        "id": "nyEmQtaIZw7K"
      },
      "outputs": [],
      "source": [
        "# print(\"Max token id length: \", max([len(sen) for sen in input_ids]))"
      ]
    },
    {
      "cell_type": "code",
      "execution_count": null,
      "metadata": {
        "colab": {
          "base_uri": "https://localhost:8080/"
        },
        "id": "Z5ck_0DYwnGl",
        "outputId": "fdfb29e7-f22c-46ef-dc94-f47fd4919215"
      },
      "outputs": [
        {
          "output_type": "execute_result",
          "data": {
            "text/plain": [
              "0        1\n",
              "1        1\n",
              "2        1\n",
              "3        0\n",
              "4        0\n",
              "        ..\n",
              "10405    0\n",
              "10406    0\n",
              "10407    0\n",
              "10408    0\n",
              "10409    0\n",
              "Name: label, Length: 10410, dtype: int64"
            ]
          },
          "metadata": {},
          "execution_count": 29
        }
      ],
      "source": [
        "labels"
      ]
    },
    {
      "cell_type": "markdown",
      "metadata": {
        "id": "G1gwQie2Zw7L"
      },
      "source": [
        "### Observe some random tokenized data"
      ]
    },
    {
      "cell_type": "code",
      "execution_count": null,
      "metadata": {
        "id": "-mtRTjfPZw7M"
      },
      "outputs": [],
      "source": [
        "# train_input[max_indices]"
      ]
    },
    {
      "cell_type": "code",
      "execution_count": null,
      "metadata": {
        "colab": {
          "base_uri": "https://localhost:8080/"
        },
        "id": "Nvuo95aIZw7M",
        "outputId": "4f9dfd31-7bf4-43f2-f25a-fcff1e55a0e1"
      },
      "outputs": [
        {
          "output_type": "stream",
          "name": "stdout",
          "text": [
            "╒══════════╤═════════════╤══════════════════╕\n",
            "│ Tokens   │   Token IDs │   Attention Mask │\n",
            "╞══════════╪═════════════╪══════════════════╡\n",
            "│ [CLS]    │           2 │                1 │\n",
            "├──────────┼─────────────┼──────────────────┤\n",
            "│ rakyat   │        1829 │                1 │\n",
            "├──────────┼─────────────┼──────────────────┤\n",
            "│ sudah    │         259 │                1 │\n",
            "├──────────┼─────────────┼──────────────────┤\n",
            "│ susah    │        3684 │                1 │\n",
            "├──────────┼─────────────┼──────────────────┤\n",
            "│ tambah   │        3837 │                1 │\n",
            "├──────────┼─────────────┼──────────────────┤\n",
            "│ di       │          26 │                1 │\n",
            "├──────────┼─────────────┼──────────────────┤\n",
            "│ bikin    │        2999 │                1 │\n",
            "├──────────┼─────────────┼──────────────────┤\n",
            "│ susah    │        3684 │                1 │\n",
            "├──────────┼─────────────┼──────────────────┤\n",
            "│ [SEP]    │           3 │                1 │\n",
            "├──────────┼─────────────┼──────────────────┤\n",
            "│ [PAD]    │           0 │                0 │\n",
            "├──────────┼─────────────┼──────────────────┤\n",
            "│ [PAD]    │           0 │                0 │\n",
            "├──────────┼─────────────┼──────────────────┤\n",
            "│ [PAD]    │           0 │                0 │\n",
            "├──────────┼─────────────┼──────────────────┤\n",
            "│ [PAD]    │           0 │                0 │\n",
            "├──────────┼─────────────┼──────────────────┤\n",
            "│ [PAD]    │           0 │                0 │\n",
            "├──────────┼─────────────┼──────────────────┤\n",
            "│ [PAD]    │           0 │                0 │\n",
            "├──────────┼─────────────┼──────────────────┤\n",
            "│ [PAD]    │           0 │                0 │\n",
            "├──────────┼─────────────┼──────────────────┤\n",
            "│ [PAD]    │           0 │                0 │\n",
            "├──────────┼─────────────┼──────────────────┤\n",
            "│ [PAD]    │           0 │                0 │\n",
            "├──────────┼─────────────┼──────────────────┤\n",
            "│ [PAD]    │           0 │                0 │\n",
            "├──────────┼─────────────┼──────────────────┤\n",
            "│ [PAD]    │           0 │                0 │\n",
            "├──────────┼─────────────┼──────────────────┤\n",
            "│ [PAD]    │           0 │                0 │\n",
            "├──────────┼─────────────┼──────────────────┤\n",
            "│ [PAD]    │           0 │                0 │\n",
            "├──────────┼─────────────┼──────────────────┤\n",
            "│ [PAD]    │           0 │                0 │\n",
            "├──────────┼─────────────┼──────────────────┤\n",
            "│ [PAD]    │           0 │                0 │\n",
            "├──────────┼─────────────┼──────────────────┤\n",
            "│ [PAD]    │           0 │                0 │\n",
            "├──────────┼─────────────┼──────────────────┤\n",
            "│ [PAD]    │           0 │                0 │\n",
            "├──────────┼─────────────┼──────────────────┤\n",
            "│ [PAD]    │           0 │                0 │\n",
            "├──────────┼─────────────┼──────────────────┤\n",
            "│ [PAD]    │           0 │                0 │\n",
            "├──────────┼─────────────┼──────────────────┤\n",
            "│ [PAD]    │           0 │                0 │\n",
            "├──────────┼─────────────┼──────────────────┤\n",
            "│ [PAD]    │           0 │                0 │\n",
            "├──────────┼─────────────┼──────────────────┤\n",
            "│ [PAD]    │           0 │                0 │\n",
            "├──────────┼─────────────┼──────────────────┤\n",
            "│ [PAD]    │           0 │                0 │\n",
            "├──────────┼─────────────┼──────────────────┤\n",
            "│ [PAD]    │           0 │                0 │\n",
            "├──────────┼─────────────┼──────────────────┤\n",
            "│ [PAD]    │           0 │                0 │\n",
            "├──────────┼─────────────┼──────────────────┤\n",
            "│ [PAD]    │           0 │                0 │\n",
            "├──────────┼─────────────┼──────────────────┤\n",
            "│ [PAD]    │           0 │                0 │\n",
            "├──────────┼─────────────┼──────────────────┤\n",
            "│ [PAD]    │           0 │                0 │\n",
            "├──────────┼─────────────┼──────────────────┤\n",
            "│ [PAD]    │           0 │                0 │\n",
            "├──────────┼─────────────┼──────────────────┤\n",
            "│ [PAD]    │           0 │                0 │\n",
            "├──────────┼─────────────┼──────────────────┤\n",
            "│ [PAD]    │           0 │                0 │\n",
            "├──────────┼─────────────┼──────────────────┤\n",
            "│ [PAD]    │           0 │                0 │\n",
            "├──────────┼─────────────┼──────────────────┤\n",
            "│ [PAD]    │           0 │                0 │\n",
            "├──────────┼─────────────┼──────────────────┤\n",
            "│ [PAD]    │           0 │                0 │\n",
            "├──────────┼─────────────┼──────────────────┤\n",
            "│ [PAD]    │           0 │                0 │\n",
            "├──────────┼─────────────┼──────────────────┤\n",
            "│ [PAD]    │           0 │                0 │\n",
            "├──────────┼─────────────┼──────────────────┤\n",
            "│ [PAD]    │           0 │                0 │\n",
            "├──────────┼─────────────┼──────────────────┤\n",
            "│ [PAD]    │           0 │                0 │\n",
            "├──────────┼─────────────┼──────────────────┤\n",
            "│ [PAD]    │           0 │                0 │\n",
            "├──────────┼─────────────┼──────────────────┤\n",
            "│ [PAD]    │           0 │                0 │\n",
            "├──────────┼─────────────┼──────────────────┤\n",
            "│ [PAD]    │           0 │                0 │\n",
            "├──────────┼─────────────┼──────────────────┤\n",
            "│ [PAD]    │           0 │                0 │\n",
            "├──────────┼─────────────┼──────────────────┤\n",
            "│ [PAD]    │           0 │                0 │\n",
            "├──────────┼─────────────┼──────────────────┤\n",
            "│ [PAD]    │           0 │                0 │\n",
            "├──────────┼─────────────┼──────────────────┤\n",
            "│ [PAD]    │           0 │                0 │\n",
            "├──────────┼─────────────┼──────────────────┤\n",
            "│ [PAD]    │           0 │                0 │\n",
            "├──────────┼─────────────┼──────────────────┤\n",
            "│ [PAD]    │           0 │                0 │\n",
            "├──────────┼─────────────┼──────────────────┤\n",
            "│ [PAD]    │           0 │                0 │\n",
            "├──────────┼─────────────┼──────────────────┤\n",
            "│ [PAD]    │           0 │                0 │\n",
            "├──────────┼─────────────┼──────────────────┤\n",
            "│ [PAD]    │           0 │                0 │\n",
            "├──────────┼─────────────┼──────────────────┤\n",
            "│ [PAD]    │           0 │                0 │\n",
            "├──────────┼─────────────┼──────────────────┤\n",
            "│ [PAD]    │           0 │                0 │\n",
            "├──────────┼─────────────┼──────────────────┤\n",
            "│ [PAD]    │           0 │                0 │\n",
            "├──────────┼─────────────┼──────────────────┤\n",
            "│ [PAD]    │           0 │                0 │\n",
            "├──────────┼─────────────┼──────────────────┤\n",
            "│ [PAD]    │           0 │                0 │\n",
            "├──────────┼─────────────┼──────────────────┤\n",
            "│ [PAD]    │           0 │                0 │\n",
            "├──────────┼─────────────┼──────────────────┤\n",
            "│ [PAD]    │           0 │                0 │\n",
            "├──────────┼─────────────┼──────────────────┤\n",
            "│ [PAD]    │           0 │                0 │\n",
            "├──────────┼─────────────┼──────────────────┤\n",
            "│ [PAD]    │           0 │                0 │\n",
            "├──────────┼─────────────┼──────────────────┤\n",
            "│ [PAD]    │           0 │                0 │\n",
            "├──────────┼─────────────┼──────────────────┤\n",
            "│ [PAD]    │           0 │                0 │\n",
            "├──────────┼─────────────┼──────────────────┤\n",
            "│ [PAD]    │           0 │                0 │\n",
            "├──────────┼─────────────┼──────────────────┤\n",
            "│ [PAD]    │           0 │                0 │\n",
            "├──────────┼─────────────┼──────────────────┤\n",
            "│ [PAD]    │           0 │                0 │\n",
            "├──────────┼─────────────┼──────────────────┤\n",
            "│ [PAD]    │           0 │                0 │\n",
            "├──────────┼─────────────┼──────────────────┤\n",
            "│ [PAD]    │           0 │                0 │\n",
            "├──────────┼─────────────┼──────────────────┤\n",
            "│ [PAD]    │           0 │                0 │\n",
            "├──────────┼─────────────┼──────────────────┤\n",
            "│ [PAD]    │           0 │                0 │\n",
            "├──────────┼─────────────┼──────────────────┤\n",
            "│ [PAD]    │           0 │                0 │\n",
            "├──────────┼─────────────┼──────────────────┤\n",
            "│ [PAD]    │           0 │                0 │\n",
            "├──────────┼─────────────┼──────────────────┤\n",
            "│ [PAD]    │           0 │                0 │\n",
            "├──────────┼─────────────┼──────────────────┤\n",
            "│ [PAD]    │           0 │                0 │\n",
            "├──────────┼─────────────┼──────────────────┤\n",
            "│ [PAD]    │           0 │                0 │\n",
            "├──────────┼─────────────┼──────────────────┤\n",
            "│ [PAD]    │           0 │                0 │\n",
            "├──────────┼─────────────┼──────────────────┤\n",
            "│ [PAD]    │           0 │                0 │\n",
            "├──────────┼─────────────┼──────────────────┤\n",
            "│ [PAD]    │           0 │                0 │\n",
            "├──────────┼─────────────┼──────────────────┤\n",
            "│ [PAD]    │           0 │                0 │\n",
            "├──────────┼─────────────┼──────────────────┤\n",
            "│ [PAD]    │           0 │                0 │\n",
            "├──────────┼─────────────┼──────────────────┤\n",
            "│ [PAD]    │           0 │                0 │\n",
            "├──────────┼─────────────┼──────────────────┤\n",
            "│ [PAD]    │           0 │                0 │\n",
            "├──────────┼─────────────┼──────────────────┤\n",
            "│ [PAD]    │           0 │                0 │\n",
            "├──────────┼─────────────┼──────────────────┤\n",
            "│ [PAD]    │           0 │                0 │\n",
            "├──────────┼─────────────┼──────────────────┤\n",
            "│ [PAD]    │           0 │                0 │\n",
            "├──────────┼─────────────┼──────────────────┤\n",
            "│ [PAD]    │           0 │                0 │\n",
            "├──────────┼─────────────┼──────────────────┤\n",
            "│ [PAD]    │           0 │                0 │\n",
            "├──────────┼─────────────┼──────────────────┤\n",
            "│ [PAD]    │           0 │                0 │\n",
            "├──────────┼─────────────┼──────────────────┤\n",
            "│ [PAD]    │           0 │                0 │\n",
            "├──────────┼─────────────┼──────────────────┤\n",
            "│ [PAD]    │           0 │                0 │\n",
            "├──────────┼─────────────┼──────────────────┤\n",
            "│ [PAD]    │           0 │                0 │\n",
            "├──────────┼─────────────┼──────────────────┤\n",
            "│ [PAD]    │           0 │                0 │\n",
            "├──────────┼─────────────┼──────────────────┤\n",
            "│ [PAD]    │           0 │                0 │\n",
            "├──────────┼─────────────┼──────────────────┤\n",
            "│ [PAD]    │           0 │                0 │\n",
            "├──────────┼─────────────┼──────────────────┤\n",
            "│ [PAD]    │           0 │                0 │\n",
            "├──────────┼─────────────┼──────────────────┤\n",
            "│ [PAD]    │           0 │                0 │\n",
            "├──────────┼─────────────┼──────────────────┤\n",
            "│ [PAD]    │           0 │                0 │\n",
            "├──────────┼─────────────┼──────────────────┤\n",
            "│ [PAD]    │           0 │                0 │\n",
            "├──────────┼─────────────┼──────────────────┤\n",
            "│ [PAD]    │           0 │                0 │\n",
            "├──────────┼─────────────┼──────────────────┤\n",
            "│ [PAD]    │           0 │                0 │\n",
            "├──────────┼─────────────┼──────────────────┤\n",
            "│ [PAD]    │           0 │                0 │\n",
            "├──────────┼─────────────┼──────────────────┤\n",
            "│ [PAD]    │           0 │                0 │\n",
            "├──────────┼─────────────┼──────────────────┤\n",
            "│ [PAD]    │           0 │                0 │\n",
            "├──────────┼─────────────┼──────────────────┤\n",
            "│ [PAD]    │           0 │                0 │\n",
            "├──────────┼─────────────┼──────────────────┤\n",
            "│ [PAD]    │           0 │                0 │\n",
            "├──────────┼─────────────┼──────────────────┤\n",
            "│ [PAD]    │           0 │                0 │\n",
            "├──────────┼─────────────┼──────────────────┤\n",
            "│ [PAD]    │           0 │                0 │\n",
            "├──────────┼─────────────┼──────────────────┤\n",
            "│ [PAD]    │           0 │                0 │\n",
            "├──────────┼─────────────┼──────────────────┤\n",
            "│ [PAD]    │           0 │                0 │\n",
            "├──────────┼─────────────┼──────────────────┤\n",
            "│ [PAD]    │           0 │                0 │\n",
            "├──────────┼─────────────┼──────────────────┤\n",
            "│ [PAD]    │           0 │                0 │\n",
            "├──────────┼─────────────┼──────────────────┤\n",
            "│ [PAD]    │           0 │                0 │\n",
            "├──────────┼─────────────┼──────────────────┤\n",
            "│ [PAD]    │           0 │                0 │\n",
            "├──────────┼─────────────┼──────────────────┤\n",
            "│ [PAD]    │           0 │                0 │\n",
            "├──────────┼─────────────┼──────────────────┤\n",
            "│ [PAD]    │           0 │                0 │\n",
            "├──────────┼─────────────┼──────────────────┤\n",
            "│ [PAD]    │           0 │                0 │\n",
            "├──────────┼─────────────┼──────────────────┤\n",
            "│ [PAD]    │           0 │                0 │\n",
            "├──────────┼─────────────┼──────────────────┤\n",
            "│ [PAD]    │           0 │                0 │\n",
            "├──────────┼─────────────┼──────────────────┤\n",
            "│ [PAD]    │           0 │                0 │\n",
            "├──────────┼─────────────┼──────────────────┤\n",
            "│ [PAD]    │           0 │                0 │\n",
            "├──────────┼─────────────┼──────────────────┤\n",
            "│ [PAD]    │           0 │                0 │\n",
            "╘══════════╧═════════════╧══════════════════╛\n",
            "Tokens       :  ['[CLS]', 'rakyat', 'sudah', 'susah', 'tambah', 'di', 'bikin', 'susah', '[SEP]', '[PAD]', '[PAD]', '[PAD]', '[PAD]', '[PAD]', '[PAD]', '[PAD]', '[PAD]', '[PAD]', '[PAD]', '[PAD]', '[PAD]', '[PAD]', '[PAD]', '[PAD]', '[PAD]', '[PAD]', '[PAD]', '[PAD]', '[PAD]', '[PAD]', '[PAD]', '[PAD]', '[PAD]', '[PAD]', '[PAD]', '[PAD]', '[PAD]', '[PAD]', '[PAD]', '[PAD]', '[PAD]', '[PAD]', '[PAD]', '[PAD]', '[PAD]', '[PAD]', '[PAD]', '[PAD]', '[PAD]', '[PAD]', '[PAD]', '[PAD]', '[PAD]', '[PAD]', '[PAD]', '[PAD]', '[PAD]', '[PAD]', '[PAD]', '[PAD]', '[PAD]', '[PAD]', '[PAD]', '[PAD]', '[PAD]', '[PAD]', '[PAD]', '[PAD]', '[PAD]', '[PAD]', '[PAD]', '[PAD]', '[PAD]', '[PAD]', '[PAD]', '[PAD]', '[PAD]', '[PAD]', '[PAD]', '[PAD]', '[PAD]', '[PAD]', '[PAD]', '[PAD]', '[PAD]', '[PAD]', '[PAD]', '[PAD]', '[PAD]', '[PAD]', '[PAD]', '[PAD]', '[PAD]', '[PAD]', '[PAD]', '[PAD]', '[PAD]', '[PAD]', '[PAD]', '[PAD]', '[PAD]', '[PAD]', '[PAD]', '[PAD]', '[PAD]', '[PAD]', '[PAD]', '[PAD]', '[PAD]', '[PAD]', '[PAD]', '[PAD]', '[PAD]', '[PAD]', '[PAD]', '[PAD]', '[PAD]', '[PAD]', '[PAD]', '[PAD]', '[PAD]', '[PAD]', '[PAD]', '[PAD]', '[PAD]', '[PAD]', '[PAD]', '[PAD]']\n",
            "Token IDs:  tensor([   2, 1829,  259, 3684, 3837,   26, 2999, 3684,    3,    0,    0,    0,\n",
            "           0,    0,    0,    0,    0,    0,    0,    0,    0,    0,    0,    0,\n",
            "           0,    0,    0,    0,    0,    0,    0,    0,    0,    0,    0,    0,\n",
            "           0,    0,    0,    0,    0,    0,    0,    0,    0,    0,    0,    0,\n",
            "           0,    0,    0,    0,    0,    0,    0,    0,    0,    0,    0,    0,\n",
            "           0,    0,    0,    0,    0,    0,    0,    0,    0,    0,    0,    0,\n",
            "           0,    0,    0,    0,    0,    0,    0,    0,    0,    0,    0,    0,\n",
            "           0,    0,    0,    0,    0,    0,    0,    0,    0,    0,    0,    0,\n",
            "           0,    0,    0,    0,    0,    0,    0,    0,    0,    0,    0,    0,\n",
            "           0,    0,    0,    0,    0,    0,    0,    0,    0,    0,    0,    0,\n",
            "           0,    0,    0,    0,    0,    0,    0,    0])\n",
            "Attention Mask:  tensor([1, 1, 1, 1, 1, 1, 1, 1, 1, 0, 0, 0, 0, 0, 0, 0, 0, 0, 0, 0, 0, 0, 0, 0,\n",
            "        0, 0, 0, 0, 0, 0, 0, 0, 0, 0, 0, 0, 0, 0, 0, 0, 0, 0, 0, 0, 0, 0, 0, 0,\n",
            "        0, 0, 0, 0, 0, 0, 0, 0, 0, 0, 0, 0, 0, 0, 0, 0, 0, 0, 0, 0, 0, 0, 0, 0,\n",
            "        0, 0, 0, 0, 0, 0, 0, 0, 0, 0, 0, 0, 0, 0, 0, 0, 0, 0, 0, 0, 0, 0, 0, 0,\n",
            "        0, 0, 0, 0, 0, 0, 0, 0, 0, 0, 0, 0, 0, 0, 0, 0, 0, 0, 0, 0, 0, 0, 0, 0,\n",
            "        0, 0, 0, 0, 0, 0, 0, 0])\n"
          ]
        }
      ],
      "source": [
        "def print_rand_sentence_encoding():\n",
        "  '''Displays tokens, token IDs and attention mask of a random text sample'''\n",
        "  index = random.randint(0, len(text) - 1)\n",
        "  tokens = tokenizer.tokenize(tokenizer.decode(input_ids[index]))\n",
        "  sample_token_ids = [i.numpy() for i in input_ids[index]]\n",
        "  attention = [i.numpy() for i in attention_masks[index]]\n",
        "\n",
        "  table = np.array([tokens, sample_token_ids, attention]).T\n",
        "  print(tabulate(table,\n",
        "                 headers = ['Tokens', 'Token IDs', 'Attention Mask'],\n",
        "                 tablefmt = 'fancy_grid'))\n",
        "  print(\"Tokens       : \", tokens)\n",
        "  print(\"Token IDs: \", input_ids[index])\n",
        "  print(\"Attention Mask: \", attention_masks[index])\n",
        "\n",
        "print_rand_sentence_encoding()"
      ]
    },
    {
      "cell_type": "markdown",
      "metadata": {
        "id": "HD_fDZNuZ9G7"
      },
      "source": [
        "# Split data"
      ]
    },
    {
      "cell_type": "code",
      "execution_count": null,
      "metadata": {
        "id": "hNotJr8yZ9HI"
      },
      "outputs": [],
      "source": [
        "from sklearn.model_selection import train_test_split\n",
        "\n",
        "\n",
        "# Split data into 90% train and 10% test\n",
        "train_input_1, test_input, train_labels_1, test_labels = train_test_split(input_ids,\n",
        "                                                                      labels,\n",
        "                                                                      random_state=RANDOM_SEED,\n",
        "                                                                      test_size=0.1,\n",
        "                                                                      stratify=labels)\n",
        "#\n",
        "train_mask, test_mask, _, _ = train_test_split(attention_masks,\n",
        "                                               labels,\n",
        "                                               random_state=RANDOM_SEED,\n",
        "                                               test_size=0.1,\n",
        "                                               stratify=labels)\n",
        "\n",
        "# Split remaining 90% train data into 70% train and 20% validation\n",
        "train_input, validation_input, train_labels, validation_labels = train_test_split(train_input_1,\n",
        "                                                                                  train_labels_1,\n",
        "                                                                                  random_state=RANDOM_SEED,\n",
        "                                                                                  test_size=0.222,\n",
        "                                                                                  stratify=train_labels_1)\n",
        "train_mask, validation_mask, _, _ = train_test_split(train_mask,\n",
        "                                                     train_labels_1,\n",
        "                                                     random_state=RANDOM_SEED,\n",
        "                                                     test_size=0.222,\n",
        "                                                     stratify=train_labels_1)\n"
      ]
    },
    {
      "cell_type": "code",
      "execution_count": null,
      "metadata": {
        "colab": {
          "base_uri": "https://localhost:8080/"
        },
        "id": "fBBu4azySpYF",
        "outputId": "d35aa083-8893-41c9-a3ba-f763489ffd72"
      },
      "outputs": [
        {
          "output_type": "execute_result",
          "data": {
            "text/plain": [
              "6508     0\n",
              "3239     0\n",
              "1542     1\n",
              "8122     0\n",
              "6454     0\n",
              "        ..\n",
              "6857     0\n",
              "8466     0\n",
              "10330    0\n",
              "7587     0\n",
              "2155     1\n",
              "Name: label, Length: 1041, dtype: int64"
            ]
          },
          "metadata": {},
          "execution_count": 33
        }
      ],
      "source": [
        "original_test_labels = test_labels\n",
        "original_test_labels"
      ]
    },
    {
      "cell_type": "code",
      "execution_count": null,
      "metadata": {
        "colab": {
          "base_uri": "https://localhost:8080/"
        },
        "id": "tu8zJiHCOBGQ",
        "outputId": "08d66a23-1f9f-42b5-8049-e78a6c3ed75f"
      },
      "outputs": [
        {
          "output_type": "execute_result",
          "data": {
            "text/plain": [
              "9019    1\n",
              "3931    1\n",
              "3399    0\n",
              "9154    1\n",
              "2934    0\n",
              "       ..\n",
              "8483    0\n",
              "1171    1\n",
              "9940    0\n",
              "5435    0\n",
              "2613    0\n",
              "Name: label, Length: 2080, dtype: int64"
            ]
          },
          "metadata": {},
          "execution_count": 34
        }
      ],
      "source": [
        "original_val_labels = validation_labels\n",
        "original_val_labels"
      ]
    },
    {
      "cell_type": "code",
      "execution_count": null,
      "metadata": {
        "id": "kWHck0bgTD7V"
      },
      "outputs": [],
      "source": [
        "train_labels = train_labels.values.tolist()\n",
        "validation_labels = validation_labels.values.tolist()\n",
        "test_labels = test_labels.values.tolist()"
      ]
    },
    {
      "cell_type": "code",
      "execution_count": null,
      "metadata": {
        "id": "nV9rg96rS7uR"
      },
      "outputs": [],
      "source": [
        "train_labels = torch.tensor(train_labels)\n",
        "validation_labels = torch.tensor(validation_labels)\n",
        "test_labels = torch.tensor(test_labels)"
      ]
    },
    {
      "cell_type": "code",
      "execution_count": null,
      "metadata": {
        "colab": {
          "base_uri": "https://localhost:8080/"
        },
        "id": "bUXtejOMZ9HK",
        "outputId": "d6e1d2f2-24d7-4f74-a59f-282ee1c01ff0"
      },
      "outputs": [
        {
          "output_type": "stream",
          "name": "stdout",
          "text": [
            "== Train ==\n",
            "Input:  torch.Size([7289, 128])\n",
            "Label:  torch.Size([7289])\n",
            "Mask:  (7289, 128)\n",
            "\n",
            "== Validation ==\n",
            "Input:  torch.Size([2080, 128])\n",
            "Label:  torch.Size([2080])\n",
            "Mask:  (2080, 128)\n",
            "\n",
            "== Test ==\n",
            "Input:  torch.Size([1041, 128])\n",
            "Label:  torch.Size([1041])\n",
            "Mask:  (1041, 128)\n"
          ]
        }
      ],
      "source": [
        "import numpy as np\n",
        "print(\"== Train ==\")\n",
        "print(\"Input: \", train_input.shape)\n",
        "print(\"Label: \", train_labels.shape)\n",
        "print(\"Mask: \", np.array(train_mask).shape)\n",
        "\n",
        "print(\"\\n== Validation ==\")\n",
        "print(\"Input: \", validation_input.shape)\n",
        "print(\"Label: \", validation_labels.shape)\n",
        "print(\"Mask: \", np.array(validation_mask).shape)\n",
        "\n",
        "print(\"\\n== Test ==\")\n",
        "print(\"Input: \", test_input.shape)\n",
        "print(\"Label: \", test_labels.shape)\n",
        "print(\"Mask: \", np.array(test_mask).shape)"
      ]
    },
    {
      "cell_type": "code",
      "execution_count": null,
      "metadata": {
        "colab": {
          "base_uri": "https://localhost:8080/"
        },
        "id": "X63KbsYBZ9HK",
        "outputId": "655aea84-7b16-4290-b79e-106eeefd3ba9"
      },
      "outputs": [
        {
          "output_type": "stream",
          "name": "stdout",
          "text": [
            "train_labels tensor([0, 1])\n",
            "tensor([3645, 3644])\n",
            "validation_labels tensor([0, 1])\n",
            "tensor([1040, 1040])\n",
            "train_labels tensor([0, 1])\n",
            "tensor([520, 521])\n"
          ]
        }
      ],
      "source": [
        "unique_train_labels, counts_train_labels = torch.unique(train_labels, return_counts=True)\n",
        "unique_validation_labels, counts_validation_labels = torch.unique(validation_labels, return_counts=True)\n",
        "unique_test_labels, counts_test_labels = torch.unique(test_labels, return_counts=True)\n",
        "\n",
        "print(\"train_labels\", unique_train_labels)  # tensor([0, 1])\n",
        "print(counts_train_labels)\n",
        "print(\"validation_labels\", unique_validation_labels)  # tensor([0, 1])\n",
        "print(counts_validation_labels)\n",
        "print(\"train_labels\", unique_test_labels)  # tensor([0, 1])\n",
        "print(counts_test_labels)"
      ]
    },
    {
      "cell_type": "markdown",
      "metadata": {
        "id": "qpE8JJnrZ9HL"
      },
      "source": [
        "Ubah ke dataloader"
      ]
    },
    {
      "cell_type": "code",
      "execution_count": null,
      "metadata": {
        "id": "siyZ8LbnZ9HL"
      },
      "outputs": [],
      "source": [
        "from torch.utils.data import TensorDataset, DataLoader, RandomSampler, SequentialSampler\n",
        "\n",
        "train_data = TensorDataset(train_input, train_mask, train_labels)\n",
        "train_sampler = RandomSampler(train_data)\n",
        "train_dataloader = DataLoader(train_data, sampler=train_sampler, batch_size=batch_size)\n",
        "\n",
        "validation_data = TensorDataset(validation_input, validation_mask, validation_labels)\n",
        "validation_sampler = SequentialSampler(validation_data)\n",
        "validation_dataloader = DataLoader(validation_data, sampler=validation_sampler, batch_size=batch_size)\n",
        "\n",
        "test_data = TensorDataset(test_input, test_mask, test_labels)\n",
        "test_sampler = SequentialSampler(test_data)\n",
        "test_dataloader = DataLoader(test_data, sampler=test_sampler, batch_size=batch_size)"
      ]
    },
    {
      "cell_type": "markdown",
      "metadata": {
        "id": "0dU0RPN4zwJo"
      },
      "source": [
        "# Prepare Model"
      ]
    },
    {
      "cell_type": "markdown",
      "metadata": {
        "id": "hPZMzN7VLBUL"
      },
      "source": [
        "## Model Class"
      ]
    },
    {
      "cell_type": "code",
      "execution_count": null,
      "metadata": {
        "id": "lc8jrDzSEGde"
      },
      "outputs": [],
      "source": [
        "import torch.nn as nn\n",
        "from transformers import PreTrainedModel, BertConfig"
      ]
    },
    {
      "cell_type": "code",
      "execution_count": null,
      "metadata": {
        "id": "mqlYsDTU0OLm"
      },
      "outputs": [],
      "source": [
        "class IndoBERTModel(PreTrainedModel):\n",
        "    config_class = BertConfig\n",
        "    def __init__(self, bert_config, bert_pretrained, num_classes):\n",
        "        super().__init__(bert_config)\n",
        "        self.bert = bert_pretrained\n",
        "        self.dropout = nn.Dropout(0.1)\n",
        "        self.fc = nn.Linear(self.bert.config.hidden_size, num_classes)\n",
        "\n",
        "    def forward(self, input_ids, attention_mask):\n",
        "        outputs = self.bert(input_ids=input_ids, attention_mask=attention_mask)\n",
        "        pooled_output = outputs.pooler_output\n",
        "        pooled_output = self.dropout(pooled_output)\n",
        "        logits = self.fc(pooled_output)\n",
        "        return logits"
      ]
    },
    {
      "cell_type": "code",
      "execution_count": null,
      "metadata": {
        "id": "7NcfTlRKq1Jz",
        "colab": {
          "base_uri": "https://localhost:8080/",
          "referenced_widgets": [
            "a4e7c11adcbc493bb561548d33933745",
            "a16e751700a642e6abd0fe081183460e",
            "a0f83d4fd24e42dcbb41c93b03109ed9",
            "724c1099557e41e0b73d3dc926925da7",
            "8bed56ca71da486292148baa87341746",
            "9fa8ee3e89f84e578e5e024da32b7b4a",
            "8e9fcad1bcf24a72aa0f62aefc744c8e",
            "b4059ff49491414c8ac19ccf5d5b7e94",
            "3899546cb02d4ca7aafeaba1955c7e7f",
            "2e911fc0b180457e9026043682e2ffa5",
            "69c01f34aa514abdafd80b90763f11c3"
          ]
        },
        "outputId": "0ec3e553-e415-4a9e-f593-fd4853ba540c"
      },
      "outputs": [
        {
          "output_type": "display_data",
          "data": {
            "text/plain": [
              "Downloading pytorch_model.bin:   0%|          | 0.00/498M [00:00<?, ?B/s]"
            ],
            "application/vnd.jupyter.widget-view+json": {
              "version_major": 2,
              "version_minor": 0,
              "model_id": "a4e7c11adcbc493bb561548d33933745"
            }
          },
          "metadata": {}
        }
      ],
      "source": [
        "from transformers import BertModel, AdamW, BertConfig, BertForSequenceClassification\n",
        "\n",
        "bert = BertModel.from_pretrained(bert_path)\n",
        "\n",
        "# Create the default BERT config\n",
        "bert_config = BertConfig()"
      ]
    },
    {
      "cell_type": "markdown",
      "metadata": {
        "id": "INpEeiTgGA-L"
      },
      "source": [
        "## new instance"
      ]
    },
    {
      "cell_type": "code",
      "execution_count": null,
      "metadata": {
        "colab": {
          "base_uri": "https://localhost:8080/"
        },
        "id": "YvSw3C7Ys2iR",
        "outputId": "a8246bdc-2b97-40aa-ac7a-56104ba4b8e2"
      },
      "outputs": [
        {
          "output_type": "execute_result",
          "data": {
            "text/plain": [
              "IndoBERTModel(\n",
              "  (bert): BertModel(\n",
              "    (embeddings): BertEmbeddings(\n",
              "      (word_embeddings): Embedding(50000, 768, padding_idx=0)\n",
              "      (position_embeddings): Embedding(512, 768)\n",
              "      (token_type_embeddings): Embedding(2, 768)\n",
              "      (LayerNorm): LayerNorm((768,), eps=1e-12, elementwise_affine=True)\n",
              "      (dropout): Dropout(p=0.1, inplace=False)\n",
              "    )\n",
              "    (encoder): BertEncoder(\n",
              "      (layer): ModuleList(\n",
              "        (0-11): 12 x BertLayer(\n",
              "          (attention): BertAttention(\n",
              "            (self): BertSelfAttention(\n",
              "              (query): Linear(in_features=768, out_features=768, bias=True)\n",
              "              (key): Linear(in_features=768, out_features=768, bias=True)\n",
              "              (value): Linear(in_features=768, out_features=768, bias=True)\n",
              "              (dropout): Dropout(p=0.1, inplace=False)\n",
              "            )\n",
              "            (output): BertSelfOutput(\n",
              "              (dense): Linear(in_features=768, out_features=768, bias=True)\n",
              "              (LayerNorm): LayerNorm((768,), eps=1e-12, elementwise_affine=True)\n",
              "              (dropout): Dropout(p=0.1, inplace=False)\n",
              "            )\n",
              "          )\n",
              "          (intermediate): BertIntermediate(\n",
              "            (dense): Linear(in_features=768, out_features=3072, bias=True)\n",
              "            (intermediate_act_fn): GELUActivation()\n",
              "          )\n",
              "          (output): BertOutput(\n",
              "            (dense): Linear(in_features=3072, out_features=768, bias=True)\n",
              "            (LayerNorm): LayerNorm((768,), eps=1e-12, elementwise_affine=True)\n",
              "            (dropout): Dropout(p=0.1, inplace=False)\n",
              "          )\n",
              "        )\n",
              "      )\n",
              "    )\n",
              "    (pooler): BertPooler(\n",
              "      (dense): Linear(in_features=768, out_features=768, bias=True)\n",
              "      (activation): Tanh()\n",
              "    )\n",
              "  )\n",
              "  (dropout): Dropout(p=0.1, inplace=False)\n",
              "  (fc): Linear(in_features=768, out_features=2, bias=True)\n",
              ")"
            ]
          },
          "metadata": {},
          "execution_count": 43
        }
      ],
      "source": [
        "model = IndoBERTModel(\n",
        "    bert_config,\n",
        "    bert,\n",
        "    OUTPUT_DIM\n",
        ")\n",
        "model.cuda()"
      ]
    },
    {
      "cell_type": "code",
      "execution_count": null,
      "metadata": {
        "id": "A3fnw2LqqSjz"
      },
      "outputs": [],
      "source": [
        "# model = BertForSequenceClassification.from_pretrained(\n",
        "#     bert_path, # Use the 12-layer BERT model, with an cased vocab.\n",
        "#     num_labels = 2,\n",
        "#     output_attentions = False, # return attentions weights\n",
        "#     output_hidden_states = False, # returns all hidden-states\n",
        "#     ignore_mismatched_sizes=True\n",
        "# )\n",
        "\n",
        "# model.cuda()"
      ]
    },
    {
      "cell_type": "markdown",
      "metadata": {
        "id": "UDM8HzpxLHV5"
      },
      "source": [
        "## Loss and Optimizer"
      ]
    },
    {
      "cell_type": "code",
      "execution_count": null,
      "metadata": {
        "id": "evM4IVr1tEc8"
      },
      "outputs": [],
      "source": [
        "# define loss function\n",
        "criterion = nn.BCEWithLogitsLoss()\n",
        "# criterion = nn.CrossEntropyLoss()"
      ]
    },
    {
      "cell_type": "code",
      "execution_count": null,
      "metadata": {
        "colab": {
          "base_uri": "https://localhost:8080/"
        },
        "id": "DTlIB0c6d36e",
        "outputId": "c3ebb1c0-22bf-4419-e4a8-4a9d8807b0a3"
      },
      "outputs": [
        {
          "output_type": "stream",
          "name": "stdout",
          "text": [
            "Adam (\n",
            "Parameter Group 0\n",
            "    amsgrad: False\n",
            "    betas: (0.9, 0.999)\n",
            "    capturable: False\n",
            "    differentiable: False\n",
            "    eps: 1e-08\n",
            "    foreach: None\n",
            "    fused: None\n",
            "    lr: 2e-05\n",
            "    maximize: False\n",
            "    weight_decay: 0\n",
            ")\n"
          ]
        }
      ],
      "source": [
        "optimizer = torch.optim.Adam(model.parameters(), lr=l_rate)\n",
        "print(optimizer)"
      ]
    },
    {
      "cell_type": "markdown",
      "metadata": {
        "id": "2W_xwjMCEUNh"
      },
      "source": [
        "# Train"
      ]
    },
    {
      "cell_type": "markdown",
      "metadata": {
        "id": "wrPZFJZYrby8"
      },
      "source": [
        "## Checkpoint"
      ]
    },
    {
      "cell_type": "code",
      "execution_count": null,
      "metadata": {
        "id": "qsk9ekkerevL"
      },
      "outputs": [],
      "source": [
        "class SaveBestModel:\n",
        "    \"\"\"\n",
        "    Class to save the best model while training. If the current epoch's\n",
        "    metrics is better than the previous, then save the\n",
        "    model state.\n",
        "    \"\"\"\n",
        "    def __init__(\n",
        "        self, mode='min'\n",
        "    ):\n",
        "        self.mode= mode\n",
        "        if mode == 'max':\n",
        "          self.best_metrics = 0.0\n",
        "        elif mode == 'min':\n",
        "          self.best_metrics = float('inf')\n",
        "\n",
        "    def __call__(\n",
        "        self, metrics,\n",
        "        epoch, model, optimizer, criterion\n",
        "    ):\n",
        "        if self.mode == 'max':\n",
        "          if metrics > self.best_metrics:\n",
        "            print(f\"\\nValidation Accuracy improved from {self.best_metrics} to {metrics}\")\n",
        "            self.best_metrics = metrics\n",
        "            print(f\"Saving best model for epoch: {epoch}\")\n",
        "            torch.save({\n",
        "                'epoch': epoch,\n",
        "                'model_state_dict': model.state_dict()\n",
        "                }, best_model_path)\n",
        "            return True\n",
        "          else :\n",
        "            print(\"\\nCurrent Val_Acc: \",metrics)\n",
        "            print(f\"validation accuracy did not improve from: {self.best_metrics}\")\n",
        "            return False\n",
        "        elif self.mode == 'min':\n",
        "          if metrics < self.best_metrics:\n",
        "            print(f\"\\nValidation loss is improved from {self.best_metrics} to {metrics}\")\n",
        "            self.best_metrics = metrics\n",
        "            print(f\"Saving best model for epoch: {epoch}\\n\")\n",
        "            torch.save({\n",
        "                'epoch': epochs,\n",
        "                'model_state_dict': model.state_dict()\n",
        "                }, best_model_path)\n",
        "            return True\n",
        "          else :\n",
        "            print(\"\\nCurrent Val_Loss: \", metrics)\n",
        "            print(f\"validation loss did not improve from: {self.best_metrics}\")\n",
        "            return False"
      ]
    },
    {
      "cell_type": "code",
      "execution_count": null,
      "metadata": {
        "id": "S2S7uQCbGQs-"
      },
      "outputs": [],
      "source": [
        "def save_model(epochs, model, optimizer, criterion):\n",
        "    \"\"\"\n",
        "    Function to save the trained model to disk.\n",
        "    \"\"\"\n",
        "    print(f\"Saving final model...\")\n",
        "    # parameters, gradParameters = model.parameters()\n",
        "    # lightModel = model.clone('weight','bias','running_mean','running_std')\n",
        "\n",
        "    torch.save({\n",
        "                'epoch': epochs,\n",
        "                'model_state_dict': model.state_dict()\n",
        "                }, model_path)"
      ]
    },
    {
      "cell_type": "markdown",
      "metadata": {
        "id": "Pfvmz6CIxofB"
      },
      "source": [
        "## Early Stopper"
      ]
    },
    {
      "cell_type": "code",
      "execution_count": null,
      "metadata": {
        "id": "hSTMkceGXy7H"
      },
      "outputs": [],
      "source": [
        "class EarlyStopping(object):\n",
        "    def __init__(self, mode='min', min_delta=0, patience=10, percentage=False):\n",
        "        self.mode = mode\n",
        "        self.min_delta = min_delta\n",
        "        self.patience = patience\n",
        "        self.best = None\n",
        "        self.num_bad_epochs = 0\n",
        "        self.is_better = None\n",
        "        self._init_is_better(mode, min_delta, percentage)\n",
        "\n",
        "\n",
        "        if patience == 0:\n",
        "            self.is_better = lambda a, b: True\n",
        "            self.step = lambda a: False\n",
        "\n",
        "\n",
        "    def step(self, metrics):\n",
        "        if self.best is None:\n",
        "            self.best = metrics\n",
        "            return False\n",
        "\n",
        "\n",
        "        if np.isnan(metrics):\n",
        "            return True\n",
        "\n",
        "\n",
        "        if self.is_better(metrics, self.best):\n",
        "            self.num_bad_epochs = 0\n",
        "            self.best = metrics\n",
        "        else:\n",
        "            self.num_bad_epochs += 1\n",
        "\n",
        "\n",
        "        if self.num_bad_epochs >= self.patience:\n",
        "            print('terminating because of early stopping!')\n",
        "            return True\n",
        "\n",
        "\n",
        "        return False\n",
        "\n",
        "\n",
        "    def _init_is_better(self, mode, min_delta, percentage):\n",
        "        if mode not in {'min', 'max'}:\n",
        "            raise ValueError('mode ' + mode + ' is unknown!')\n",
        "        if not percentage:\n",
        "            if mode == 'min':\n",
        "                self.is_better = lambda a, best: a < best - min_delta\n",
        "            if mode == 'max':\n",
        "                self.is_better = lambda a, best: a > best + min_delta\n",
        "        else:\n",
        "            if mode == 'min':\n",
        "                self.is_better = lambda a, best: a < best - (\n",
        "                            best * min_delta / 100)\n",
        "            if mode == 'max':\n",
        "                self.is_better = lambda a, best: a > best + (\n",
        "                            best * min_delta / 100)\n"
      ]
    },
    {
      "cell_type": "markdown",
      "metadata": {
        "id": "5SFjq7XHIebX"
      },
      "source": [
        "## Define function"
      ]
    },
    {
      "cell_type": "code",
      "execution_count": null,
      "metadata": {
        "id": "g92DjbUTCOYd"
      },
      "outputs": [],
      "source": [
        "import torch.nn.functional as F\n",
        "from sklearn.metrics import precision_recall_fscore_support, roc_auc_score"
      ]
    },
    {
      "cell_type": "code",
      "execution_count": null,
      "metadata": {
        "id": "oUNBiwJwuyrr"
      },
      "outputs": [],
      "source": [
        "def train(model, epoch):\n",
        "\n",
        "  print('\\nEpoch : %d'%epoch)\n",
        "\n",
        "  model.train()\n",
        "  torch.set_grad_enabled(True)\n",
        "\n",
        "  t0 = time.time()\n",
        "  num_correct, total_samples, total_train_loss =  0, 0, 0\n",
        "  list_pred, list_label = [], []\n",
        "\n",
        "  train_pbar = tqdm(train_dataloader, leave=True, total=len(train_dataloader))\n",
        "  for i, batch_data in enumerate(train_pbar):\n",
        "\n",
        "      b_input_ids = batch_data[0].to(device)\n",
        "      b_input_mask = batch_data[1].to(device)\n",
        "      b_labels = batch_data[2].to(device)\n",
        "\n",
        "      model.zero_grad()\n",
        "\n",
        "      outputs = model(b_input_ids,\n",
        "                      b_input_mask)\n",
        "\n",
        "      # calculate loss\n",
        "      b_labels = F.one_hot(b_labels, num_classes = OUTPUT_DIM).float()\n",
        "\n",
        "      loss = criterion(outputs, b_labels)\n",
        "\n",
        "      # Update model\n",
        "      optimizer.zero_grad()\n",
        "      loss.backward()\n",
        "      optimizer.step()\n",
        "\n",
        "      # Calculate\n",
        "      predictions = torch.argmax(outputs, dim=1)\n",
        "      list_pred.extend(predictions.cpu().numpy().tolist())\n",
        "      list_label += torch.argmax(b_labels, dim=1).int().tolist()\n",
        "      total_train_loss += loss.item()\n",
        "      num_correct += (predictions == torch.argmax(b_labels, dim=1)).sum().item()\n",
        "      total_samples += len(b_labels)\n",
        "\n",
        "      del b_input_ids, b_input_mask, b_labels, outputs  # free up memory\n",
        "      train_pbar.set_description(\"(Epoch {}) TRAIN LOSS:{:.4f} ACC:{:.4f} LR:{:.8f}\".format((epoch),\n",
        "          total_train_loss / (i+1), num_correct / total_samples, get_lr(optimizer)))\n",
        "\n",
        "  # calculate training accuracy and average training loss\n",
        "  accu = num_correct / len(train_dataloader.dataset)\n",
        "  avg_train_loss = total_train_loss / len(train_dataloader)\n",
        "\n",
        "  learning_rate = get_lr(optimizer)\n",
        "  elapsed = format_time(time.time() - t0)\n",
        "\n",
        "  print('Train Loss: %.3f | Accuracy: %.3f | LR: %.3f'%(avg_train_loss,accu,learning_rate))\n",
        "  print(\"Train Elapsed: {:}\".format(elapsed))\n",
        "\n",
        "  return accu, avg_train_loss, elapsed"
      ]
    },
    {
      "cell_type": "code",
      "execution_count": null,
      "metadata": {
        "id": "QZ_iD8IQjVTq"
      },
      "outputs": [],
      "source": [
        "def eval(model, epoch):\n",
        "\n",
        "  model.eval()\n",
        "  torch.set_grad_enabled(False)\n",
        "\n",
        "  total_loss, total_correct, total_samples = 0, 0, 0\n",
        "  list_pred, list_label = [], []\n",
        "\n",
        "  pbar = tqdm(validation_dataloader, leave=True, total=len(validation_dataloader))\n",
        "  for i, batch_data in enumerate(pbar):\n",
        "\n",
        "      b_input_ids = batch_data[0].to(device)\n",
        "      b_input_mask = batch_data[1].to(device)\n",
        "      b_labels = batch_data[2].to(device)\n",
        "\n",
        "      outputs = model(b_input_ids,\n",
        "                      b_input_mask)\n",
        "\n",
        "      b_labels = F.one_hot(b_labels, num_classes = OUTPUT_DIM).float()\n",
        "      loss = criterion(outputs, b_labels)\n",
        "\n",
        "      # Calculate total loss\n",
        "      valid_loss = loss.item()\n",
        "      total_loss += valid_loss\n",
        "\n",
        "      # Calculate evaluation metrics\n",
        "      predictions = torch.argmax(outputs, dim=1)\n",
        "      list_pred.extend(predictions.cpu().numpy().tolist())\n",
        "      list_label += torch.argmax(b_labels, dim=1).int().tolist()\n",
        "\n",
        "      total_correct += (predictions == torch.argmax(b_labels, dim=1)).sum().item()\n",
        "      total_samples += len(b_labels)\n",
        "\n",
        "      del b_input_ids, b_input_mask, b_labels, outputs  # free up memory\n",
        "      pbar.set_description(\"VALID LOSS:{:.4f}  ACC:{:.4f} \".format(total_loss/(i+1), total_correct / total_samples))\n",
        "\n",
        "  list_y_pred = np.array(list_pred)\n",
        "\n",
        "  eval_loss = total_loss/(i+1)\n",
        "  accu = total_correct / total_samples\n",
        "\n",
        "  print('VALID LOSS: %.4f | Accuracy: %.4f'%(eval_loss,accu))\n",
        "\n",
        "  return accu, eval_loss, list_y_pred"
      ]
    },
    {
      "cell_type": "code",
      "execution_count": null,
      "metadata": {
        "id": "sVywNeV6y35S"
      },
      "outputs": [],
      "source": [
        "def test(model, test_loader):\n",
        "    list_y_pred = []\n",
        "    list_y_prob = []\n",
        "    list_y_label = []\n",
        "\n",
        "    model.eval()\n",
        "    t0 = time.time()\n",
        "    num_correct, total_samples, test_loss =  0, 0, 0\n",
        "\n",
        "    pbar = tqdm(test_loader, leave=True, total=len(test_loader))\n",
        "    for i, batch_data in enumerate(pbar):\n",
        "\n",
        "        b_input_ids = batch_data[0].to(device)\n",
        "        b_input_mask = batch_data[1].to(device)\n",
        "        b_labels = batch_data[2].to(device)\n",
        "\n",
        "        outputs = model(b_input_ids,\n",
        "                      b_input_mask)\n",
        "\n",
        "        b_labels = F.one_hot(b_labels, num_classes=2).float()\n",
        "\n",
        "        loss = criterion(outputs, b_labels)\n",
        "\n",
        "        predictions = torch.argmax(outputs, dim=1)\n",
        "        proba = torch.softmax(outputs, dim=1)[:, 1]\n",
        "\n",
        "        list_y_pred.extend(predictions.cpu().numpy().tolist())\n",
        "        list_y_prob.extend(proba.detach().cpu().numpy().tolist())\n",
        "        list_y_label += torch.argmax(b_labels, dim=1).int().tolist()\n",
        "\n",
        "        test_loss += loss.item()\n",
        "        num_correct += (predictions == torch.argmax(b_labels, dim=1)).sum().item()\n",
        "        total_samples += len(b_labels)\n",
        "\n",
        "\n",
        "        del b_input_ids, b_input_mask, b_labels, outputs  # free up memory\n",
        "        pbar.set_description(\"Test LOSS:{:.4f}  ACC:{:.4f} \".format(test_loss/(i+1), num_correct / total_samples))\n",
        "    test_loss = test_loss/(i+1)\n",
        "    test_acc = num_correct / total_samples\n",
        "\n",
        "    list_y_pred = np.array(list_y_pred)\n",
        "    list_y_prob = np.array(list_y_prob)\n",
        "    list_y_label = np.array(list_y_label)\n",
        "\n",
        "    auc_score = roc_auc_score(list_y_label, list_y_prob)\n",
        "\n",
        "    elapsed = format_time(time.time() - t0)\n",
        "    print('Elapsed :', elapsed)\n",
        "    return test_loss, test_acc, auc_score, list_y_pred, list_y_prob, list_y_label"
      ]
    },
    {
      "cell_type": "markdown",
      "metadata": {
        "id": "73rcCPj_IZ2n"
      },
      "source": [
        "## Train and validate"
      ]
    },
    {
      "cell_type": "code",
      "execution_count": null,
      "metadata": {
        "colab": {
          "base_uri": "https://localhost:8080/"
        },
        "id": "uhk0xsy5NZdC",
        "outputId": "7edf8ad9-3add-43e9-f390-276f24123fed"
      },
      "outputs": [
        {
          "output_type": "stream",
          "name": "stdout",
          "text": [
            "\n",
            "Epoch : 1\n"
          ]
        },
        {
          "output_type": "stream",
          "name": "stderr",
          "text": [
            "(Epoch 1) TRAIN LOSS:0.2036 ACC:0.9170 LR:0.00002000: 100%|██████████| 456/456 [02:41<00:00,  2.82it/s]\n"
          ]
        },
        {
          "output_type": "stream",
          "name": "stdout",
          "text": [
            "Train Loss: 0.204 | Accuracy: 0.917 | LR: 0.000\n",
            "Train Elapsed: 0:02:42\n"
          ]
        },
        {
          "output_type": "stream",
          "name": "stderr",
          "text": [
            "VALID LOSS:0.1354  ACC:0.9476 : 100%|██████████| 130/130 [00:15<00:00,  8.25it/s]\n"
          ]
        },
        {
          "output_type": "stream",
          "name": "stdout",
          "text": [
            "VALID LOSS: 0.1354 | Accuracy: 0.9476\n",
            "\n",
            "Validation Accuracy improved from 0.0 to 0.9475961538461538\n",
            "Saving best model for epoch: 1\n",
            "\n",
            "Epoch : 2\n"
          ]
        },
        {
          "output_type": "stream",
          "name": "stderr",
          "text": [
            "(Epoch 2) TRAIN LOSS:0.0871 ACC:0.9701 LR:0.00002000: 100%|██████████| 456/456 [02:40<00:00,  2.84it/s]\n"
          ]
        },
        {
          "output_type": "stream",
          "name": "stdout",
          "text": [
            "Train Loss: 0.087 | Accuracy: 0.970 | LR: 0.000\n",
            "Train Elapsed: 0:02:41\n"
          ]
        },
        {
          "output_type": "stream",
          "name": "stderr",
          "text": [
            "VALID LOSS:0.1366  ACC:0.9529 : 100%|██████████| 130/130 [00:15<00:00,  8.32it/s]\n"
          ]
        },
        {
          "output_type": "stream",
          "name": "stdout",
          "text": [
            "VALID LOSS: 0.1366 | Accuracy: 0.9529\n",
            "\n",
            "Validation Accuracy improved from 0.9475961538461538 to 0.9528846153846153\n",
            "Saving best model for epoch: 2\n",
            "\n",
            "Epoch : 3\n"
          ]
        },
        {
          "output_type": "stream",
          "name": "stderr",
          "text": [
            "(Epoch 3) TRAIN LOSS:0.0504 ACC:0.9829 LR:0.00002000: 100%|██████████| 456/456 [02:40<00:00,  2.84it/s]\n"
          ]
        },
        {
          "output_type": "stream",
          "name": "stdout",
          "text": [
            "Train Loss: 0.050 | Accuracy: 0.983 | LR: 0.000\n",
            "Train Elapsed: 0:02:41\n"
          ]
        },
        {
          "output_type": "stream",
          "name": "stderr",
          "text": [
            "VALID LOSS:0.1422  ACC:0.9524 : 100%|██████████| 130/130 [00:15<00:00,  8.27it/s]\n"
          ]
        },
        {
          "output_type": "stream",
          "name": "stdout",
          "text": [
            "VALID LOSS: 0.1422 | Accuracy: 0.9524\n",
            "\n",
            "Current Val_Acc:  0.9524038461538461\n",
            "validation accuracy did not improve from: 0.9528846153846153\n",
            "\n",
            "Epoch : 4\n"
          ]
        },
        {
          "output_type": "stream",
          "name": "stderr",
          "text": [
            "(Epoch 4) TRAIN LOSS:0.0237 ACC:0.9918 LR:0.00002000: 100%|██████████| 456/456 [02:40<00:00,  2.84it/s]\n"
          ]
        },
        {
          "output_type": "stream",
          "name": "stdout",
          "text": [
            "Train Loss: 0.024 | Accuracy: 0.992 | LR: 0.000\n",
            "Train Elapsed: 0:02:40\n"
          ]
        },
        {
          "output_type": "stream",
          "name": "stderr",
          "text": [
            "VALID LOSS:0.1804  ACC:0.9452 : 100%|██████████| 130/130 [00:15<00:00,  8.27it/s]\n"
          ]
        },
        {
          "output_type": "stream",
          "name": "stdout",
          "text": [
            "VALID LOSS: 0.1804 | Accuracy: 0.9452\n",
            "\n",
            "Current Val_Acc:  0.9451923076923077\n",
            "validation accuracy did not improve from: 0.9528846153846153\n",
            "\n",
            "Epoch : 5\n"
          ]
        },
        {
          "output_type": "stream",
          "name": "stderr",
          "text": [
            "(Epoch 5) TRAIN LOSS:0.0184 ACC:0.9942 LR:0.00002000: 100%|██████████| 456/456 [02:40<00:00,  2.84it/s]\n"
          ]
        },
        {
          "output_type": "stream",
          "name": "stdout",
          "text": [
            "Train Loss: 0.018 | Accuracy: 0.994 | LR: 0.000\n",
            "Train Elapsed: 0:02:41\n"
          ]
        },
        {
          "output_type": "stream",
          "name": "stderr",
          "text": [
            "VALID LOSS:0.1837  ACC:0.9534 : 100%|██████████| 130/130 [00:15<00:00,  8.28it/s]\n"
          ]
        },
        {
          "output_type": "stream",
          "name": "stdout",
          "text": [
            "VALID LOSS: 0.1837 | Accuracy: 0.9534\n",
            "\n",
            "Validation Accuracy improved from 0.9528846153846153 to 0.9533653846153847\n",
            "Saving best model for epoch: 5\n",
            "TOTAL TRAIN ELAPSED  0:14:49\n"
          ]
        }
      ],
      "source": [
        "history = {\n",
        "    'epoch': [],\n",
        "    'loss': [],\n",
        "    'accuracy': [],\n",
        "    'val_loss': [],\n",
        "    'val_accuracy': [],\n",
        "    'time': [],\n",
        "    'time_val': [],\n",
        "    'save': [],\n",
        "    }\n",
        "val_y_pred = []\n",
        "\n",
        "n_epochs = epochs\n",
        "time0 = time.time()\n",
        "save_best_model = SaveBestModel(mode='max')\n",
        "es = EarlyStopping(patience=patience, mode='max') # min : lower is better metric | max kebalikannya\n",
        "for epoch in range(1,n_epochs+1):\n",
        "  history['epoch'].append(epoch)\n",
        "  i_time = time.time()\n",
        "  train_accuracy, train_loss, tr_elapsed = train(model, epoch)\n",
        "\n",
        "  history['accuracy'].append(train_accuracy)\n",
        "  history['loss'].append(train_loss)\n",
        "  history['time'].append(tr_elapsed)\n",
        "\n",
        "  val_accu, val_loss, eval_y_pred = eval(model, epoch)\n",
        "\n",
        "  history['val_accuracy'].append(val_accu)\n",
        "  history['val_loss'].append(val_loss)\n",
        "\n",
        "  i_elapsed = format_time(time.time() - i_time)\n",
        "  history['time_val'].append(i_elapsed)\n",
        "\n",
        "  is_save = save_best_model(\n",
        "      val_accu, epoch, model, optimizer, criterion\n",
        "      )\n",
        "  history['save'].append(is_save)\n",
        "\n",
        "  if es.step(val_accu):\n",
        "    print(\"Early Stopping\")\n",
        "    break\n",
        "\n",
        "elapsed = format_time(time.time() - time0)\n",
        "print('TOTAL TRAIN ELAPSED ', elapsed)"
      ]
    },
    {
      "cell_type": "code",
      "execution_count": null,
      "metadata": {
        "id": "BYRpljhqN8za",
        "colab": {
          "base_uri": "https://localhost:8080/"
        },
        "outputId": "300347b0-393b-4b81-ed77-06188fe5851e"
      },
      "outputs": [
        {
          "output_type": "execute_result",
          "data": {
            "text/plain": [
              "{'epoch': [1, 2, 3, 4, 5],\n",
              " 'loss': [0.20363059075418533,\n",
              "  0.08712322876498658,\n",
              "  0.0504028931680838,\n",
              "  0.023693009180102597,\n",
              "  0.0184412110305091],\n",
              " 'accuracy': [0.9169982164906023,\n",
              "  0.970091919330498,\n",
              "  0.9828508711757443,\n",
              "  0.9917684181643572,\n",
              "  0.99423789271505],\n",
              " 'val_loss': [0.1354362880381254,\n",
              "  0.13664106452980868,\n",
              "  0.14224428051652815,\n",
              "  0.18042749608016143,\n",
              "  0.18372245801326173],\n",
              " 'val_accuracy': [0.9475961538461538,\n",
              "  0.9528846153846153,\n",
              "  0.9524038461538461,\n",
              "  0.9451923076923077,\n",
              "  0.9533653846153847],\n",
              " 'time': ['0:02:42', '0:02:41', '0:02:41', '0:02:40', '0:02:41'],\n",
              " 'time_val': ['0:02:57', '0:02:56', '0:02:56', '0:02:56', '0:02:56'],\n",
              " 'save': [True, True, False, False, True]}"
            ]
          },
          "metadata": {},
          "execution_count": 55
        }
      ],
      "source": [
        "history"
      ]
    },
    {
      "cell_type": "code",
      "execution_count": null,
      "metadata": {
        "id": "hOjfKOksan1y"
      },
      "outputs": [],
      "source": [
        "df_report = pd.DataFrame(history)\n",
        "\n",
        "# Define the output file name\n",
        "output_report_file = report_path + model_save_name + ' train report.csv'\n",
        "\n",
        "# Write the DataFrame to a CSV file\n",
        "df_report.to_csv(output_report_file, index=False)"
      ]
    },
    {
      "cell_type": "code",
      "execution_count": null,
      "metadata": {
        "id": "rOsetSqNOcAr",
        "colab": {
          "base_uri": "https://localhost:8080/"
        },
        "outputId": "43b2507b-1fd3-4c64-b483-a69b397857d5"
      },
      "outputs": [
        {
          "output_type": "execute_result",
          "data": {
            "text/plain": [
              "5"
            ]
          },
          "metadata": {},
          "execution_count": 57
        }
      ],
      "source": [
        "epoch"
      ]
    },
    {
      "cell_type": "code",
      "execution_count": null,
      "metadata": {
        "id": "R6qXWG2lWWm1"
      },
      "outputs": [],
      "source": [
        "import matplotlib.pyplot as plt\n"
      ]
    },
    {
      "cell_type": "markdown",
      "metadata": {
        "id": "XDoiGZ7ePL5Z"
      },
      "source": [
        "## plot train & validation loss"
      ]
    },
    {
      "cell_type": "code",
      "execution_count": null,
      "metadata": {
        "id": "attxr4mcPRTB",
        "colab": {
          "base_uri": "https://localhost:8080/"
        },
        "outputId": "eb42a359-e0c8-44aa-b818-c3975eb3af5b"
      },
      "outputs": [
        {
          "output_type": "display_data",
          "data": {
            "text/plain": [
              "<Figure size 640x480 with 1 Axes>"
            ],
            "image/png": "[encoded data removed]"
          },
          "metadata": {}
        }
      ],
      "source": [
        "plt.figure(1)\n",
        "plt.plot(history['loss'], label='Training Loss')\n",
        "plt.plot(history['val_loss'], label='Validation Loss')\n",
        "plt.title('Loss Plot')\n",
        "plt.ylabel('Value')\n",
        "plt.xlabel('Epoch')\n",
        "plt.legend(loc=\"best\")\n",
        "plt.savefig(graph_path+ model_save_name + ' Train & Validation Loss.png',dpi=300,bbox_inches='tight')"
      ]
    },
    {
      "cell_type": "markdown",
      "metadata": {
        "id": "B10WuDxRPCzp"
      },
      "source": [
        "## plot train & validation accuracy"
      ]
    },
    {
      "cell_type": "code",
      "execution_count": null,
      "metadata": {
        "id": "w4rTllOUPZMg",
        "colab": {
          "base_uri": "https://localhost:8080/"
        },
        "outputId": "cbf5d675-0b1a-4492-a356-c687d1cbf2e2"
      },
      "outputs": [
        {
          "output_type": "display_data",
          "data": {
            "text/plain": [
              "<Figure size 640x480 with 1 Axes>"
            ],
            "image/png": "[encoded data removed]"
          },
          "metadata": {}
        }
      ],
      "source": [
        "plt.figure(2)\n",
        "plt.plot(history['accuracy'], label='Training Accuracy')\n",
        "plt.plot(history['val_accuracy'], label='Validation Accuracy')\n",
        "plt.title('Accuracy Plot')\n",
        "plt.ylabel('Value')\n",
        "plt.xlabel('Epoch')\n",
        "plt.legend(loc=\"best\")\n",
        "plt.savefig(graph_path+ model_save_name + ' Train & Validation Accuracy.png',dpi=300,bbox_inches='tight')"
      ]
    },
    {
      "cell_type": "code",
      "execution_count": null,
      "metadata": {
        "id": "P6GM7qB1FTuu",
        "colab": {
          "base_uri": "https://localhost:8080/"
        },
        "outputId": "66403dd0-913a-4a49-ce5a-32d0a25da26c"
      },
      "outputs": [
        {
          "output_type": "execute_result",
          "data": {
            "text/plain": [
              "[0.9169982164906023,\n",
              " 0.970091919330498,\n",
              " 0.9828508711757443,\n",
              " 0.9917684181643572,\n",
              " 0.99423789271505]"
            ]
          },
          "metadata": {},
          "execution_count": 63
        }
      ],
      "source": [
        "history['accuracy']"
      ]
    },
    {
      "cell_type": "code",
      "execution_count": null,
      "metadata": {
        "id": "_WgK4CkCFWB2",
        "colab": {
          "base_uri": "https://localhost:8080/"
        },
        "outputId": "c8ca1346-fb24-451d-fb87-c73cbf5789f1"
      },
      "outputs": [
        {
          "output_type": "execute_result",
          "data": {
            "text/plain": [
              "[0.9475961538461538,\n",
              " 0.9528846153846153,\n",
              " 0.9524038461538461,\n",
              " 0.9451923076923077,\n",
              " 0.9533653846153847]"
            ]
          },
          "metadata": {},
          "execution_count": 64
        }
      ],
      "source": [
        "history['val_accuracy']"
      ]
    },
    {
      "cell_type": "code",
      "execution_count": null,
      "metadata": {
        "id": "bdsG3GN3DVUB",
        "colab": {
          "base_uri": "https://localhost:8080/"
        },
        "outputId": "041543f8-f30c-4091-c3ff-c22edd0b9251"
      },
      "outputs": [
        {
          "output_type": "execute_result",
          "data": {
            "text/plain": [
              "[0.20363059075418533,\n",
              " 0.08712322876498658,\n",
              " 0.0504028931680838,\n",
              " 0.023693009180102597,\n",
              " 0.0184412110305091]"
            ]
          },
          "metadata": {},
          "execution_count": 65
        }
      ],
      "source": [
        "history['loss']"
      ]
    },
    {
      "cell_type": "code",
      "execution_count": null,
      "metadata": {
        "id": "SQvl5lxlDY-m",
        "colab": {
          "base_uri": "https://localhost:8080/"
        },
        "outputId": "1b1052af-f678-457b-b2ba-614ca412ebc7"
      },
      "outputs": [
        {
          "output_type": "execute_result",
          "data": {
            "text/plain": [
              "[0.1354362880381254,\n",
              " 0.13664106452980868,\n",
              " 0.14224428051652815,\n",
              " 0.18042749608016143,\n",
              " 0.18372245801326173]"
            ]
          },
          "metadata": {},
          "execution_count": 66
        }
      ],
      "source": [
        "history['val_loss']"
      ]
    },
    {
      "cell_type": "markdown",
      "metadata": {
        "id": "duVvi6m9PpnK"
      },
      "source": [
        "## Evaluate on test"
      ]
    },
    {
      "cell_type": "code",
      "execution_count": null,
      "metadata": {
        "colab": {
          "base_uri": "https://localhost:8080/"
        },
        "id": "XenZvjl7Ppnx",
        "outputId": "4965579c-a2f8-4c77-a232-bbcd9efc92c9"
      },
      "outputs": [
        {
          "output_type": "stream",
          "name": "stderr",
          "text": [
            "Test LOSS:0.2217  ACC:0.9462 : 100%|██████████| 66/66 [00:07<00:00,  8.46it/s]"
          ]
        },
        {
          "output_type": "stream",
          "name": "stdout",
          "text": [
            "Elapsed : 0:00:08\n"
          ]
        },
        {
          "output_type": "stream",
          "name": "stderr",
          "text": [
            "\n"
          ]
        }
      ],
      "source": [
        "test_loss, test_acc, test_auc_score, list_y_pred, list_y_prob, list_y_true = test(model, test_dataloader)"
      ]
    },
    {
      "cell_type": "code",
      "execution_count": null,
      "metadata": {
        "colab": {
          "base_uri": "https://localhost:8080/"
        },
        "id": "SW8mv-8iVvM7",
        "outputId": "88e8520b-f7b1-452d-d3ee-f7521ef14976"
      },
      "outputs": [
        {
          "output_type": "execute_result",
          "data": {
            "text/plain": [
              "array([0, 0, 1, ..., 0, 0, 1])"
            ]
          },
          "metadata": {},
          "execution_count": 68
        }
      ],
      "source": [
        "list_y_pred"
      ]
    },
    {
      "cell_type": "code",
      "execution_count": null,
      "metadata": {
        "colab": {
          "base_uri": "https://localhost:8080/"
        },
        "id": "El71AiL9kajv",
        "outputId": "09427422-01b4-496d-b21f-b792dc5d4f03"
      },
      "outputs": [
        {
          "output_type": "execute_result",
          "data": {
            "text/plain": [
              "array([0, 0, 1, ..., 0, 0, 1])"
            ]
          },
          "metadata": {},
          "execution_count": 69
        }
      ],
      "source": [
        "list_y_true"
      ]
    },
    {
      "cell_type": "markdown",
      "metadata": {
        "id": "YMSiD3EG1m0K"
      },
      "source": [
        "# Ukur"
      ]
    },
    {
      "cell_type": "code",
      "execution_count": null,
      "metadata": {
        "id": "h0b4yQDP1mOQ"
      },
      "outputs": [],
      "source": [
        "import sklearn\n",
        "\n",
        "from sklearn.metrics import confusion_matrix, matthews_corrcoef"
      ]
    },
    {
      "cell_type": "code",
      "execution_count": null,
      "metadata": {
        "id": "dDRlfZTU0uaQ"
      },
      "outputs": [],
      "source": [
        "label_map = {  0: 'Normal', 1: 'Harras'}\n",
        "# list_y_pred = np.array([label_map[y] for y in list_y_pred])\n",
        "# list_y_true = np.array([label_map[y] for y in list_y_true])\n",
        "\n",
        "# print(\"list_y_pred\", len(list_y_pred))\n",
        "\n",
        "# print(\"list_y_pred\", list_y_pred)\n",
        "\n",
        "cf_matrix = confusion_matrix(list_y_true, list_y_pred)"
      ]
    },
    {
      "cell_type": "code",
      "execution_count": null,
      "metadata": {
        "id": "RdZXnWWgRQcC",
        "colab": {
          "base_uri": "https://localhost:8080/"
        },
        "outputId": "461d7c82-eddf-4a2a-b82a-c6246131ce2c"
      },
      "outputs": [
        {
          "output_type": "execute_result",
          "data": {
            "text/plain": [
              "array([[480,  40],\n",
              "       [ 16, 505]])"
            ]
          },
          "metadata": {},
          "execution_count": 72
        }
      ],
      "source": [
        "cf_matrix"
      ]
    },
    {
      "cell_type": "code",
      "execution_count": null,
      "metadata": {
        "id": "GNgw08o8dgj7"
      },
      "outputs": [],
      "source": [
        "import seaborn as sns\n",
        "import matplotlib.pyplot as plt\n",
        "from sklearn.metrics import ConfusionMatrixDisplay"
      ]
    },
    {
      "cell_type": "code",
      "execution_count": null,
      "metadata": {
        "id": "vDBhzn0FPquQ",
        "colab": {
          "base_uri": "https://localhost:8080/"
        },
        "outputId": "84d7dc46-fe63-48c8-bcfe-f966e345162d"
      },
      "outputs": [
        {
          "output_type": "display_data",
          "data": {
            "text/plain": [
              "<Figure size 640x480 with 0 Axes>"
            ]
          },
          "metadata": {}
        },
        {
          "output_type": "display_data",
          "data": {
            "text/plain": [
              "<Figure size 640x480 with 2 Axes>"
            ],
            "image/png": "[encoded data removed]"
          },
          "metadata": {}
        }
      ],
      "source": [
        "plt.figure(3)\n",
        "cf_matrix = ConfusionMatrixDisplay.from_predictions(list_y_true, list_y_pred, cmap='Blues')\n",
        "plt.title('Confusion Matrix')\n",
        "plt.savefig(graph_path+ model_identifier + model_save_name + ' Confusion Matrix.png',dpi=300,bbox_inches='tight')\n",
        "plt.show()"
      ]
    },
    {
      "cell_type": "code",
      "execution_count": null,
      "metadata": {
        "id": "mp2CXrpc109A",
        "colab": {
          "base_uri": "https://localhost:8080/"
        },
        "outputId": "abd4ac40-0a95-4cef-956b-c41b3a35a856"
      },
      "outputs": [
        {
          "output_type": "stream",
          "name": "stdout",
          "text": [
            "Accuracy: 0.946\n",
            "AUC: 0.9845\n",
            "MCC: 0.8934\n",
            "Loss: 0.222\n",
            "Precision: 0.946 \n",
            "Recall: 0.947 \n",
            "F1-Score: 0.946 \n"
          ]
        }
      ],
      "source": [
        "precision, recall, f1_score, support = precision_recall_fscore_support(list_y_pred, list_y_true)\n",
        "mcc_score = matthews_corrcoef(list_y_true, list_y_pred)\n",
        "\n",
        "print(\"Accuracy: %.3f\" % test_acc)\n",
        "print(\"AUC: %.4f\" % test_auc_score)\n",
        "print(\"MCC: %.4f\" % mcc_score)\n",
        "print(\"Loss: %.3f\" % test_loss)\n",
        "print(\"Precision: %.3f \" % np.mean(precision))\n",
        "print(\"Recall: %.3f \" % np.mean(recall))\n",
        "print(\"F1-Score: %.3f \" % np.mean(f1_score))"
      ]
    },
    {
      "cell_type": "code",
      "execution_count": null,
      "metadata": {
        "id": "n4WhN0ZImyqn"
      },
      "outputs": [],
      "source": [
        "test_report = {\n",
        "    'test_accuracy': test_acc,\n",
        "    'test_auc_score': test_auc_score,\n",
        "    'test_mcc_score': mcc_score,\n",
        "    'test_loss': test_loss,\n",
        "    'test_precision': np.mean(precision),\n",
        "    'test_recall': np.mean(recall),\n",
        "    'test_f1_score': np.mean(f1_score)\n",
        "    }"
      ]
    },
    {
      "cell_type": "code",
      "execution_count": null,
      "metadata": {
        "id": "yl_W_UPYmjlY"
      },
      "outputs": [],
      "source": [
        "df_report = pd.DataFrame(test_report, index=[0])\n",
        "\n",
        "# Define the output file name\n",
        "output_report_file = report_path + model_identifier + model_save_name + ' testing report.csv'\n",
        "\n",
        "# Write the DataFrame to a CSV file\n",
        "df_report.to_csv(output_report_file, index=False)"
      ]
    },
    {
      "cell_type": "code",
      "execution_count": null,
      "metadata": {
        "id": "a9IoLoiaQtF6",
        "colab": {
          "base_uri": "https://localhost:8080/"
        },
        "outputId": "a34f6f45-d55c-4949-9d67-f24098a5b363"
      },
      "outputs": [
        {
          "output_type": "stream",
          "name": "stdout",
          "text": [
            "True Label: 0 | Predicted Label: 1\n",
            "index: 3\n",
            "Sentence: kalo di saya aplikasi ini tidak terlalu bermasalah dan bisa digunakan setiap pengisian bahan bakar tetapi yang jadi masalahnya tempat pengisian pom bensinnya banyak yang tidak menyediakan pengisian non tunai cuma ada tempat yang melayani non tunai dan itupun keseringan mengalami gangguan jaringannya menurut versi karyawannya jadi aplikasi ini tidak bisa dipakai balik lagi ke tunai \n",
            "\n",
            "True Label: 0 | Predicted Label: 1\n",
            "index: 29\n",
            "Sentence: saya sudah daftar tapi biru nya enggak ada \n",
            "\n",
            "True Label: 0 | Predicted Label: 1\n",
            "index: 66\n",
            "Sentence: ini kenapa ya kabanyakan pom bensin belum tersedia layanan pertamanya yang alasanya jaringan error mesinya rusak apa jangan operatornya tidak bisa karena belum di training tolong dong yang seperti ini segera di perbaiki kita sebagai pengguna pertamanya yang mengikuti aturan perusahaan jadinya mengolok bayar bensin pakai uang pribadi kita kerja cari uang bukan menyambung untuk perusahaan atas perhatian terima kasih \n",
            "\n",
            "True Label: 0 | Predicted Label: 1\n",
            "index: 89\n",
            "Sentence: tidak bisa merubah email yang lama ke yang baru otp pendaftaran subsidi tepat tidak masuk ke email tidak ada live chat untuk bantu masalah banyak masih yang digunakan \n",
            "\n",
            "True Label: 0 | Predicted Label: 1\n",
            "index: 92\n",
            "Sentence: aplikasi buruk daftar sudah sesuai nik segala macam masih saja enggak bisa enggak sesuai data sampai akhirnya sistem juga enggak diberlakukan \n",
            "\n",
            "True Label: 0 | Predicted Label: 1\n",
            "index: 97\n",
            "Sentence: tidak bisa login padahal sudah memendam dengan nomer hp dan pin yang benar sudah klik lupa pin anda tapi tetap tidak bisa login \n",
            "\n",
            "True Label: 0 | Predicted Label: 1\n",
            "index: 103\n",
            "Sentence: seharusnya negara ini enggak perlu seperti ini kalau mau adil berantas saja oknum bikin pembeli bbm tengah malam \n",
            "\n",
            "True Label: 0 | Predicted Label: 1\n",
            "index: 149\n",
            "Sentence: kayaknya sudah tidak berlaku lagi ini aplikasi sudah daftar tapi tidak bisa buat input data payah pertamanya \n",
            "\n",
            "True Label: 0 | Predicted Label: 1\n",
            "index: 203\n",
            "Sentence: sudah mah registrasinya lama pas sudah diverifikasi malah enggak bisa claim qr code nya membalas password tidak sesuai ini sebenarnya enggak pernah maunya apa sih yang mudah dipersulit yang sulit makin hancur \n",
            "\n",
            "True Label: 0 | Predicted Label: 1\n",
            "index: 269\n",
            "Sentence: aplikasi gagal tidak bisa menghubungkan dengan pembayaran link saja selalu muncul terjadi kesalahan pada aplikasi silakan coba beberapa saat lagi sudah semua cara dilakukan dengan mengikuti arahan dari cs my pertamina akan tetapi kendalanya masih tidak terselesaikan developer nya bagaimana ini aplikasi gagal kok dirilis bikin orang emosi saja \n",
            "\n",
            "True Label: 0 | Predicted Label: 1\n",
            "index: 272\n",
            "Sentence: tidak bisa menghubungkan ke link saja sudah di hapus tetap enggak bisa \n",
            "\n",
            "True Label: 0 | Predicted Label: 1\n",
            "index: 294\n",
            "Sentence: mantab cuma enggak bisa ambil foto dari galery kurang seru perbarui dong \n",
            "\n",
            "True Label: 0 | Predicted Label: 1\n",
            "index: 297\n",
            "Sentence: aplikasi bermasalah ini masa upload saja enggak bisa sudah saya coba install ulang bolak balik eh tetap sama saja bagaimana dengan pihak event pertamina ini \n",
            "\n",
            "True Label: 1 | Predicted Label: 0\n",
            "index: 312\n",
            "Sentence: kocak mengadakan hadiah via aplikasi tapi server eror mulu niat enggak sih \n",
            "\n"
          ]
        },
        {
          "output_type": "stream",
          "name": "stderr",
          "text": [
            "<ipython-input-78-9d49492ef56a>:12: FutureWarning: The frame.append method is deprecated and will be removed from pandas in a future version. Use pandas.concat instead.\n",
            "  df = df.append({\"Index\": index, \"Sentence\": sentence, \"True Label\": true_label, \"Predicted Label\": predicted_label},\n",
            "<ipython-input-78-9d49492ef56a>:12: FutureWarning: The frame.append method is deprecated and will be removed from pandas in a future version. Use pandas.concat instead.\n",
            "  df = df.append({\"Index\": index, \"Sentence\": sentence, \"True Label\": true_label, \"Predicted Label\": predicted_label},\n",
            "<ipython-input-78-9d49492ef56a>:12: FutureWarning: The frame.append method is deprecated and will be removed from pandas in a future version. Use pandas.concat instead.\n",
            "  df = df.append({\"Index\": index, \"Sentence\": sentence, \"True Label\": true_label, \"Predicted Label\": predicted_label},\n",
            "<ipython-input-78-9d49492ef56a>:12: FutureWarning: The frame.append method is deprecated and will be removed from pandas in a future version. Use pandas.concat instead.\n",
            "  df = df.append({\"Index\": index, \"Sentence\": sentence, \"True Label\": true_label, \"Predicted Label\": predicted_label},\n",
            "<ipython-input-78-9d49492ef56a>:12: FutureWarning: The frame.append method is deprecated and will be removed from pandas in a future version. Use pandas.concat instead.\n",
            "  df = df.append({\"Index\": index, \"Sentence\": sentence, \"True Label\": true_label, \"Predicted Label\": predicted_label},\n",
            "<ipython-input-78-9d49492ef56a>:12: FutureWarning: The frame.append method is deprecated and will be removed from pandas in a future version. Use pandas.concat instead.\n",
            "  df = df.append({\"Index\": index, \"Sentence\": sentence, \"True Label\": true_label, \"Predicted Label\": predicted_label},\n",
            "<ipython-input-78-9d49492ef56a>:12: FutureWarning: The frame.append method is deprecated and will be removed from pandas in a future version. Use pandas.concat instead.\n",
            "  df = df.append({\"Index\": index, \"Sentence\": sentence, \"True Label\": true_label, \"Predicted Label\": predicted_label},\n",
            "<ipython-input-78-9d49492ef56a>:12: FutureWarning: The frame.append method is deprecated and will be removed from pandas in a future version. Use pandas.concat instead.\n",
            "  df = df.append({\"Index\": index, \"Sentence\": sentence, \"True Label\": true_label, \"Predicted Label\": predicted_label},\n",
            "<ipython-input-78-9d49492ef56a>:12: FutureWarning: The frame.append method is deprecated and will be removed from pandas in a future version. Use pandas.concat instead.\n",
            "  df = df.append({\"Index\": index, \"Sentence\": sentence, \"True Label\": true_label, \"Predicted Label\": predicted_label},\n",
            "<ipython-input-78-9d49492ef56a>:12: FutureWarning: The frame.append method is deprecated and will be removed from pandas in a future version. Use pandas.concat instead.\n",
            "  df = df.append({\"Index\": index, \"Sentence\": sentence, \"True Label\": true_label, \"Predicted Label\": predicted_label},\n",
            "<ipython-input-78-9d49492ef56a>:12: FutureWarning: The frame.append method is deprecated and will be removed from pandas in a future version. Use pandas.concat instead.\n",
            "  df = df.append({\"Index\": index, \"Sentence\": sentence, \"True Label\": true_label, \"Predicted Label\": predicted_label},\n",
            "<ipython-input-78-9d49492ef56a>:12: FutureWarning: The frame.append method is deprecated and will be removed from pandas in a future version. Use pandas.concat instead.\n",
            "  df = df.append({\"Index\": index, \"Sentence\": sentence, \"True Label\": true_label, \"Predicted Label\": predicted_label},\n",
            "<ipython-input-78-9d49492ef56a>:12: FutureWarning: The frame.append method is deprecated and will be removed from pandas in a future version. Use pandas.concat instead.\n",
            "  df = df.append({\"Index\": index, \"Sentence\": sentence, \"True Label\": true_label, \"Predicted Label\": predicted_label},\n",
            "<ipython-input-78-9d49492ef56a>:12: FutureWarning: The frame.append method is deprecated and will be removed from pandas in a future version. Use pandas.concat instead.\n",
            "  df = df.append({\"Index\": index, \"Sentence\": sentence, \"True Label\": true_label, \"Predicted Label\": predicted_label},\n",
            "<ipython-input-78-9d49492ef56a>:12: FutureWarning: The frame.append method is deprecated and will be removed from pandas in a future version. Use pandas.concat instead.\n",
            "  df = df.append({\"Index\": index, \"Sentence\": sentence, \"True Label\": true_label, \"Predicted Label\": predicted_label},\n",
            "<ipython-input-78-9d49492ef56a>:12: FutureWarning: The frame.append method is deprecated and will be removed from pandas in a future version. Use pandas.concat instead.\n",
            "  df = df.append({\"Index\": index, \"Sentence\": sentence, \"True Label\": true_label, \"Predicted Label\": predicted_label},\n",
            "<ipython-input-78-9d49492ef56a>:12: FutureWarning: The frame.append method is deprecated and will be removed from pandas in a future version. Use pandas.concat instead.\n",
            "  df = df.append({\"Index\": index, \"Sentence\": sentence, \"True Label\": true_label, \"Predicted Label\": predicted_label},\n",
            "<ipython-input-78-9d49492ef56a>:12: FutureWarning: The frame.append method is deprecated and will be removed from pandas in a future version. Use pandas.concat instead.\n",
            "  df = df.append({\"Index\": index, \"Sentence\": sentence, \"True Label\": true_label, \"Predicted Label\": predicted_label},\n",
            "<ipython-input-78-9d49492ef56a>:12: FutureWarning: The frame.append method is deprecated and will be removed from pandas in a future version. Use pandas.concat instead.\n",
            "  df = df.append({\"Index\": index, \"Sentence\": sentence, \"True Label\": true_label, \"Predicted Label\": predicted_label},\n",
            "<ipython-input-78-9d49492ef56a>:12: FutureWarning: The frame.append method is deprecated and will be removed from pandas in a future version. Use pandas.concat instead.\n",
            "  df = df.append({\"Index\": index, \"Sentence\": sentence, \"True Label\": true_label, \"Predicted Label\": predicted_label},\n",
            "<ipython-input-78-9d49492ef56a>:12: FutureWarning: The frame.append method is deprecated and will be removed from pandas in a future version. Use pandas.concat instead.\n",
            "  df = df.append({\"Index\": index, \"Sentence\": sentence, \"True Label\": true_label, \"Predicted Label\": predicted_label},\n",
            "<ipython-input-78-9d49492ef56a>:12: FutureWarning: The frame.append method is deprecated and will be removed from pandas in a future version. Use pandas.concat instead.\n",
            "  df = df.append({\"Index\": index, \"Sentence\": sentence, \"True Label\": true_label, \"Predicted Label\": predicted_label},\n",
            "<ipython-input-78-9d49492ef56a>:12: FutureWarning: The frame.append method is deprecated and will be removed from pandas in a future version. Use pandas.concat instead.\n",
            "  df = df.append({\"Index\": index, \"Sentence\": sentence, \"True Label\": true_label, \"Predicted Label\": predicted_label},\n",
            "<ipython-input-78-9d49492ef56a>:12: FutureWarning: The frame.append method is deprecated and will be removed from pandas in a future version. Use pandas.concat instead.\n",
            "  df = df.append({\"Index\": index, \"Sentence\": sentence, \"True Label\": true_label, \"Predicted Label\": predicted_label},\n",
            "<ipython-input-78-9d49492ef56a>:12: FutureWarning: The frame.append method is deprecated and will be removed from pandas in a future version. Use pandas.concat instead.\n",
            "  df = df.append({\"Index\": index, \"Sentence\": sentence, \"True Label\": true_label, \"Predicted Label\": predicted_label},\n",
            "<ipython-input-78-9d49492ef56a>:12: FutureWarning: The frame.append method is deprecated and will be removed from pandas in a future version. Use pandas.concat instead.\n",
            "  df = df.append({\"Index\": index, \"Sentence\": sentence, \"True Label\": true_label, \"Predicted Label\": predicted_label},\n",
            "<ipython-input-78-9d49492ef56a>:12: FutureWarning: The frame.append method is deprecated and will be removed from pandas in a future version. Use pandas.concat instead.\n",
            "  df = df.append({\"Index\": index, \"Sentence\": sentence, \"True Label\": true_label, \"Predicted Label\": predicted_label},\n",
            "<ipython-input-78-9d49492ef56a>:12: FutureWarning: The frame.append method is deprecated and will be removed from pandas in a future version. Use pandas.concat instead.\n",
            "  df = df.append({\"Index\": index, \"Sentence\": sentence, \"True Label\": true_label, \"Predicted Label\": predicted_label},\n"
          ]
        },
        {
          "output_type": "stream",
          "name": "stdout",
          "text": [
            "True Label: 0 | Predicted Label: 1\n",
            "index: 315\n",
            "Sentence: aplikasi enggak jelas mau upgrade ktp maaf server sedang bermasalah mau scan struk tidak bisa juga padahal saya pakai wifi data sama saja tidak ada gurunya buka yang lain lancar saja hahaha kasih bintang saja kalo buat yang ini mah \n",
            "\n",
            "True Label: 0 | Predicted Label: 1\n",
            "index: 316\n",
            "Sentence: sudah di download mau buka aplikasinya saja enggak bisa malah tertulis jaringan tidak aman terus saya harus ganti jaringan apa \n",
            "\n",
            "True Label: 0 | Predicted Label: 1\n",
            "index: 320\n",
            "Sentence: kalo enggak niat mengasih hadiah jangan php ini orang \n",
            "\n",
            "True Label: 0 | Predicted Label: 1\n",
            "index: 356\n",
            "Sentence: ku pakai hp samsung yang enggak ada kamera depanya kok enggak bisa sudah akun force close melulu \n",
            "\n",
            "True Label: 0 | Predicted Label: 1\n",
            "index: 365\n",
            "Sentence: sudah bagi-bagi sih tapi kenapa saya tidak bisa upgrade member ya \n",
            "\n",
            "True Label: 1 | Predicted Label: 0\n",
            "index: 368\n",
            "Sentence: kok enggak bisa login \n",
            "\n",
            "True Label: 0 | Predicted Label: 1\n",
            "index: 429\n",
            "Sentence: banyak bug tolong diperbaiki \n",
            "\n",
            "True Label: 1 | Predicted Label: 0\n",
            "index: 448\n",
            "Sentence: sering terjadi bug merepotkan \n",
            "\n",
            "True Label: 0 | Predicted Label: 1\n",
            "index: 463\n",
            "Sentence: percuma dulu my pertamina jarang yang ada barcode scan sudah begitu ngelag suka keluar sendiri bugnya banyak banget \n",
            "\n",
            "True Label: 0 | Predicted Label: 1\n",
            "index: 476\n",
            "Sentence: dulu instal iseng eh sekarang wajib malah banyak bug \n",
            "\n",
            "True Label: 1 | Predicted Label: 0\n",
            "index: 483\n",
            "Sentence: bug terus aplikasi nya error \n",
            "\n",
            "True Label: 0 | Predicted Label: 1\n",
            "index: 486\n",
            "Sentence: aplikasi masih bug sering keluar sendiri mau login saja enggak bisa sudah saya coba berulang ulang tapi tetap saja enggak bisa tolong diperbaiki dulu sistemnya dan sebaiknya di uji coba dulu \n",
            "\n",
            "True Label: 1 | Predicted Label: 0\n",
            "index: 502\n",
            "Sentence: nge bug baru masuk keluar terus \n",
            "\n",
            "True Label: 1 | Predicted Label: 0\n",
            "index: 512\n",
            "Sentence: banyak terjadi bug terutama saat pertama kali mendaftar \n",
            "\n",
            "True Label: 0 | Predicted Label: 1\n",
            "index: 513\n",
            "Sentence: aplikasinya masih banyak bug masa baru login langsung kena mental \n",
            "\n",
            "True Label: 0 | Predicted Label: 1\n",
            "index: 536\n",
            "Sentence: ribet suka ngebug kadang aplikasi keluar sendiri \n",
            "\n",
            "True Label: 0 | Predicted Label: 1\n",
            "index: 562\n",
            "Sentence: aplikasi apaan ini jelek benar enggak berfungsi sama sekali mau daftar saja kagak bisa lemot banyak bug note ada jalan yang mudah kenapa harus mengambil jalan yang banget \n",
            "\n",
            "True Label: 0 | Predicted Label: 1\n",
            "index: 595\n",
            "Sentence: perlu dibenahi banyak hal koneksi minimalisir bug dan error \n",
            "\n",
            "True Label: 0 | Predicted Label: 1\n",
            "index: 597\n",
            "Sentence: kemana koneksi time out mulu parah ini bapaknya \n",
            "\n",
            "True Label: 0 | Predicted Label: 1\n",
            "index: 599\n",
            "Sentence: sering terjadi bug kesalahan aplikasi \n",
            "\n",
            "True Label: 1 | Predicted Label: 0\n",
            "index: 627\n",
            "Sentence: masih banyak bug nya koneksi nya kurang baik untuk app nya \n",
            "\n",
            "True Label: 1 | Predicted Label: 0\n",
            "index: 704\n",
            "Sentence: sering hang banyak bug nya \n",
            "\n",
            "True Label: 1 | Predicted Label: 0\n",
            "index: 759\n",
            "Sentence: mencebur daftar saja susah lama ayo hapus wow \n",
            "\n",
            "True Label: 1 | Predicted Label: 0\n",
            "index: 761\n",
            "Sentence: banyak bug pilihan untuk pembayaran masih sangat sempit kenapa cuma link saja malah bank bumn enggak ada \n",
            "\n",
            "True Label: 0 | Predicted Label: 1\n",
            "index: 797\n",
            "Sentence: masih ngebug kode otp nya lama dikirim sering lemot kadang log out sendiri sudah begitu pilihan cashless jangan cuma linkaja tapi tolong ditambah lagi demi kenyamanan bersama but yeah terpaksa dipaksa download sih namanya kita rakyat \n",
            "\n",
            "True Label: 0 | Predicted Label: 1\n",
            "index: 803\n",
            "Sentence: banyak bug dan kalau mau diwajibkan tolong lengkapi pembayaran ada walet jangan cuma sengaja \n",
            "\n",
            "True Label: 1 | Predicted Label: 0\n",
            "index: 813\n",
            "Sentence: pembayaran kalah sama sempat bisa biaya admin lebih kecil cuma bisa sedikit hanya link saja banyak bug perlu pengembangan lebih lanjut sebelum di sosialisasi kan \n",
            "\n",
            "True Label: 0 | Predicted Label: 1\n",
            "index: 828\n",
            "Sentence: respon aplikasi nya sangat lambat sekali bug masih ada di sana sini tolong kalo memang ingin di terapkan di seluruh indonesia di perbaiki lagi aplikasi nya \n",
            "\n",
            "True Label: 1 | Predicted Label: 0\n",
            "index: 830\n",
            "Sentence: susah dasar susah login banyak bug lemot asu deh lah \n",
            "\n",
            "True Label: 1 | Predicted Label: 0\n",
            "index: 846\n",
            "Sentence: halah menyusahkan saja banyak bug nya dikit keluar mengekek lah padahal internet nya bagus mohon diperbaiki lagi \n",
            "\n",
            "True Label: 1 | Predicted Label: 0\n",
            "index: 852\n",
            "Sentence: saja gue update malah bug terus di pembayaran kenal \n",
            "\n",
            "True Label: 0 | Predicted Label: 1\n",
            "index: 872\n",
            "Sentence: sudah daftar sudah ter verifikasi otp nya tapi pas login enggak bisa masuk kesenangan koneksi padahal koneksi saya bagus di coba pakai wifi sama masalah koneksi coba di perbaiki bug ini kalo memang my pertamina harus di pakai untuk pengisian bahan bukan kendaraan sudah mempersulit di tambah aplikasi nya kurang membantu juga keren \n",
            "\n",
            "True Label: 0 | Predicted Label: 1\n",
            "index: 892\n",
            "Sentence: daftar nya saja susah banyak bug lah terus mau di php ini apa bagaimana ini kita cari solar susah banget \n",
            "\n",
            "True Label: 0 | Predicted Label: 1\n",
            "index: 895\n",
            "Sentence: masih banyak bug saran mengadakan promo untuk pembelian pertalite voucher diskon dll \n",
            "\n",
            "True Label: 1 | Predicted Label: 0\n",
            "index: 927\n",
            "Sentence: enggak berfungsi dengan baik kadang masih suka bug keluar sendiri masih butuh perbaikan lebih baik kedepannya \n",
            "\n",
            "True Label: 0 | Predicted Label: 1\n",
            "index: 940\n",
            "Sentence: apaan nih bug masa mau verivikasi saja enggak bisa bisa sudah memakai nomor juga \n",
            "\n",
            "True Label: 0 | Predicted Label: 1\n",
            "index: 952\n",
            "Sentence: banyak eror dan bugnya daftar sampai berulang terlalu dipaksakan \n",
            "\n",
            "True Label: 0 | Predicted Label: 1\n",
            "index: 996\n",
            "Sentence: banyak bug dan sering eror \n",
            "\n",
            "True Label: 1 | Predicted Label: 0\n",
            "index: 1008\n",
            "Sentence: malah ribet daftar nya susah enggak tau ngebug enggak tau bagaimana no sudah benar otp enggak masuk masuk \n",
            "\n",
            "True Label: 0 | Predicted Label: 1\n",
            "index: 1018\n",
            "Sentence: developer abal abal mau daftar saja susah banyak bug masa harus pakai manual baru bisa menerima otp \n",
            "\n",
            "True Label:"
          ]
        },
        {
          "output_type": "stream",
          "name": "stderr",
          "text": [
            "<ipython-input-78-9d49492ef56a>:12: FutureWarning: The frame.append method is deprecated and will be removed from pandas in a future version. Use pandas.concat instead.\n",
            "  df = df.append({\"Index\": index, \"Sentence\": sentence, \"True Label\": true_label, \"Predicted Label\": predicted_label},\n",
            "<ipython-input-78-9d49492ef56a>:12: FutureWarning: The frame.append method is deprecated and will be removed from pandas in a future version. Use pandas.concat instead.\n",
            "  df = df.append({\"Index\": index, \"Sentence\": sentence, \"True Label\": true_label, \"Predicted Label\": predicted_label},\n",
            "<ipython-input-78-9d49492ef56a>:12: FutureWarning: The frame.append method is deprecated and will be removed from pandas in a future version. Use pandas.concat instead.\n",
            "  df = df.append({\"Index\": index, \"Sentence\": sentence, \"True Label\": true_label, \"Predicted Label\": predicted_label},\n",
            "<ipython-input-78-9d49492ef56a>:12: FutureWarning: The frame.append method is deprecated and will be removed from pandas in a future version. Use pandas.concat instead.\n",
            "  df = df.append({\"Index\": index, \"Sentence\": sentence, \"True Label\": true_label, \"Predicted Label\": predicted_label},\n",
            "<ipython-input-78-9d49492ef56a>:12: FutureWarning: The frame.append method is deprecated and will be removed from pandas in a future version. Use pandas.concat instead.\n",
            "  df = df.append({\"Index\": index, \"Sentence\": sentence, \"True Label\": true_label, \"Predicted Label\": predicted_label},\n",
            "<ipython-input-78-9d49492ef56a>:12: FutureWarning: The frame.append method is deprecated and will be removed from pandas in a future version. Use pandas.concat instead.\n",
            "  df = df.append({\"Index\": index, \"Sentence\": sentence, \"True Label\": true_label, \"Predicted Label\": predicted_label},\n",
            "<ipython-input-78-9d49492ef56a>:12: FutureWarning: The frame.append method is deprecated and will be removed from pandas in a future version. Use pandas.concat instead.\n",
            "  df = df.append({\"Index\": index, \"Sentence\": sentence, \"True Label\": true_label, \"Predicted Label\": predicted_label},\n",
            "<ipython-input-78-9d49492ef56a>:12: FutureWarning: The frame.append method is deprecated and will be removed from pandas in a future version. Use pandas.concat instead.\n",
            "  df = df.append({\"Index\": index, \"Sentence\": sentence, \"True Label\": true_label, \"Predicted Label\": predicted_label},\n",
            "<ipython-input-78-9d49492ef56a>:12: FutureWarning: The frame.append method is deprecated and will be removed from pandas in a future version. Use pandas.concat instead.\n",
            "  df = df.append({\"Index\": index, \"Sentence\": sentence, \"True Label\": true_label, \"Predicted Label\": predicted_label},\n",
            "<ipython-input-78-9d49492ef56a>:12: FutureWarning: The frame.append method is deprecated and will be removed from pandas in a future version. Use pandas.concat instead.\n",
            "  df = df.append({\"Index\": index, \"Sentence\": sentence, \"True Label\": true_label, \"Predicted Label\": predicted_label},\n",
            "<ipython-input-78-9d49492ef56a>:12: FutureWarning: The frame.append method is deprecated and will be removed from pandas in a future version. Use pandas.concat instead.\n",
            "  df = df.append({\"Index\": index, \"Sentence\": sentence, \"True Label\": true_label, \"Predicted Label\": predicted_label},\n",
            "<ipython-input-78-9d49492ef56a>:12: FutureWarning: The frame.append method is deprecated and will be removed from pandas in a future version. Use pandas.concat instead.\n",
            "  df = df.append({\"Index\": index, \"Sentence\": sentence, \"True Label\": true_label, \"Predicted Label\": predicted_label},\n",
            "<ipython-input-78-9d49492ef56a>:12: FutureWarning: The frame.append method is deprecated and will be removed from pandas in a future version. Use pandas.concat instead.\n",
            "  df = df.append({\"Index\": index, \"Sentence\": sentence, \"True Label\": true_label, \"Predicted Label\": predicted_label},\n",
            "<ipython-input-78-9d49492ef56a>:12: FutureWarning: The frame.append method is deprecated and will be removed from pandas in a future version. Use pandas.concat instead.\n",
            "  df = df.append({\"Index\": index, \"Sentence\": sentence, \"True Label\": true_label, \"Predicted Label\": predicted_label},\n",
            "<ipython-input-78-9d49492ef56a>:12: FutureWarning: The frame.append method is deprecated and will be removed from pandas in a future version. Use pandas.concat instead.\n",
            "  df = df.append({\"Index\": index, \"Sentence\": sentence, \"True Label\": true_label, \"Predicted Label\": predicted_label},\n",
            "<ipython-input-78-9d49492ef56a>:12: FutureWarning: The frame.append method is deprecated and will be removed from pandas in a future version. Use pandas.concat instead.\n",
            "  df = df.append({\"Index\": index, \"Sentence\": sentence, \"True Label\": true_label, \"Predicted Label\": predicted_label},\n",
            "<ipython-input-78-9d49492ef56a>:12: FutureWarning: The frame.append method is deprecated and will be removed from pandas in a future version. Use pandas.concat instead.\n",
            "  df = df.append({\"Index\": index, \"Sentence\": sentence, \"True Label\": true_label, \"Predicted Label\": predicted_label},\n",
            "<ipython-input-78-9d49492ef56a>:12: FutureWarning: The frame.append method is deprecated and will be removed from pandas in a future version. Use pandas.concat instead.\n",
            "  df = df.append({\"Index\": index, \"Sentence\": sentence, \"True Label\": true_label, \"Predicted Label\": predicted_label},\n",
            "<ipython-input-78-9d49492ef56a>:12: FutureWarning: The frame.append method is deprecated and will be removed from pandas in a future version. Use pandas.concat instead.\n",
            "  df = df.append({\"Index\": index, \"Sentence\": sentence, \"True Label\": true_label, \"Predicted Label\": predicted_label},\n",
            "<ipython-input-78-9d49492ef56a>:12: FutureWarning: The frame.append method is deprecated and will be removed from pandas in a future version. Use pandas.concat instead.\n",
            "  df = df.append({\"Index\": index, \"Sentence\": sentence, \"True Label\": true_label, \"Predicted Label\": predicted_label},\n",
            "<ipython-input-78-9d49492ef56a>:12: FutureWarning: The frame.append method is deprecated and will be removed from pandas in a future version. Use pandas.concat instead.\n",
            "  df = df.append({\"Index\": index, \"Sentence\": sentence, \"True Label\": true_label, \"Predicted Label\": predicted_label},\n",
            "<ipython-input-78-9d49492ef56a>:12: FutureWarning: The frame.append method is deprecated and will be removed from pandas in a future version. Use pandas.concat instead.\n",
            "  df = df.append({\"Index\": index, \"Sentence\": sentence, \"True Label\": true_label, \"Predicted Label\": predicted_label},\n",
            "<ipython-input-78-9d49492ef56a>:12: FutureWarning: The frame.append method is deprecated and will be removed from pandas in a future version. Use pandas.concat instead.\n",
            "  df = df.append({\"Index\": index, \"Sentence\": sentence, \"True Label\": true_label, \"Predicted Label\": predicted_label},\n",
            "<ipython-input-78-9d49492ef56a>:12: FutureWarning: The frame.append method is deprecated and will be removed from pandas in a future version. Use pandas.concat instead.\n",
            "  df = df.append({\"Index\": index, \"Sentence\": sentence, \"True Label\": true_label, \"Predicted Label\": predicted_label},\n",
            "<ipython-input-78-9d49492ef56a>:12: FutureWarning: The frame.append method is deprecated and will be removed from pandas in a future version. Use pandas.concat instead.\n",
            "  df = df.append({\"Index\": index, \"Sentence\": sentence, \"True Label\": true_label, \"Predicted Label\": predicted_label},\n",
            "<ipython-input-78-9d49492ef56a>:12: FutureWarning: The frame.append method is deprecated and will be removed from pandas in a future version. Use pandas.concat instead.\n",
            "  df = df.append({\"Index\": index, \"Sentence\": sentence, \"True Label\": true_label, \"Predicted Label\": predicted_label},\n",
            "<ipython-input-78-9d49492ef56a>:12: FutureWarning: The frame.append method is deprecated and will be removed from pandas in a future version. Use pandas.concat instead.\n",
            "  df = df.append({\"Index\": index, \"Sentence\": sentence, \"True Label\": true_label, \"Predicted Label\": predicted_label},\n"
          ]
        },
        {
          "output_type": "stream",
          "name": "stdout",
          "text": [
            " 0 | Predicted Label: 1\n",
            "index: 1019\n",
            "Sentence: baru isi data pas daftar eee tulisannya terjadi kesalahan mulu kalau memang diharuskan pakai aplikasi mbok ya dibereskan dulu bug seperti itu itu kok ya ngoyo men keren \n",
            "\n",
            "True Label: 0 | Predicted Label: 1\n",
            "index: 1036\n",
            "Sentence: hp saya ram internal tapi selalu force close terus indak bisa dibuka versi ini kayaknya indak semua hp support masih nge bugs \n",
            "\n"
          ]
        },
        {
          "output_type": "stream",
          "name": "stderr",
          "text": [
            "<ipython-input-78-9d49492ef56a>:12: FutureWarning: The frame.append method is deprecated and will be removed from pandas in a future version. Use pandas.concat instead.\n",
            "  df = df.append({\"Index\": index, \"Sentence\": sentence, \"True Label\": true_label, \"Predicted Label\": predicted_label},\n"
          ]
        }
      ],
      "source": [
        "# print the wrong predicted label\n",
        "\n",
        "# Create a DataFrame to store the results\n",
        "df = pd.DataFrame(columns=[\"Index\", \"Sentence\", \"True Label\", \"Predicted Label\"])\n",
        "\n",
        "i=0\n",
        "for index, value in enumerate(list_y_true):\n",
        "  if value != list_y_pred[i]:\n",
        "    true_label = value\n",
        "    predicted_label = list_y_pred[i]\n",
        "    sentence = text[index]\n",
        "    df = df.append({\"Index\": index, \"Sentence\": sentence, \"True Label\": true_label, \"Predicted Label\": predicted_label},\n",
        "                       ignore_index=True)\n",
        "    print('True Label:', true_label, '|', 'Predicted Label:', predicted_label)\n",
        "    print('index:', index)\n",
        "    print('Sentence:', sentence, '\\n')\n",
        "  i=i+1\n",
        "\n",
        "# Define the output file name\n",
        "output_report_file = report_path + model_identifier + model_save_name + ' wrong predictions report.csv'\n",
        "\n",
        "# Write the DataFrame to a CSV file\n",
        "df.to_csv(output_report_file, index=False)"
      ]
    },
    {
      "cell_type": "markdown",
      "metadata": {
        "id": "GBzcC_bFfKYF"
      },
      "source": [
        "# Save and Load Model"
      ]
    },
    {
      "cell_type": "markdown",
      "metadata": {
        "id": "ZdT-qapvIwME"
      },
      "source": [
        "## Save tokenizer"
      ]
    },
    {
      "cell_type": "code",
      "execution_count": null,
      "metadata": {
        "colab": {
          "base_uri": "https://localhost:8080/"
        },
        "id": "6thxbg4fHJlU",
        "outputId": "89bc1eeb-7479-45f4-8f6c-463dfc71b64c"
      },
      "outputs": [
        {
          "data": {
            "text/plain": [
              "('/content/gdrive/My Drive/TA/Ards/tokenizer/indobert_2e5_32-chng8/tokenizer_config.json',\n",
              " '/content/gdrive/My Drive/TA/Ards/tokenizer/indobert_2e5_32-chng8/special_tokens_map.json',\n",
              " '/content/gdrive/My Drive/TA/Ards/tokenizer/indobert_2e5_32-chng8/vocab.txt',\n",
              " '/content/gdrive/My Drive/TA/Ards/tokenizer/indobert_2e5_32-chng8/added_tokens.json')"
            ]
          },
          "execution_count": 77,
          "metadata": {},
          "output_type": "execute_result"
        }
      ],
      "source": [
        "tokenizer.save_pretrained(tokenizer_path)"
      ]
    },
    {
      "cell_type": "markdown",
      "metadata": {
        "id": "4J7Hwq7scyRg"
      },
      "source": [
        "## Save last model"
      ]
    },
    {
      "cell_type": "code",
      "execution_count": null,
      "metadata": {
        "colab": {
          "base_uri": "https://localhost:8080/"
        },
        "id": "8iv5L6iNRGE2",
        "outputId": "98247ff0-21bc-4fe7-9ecf-978083728bf6"
      },
      "outputs": [
        {
          "name": "stdout",
          "output_type": "stream",
          "text": [
            "Saving final model...\n"
          ]
        }
      ],
      "source": [
        "# save the trained model weights for a final time\n",
        "save_model(epoch, model, optimizer, criterion)"
      ]
    },
    {
      "cell_type": "code",
      "execution_count": null,
      "metadata": {
        "colab": {
          "base_uri": "https://localhost:8080/"
        },
        "id": "g7Skm3zqRICS",
        "outputId": "9e1cddcc-4803-4d82-bedf-a9d3cab33728"
      },
      "outputs": [
        {
          "name": "stdout",
          "output_type": "stream",
          "text": [
            "The /content/gdrive/My Drive/TA/Ards/saved/f_indobert_2e5_32-chng8.pth size is 497860525 bytes\n"
          ]
        }
      ],
      "source": [
        "import os.path\n",
        "\n",
        "sz = os.path.getsize(model_path)\n",
        "print(f'The {model_path} size is', sz, 'bytes')"
      ]
    },
    {
      "cell_type": "code",
      "execution_count": null,
      "metadata": {
        "id": "Dho6dfqYGLL2"
      },
      "outputs": [],
      "source": [
        "# model = torch.load(model_path)\n",
        "# model.cuda()"
      ]
    },
    {
      "cell_type": "markdown",
      "metadata": {
        "id": "oorZpAtRNhJx"
      },
      "source": [
        "## Load Best model"
      ]
    },
    {
      "cell_type": "code",
      "execution_count": null,
      "metadata": {
        "colab": {
          "base_uri": "https://localhost:8080/"
        },
        "id": "DlYAO2AgN49o",
        "outputId": "8a6378a2-475b-4e10-8ed1-d8f6a7084d35"
      },
      "outputs": [
        {
          "output_type": "stream",
          "name": "stdout",
          "text": [
            "Best model was saved at 2 epochs\n",
            "\n"
          ]
        }
      ],
      "source": [
        "# load the best model checkpoint\n",
        "best_model_cp = torch.load(best_model_path)\n",
        "best_model_epoch = best_model_cp['epoch']\n",
        "print(f\"Best model was saved at {best_model_epoch} epochs\\n\")"
      ]
    },
    {
      "cell_type": "code",
      "execution_count": null,
      "metadata": {
        "id": "QdZ_OXVxGUAP"
      },
      "outputs": [],
      "source": [
        "del model"
      ]
    },
    {
      "cell_type": "code",
      "execution_count": null,
      "metadata": {
        "id": "EU8ylmDTFcqT"
      },
      "outputs": [],
      "source": [
        "model_identifier = \"b_\""
      ]
    },
    {
      "cell_type": "code",
      "execution_count": null,
      "metadata": {
        "id": "7E9vXvrmM7go"
      },
      "outputs": [],
      "source": [
        "model = IndoBERTModel(\n",
        "              bert_config,\n",
        "              bert,\n",
        "              OUTPUT_DIM)"
      ]
    },
    {
      "cell_type": "code",
      "execution_count": null,
      "metadata": {
        "colab": {
          "base_uri": "https://localhost:8080/"
        },
        "id": "ZUbxcgf7IAwX",
        "outputId": "a5e50949-89d1-4493-8215-21017f110b37"
      },
      "outputs": [
        {
          "output_type": "execute_result",
          "data": {
            "text/plain": [
              "IndoBERTModel(\n",
              "  (bert): BertModel(\n",
              "    (embeddings): BertEmbeddings(\n",
              "      (word_embeddings): Embedding(50000, 768, padding_idx=0)\n",
              "      (position_embeddings): Embedding(512, 768)\n",
              "      (token_type_embeddings): Embedding(2, 768)\n",
              "      (LayerNorm): LayerNorm((768,), eps=1e-12, elementwise_affine=True)\n",
              "      (dropout): Dropout(p=0.1, inplace=False)\n",
              "    )\n",
              "    (encoder): BertEncoder(\n",
              "      (layer): ModuleList(\n",
              "        (0-11): 12 x BertLayer(\n",
              "          (attention): BertAttention(\n",
              "            (self): BertSelfAttention(\n",
              "              (query): Linear(in_features=768, out_features=768, bias=True)\n",
              "              (key): Linear(in_features=768, out_features=768, bias=True)\n",
              "              (value): Linear(in_features=768, out_features=768, bias=True)\n",
              "              (dropout): Dropout(p=0.1, inplace=False)\n",
              "            )\n",
              "            (output): BertSelfOutput(\n",
              "              (dense): Linear(in_features=768, out_features=768, bias=True)\n",
              "              (LayerNorm): LayerNorm((768,), eps=1e-12, elementwise_affine=True)\n",
              "              (dropout): Dropout(p=0.1, inplace=False)\n",
              "            )\n",
              "          )\n",
              "          (intermediate): BertIntermediate(\n",
              "            (dense): Linear(in_features=768, out_features=3072, bias=True)\n",
              "            (intermediate_act_fn): GELUActivation()\n",
              "          )\n",
              "          (output): BertOutput(\n",
              "            (dense): Linear(in_features=3072, out_features=768, bias=True)\n",
              "            (LayerNorm): LayerNorm((768,), eps=1e-12, elementwise_affine=True)\n",
              "            (dropout): Dropout(p=0.1, inplace=False)\n",
              "          )\n",
              "        )\n",
              "      )\n",
              "    )\n",
              "    (pooler): BertPooler(\n",
              "      (dense): Linear(in_features=768, out_features=768, bias=True)\n",
              "      (activation): Tanh()\n",
              "    )\n",
              "  )\n",
              "  (dropout): Dropout(p=0.1, inplace=False)\n",
              "  (fc): Linear(in_features=768, out_features=2, bias=True)\n",
              ")"
            ]
          },
          "metadata": {},
          "execution_count": 83
        }
      ],
      "source": [
        "model.load_state_dict(best_model_cp['model_state_dict'])\n",
        "model.cuda()"
      ]
    },
    {
      "cell_type": "markdown",
      "metadata": {
        "id": "A-cNk_HXNkTo"
      },
      "source": [
        "## Load last model"
      ]
    },
    {
      "cell_type": "code",
      "execution_count": null,
      "metadata": {
        "colab": {
          "base_uri": "https://localhost:8080/"
        },
        "id": "EJsfgbemHplW",
        "outputId": "8cda66fe-6159-40f3-8aca-21a64fb9ef7a"
      },
      "outputs": [
        {
          "name": "stdout",
          "output_type": "stream",
          "text": [
            "Last model was saved at 14 epochs\n",
            "\n"
          ]
        }
      ],
      "source": [
        "# load the last model checkpoint\n",
        "last_model_cp = torch.load(model_path)\n",
        "last_model_epoch = last_model_cp['epoch']\n",
        "print(f\"Last model was saved at {last_model_epoch} epochs\\n\")"
      ]
    },
    {
      "cell_type": "code",
      "execution_count": null,
      "metadata": {
        "id": "gsA8ZnxWbi0N"
      },
      "outputs": [],
      "source": [
        "del model"
      ]
    },
    {
      "cell_type": "code",
      "execution_count": null,
      "metadata": {
        "id": "ic-BETCeAuci"
      },
      "outputs": [],
      "source": [
        "model_identifier = \"f_\""
      ]
    },
    {
      "cell_type": "code",
      "execution_count": null,
      "metadata": {
        "id": "tWJQFl6WNrT5"
      },
      "outputs": [],
      "source": [
        "model = IndoBERTModel(\n",
        "              bert_config,\n",
        "              bert,\n",
        "              OUTPUT_DIM)"
      ]
    },
    {
      "cell_type": "code",
      "execution_count": null,
      "metadata": {
        "colab": {
          "base_uri": "https://localhost:8080/"
        },
        "id": "VKgiPa9gNtlo",
        "outputId": "e008c68f-81e9-4880-d0e4-cdfa21242250"
      },
      "outputs": [
        {
          "data": {
            "text/plain": [
              "IndoBERTModel(\n",
              "  (bert): BertModel(\n",
              "    (embeddings): BertEmbeddings(\n",
              "      (word_embeddings): Embedding(50000, 768, padding_idx=0)\n",
              "      (position_embeddings): Embedding(512, 768)\n",
              "      (token_type_embeddings): Embedding(2, 768)\n",
              "      (LayerNorm): LayerNorm((768,), eps=1e-12, elementwise_affine=True)\n",
              "      (dropout): Dropout(p=0.1, inplace=False)\n",
              "    )\n",
              "    (encoder): BertEncoder(\n",
              "      (layer): ModuleList(\n",
              "        (0-11): 12 x BertLayer(\n",
              "          (attention): BertAttention(\n",
              "            (self): BertSelfAttention(\n",
              "              (query): Linear(in_features=768, out_features=768, bias=True)\n",
              "              (key): Linear(in_features=768, out_features=768, bias=True)\n",
              "              (value): Linear(in_features=768, out_features=768, bias=True)\n",
              "              (dropout): Dropout(p=0.1, inplace=False)\n",
              "            )\n",
              "            (output): BertSelfOutput(\n",
              "              (dense): Linear(in_features=768, out_features=768, bias=True)\n",
              "              (LayerNorm): LayerNorm((768,), eps=1e-12, elementwise_affine=True)\n",
              "              (dropout): Dropout(p=0.1, inplace=False)\n",
              "            )\n",
              "          )\n",
              "          (intermediate): BertIntermediate(\n",
              "            (dense): Linear(in_features=768, out_features=3072, bias=True)\n",
              "            (intermediate_act_fn): GELUActivation()\n",
              "          )\n",
              "          (output): BertOutput(\n",
              "            (dense): Linear(in_features=3072, out_features=768, bias=True)\n",
              "            (LayerNorm): LayerNorm((768,), eps=1e-12, elementwise_affine=True)\n",
              "            (dropout): Dropout(p=0.1, inplace=False)\n",
              "          )\n",
              "        )\n",
              "      )\n",
              "    )\n",
              "    (pooler): BertPooler(\n",
              "      (dense): Linear(in_features=768, out_features=768, bias=True)\n",
              "      (activation): Tanh()\n",
              "    )\n",
              "  )\n",
              "  (dropout): Dropout(p=0.1, inplace=False)\n",
              "  (fc): Linear(in_features=768, out_features=2, bias=True)\n",
              ")"
            ]
          },
          "execution_count": 90,
          "metadata": {},
          "output_type": "execute_result"
        }
      ],
      "source": [
        "\n",
        "model.load_state_dict(last_model_cp['model_state_dict'])\n",
        "model.cuda()\n"
      ]
    },
    {
      "cell_type": "markdown",
      "metadata": {
        "id": "tNzrGYyRNvJP"
      },
      "source": [
        "## Testing"
      ]
    },
    {
      "cell_type": "code",
      "execution_count": null,
      "metadata": {
        "colab": {
          "base_uri": "https://localhost:8080/"
        },
        "id": "M-oTq_PQRv6L",
        "outputId": "8c9aea11-2e47-47b2-b676-edca944e9d3b"
      },
      "outputs": [
        {
          "name": "stderr",
          "output_type": "stream",
          "text": [
            "Test LOSS:0.2765  ACC:0.9366 : 100%|██████████| 33/33 [00:07<00:00,  4.43it/s]"
          ]
        },
        {
          "name": "stdout",
          "output_type": "stream",
          "text": [
            "Elapsed : 0:00:07\n"
          ]
        },
        {
          "name": "stderr",
          "output_type": "stream",
          "text": [
            "\n"
          ]
        },
        {
          "data": {
            "text/plain": [
              "(0.276527805096879,\n",
              " 0.9365994236311239,\n",
              " 0.9847445740439983,\n",
              " array([0, 1, 1, ..., 1, 1, 1]),\n",
              " array([6.25719636e-08, 9.99999762e-01, 9.99999881e-01, ...,\n",
              "        9.99999881e-01, 9.99999881e-01, 9.32269871e-01]),\n",
              " array([0, 1, 1, ..., 1, 1, 1]))"
            ]
          },
          "execution_count": 91,
          "metadata": {},
          "output_type": "execute_result"
        }
      ],
      "source": [
        "test(model, test_dataloader)"
      ]
    },
    {
      "cell_type": "markdown",
      "metadata": {
        "id": "TRLPffPQdeK3"
      },
      "source": [
        "#New space"
      ]
    },
    {
      "cell_type": "markdown",
      "metadata": {
        "id": "n4DhvF2bf7PW"
      },
      "source": [
        "## Evaluate on test"
      ]
    },
    {
      "cell_type": "code",
      "execution_count": null,
      "metadata": {
        "colab": {
          "base_uri": "https://localhost:8080/"
        },
        "id": "OiaMd-iPf7PX",
        "outputId": "9ed25007-4c46-4aee-eba8-df04563b15f5"
      },
      "outputs": [
        {
          "output_type": "stream",
          "name": "stderr",
          "text": [
            "Test LOSS:0.1497  ACC:0.9424 : 100%|██████████| 66/66 [00:07<00:00,  8.73it/s]"
          ]
        },
        {
          "output_type": "stream",
          "name": "stdout",
          "text": [
            "Elapsed : 0:00:08\n"
          ]
        },
        {
          "output_type": "stream",
          "name": "stderr",
          "text": [
            "\n"
          ]
        }
      ],
      "source": [
        "test_loss, test_acc, test_auc_score, list_y_pred, list_y_prob, list_y_true = test(model, test_dataloader)"
      ]
    },
    {
      "cell_type": "code",
      "execution_count": null,
      "metadata": {
        "colab": {
          "base_uri": "https://localhost:8080/"
        },
        "id": "uGUycLcrf7PX",
        "outputId": "844fa9d7-9f05-42aa-ad94-af42ef66d4fc"
      },
      "outputs": [
        {
          "output_type": "execute_result",
          "data": {
            "text/plain": [
              "array([2.71644403e-05, 3.89332308e-06, 9.99985576e-01, ...,\n",
              "       5.29385670e-06, 3.75531567e-06, 9.99983907e-01])"
            ]
          },
          "metadata": {},
          "execution_count": 85
        }
      ],
      "source": [
        "list_y_prob"
      ]
    },
    {
      "cell_type": "markdown",
      "metadata": {
        "id": "xh7BQVrAf7PY"
      },
      "source": [
        "## Ukur"
      ]
    },
    {
      "cell_type": "code",
      "execution_count": null,
      "metadata": {
        "id": "jnVkNg--f7PY"
      },
      "outputs": [],
      "source": [
        "import sklearn\n",
        "\n",
        "from sklearn.metrics import confusion_matrix, matthews_corrcoef"
      ]
    },
    {
      "cell_type": "code",
      "execution_count": null,
      "metadata": {
        "id": "VjbzgWhNf7PY"
      },
      "outputs": [],
      "source": [
        "label_map = {  0: 'Normal', 1: 'Harras'}\n",
        "# list_y_pred = np.array([label_map[y] for y in list_y_pred])\n",
        "# list_y_true = np.array([label_map[y] for y in list_y_true])\n",
        "\n",
        "# print(\"list_y_pred\", len(list_y_pred))\n",
        "\n",
        "# print(\"list_y_pred\", list_y_pred)\n",
        "\n",
        "cf_matrix = confusion_matrix(list_y_true, list_y_pred)"
      ]
    },
    {
      "cell_type": "code",
      "execution_count": null,
      "metadata": {
        "colab": {
          "base_uri": "https://localhost:8080/"
        },
        "id": "XtnSj7ujf7PY",
        "outputId": "148b197d-1190-486e-a008-1091aa039dc7"
      },
      "outputs": [
        {
          "data": {
            "text/plain": [
              "array([[490,  30],\n",
              "       [ 17, 504]])"
            ]
          },
          "execution_count": 86,
          "metadata": {},
          "output_type": "execute_result"
        }
      ],
      "source": [
        "cf_matrix"
      ]
    },
    {
      "cell_type": "code",
      "execution_count": null,
      "metadata": {
        "id": "3s0VFIMXf7PZ"
      },
      "outputs": [],
      "source": [
        "import seaborn as sns\n",
        "import matplotlib.pyplot as plt\n",
        "from sklearn.metrics import ConfusionMatrixDisplay"
      ]
    },
    {
      "cell_type": "code",
      "execution_count": null,
      "metadata": {
        "colab": {
          "base_uri": "https://localhost:8080/",
          "height": 490
        },
        "id": "76AdwfU-f7PZ",
        "outputId": "755586e6-643d-4239-a06b-664a72c5b786"
      },
      "outputs": [
        {
          "data": {
            "text/plain": [
              "<Figure size 640x480 with 0 Axes>"
            ]
          },
          "metadata": {},
          "output_type": "display_data"
        },
        {
          "data": {
            "image/png": "[encoded data removed]",
            "text/plain": [
              "<Figure size 640x480 with 2 Axes>"
            ]
          },
          "metadata": {},
          "output_type": "display_data"
        }
      ],
      "source": [
        "plt.figure(3)\n",
        "cf_matrix = ConfusionMatrixDisplay.from_predictions(list_y_true, list_y_pred, cmap='Blues')\n",
        "plt.title('Confusion Matrix')\n",
        "plt.savefig(graph_path+ model_identifier + model_save_name + ' Confusion Matrix.png',dpi=300,bbox_inches='tight')\n",
        "plt.show()"
      ]
    },
    {
      "cell_type": "code",
      "execution_count": null,
      "metadata": {
        "colab": {
          "base_uri": "https://localhost:8080/"
        },
        "id": "D-deXfruf7PZ",
        "outputId": "77d1fc6f-c249-45a9-958c-dcdd403316a9"
      },
      "outputs": [
        {
          "name": "stdout",
          "output_type": "stream",
          "text": [
            "Accuracy: 0.95485\n",
            "AUC: 0.9921\n",
            "MCC: 0.9100\n",
            "Loss: 0.1211\n",
            "Precision: 0.9548 \n",
            "Recall: 0.9551 \n",
            "F1-Score: 0.9548 \n"
          ]
        }
      ],
      "source": [
        "precision, recall, f1_score, support = precision_recall_fscore_support(list_y_pred, list_y_true)\n",
        "mcc_score = matthews_corrcoef(list_y_true, list_y_pred)\n",
        "\n",
        "print(\"Accuracy: %.5f\" % test_acc)\n",
        "print(\"AUC: %.4f\" % test_auc_score)\n",
        "print(\"MCC: %.4f\" % mcc_score)\n",
        "print(\"Loss: %.4f\" % test_loss)\n",
        "print(\"Precision: %.4f \" % np.mean(precision))\n",
        "print(\"Recall: %.4f \" % np.mean(recall))\n",
        "print(\"F1-Score: %.4f \" % np.mean(f1_score))"
      ]
    },
    {
      "cell_type": "code",
      "execution_count": null,
      "metadata": {
        "id": "uOfNlollf7PZ"
      },
      "outputs": [],
      "source": [
        "test_report = {\n",
        "    'test_accuracy': test_acc,\n",
        "    'test_auc_score': test_auc_score,\n",
        "    'test_mcc_score': mcc_score,\n",
        "    'test_loss': test_loss,\n",
        "    'test_precision': np.mean(precision),\n",
        "    'test_recall': np.mean(recall),\n",
        "    'test_f1_score': np.mean(f1_score)\n",
        "    }"
      ]
    },
    {
      "cell_type": "code",
      "execution_count": null,
      "metadata": {
        "id": "wD1wLndMf7Pa"
      },
      "outputs": [],
      "source": [
        "df_report = pd.DataFrame(test_report, index=[0])\n",
        "\n",
        "# Define the output file name\n",
        "output_report_file = report_path + model_identifier + model_save_name + ' testing report.csv'\n",
        "\n",
        "# Write the DataFrame to a CSV file\n",
        "df_report.to_csv(output_report_file, index=False)"
      ]
    },
    {
      "cell_type": "code",
      "execution_count": null,
      "metadata": {
        "colab": {
          "base_uri": "https://localhost:8080/"
        },
        "id": "j8MUZqXxf7Pa",
        "outputId": "6446bd90-a6f6-4669-daca-297d80b154ef"
      },
      "outputs": [
        {
          "name": "stdout",
          "output_type": "stream",
          "text": [
            "True Label: 0 | Predicted Label: 1\n",
            "index: 5911\n",
            "Sentence: setelah update sering ge lag mungkin kalau skala kecil masih bagus ini mau dipakai oleh masyarakat indonesia harusnya dibuat sistem lebih bagus \n",
            "\n",
            "True Label: 1 | Predicted Label: 0\n",
            "index: 5786\n",
            "Sentence: sinyal nya bagus tapi aplikasi nya malah bisa dibuka dengan lancar saya tidak suka dengan ini tolong diperbaiki biar rusak agar mempermudah bayar pakai uang cash \n",
            "\n",
            "True Label: 1 | Predicted Label: 0\n",
            "index: 168\n",
            "Sentence: pertamina harus selektif karena saya punya pengalaman plat kendaraan saya bahan bakar bensin ternyata dipakai orang buat isi solar dan bisa maka saya asli punya kendaraan malah enggak bisa isi bensin tertarik \n",
            "\n",
            "True Label: 0 | Predicted Label: 1\n",
            "index: 10145\n",
            "Sentence: setelah itu ia juga tidak bisa ta mati lampu hias custom html yang benar benar benar benar benar benar benar benar benar benar benar benar benar benar meriah dengan hadirnya sih mungil dan cara login terlebih dulu sebelum download cape bisa ta chat with me tonight tonight show with me when item ini sudah ada \n",
            "\n",
            "True Label: 0 | Predicted Label: 1\n",
            "index: 408\n",
            "Sentence: game nya kurang greget banyak bug \n",
            "\n",
            "True Label: 1 | Predicted Label: 0\n",
            "index: 2439\n",
            "Sentence: jelek sering mengakak \n",
            "\n",
            "True Label: 0 | Predicted Label: 1\n",
            "index: 7648\n",
            "Sentence: sebaiknya kalo sudah daftar petugas pertamina nya saja yang cocok hingga bisa beli lebih cepat kasihan di belakang mengular \n",
            "\n",
            "True Label: 0 | Predicted Label: 1\n",
            "index: 8961\n",
            "Sentence: sangat berangkat pada waktu pembayaran tidak bawa uang cash \n",
            "\n",
            "True Label: 1 | Predicted Label: 0\n",
            "index: 8167\n",
            "Sentence: bayar enggak bisa lol \n",
            "\n",
            "True Label: 0 | Predicted Label: 1\n",
            "index: 5992\n",
            "Sentence: aplikasi ini sudah lama muncul dan bekerja sama dengan linkaja awal pakai memang keluar sendiri logout tapi makin kesini makin bagus enggak keluar sendiri lagi orang orang pada nilai bintang padahal aplikasi ini sangat membantu dikala mager mengambil uang di saku mypertamina is the best ayo pakai aplikasi ini enggak menyesal kok perlu adaptasi cara pakai nya \n",
            "\n",
            "True Label: 1 | Predicted Label: 0\n",
            "index: 9127\n",
            "Sentence: dilihatnya jangan terlalu lama memang orang mau ambil blt bahan bakar kan menjadi kebutuhan disaat itu juga enggak bisa di nanti sudah pelayanan via temannya enggak ada yang pernah angkat sedangkan di spbu enggak pernah bisa mengerti \n",
            "\n",
            "True Label: 0 | Predicted Label: 1\n",
            "index: 1101\n",
            "Sentence: aplikasi yang betul betul menyusahkan rakyat kecil aplikasi error begini malah jadi kewajiban \n",
            "\n",
            "True Label: 0 | Predicted Label: 1\n",
            "index: 14\n",
            "Sentence: aplikasi gagal enggak tau ngebug atau bagaimana bolak balik dan enggak jelas tanpa kita sadari kita bayar pajak buat bayar orang yang bikin aplikasi yang gagal aplikasi ini milik negara dan sekelas milik negara tapi kualitas sangat kurang memuaskan \n",
            "\n",
            "True Label: 0 | Predicted Label: 1\n",
            "index: 7003\n",
            "Sentence: aplikasi bejad bukannya mempermudah rakyat malah mempersulit rakyat kasihan yang enggak punya hp android mau beli bensin dipersulit sudah begitu kode pin kagak muncul dipesan deh menunggu sampai jam lebih kagak masuk tuh kode \n",
            "\n",
            "True Label: 1 | Predicted Label: 0\n",
            "index: 4482\n",
            "Sentence: tolong info nya undian berkah energi kapan di umumkan nya ya \n",
            "\n",
            "True Label: 0 | Predicted Label: 1\n",
            "index: 3849\n",
            "Sentence: terlalu dipaksakan dengan dalih agar subsidi tepat sasaran padahal projek sebenarnya dari biaya adm top up apk link aja \n",
            "\n",
            "True Label: 1 | Predicted Label: 0\n",
            "index: 9416\n",
            "Sentence: padahal juta di download tapi rating beda jauh sangat rendah rata penilaian buruk ternyata enggak hanya satu aplikasi tapi aplikasi untuk menghubungkan ke banget elektronik ya itu linkaja saya sudah coba alamak ternyata saya mau hubungkan kedua aplikasi linkaja malah gagal terus pantas ratingnya buruk \n",
            "\n",
            "True Label: 1 | Predicted Label: 0\n",
            "index: 7997\n",
            "Sentence: kita beli saja di bikin ribet kita enggak meminta kita bayar tapi di bikin ribet enggak usah jualan saja kasihan biar kembali ke jaman purba lagi enggak ada kendaraan bayar saja ribet apalagi kalo gratis ribet nya lebih kali \n",
            "\n",
            "True Label: 0 | Predicted Label: 1\n",
            "index: 6454\n",
            "Sentence: ketidak jelasan kegunaan aplikasi online itu duduk duduk di rumah belanja ol barang sampai di antin kurir bayar sebelum atau sesudahnya cod datang ke spbu mengantri isi bbm ya bayar konvensional itu mudah pasokan saja cukup malah suruh pakai aplikasi \n",
            "\n",
            "True Label: 0 | Predicted Label: 1\n",
            "index: 8761\n",
            "Sentence: apk nya bagus sekali waktu buka apknya duar hp saya mengirim terus saya tinggal apk neko-neko saya buka lagi apk my pertamina eh malah indak dan mati sama petugas sebenarnya tamat \n",
            "\n",
            "True Label: 1 | Predicted Label: 0\n",
            "index: 6596\n",
            "Sentence: menyulitkan masyarakat banget aplikasi error susah login di spbu macet dan menggangu kesehatan ekonomi dikeluarga semoga saya sehat selalu dan semoga saya jadi presiden ri tahun depan biar mudahkan fasilitas umum untuk kebaikan masyarakat luas di indonesia khususnya \n",
            "\n",
            "True Label: 0 | Predicted Label: 1\n",
            "index: 328\n",
            "Sentence: bagus kalo buat yang enggak mau ribet tinggal tap kartu saja tinggal ngisi biodata foto ktp terus selfie sama ktp bisa ikutan mendapati hadiah \n",
            "\n",
            "True Label: 1 | Predicted Label: 0\n",
            "index: 8024\n",
            "Sentence: saya beli bbm bayar pakai aplikasi ini uang sudah terpotong malah dibilang gagal tolong diperbaiki lagi ya kalo begini pembeli dan penjual jadi bingung dan repot \n",
            "\n",
            "True Label: 0 | Predicted Label: 1\n",
            "index: 6891\n",
            "Sentence: bayar mesti pakai kartu debit atau link saja ribet amat rakyat kecil enggak semua nya punya rekening bank apalagi dompet digital beli bbm di spbu kok disuruh pakai main hp yang ada spbu nya kebakaran dan ingat rakyat kecil enggak semua nya punya hp aplikasi kok bikin ingat harusnya membuat mudah \n",
            "\n",
            "True Label: 0 | Predicted Label: 1\n",
            "index: 5954\n",
            "Sentence: tampilan aplikasinya sudah bagus namun menurutku untuk pendaftaran pengguna baru masih banyak kendala seperti database yang susah koneksi ya mungkin karena jaringan apalagi di kampung ji kak tinggal untuk pendaftaran pertalite sebaiknya menurutku akan membingungkan bagi mereka orang yang gaptek kayak di tempatku di mana orang yang sudah sepuh kebanyakan gaptek dan tidak memiliki smart phone ya tapi kampung mungkin akan dibutuhkan banyak sosialisasi bagi kami warga kampung \n",
            "\n",
            "True Label: 0 | Predicted Label: 1\n",
            "index: 6189\n",
            "Sentence: seru sih cuma suka delay saja padahal sinyal bagus tetap delay \n",
            "\n",
            "True Label: 1 | Predicted Label: 0\n",
            "index: 2186\n",
            "Sentence: aplikasinya masih sering error di spbu cashback nya lama \n",
            "\n",
            "True Label: 1 | Predicted Label: 0\n",
            "index: 4492\n",
            "Sentence: tolong di beri lebih rinci di apl nya tentang keterangan menjual apa saja yang tersedia di spbu nya contoh pertamax turbo itu enggak semua di spbu tersedia tapi di apl nya semua ada tolong di perbaiki \n",
            "\n",
            "True Label: 0 | Predicted Label: 1\n",
            "index: 3752\n",
            "Sentence: jika sudah di berlakukan pembelian gas kali melon mengunakan aplikasi ini saya sarankan lakukan edan yang benar dan ritme untuk membeli kali harusnya di berlakukan di sistem agar bisa mengurangi mafia gas pembelian yang berulang ulang semoga masukan ini bisa di perhatikan oleh pertamina terimakasih \n",
            "\n",
            "True Label: 0 | Predicted Label: 1\n",
            "index: 6715\n",
            "Sentence: setelah rame tentang pembelian pertalite akan menggunakan aplikasi my pertamina saya coba download aplikasinya ternyata tidak seperti dugaan saya awal bahwa dia akan mantap plat nomer motor kita pendaftaran nya cukup mudah seperti kita mendaftar di aplikasi lainnya cukup memasukkan nama alamat email dan no hp untuk verifikasi sampai sini mungkin untuk saya ini enggak masalah karena saya punya hp android dan kuota internet tapi my pertamina bagaimana dengan bapak saya atau bapak ibu yang lagi \n",
            "\n",
            "True Label:"
          ]
        },
        {
          "name": "stderr",
          "output_type": "stream",
          "text": [
            "<ipython-input-92-9af280cca4c4>:7: FutureWarning: iteritems is deprecated and will be removed in a future version. Use .items instead.\n",
            "  for index, value in original_test_labels.iteritems():\n",
            "<ipython-input-92-9af280cca4c4>:12: FutureWarning: The frame.append method is deprecated and will be removed from pandas in a future version. Use pandas.concat instead.\n",
            "  df = df.append({\"Index\": index, \"Sentence\": sentence, \"True Label\": true_label, \"Predicted Label\": predicted_label},\n",
            "<ipython-input-92-9af280cca4c4>:12: FutureWarning: The frame.append method is deprecated and will be removed from pandas in a future version. Use pandas.concat instead.\n",
            "  df = df.append({\"Index\": index, \"Sentence\": sentence, \"True Label\": true_label, \"Predicted Label\": predicted_label},\n",
            "<ipython-input-92-9af280cca4c4>:12: FutureWarning: The frame.append method is deprecated and will be removed from pandas in a future version. Use pandas.concat instead.\n",
            "  df = df.append({\"Index\": index, \"Sentence\": sentence, \"True Label\": true_label, \"Predicted Label\": predicted_label},\n",
            "<ipython-input-92-9af280cca4c4>:12: FutureWarning: The frame.append method is deprecated and will be removed from pandas in a future version. Use pandas.concat instead.\n",
            "  df = df.append({\"Index\": index, \"Sentence\": sentence, \"True Label\": true_label, \"Predicted Label\": predicted_label},\n",
            "<ipython-input-92-9af280cca4c4>:12: FutureWarning: The frame.append method is deprecated and will be removed from pandas in a future version. Use pandas.concat instead.\n",
            "  df = df.append({\"Index\": index, \"Sentence\": sentence, \"True Label\": true_label, \"Predicted Label\": predicted_label},\n",
            "<ipython-input-92-9af280cca4c4>:12: FutureWarning: The frame.append method is deprecated and will be removed from pandas in a future version. Use pandas.concat instead.\n",
            "  df = df.append({\"Index\": index, \"Sentence\": sentence, \"True Label\": true_label, \"Predicted Label\": predicted_label},\n",
            "<ipython-input-92-9af280cca4c4>:12: FutureWarning: The frame.append method is deprecated and will be removed from pandas in a future version. Use pandas.concat instead.\n",
            "  df = df.append({\"Index\": index, \"Sentence\": sentence, \"True Label\": true_label, \"Predicted Label\": predicted_label},\n",
            "<ipython-input-92-9af280cca4c4>:12: FutureWarning: The frame.append method is deprecated and will be removed from pandas in a future version. Use pandas.concat instead.\n",
            "  df = df.append({\"Index\": index, \"Sentence\": sentence, \"True Label\": true_label, \"Predicted Label\": predicted_label},\n",
            "<ipython-input-92-9af280cca4c4>:12: FutureWarning: The frame.append method is deprecated and will be removed from pandas in a future version. Use pandas.concat instead.\n",
            "  df = df.append({\"Index\": index, \"Sentence\": sentence, \"True Label\": true_label, \"Predicted Label\": predicted_label},\n",
            "<ipython-input-92-9af280cca4c4>:12: FutureWarning: The frame.append method is deprecated and will be removed from pandas in a future version. Use pandas.concat instead.\n",
            "  df = df.append({\"Index\": index, \"Sentence\": sentence, \"True Label\": true_label, \"Predicted Label\": predicted_label},\n",
            "<ipython-input-92-9af280cca4c4>:12: FutureWarning: The frame.append method is deprecated and will be removed from pandas in a future version. Use pandas.concat instead.\n",
            "  df = df.append({\"Index\": index, \"Sentence\": sentence, \"True Label\": true_label, \"Predicted Label\": predicted_label},\n",
            "<ipython-input-92-9af280cca4c4>:12: FutureWarning: The frame.append method is deprecated and will be removed from pandas in a future version. Use pandas.concat instead.\n",
            "  df = df.append({\"Index\": index, \"Sentence\": sentence, \"True Label\": true_label, \"Predicted Label\": predicted_label},\n",
            "<ipython-input-92-9af280cca4c4>:12: FutureWarning: The frame.append method is deprecated and will be removed from pandas in a future version. Use pandas.concat instead.\n",
            "  df = df.append({\"Index\": index, \"Sentence\": sentence, \"True Label\": true_label, \"Predicted Label\": predicted_label},\n",
            "<ipython-input-92-9af280cca4c4>:12: FutureWarning: The frame.append method is deprecated and will be removed from pandas in a future version. Use pandas.concat instead.\n",
            "  df = df.append({\"Index\": index, \"Sentence\": sentence, \"True Label\": true_label, \"Predicted Label\": predicted_label},\n",
            "<ipython-input-92-9af280cca4c4>:12: FutureWarning: The frame.append method is deprecated and will be removed from pandas in a future version. Use pandas.concat instead.\n",
            "  df = df.append({\"Index\": index, \"Sentence\": sentence, \"True Label\": true_label, \"Predicted Label\": predicted_label},\n",
            "<ipython-input-92-9af280cca4c4>:12: FutureWarning: The frame.append method is deprecated and will be removed from pandas in a future version. Use pandas.concat instead.\n",
            "  df = df.append({\"Index\": index, \"Sentence\": sentence, \"True Label\": true_label, \"Predicted Label\": predicted_label},\n",
            "<ipython-input-92-9af280cca4c4>:12: FutureWarning: The frame.append method is deprecated and will be removed from pandas in a future version. Use pandas.concat instead.\n",
            "  df = df.append({\"Index\": index, \"Sentence\": sentence, \"True Label\": true_label, \"Predicted Label\": predicted_label},\n",
            "<ipython-input-92-9af280cca4c4>:12: FutureWarning: The frame.append method is deprecated and will be removed from pandas in a future version. Use pandas.concat instead.\n",
            "  df = df.append({\"Index\": index, \"Sentence\": sentence, \"True Label\": true_label, \"Predicted Label\": predicted_label},\n",
            "<ipython-input-92-9af280cca4c4>:12: FutureWarning: The frame.append method is deprecated and will be removed from pandas in a future version. Use pandas.concat instead.\n",
            "  df = df.append({\"Index\": index, \"Sentence\": sentence, \"True Label\": true_label, \"Predicted Label\": predicted_label},\n",
            "<ipython-input-92-9af280cca4c4>:12: FutureWarning: The frame.append method is deprecated and will be removed from pandas in a future version. Use pandas.concat instead.\n",
            "  df = df.append({\"Index\": index, \"Sentence\": sentence, \"True Label\": true_label, \"Predicted Label\": predicted_label},\n",
            "<ipython-input-92-9af280cca4c4>:12: FutureWarning: The frame.append method is deprecated and will be removed from pandas in a future version. Use pandas.concat instead.\n",
            "  df = df.append({\"Index\": index, \"Sentence\": sentence, \"True Label\": true_label, \"Predicted Label\": predicted_label},\n",
            "<ipython-input-92-9af280cca4c4>:12: FutureWarning: The frame.append method is deprecated and will be removed from pandas in a future version. Use pandas.concat instead.\n",
            "  df = df.append({\"Index\": index, \"Sentence\": sentence, \"True Label\": true_label, \"Predicted Label\": predicted_label},\n",
            "<ipython-input-92-9af280cca4c4>:12: FutureWarning: The frame.append method is deprecated and will be removed from pandas in a future version. Use pandas.concat instead.\n",
            "  df = df.append({\"Index\": index, \"Sentence\": sentence, \"True Label\": true_label, \"Predicted Label\": predicted_label},\n",
            "<ipython-input-92-9af280cca4c4>:12: FutureWarning: The frame.append method is deprecated and will be removed from pandas in a future version. Use pandas.concat instead.\n",
            "  df = df.append({\"Index\": index, \"Sentence\": sentence, \"True Label\": true_label, \"Predicted Label\": predicted_label},\n",
            "<ipython-input-92-9af280cca4c4>:12: FutureWarning: The frame.append method is deprecated and will be removed from pandas in a future version. Use pandas.concat instead.\n",
            "  df = df.append({\"Index\": index, \"Sentence\": sentence, \"True Label\": true_label, \"Predicted Label\": predicted_label},\n",
            "<ipython-input-92-9af280cca4c4>:12: FutureWarning: The frame.append method is deprecated and will be removed from pandas in a future version. Use pandas.concat instead.\n",
            "  df = df.append({\"Index\": index, \"Sentence\": sentence, \"True Label\": true_label, \"Predicted Label\": predicted_label},\n",
            "<ipython-input-92-9af280cca4c4>:12: FutureWarning: The frame.append method is deprecated and will be removed from pandas in a future version. Use pandas.concat instead.\n",
            "  df = df.append({\"Index\": index, \"Sentence\": sentence, \"True Label\": true_label, \"Predicted Label\": predicted_label},\n",
            "<ipython-input-92-9af280cca4c4>:12: FutureWarning: The frame.append method is deprecated and will be removed from pandas in a future version. Use pandas.concat instead.\n",
            "  df = df.append({\"Index\": index, \"Sentence\": sentence, \"True Label\": true_label, \"Predicted Label\": predicted_label},\n",
            "<ipython-input-92-9af280cca4c4>:12: FutureWarning: The frame.append method is deprecated and will be removed from pandas in a future version. Use pandas.concat instead.\n",
            "  df = df.append({\"Index\": index, \"Sentence\": sentence, \"True Label\": true_label, \"Predicted Label\": predicted_label},\n",
            "<ipython-input-92-9af280cca4c4>:12: FutureWarning: The frame.append method is deprecated and will be removed from pandas in a future version. Use pandas.concat instead.\n",
            "  df = df.append({\"Index\": index, \"Sentence\": sentence, \"True Label\": true_label, \"Predicted Label\": predicted_label},\n",
            "<ipython-input-92-9af280cca4c4>:12: FutureWarning: The frame.append method is deprecated and will be removed from pandas in a future version. Use pandas.concat instead.\n",
            "  df = df.append({\"Index\": index, \"Sentence\": sentence, \"True Label\": true_label, \"Predicted Label\": predicted_label},\n",
            "<ipython-input-92-9af280cca4c4>:12: FutureWarning: The frame.append method is deprecated and will be removed from pandas in a future version. Use pandas.concat instead.\n",
            "  df = df.append({\"Index\": index, \"Sentence\": sentence, \"True Label\": true_label, \"Predicted Label\": predicted_label},\n",
            "<ipython-input-92-9af280cca4c4>:12: FutureWarning: The frame.append method is deprecated and will be removed from pandas in a future version. Use pandas.concat instead.\n",
            "  df = df.append({\"Index\": index, \"Sentence\": sentence, \"True Label\": true_label, \"Predicted Label\": predicted_label},\n",
            "<ipython-input-92-9af280cca4c4>:12: FutureWarning: The frame.append method is deprecated and will be removed from pandas in a future version. Use pandas.concat instead.\n",
            "  df = df.append({\"Index\": index, \"Sentence\": sentence, \"True Label\": true_label, \"Predicted Label\": predicted_label},\n",
            "<ipython-input-92-9af280cca4c4>:12: FutureWarning: The frame.append method is deprecated and will be removed from pandas in a future version. Use pandas.concat instead.\n",
            "  df = df.append({\"Index\": index, \"Sentence\": sentence, \"True Label\": true_label, \"Predicted Label\": predicted_label},\n",
            "<ipython-input-92-9af280cca4c4>:12: FutureWarning: The frame.append method is deprecated and will be removed from pandas in a future version. Use pandas.concat instead.\n",
            "  df = df.append({\"Index\": index, \"Sentence\": sentence, \"True Label\": true_label, \"Predicted Label\": predicted_label},\n",
            "<ipython-input-92-9af280cca4c4>:12: FutureWarning: The frame.append method is deprecated and will be removed from pandas in a future version. Use pandas.concat instead.\n",
            "  df = df.append({\"Index\": index, \"Sentence\": sentence, \"True Label\": true_label, \"Predicted Label\": predicted_label},\n",
            "<ipython-input-92-9af280cca4c4>:12: FutureWarning: The frame.append method is deprecated and will be removed from pandas in a future version. Use pandas.concat instead.\n",
            "  df = df.append({\"Index\": index, \"Sentence\": sentence, \"True Label\": true_label, \"Predicted Label\": predicted_label},\n",
            "<ipython-input-92-9af280cca4c4>:12: FutureWarning: The frame.append method is deprecated and will be removed from pandas in a future version. Use pandas.concat instead.\n",
            "  df = df.append({\"Index\": index, \"Sentence\": sentence, \"True Label\": true_label, \"Predicted Label\": predicted_label},\n",
            "<ipython-input-92-9af280cca4c4>:12: FutureWarning: The frame.append method is deprecated and will be removed from pandas in a future version. Use pandas.concat instead.\n",
            "  df = df.append({\"Index\": index, \"Sentence\": sentence, \"True Label\": true_label, \"Predicted Label\": predicted_label},\n"
          ]
        },
        {
          "name": "stdout",
          "output_type": "stream",
          "text": [
            " 1 | Predicted Label: 0\n",
            "index: 1287\n",
            "Sentence: error lemot jangan paksakan aplikasi yang belum siap untuk digunakan mau seberapa panjang antrian di spbu aplikasi sudah \n",
            "\n",
            "True Label: 1 | Predicted Label: 0\n",
            "index: 10101\n",
            "Sentence: aplikasi sabar bagaimana menuruti pemerintahan kalo begini caranya di sangka gua enggak punya data kuota gua gb koneksi sabar hitungan saja enggak berguna wih \n",
            "\n",
            "True Label: 0 | Predicted Label: 1\n",
            "index: 5871\n",
            "Sentence: tidak membantu banyak bug jaringan bagus tapi jadi lemot buka apk ini hapus saja dari pas \n",
            "\n",
            "True Label: 1 | Predicted Label: 0\n",
            "index: 6873\n",
            "Sentence: aplikasi apa ini barangnya biar mudah tapi giliran mau bayar scan enggak bisa tolol \n",
            "\n",
            "True Label: 0 | Predicted Label: 1\n",
            "index: 9595\n",
            "Sentence: aplikasi ini memudahkan kita untuk melakukan pembayaran via malas tinggal scan bisa langsung bayar lebih cepat juga antriannya biasanya kalo bayar pakai cash itu lama banget mbak mbaknya cari kembalian kalo pakai aplikasi kan sempat selesai pokoknya bangunlah aplikasinya gampang juga penggunaannya \n",
            "\n",
            "True Label: 0 | Predicted Label: 1\n",
            "index: 72\n",
            "Sentence: kesulitan mengisi minyak karena atm jauh dan tidak ada cash semoga dengan ini semua kendala teratasi \n",
            "\n",
            "True Label: 0 | Predicted Label: 1\n",
            "index: 2558\n",
            "Sentence: jelek banget bolak balik terus \n",
            "\n",
            "True Label: 0 | Predicted Label: 1\n",
            "index: 3999\n",
            "Sentence: server down saran sih jika sekiranya infrastruktur belum siap ya jangan memaksakan menyusahkan masyarakat saja \n",
            "\n",
            "True Label: 0 | Predicted Label: 1\n",
            "index: 8455\n",
            "Sentence: tidak worth itu karena orang tua pasti tidak tau bagaimana menggunakannya tolong cancel pembayaran via aplikasi terimakasih \n",
            "\n",
            "True Label: 0 | Predicted Label: 1\n",
            "index: 7863\n",
            "Sentence: aplikasi ini perlu di tingkatkan metode pembayarannya kecepatannya promo pokoknya karena kebanyakan operator spbu malas untuk melayani dengan metode pembayaran ini karena memakan banyak waktu sedangkan banyak antrian isi bbm mohon di tingkatkan ya biar bisa tinggal tit beres kayak di luar negeri \n",
            "\n",
            "True Label: 0 | Predicted Label: 1\n",
            "index: 2246\n",
            "Sentence: banyak yang enggak ready aplikasi petugas di lapangan alasan nya macam barcode nya lah error sinyalnya lah tolong di training petugasnya \n",
            "\n",
            "True Label: 1 | Predicted Label: 0\n",
            "index: 9219\n",
            "Sentence: pengalaman agak terkendala \n",
            "\n",
            "True Label: 0 | Predicted Label: 1\n",
            "index: 4536\n",
            "Sentence: aplikasi ribet untuk digunakan pembayaran harus via link aja enggak se simple dan flexible aplikasi spbu milik benua sebelah \n",
            "\n",
            "True Label: 0 | Predicted Label: 1\n",
            "index: 6482\n",
            "Sentence: sorry bos dengan mengaplikasikan ini masyarakat semakin tercekik hitung saja bayar pakai aplikasi ini harus melalui linkaja sedangkan isi saldo link ada biaya administrasinya sebulan ngisi sudah berapa itu dan tinggal kalikan berapa masyarakat di indonesia ini aplikasi yang seolah mempermudah padahal semakin mencekik \n",
            "\n",
            "True Label: 0 | Predicted Label: 1\n",
            "index: 7377\n",
            "Sentence: sulit parah sudah kali coba selalunya gagal parah kasih bintang super sulitnya sangat parah dari parah terparah \n",
            "\n",
            "True Label: 1 | Predicted Label: 0\n",
            "index: 4130\n",
            "Sentence: alhamdulillah aplikasi yang bermanfaat membantu memberikan informasi seputar pertamina semoga berkah dan menjafi lebih bermanfaat kedepannya saran buat pertamina sangat membantu jika aplikasi ini memberikan informasi ketersedian stock bbm di spbu terdekat \n",
            "\n",
            "True Label: 0 | Predicted Label: 1\n",
            "index: 4104\n",
            "Sentence: baru gabung perlu saran senior \n",
            "\n"
          ]
        },
        {
          "name": "stderr",
          "output_type": "stream",
          "text": [
            "<ipython-input-92-9af280cca4c4>:12: FutureWarning: The frame.append method is deprecated and will be removed from pandas in a future version. Use pandas.concat instead.\n",
            "  df = df.append({\"Index\": index, \"Sentence\": sentence, \"True Label\": true_label, \"Predicted Label\": predicted_label},\n",
            "<ipython-input-92-9af280cca4c4>:12: FutureWarning: The frame.append method is deprecated and will be removed from pandas in a future version. Use pandas.concat instead.\n",
            "  df = df.append({\"Index\": index, \"Sentence\": sentence, \"True Label\": true_label, \"Predicted Label\": predicted_label},\n",
            "<ipython-input-92-9af280cca4c4>:12: FutureWarning: The frame.append method is deprecated and will be removed from pandas in a future version. Use pandas.concat instead.\n",
            "  df = df.append({\"Index\": index, \"Sentence\": sentence, \"True Label\": true_label, \"Predicted Label\": predicted_label},\n",
            "<ipython-input-92-9af280cca4c4>:12: FutureWarning: The frame.append method is deprecated and will be removed from pandas in a future version. Use pandas.concat instead.\n",
            "  df = df.append({\"Index\": index, \"Sentence\": sentence, \"True Label\": true_label, \"Predicted Label\": predicted_label},\n",
            "<ipython-input-92-9af280cca4c4>:12: FutureWarning: The frame.append method is deprecated and will be removed from pandas in a future version. Use pandas.concat instead.\n",
            "  df = df.append({\"Index\": index, \"Sentence\": sentence, \"True Label\": true_label, \"Predicted Label\": predicted_label},\n",
            "<ipython-input-92-9af280cca4c4>:12: FutureWarning: The frame.append method is deprecated and will be removed from pandas in a future version. Use pandas.concat instead.\n",
            "  df = df.append({\"Index\": index, \"Sentence\": sentence, \"True Label\": true_label, \"Predicted Label\": predicted_label},\n",
            "<ipython-input-92-9af280cca4c4>:12: FutureWarning: The frame.append method is deprecated and will be removed from pandas in a future version. Use pandas.concat instead.\n",
            "  df = df.append({\"Index\": index, \"Sentence\": sentence, \"True Label\": true_label, \"Predicted Label\": predicted_label},\n"
          ]
        }
      ],
      "source": [
        "# print the wrong predicted label\n",
        "\n",
        "# Create a DataFrame to store the results\n",
        "df = pd.DataFrame(columns=[\"Index\", \"Sentence\", \"True Label\", \"Predicted Label\"])\n",
        "\n",
        "i=0\n",
        "for index, value in original_test_labels.iteritems():\n",
        "  if value != list_y_pred[i]:\n",
        "    true_label = value\n",
        "    predicted_label = list_y_pred[i]\n",
        "    sentence = text[index]\n",
        "    df = df.append({\"Index\": index, \"Sentence\": sentence, \"True Label\": true_label, \"Predicted Label\": predicted_label},\n",
        "                       ignore_index=True)\n",
        "    print('True Label:', true_label, '|', 'Predicted Label:', predicted_label)\n",
        "    print('index:', index)\n",
        "    print('Sentence:', sentence, '\\n')\n",
        "  i=i+1\n",
        "\n",
        "# Define the output file name\n",
        "output_report_file = report_path + model_identifier + model_save_name + ' wrong predictions report.csv'\n",
        "\n",
        "# Write the DataFrame to a CSV file\n",
        "df.to_csv(output_report_file, index=False)"
      ]
    },
    {
      "cell_type": "markdown",
      "metadata": {
        "id": "lgopo3YjDIKp"
      },
      "source": [
        "## Bests"
      ]
    },
    {
      "cell_type": "code",
      "execution_count": null,
      "metadata": {
        "colab": {
          "base_uri": "https://localhost:8080/"
        },
        "id": "vExMVHsxylJM",
        "outputId": "eb6f1e89-f062-4c39-919c-20ed55deacdb"
      },
      "outputs": [
        {
          "name": "stdout",
          "output_type": "stream",
          "text": [
            "Accuracy: 0.95677\n",
            "AUC: 0.9921\n",
            "MCC: 0.9140\n",
            "Loss: 0.1251\n",
            "Precision: 0.9568 \n",
            "Recall: 0.9573 \n",
            "F1-Score: 0.9568 \n"
          ]
        }
      ],
      "source": [
        "precision, recall, f1_score, support = precision_recall_fscore_support(list_y_pred, list_y_true)\n",
        "mcc_score = matthews_corrcoef(list_y_true, list_y_pred)\n",
        "\n",
        "print(\"Accuracy: %.5f\" % test_acc)\n",
        "print(\"AUC: %.4f\" % test_auc_score)\n",
        "print(\"MCC: %.4f\" % mcc_score)\n",
        "print(\"Loss: %.4f\" % test_loss)\n",
        "print(\"Precision: %.4f \" % np.mean(precision))\n",
        "print(\"Recall: %.4f \" % np.mean(recall))\n",
        "print(\"F1-Score: %.4f \" % np.mean(f1_score))"
      ]
    },
    {
      "cell_type": "markdown",
      "metadata": {
        "id": "l2klrvsYTdTC"
      },
      "source": [
        "# Upload model"
      ]
    },
    {
      "cell_type": "markdown",
      "metadata": {
        "id": "CzIohIK9U_Qn"
      },
      "source": [
        "## Upload to hub"
      ]
    },
    {
      "cell_type": "code",
      "execution_count": null,
      "metadata": {
        "colab": {
          "base_uri": "https://localhost:8080/"
        },
        "id": "mDgv1iigTglg",
        "outputId": "11f3e7c0-0929-4f6b-f0c0-1cdbd08136f3"
      },
      "outputs": [
        {
          "name": "stdout",
          "output_type": "stream",
          "text": [
            "Looking in indexes: https://pypi.org/simple, https://us-python.pkg.dev/colab-wheels/public/simple/\n",
            "Requirement already satisfied: huggingface_hub in /usr/local/lib/python3.10/dist-packages (0.14.1)\n",
            "Requirement already satisfied: filelock in /usr/local/lib/python3.10/dist-packages (from huggingface_hub) (3.12.0)\n",
            "Requirement already satisfied: fsspec in /usr/local/lib/python3.10/dist-packages (from huggingface_hub) (2023.4.0)\n",
            "Requirement already satisfied: requests in /usr/local/lib/python3.10/dist-packages (from huggingface_hub) (2.27.1)\n",
            "Requirement already satisfied: tqdm>=4.42.1 in /usr/local/lib/python3.10/dist-packages (from huggingface_hub) (4.65.0)\n",
            "Requirement already satisfied: pyyaml>=5.1 in /usr/local/lib/python3.10/dist-packages (from huggingface_hub) (6.0)\n",
            "Requirement already satisfied: typing-extensions>=3.7.4.3 in /usr/local/lib/python3.10/dist-packages (from huggingface_hub) (4.5.0)\n",
            "Requirement already satisfied: packaging>=20.9 in /usr/local/lib/python3.10/dist-packages (from huggingface_hub) (23.1)\n",
            "Requirement already satisfied: urllib3<1.27,>=1.21.1 in /usr/local/lib/python3.10/dist-packages (from requests->huggingface_hub) (1.26.15)\n",
            "Requirement already satisfied: certifi>=2017.4.17 in /usr/local/lib/python3.10/dist-packages (from requests->huggingface_hub) (2022.12.7)\n",
            "Requirement already satisfied: charset-normalizer~=2.0.0 in /usr/local/lib/python3.10/dist-packages (from requests->huggingface_hub) (2.0.12)\n",
            "Requirement already satisfied: idna<4,>=2.5 in /usr/local/lib/python3.10/dist-packages (from requests->huggingface_hub) (3.4)\n"
          ]
        }
      ],
      "source": [
        "!pip install huggingface_hub"
      ]
    },
    {
      "cell_type": "code",
      "execution_count": null,
      "metadata": {
        "colab": {
          "base_uri": "https://localhost:8080/",
          "height": 162
        },
        "id": "R-RnSyajT8be",
        "outputId": "3f3137c6-27e3-4be8-92c8-dbb278329ce8"
      },
      "outputs": [
        {
          "data": {
            "application/vnd.jupyter.widget-view+json": {
              "model_id": "c5a00f9f3ca24c948d3e0bb94a81b1cf",
              "version_major": 2,
              "version_minor": 0
            },
            "text/plain": [
              "VBox(children=(HTML(value='<center> <img\\nsrc=https://huggingface.co/front/assets/huggingface_logo-noborder.sv…"
            ]
          },
          "metadata": {},
          "output_type": "display_data"
        }
      ],
      "source": [
        "from huggingface_hub import notebook_login\n",
        "\n",
        "notebook_login()"
      ]
    },
    {
      "cell_type": "code",
      "execution_count": null,
      "metadata": {
        "colab": {
          "base_uri": "https://localhost:8080/",
          "height": 135
        },
        "id": "IwsD0va1UjmL",
        "outputId": "318dfe1c-79b2-4b9f-9f78-c3629b5c623e"
      },
      "outputs": [
        {
          "data": {
            "application/vnd.jupyter.widget-view+json": {
              "model_id": "6670ed6e5eb44618ad098662a80f27c8",
              "version_major": 2,
              "version_minor": 0
            },
            "text/plain": [
              "Upload 1 LFS files:   0%|          | 0/1 [00:00<?, ?it/s]"
            ]
          },
          "metadata": {},
          "output_type": "display_data"
        },
        {
          "data": {
            "application/vnd.jupyter.widget-view+json": {
              "model_id": "61611095991d4be487c99b27b1ac2e7b",
              "version_major": 2,
              "version_minor": 0
            },
            "text/plain": [
              "pytorch_model.bin:   0%|          | 0.00/498M [00:00<?, ?B/s]"
            ]
          },
          "metadata": {},
          "output_type": "display_data"
        },
        {
          "data": {
            "text/plain": [
              "CommitInfo(commit_url='https://huggingface.co/kadabengaran/IndoBERT-Useful-App-Review/commit/dc36d1a001045edf721654a4ef79ef9d37040809', commit_message='Upload model', commit_description='', oid='dc36d1a001045edf721654a4ef79ef9d37040809', pr_url=None, pr_revision=None, pr_num=None)"
            ]
          },
          "execution_count": 131,
          "metadata": {},
          "output_type": "execute_result"
        }
      ],
      "source": [
        "model.push_to_hub(\"kadabengaran/IndoBERT-Useful-App-Review\")"
      ]
    },
    {
      "cell_type": "markdown",
      "metadata": {
        "id": "_W6s9SH6VCdm"
      },
      "source": [
        "## Load from hub"
      ]
    },
    {
      "cell_type": "code",
      "execution_count": null,
      "metadata": {
        "colab": {
          "base_uri": "https://localhost:8080/",
          "height": 898
        },
        "id": "sCkQBtTjVEVl",
        "outputId": "7583ea37-0c4c-40e8-b829-780e2b1492d5"
      },
      "outputs": [
        {
          "data": {
            "application/vnd.jupyter.widget-view+json": {
              "model_id": "5714ff6ca27c48379aba34bb9091d989",
              "version_major": 2,
              "version_minor": 0
            },
            "text/plain": [
              "Downloading (…)lve/main/config.json:   0%|          | 0.00/587 [00:00<?, ?B/s]"
            ]
          },
          "metadata": {},
          "output_type": "display_data"
        },
        {
          "data": {
            "application/vnd.jupyter.widget-view+json": {
              "model_id": "d6d893a1bbb74c7f8af1b1df998d1fe4",
              "version_major": 2,
              "version_minor": 0
            },
            "text/plain": [
              "Downloading pytorch_model.bin:   0%|          | 0.00/498M [00:00<?, ?B/s]"
            ]
          },
          "metadata": {},
          "output_type": "display_data"
        },
        {
          "data": {
            "text/plain": [
              "IndoBERTModel(\n",
              "  (bert): BertModel(\n",
              "    (embeddings): BertEmbeddings(\n",
              "      (word_embeddings): Embedding(50000, 768, padding_idx=0)\n",
              "      (position_embeddings): Embedding(512, 768)\n",
              "      (token_type_embeddings): Embedding(2, 768)\n",
              "      (LayerNorm): LayerNorm((768,), eps=1e-12, elementwise_affine=True)\n",
              "      (dropout): Dropout(p=0.1, inplace=False)\n",
              "    )\n",
              "    (encoder): BertEncoder(\n",
              "      (layer): ModuleList(\n",
              "        (0-11): 12 x BertLayer(\n",
              "          (attention): BertAttention(\n",
              "            (self): BertSelfAttention(\n",
              "              (query): Linear(in_features=768, out_features=768, bias=True)\n",
              "              (key): Linear(in_features=768, out_features=768, bias=True)\n",
              "              (value): Linear(in_features=768, out_features=768, bias=True)\n",
              "              (dropout): Dropout(p=0.1, inplace=False)\n",
              "            )\n",
              "            (output): BertSelfOutput(\n",
              "              (dense): Linear(in_features=768, out_features=768, bias=True)\n",
              "              (LayerNorm): LayerNorm((768,), eps=1e-12, elementwise_affine=True)\n",
              "              (dropout): Dropout(p=0.1, inplace=False)\n",
              "            )\n",
              "          )\n",
              "          (intermediate): BertIntermediate(\n",
              "            (dense): Linear(in_features=768, out_features=3072, bias=True)\n",
              "            (intermediate_act_fn): GELUActivation()\n",
              "          )\n",
              "          (output): BertOutput(\n",
              "            (dense): Linear(in_features=3072, out_features=768, bias=True)\n",
              "            (LayerNorm): LayerNorm((768,), eps=1e-12, elementwise_affine=True)\n",
              "            (dropout): Dropout(p=0.1, inplace=False)\n",
              "          )\n",
              "        )\n",
              "      )\n",
              "    )\n",
              "    (pooler): BertPooler(\n",
              "      (dense): Linear(in_features=768, out_features=768, bias=True)\n",
              "      (activation): Tanh()\n",
              "    )\n",
              "  )\n",
              "  (dropout): Dropout(p=0.1, inplace=False)\n",
              "  (fc): Linear(in_features=768, out_features=2, bias=True)\n",
              ")"
            ]
          },
          "execution_count": 132,
          "metadata": {},
          "output_type": "execute_result"
        }
      ],
      "source": [
        "MODEL = \"kadabengaran/IndoBERT-Useful-App-Review\"\n",
        "\n",
        "model = IndoBERTModel.from_pretrained(MODEL,\n",
        "                                     bert,\n",
        "                                     OUTPUT_DIM)\n",
        "model.cuda()"
      ]
    },
    {
      "cell_type": "markdown",
      "metadata": {
        "id": "upPqanGjDrvM"
      },
      "source": [
        "# Predict"
      ]
    },
    {
      "cell_type": "code",
      "execution_count": null,
      "metadata": {
        "id": "PLkozf07Fijv"
      },
      "outputs": [],
      "source": [
        "input_text = 'Makanan yang satu ini tentunya banyak digemari karena rasanya yang gurih sering menggoda lidah kita Banyak yang berpendapat bahwa ikan lele banyak yang dibudidayakan diperairan yang tidak layak sebenarnya ikan lele merupakan spesies ikan yang tangguh karena dilengkapi alat pernafasan tambahan berupa labirin sehingga ikan lele mampu bertahan hidup dalam kondisi perairan yang berlumpur atau perairan yang tercemar  limbah dan memakan segalanya yang ada diperairan tersebut. Inilah kemungkinan opini publik yang beranggapan bahwa ikan lele mengandung sel kanker karena limbah-limbah tersebut. Tapi kita garis merahi memang dalam mengkonsumsi ikan lele kita harus memperhatikan budidayanya. Perlu anda ketahui kandungan omega pada ikan lele tidak kalah dengan ikan salmon.  menurut penelitian ikan lele mempunyai sumber vitamin D terbaik yang bermanfaat bagi kesehatan tulang ikan lele juga mengandung protein dan asam folat yang dibutuhkan bagi ibu hamil. Kenapa banyak orang berpikiran ikan lele sebagai sumber sel kanker? Sebenarnya bukan ikan lelenya tetapi minyak goreng yang digunakan berkali kali hingga hitam dalam setiap menggoreng masakan. Inilah sumber radikal bebas sumber pencipta sel kanker ditubuh kita. Jadi bukan ikan lelenya. Ikan salmon yang mewah sekalipun jika diolah dengan minyak goreng yang digunakan berkali kali bisa saja ikan salmon sebagai sumber sel kanker juga'"
      ]
    },
    {
      "cell_type": "code",
      "execution_count": null,
      "metadata": {
        "id": "sCu7FlSfkeCM"
      },
      "outputs": [],
      "source": [
        "'''\n",
        "\n",
        "new_sentence = input_text\n",
        "\n",
        "# We need Token IDs and Attention Mask for inference on the new sentence\n",
        "test_ids = []\n",
        "test_attention_mask = []\n",
        "\n",
        "# Apply the tokenizer\n",
        "new_sentence = remove_special_characters(new_sentence)\n",
        "encoding = preprocessing(new_sentence, tokenizer)\n",
        "\n",
        "# Extract IDs and Attention Mask\n",
        "test_ids.append(encoding['input_ids'])\n",
        "test_attention_mask.append(encoding['attention_mask'])\n",
        "test_ids = torch.cat(test_ids, dim = 0)\n",
        "test_attention_mask = torch.cat(test_attention_mask, dim = 0)\n",
        "\n",
        "# Forward pass, calculate logit predictions\n",
        "with torch.no_grad():\n",
        "  outputs = model(test_ids.to(device),\n",
        "                      test_attention_mask.to(device))\n",
        "predictions = torch.argmax(outputs, dim=1) #tensor([1], device='cuda:0')\n",
        "\n",
        "prediction = 'Hoax' if predictions.item() == 1 else 'Valid'\n",
        "#predicted class =  0:valid 1:hoax\n",
        "\n",
        "print('Input Sentence: ', new_sentence)\n",
        "print('Predicted Class: ', prediction) # print predicted class\n",
        "\n",
        "'''"
      ]
    }
  ],
  "metadata": {
    "accelerator": "GPU",
    "colab": {
      "collapsed_sections": [
        "f7UvCWa5iIvY",
        "KQkHoz0dOhwL",
        "c24O-0OIKcyw",
        "FyVNqDIcZw60",
        "G1gwQie2Zw7L",
        "HD_fDZNuZ9G7",
        "0dU0RPN4zwJo",
        "INpEeiTgGA-L",
        "UDM8HzpxLHV5",
        "wrPZFJZYrby8",
        "Pfvmz6CIxofB",
        "5SFjq7XHIebX",
        "XDoiGZ7ePL5Z",
        "B10WuDxRPCzp",
        "duVvi6m9PpnK",
        "YMSiD3EG1m0K",
        "ZdT-qapvIwME",
        "4J7Hwq7scyRg",
        "oorZpAtRNhJx",
        "A-cNk_HXNkTo",
        "tNzrGYyRNvJP",
        "n4DhvF2bf7PW",
        "xh7BQVrAf7PY",
        "l2klrvsYTdTC",
        "upPqanGjDrvM"
      ],
      "provenance": []
    },
    "gpuClass": "standard",
    "kernelspec": {
      "display_name": "Python 3",
      "name": "python3"
    },
    "language_info": {
      "name": "python"
    },
    "widgets": {
      "application/vnd.jupyter.widget-state+json": {
        "1f4533a2b2764af996b4bfd130ff8c87": {
          "model_module": "@jupyter-widgets/controls",
          "model_name": "HBoxModel",
          "model_module_version": "1.5.0",
          "state": {
            "_dom_classes": [],
            "_model_module": "@jupyter-widgets/controls",
            "_model_module_version": "1.5.0",
            "_model_name": "HBoxModel",
            "_view_count": null,
            "_view_module": "@jupyter-widgets/controls",
            "_view_module_version": "1.5.0",
            "_view_name": "HBoxView",
            "box_style": "",
            "children": [
              "IPY_MODEL_5b6c46f8de514fbaaccd051e0117cdd2",
              "IPY_MODEL_1270a8ab69d84451a3c98af54a762f09",
              "IPY_MODEL_39584995f5fc48199f86f67ac5bfe9f0"
            ],
            "layout": "IPY_MODEL_ea341c8b4f31461bbcef093b6b0f8fe6"
          }
        },
        "5b6c46f8de514fbaaccd051e0117cdd2": {
          "model_module": "@jupyter-widgets/controls",
          "model_name": "HTMLModel",
          "model_module_version": "1.5.0",
          "state": {
            "_dom_classes": [],
            "_model_module": "@jupyter-widgets/controls",
            "_model_module_version": "1.5.0",
            "_model_name": "HTMLModel",
            "_view_count": null,
            "_view_module": "@jupyter-widgets/controls",
            "_view_module_version": "1.5.0",
            "_view_name": "HTMLView",
            "description": "",
            "description_tooltip": null,
            "layout": "IPY_MODEL_4d495ad2fd0d412190d5b5dde46887ca",
            "placeholder": "​",
            "style": "IPY_MODEL_4693b0da14c54845aaa76c065b2aed52",
            "value": "Downloading (…)solve/main/vocab.txt: 100%"
          }
        },
        "1270a8ab69d84451a3c98af54a762f09": {
          "model_module": "@jupyter-widgets/controls",
          "model_name": "FloatProgressModel",
          "model_module_version": "1.5.0",
          "state": {
            "_dom_classes": [],
            "_model_module": "@jupyter-widgets/controls",
            "_model_module_version": "1.5.0",
            "_model_name": "FloatProgressModel",
            "_view_count": null,
            "_view_module": "@jupyter-widgets/controls",
            "_view_module_version": "1.5.0",
            "_view_name": "ProgressView",
            "bar_style": "success",
            "description": "",
            "description_tooltip": null,
            "layout": "IPY_MODEL_9c70db700c3d4d04851d30399e66fc73",
            "max": 229167,
            "min": 0,
            "orientation": "horizontal",
            "style": "IPY_MODEL_d00299911ea04846b575c388de6c1dd9",
            "value": 229167
          }
        },
        "39584995f5fc48199f86f67ac5bfe9f0": {
          "model_module": "@jupyter-widgets/controls",
          "model_name": "HTMLModel",
          "model_module_version": "1.5.0",
          "state": {
            "_dom_classes": [],
            "_model_module": "@jupyter-widgets/controls",
            "_model_module_version": "1.5.0",
            "_model_name": "HTMLModel",
            "_view_count": null,
            "_view_module": "@jupyter-widgets/controls",
            "_view_module_version": "1.5.0",
            "_view_name": "HTMLView",
            "description": "",
            "description_tooltip": null,
            "layout": "IPY_MODEL_dbbf86a53b8547fe9434eec938f4dd51",
            "placeholder": "​",
            "style": "IPY_MODEL_95b1959a323148428c4d3f1c830d53f3",
            "value": " 229k/229k [00:00&lt;00:00, 6.48MB/s]"
          }
        },
        "ea341c8b4f31461bbcef093b6b0f8fe6": {
          "model_module": "@jupyter-widgets/base",
          "model_name": "LayoutModel",
          "model_module_version": "1.2.0",
          "state": {
            "_model_module": "@jupyter-widgets/base",
            "_model_module_version": "1.2.0",
            "_model_name": "LayoutModel",
            "_view_count": null,
            "_view_module": "@jupyter-widgets/base",
            "_view_module_version": "1.2.0",
            "_view_name": "LayoutView",
            "align_content": null,
            "align_items": null,
            "align_self": null,
            "border": null,
            "bottom": null,
            "display": null,
            "flex": null,
            "flex_flow": null,
            "grid_area": null,
            "grid_auto_columns": null,
            "grid_auto_flow": null,
            "grid_auto_rows": null,
            "grid_column": null,
            "grid_gap": null,
            "grid_row": null,
            "grid_template_areas": null,
            "grid_template_columns": null,
            "grid_template_rows": null,
            "height": null,
            "justify_content": null,
            "justify_items": null,
            "left": null,
            "margin": null,
            "max_height": null,
            "max_width": null,
            "min_height": null,
            "min_width": null,
            "object_fit": null,
            "object_position": null,
            "order": null,
            "overflow": null,
            "overflow_x": null,
            "overflow_y": null,
            "padding": null,
            "right": null,
            "top": null,
            "visibility": null,
            "width": null
          }
        },
        "4d495ad2fd0d412190d5b5dde46887ca": {
          "model_module": "@jupyter-widgets/base",
          "model_name": "LayoutModel",
          "model_module_version": "1.2.0",
          "state": {
            "_model_module": "@jupyter-widgets/base",
            "_model_module_version": "1.2.0",
            "_model_name": "LayoutModel",
            "_view_count": null,
            "_view_module": "@jupyter-widgets/base",
            "_view_module_version": "1.2.0",
            "_view_name": "LayoutView",
            "align_content": null,
            "align_items": null,
            "align_self": null,
            "border": null,
            "bottom": null,
            "display": null,
            "flex": null,
            "flex_flow": null,
            "grid_area": null,
            "grid_auto_columns": null,
            "grid_auto_flow": null,
            "grid_auto_rows": null,
            "grid_column": null,
            "grid_gap": null,
            "grid_row": null,
            "grid_template_areas": null,
            "grid_template_columns": null,
            "grid_template_rows": null,
            "height": null,
            "justify_content": null,
            "justify_items": null,
            "left": null,
            "margin": null,
            "max_height": null,
            "max_width": null,
            "min_height": null,
            "min_width": null,
            "object_fit": null,
            "object_position": null,
            "order": null,
            "overflow": null,
            "overflow_x": null,
            "overflow_y": null,
            "padding": null,
            "right": null,
            "top": null,
            "visibility": null,
            "width": null
          }
        },
        "4693b0da14c54845aaa76c065b2aed52": {
          "model_module": "@jupyter-widgets/controls",
          "model_name": "DescriptionStyleModel",
          "model_module_version": "1.5.0",
          "state": {
            "_model_module": "@jupyter-widgets/controls",
            "_model_module_version": "1.5.0",
            "_model_name": "DescriptionStyleModel",
            "_view_count": null,
            "_view_module": "@jupyter-widgets/base",
            "_view_module_version": "1.2.0",
            "_view_name": "StyleView",
            "description_width": ""
          }
        },
        "9c70db700c3d4d04851d30399e66fc73": {
          "model_module": "@jupyter-widgets/base",
          "model_name": "LayoutModel",
          "model_module_version": "1.2.0",
          "state": {
            "_model_module": "@jupyter-widgets/base",
            "_model_module_version": "1.2.0",
            "_model_name": "LayoutModel",
            "_view_count": null,
            "_view_module": "@jupyter-widgets/base",
            "_view_module_version": "1.2.0",
            "_view_name": "LayoutView",
            "align_content": null,
            "align_items": null,
            "align_self": null,
            "border": null,
            "bottom": null,
            "display": null,
            "flex": null,
            "flex_flow": null,
            "grid_area": null,
            "grid_auto_columns": null,
            "grid_auto_flow": null,
            "grid_auto_rows": null,
            "grid_column": null,
            "grid_gap": null,
            "grid_row": null,
            "grid_template_areas": null,
            "grid_template_columns": null,
            "grid_template_rows": null,
            "height": null,
            "justify_content": null,
            "justify_items": null,
            "left": null,
            "margin": null,
            "max_height": null,
            "max_width": null,
            "min_height": null,
            "min_width": null,
            "object_fit": null,
            "object_position": null,
            "order": null,
            "overflow": null,
            "overflow_x": null,
            "overflow_y": null,
            "padding": null,
            "right": null,
            "top": null,
            "visibility": null,
            "width": null
          }
        },
        "d00299911ea04846b575c388de6c1dd9": {
          "model_module": "@jupyter-widgets/controls",
          "model_name": "ProgressStyleModel",
          "model_module_version": "1.5.0",
          "state": {
            "_model_module": "@jupyter-widgets/controls",
            "_model_module_version": "1.5.0",
            "_model_name": "ProgressStyleModel",
            "_view_count": null,
            "_view_module": "@jupyter-widgets/base",
            "_view_module_version": "1.2.0",
            "_view_name": "StyleView",
            "bar_color": null,
            "description_width": ""
          }
        },
        "dbbf86a53b8547fe9434eec938f4dd51": {
          "model_module": "@jupyter-widgets/base",
          "model_name": "LayoutModel",
          "model_module_version": "1.2.0",
          "state": {
            "_model_module": "@jupyter-widgets/base",
            "_model_module_version": "1.2.0",
            "_model_name": "LayoutModel",
            "_view_count": null,
            "_view_module": "@jupyter-widgets/base",
            "_view_module_version": "1.2.0",
            "_view_name": "LayoutView",
            "align_content": null,
            "align_items": null,
            "align_self": null,
            "border": null,
            "bottom": null,
            "display": null,
            "flex": null,
            "flex_flow": null,
            "grid_area": null,
            "grid_auto_columns": null,
            "grid_auto_flow": null,
            "grid_auto_rows": null,
            "grid_column": null,
            "grid_gap": null,
            "grid_row": null,
            "grid_template_areas": null,
            "grid_template_columns": null,
            "grid_template_rows": null,
            "height": null,
            "justify_content": null,
            "justify_items": null,
            "left": null,
            "margin": null,
            "max_height": null,
            "max_width": null,
            "min_height": null,
            "min_width": null,
            "object_fit": null,
            "object_position": null,
            "order": null,
            "overflow": null,
            "overflow_x": null,
            "overflow_y": null,
            "padding": null,
            "right": null,
            "top": null,
            "visibility": null,
            "width": null
          }
        },
        "95b1959a323148428c4d3f1c830d53f3": {
          "model_module": "@jupyter-widgets/controls",
          "model_name": "DescriptionStyleModel",
          "model_module_version": "1.5.0",
          "state": {
            "_model_module": "@jupyter-widgets/controls",
            "_model_module_version": "1.5.0",
            "_model_name": "DescriptionStyleModel",
            "_view_count": null,
            "_view_module": "@jupyter-widgets/base",
            "_view_module_version": "1.2.0",
            "_view_name": "StyleView",
            "description_width": ""
          }
        },
        "6b7cf605ba7a45e2a41f638d62378670": {
          "model_module": "@jupyter-widgets/controls",
          "model_name": "HBoxModel",
          "model_module_version": "1.5.0",
          "state": {
            "_dom_classes": [],
            "_model_module": "@jupyter-widgets/controls",
            "_model_module_version": "1.5.0",
            "_model_name": "HBoxModel",
            "_view_count": null,
            "_view_module": "@jupyter-widgets/controls",
            "_view_module_version": "1.5.0",
            "_view_name": "HBoxView",
            "box_style": "",
            "children": [
              "IPY_MODEL_da21a614ac1440f2a88a1c2fd0a57660",
              "IPY_MODEL_6299eefc2cc24ed48d2c467f9ab9c4b4",
              "IPY_MODEL_10df62e1de6247eca9c15682fa5485ef"
            ],
            "layout": "IPY_MODEL_47d64914fa9c4f4ea6fbb5778d0f4d72"
          }
        },
        "da21a614ac1440f2a88a1c2fd0a57660": {
          "model_module": "@jupyter-widgets/controls",
          "model_name": "HTMLModel",
          "model_module_version": "1.5.0",
          "state": {
            "_dom_classes": [],
            "_model_module": "@jupyter-widgets/controls",
            "_model_module_version": "1.5.0",
            "_model_name": "HTMLModel",
            "_view_count": null,
            "_view_module": "@jupyter-widgets/controls",
            "_view_module_version": "1.5.0",
            "_view_name": "HTMLView",
            "description": "",
            "description_tooltip": null,
            "layout": "IPY_MODEL_d7f45ea3250c4f72a63128ce9a1c2e1d",
            "placeholder": "​",
            "style": "IPY_MODEL_50fb5da990a14d3dbb25943971a61e95",
            "value": "Downloading (…)cial_tokens_map.json: 100%"
          }
        },
        "6299eefc2cc24ed48d2c467f9ab9c4b4": {
          "model_module": "@jupyter-widgets/controls",
          "model_name": "FloatProgressModel",
          "model_module_version": "1.5.0",
          "state": {
            "_dom_classes": [],
            "_model_module": "@jupyter-widgets/controls",
            "_model_module_version": "1.5.0",
            "_model_name": "FloatProgressModel",
            "_view_count": null,
            "_view_module": "@jupyter-widgets/controls",
            "_view_module_version": "1.5.0",
            "_view_name": "ProgressView",
            "bar_style": "success",
            "description": "",
            "description_tooltip": null,
            "layout": "IPY_MODEL_722ae7c7d6c947e8bd27689c93d68b09",
            "max": 112,
            "min": 0,
            "orientation": "horizontal",
            "style": "IPY_MODEL_b2cee9da4d72458ca0afb3a8ae2a8a01",
            "value": 112
          }
        },
        "10df62e1de6247eca9c15682fa5485ef": {
          "model_module": "@jupyter-widgets/controls",
          "model_name": "HTMLModel",
          "model_module_version": "1.5.0",
          "state": {
            "_dom_classes": [],
            "_model_module": "@jupyter-widgets/controls",
            "_model_module_version": "1.5.0",
            "_model_name": "HTMLModel",
            "_view_count": null,
            "_view_module": "@jupyter-widgets/controls",
            "_view_module_version": "1.5.0",
            "_view_name": "HTMLView",
            "description": "",
            "description_tooltip": null,
            "layout": "IPY_MODEL_19d6e8d82ab54177830a85e1368f55c5",
            "placeholder": "​",
            "style": "IPY_MODEL_ba156556cffd4bb18cdd19a270f67dc2",
            "value": " 112/112 [00:00&lt;00:00, 5.57kB/s]"
          }
        },
        "47d64914fa9c4f4ea6fbb5778d0f4d72": {
          "model_module": "@jupyter-widgets/base",
          "model_name": "LayoutModel",
          "model_module_version": "1.2.0",
          "state": {
            "_model_module": "@jupyter-widgets/base",
            "_model_module_version": "1.2.0",
            "_model_name": "LayoutModel",
            "_view_count": null,
            "_view_module": "@jupyter-widgets/base",
            "_view_module_version": "1.2.0",
            "_view_name": "LayoutView",
            "align_content": null,
            "align_items": null,
            "align_self": null,
            "border": null,
            "bottom": null,
            "display": null,
            "flex": null,
            "flex_flow": null,
            "grid_area": null,
            "grid_auto_columns": null,
            "grid_auto_flow": null,
            "grid_auto_rows": null,
            "grid_column": null,
            "grid_gap": null,
            "grid_row": null,
            "grid_template_areas": null,
            "grid_template_columns": null,
            "grid_template_rows": null,
            "height": null,
            "justify_content": null,
            "justify_items": null,
            "left": null,
            "margin": null,
            "max_height": null,
            "max_width": null,
            "min_height": null,
            "min_width": null,
            "object_fit": null,
            "object_position": null,
            "order": null,
            "overflow": null,
            "overflow_x": null,
            "overflow_y": null,
            "padding": null,
            "right": null,
            "top": null,
            "visibility": null,
            "width": null
          }
        },
        "d7f45ea3250c4f72a63128ce9a1c2e1d": {
          "model_module": "@jupyter-widgets/base",
          "model_name": "LayoutModel",
          "model_module_version": "1.2.0",
          "state": {
            "_model_module": "@jupyter-widgets/base",
            "_model_module_version": "1.2.0",
            "_model_name": "LayoutModel",
            "_view_count": null,
            "_view_module": "@jupyter-widgets/base",
            "_view_module_version": "1.2.0",
            "_view_name": "LayoutView",
            "align_content": null,
            "align_items": null,
            "align_self": null,
            "border": null,
            "bottom": null,
            "display": null,
            "flex": null,
            "flex_flow": null,
            "grid_area": null,
            "grid_auto_columns": null,
            "grid_auto_flow": null,
            "grid_auto_rows": null,
            "grid_column": null,
            "grid_gap": null,
            "grid_row": null,
            "grid_template_areas": null,
            "grid_template_columns": null,
            "grid_template_rows": null,
            "height": null,
            "justify_content": null,
            "justify_items": null,
            "left": null,
            "margin": null,
            "max_height": null,
            "max_width": null,
            "min_height": null,
            "min_width": null,
            "object_fit": null,
            "object_position": null,
            "order": null,
            "overflow": null,
            "overflow_x": null,
            "overflow_y": null,
            "padding": null,
            "right": null,
            "top": null,
            "visibility": null,
            "width": null
          }
        },
        "50fb5da990a14d3dbb25943971a61e95": {
          "model_module": "@jupyter-widgets/controls",
          "model_name": "DescriptionStyleModel",
          "model_module_version": "1.5.0",
          "state": {
            "_model_module": "@jupyter-widgets/controls",
            "_model_module_version": "1.5.0",
            "_model_name": "DescriptionStyleModel",
            "_view_count": null,
            "_view_module": "@jupyter-widgets/base",
            "_view_module_version": "1.2.0",
            "_view_name": "StyleView",
            "description_width": ""
          }
        },
        "722ae7c7d6c947e8bd27689c93d68b09": {
          "model_module": "@jupyter-widgets/base",
          "model_name": "LayoutModel",
          "model_module_version": "1.2.0",
          "state": {
            "_model_module": "@jupyter-widgets/base",
            "_model_module_version": "1.2.0",
            "_model_name": "LayoutModel",
            "_view_count": null,
            "_view_module": "@jupyter-widgets/base",
            "_view_module_version": "1.2.0",
            "_view_name": "LayoutView",
            "align_content": null,
            "align_items": null,
            "align_self": null,
            "border": null,
            "bottom": null,
            "display": null,
            "flex": null,
            "flex_flow": null,
            "grid_area": null,
            "grid_auto_columns": null,
            "grid_auto_flow": null,
            "grid_auto_rows": null,
            "grid_column": null,
            "grid_gap": null,
            "grid_row": null,
            "grid_template_areas": null,
            "grid_template_columns": null,
            "grid_template_rows": null,
            "height": null,
            "justify_content": null,
            "justify_items": null,
            "left": null,
            "margin": null,
            "max_height": null,
            "max_width": null,
            "min_height": null,
            "min_width": null,
            "object_fit": null,
            "object_position": null,
            "order": null,
            "overflow": null,
            "overflow_x": null,
            "overflow_y": null,
            "padding": null,
            "right": null,
            "top": null,
            "visibility": null,
            "width": null
          }
        },
        "b2cee9da4d72458ca0afb3a8ae2a8a01": {
          "model_module": "@jupyter-widgets/controls",
          "model_name": "ProgressStyleModel",
          "model_module_version": "1.5.0",
          "state": {
            "_model_module": "@jupyter-widgets/controls",
            "_model_module_version": "1.5.0",
            "_model_name": "ProgressStyleModel",
            "_view_count": null,
            "_view_module": "@jupyter-widgets/base",
            "_view_module_version": "1.2.0",
            "_view_name": "StyleView",
            "bar_color": null,
            "description_width": ""
          }
        },
        "19d6e8d82ab54177830a85e1368f55c5": {
          "model_module": "@jupyter-widgets/base",
          "model_name": "LayoutModel",
          "model_module_version": "1.2.0",
          "state": {
            "_model_module": "@jupyter-widgets/base",
            "_model_module_version": "1.2.0",
            "_model_name": "LayoutModel",
            "_view_count": null,
            "_view_module": "@jupyter-widgets/base",
            "_view_module_version": "1.2.0",
            "_view_name": "LayoutView",
            "align_content": null,
            "align_items": null,
            "align_self": null,
            "border": null,
            "bottom": null,
            "display": null,
            "flex": null,
            "flex_flow": null,
            "grid_area": null,
            "grid_auto_columns": null,
            "grid_auto_flow": null,
            "grid_auto_rows": null,
            "grid_column": null,
            "grid_gap": null,
            "grid_row": null,
            "grid_template_areas": null,
            "grid_template_columns": null,
            "grid_template_rows": null,
            "height": null,
            "justify_content": null,
            "justify_items": null,
            "left": null,
            "margin": null,
            "max_height": null,
            "max_width": null,
            "min_height": null,
            "min_width": null,
            "object_fit": null,
            "object_position": null,
            "order": null,
            "overflow": null,
            "overflow_x": null,
            "overflow_y": null,
            "padding": null,
            "right": null,
            "top": null,
            "visibility": null,
            "width": null
          }
        },
        "ba156556cffd4bb18cdd19a270f67dc2": {
          "model_module": "@jupyter-widgets/controls",
          "model_name": "DescriptionStyleModel",
          "model_module_version": "1.5.0",
          "state": {
            "_model_module": "@jupyter-widgets/controls",
            "_model_module_version": "1.5.0",
            "_model_name": "DescriptionStyleModel",
            "_view_count": null,
            "_view_module": "@jupyter-widgets/base",
            "_view_module_version": "1.2.0",
            "_view_name": "StyleView",
            "description_width": ""
          }
        },
        "d60c85a46cad40c1a78a1ad814771595": {
          "model_module": "@jupyter-widgets/controls",
          "model_name": "HBoxModel",
          "model_module_version": "1.5.0",
          "state": {
            "_dom_classes": [],
            "_model_module": "@jupyter-widgets/controls",
            "_model_module_version": "1.5.0",
            "_model_name": "HBoxModel",
            "_view_count": null,
            "_view_module": "@jupyter-widgets/controls",
            "_view_module_version": "1.5.0",
            "_view_name": "HBoxView",
            "box_style": "",
            "children": [
              "IPY_MODEL_a54bbcc9fb8245458a2314a24056def7",
              "IPY_MODEL_7c66445988ba4dc98a393b85262ad180",
              "IPY_MODEL_afae1ae0fe684be49dbf439618b04af8"
            ],
            "layout": "IPY_MODEL_005d1d5c950445e793fc70d8cb2c7b09"
          }
        },
        "a54bbcc9fb8245458a2314a24056def7": {
          "model_module": "@jupyter-widgets/controls",
          "model_name": "HTMLModel",
          "model_module_version": "1.5.0",
          "state": {
            "_dom_classes": [],
            "_model_module": "@jupyter-widgets/controls",
            "_model_module_version": "1.5.0",
            "_model_name": "HTMLModel",
            "_view_count": null,
            "_view_module": "@jupyter-widgets/controls",
            "_view_module_version": "1.5.0",
            "_view_name": "HTMLView",
            "description": "",
            "description_tooltip": null,
            "layout": "IPY_MODEL_180d22a073194363af4972563356a429",
            "placeholder": "​",
            "style": "IPY_MODEL_5dd969b12a9e4c67a3fd0b5a81bfcc31",
            "value": "Downloading (…)okenizer_config.json: 100%"
          }
        },
        "7c66445988ba4dc98a393b85262ad180": {
          "model_module": "@jupyter-widgets/controls",
          "model_name": "FloatProgressModel",
          "model_module_version": "1.5.0",
          "state": {
            "_dom_classes": [],
            "_model_module": "@jupyter-widgets/controls",
            "_model_module_version": "1.5.0",
            "_model_name": "FloatProgressModel",
            "_view_count": null,
            "_view_module": "@jupyter-widgets/controls",
            "_view_module_version": "1.5.0",
            "_view_name": "ProgressView",
            "bar_style": "success",
            "description": "",
            "description_tooltip": null,
            "layout": "IPY_MODEL_4c6d1213e67b4483b6a0dd854152ea54",
            "max": 2,
            "min": 0,
            "orientation": "horizontal",
            "style": "IPY_MODEL_2095659787014892ad18a5462efd780c",
            "value": 2
          }
        },
        "afae1ae0fe684be49dbf439618b04af8": {
          "model_module": "@jupyter-widgets/controls",
          "model_name": "HTMLModel",
          "model_module_version": "1.5.0",
          "state": {
            "_dom_classes": [],
            "_model_module": "@jupyter-widgets/controls",
            "_model_module_version": "1.5.0",
            "_model_name": "HTMLModel",
            "_view_count": null,
            "_view_module": "@jupyter-widgets/controls",
            "_view_module_version": "1.5.0",
            "_view_name": "HTMLView",
            "description": "",
            "description_tooltip": null,
            "layout": "IPY_MODEL_c5933ba4b14b4524927129c7530bb31d",
            "placeholder": "​",
            "style": "IPY_MODEL_57151726fc714c47891ef268cdba60a0",
            "value": " 2.00/2.00 [00:00&lt;00:00, 126B/s]"
          }
        },
        "005d1d5c950445e793fc70d8cb2c7b09": {
          "model_module": "@jupyter-widgets/base",
          "model_name": "LayoutModel",
          "model_module_version": "1.2.0",
          "state": {
            "_model_module": "@jupyter-widgets/base",
            "_model_module_version": "1.2.0",
            "_model_name": "LayoutModel",
            "_view_count": null,
            "_view_module": "@jupyter-widgets/base",
            "_view_module_version": "1.2.0",
            "_view_name": "LayoutView",
            "align_content": null,
            "align_items": null,
            "align_self": null,
            "border": null,
            "bottom": null,
            "display": null,
            "flex": null,
            "flex_flow": null,
            "grid_area": null,
            "grid_auto_columns": null,
            "grid_auto_flow": null,
            "grid_auto_rows": null,
            "grid_column": null,
            "grid_gap": null,
            "grid_row": null,
            "grid_template_areas": null,
            "grid_template_columns": null,
            "grid_template_rows": null,
            "height": null,
            "justify_content": null,
            "justify_items": null,
            "left": null,
            "margin": null,
            "max_height": null,
            "max_width": null,
            "min_height": null,
            "min_width": null,
            "object_fit": null,
            "object_position": null,
            "order": null,
            "overflow": null,
            "overflow_x": null,
            "overflow_y": null,
            "padding": null,
            "right": null,
            "top": null,
            "visibility": null,
            "width": null
          }
        },
        "180d22a073194363af4972563356a429": {
          "model_module": "@jupyter-widgets/base",
          "model_name": "LayoutModel",
          "model_module_version": "1.2.0",
          "state": {
            "_model_module": "@jupyter-widgets/base",
            "_model_module_version": "1.2.0",
            "_model_name": "LayoutModel",
            "_view_count": null,
            "_view_module": "@jupyter-widgets/base",
            "_view_module_version": "1.2.0",
            "_view_name": "LayoutView",
            "align_content": null,
            "align_items": null,
            "align_self": null,
            "border": null,
            "bottom": null,
            "display": null,
            "flex": null,
            "flex_flow": null,
            "grid_area": null,
            "grid_auto_columns": null,
            "grid_auto_flow": null,
            "grid_auto_rows": null,
            "grid_column": null,
            "grid_gap": null,
            "grid_row": null,
            "grid_template_areas": null,
            "grid_template_columns": null,
            "grid_template_rows": null,
            "height": null,
            "justify_content": null,
            "justify_items": null,
            "left": null,
            "margin": null,
            "max_height": null,
            "max_width": null,
            "min_height": null,
            "min_width": null,
            "object_fit": null,
            "object_position": null,
            "order": null,
            "overflow": null,
            "overflow_x": null,
            "overflow_y": null,
            "padding": null,
            "right": null,
            "top": null,
            "visibility": null,
            "width": null
          }
        },
        "5dd969b12a9e4c67a3fd0b5a81bfcc31": {
          "model_module": "@jupyter-widgets/controls",
          "model_name": "DescriptionStyleModel",
          "model_module_version": "1.5.0",
          "state": {
            "_model_module": "@jupyter-widgets/controls",
            "_model_module_version": "1.5.0",
            "_model_name": "DescriptionStyleModel",
            "_view_count": null,
            "_view_module": "@jupyter-widgets/base",
            "_view_module_version": "1.2.0",
            "_view_name": "StyleView",
            "description_width": ""
          }
        },
        "4c6d1213e67b4483b6a0dd854152ea54": {
          "model_module": "@jupyter-widgets/base",
          "model_name": "LayoutModel",
          "model_module_version": "1.2.0",
          "state": {
            "_model_module": "@jupyter-widgets/base",
            "_model_module_version": "1.2.0",
            "_model_name": "LayoutModel",
            "_view_count": null,
            "_view_module": "@jupyter-widgets/base",
            "_view_module_version": "1.2.0",
            "_view_name": "LayoutView",
            "align_content": null,
            "align_items": null,
            "align_self": null,
            "border": null,
            "bottom": null,
            "display": null,
            "flex": null,
            "flex_flow": null,
            "grid_area": null,
            "grid_auto_columns": null,
            "grid_auto_flow": null,
            "grid_auto_rows": null,
            "grid_column": null,
            "grid_gap": null,
            "grid_row": null,
            "grid_template_areas": null,
            "grid_template_columns": null,
            "grid_template_rows": null,
            "height": null,
            "justify_content": null,
            "justify_items": null,
            "left": null,
            "margin": null,
            "max_height": null,
            "max_width": null,
            "min_height": null,
            "min_width": null,
            "object_fit": null,
            "object_position": null,
            "order": null,
            "overflow": null,
            "overflow_x": null,
            "overflow_y": null,
            "padding": null,
            "right": null,
            "top": null,
            "visibility": null,
            "width": null
          }
        },
        "2095659787014892ad18a5462efd780c": {
          "model_module": "@jupyter-widgets/controls",
          "model_name": "ProgressStyleModel",
          "model_module_version": "1.5.0",
          "state": {
            "_model_module": "@jupyter-widgets/controls",
            "_model_module_version": "1.5.0",
            "_model_name": "ProgressStyleModel",
            "_view_count": null,
            "_view_module": "@jupyter-widgets/base",
            "_view_module_version": "1.2.0",
            "_view_name": "StyleView",
            "bar_color": null,
            "description_width": ""
          }
        },
        "c5933ba4b14b4524927129c7530bb31d": {
          "model_module": "@jupyter-widgets/base",
          "model_name": "LayoutModel",
          "model_module_version": "1.2.0",
          "state": {
            "_model_module": "@jupyter-widgets/base",
            "_model_module_version": "1.2.0",
            "_model_name": "LayoutModel",
            "_view_count": null,
            "_view_module": "@jupyter-widgets/base",
            "_view_module_version": "1.2.0",
            "_view_name": "LayoutView",
            "align_content": null,
            "align_items": null,
            "align_self": null,
            "border": null,
            "bottom": null,
            "display": null,
            "flex": null,
            "flex_flow": null,
            "grid_area": null,
            "grid_auto_columns": null,
            "grid_auto_flow": null,
            "grid_auto_rows": null,
            "grid_column": null,
            "grid_gap": null,
            "grid_row": null,
            "grid_template_areas": null,
            "grid_template_columns": null,
            "grid_template_rows": null,
            "height": null,
            "justify_content": null,
            "justify_items": null,
            "left": null,
            "margin": null,
            "max_height": null,
            "max_width": null,
            "min_height": null,
            "min_width": null,
            "object_fit": null,
            "object_position": null,
            "order": null,
            "overflow": null,
            "overflow_x": null,
            "overflow_y": null,
            "padding": null,
            "right": null,
            "top": null,
            "visibility": null,
            "width": null
          }
        },
        "57151726fc714c47891ef268cdba60a0": {
          "model_module": "@jupyter-widgets/controls",
          "model_name": "DescriptionStyleModel",
          "model_module_version": "1.5.0",
          "state": {
            "_model_module": "@jupyter-widgets/controls",
            "_model_module_version": "1.5.0",
            "_model_name": "DescriptionStyleModel",
            "_view_count": null,
            "_view_module": "@jupyter-widgets/base",
            "_view_module_version": "1.2.0",
            "_view_name": "StyleView",
            "description_width": ""
          }
        },
        "75d6973f379e4c46a42a0225d8e4e786": {
          "model_module": "@jupyter-widgets/controls",
          "model_name": "HBoxModel",
          "model_module_version": "1.5.0",
          "state": {
            "_dom_classes": [],
            "_model_module": "@jupyter-widgets/controls",
            "_model_module_version": "1.5.0",
            "_model_name": "HBoxModel",
            "_view_count": null,
            "_view_module": "@jupyter-widgets/controls",
            "_view_module_version": "1.5.0",
            "_view_name": "HBoxView",
            "box_style": "",
            "children": [
              "IPY_MODEL_c4d9ab96a2d04a969a5775ab2e7591d1",
              "IPY_MODEL_fa2bdca2cde04b23ba10f193a0c241dd",
              "IPY_MODEL_0da10cf245734dd0b62f9c3792af0d7c"
            ],
            "layout": "IPY_MODEL_c788873f70f14396b77efdf5de4c9659"
          }
        },
        "c4d9ab96a2d04a969a5775ab2e7591d1": {
          "model_module": "@jupyter-widgets/controls",
          "model_name": "HTMLModel",
          "model_module_version": "1.5.0",
          "state": {
            "_dom_classes": [],
            "_model_module": "@jupyter-widgets/controls",
            "_model_module_version": "1.5.0",
            "_model_name": "HTMLModel",
            "_view_count": null,
            "_view_module": "@jupyter-widgets/controls",
            "_view_module_version": "1.5.0",
            "_view_name": "HTMLView",
            "description": "",
            "description_tooltip": null,
            "layout": "IPY_MODEL_0877f25f3cd04225a6fc427f1ad39fec",
            "placeholder": "​",
            "style": "IPY_MODEL_10767a76878c4a879a9f4abfe244cd4e",
            "value": "Downloading (…)lve/main/config.json: 100%"
          }
        },
        "fa2bdca2cde04b23ba10f193a0c241dd": {
          "model_module": "@jupyter-widgets/controls",
          "model_name": "FloatProgressModel",
          "model_module_version": "1.5.0",
          "state": {
            "_dom_classes": [],
            "_model_module": "@jupyter-widgets/controls",
            "_model_module_version": "1.5.0",
            "_model_name": "FloatProgressModel",
            "_view_count": null,
            "_view_module": "@jupyter-widgets/controls",
            "_view_module_version": "1.5.0",
            "_view_name": "ProgressView",
            "bar_style": "success",
            "description": "",
            "description_tooltip": null,
            "layout": "IPY_MODEL_1d4b2c1bd83c443aa05bb668f533c379",
            "max": 1534,
            "min": 0,
            "orientation": "horizontal",
            "style": "IPY_MODEL_cfa9e323cac84010b8eebf9d9a4d3546",
            "value": 1534
          }
        },
        "0da10cf245734dd0b62f9c3792af0d7c": {
          "model_module": "@jupyter-widgets/controls",
          "model_name": "HTMLModel",
          "model_module_version": "1.5.0",
          "state": {
            "_dom_classes": [],
            "_model_module": "@jupyter-widgets/controls",
            "_model_module_version": "1.5.0",
            "_model_name": "HTMLModel",
            "_view_count": null,
            "_view_module": "@jupyter-widgets/controls",
            "_view_module_version": "1.5.0",
            "_view_name": "HTMLView",
            "description": "",
            "description_tooltip": null,
            "layout": "IPY_MODEL_704386dbe9cb44d5b2a73615455ed7f9",
            "placeholder": "​",
            "style": "IPY_MODEL_1b68bbebd3a44c59bae0b7e1860e39f6",
            "value": " 1.53k/1.53k [00:00&lt;00:00, 95.8kB/s]"
          }
        },
        "c788873f70f14396b77efdf5de4c9659": {
          "model_module": "@jupyter-widgets/base",
          "model_name": "LayoutModel",
          "model_module_version": "1.2.0",
          "state": {
            "_model_module": "@jupyter-widgets/base",
            "_model_module_version": "1.2.0",
            "_model_name": "LayoutModel",
            "_view_count": null,
            "_view_module": "@jupyter-widgets/base",
            "_view_module_version": "1.2.0",
            "_view_name": "LayoutView",
            "align_content": null,
            "align_items": null,
            "align_self": null,
            "border": null,
            "bottom": null,
            "display": null,
            "flex": null,
            "flex_flow": null,
            "grid_area": null,
            "grid_auto_columns": null,
            "grid_auto_flow": null,
            "grid_auto_rows": null,
            "grid_column": null,
            "grid_gap": null,
            "grid_row": null,
            "grid_template_areas": null,
            "grid_template_columns": null,
            "grid_template_rows": null,
            "height": null,
            "justify_content": null,
            "justify_items": null,
            "left": null,
            "margin": null,
            "max_height": null,
            "max_width": null,
            "min_height": null,
            "min_width": null,
            "object_fit": null,
            "object_position": null,
            "order": null,
            "overflow": null,
            "overflow_x": null,
            "overflow_y": null,
            "padding": null,
            "right": null,
            "top": null,
            "visibility": null,
            "width": null
          }
        },
        "0877f25f3cd04225a6fc427f1ad39fec": {
          "model_module": "@jupyter-widgets/base",
          "model_name": "LayoutModel",
          "model_module_version": "1.2.0",
          "state": {
            "_model_module": "@jupyter-widgets/base",
            "_model_module_version": "1.2.0",
            "_model_name": "LayoutModel",
            "_view_count": null,
            "_view_module": "@jupyter-widgets/base",
            "_view_module_version": "1.2.0",
            "_view_name": "LayoutView",
            "align_content": null,
            "align_items": null,
            "align_self": null,
            "border": null,
            "bottom": null,
            "display": null,
            "flex": null,
            "flex_flow": null,
            "grid_area": null,
            "grid_auto_columns": null,
            "grid_auto_flow": null,
            "grid_auto_rows": null,
            "grid_column": null,
            "grid_gap": null,
            "grid_row": null,
            "grid_template_areas": null,
            "grid_template_columns": null,
            "grid_template_rows": null,
            "height": null,
            "justify_content": null,
            "justify_items": null,
            "left": null,
            "margin": null,
            "max_height": null,
            "max_width": null,
            "min_height": null,
            "min_width": null,
            "object_fit": null,
            "object_position": null,
            "order": null,
            "overflow": null,
            "overflow_x": null,
            "overflow_y": null,
            "padding": null,
            "right": null,
            "top": null,
            "visibility": null,
            "width": null
          }
        },
        "10767a76878c4a879a9f4abfe244cd4e": {
          "model_module": "@jupyter-widgets/controls",
          "model_name": "DescriptionStyleModel",
          "model_module_version": "1.5.0",
          "state": {
            "_model_module": "@jupyter-widgets/controls",
            "_model_module_version": "1.5.0",
            "_model_name": "DescriptionStyleModel",
            "_view_count": null,
            "_view_module": "@jupyter-widgets/base",
            "_view_module_version": "1.2.0",
            "_view_name": "StyleView",
            "description_width": ""
          }
        },
        "1d4b2c1bd83c443aa05bb668f533c379": {
          "model_module": "@jupyter-widgets/base",
          "model_name": "LayoutModel",
          "model_module_version": "1.2.0",
          "state": {
            "_model_module": "@jupyter-widgets/base",
            "_model_module_version": "1.2.0",
            "_model_name": "LayoutModel",
            "_view_count": null,
            "_view_module": "@jupyter-widgets/base",
            "_view_module_version": "1.2.0",
            "_view_name": "LayoutView",
            "align_content": null,
            "align_items": null,
            "align_self": null,
            "border": null,
            "bottom": null,
            "display": null,
            "flex": null,
            "flex_flow": null,
            "grid_area": null,
            "grid_auto_columns": null,
            "grid_auto_flow": null,
            "grid_auto_rows": null,
            "grid_column": null,
            "grid_gap": null,
            "grid_row": null,
            "grid_template_areas": null,
            "grid_template_columns": null,
            "grid_template_rows": null,
            "height": null,
            "justify_content": null,
            "justify_items": null,
            "left": null,
            "margin": null,
            "max_height": null,
            "max_width": null,
            "min_height": null,
            "min_width": null,
            "object_fit": null,
            "object_position": null,
            "order": null,
            "overflow": null,
            "overflow_x": null,
            "overflow_y": null,
            "padding": null,
            "right": null,
            "top": null,
            "visibility": null,
            "width": null
          }
        },
        "cfa9e323cac84010b8eebf9d9a4d3546": {
          "model_module": "@jupyter-widgets/controls",
          "model_name": "ProgressStyleModel",
          "model_module_version": "1.5.0",
          "state": {
            "_model_module": "@jupyter-widgets/controls",
            "_model_module_version": "1.5.0",
            "_model_name": "ProgressStyleModel",
            "_view_count": null,
            "_view_module": "@jupyter-widgets/base",
            "_view_module_version": "1.2.0",
            "_view_name": "StyleView",
            "bar_color": null,
            "description_width": ""
          }
        },
        "704386dbe9cb44d5b2a73615455ed7f9": {
          "model_module": "@jupyter-widgets/base",
          "model_name": "LayoutModel",
          "model_module_version": "1.2.0",
          "state": {
            "_model_module": "@jupyter-widgets/base",
            "_model_module_version": "1.2.0",
            "_model_name": "LayoutModel",
            "_view_count": null,
            "_view_module": "@jupyter-widgets/base",
            "_view_module_version": "1.2.0",
            "_view_name": "LayoutView",
            "align_content": null,
            "align_items": null,
            "align_self": null,
            "border": null,
            "bottom": null,
            "display": null,
            "flex": null,
            "flex_flow": null,
            "grid_area": null,
            "grid_auto_columns": null,
            "grid_auto_flow": null,
            "grid_auto_rows": null,
            "grid_column": null,
            "grid_gap": null,
            "grid_row": null,
            "grid_template_areas": null,
            "grid_template_columns": null,
            "grid_template_rows": null,
            "height": null,
            "justify_content": null,
            "justify_items": null,
            "left": null,
            "margin": null,
            "max_height": null,
            "max_width": null,
            "min_height": null,
            "min_width": null,
            "object_fit": null,
            "object_position": null,
            "order": null,
            "overflow": null,
            "overflow_x": null,
            "overflow_y": null,
            "padding": null,
            "right": null,
            "top": null,
            "visibility": null,
            "width": null
          }
        },
        "1b68bbebd3a44c59bae0b7e1860e39f6": {
          "model_module": "@jupyter-widgets/controls",
          "model_name": "DescriptionStyleModel",
          "model_module_version": "1.5.0",
          "state": {
            "_model_module": "@jupyter-widgets/controls",
            "_model_module_version": "1.5.0",
            "_model_name": "DescriptionStyleModel",
            "_view_count": null,
            "_view_module": "@jupyter-widgets/base",
            "_view_module_version": "1.2.0",
            "_view_name": "StyleView",
            "description_width": ""
          }
        },
        "a4e7c11adcbc493bb561548d33933745": {
          "model_module": "@jupyter-widgets/controls",
          "model_name": "HBoxModel",
          "model_module_version": "1.5.0",
          "state": {
            "_dom_classes": [],
            "_model_module": "@jupyter-widgets/controls",
            "_model_module_version": "1.5.0",
            "_model_name": "HBoxModel",
            "_view_count": null,
            "_view_module": "@jupyter-widgets/controls",
            "_view_module_version": "1.5.0",
            "_view_name": "HBoxView",
            "box_style": "",
            "children": [
              "IPY_MODEL_a16e751700a642e6abd0fe081183460e",
              "IPY_MODEL_a0f83d4fd24e42dcbb41c93b03109ed9",
              "IPY_MODEL_724c1099557e41e0b73d3dc926925da7"
            ],
            "layout": "IPY_MODEL_8bed56ca71da486292148baa87341746"
          }
        },
        "a16e751700a642e6abd0fe081183460e": {
          "model_module": "@jupyter-widgets/controls",
          "model_name": "HTMLModel",
          "model_module_version": "1.5.0",
          "state": {
            "_dom_classes": [],
            "_model_module": "@jupyter-widgets/controls",
            "_model_module_version": "1.5.0",
            "_model_name": "HTMLModel",
            "_view_count": null,
            "_view_module": "@jupyter-widgets/controls",
            "_view_module_version": "1.5.0",
            "_view_name": "HTMLView",
            "description": "",
            "description_tooltip": null,
            "layout": "IPY_MODEL_9fa8ee3e89f84e578e5e024da32b7b4a",
            "placeholder": "​",
            "style": "IPY_MODEL_8e9fcad1bcf24a72aa0f62aefc744c8e",
            "value": "Downloading pytorch_model.bin: 100%"
          }
        },
        "a0f83d4fd24e42dcbb41c93b03109ed9": {
          "model_module": "@jupyter-widgets/controls",
          "model_name": "FloatProgressModel",
          "model_module_version": "1.5.0",
          "state": {
            "_dom_classes": [],
            "_model_module": "@jupyter-widgets/controls",
            "_model_module_version": "1.5.0",
            "_model_name": "FloatProgressModel",
            "_view_count": null,
            "_view_module": "@jupyter-widgets/controls",
            "_view_module_version": "1.5.0",
            "_view_name": "ProgressView",
            "bar_style": "success",
            "description": "",
            "description_tooltip": null,
            "layout": "IPY_MODEL_b4059ff49491414c8ac19ccf5d5b7e94",
            "max": 497810400,
            "min": 0,
            "orientation": "horizontal",
            "style": "IPY_MODEL_3899546cb02d4ca7aafeaba1955c7e7f",
            "value": 497810400
          }
        },
        "724c1099557e41e0b73d3dc926925da7": {
          "model_module": "@jupyter-widgets/controls",
          "model_name": "HTMLModel",
          "model_module_version": "1.5.0",
          "state": {
            "_dom_classes": [],
            "_model_module": "@jupyter-widgets/controls",
            "_model_module_version": "1.5.0",
            "_model_name": "HTMLModel",
            "_view_count": null,
            "_view_module": "@jupyter-widgets/controls",
            "_view_module_version": "1.5.0",
            "_view_name": "HTMLView",
            "description": "",
            "description_tooltip": null,
            "layout": "IPY_MODEL_2e911fc0b180457e9026043682e2ffa5",
            "placeholder": "​",
            "style": "IPY_MODEL_69c01f34aa514abdafd80b90763f11c3",
            "value": " 498M/498M [00:01&lt;00:00, 275MB/s]"
          }
        },
        "8bed56ca71da486292148baa87341746": {
          "model_module": "@jupyter-widgets/base",
          "model_name": "LayoutModel",
          "model_module_version": "1.2.0",
          "state": {
            "_model_module": "@jupyter-widgets/base",
            "_model_module_version": "1.2.0",
            "_model_name": "LayoutModel",
            "_view_count": null,
            "_view_module": "@jupyter-widgets/base",
            "_view_module_version": "1.2.0",
            "_view_name": "LayoutView",
            "align_content": null,
            "align_items": null,
            "align_self": null,
            "border": null,
            "bottom": null,
            "display": null,
            "flex": null,
            "flex_flow": null,
            "grid_area": null,
            "grid_auto_columns": null,
            "grid_auto_flow": null,
            "grid_auto_rows": null,
            "grid_column": null,
            "grid_gap": null,
            "grid_row": null,
            "grid_template_areas": null,
            "grid_template_columns": null,
            "grid_template_rows": null,
            "height": null,
            "justify_content": null,
            "justify_items": null,
            "left": null,
            "margin": null,
            "max_height": null,
            "max_width": null,
            "min_height": null,
            "min_width": null,
            "object_fit": null,
            "object_position": null,
            "order": null,
            "overflow": null,
            "overflow_x": null,
            "overflow_y": null,
            "padding": null,
            "right": null,
            "top": null,
            "visibility": null,
            "width": null
          }
        },
        "9fa8ee3e89f84e578e5e024da32b7b4a": {
          "model_module": "@jupyter-widgets/base",
          "model_name": "LayoutModel",
          "model_module_version": "1.2.0",
          "state": {
            "_model_module": "@jupyter-widgets/base",
            "_model_module_version": "1.2.0",
            "_model_name": "LayoutModel",
            "_view_count": null,
            "_view_module": "@jupyter-widgets/base",
            "_view_module_version": "1.2.0",
            "_view_name": "LayoutView",
            "align_content": null,
            "align_items": null,
            "align_self": null,
            "border": null,
            "bottom": null,
            "display": null,
            "flex": null,
            "flex_flow": null,
            "grid_area": null,
            "grid_auto_columns": null,
            "grid_auto_flow": null,
            "grid_auto_rows": null,
            "grid_column": null,
            "grid_gap": null,
            "grid_row": null,
            "grid_template_areas": null,
            "grid_template_columns": null,
            "grid_template_rows": null,
            "height": null,
            "justify_content": null,
            "justify_items": null,
            "left": null,
            "margin": null,
            "max_height": null,
            "max_width": null,
            "min_height": null,
            "min_width": null,
            "object_fit": null,
            "object_position": null,
            "order": null,
            "overflow": null,
            "overflow_x": null,
            "overflow_y": null,
            "padding": null,
            "right": null,
            "top": null,
            "visibility": null,
            "width": null
          }
        },
        "8e9fcad1bcf24a72aa0f62aefc744c8e": {
          "model_module": "@jupyter-widgets/controls",
          "model_name": "DescriptionStyleModel",
          "model_module_version": "1.5.0",
          "state": {
            "_model_module": "@jupyter-widgets/controls",
            "_model_module_version": "1.5.0",
            "_model_name": "DescriptionStyleModel",
            "_view_count": null,
            "_view_module": "@jupyter-widgets/base",
            "_view_module_version": "1.2.0",
            "_view_name": "StyleView",
            "description_width": ""
          }
        },
        "b4059ff49491414c8ac19ccf5d5b7e94": {
          "model_module": "@jupyter-widgets/base",
          "model_name": "LayoutModel",
          "model_module_version": "1.2.0",
          "state": {
            "_model_module": "@jupyter-widgets/base",
            "_model_module_version": "1.2.0",
            "_model_name": "LayoutModel",
            "_view_count": null,
            "_view_module": "@jupyter-widgets/base",
            "_view_module_version": "1.2.0",
            "_view_name": "LayoutView",
            "align_content": null,
            "align_items": null,
            "align_self": null,
            "border": null,
            "bottom": null,
            "display": null,
            "flex": null,
            "flex_flow": null,
            "grid_area": null,
            "grid_auto_columns": null,
            "grid_auto_flow": null,
            "grid_auto_rows": null,
            "grid_column": null,
            "grid_gap": null,
            "grid_row": null,
            "grid_template_areas": null,
            "grid_template_columns": null,
            "grid_template_rows": null,
            "height": null,
            "justify_content": null,
            "justify_items": null,
            "left": null,
            "margin": null,
            "max_height": null,
            "max_width": null,
            "min_height": null,
            "min_width": null,
            "object_fit": null,
            "object_position": null,
            "order": null,
            "overflow": null,
            "overflow_x": null,
            "overflow_y": null,
            "padding": null,
            "right": null,
            "top": null,
            "visibility": null,
            "width": null
          }
        },
        "3899546cb02d4ca7aafeaba1955c7e7f": {
          "model_module": "@jupyter-widgets/controls",
          "model_name": "ProgressStyleModel",
          "model_module_version": "1.5.0",
          "state": {
            "_model_module": "@jupyter-widgets/controls",
            "_model_module_version": "1.5.0",
            "_model_name": "ProgressStyleModel",
            "_view_count": null,
            "_view_module": "@jupyter-widgets/base",
            "_view_module_version": "1.2.0",
            "_view_name": "StyleView",
            "bar_color": null,
            "description_width": ""
          }
        },
        "2e911fc0b180457e9026043682e2ffa5": {
          "model_module": "@jupyter-widgets/base",
          "model_name": "LayoutModel",
          "model_module_version": "1.2.0",
          "state": {
            "_model_module": "@jupyter-widgets/base",
            "_model_module_version": "1.2.0",
            "_model_name": "LayoutModel",
            "_view_count": null,
            "_view_module": "@jupyter-widgets/base",
            "_view_module_version": "1.2.0",
            "_view_name": "LayoutView",
            "align_content": null,
            "align_items": null,
            "align_self": null,
            "border": null,
            "bottom": null,
            "display": null,
            "flex": null,
            "flex_flow": null,
            "grid_area": null,
            "grid_auto_columns": null,
            "grid_auto_flow": null,
            "grid_auto_rows": null,
            "grid_column": null,
            "grid_gap": null,
            "grid_row": null,
            "grid_template_areas": null,
            "grid_template_columns": null,
            "grid_template_rows": null,
            "height": null,
            "justify_content": null,
            "justify_items": null,
            "left": null,
            "margin": null,
            "max_height": null,
            "max_width": null,
            "min_height": null,
            "min_width": null,
            "object_fit": null,
            "object_position": null,
            "order": null,
            "overflow": null,
            "overflow_x": null,
            "overflow_y": null,
            "padding": null,
            "right": null,
            "top": null,
            "visibility": null,
            "width": null
          }
        },
        "69c01f34aa514abdafd80b90763f11c3": {
          "model_module": "@jupyter-widgets/controls",
          "model_name": "DescriptionStyleModel",
          "model_module_version": "1.5.0",
          "state": {
            "_model_module": "@jupyter-widgets/controls",
            "_model_module_version": "1.5.0",
            "_model_name": "DescriptionStyleModel",
            "_view_count": null,
            "_view_module": "@jupyter-widgets/base",
            "_view_module_version": "1.2.0",
            "_view_name": "StyleView",
            "description_width": ""
          }
        }
      }
    }
  },
  "nbformat": 4,
  "nbformat_minor": 0
}