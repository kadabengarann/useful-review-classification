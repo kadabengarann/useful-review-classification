{
  "cells": [
    {
      "cell_type": "markdown",
      "metadata": {
        "id": "f7UvCWa5iIvY"
      },
      "source": [
        "# **1. Cek resource**"
      ]
    },
    {
      "cell_type": "code",
      "execution_count": null,
      "metadata": {
        "colab": {
          "base_uri": "https://localhost:8080/"
        },
        "id": "G2ir5JFA-htd",
        "outputId": "335a0615-b4fc-4989-fc60-57532b22dc9d"
      },
      "outputs": [
        {
          "output_type": "stream",
          "name": "stdout",
          "text": [
            "there are 1 GPU(s) available.\n",
            "we will use the GPU:  Tesla T4\n"
          ]
        }
      ],
      "source": [
        "import torch\n",
        "\n",
        "if torch.cuda.is_available():\n",
        "  device = torch.device('cuda')\n",
        "\n",
        "  print('there are %d GPU(s) available.' % torch.cuda.device_count())\n",
        "\n",
        "  print('we will use the GPU: ', torch.cuda.get_device_name(0))\n",
        "  USE_CUDA = True\n",
        "else:\n",
        "  USE_CUDA = False\n",
        "  print(\"No GPU available, using the CPU instead\")\n",
        "  device = torch.device(\"cpu\")"
      ]
    },
    {
      "cell_type": "code",
      "execution_count": null,
      "metadata": {
        "colab": {
          "base_uri": "https://localhost:8080/"
        },
        "id": "qxbjeTHrqJHh",
        "outputId": "9c41f231-508e-4593-83e2-2a5295e656b6"
      },
      "outputs": [
        {
          "output_type": "stream",
          "name": "stdout",
          "text": [
            "Drive already mounted at /content/gdrive; to attempt to forcibly remount, call drive.mount(\"/content/gdrive\", force_remount=True).\n"
          ]
        }
      ],
      "source": [
        "from google.colab import drive\n",
        "drive.mount('/content/gdrive')"
      ]
    },
    {
      "cell_type": "code",
      "execution_count": null,
      "metadata": {
        "colab": {
          "base_uri": "https://localhost:8080/"
        },
        "id": "xXqKnVVn_P-H",
        "outputId": "92fcfaf4-1aa3-4425-ab3a-b833d3d1e04b"
      },
      "outputs": [
        {
          "output_type": "stream",
          "name": "stdout",
          "text": [
            "Requirement already satisfied: transformers in /usr/local/lib/python3.10/dist-packages (4.30.2)\n",
            "Requirement already satisfied: filelock in /usr/local/lib/python3.10/dist-packages (from transformers) (3.12.2)\n",
            "Requirement already satisfied: huggingface-hub<1.0,>=0.14.1 in /usr/local/lib/python3.10/dist-packages (from transformers) (0.16.4)\n",
            "Requirement already satisfied: numpy>=1.17 in /usr/local/lib/python3.10/dist-packages (from transformers) (1.22.4)\n",
            "Requirement already satisfied: packaging>=20.0 in /usr/local/lib/python3.10/dist-packages (from transformers) (23.1)\n",
            "Requirement already satisfied: pyyaml>=5.1 in /usr/local/lib/python3.10/dist-packages (from transformers) (6.0)\n",
            "Requirement already satisfied: regex!=2019.12.17 in /usr/local/lib/python3.10/dist-packages (from transformers) (2022.10.31)\n",
            "Requirement already satisfied: requests in /usr/local/lib/python3.10/dist-packages (from transformers) (2.27.1)\n",
            "Requirement already satisfied: tokenizers!=0.11.3,<0.14,>=0.11.1 in /usr/local/lib/python3.10/dist-packages (from transformers) (0.13.3)\n",
            "Requirement already satisfied: safetensors>=0.3.1 in /usr/local/lib/python3.10/dist-packages (from transformers) (0.3.1)\n",
            "Requirement already satisfied: tqdm>=4.27 in /usr/local/lib/python3.10/dist-packages (from transformers) (4.65.0)\n",
            "Requirement already satisfied: fsspec in /usr/local/lib/python3.10/dist-packages (from huggingface-hub<1.0,>=0.14.1->transformers) (2023.6.0)\n",
            "Requirement already satisfied: typing-extensions>=3.7.4.3 in /usr/local/lib/python3.10/dist-packages (from huggingface-hub<1.0,>=0.14.1->transformers) (4.7.1)\n",
            "Requirement already satisfied: urllib3<1.27,>=1.21.1 in /usr/local/lib/python3.10/dist-packages (from requests->transformers) (1.26.16)\n",
            "Requirement already satisfied: certifi>=2017.4.17 in /usr/local/lib/python3.10/dist-packages (from requests->transformers) (2023.5.7)\n",
            "Requirement already satisfied: charset-normalizer~=2.0.0 in /usr/local/lib/python3.10/dist-packages (from requests->transformers) (2.0.12)\n",
            "Requirement already satisfied: idna<4,>=2.5 in /usr/local/lib/python3.10/dist-packages (from requests->transformers) (3.4)\n"
          ]
        }
      ],
      "source": [
        "!pip install transformers"
      ]
    },
    {
      "cell_type": "markdown",
      "metadata": {
        "id": "6wVQtUNeOoF8"
      },
      "source": [
        "## Import library"
      ]
    },
    {
      "cell_type": "code",
      "execution_count": null,
      "metadata": {
        "id": "yvcc-7dXK_fP"
      },
      "outputs": [],
      "source": [
        "import pandas as pd\n",
        "import time\n",
        "import datetime\n",
        "from tqdm import tqdm\n",
        "import sklearn\n",
        "from sklearn.metrics import confusion_matrix, roc_auc_score, matthews_corrcoef, ConfusionMatrixDisplay\n",
        "# plotting\n",
        "import seaborn as sns\n",
        "import matplotlib.pyplot as plt"
      ]
    },
    {
      "cell_type": "code",
      "execution_count": null,
      "metadata": {
        "id": "Nf45XycNNlwV"
      },
      "outputs": [],
      "source": [
        "def format_time(elapsed):\n",
        "  elapsed_rounded = int(round(elapsed))\n",
        "  return str(datetime.timedelta(seconds=elapsed_rounded))"
      ]
    },
    {
      "cell_type": "markdown",
      "metadata": {
        "id": "KQkHoz0dOhwL"
      },
      "source": [
        "# Preparation"
      ]
    },
    {
      "cell_type": "markdown",
      "metadata": {
        "id": "39W_N12LIoXQ"
      },
      "source": [
        "## Config"
      ]
    },
    {
      "cell_type": "code",
      "execution_count": null,
      "metadata": {
        "id": "2F7kRgxDIrvg"
      },
      "outputs": [],
      "source": [
        "RANDOM_SEED = 843734\n",
        "max_seq = 128\n",
        "epochs = 20\n",
        "patience = 5\n",
        "l_rate = 2e-5  # or 2e-5 5e-5 1e-6\n",
        "batch_size = 16  # or 16\n",
        "\n",
        "OUTPUT_DIM = 2 # 2 if Binary Classification\n",
        "N_LAYERS = 1 # 2\n",
        "BIDIRECTIONAL = True\n",
        "DROPOUT = 0.2 # 0.2\n",
        "\n",
        "main_path = \"/content/gdrive/My Drive/TA/Ards/\"\n",
        "\n",
        "dataset_path = main_path + \"datas/datasets_cleaned.csv\"\n",
        "graph_path =  main_path + \"graph/\"\n",
        "report_path =  main_path + \"report/\"\n",
        "\n",
        "bert_path = \"indobenchmark/indobert-base-p2\"\n",
        "model_name = 'IBDmg_2e5_d2_16'\n",
        "model_save_name = F\"{model_name}.pth\"\n",
        "model_path = F\"{main_path}saved/f_{model_save_name}\"\n",
        "best_model_path = F\"{main_path}saved/b_{model_save_name}\"\n",
        "tokenizer_path = F\"{main_path}tokenizer/{model_name}\"\n",
        "model_identifier = \"f_\""
      ]
    },
    {
      "cell_type": "markdown",
      "metadata": {
        "id": "c24O-0OIKcyw"
      },
      "source": [
        "# Load Data"
      ]
    },
    {
      "cell_type": "code",
      "execution_count": null,
      "metadata": {
        "colab": {
          "base_uri": "https://localhost:8080/"
        },
        "id": "_LAr5ObBKbs1",
        "outputId": "c0f095e6-15af-405b-c7eb-fa97810ae422"
      },
      "outputs": [
        {
          "output_type": "execute_result",
          "data": {
            "text/plain": [
              "   ï»¿usefulness       userName  score             at  \\\n",
              "0              1        IYAN JM      1  1/5/2023 7:22   \n",
              "1              1     Abdul Gani      1  1/5/2023 5:58   \n",
              "2              1          oplet      1  1/5/2023 3:25   \n",
              "3              0  Yudi Novianto      3  1/5/2023 3:13   \n",
              "4              0  holdi saputra      1  1/5/2023 0:18   \n",
              "\n",
              "                                             content  \n",
              "0  tidak bisa upload foto ktp maupun stnk baik la...  \n",
              "1  pembayaran ovo tidak bisa saya sudah isi ovo s...  \n",
              "2                 sudah daftar tapi tidak bisa masuk  \n",
              "3  kalo di saya aplikasi ini tidak terlalu bermas...  \n",
              "4  aplikasi tidak ada guna nya kebanyakan tidak b...  "
            ],
            "text/html": [
              "\n",
              "\n",
              "  <div id=\"df-3ee1961d-3866-4ad5-a02c-a51ae050f098\">\n",
              "    <div class=\"colab-df-container\">\n",
              "      <div>\n",
              "<style scoped>\n",
              "    .dataframe tbody tr th:only-of-type {\n",
              "        vertical-align: middle;\n",
              "    }\n",
              "\n",
              "    .dataframe tbody tr th {\n",
              "        vertical-align: top;\n",
              "    }\n",
              "\n",
              "    .dataframe thead th {\n",
              "        text-align: right;\n",
              "    }\n",
              "</style>\n",
              "<table border=\"1\" class=\"dataframe\">\n",
              "  <thead>\n",
              "    <tr style=\"text-align: right;\">\n",
              "      <th></th>\n",
              "      <th>ï»¿usefulness</th>\n",
              "      <th>userName</th>\n",
              "      <th>score</th>\n",
              "      <th>at</th>\n",
              "      <th>content</th>\n",
              "    </tr>\n",
              "  </thead>\n",
              "  <tbody>\n",
              "    <tr>\n",
              "      <th>0</th>\n",
              "      <td>1</td>\n",
              "      <td>IYAN JM</td>\n",
              "      <td>1</td>\n",
              "      <td>1/5/2023 7:22</td>\n",
              "      <td>tidak bisa upload foto ktp maupun stnk baik la...</td>\n",
              "    </tr>\n",
              "    <tr>\n",
              "      <th>1</th>\n",
              "      <td>1</td>\n",
              "      <td>Abdul Gani</td>\n",
              "      <td>1</td>\n",
              "      <td>1/5/2023 5:58</td>\n",
              "      <td>pembayaran ovo tidak bisa saya sudah isi ovo s...</td>\n",
              "    </tr>\n",
              "    <tr>\n",
              "      <th>2</th>\n",
              "      <td>1</td>\n",
              "      <td>oplet</td>\n",
              "      <td>1</td>\n",
              "      <td>1/5/2023 3:25</td>\n",
              "      <td>sudah daftar tapi tidak bisa masuk</td>\n",
              "    </tr>\n",
              "    <tr>\n",
              "      <th>3</th>\n",
              "      <td>0</td>\n",
              "      <td>Yudi Novianto</td>\n",
              "      <td>3</td>\n",
              "      <td>1/5/2023 3:13</td>\n",
              "      <td>kalo di saya aplikasi ini tidak terlalu bermas...</td>\n",
              "    </tr>\n",
              "    <tr>\n",
              "      <th>4</th>\n",
              "      <td>0</td>\n",
              "      <td>holdi saputra</td>\n",
              "      <td>1</td>\n",
              "      <td>1/5/2023 0:18</td>\n",
              "      <td>aplikasi tidak ada guna nya kebanyakan tidak b...</td>\n",
              "    </tr>\n",
              "  </tbody>\n",
              "</table>\n",
              "</div>\n",
              "      <button class=\"colab-df-convert\" onclick=\"convertToInteractive('df-3ee1961d-3866-4ad5-a02c-a51ae050f098')\"\n",
              "              title=\"Convert this dataframe to an interactive table.\"\n",
              "              style=\"display:none;\">\n",
              "\n",
              "  <svg xmlns=\"http://www.w3.org/2000/svg\" height=\"24px\"viewBox=\"0 0 24 24\"\n",
              "       width=\"24px\">\n",
              "    <path d=\"M0 0h24v24H0V0z\" fill=\"none\"/>\n",
              "    <path d=\"M18.56 5.44l.94 2.06.94-2.06 2.06-.94-2.06-.94-.94-2.06-.94 2.06-2.06.94zm-11 1L8.5 8.5l.94-2.06 2.06-.94-2.06-.94L8.5 2.5l-.94 2.06-2.06.94zm10 10l.94 2.06.94-2.06 2.06-.94-2.06-.94-.94-2.06-.94 2.06-2.06.94z\"/><path d=\"M17.41 7.96l-1.37-1.37c-.4-.4-.92-.59-1.43-.59-.52 0-1.04.2-1.43.59L10.3 9.45l-7.72 7.72c-.78.78-.78 2.05 0 2.83L4 21.41c.39.39.9.59 1.41.59.51 0 1.02-.2 1.41-.59l7.78-7.78 2.81-2.81c.8-.78.8-2.07 0-2.86zM5.41 20L4 18.59l7.72-7.72 1.47 1.35L5.41 20z\"/>\n",
              "  </svg>\n",
              "      </button>\n",
              "\n",
              "\n",
              "\n",
              "    <div id=\"df-986c29e8-2613-4887-bbe7-332335d6515d\">\n",
              "      <button class=\"colab-df-quickchart\" onclick=\"quickchart('df-986c29e8-2613-4887-bbe7-332335d6515d')\"\n",
              "              title=\"Suggest charts.\"\n",
              "              style=\"display:none;\">\n",
              "\n",
              "<svg xmlns=\"http://www.w3.org/2000/svg\" height=\"24px\"viewBox=\"0 0 24 24\"\n",
              "     width=\"24px\">\n",
              "    <g>\n",
              "        <path d=\"M19 3H5c-1.1 0-2 .9-2 2v14c0 1.1.9 2 2 2h14c1.1 0 2-.9 2-2V5c0-1.1-.9-2-2-2zM9 17H7v-7h2v7zm4 0h-2V7h2v10zm4 0h-2v-4h2v4z\"/>\n",
              "    </g>\n",
              "</svg>\n",
              "      </button>\n",
              "    </div>\n",
              "\n",
              "<style>\n",
              "  .colab-df-quickchart {\n",
              "    background-color: #E8F0FE;\n",
              "    border: none;\n",
              "    border-radius: 50%;\n",
              "    cursor: pointer;\n",
              "    display: none;\n",
              "    fill: #1967D2;\n",
              "    height: 32px;\n",
              "    padding: 0 0 0 0;\n",
              "    width: 32px;\n",
              "  }\n",
              "\n",
              "  .colab-df-quickchart:hover {\n",
              "    background-color: #E2EBFA;\n",
              "    box-shadow: 0px 1px 2px rgba(60, 64, 67, 0.3), 0px 1px 3px 1px rgba(60, 64, 67, 0.15);\n",
              "    fill: #174EA6;\n",
              "  }\n",
              "\n",
              "  [theme=dark] .colab-df-quickchart {\n",
              "    background-color: #3B4455;\n",
              "    fill: #D2E3FC;\n",
              "  }\n",
              "\n",
              "  [theme=dark] .colab-df-quickchart:hover {\n",
              "    background-color: #434B5C;\n",
              "    box-shadow: 0px 1px 3px 1px rgba(0, 0, 0, 0.15);\n",
              "    filter: drop-shadow(0px 1px 2px rgba(0, 0, 0, 0.3));\n",
              "    fill: #FFFFFF;\n",
              "  }\n",
              "</style>\n",
              "\n",
              "    <script>\n",
              "      async function quickchart(key) {\n",
              "        const containerElement = document.querySelector('#' + key);\n",
              "        const charts = await google.colab.kernel.invokeFunction(\n",
              "            'suggestCharts', [key], {});\n",
              "      }\n",
              "    </script>\n",
              "\n",
              "      <script>\n",
              "\n",
              "function displayQuickchartButton(domScope) {\n",
              "  let quickchartButtonEl =\n",
              "    domScope.querySelector('#df-986c29e8-2613-4887-bbe7-332335d6515d button.colab-df-quickchart');\n",
              "  quickchartButtonEl.style.display =\n",
              "    google.colab.kernel.accessAllowed ? 'block' : 'none';\n",
              "}\n",
              "\n",
              "        displayQuickchartButton(document);\n",
              "      </script>\n",
              "      <style>\n",
              "    .colab-df-container {\n",
              "      display:flex;\n",
              "      flex-wrap:wrap;\n",
              "      gap: 12px;\n",
              "    }\n",
              "\n",
              "    .colab-df-convert {\n",
              "      background-color: #E8F0FE;\n",
              "      border: none;\n",
              "      border-radius: 50%;\n",
              "      cursor: pointer;\n",
              "      display: none;\n",
              "      fill: #1967D2;\n",
              "      height: 32px;\n",
              "      padding: 0 0 0 0;\n",
              "      width: 32px;\n",
              "    }\n",
              "\n",
              "    .colab-df-convert:hover {\n",
              "      background-color: #E2EBFA;\n",
              "      box-shadow: 0px 1px 2px rgba(60, 64, 67, 0.3), 0px 1px 3px 1px rgba(60, 64, 67, 0.15);\n",
              "      fill: #174EA6;\n",
              "    }\n",
              "\n",
              "    [theme=dark] .colab-df-convert {\n",
              "      background-color: #3B4455;\n",
              "      fill: #D2E3FC;\n",
              "    }\n",
              "\n",
              "    [theme=dark] .colab-df-convert:hover {\n",
              "      background-color: #434B5C;\n",
              "      box-shadow: 0px 1px 3px 1px rgba(0, 0, 0, 0.15);\n",
              "      filter: drop-shadow(0px 1px 2px rgba(0, 0, 0, 0.3));\n",
              "      fill: #FFFFFF;\n",
              "    }\n",
              "  </style>\n",
              "\n",
              "      <script>\n",
              "        const buttonEl =\n",
              "          document.querySelector('#df-3ee1961d-3866-4ad5-a02c-a51ae050f098 button.colab-df-convert');\n",
              "        buttonEl.style.display =\n",
              "          google.colab.kernel.accessAllowed ? 'block' : 'none';\n",
              "\n",
              "        async function convertToInteractive(key) {\n",
              "          const element = document.querySelector('#df-3ee1961d-3866-4ad5-a02c-a51ae050f098');\n",
              "          const dataTable =\n",
              "            await google.colab.kernel.invokeFunction('convertToInteractive',\n",
              "                                                     [key], {});\n",
              "          if (!dataTable) return;\n",
              "\n",
              "          const docLinkHtml = 'Like what you see? Visit the ' +\n",
              "            '<a target=\"_blank\" href=https://colab.research.google.com/notebooks/data_table.ipynb>data table notebook</a>'\n",
              "            + ' to learn more about interactive tables.';\n",
              "          element.innerHTML = '';\n",
              "          dataTable['output_type'] = 'display_data';\n",
              "          await google.colab.output.renderOutput(dataTable, element);\n",
              "          const docLink = document.createElement('div');\n",
              "          docLink.innerHTML = docLinkHtml;\n",
              "          element.appendChild(docLink);\n",
              "        }\n",
              "      </script>\n",
              "    </div>\n",
              "  </div>\n"
            ]
          },
          "metadata": {},
          "execution_count": 7
        }
      ],
      "source": [
        "df=pd.read_csv(dataset_path, encoding='latin-1')\n",
        "df.head()"
      ]
    },
    {
      "cell_type": "code",
      "execution_count": null,
      "metadata": {
        "colab": {
          "base_uri": "https://localhost:8080/"
        },
        "id": "4heuuPK8Llak",
        "outputId": "1df9c614-0471-4bdb-c0a2-5ab292a0813d"
      },
      "outputs": [
        {
          "output_type": "execute_result",
          "data": {
            "text/plain": [
              "   label       userName  score             at  \\\n",
              "0      1        IYAN JM      1  1/5/2023 7:22   \n",
              "1      1     Abdul Gani      1  1/5/2023 5:58   \n",
              "2      1          oplet      1  1/5/2023 3:25   \n",
              "3      0  Yudi Novianto      3  1/5/2023 3:13   \n",
              "4      0  holdi saputra      1  1/5/2023 0:18   \n",
              "\n",
              "                                                text  \n",
              "0  tidak bisa upload foto ktp maupun stnk baik la...  \n",
              "1  pembayaran ovo tidak bisa saya sudah isi ovo s...  \n",
              "2                 sudah daftar tapi tidak bisa masuk  \n",
              "3  kalo di saya aplikasi ini tidak terlalu bermas...  \n",
              "4  aplikasi tidak ada guna nya kebanyakan tidak b...  "
            ],
            "text/html": [
              "\n",
              "\n",
              "  <div id=\"df-b48693ac-b1bb-4b5d-bb4c-8ee365833dc3\">\n",
              "    <div class=\"colab-df-container\">\n",
              "      <div>\n",
              "<style scoped>\n",
              "    .dataframe tbody tr th:only-of-type {\n",
              "        vertical-align: middle;\n",
              "    }\n",
              "\n",
              "    .dataframe tbody tr th {\n",
              "        vertical-align: top;\n",
              "    }\n",
              "\n",
              "    .dataframe thead th {\n",
              "        text-align: right;\n",
              "    }\n",
              "</style>\n",
              "<table border=\"1\" class=\"dataframe\">\n",
              "  <thead>\n",
              "    <tr style=\"text-align: right;\">\n",
              "      <th></th>\n",
              "      <th>label</th>\n",
              "      <th>userName</th>\n",
              "      <th>score</th>\n",
              "      <th>at</th>\n",
              "      <th>text</th>\n",
              "    </tr>\n",
              "  </thead>\n",
              "  <tbody>\n",
              "    <tr>\n",
              "      <th>0</th>\n",
              "      <td>1</td>\n",
              "      <td>IYAN JM</td>\n",
              "      <td>1</td>\n",
              "      <td>1/5/2023 7:22</td>\n",
              "      <td>tidak bisa upload foto ktp maupun stnk baik la...</td>\n",
              "    </tr>\n",
              "    <tr>\n",
              "      <th>1</th>\n",
              "      <td>1</td>\n",
              "      <td>Abdul Gani</td>\n",
              "      <td>1</td>\n",
              "      <td>1/5/2023 5:58</td>\n",
              "      <td>pembayaran ovo tidak bisa saya sudah isi ovo s...</td>\n",
              "    </tr>\n",
              "    <tr>\n",
              "      <th>2</th>\n",
              "      <td>1</td>\n",
              "      <td>oplet</td>\n",
              "      <td>1</td>\n",
              "      <td>1/5/2023 3:25</td>\n",
              "      <td>sudah daftar tapi tidak bisa masuk</td>\n",
              "    </tr>\n",
              "    <tr>\n",
              "      <th>3</th>\n",
              "      <td>0</td>\n",
              "      <td>Yudi Novianto</td>\n",
              "      <td>3</td>\n",
              "      <td>1/5/2023 3:13</td>\n",
              "      <td>kalo di saya aplikasi ini tidak terlalu bermas...</td>\n",
              "    </tr>\n",
              "    <tr>\n",
              "      <th>4</th>\n",
              "      <td>0</td>\n",
              "      <td>holdi saputra</td>\n",
              "      <td>1</td>\n",
              "      <td>1/5/2023 0:18</td>\n",
              "      <td>aplikasi tidak ada guna nya kebanyakan tidak b...</td>\n",
              "    </tr>\n",
              "  </tbody>\n",
              "</table>\n",
              "</div>\n",
              "      <button class=\"colab-df-convert\" onclick=\"convertToInteractive('df-b48693ac-b1bb-4b5d-bb4c-8ee365833dc3')\"\n",
              "              title=\"Convert this dataframe to an interactive table.\"\n",
              "              style=\"display:none;\">\n",
              "\n",
              "  <svg xmlns=\"http://www.w3.org/2000/svg\" height=\"24px\"viewBox=\"0 0 24 24\"\n",
              "       width=\"24px\">\n",
              "    <path d=\"M0 0h24v24H0V0z\" fill=\"none\"/>\n",
              "    <path d=\"M18.56 5.44l.94 2.06.94-2.06 2.06-.94-2.06-.94-.94-2.06-.94 2.06-2.06.94zm-11 1L8.5 8.5l.94-2.06 2.06-.94-2.06-.94L8.5 2.5l-.94 2.06-2.06.94zm10 10l.94 2.06.94-2.06 2.06-.94-2.06-.94-.94-2.06-.94 2.06-2.06.94z\"/><path d=\"M17.41 7.96l-1.37-1.37c-.4-.4-.92-.59-1.43-.59-.52 0-1.04.2-1.43.59L10.3 9.45l-7.72 7.72c-.78.78-.78 2.05 0 2.83L4 21.41c.39.39.9.59 1.41.59.51 0 1.02-.2 1.41-.59l7.78-7.78 2.81-2.81c.8-.78.8-2.07 0-2.86zM5.41 20L4 18.59l7.72-7.72 1.47 1.35L5.41 20z\"/>\n",
              "  </svg>\n",
              "      </button>\n",
              "\n",
              "\n",
              "\n",
              "    <div id=\"df-c2799b3b-cb57-4649-af4e-0d6b7c5c8620\">\n",
              "      <button class=\"colab-df-quickchart\" onclick=\"quickchart('df-c2799b3b-cb57-4649-af4e-0d6b7c5c8620')\"\n",
              "              title=\"Suggest charts.\"\n",
              "              style=\"display:none;\">\n",
              "\n",
              "<svg xmlns=\"http://www.w3.org/2000/svg\" height=\"24px\"viewBox=\"0 0 24 24\"\n",
              "     width=\"24px\">\n",
              "    <g>\n",
              "        <path d=\"M19 3H5c-1.1 0-2 .9-2 2v14c0 1.1.9 2 2 2h14c1.1 0 2-.9 2-2V5c0-1.1-.9-2-2-2zM9 17H7v-7h2v7zm4 0h-2V7h2v10zm4 0h-2v-4h2v4z\"/>\n",
              "    </g>\n",
              "</svg>\n",
              "      </button>\n",
              "    </div>\n",
              "\n",
              "<style>\n",
              "  .colab-df-quickchart {\n",
              "    background-color: #E8F0FE;\n",
              "    border: none;\n",
              "    border-radius: 50%;\n",
              "    cursor: pointer;\n",
              "    display: none;\n",
              "    fill: #1967D2;\n",
              "    height: 32px;\n",
              "    padding: 0 0 0 0;\n",
              "    width: 32px;\n",
              "  }\n",
              "\n",
              "  .colab-df-quickchart:hover {\n",
              "    background-color: #E2EBFA;\n",
              "    box-shadow: 0px 1px 2px rgba(60, 64, 67, 0.3), 0px 1px 3px 1px rgba(60, 64, 67, 0.15);\n",
              "    fill: #174EA6;\n",
              "  }\n",
              "\n",
              "  [theme=dark] .colab-df-quickchart {\n",
              "    background-color: #3B4455;\n",
              "    fill: #D2E3FC;\n",
              "  }\n",
              "\n",
              "  [theme=dark] .colab-df-quickchart:hover {\n",
              "    background-color: #434B5C;\n",
              "    box-shadow: 0px 1px 3px 1px rgba(0, 0, 0, 0.15);\n",
              "    filter: drop-shadow(0px 1px 2px rgba(0, 0, 0, 0.3));\n",
              "    fill: #FFFFFF;\n",
              "  }\n",
              "</style>\n",
              "\n",
              "    <script>\n",
              "      async function quickchart(key) {\n",
              "        const containerElement = document.querySelector('#' + key);\n",
              "        const charts = await google.colab.kernel.invokeFunction(\n",
              "            'suggestCharts', [key], {});\n",
              "      }\n",
              "    </script>\n",
              "\n",
              "      <script>\n",
              "\n",
              "function displayQuickchartButton(domScope) {\n",
              "  let quickchartButtonEl =\n",
              "    domScope.querySelector('#df-c2799b3b-cb57-4649-af4e-0d6b7c5c8620 button.colab-df-quickchart');\n",
              "  quickchartButtonEl.style.display =\n",
              "    google.colab.kernel.accessAllowed ? 'block' : 'none';\n",
              "}\n",
              "\n",
              "        displayQuickchartButton(document);\n",
              "      </script>\n",
              "      <style>\n",
              "    .colab-df-container {\n",
              "      display:flex;\n",
              "      flex-wrap:wrap;\n",
              "      gap: 12px;\n",
              "    }\n",
              "\n",
              "    .colab-df-convert {\n",
              "      background-color: #E8F0FE;\n",
              "      border: none;\n",
              "      border-radius: 50%;\n",
              "      cursor: pointer;\n",
              "      display: none;\n",
              "      fill: #1967D2;\n",
              "      height: 32px;\n",
              "      padding: 0 0 0 0;\n",
              "      width: 32px;\n",
              "    }\n",
              "\n",
              "    .colab-df-convert:hover {\n",
              "      background-color: #E2EBFA;\n",
              "      box-shadow: 0px 1px 2px rgba(60, 64, 67, 0.3), 0px 1px 3px 1px rgba(60, 64, 67, 0.15);\n",
              "      fill: #174EA6;\n",
              "    }\n",
              "\n",
              "    [theme=dark] .colab-df-convert {\n",
              "      background-color: #3B4455;\n",
              "      fill: #D2E3FC;\n",
              "    }\n",
              "\n",
              "    [theme=dark] .colab-df-convert:hover {\n",
              "      background-color: #434B5C;\n",
              "      box-shadow: 0px 1px 3px 1px rgba(0, 0, 0, 0.15);\n",
              "      filter: drop-shadow(0px 1px 2px rgba(0, 0, 0, 0.3));\n",
              "      fill: #FFFFFF;\n",
              "    }\n",
              "  </style>\n",
              "\n",
              "      <script>\n",
              "        const buttonEl =\n",
              "          document.querySelector('#df-b48693ac-b1bb-4b5d-bb4c-8ee365833dc3 button.colab-df-convert');\n",
              "        buttonEl.style.display =\n",
              "          google.colab.kernel.accessAllowed ? 'block' : 'none';\n",
              "\n",
              "        async function convertToInteractive(key) {\n",
              "          const element = document.querySelector('#df-b48693ac-b1bb-4b5d-bb4c-8ee365833dc3');\n",
              "          const dataTable =\n",
              "            await google.colab.kernel.invokeFunction('convertToInteractive',\n",
              "                                                     [key], {});\n",
              "          if (!dataTable) return;\n",
              "\n",
              "          const docLinkHtml = 'Like what you see? Visit the ' +\n",
              "            '<a target=\"_blank\" href=https://colab.research.google.com/notebooks/data_table.ipynb>data table notebook</a>'\n",
              "            + ' to learn more about interactive tables.';\n",
              "          element.innerHTML = '';\n",
              "          dataTable['output_type'] = 'display_data';\n",
              "          await google.colab.output.renderOutput(dataTable, element);\n",
              "          const docLink = document.createElement('div');\n",
              "          docLink.innerHTML = docLinkHtml;\n",
              "          element.appendChild(docLink);\n",
              "        }\n",
              "      </script>\n",
              "    </div>\n",
              "  </div>\n"
            ]
          },
          "metadata": {},
          "execution_count": 8
        }
      ],
      "source": [
        "df = df.rename(columns={'content': 'text', 'ï»¿usefulness': 'label'})\n",
        "df.head()"
      ]
    },
    {
      "cell_type": "code",
      "execution_count": null,
      "metadata": {
        "id": "JgBTtBB3LgY0"
      },
      "outputs": [],
      "source": [
        "text = df['text']\n",
        "labels = df['label']"
      ]
    },
    {
      "cell_type": "code",
      "execution_count": null,
      "metadata": {
        "colab": {
          "base_uri": "https://localhost:8080/"
        },
        "id": "Xe3VtXI5__4X",
        "outputId": "3abbd1b5-00da-45d0-a966-3d1b5e5b2e3b"
      },
      "outputs": [
        {
          "output_type": "execute_result",
          "data": {
            "text/plain": [
              "1    5205\n",
              "0    5205\n",
              "Name: label, dtype: int64"
            ]
          },
          "metadata": {},
          "execution_count": 10
        }
      ],
      "source": [
        "labels.value_counts()"
      ]
    },
    {
      "cell_type": "markdown",
      "metadata": {
        "id": "6LTgA5-uLysm"
      },
      "source": [
        "# Tokenizing"
      ]
    },
    {
      "cell_type": "code",
      "execution_count": null,
      "metadata": {
        "id": "yMJBZPoqM9SX"
      },
      "outputs": [],
      "source": [
        "import torch\n",
        "import random\n",
        "import numpy as np"
      ]
    },
    {
      "cell_type": "code",
      "execution_count": null,
      "metadata": {
        "id": "zdddj1xUM4ww"
      },
      "outputs": [],
      "source": [
        "def set_seed(seed):\n",
        "    random.seed(seed)\n",
        "    np.random.seed(seed)\n",
        "    torch.manual_seed(seed)\n",
        "    torch.cuda.manual_seed(seed)\n",
        "\n",
        "def get_lr(optimizer):\n",
        "    for param_group in optimizer.param_groups:\n",
        "        return param_group['lr']"
      ]
    },
    {
      "cell_type": "code",
      "execution_count": null,
      "metadata": {
        "id": "IyYSm4CqL1lG"
      },
      "outputs": [],
      "source": [
        "# Set random seed\n",
        "set_seed(RANDOM_SEED)"
      ]
    },
    {
      "cell_type": "code",
      "execution_count": null,
      "metadata": {
        "id": "QrZ3_acYNIOO"
      },
      "outputs": [],
      "source": [
        "from transformers import BertTokenizer\n",
        "\n",
        "tokenizer = BertTokenizer.from_pretrained(bert_path)"
      ]
    },
    {
      "cell_type": "code",
      "execution_count": null,
      "metadata": {
        "id": "sDpt4lazPpCt"
      },
      "outputs": [],
      "source": [
        "from tabulate import tabulate"
      ]
    },
    {
      "cell_type": "code",
      "execution_count": null,
      "metadata": {
        "id": "cBkljNrYWzdV"
      },
      "outputs": [],
      "source": [
        "max_length = df['text'].apply(lambda x: len(tokenizer.encode(x))).max()\n",
        "max_indices = df[df['text'].apply(lambda x: len(tokenizer.encode(x))) == max_length].index.tolist()"
      ]
    },
    {
      "cell_type": "code",
      "execution_count": null,
      "metadata": {
        "id": "QqMUhZugYuKe",
        "colab": {
          "base_uri": "https://localhost:8080/"
        },
        "outputId": "a2fd39b7-7bf6-4868-e6a7-89912a4d673d"
      },
      "outputs": [
        {
          "output_type": "execute_result",
          "data": {
            "text/plain": [
              "110"
            ]
          },
          "metadata": {},
          "execution_count": 17
        }
      ],
      "source": [
        "max_length"
      ]
    },
    {
      "cell_type": "code",
      "execution_count": null,
      "metadata": {
        "id": "PXflbXQ_J7dK"
      },
      "outputs": [],
      "source": [
        "max_indices = max_indices[0]"
      ]
    },
    {
      "cell_type": "code",
      "execution_count": null,
      "metadata": {
        "id": "UPwHS_OeIHEq",
        "colab": {
          "base_uri": "https://localhost:8080/"
        },
        "outputId": "6bed4bff-1b44-4209-c2de-185b6fee80e1"
      },
      "outputs": [
        {
          "output_type": "execute_result",
          "data": {
            "text/plain": [
              "110"
            ]
          },
          "metadata": {},
          "execution_count": 19
        }
      ],
      "source": [
        "len(tokenizer.encode(df['text'][max_indices]))"
      ]
    },
    {
      "cell_type": "code",
      "execution_count": null,
      "metadata": {
        "id": "9nbKeV5VLU1w",
        "colab": {
          "base_uri": "https://localhost:8080/"
        },
        "outputId": "e4d32ccc-dd5e-434d-c1c1-8f7508cf0890"
      },
      "outputs": [
        {
          "output_type": "execute_result",
          "data": {
            "text/plain": [
              "'waktu itu kendalanya setiap foto selalu maaf itu bukan struk bbk padahal jelas itu struk dari pertamina itu sudah agak benar eh sekarang tiap upload pilih dari foto ada batas scan nya dann parahnya adalah ketika baru foto kali itu bilang maaf batas scan anda habis maksudnya bagaimana coba terus juga ada keluar memory ram hp anda tidak cukup lah hape gue biasa biasa saja tuh kak kenapa kenapa dipakai fb twitter ig dan wa biasa saja kenapa repot benar pakai pertamina kalau memang nge php mengapai dibuat beginian kan mengapai meminta struk ke mbak mbaknya di pom'"
            ],
            "application/vnd.google.colaboratory.intrinsic+json": {
              "type": "string"
            }
          },
          "metadata": {},
          "execution_count": 20
        }
      ],
      "source": [
        "df['text'][max_indices]"
      ]
    },
    {
      "cell_type": "code",
      "execution_count": null,
      "metadata": {
        "id": "SraBXn1DjIk8"
      },
      "outputs": [],
      "source": [
        "def tokenize_data(input_text, tokenizer):\n",
        "  return tokenizer.encode_plus(input_text, add_special_tokens = True, max_length = max_seq,\n",
        "                        pad_to_max_length = True,\n",
        "                        return_attention_mask = True,\n",
        "                        return_tensors = 'pt'\n",
        "                   )"
      ]
    },
    {
      "cell_type": "code",
      "execution_count": null,
      "metadata": {
        "id": "TxdAyeP_Z3A-",
        "colab": {
          "base_uri": "https://localhost:8080/"
        },
        "outputId": "98bf6812-0f99-49e7-b9ad-e145dd421c19"
      },
      "outputs": [
        {
          "output_type": "execute_result",
          "data": {
            "text/plain": [
              "pandas.core.series.Series"
            ]
          },
          "metadata": {},
          "execution_count": 22
        }
      ],
      "source": [
        "type(text)"
      ]
    },
    {
      "cell_type": "code",
      "execution_count": null,
      "metadata": {
        "id": "ICQjsB0fPlA0",
        "colab": {
          "base_uri": "https://localhost:8080/"
        },
        "outputId": "1427068a-8363-4bdf-daa0-5e54bbb5b7d4"
      },
      "outputs": [
        {
          "output_type": "stream",
          "name": "stderr",
          "text": [
            "  0%|          | 0/10410 [00:00<?, ?it/s]Truncation was not explicitly activated but `max_length` is provided a specific value, please use `truncation=True` to explicitly truncate examples to max length. Defaulting to 'longest_first' truncation strategy. If you encode pairs of sequences (GLUE-style) with the tokenizer you can select this strategy more precisely by providing a specific strategy to `truncation`.\n",
            "/usr/local/lib/python3.10/dist-packages/transformers/tokenization_utils_base.py:2377: FutureWarning: The `pad_to_max_length` argument is deprecated and will be removed in a future version, use `padding=True` or `padding='longest'` to pad to the longest sequence in the batch, or use `padding='max_length'` to pad to a max length. In this case, you can give a specific length with `max_length` (e.g. `max_length=45`) or leave max_length to None to pad to the maximal input size of the model (e.g. 512 for Bert).\n",
            "  warnings.warn(\n",
            "100%|██████████| 10410/10410 [00:20<00:00, 512.72it/s]\n"
          ]
        }
      ],
      "source": [
        "input_ids = []\n",
        "attention_masks = []\n",
        "\n",
        "for sample in tqdm(text.tolist()):\n",
        "  encoding_dict = tokenize_data(sample, tokenizer)\n",
        "  input_ids.append(encoding_dict['input_ids'])\n",
        "  attention_masks.append(encoding_dict['attention_mask'])"
      ]
    },
    {
      "cell_type": "code",
      "execution_count": null,
      "metadata": {
        "id": "BJnt65gnPMLM",
        "colab": {
          "base_uri": "https://localhost:8080/"
        },
        "outputId": "adf691c1-1e14-4b4a-b562-f1808dc917df"
      },
      "outputs": [
        {
          "output_type": "execute_result",
          "data": {
            "text/plain": [
              "0        1\n",
              "1        1\n",
              "2        1\n",
              "3        0\n",
              "4        0\n",
              "        ..\n",
              "10405    0\n",
              "10406    0\n",
              "10407    0\n",
              "10408    0\n",
              "10409    0\n",
              "Name: label, Length: 10410, dtype: int64"
            ]
          },
          "metadata": {},
          "execution_count": 24
        }
      ],
      "source": [
        "labels"
      ]
    },
    {
      "cell_type": "code",
      "execution_count": null,
      "metadata": {
        "id": "4PZvmcvGMsmG"
      },
      "outputs": [],
      "source": [
        "input_ids = torch.cat(input_ids, dim = 0)\n",
        "attention_masks = torch.cat(attention_masks, dim = 0)"
      ]
    },
    {
      "cell_type": "code",
      "execution_count": null,
      "metadata": {
        "id": "Z5ck_0DYwnGl",
        "colab": {
          "base_uri": "https://localhost:8080/"
        },
        "outputId": "b99fc77b-b1e3-4645-898a-11961f78c224"
      },
      "outputs": [
        {
          "output_type": "execute_result",
          "data": {
            "text/plain": [
              "0        1\n",
              "1        1\n",
              "2        1\n",
              "3        0\n",
              "4        0\n",
              "        ..\n",
              "10405    0\n",
              "10406    0\n",
              "10407    0\n",
              "10408    0\n",
              "10409    0\n",
              "Name: label, Length: 10410, dtype: int64"
            ]
          },
          "metadata": {},
          "execution_count": 26
        }
      ],
      "source": [
        "labels"
      ]
    },
    {
      "cell_type": "markdown",
      "metadata": {
        "id": "ie3_tbfaf1xM"
      },
      "source": [
        "### Observe some random tokenized data"
      ]
    },
    {
      "cell_type": "code",
      "execution_count": null,
      "metadata": {
        "id": "5pS8BVyydlld",
        "colab": {
          "base_uri": "https://localhost:8080/"
        },
        "outputId": "94f39449-3f7f-42b0-d59b-fb0e207cc093"
      },
      "outputs": [
        {
          "output_type": "stream",
          "name": "stdout",
          "text": [
            "╒══════════╤═════════════╤══════════════════╕\n",
            "│ Tokens   │   Token IDs │   Attention Mask │\n",
            "╞══════════╪═════════════╪══════════════════╡\n",
            "│ [CLS]    │           2 │                1 │\n",
            "├──────────┼─────────────┼──────────────────┤\n",
            "│ rakyat   │        1829 │                1 │\n",
            "├──────────┼─────────────┼──────────────────┤\n",
            "│ sudah    │         259 │                1 │\n",
            "├──────────┼─────────────┼──────────────────┤\n",
            "│ susah    │        3684 │                1 │\n",
            "├──────────┼─────────────┼──────────────────┤\n",
            "│ tambah   │        3837 │                1 │\n",
            "├──────────┼─────────────┼──────────────────┤\n",
            "│ di       │          26 │                1 │\n",
            "├──────────┼─────────────┼──────────────────┤\n",
            "│ bikin    │        2999 │                1 │\n",
            "├──────────┼─────────────┼──────────────────┤\n",
            "│ susah    │        3684 │                1 │\n",
            "├──────────┼─────────────┼──────────────────┤\n",
            "│ [SEP]    │           3 │                1 │\n",
            "├──────────┼─────────────┼──────────────────┤\n",
            "│ [PAD]    │           0 │                0 │\n",
            "├──────────┼─────────────┼──────────────────┤\n",
            "│ [PAD]    │           0 │                0 │\n",
            "├──────────┼─────────────┼──────────────────┤\n",
            "│ [PAD]    │           0 │                0 │\n",
            "├──────────┼─────────────┼──────────────────┤\n",
            "│ [PAD]    │           0 │                0 │\n",
            "├──────────┼─────────────┼──────────────────┤\n",
            "│ [PAD]    │           0 │                0 │\n",
            "├──────────┼─────────────┼──────────────────┤\n",
            "│ [PAD]    │           0 │                0 │\n",
            "├──────────┼─────────────┼──────────────────┤\n",
            "│ [PAD]    │           0 │                0 │\n",
            "├──────────┼─────────────┼──────────────────┤\n",
            "│ [PAD]    │           0 │                0 │\n",
            "├──────────┼─────────────┼──────────────────┤\n",
            "│ [PAD]    │           0 │                0 │\n",
            "├──────────┼─────────────┼──────────────────┤\n",
            "│ [PAD]    │           0 │                0 │\n",
            "├──────────┼─────────────┼──────────────────┤\n",
            "│ [PAD]    │           0 │                0 │\n",
            "├──────────┼─────────────┼──────────────────┤\n",
            "│ [PAD]    │           0 │                0 │\n",
            "├──────────┼─────────────┼──────────────────┤\n",
            "│ [PAD]    │           0 │                0 │\n",
            "├──────────┼─────────────┼──────────────────┤\n",
            "│ [PAD]    │           0 │                0 │\n",
            "├──────────┼─────────────┼──────────────────┤\n",
            "│ [PAD]    │           0 │                0 │\n",
            "├──────────┼─────────────┼──────────────────┤\n",
            "│ [PAD]    │           0 │                0 │\n",
            "├──────────┼─────────────┼──────────────────┤\n",
            "│ [PAD]    │           0 │                0 │\n",
            "├──────────┼─────────────┼──────────────────┤\n",
            "│ [PAD]    │           0 │                0 │\n",
            "├──────────┼─────────────┼──────────────────┤\n",
            "│ [PAD]    │           0 │                0 │\n",
            "├──────────┼─────────────┼──────────────────┤\n",
            "│ [PAD]    │           0 │                0 │\n",
            "├──────────┼─────────────┼──────────────────┤\n",
            "│ [PAD]    │           0 │                0 │\n",
            "├──────────┼─────────────┼──────────────────┤\n",
            "│ [PAD]    │           0 │                0 │\n",
            "├──────────┼─────────────┼──────────────────┤\n",
            "│ [PAD]    │           0 │                0 │\n",
            "├──────────┼─────────────┼──────────────────┤\n",
            "│ [PAD]    │           0 │                0 │\n",
            "├──────────┼─────────────┼──────────────────┤\n",
            "│ [PAD]    │           0 │                0 │\n",
            "├──────────┼─────────────┼──────────────────┤\n",
            "│ [PAD]    │           0 │                0 │\n",
            "├──────────┼─────────────┼──────────────────┤\n",
            "│ [PAD]    │           0 │                0 │\n",
            "├──────────┼─────────────┼──────────────────┤\n",
            "│ [PAD]    │           0 │                0 │\n",
            "├──────────┼─────────────┼──────────────────┤\n",
            "│ [PAD]    │           0 │                0 │\n",
            "├──────────┼─────────────┼──────────────────┤\n",
            "│ [PAD]    │           0 │                0 │\n",
            "├──────────┼─────────────┼──────────────────┤\n",
            "│ [PAD]    │           0 │                0 │\n",
            "├──────────┼─────────────┼──────────────────┤\n",
            "│ [PAD]    │           0 │                0 │\n",
            "├──────────┼─────────────┼──────────────────┤\n",
            "│ [PAD]    │           0 │                0 │\n",
            "├──────────┼─────────────┼──────────────────┤\n",
            "│ [PAD]    │           0 │                0 │\n",
            "├──────────┼─────────────┼──────────────────┤\n",
            "│ [PAD]    │           0 │                0 │\n",
            "├──────────┼─────────────┼──────────────────┤\n",
            "│ [PAD]    │           0 │                0 │\n",
            "├──────────┼─────────────┼──────────────────┤\n",
            "│ [PAD]    │           0 │                0 │\n",
            "├──────────┼─────────────┼──────────────────┤\n",
            "│ [PAD]    │           0 │                0 │\n",
            "├──────────┼─────────────┼──────────────────┤\n",
            "│ [PAD]    │           0 │                0 │\n",
            "├──────────┼─────────────┼──────────────────┤\n",
            "│ [PAD]    │           0 │                0 │\n",
            "├──────────┼─────────────┼──────────────────┤\n",
            "│ [PAD]    │           0 │                0 │\n",
            "├──────────┼─────────────┼──────────────────┤\n",
            "│ [PAD]    │           0 │                0 │\n",
            "├──────────┼─────────────┼──────────────────┤\n",
            "│ [PAD]    │           0 │                0 │\n",
            "├──────────┼─────────────┼──────────────────┤\n",
            "│ [PAD]    │           0 │                0 │\n",
            "├──────────┼─────────────┼──────────────────┤\n",
            "│ [PAD]    │           0 │                0 │\n",
            "├──────────┼─────────────┼──────────────────┤\n",
            "│ [PAD]    │           0 │                0 │\n",
            "├──────────┼─────────────┼──────────────────┤\n",
            "│ [PAD]    │           0 │                0 │\n",
            "├──────────┼─────────────┼──────────────────┤\n",
            "│ [PAD]    │           0 │                0 │\n",
            "├──────────┼─────────────┼──────────────────┤\n",
            "│ [PAD]    │           0 │                0 │\n",
            "├──────────┼─────────────┼──────────────────┤\n",
            "│ [PAD]    │           0 │                0 │\n",
            "├──────────┼─────────────┼──────────────────┤\n",
            "│ [PAD]    │           0 │                0 │\n",
            "├──────────┼─────────────┼──────────────────┤\n",
            "│ [PAD]    │           0 │                0 │\n",
            "├──────────┼─────────────┼──────────────────┤\n",
            "│ [PAD]    │           0 │                0 │\n",
            "├──────────┼─────────────┼──────────────────┤\n",
            "│ [PAD]    │           0 │                0 │\n",
            "├──────────┼─────────────┼──────────────────┤\n",
            "│ [PAD]    │           0 │                0 │\n",
            "├──────────┼─────────────┼──────────────────┤\n",
            "│ [PAD]    │           0 │                0 │\n",
            "├──────────┼─────────────┼──────────────────┤\n",
            "│ [PAD]    │           0 │                0 │\n",
            "├──────────┼─────────────┼──────────────────┤\n",
            "│ [PAD]    │           0 │                0 │\n",
            "├──────────┼─────────────┼──────────────────┤\n",
            "│ [PAD]    │           0 │                0 │\n",
            "├──────────┼─────────────┼──────────────────┤\n",
            "│ [PAD]    │           0 │                0 │\n",
            "├──────────┼─────────────┼──────────────────┤\n",
            "│ [PAD]    │           0 │                0 │\n",
            "├──────────┼─────────────┼──────────────────┤\n",
            "│ [PAD]    │           0 │                0 │\n",
            "├──────────┼─────────────┼──────────────────┤\n",
            "│ [PAD]    │           0 │                0 │\n",
            "├──────────┼─────────────┼──────────────────┤\n",
            "│ [PAD]    │           0 │                0 │\n",
            "├──────────┼─────────────┼──────────────────┤\n",
            "│ [PAD]    │           0 │                0 │\n",
            "├──────────┼─────────────┼──────────────────┤\n",
            "│ [PAD]    │           0 │                0 │\n",
            "├──────────┼─────────────┼──────────────────┤\n",
            "│ [PAD]    │           0 │                0 │\n",
            "├──────────┼─────────────┼──────────────────┤\n",
            "│ [PAD]    │           0 │                0 │\n",
            "├──────────┼─────────────┼──────────────────┤\n",
            "│ [PAD]    │           0 │                0 │\n",
            "├──────────┼─────────────┼──────────────────┤\n",
            "│ [PAD]    │           0 │                0 │\n",
            "├──────────┼─────────────┼──────────────────┤\n",
            "│ [PAD]    │           0 │                0 │\n",
            "├──────────┼─────────────┼──────────────────┤\n",
            "│ [PAD]    │           0 │                0 │\n",
            "├──────────┼─────────────┼──────────────────┤\n",
            "│ [PAD]    │           0 │                0 │\n",
            "├──────────┼─────────────┼──────────────────┤\n",
            "│ [PAD]    │           0 │                0 │\n",
            "├──────────┼─────────────┼──────────────────┤\n",
            "│ [PAD]    │           0 │                0 │\n",
            "├──────────┼─────────────┼──────────────────┤\n",
            "│ [PAD]    │           0 │                0 │\n",
            "├──────────┼─────────────┼──────────────────┤\n",
            "│ [PAD]    │           0 │                0 │\n",
            "├──────────┼─────────────┼──────────────────┤\n",
            "│ [PAD]    │           0 │                0 │\n",
            "├──────────┼─────────────┼──────────────────┤\n",
            "│ [PAD]    │           0 │                0 │\n",
            "├──────────┼─────────────┼──────────────────┤\n",
            "│ [PAD]    │           0 │                0 │\n",
            "├──────────┼─────────────┼──────────────────┤\n",
            "│ [PAD]    │           0 │                0 │\n",
            "├──────────┼─────────────┼──────────────────┤\n",
            "│ [PAD]    │           0 │                0 │\n",
            "├──────────┼─────────────┼──────────────────┤\n",
            "│ [PAD]    │           0 │                0 │\n",
            "├──────────┼─────────────┼──────────────────┤\n",
            "│ [PAD]    │           0 │                0 │\n",
            "├──────────┼─────────────┼──────────────────┤\n",
            "│ [PAD]    │           0 │                0 │\n",
            "├──────────┼─────────────┼──────────────────┤\n",
            "│ [PAD]    │           0 │                0 │\n",
            "├──────────┼─────────────┼──────────────────┤\n",
            "│ [PAD]    │           0 │                0 │\n",
            "├──────────┼─────────────┼──────────────────┤\n",
            "│ [PAD]    │           0 │                0 │\n",
            "├──────────┼─────────────┼──────────────────┤\n",
            "│ [PAD]    │           0 │                0 │\n",
            "├──────────┼─────────────┼──────────────────┤\n",
            "│ [PAD]    │           0 │                0 │\n",
            "├──────────┼─────────────┼──────────────────┤\n",
            "│ [PAD]    │           0 │                0 │\n",
            "├──────────┼─────────────┼──────────────────┤\n",
            "│ [PAD]    │           0 │                0 │\n",
            "├──────────┼─────────────┼──────────────────┤\n",
            "│ [PAD]    │           0 │                0 │\n",
            "├──────────┼─────────────┼──────────────────┤\n",
            "│ [PAD]    │           0 │                0 │\n",
            "├──────────┼─────────────┼──────────────────┤\n",
            "│ [PAD]    │           0 │                0 │\n",
            "├──────────┼─────────────┼──────────────────┤\n",
            "│ [PAD]    │           0 │                0 │\n",
            "├──────────┼─────────────┼──────────────────┤\n",
            "│ [PAD]    │           0 │                0 │\n",
            "├──────────┼─────────────┼──────────────────┤\n",
            "│ [PAD]    │           0 │                0 │\n",
            "├──────────┼─────────────┼──────────────────┤\n",
            "│ [PAD]    │           0 │                0 │\n",
            "├──────────┼─────────────┼──────────────────┤\n",
            "│ [PAD]    │           0 │                0 │\n",
            "├──────────┼─────────────┼──────────────────┤\n",
            "│ [PAD]    │           0 │                0 │\n",
            "├──────────┼─────────────┼──────────────────┤\n",
            "│ [PAD]    │           0 │                0 │\n",
            "├──────────┼─────────────┼──────────────────┤\n",
            "│ [PAD]    │           0 │                0 │\n",
            "├──────────┼─────────────┼──────────────────┤\n",
            "│ [PAD]    │           0 │                0 │\n",
            "├──────────┼─────────────┼──────────────────┤\n",
            "│ [PAD]    │           0 │                0 │\n",
            "├──────────┼─────────────┼──────────────────┤\n",
            "│ [PAD]    │           0 │                0 │\n",
            "├──────────┼─────────────┼──────────────────┤\n",
            "│ [PAD]    │           0 │                0 │\n",
            "├──────────┼─────────────┼──────────────────┤\n",
            "│ [PAD]    │           0 │                0 │\n",
            "├──────────┼─────────────┼──────────────────┤\n",
            "│ [PAD]    │           0 │                0 │\n",
            "├──────────┼─────────────┼──────────────────┤\n",
            "│ [PAD]    │           0 │                0 │\n",
            "├──────────┼─────────────┼──────────────────┤\n",
            "│ [PAD]    │           0 │                0 │\n",
            "├──────────┼─────────────┼──────────────────┤\n",
            "│ [PAD]    │           0 │                0 │\n",
            "├──────────┼─────────────┼──────────────────┤\n",
            "│ [PAD]    │           0 │                0 │\n",
            "├──────────┼─────────────┼──────────────────┤\n",
            "│ [PAD]    │           0 │                0 │\n",
            "├──────────┼─────────────┼──────────────────┤\n",
            "│ [PAD]    │           0 │                0 │\n",
            "├──────────┼─────────────┼──────────────────┤\n",
            "│ [PAD]    │           0 │                0 │\n",
            "├──────────┼─────────────┼──────────────────┤\n",
            "│ [PAD]    │           0 │                0 │\n",
            "├──────────┼─────────────┼──────────────────┤\n",
            "│ [PAD]    │           0 │                0 │\n",
            "├──────────┼─────────────┼──────────────────┤\n",
            "│ [PAD]    │           0 │                0 │\n",
            "╘══════════╧═════════════╧══════════════════╛\n",
            "Tokens       :  ['kenapa', 'memasukan', 'nota', 'untuk', 'menjadi', 'kupon', 'sangat', 'sulit', 'meski', 'dengan', 'cara', 'manual', 'sulit', 'untuk', 'ter', '##verifikasi']\n",
            "Token IDs:  tensor([   2, 1829,  259, 3684, 3837,   26, 2999, 3684,    3,    0,    0,    0,\n",
            "           0,    0,    0,    0,    0,    0,    0,    0,    0,    0,    0,    0,\n",
            "           0,    0,    0,    0,    0,    0,    0,    0,    0,    0,    0,    0,\n",
            "           0,    0,    0,    0,    0,    0,    0,    0,    0,    0,    0,    0,\n",
            "           0,    0,    0,    0,    0,    0,    0,    0,    0,    0,    0,    0,\n",
            "           0,    0,    0,    0,    0,    0,    0,    0,    0,    0,    0,    0,\n",
            "           0,    0,    0,    0,    0,    0,    0,    0,    0,    0,    0,    0,\n",
            "           0,    0,    0,    0,    0,    0,    0,    0,    0,    0,    0,    0,\n",
            "           0,    0,    0,    0,    0,    0,    0,    0,    0,    0,    0,    0,\n",
            "           0,    0,    0,    0,    0,    0,    0,    0,    0,    0,    0,    0,\n",
            "           0,    0,    0,    0,    0,    0,    0,    0])\n",
            "Attention Mask:  tensor([1, 1, 1, 1, 1, 1, 1, 1, 1, 0, 0, 0, 0, 0, 0, 0, 0, 0, 0, 0, 0, 0, 0, 0,\n",
            "        0, 0, 0, 0, 0, 0, 0, 0, 0, 0, 0, 0, 0, 0, 0, 0, 0, 0, 0, 0, 0, 0, 0, 0,\n",
            "        0, 0, 0, 0, 0, 0, 0, 0, 0, 0, 0, 0, 0, 0, 0, 0, 0, 0, 0, 0, 0, 0, 0, 0,\n",
            "        0, 0, 0, 0, 0, 0, 0, 0, 0, 0, 0, 0, 0, 0, 0, 0, 0, 0, 0, 0, 0, 0, 0, 0,\n",
            "        0, 0, 0, 0, 0, 0, 0, 0, 0, 0, 0, 0, 0, 0, 0, 0, 0, 0, 0, 0, 0, 0, 0, 0,\n",
            "        0, 0, 0, 0, 0, 0, 0, 0])\n"
          ]
        }
      ],
      "source": [
        "def print_rand_sentence_encoding():\n",
        "  '''Displays tokens, token IDs and attention mask of a random text sample'''\n",
        "  index = random.randint(0, len(text) - 1)\n",
        "  textx = \"kenapa memasukan nota untuk menjadi kupon sangat sulit meski dengan cara manual sulit untuk terverifikasi\"\n",
        "  tokens = tokenizer.tokenize(tokenizer.decode(input_ids[index]))\n",
        "  tokenny = tokenizer.tokenize(textx)\n",
        "  sample_token_ids = [i.numpy() for i in input_ids[index]]\n",
        "  attention = [i.numpy() for i in attention_masks[index]]\n",
        "\n",
        "  table = np.array([tokens, sample_token_ids, attention]).T\n",
        "  print(tabulate(table,\n",
        "                 headers = ['Tokens', 'Token IDs', 'Attention Mask'],\n",
        "                 tablefmt = 'fancy_grid'))\n",
        "  print(\"Tokens       : \", tokenny)\n",
        "  print(\"Token IDs: \", input_ids[index])\n",
        "  print(\"Attention Mask: \", attention_masks[index])\n",
        "\n",
        "print_rand_sentence_encoding()"
      ]
    },
    {
      "cell_type": "markdown",
      "metadata": {
        "id": "x0g1TlsngOKE"
      },
      "source": [
        "# Split data"
      ]
    },
    {
      "cell_type": "markdown",
      "metadata": {
        "id": "o7uGwaoo7zmF"
      },
      "source": [
        "## Split with train_test_split"
      ]
    },
    {
      "cell_type": "code",
      "execution_count": null,
      "metadata": {
        "id": "r4Ino8RKf-cA"
      },
      "outputs": [],
      "source": [
        "from sklearn.model_selection import train_test_split\n",
        "\n",
        "\n",
        "# Split data into 90% train and 10% test\n",
        "train_input_1, test_input, train_labels_1, test_labels = train_test_split(input_ids,\n",
        "                                                                      labels,\n",
        "                                                                      random_state=RANDOM_SEED,\n",
        "                                                                      test_size=0.1,\n",
        "                                                                      stratify=labels)\n",
        "train_mask, test_mask, _, _ = train_test_split(attention_masks,\n",
        "                                               labels,\n",
        "                                               random_state=RANDOM_SEED,\n",
        "                                               test_size=0.1,\n",
        "                                               stratify=labels)\n",
        "\n",
        "# Split remaining 90% train data into 70% train and 20% validation\n",
        "train_input, validation_input, train_labels, validation_labels = train_test_split(train_input_1,\n",
        "                                                                                  train_labels_1,\n",
        "                                                                                  random_state=RANDOM_SEED,\n",
        "                                                                                  test_size=0.222,\n",
        "                                                                                  stratify=train_labels_1)\n",
        "train_mask, validation_mask, _, _ = train_test_split(train_mask,\n",
        "                                                     train_labels_1,\n",
        "                                                     random_state=RANDOM_SEED,\n",
        "                                                     test_size=0.222,\n",
        "                                                     stratify=train_labels_1)\n"
      ]
    },
    {
      "cell_type": "code",
      "execution_count": null,
      "metadata": {
        "id": "258pL0W2CWhU",
        "colab": {
          "base_uri": "https://localhost:8080/"
        },
        "outputId": "e4c66567-de7f-47a6-a2ae-4495f2a9381c"
      },
      "outputs": [
        {
          "output_type": "execute_result",
          "data": {
            "text/plain": [
              "8373    0\n",
              "4845    1\n",
              "2888    0\n",
              "509     1\n",
              "9000    1\n",
              "       ..\n",
              "5874    1\n",
              "7875    0\n",
              "4684    1\n",
              "7352    0\n",
              "6804    0\n",
              "Name: label, Length: 7289, dtype: int64"
            ]
          },
          "metadata": {},
          "execution_count": 29
        }
      ],
      "source": [
        "original_train_labels = train_labels\n",
        "original_train_labels"
      ]
    },
    {
      "cell_type": "code",
      "execution_count": null,
      "metadata": {
        "id": "fBBu4azySpYF",
        "colab": {
          "base_uri": "https://localhost:8080/"
        },
        "outputId": "4110d350-4390-4fb8-97d1-9488dccfd2dc"
      },
      "outputs": [
        {
          "output_type": "execute_result",
          "data": {
            "text/plain": [
              "6508     0\n",
              "3239     0\n",
              "1542     1\n",
              "8122     0\n",
              "6454     0\n",
              "        ..\n",
              "6857     0\n",
              "8466     0\n",
              "10330    0\n",
              "7587     0\n",
              "2155     1\n",
              "Name: label, Length: 1041, dtype: int64"
            ]
          },
          "metadata": {},
          "execution_count": 30
        }
      ],
      "source": [
        "original_test_labels = test_labels\n",
        "original_test_labels"
      ]
    },
    {
      "cell_type": "code",
      "execution_count": null,
      "metadata": {
        "id": "GniBP52sKwRM",
        "colab": {
          "base_uri": "https://localhost:8080/"
        },
        "outputId": "f8415ced-0a98-4ca1-9898-7cd59ea25ec7"
      },
      "outputs": [
        {
          "output_type": "execute_result",
          "data": {
            "text/plain": [
              "9019    1\n",
              "3931    1\n",
              "3399    0\n",
              "9154    1\n",
              "2934    0\n",
              "       ..\n",
              "8483    0\n",
              "1171    1\n",
              "9940    0\n",
              "5435    0\n",
              "2613    0\n",
              "Name: label, Length: 2080, dtype: int64"
            ]
          },
          "metadata": {},
          "execution_count": 31
        }
      ],
      "source": [
        "original_val_labels = validation_labels\n",
        "original_val_labels"
      ]
    },
    {
      "cell_type": "code",
      "execution_count": null,
      "metadata": {
        "id": "kWHck0bgTD7V"
      },
      "outputs": [],
      "source": [
        "train_labels = train_labels.values.tolist()\n",
        "validation_labels = validation_labels.values.tolist()\n",
        "test_labels = test_labels.values.tolist()"
      ]
    },
    {
      "cell_type": "code",
      "execution_count": null,
      "metadata": {
        "id": "nV9rg96rS7uR"
      },
      "outputs": [],
      "source": [
        "train_labels = torch.tensor(train_labels)\n",
        "validation_labels = torch.tensor(validation_labels)\n",
        "test_labels = torch.tensor(test_labels)"
      ]
    },
    {
      "cell_type": "code",
      "execution_count": null,
      "metadata": {
        "id": "30ccDwxIhBQs",
        "colab": {
          "base_uri": "https://localhost:8080/"
        },
        "outputId": "253b1ec8-b038-4b67-fd05-8acd1301d715"
      },
      "outputs": [
        {
          "output_type": "stream",
          "name": "stdout",
          "text": [
            "== Train ==\n",
            "Input:  torch.Size([7289, 128])\n",
            "Label:  torch.Size([7289])\n",
            "Mask:  (7289, 128)\n",
            "\n",
            "== Validation ==\n",
            "Input:  torch.Size([2080, 128])\n",
            "Label:  torch.Size([2080])\n",
            "Mask:  (2080, 128)\n",
            "\n",
            "== Test ==\n",
            "Input:  torch.Size([1041, 128])\n",
            "Label:  torch.Size([1041])\n",
            "Mask:  (1041, 128)\n"
          ]
        }
      ],
      "source": [
        "import numpy as np\n",
        "print(\"== Train ==\")\n",
        "print(\"Input: \", train_input.shape)\n",
        "print(\"Label: \", train_labels.shape)\n",
        "print(\"Mask: \", np.array(train_mask).shape)\n",
        "\n",
        "print(\"\\n== Validation ==\")\n",
        "print(\"Input: \", validation_input.shape)\n",
        "print(\"Label: \", validation_labels.shape)\n",
        "print(\"Mask: \", np.array(validation_mask).shape)\n",
        "\n",
        "print(\"\\n== Test ==\")\n",
        "print(\"Input: \", test_input.shape)\n",
        "print(\"Label: \", test_labels.shape)\n",
        "print(\"Mask: \", np.array(test_mask).shape)"
      ]
    },
    {
      "cell_type": "code",
      "execution_count": null,
      "metadata": {
        "id": "vMMUY1OkhCGs",
        "colab": {
          "base_uri": "https://localhost:8080/"
        },
        "outputId": "fa4c42df-9b9b-4414-c3ae-4f9bb6eea84b"
      },
      "outputs": [
        {
          "output_type": "stream",
          "name": "stdout",
          "text": [
            "train_labels tensor([0, 1])\n",
            "tensor([3645, 3644])\n",
            "validation_labels tensor([0, 1])\n",
            "tensor([1040, 1040])\n",
            "train_labels tensor([0, 1])\n",
            "tensor([520, 521])\n"
          ]
        }
      ],
      "source": [
        "unique_train_labels, counts_train_labels = torch.unique(train_labels, return_counts=True)\n",
        "unique_validation_labels, counts_validation_labels = torch.unique(validation_labels, return_counts=True)\n",
        "unique_test_labels, counts_test_labels = torch.unique(test_labels, return_counts=True)\n",
        "\n",
        "print(\"train_labels\", unique_train_labels)  # tensor([0, 1])\n",
        "print(counts_train_labels)\n",
        "print(\"validation_labels\", unique_validation_labels)  # tensor([0, 1])\n",
        "print(counts_validation_labels)\n",
        "print(\"train_labels\", unique_test_labels)  # tensor([0, 1])\n",
        "print(counts_test_labels)"
      ]
    },
    {
      "cell_type": "markdown",
      "metadata": {
        "id": "DhLljZXljeeE"
      },
      "source": [
        "## Ubah ke dataloader"
      ]
    },
    {
      "cell_type": "code",
      "execution_count": null,
      "metadata": {
        "id": "JnosRCKrjQxF"
      },
      "outputs": [],
      "source": [
        "from torch.utils.data import TensorDataset, DataLoader, RandomSampler, SequentialSampler\n",
        "\n",
        "train_data = TensorDataset(train_input, train_mask, train_labels)\n",
        "train_sampler = RandomSampler(train_data)\n",
        "train_dataloader = DataLoader(train_data, sampler=train_sampler, batch_size=batch_size)\n",
        "\n",
        "validation_data = TensorDataset(validation_input, validation_mask, validation_labels)\n",
        "validation_sampler = SequentialSampler(validation_data)\n",
        "validation_dataloader = DataLoader(validation_data, sampler=validation_sampler, batch_size=batch_size)\n",
        "\n",
        "test_data = TensorDataset(test_input, test_mask, test_labels)\n",
        "test_sampler = SequentialSampler(test_data)\n",
        "test_dataloader = DataLoader(test_data, sampler=test_sampler, batch_size=batch_size)"
      ]
    },
    {
      "cell_type": "markdown",
      "metadata": {
        "id": "0dU0RPN4zwJo"
      },
      "source": [
        "# Prepare Model"
      ]
    },
    {
      "cell_type": "markdown",
      "metadata": {
        "id": "XO5zzAHki8sX"
      },
      "source": [
        "## Model Class"
      ]
    },
    {
      "cell_type": "code",
      "execution_count": null,
      "metadata": {
        "id": "lc8jrDzSEGde"
      },
      "outputs": [],
      "source": [
        "import torch.nn as nn\n",
        "from transformers import PreTrainedModel, BertConfig"
      ]
    },
    {
      "cell_type": "code",
      "execution_count": null,
      "metadata": {
        "id": "mqlYsDTU0OLm"
      },
      "outputs": [],
      "source": [
        "class IndoBERTBiLSTM(PreTrainedModel):\n",
        "    config_class = BertConfig\n",
        "    def __init__(self, bert_config, bert_pretrained_path, hidden_dim, num_classes, n_layers, bidirectional, dropout):\n",
        "        super().__init__(bert_config)\n",
        "        self.output_dim = num_classes\n",
        "        self.n_layers = n_layers\n",
        "        self.hidden_dim = hidden_dim\n",
        "        self.bidirectional = bidirectional\n",
        "\n",
        "        self.bert = bert_pretrained_path\n",
        "        self.lstm = nn.LSTM(input_size=self.bert.config.hidden_size,\n",
        "                            hidden_size=hidden_dim,\n",
        "                            num_layers=n_layers,\n",
        "                            bidirectional=bidirectional,\n",
        "                            batch_first=True)\n",
        "        self.dropout = nn.Dropout(dropout)\n",
        "        self.output_layer = nn.Linear(hidden_dim * 2 if bidirectional else hidden_dim, num_classes)\n",
        "\n",
        "    def forward(self, input_ids, attention_mask):\n",
        "\n",
        "        hidden = self.init_hidden(input_ids.shape[0])\n",
        "        # print(\"hidden : \", type(hidden))\n",
        "        output = self.bert(input_ids=input_ids, attention_mask=attention_mask)\n",
        "        sequence_output = output.last_hidden_state\n",
        "\n",
        "        lstm_output, (hidden_last, cn_last) = self.lstm(sequence_output, hidden)\n",
        "\n",
        "        hidden_last_L=hidden_last[-2]\n",
        "        hidden_last_R=hidden_last[-1]\n",
        "        hidden_last_out=torch.cat([hidden_last_L,hidden_last_R],dim=-1) #[16, 1536]\n",
        "\n",
        "        # apply dropout\n",
        "        out = self.dropout(hidden_last_out)\n",
        "\n",
        "        # output layer\n",
        "        logits = self.output_layer(out)\n",
        "\n",
        "        return logits\n",
        "\n",
        "    def init_hidden(self, batch_size):\n",
        "        weight = next(self.parameters()).data\n",
        "\n",
        "        number = 1\n",
        "        if self.bidirectional:\n",
        "            number = 2\n",
        "\n",
        "        if (USE_CUDA):\n",
        "            hidden = (weight.new(self.n_layers*number, batch_size, self.hidden_dim).zero_().float().cuda(),\n",
        "                      weight.new(self.n_layers*number, batch_size, self.hidden_dim).zero_().float().cuda()\n",
        "                     )\n",
        "        else:\n",
        "            hidden = (weight.new(self.n_layers*number, batch_size, self.hidden_dim).zero_().float(),\n",
        "                      weight.new(self.n_layers*number, batch_size, self.hidden_dim).zero_().float()\n",
        "                     )\n",
        "\n",
        "        return hidden"
      ]
    },
    {
      "cell_type": "code",
      "execution_count": null,
      "metadata": {
        "id": "7NcfTlRKq1Jz"
      },
      "outputs": [],
      "source": [
        "from transformers import BertModel, AdamW, BertConfig, AutoModel\n",
        "\n",
        "bert = BertModel.from_pretrained(bert_path)\n",
        "bert_config = BertConfig()"
      ]
    },
    {
      "cell_type": "code",
      "source": [
        "HIDDEN_DIM = 768"
      ],
      "metadata": {
        "id": "sN8y5h5B54xw"
      },
      "execution_count": null,
      "outputs": []
    },
    {
      "cell_type": "markdown",
      "metadata": {
        "id": "6fXQspOklrqV"
      },
      "source": [
        "## new instance"
      ]
    },
    {
      "cell_type": "code",
      "execution_count": null,
      "metadata": {
        "colab": {
          "base_uri": "https://localhost:8080/"
        },
        "id": "A3fnw2LqqSjz",
        "outputId": "6c35be97-8b37-458f-ccf3-cc21fddfa021"
      },
      "outputs": [
        {
          "output_type": "execute_result",
          "data": {
            "text/plain": [
              "IndoBERTBiLSTM(\n",
              "  (bert): BertModel(\n",
              "    (embeddings): BertEmbeddings(\n",
              "      (word_embeddings): Embedding(50000, 768, padding_idx=0)\n",
              "      (position_embeddings): Embedding(512, 768)\n",
              "      (token_type_embeddings): Embedding(2, 768)\n",
              "      (LayerNorm): LayerNorm((768,), eps=1e-12, elementwise_affine=True)\n",
              "      (dropout): Dropout(p=0.1, inplace=False)\n",
              "    )\n",
              "    (encoder): BertEncoder(\n",
              "      (layer): ModuleList(\n",
              "        (0-11): 12 x BertLayer(\n",
              "          (attention): BertAttention(\n",
              "            (self): BertSelfAttention(\n",
              "              (query): Linear(in_features=768, out_features=768, bias=True)\n",
              "              (key): Linear(in_features=768, out_features=768, bias=True)\n",
              "              (value): Linear(in_features=768, out_features=768, bias=True)\n",
              "              (dropout): Dropout(p=0.1, inplace=False)\n",
              "            )\n",
              "            (output): BertSelfOutput(\n",
              "              (dense): Linear(in_features=768, out_features=768, bias=True)\n",
              "              (LayerNorm): LayerNorm((768,), eps=1e-12, elementwise_affine=True)\n",
              "              (dropout): Dropout(p=0.1, inplace=False)\n",
              "            )\n",
              "          )\n",
              "          (intermediate): BertIntermediate(\n",
              "            (dense): Linear(in_features=768, out_features=3072, bias=True)\n",
              "            (intermediate_act_fn): GELUActivation()\n",
              "          )\n",
              "          (output): BertOutput(\n",
              "            (dense): Linear(in_features=3072, out_features=768, bias=True)\n",
              "            (LayerNorm): LayerNorm((768,), eps=1e-12, elementwise_affine=True)\n",
              "            (dropout): Dropout(p=0.1, inplace=False)\n",
              "          )\n",
              "        )\n",
              "      )\n",
              "    )\n",
              "    (pooler): BertPooler(\n",
              "      (dense): Linear(in_features=768, out_features=768, bias=True)\n",
              "      (activation): Tanh()\n",
              "    )\n",
              "  )\n",
              "  (lstm): LSTM(768, 768, batch_first=True, bidirectional=True)\n",
              "  (dropout): Dropout(p=0.2, inplace=False)\n",
              "  (output_layer): Linear(in_features=1536, out_features=2, bias=True)\n",
              ")"
            ]
          },
          "metadata": {},
          "execution_count": 41
        }
      ],
      "source": [
        "model = IndoBERTBiLSTM(\n",
        "              bert_config,\n",
        "              bert,\n",
        "              HIDDEN_DIM,\n",
        "              OUTPUT_DIM,\n",
        "              N_LAYERS,\n",
        "              BIDIRECTIONAL,\n",
        "              DROPOUT)\n",
        "\n",
        "model.cuda()"
      ]
    },
    {
      "cell_type": "markdown",
      "metadata": {
        "id": "entGLSGMjACU"
      },
      "source": [
        "## Loss and Optimizer"
      ]
    },
    {
      "cell_type": "code",
      "execution_count": null,
      "metadata": {
        "id": "evM4IVr1tEc8"
      },
      "outputs": [],
      "source": [
        "# loss function\n",
        "criterion = nn.BCEWithLogitsLoss()"
      ]
    },
    {
      "cell_type": "code",
      "execution_count": null,
      "metadata": {
        "colab": {
          "base_uri": "https://localhost:8080/"
        },
        "id": "2yGJWfnQaA_f",
        "outputId": "c1ac9859-8c55-441f-e867-1d08d7449418"
      },
      "outputs": [
        {
          "output_type": "stream",
          "name": "stdout",
          "text": [
            "Adam (\n",
            "Parameter Group 0\n",
            "    amsgrad: False\n",
            "    betas: (0.9, 0.999)\n",
            "    capturable: False\n",
            "    differentiable: False\n",
            "    eps: 1e-08\n",
            "    foreach: None\n",
            "    fused: None\n",
            "    lr: 2e-05\n",
            "    maximize: False\n",
            "    weight_decay: 0\n",
            ")\n"
          ]
        }
      ],
      "source": [
        "optimizer = torch.optim.Adam(model.parameters(), lr=l_rate)\n",
        "print(optimizer)"
      ]
    },
    {
      "cell_type": "markdown",
      "metadata": {
        "id": "2W_xwjMCEUNh"
      },
      "source": [
        "# Train"
      ]
    },
    {
      "cell_type": "markdown",
      "metadata": {
        "id": "wrPZFJZYrby8"
      },
      "source": [
        "## Checkpoint"
      ]
    },
    {
      "cell_type": "code",
      "execution_count": null,
      "metadata": {
        "id": "qsk9ekkerevL"
      },
      "outputs": [],
      "source": [
        "class SaveBestModel:\n",
        "    \"\"\"\n",
        "    Class to save the best model while training. If the current epoch's\n",
        "    metrics is better than the previous, then save the\n",
        "    model state.\n",
        "    \"\"\"\n",
        "    def __init__(\n",
        "        self, mode='min'\n",
        "    ):\n",
        "        self.mode= mode\n",
        "        if mode == 'max':\n",
        "          self.best_metrics = 0.0\n",
        "        elif mode == 'min':\n",
        "          self.best_metrics = float('inf')\n",
        "\n",
        "    def __call__(\n",
        "        self, metrics,\n",
        "        epoch, model, optimizer, criterion\n",
        "    ):\n",
        "        if self.mode == 'max':\n",
        "          if metrics > self.best_metrics:\n",
        "            print(f\"\\nValidation Accuracy improved from {self.best_metrics} to {metrics}\")\n",
        "            self.best_metrics = metrics\n",
        "            print(f\"Saving best model for epoch: {epoch}\")\n",
        "            torch.save({\n",
        "                'epoch': epoch,\n",
        "                'model_state_dict': model.state_dict()\n",
        "                }, best_model_path)\n",
        "            return True\n",
        "          else :\n",
        "            print(\"\\nCurrent Val_Acc: \",metrics)\n",
        "            print(f\"validation accuracy did not improve from: {self.best_metrics}\")\n",
        "            return False\n",
        "        elif self.mode == 'min':\n",
        "          if metrics < self.best_metrics:\n",
        "            print(f\"\\nValidation loss is improved from {self.best_metrics} to {metrics}\")\n",
        "            self.best_metrics = metrics\n",
        "            print(f\"Saving best model for epoch: {epoch}\\n\")\n",
        "            torch.save({\n",
        "                'epoch': epoch,\n",
        "                'model_state_dict': model.state_dict()\n",
        "                }, best_model_path)\n",
        "            return True\n",
        "          else :\n",
        "            print(\"\\nCurrent Val_Loss: \", metrics)\n",
        "            print(f\"validation loss did not improve from: {self.best_metrics}\")\n",
        "            return False"
      ]
    },
    {
      "cell_type": "code",
      "execution_count": null,
      "metadata": {
        "id": "S2S7uQCbGQs-"
      },
      "outputs": [],
      "source": [
        "def save_model(epochs, model, optimizer, criterion):\n",
        "    \"\"\"\n",
        "    Function to save the trained model to disk.\n",
        "    \"\"\"\n",
        "    print(f\"Saving final model...\")\n",
        "    torch.save({\n",
        "                'epoch': epochs,\n",
        "                'model_state_dict': model.state_dict()\n",
        "                }, model_path)"
      ]
    },
    {
      "cell_type": "markdown",
      "metadata": {
        "id": "Pfvmz6CIxofB"
      },
      "source": [
        "## Early Stopper"
      ]
    },
    {
      "cell_type": "code",
      "execution_count": null,
      "metadata": {
        "id": "hSTMkceGXy7H"
      },
      "outputs": [],
      "source": [
        "class EarlyStopping(object):\n",
        "    def __init__(self, mode='min', min_delta=0, patience=10, percentage=False):\n",
        "        self.mode = mode\n",
        "        self.min_delta = min_delta\n",
        "        self.patience = patience\n",
        "        self.best = None\n",
        "        self.num_bad_epochs = 0\n",
        "        self.is_better = None\n",
        "        self._init_is_better(mode, min_delta, percentage)\n",
        "\n",
        "        if patience == 0:\n",
        "            self.is_better = lambda a, b: True\n",
        "            self.step = lambda a: False\n",
        "\n",
        "    def step(self, metrics):\n",
        "        if self.best is None:\n",
        "            self.best = metrics\n",
        "            return False\n",
        "\n",
        "        if np.isnan(metrics):\n",
        "            return True\n",
        "\n",
        "        if self.is_better(metrics, self.best):\n",
        "            self.num_bad_epochs = 0\n",
        "            self.best = metrics\n",
        "        else:\n",
        "            self.num_bad_epochs += 1\n",
        "\n",
        "        if self.num_bad_epochs >= self.patience:\n",
        "            print('terminating because of early stopping!')\n",
        "            return True\n",
        "\n",
        "        return False\n",
        "\n",
        "    def _init_is_better(self, mode, min_delta, percentage):\n",
        "        if mode not in {'min', 'max'}:\n",
        "            raise ValueError('mode ' + mode + ' is unknown!')\n",
        "        if not percentage:\n",
        "            if mode == 'min':\n",
        "                self.is_better = lambda a, best: a < best - min_delta\n",
        "            if mode == 'max':\n",
        "                self.is_better = lambda a, best: a > best + min_delta\n",
        "        else:\n",
        "            if mode == 'min':\n",
        "                self.is_better = lambda a, best: a < best - (\n",
        "                            best * min_delta / 100)\n",
        "            if mode == 'max':\n",
        "                self.is_better = lambda a, best: a > best + (\n",
        "                            best * min_delta / 100)\n"
      ]
    },
    {
      "cell_type": "markdown",
      "metadata": {
        "id": "5SFjq7XHIebX"
      },
      "source": [
        "## Define function"
      ]
    },
    {
      "cell_type": "code",
      "execution_count": null,
      "metadata": {
        "id": "g92DjbUTCOYd"
      },
      "outputs": [],
      "source": [
        "import torch.nn.functional as F\n",
        "from sklearn.metrics import precision_recall_fscore_support, roc_auc_score"
      ]
    },
    {
      "cell_type": "code",
      "execution_count": null,
      "metadata": {
        "id": "oUNBiwJwuyrr"
      },
      "outputs": [],
      "source": [
        "def train(model, epoch):\n",
        "\n",
        "  print('\\nEpoch : %d'%epoch)\n",
        "\n",
        "  model.train()\n",
        "  torch.set_grad_enabled(True)\n",
        "\n",
        "  t0 = time.time()\n",
        "  num_correct, total_samples, total_train_loss = 0, 0, 0\n",
        "  list_pred, list_label = [], []\n",
        "\n",
        "  train_pbar = tqdm(train_dataloader, leave=True, total=len(train_dataloader))\n",
        "  for i, batch_data in enumerate(train_pbar):\n",
        "\n",
        "      b_input_ids = batch_data[0].to(device)\n",
        "      b_input_mask = batch_data[1].to(device)\n",
        "      b_labels = batch_data[2].to(device)\n",
        "\n",
        "      model.zero_grad()\n",
        "\n",
        "      outputs = model(b_input_ids,\n",
        "                      b_input_mask)\n",
        "\n",
        "      # calculate loss\n",
        "      b_labels = F.one_hot(b_labels, num_classes = OUTPUT_DIM).float()\n",
        "\n",
        "      if b_labels.shape[0] != outputs.shape[0]:\n",
        "        outputs = outputs.unsqueeze(0)\n",
        "\n",
        "      loss = criterion(outputs, b_labels)\n",
        "\n",
        "      # Update model\n",
        "      optimizer.zero_grad()\n",
        "      loss.backward()\n",
        "      optimizer.step()\n",
        "\n",
        "      # Calculate\n",
        "      predictions = torch.argmax(outputs, dim=1)\n",
        "\n",
        "      list_pred.extend(predictions.cpu().numpy().tolist())\n",
        "      list_label += torch.argmax(b_labels, dim=1).int().tolist()\n",
        "      total_train_loss += loss.item()\n",
        "      num_correct += (predictions == torch.argmax(b_labels, dim=1)).sum().item()\n",
        "      total_samples += len(b_labels)\n",
        "\n",
        "      del b_input_ids, b_input_mask, b_labels, outputs  # free up memory\n",
        "      train_pbar.set_description(\"(Epoch {}) TRAIN LOSS:{:.4f} ACC:{:.4f} LR:{:.8f}\".format((epoch),\n",
        "          total_train_loss / (i+1), num_correct / total_samples, get_lr(optimizer)))\n",
        "\n",
        "  # calculate training accuracy and average training loss\n",
        "  accu = num_correct / len(train_dataloader.dataset)\n",
        "  avg_train_loss = total_train_loss / len(train_dataloader)\n",
        "\n",
        "  learning_rate = get_lr(optimizer)\n",
        "  elapsed = format_time(time.time() - t0)\n",
        "  print('Train Loss: %.4f | Accuracy: %.4f | LR: %.6f'%(avg_train_loss,accu,learning_rate))\n",
        "  print(\"Train Elapsed: {:}\".format(elapsed))\n",
        "\n",
        "  return accu, avg_train_loss, elapsed"
      ]
    },
    {
      "cell_type": "code",
      "execution_count": null,
      "metadata": {
        "id": "QZ_iD8IQjVTq"
      },
      "outputs": [],
      "source": [
        "def eval(model, epoch):\n",
        "\n",
        "  model.eval()\n",
        "  torch.set_grad_enabled(False)\n",
        "\n",
        "  total_loss, total_correct, total_samples = 0, 0, 0\n",
        "  list_pred, list_label = [], []\n",
        "\n",
        "  print(\"----validating----\")\n",
        "  pbar = tqdm(validation_dataloader, leave=True, total=len(validation_dataloader))\n",
        "  for i, batch_data in enumerate(pbar):\n",
        "\n",
        "      b_input_ids = batch_data[0].to(device)\n",
        "      b_input_mask = batch_data[1].to(device)\n",
        "      b_labels = batch_data[2].to(device)\n",
        "\n",
        "      outputs = model(b_input_ids,\n",
        "                      b_input_mask)\n",
        "\n",
        "      b_labels = F.one_hot(b_labels, num_classes = OUTPUT_DIM).float()\n",
        "      loss = criterion(outputs, b_labels)\n",
        "\n",
        "      # Calculate total loss\n",
        "      valid_loss = loss.item()\n",
        "      total_loss += valid_loss\n",
        "\n",
        "      # Calculate evaluation metrics\n",
        "      predictions = torch.argmax(outputs, dim=1)\n",
        "      list_pred.extend(predictions.cpu().numpy().tolist())\n",
        "      list_label += torch.argmax(b_labels, dim=1).int().tolist()\n",
        "\n",
        "      total_correct += (predictions == torch.argmax(b_labels, dim=1)).sum().item()\n",
        "      total_samples += len(b_labels)\n",
        "\n",
        "      del b_input_ids, b_input_mask, b_labels, outputs  # free up memory\n",
        "      pbar.set_description(\"VALID LOSS:{:.4f}  ACC:{:.4f} \".format(total_loss/(i+1), total_correct / total_samples))\n",
        "\n",
        "  list_y_pred = np.array(list_pred)\n",
        "\n",
        "  eval_loss = total_loss/(i+1)\n",
        "  accu = total_correct / total_samples\n",
        "\n",
        "  print('VALID LOSS: %.4f | Accuracy: %.4f'%(eval_loss,accu))\n",
        "\n",
        "  return accu, eval_loss, list_y_pred"
      ]
    },
    {
      "cell_type": "code",
      "execution_count": null,
      "metadata": {
        "id": "sVywNeV6y35S"
      },
      "outputs": [],
      "source": [
        "def test(model, test_loader):\n",
        "    list_y_pred = []\n",
        "    list_y_prob = []\n",
        "    list_y_label = []\n",
        "\n",
        "    model.eval()\n",
        "    t0 = time.time()\n",
        "    num_correct, total_samples, test_loss =  0, 0, 0\n",
        "\n",
        "    pbar = tqdm(test_loader, leave=True, total=len(test_loader))\n",
        "    for i, batch_data in enumerate(pbar):\n",
        "\n",
        "        b_input_ids = batch_data[0].to(device)\n",
        "        b_input_mask = batch_data[1].to(device)\n",
        "        b_labels = batch_data[2].to(device)\n",
        "\n",
        "        outputs = model(b_input_ids,\n",
        "                      b_input_mask)\n",
        "\n",
        "\n",
        "        b_labels = F.one_hot(b_labels, num_classes = OUTPUT_DIM).float()\n",
        "\n",
        "        if b_labels.shape[0] != outputs.shape[0]:\n",
        "          outputs = outputs.unsqueeze(0)\n",
        "\n",
        "        loss = criterion(outputs, b_labels)\n",
        "\n",
        "        predictions = torch.argmax(outputs, dim=1)\n",
        "        proba = torch.softmax(outputs, dim=1)[:, 1]\n",
        "\n",
        "        list_y_pred.extend(predictions.cpu().numpy().tolist())\n",
        "        list_y_prob.extend(proba.detach().cpu().numpy().tolist())\n",
        "        list_y_label += torch.argmax(b_labels, dim=1).int().tolist()\n",
        "\n",
        "        test_loss += loss.item()\n",
        "        num_correct += (predictions == torch.argmax(b_labels, dim=1)).sum().item()\n",
        "        total_samples += len(b_labels)\n",
        "\n",
        "\n",
        "        del b_input_ids, b_input_mask, b_labels, outputs  # free up memory\n",
        "        pbar.set_description(\"Test LOSS:{:.4f}  ACC:{:.4f} \".format(test_loss/(i+1), num_correct / total_samples))\n",
        "    test_loss = test_loss/(i+1)\n",
        "    test_acc = num_correct / total_samples\n",
        "\n",
        "    list_y_pred = np.array(list_y_pred)\n",
        "    list_y_prob = np.array(list_y_prob)\n",
        "    list_y_label = np.array(list_y_label)\n",
        "\n",
        "    auc_score = roc_auc_score(list_y_label, list_y_prob)\n",
        "\n",
        "    elapsed = format_time(time.time() - t0)\n",
        "    print('Elapsed :', elapsed)\n",
        "    return test_loss, test_acc, auc_score, list_y_pred, list_y_prob, list_y_label"
      ]
    },
    {
      "cell_type": "markdown",
      "metadata": {
        "id": "73rcCPj_IZ2n"
      },
      "source": [
        "## Train and validate"
      ]
    },
    {
      "cell_type": "code",
      "execution_count": null,
      "metadata": {
        "id": "wB0nBUjR2_Zk",
        "colab": {
          "base_uri": "https://localhost:8080/"
        },
        "outputId": "113aa932-7f1b-4410-8826-2210331b6026"
      },
      "outputs": [
        {
          "output_type": "stream",
          "name": "stdout",
          "text": [
            "\n",
            "Epoch : 1\n"
          ]
        },
        {
          "output_type": "stream",
          "name": "stderr",
          "text": [
            "(Epoch 1) TRAIN LOSS:0.2010 ACC:0.9225 LR:0.00002000: 100%|██████████| 456/456 [03:13<00:00,  2.35it/s]\n"
          ]
        },
        {
          "output_type": "stream",
          "name": "stdout",
          "text": [
            "Train Loss: 0.2010 | Accuracy: 0.9225 | LR: 0.000020\n",
            "Train Elapsed: 0:03:14\n",
            "----validating----\n"
          ]
        },
        {
          "output_type": "stream",
          "name": "stderr",
          "text": [
            "VALID LOSS:0.1404  ACC:0.9471 : 100%|██████████| 130/130 [00:19<00:00,  6.62it/s]\n"
          ]
        },
        {
          "output_type": "stream",
          "name": "stdout",
          "text": [
            "VALID LOSS: 0.1404 | Accuracy: 0.9471\n",
            "\n",
            "Validation Accuracy improved from 0.0 to 0.9471153846153846\n",
            "Saving best model for epoch: 1\n",
            "\n",
            "Epoch : 2\n"
          ]
        },
        {
          "output_type": "stream",
          "name": "stderr",
          "text": [
            "(Epoch 2) TRAIN LOSS:0.0887 ACC:0.9693 LR:0.00002000: 100%|██████████| 456/456 [03:15<00:00,  2.33it/s]\n"
          ]
        },
        {
          "output_type": "stream",
          "name": "stdout",
          "text": [
            "Train Loss: 0.0887 | Accuracy: 0.9693 | LR: 0.000020\n",
            "Train Elapsed: 0:03:16\n",
            "----validating----\n"
          ]
        },
        {
          "output_type": "stream",
          "name": "stderr",
          "text": [
            "VALID LOSS:0.1762  ACC:0.9394 : 100%|██████████| 130/130 [00:19<00:00,  6.61it/s]\n"
          ]
        },
        {
          "output_type": "stream",
          "name": "stdout",
          "text": [
            "VALID LOSS: 0.1762 | Accuracy: 0.9394\n",
            "\n",
            "Current Val_Acc:  0.9394230769230769\n",
            "validation accuracy did not improve from: 0.9471153846153846\n",
            "\n",
            "Epoch : 3\n"
          ]
        },
        {
          "output_type": "stream",
          "name": "stderr",
          "text": [
            "(Epoch 3) TRAIN LOSS:0.0444 ACC:0.9846 LR:0.00002000: 100%|██████████| 456/456 [03:15<00:00,  2.33it/s]\n"
          ]
        },
        {
          "output_type": "stream",
          "name": "stdout",
          "text": [
            "Train Loss: 0.0444 | Accuracy: 0.9846 | LR: 0.000020\n",
            "Train Elapsed: 0:03:16\n",
            "----validating----\n"
          ]
        },
        {
          "output_type": "stream",
          "name": "stderr",
          "text": [
            "VALID LOSS:0.1580  ACC:0.9514 : 100%|██████████| 130/130 [00:19<00:00,  6.59it/s]\n"
          ]
        },
        {
          "output_type": "stream",
          "name": "stdout",
          "text": [
            "VALID LOSS: 0.1580 | Accuracy: 0.9514\n",
            "\n",
            "Validation Accuracy improved from 0.9471153846153846 to 0.9514423076923076\n",
            "Saving best model for epoch: 3\n",
            "\n",
            "Epoch : 4\n"
          ]
        },
        {
          "output_type": "stream",
          "name": "stderr",
          "text": [
            "(Epoch 4) TRAIN LOSS:0.0267 ACC:0.9919 LR:0.00002000: 100%|██████████| 456/456 [03:15<00:00,  2.33it/s]\n"
          ]
        },
        {
          "output_type": "stream",
          "name": "stdout",
          "text": [
            "Train Loss: 0.0267 | Accuracy: 0.9919 | LR: 0.000020\n",
            "Train Elapsed: 0:03:16\n",
            "----validating----\n"
          ]
        },
        {
          "output_type": "stream",
          "name": "stderr",
          "text": [
            "VALID LOSS:0.2370  ACC:0.9351 : 100%|██████████| 130/130 [00:19<00:00,  6.62it/s]\n"
          ]
        },
        {
          "output_type": "stream",
          "name": "stdout",
          "text": [
            "VALID LOSS: 0.2370 | Accuracy: 0.9351\n",
            "\n",
            "Current Val_Acc:  0.9350961538461539\n",
            "validation accuracy did not improve from: 0.9514423076923076\n",
            "\n",
            "Epoch : 5\n"
          ]
        },
        {
          "output_type": "stream",
          "name": "stderr",
          "text": [
            "(Epoch 5) TRAIN LOSS:0.0220 ACC:0.9937 LR:0.00002000: 100%|██████████| 456/456 [03:15<00:00,  2.33it/s]\n"
          ]
        },
        {
          "output_type": "stream",
          "name": "stdout",
          "text": [
            "Train Loss: 0.0220 | Accuracy: 0.9937 | LR: 0.000020\n",
            "Train Elapsed: 0:03:16\n",
            "----validating----\n"
          ]
        },
        {
          "output_type": "stream",
          "name": "stderr",
          "text": [
            "VALID LOSS:0.1819  ACC:0.9524 : 100%|██████████| 130/130 [00:19<00:00,  6.60it/s]\n"
          ]
        },
        {
          "output_type": "stream",
          "name": "stdout",
          "text": [
            "VALID LOSS: 0.1819 | Accuracy: 0.9524\n",
            "\n",
            "Validation Accuracy improved from 0.9514423076923076 to 0.9524038461538461\n",
            "Saving best model for epoch: 5\n",
            "\n",
            "Epoch : 6\n"
          ]
        },
        {
          "output_type": "stream",
          "name": "stderr",
          "text": [
            "(Epoch 6) TRAIN LOSS:0.0177 ACC:0.9940 LR:0.00002000: 100%|██████████| 456/456 [03:15<00:00,  2.33it/s]\n"
          ]
        },
        {
          "output_type": "stream",
          "name": "stdout",
          "text": [
            "Train Loss: 0.0177 | Accuracy: 0.9940 | LR: 0.000020\n",
            "Train Elapsed: 0:03:16\n",
            "----validating----\n"
          ]
        },
        {
          "output_type": "stream",
          "name": "stderr",
          "text": [
            "VALID LOSS:0.2209  ACC:0.9476 : 100%|██████████| 130/130 [00:19<00:00,  6.57it/s]\n"
          ]
        },
        {
          "output_type": "stream",
          "name": "stdout",
          "text": [
            "VALID LOSS: 0.2209 | Accuracy: 0.9476\n",
            "\n",
            "Current Val_Acc:  0.9475961538461538\n",
            "validation accuracy did not improve from: 0.9524038461538461\n",
            "\n",
            "Epoch : 7\n"
          ]
        },
        {
          "output_type": "stream",
          "name": "stderr",
          "text": [
            "(Epoch 7) TRAIN LOSS:0.0177 ACC:0.9946 LR:0.00002000: 100%|██████████| 456/456 [03:15<00:00,  2.33it/s]\n"
          ]
        },
        {
          "output_type": "stream",
          "name": "stdout",
          "text": [
            "Train Loss: 0.0177 | Accuracy: 0.9946 | LR: 0.000020\n",
            "Train Elapsed: 0:03:16\n",
            "----validating----\n"
          ]
        },
        {
          "output_type": "stream",
          "name": "stderr",
          "text": [
            "VALID LOSS:0.2378  ACC:0.9447 : 100%|██████████| 130/130 [00:19<00:00,  6.60it/s]\n"
          ]
        },
        {
          "output_type": "stream",
          "name": "stdout",
          "text": [
            "VALID LOSS: 0.2378 | Accuracy: 0.9447\n",
            "\n",
            "Current Val_Acc:  0.9447115384615384\n",
            "validation accuracy did not improve from: 0.9524038461538461\n",
            "\n",
            "Epoch : 8\n"
          ]
        },
        {
          "output_type": "stream",
          "name": "stderr",
          "text": [
            "(Epoch 8) TRAIN LOSS:0.0146 ACC:0.9955 LR:0.00002000: 100%|██████████| 456/456 [03:15<00:00,  2.33it/s]\n"
          ]
        },
        {
          "output_type": "stream",
          "name": "stdout",
          "text": [
            "Train Loss: 0.0146 | Accuracy: 0.9955 | LR: 0.000020\n",
            "Train Elapsed: 0:03:16\n",
            "----validating----\n"
          ]
        },
        {
          "output_type": "stream",
          "name": "stderr",
          "text": [
            "VALID LOSS:0.2462  ACC:0.9476 : 100%|██████████| 130/130 [00:19<00:00,  6.60it/s]\n"
          ]
        },
        {
          "output_type": "stream",
          "name": "stdout",
          "text": [
            "VALID LOSS: 0.2462 | Accuracy: 0.9476\n",
            "\n",
            "Current Val_Acc:  0.9475961538461538\n",
            "validation accuracy did not improve from: 0.9524038461538461\n",
            "\n",
            "Epoch : 9\n"
          ]
        },
        {
          "output_type": "stream",
          "name": "stderr",
          "text": [
            "(Epoch 9) TRAIN LOSS:0.0118 ACC:0.9968 LR:0.00002000: 100%|██████████| 456/456 [03:15<00:00,  2.33it/s]\n"
          ]
        },
        {
          "output_type": "stream",
          "name": "stdout",
          "text": [
            "Train Loss: 0.0118 | Accuracy: 0.9968 | LR: 0.000020\n",
            "Train Elapsed: 0:03:16\n",
            "----validating----\n"
          ]
        },
        {
          "output_type": "stream",
          "name": "stderr",
          "text": [
            "VALID LOSS:0.1869  ACC:0.9500 : 100%|██████████| 130/130 [00:19<00:00,  6.62it/s]\n"
          ]
        },
        {
          "output_type": "stream",
          "name": "stdout",
          "text": [
            "VALID LOSS: 0.1869 | Accuracy: 0.9500\n",
            "\n",
            "Current Val_Acc:  0.95\n",
            "validation accuracy did not improve from: 0.9524038461538461\n",
            "\n",
            "Epoch : 10\n"
          ]
        },
        {
          "output_type": "stream",
          "name": "stderr",
          "text": [
            "(Epoch 10) TRAIN LOSS:0.0129 ACC:0.9959 LR:0.00002000: 100%|██████████| 456/456 [03:15<00:00,  2.33it/s]\n"
          ]
        },
        {
          "output_type": "stream",
          "name": "stdout",
          "text": [
            "Train Loss: 0.0129 | Accuracy: 0.9959 | LR: 0.000020\n",
            "Train Elapsed: 0:03:16\n",
            "----validating----\n"
          ]
        },
        {
          "output_type": "stream",
          "name": "stderr",
          "text": [
            "VALID LOSS:0.2299  ACC:0.9457 : 100%|██████████| 130/130 [00:19<00:00,  6.65it/s]"
          ]
        },
        {
          "output_type": "stream",
          "name": "stdout",
          "text": [
            "VALID LOSS: 0.2299 | Accuracy: 0.9457\n",
            "\n",
            "Current Val_Acc:  0.9456730769230769\n",
            "validation accuracy did not improve from: 0.9524038461538461\n",
            "terminating because of early stopping!\n",
            "Early Stopping\n",
            "TOTAL TRAIN ELAPSED  0:35:58\n"
          ]
        },
        {
          "output_type": "stream",
          "name": "stderr",
          "text": [
            "\n"
          ]
        }
      ],
      "source": [
        "history = {\n",
        "    'epoch': [],\n",
        "    'loss': [],\n",
        "    'accuracy': [],\n",
        "    'val_loss': [],\n",
        "    'val_accuracy': [],\n",
        "    'time': [],\n",
        "    'time_val': [],\n",
        "    'save': [],\n",
        "    }\n",
        "val_y_pred = []\n",
        "\n",
        "n_epochs = epochs\n",
        "time0 = time.time()\n",
        "\n",
        "save_best_model = SaveBestModel(mode='max')\n",
        "es = EarlyStopping(patience=patience, mode='max')\n",
        "\n",
        "for epoch in range(1,n_epochs+1):\n",
        "  history['epoch'].append(epoch)\n",
        "  i_time = time.time()\n",
        "\n",
        "  # ============= Training =============\n",
        "  train_accuracy, train_loss, tr_elapsed = train(model, epoch)\n",
        "\n",
        "  # tambahkan ke history\n",
        "  history['accuracy'].append(train_accuracy)\n",
        "  history['loss'].append(train_loss)\n",
        "  history['time'].append(tr_elapsed)\n",
        "\n",
        "  # ============= Validation =============\n",
        "  val_accu, val_loss, eval_y_pred = eval(model, epoch)\n",
        "\n",
        "  # tambahkan ke history\n",
        "  history['val_accuracy'].append(val_accu)\n",
        "  history['val_loss'].append(val_loss)\n",
        "  i_elapsed = format_time(time.time() - i_time)\n",
        "  history['time_val'].append(i_elapsed)\n",
        "\n",
        "  # checkpoint\n",
        "  is_save = save_best_model(\n",
        "      val_accu, epoch, model, optimizer, criterion\n",
        "      )\n",
        "  history['save'].append(is_save)\n",
        "\n",
        "  # Early stopping\n",
        "  if es.step(val_accu):\n",
        "    print(\"Early Stopping\")\n",
        "    break\n",
        "\n",
        "elapsed = format_time(time.time() - time0)\n",
        "print('TOTAL TRAIN ELAPSED ', elapsed)"
      ]
    },
    {
      "cell_type": "code",
      "execution_count": null,
      "metadata": {
        "id": "FcFyO7UnOx1R"
      },
      "outputs": [],
      "source": [
        "df_report = pd.DataFrame(history)\n",
        "\n",
        "# Define the output file name\n",
        "output_report_file = report_path + model_save_name + ' train report.csv'\n",
        "\n",
        "# Write the DataFrame to a CSV file\n",
        "df_report.to_csv(output_report_file, index=False)"
      ]
    },
    {
      "cell_type": "code",
      "execution_count": null,
      "metadata": {
        "id": "l6_k0fVhGvam",
        "colab": {
          "base_uri": "https://localhost:8080/"
        },
        "outputId": "9a79eed6-6c45-4f0c-a389-231b3fbd6870"
      },
      "outputs": [
        {
          "output_type": "execute_result",
          "data": {
            "text/plain": [
              "10"
            ]
          },
          "metadata": {},
          "execution_count": 53
        }
      ],
      "source": [
        "epoch"
      ]
    },
    {
      "cell_type": "markdown",
      "metadata": {
        "id": "XDoiGZ7ePL5Z"
      },
      "source": [
        "## plot train & validation loss"
      ]
    },
    {
      "cell_type": "code",
      "execution_count": null,
      "metadata": {
        "id": "attxr4mcPRTB",
        "colab": {
          "base_uri": "https://localhost:8080/"
        },
        "outputId": "5c269ae0-0c48-48c0-e942-dfc9231af6e2"
      },
      "outputs": [
        {
          "output_type": "display_data",
          "data": {
            "text/plain": [
              "<Figure size 640x480 with 1 Axes>"
            ],
            "image/png": "[encoded data removed]"
          },
          "metadata": {}
        }
      ],
      "source": [
        "plt.figure(1)\n",
        "plt.plot(history['loss'], label='Training Loss')\n",
        "plt.plot(history['val_loss'], label='Validation Loss')\n",
        "plt.title('Loss Plot')\n",
        "plt.ylabel('Value')\n",
        "plt.xlabel('Epoch')\n",
        "plt.legend(loc=\"best\")\n",
        "plt.savefig(graph_path+ model_save_name + ' Train & Validation Loss.png',dpi=300,bbox_inches='tight')"
      ]
    },
    {
      "cell_type": "markdown",
      "metadata": {
        "id": "ThVtFPsTPZzQ"
      },
      "source": [
        "## plot train & validation accuracy"
      ]
    },
    {
      "cell_type": "code",
      "execution_count": null,
      "metadata": {
        "id": "w4rTllOUPZMg",
        "colab": {
          "base_uri": "https://localhost:8080/"
        },
        "outputId": "e96d243a-9efd-4b45-dd41-42a010d39566"
      },
      "outputs": [
        {
          "output_type": "display_data",
          "data": {
            "text/plain": [
              "<Figure size 640x480 with 1 Axes>"
            ],
            "image/png": "[encoded data removed]"
          },
          "metadata": {}
        }
      ],
      "source": [
        "plt.figure(2)\n",
        "plt.plot(history['accuracy'], label='Training Accuracy')\n",
        "plt.plot(history['val_accuracy'], label='Validation Accuracy')\n",
        "plt.title('Accuracy Plot')\n",
        "plt.ylabel('Value')\n",
        "plt.xlabel('Epoch')\n",
        "plt.legend(loc=\"best\")\n",
        "plt.savefig(graph_path+ model_save_name + ' Train & Validation Accuracy.png',dpi=300,bbox_inches='tight')"
      ]
    },
    {
      "cell_type": "code",
      "execution_count": null,
      "metadata": {
        "id": "P6GM7qB1FTuu",
        "colab": {
          "base_uri": "https://localhost:8080/"
        },
        "outputId": "21823f1e-d386-4a14-842c-c9eab1d3759b"
      },
      "outputs": [
        {
          "output_type": "execute_result",
          "data": {
            "text/plain": [
              "[0.9224859377143642,\n",
              " 0.9692687611469337,\n",
              " 0.9846343805734669,\n",
              " 0.9919056111949512,\n",
              " 0.9936891205926739,\n",
              " 0.993963506653862,\n",
              " 0.9946494718068322,\n",
              " 0.9954726299903965,\n",
              " 0.996844560296337,\n",
              " 0.9958842090821787]"
            ]
          },
          "metadata": {},
          "execution_count": 57
        }
      ],
      "source": [
        "history['accuracy']"
      ]
    },
    {
      "cell_type": "code",
      "execution_count": null,
      "metadata": {
        "id": "_WgK4CkCFWB2",
        "colab": {
          "base_uri": "https://localhost:8080/"
        },
        "outputId": "335f7513-ee72-4d75-f173-15d3ec3b2fb7"
      },
      "outputs": [
        {
          "output_type": "execute_result",
          "data": {
            "text/plain": [
              "[0.9471153846153846,\n",
              " 0.9394230769230769,\n",
              " 0.9514423076923076,\n",
              " 0.9350961538461539,\n",
              " 0.9524038461538461,\n",
              " 0.9475961538461538,\n",
              " 0.9447115384615384,\n",
              " 0.9475961538461538,\n",
              " 0.95,\n",
              " 0.9456730769230769]"
            ]
          },
          "metadata": {},
          "execution_count": 58
        }
      ],
      "source": [
        "history['val_accuracy']"
      ]
    },
    {
      "cell_type": "code",
      "execution_count": null,
      "metadata": {
        "id": "bdsG3GN3DVUB",
        "colab": {
          "base_uri": "https://localhost:8080/"
        },
        "outputId": "834c5b16-1f3b-4082-e661-094f3bc21fd6"
      },
      "outputs": [
        {
          "output_type": "execute_result",
          "data": {
            "text/plain": [
              "[0.20095814795339512,\n",
              " 0.08871317213337884,\n",
              " 0.04438137717538906,\n",
              " 0.026686410559928493,\n",
              " 0.02204034410788792,\n",
              " 0.017671931915461563,\n",
              " 0.017708041416322852,\n",
              " 0.014639108629923788,\n",
              " 0.011803958226249833,\n",
              " 0.012895126758641646]"
            ]
          },
          "metadata": {},
          "execution_count": 59
        }
      ],
      "source": [
        "history['loss']"
      ]
    },
    {
      "cell_type": "code",
      "execution_count": null,
      "metadata": {
        "id": "SQvl5lxlDY-m",
        "colab": {
          "base_uri": "https://localhost:8080/"
        },
        "outputId": "df99ca08-0d6e-4637-fc4c-9035841fe42e"
      },
      "outputs": [
        {
          "output_type": "execute_result",
          "data": {
            "text/plain": [
              "[0.14040222255369791,\n",
              " 0.1762034342552607,\n",
              " 0.15798949071367344,\n",
              " 0.23696357933893944,\n",
              " 0.18190729366794514,\n",
              " 0.22087801839090668,\n",
              " 0.23782031265302347,\n",
              " 0.24624483716123416,\n",
              " 0.1868641463923268,\n",
              " 0.22986621319029768]"
            ]
          },
          "metadata": {},
          "execution_count": 60
        }
      ],
      "source": [
        "history['val_loss']"
      ]
    },
    {
      "cell_type": "markdown",
      "metadata": {
        "id": "rRg-gGtK2KGY"
      },
      "source": [
        "## Evaluate on test"
      ]
    },
    {
      "cell_type": "code",
      "execution_count": null,
      "metadata": {
        "id": "YbKjG5hp2PCw",
        "colab": {
          "base_uri": "https://localhost:8080/"
        },
        "outputId": "7eb1ce62-ca9b-4fe2-bf61-bcc3d96b790c"
      },
      "outputs": [
        {
          "output_type": "stream",
          "name": "stderr",
          "text": [
            "Test LOSS:0.2201  ACC:0.9433 : 100%|██████████| 66/66 [00:09<00:00,  6.84it/s]\n"
          ]
        },
        {
          "output_type": "stream",
          "name": "stdout",
          "text": [
            "Elapsed : 0:00:10\n"
          ]
        }
      ],
      "source": [
        "test_loss, test_acc, test_auc_score, list_y_pred, list_y_prob, list_y_true = test(model, test_dataloader)"
      ]
    },
    {
      "cell_type": "code",
      "execution_count": null,
      "metadata": {
        "id": "SW8mv-8iVvM7",
        "colab": {
          "base_uri": "https://localhost:8080/"
        },
        "outputId": "e404df0c-d065-4434-ee10-ba8bf8ff960a"
      },
      "outputs": [
        {
          "output_type": "execute_result",
          "data": {
            "text/plain": [
              "array([1.39852809e-05, 1.95241938e-07, 9.99999762e-01, ...,\n",
              "       1.49304270e-07, 4.30303601e-07, 9.99999881e-01])"
            ]
          },
          "metadata": {},
          "execution_count": 62
        }
      ],
      "source": [
        "list_y_prob"
      ]
    },
    {
      "cell_type": "markdown",
      "metadata": {
        "id": "YMSiD3EG1m0K"
      },
      "source": [
        "# Ukur"
      ]
    },
    {
      "cell_type": "code",
      "execution_count": null,
      "metadata": {
        "id": "dDRlfZTU0uaQ",
        "colab": {
          "base_uri": "https://localhost:8080/"
        },
        "outputId": "34fee325-f9ab-42b0-dee5-e80228d9b241"
      },
      "outputs": [
        {
          "output_type": "execute_result",
          "data": {
            "text/plain": [
              "array([[474,  46],\n",
              "       [ 13, 508]])"
            ]
          },
          "metadata": {},
          "execution_count": 63
        }
      ],
      "source": [
        "cf_matrix = confusion_matrix(list_y_true, list_y_pred)\n",
        "cf_matrix"
      ]
    },
    {
      "cell_type": "code",
      "execution_count": null,
      "metadata": {
        "id": "vDBhzn0FPquQ",
        "colab": {
          "base_uri": "https://localhost:8080/",
          "height": 490
        },
        "outputId": "9614ebef-f152-4d84-bcfb-07a722ce9405"
      },
      "outputs": [
        {
          "output_type": "display_data",
          "data": {
            "text/plain": [
              "<Figure size 640x480 with 0 Axes>"
            ]
          },
          "metadata": {}
        },
        {
          "output_type": "display_data",
          "data": {
            "text/plain": [
              "<Figure size 640x480 with 2 Axes>"
            ],
            "image/png": "[encoded data removed]"
          },
          "metadata": {}
        }
      ],
      "source": [
        "plt.figure(3)\n",
        "cf_matrix = ConfusionMatrixDisplay.from_predictions(list_y_true, list_y_pred, cmap='Blues')\n",
        "plt.title('Confusion Matrix')\n",
        "plt.savefig(graph_path + model_identifier + model_save_name + ' Confusion Matrix.png',dpi=300,bbox_inches='tight')\n",
        "plt.show()"
      ]
    },
    {
      "cell_type": "code",
      "execution_count": null,
      "metadata": {
        "id": "mp2CXrpc109A",
        "colab": {
          "base_uri": "https://localhost:8080/"
        },
        "outputId": "2a98532b-b766-41df-cad4-4f9325fd54db"
      },
      "outputs": [
        {
          "output_type": "stream",
          "name": "stdout",
          "text": [
            "Accuracy: 0.9433\n",
            "AUC: 0.9891\n",
            "MCC: 0.8884\n",
            "Loss: 0.2201\n",
            "Precision: 0.9433 \n",
            "Recall: 0.9451 \n",
            "F1-Score: 0.9433 \n"
          ]
        }
      ],
      "source": [
        "precision, recall, f1_score, support = precision_recall_fscore_support(list_y_pred, list_y_true)\n",
        "mcc_score = matthews_corrcoef(list_y_true, list_y_pred)\n",
        "\n",
        "print(\"Accuracy: %.4f\" % test_acc)\n",
        "print(\"AUC: %.4f\" % test_auc_score)\n",
        "print(\"MCC: %.4f\" % mcc_score)\n",
        "print(\"Loss: %.4f\" % test_loss)\n",
        "print(\"Precision: %.4f \" % np.mean(precision))\n",
        "print(\"Recall: %.4f \" % np.mean(recall))\n",
        "print(\"F1-Score: %.4f \" % np.mean(f1_score))"
      ]
    },
    {
      "cell_type": "code",
      "execution_count": null,
      "metadata": {
        "id": "n4WhN0ZImyqn"
      },
      "outputs": [],
      "source": [
        "test_report = {\n",
        "    'test_accuracy': test_acc,\n",
        "    'test_auc_score': test_auc_score,\n",
        "    'test_mcc_score': mcc_score,\n",
        "    'test_loss': test_loss,\n",
        "    'test_precision': np.mean(precision),\n",
        "    'test_recall': np.mean(recall),\n",
        "    'test_f1_score': np.mean(f1_score)\n",
        "    }"
      ]
    },
    {
      "cell_type": "code",
      "execution_count": null,
      "metadata": {
        "id": "yl_W_UPYmjlY"
      },
      "outputs": [],
      "source": [
        "df_report = pd.DataFrame(test_report, index=[0])\n",
        "\n",
        "# Define the output file name\n",
        "output_report_file = report_path + model_identifier + model_save_name + ' testing report.csv'\n",
        "\n",
        "# Write the DataFrame to a CSV file\n",
        "df_report.to_csv(output_report_file, index=False)"
      ]
    },
    {
      "cell_type": "code",
      "execution_count": null,
      "metadata": {
        "id": "2WR-jqGHIfec",
        "colab": {
          "base_uri": "https://localhost:8080/"
        },
        "outputId": "e2b9c790-a5c9-419c-f92e-b5ad498d1325"
      },
      "outputs": [
        {
          "output_type": "stream",
          "name": "stderr",
          "text": [
            "<ipython-input-68-9af280cca4c4>:7: FutureWarning: iteritems is deprecated and will be removed in a future version. Use .items instead.\n",
            "  for index, value in original_test_labels.iteritems():\n",
            "<ipython-input-68-9af280cca4c4>:12: FutureWarning: The frame.append method is deprecated and will be removed from pandas in a future version. Use pandas.concat instead.\n",
            "  df = df.append({\"Index\": index, \"Sentence\": sentence, \"True Label\": true_label, \"Predicted Label\": predicted_label},\n",
            "<ipython-input-68-9af280cca4c4>:12: FutureWarning: The frame.append method is deprecated and will be removed from pandas in a future version. Use pandas.concat instead.\n",
            "  df = df.append({\"Index\": index, \"Sentence\": sentence, \"True Label\": true_label, \"Predicted Label\": predicted_label},\n",
            "<ipython-input-68-9af280cca4c4>:12: FutureWarning: The frame.append method is deprecated and will be removed from pandas in a future version. Use pandas.concat instead.\n",
            "  df = df.append({\"Index\": index, \"Sentence\": sentence, \"True Label\": true_label, \"Predicted Label\": predicted_label},\n",
            "<ipython-input-68-9af280cca4c4>:12: FutureWarning: The frame.append method is deprecated and will be removed from pandas in a future version. Use pandas.concat instead.\n",
            "  df = df.append({\"Index\": index, \"Sentence\": sentence, \"True Label\": true_label, \"Predicted Label\": predicted_label},\n",
            "<ipython-input-68-9af280cca4c4>:12: FutureWarning: The frame.append method is deprecated and will be removed from pandas in a future version. Use pandas.concat instead.\n",
            "  df = df.append({\"Index\": index, \"Sentence\": sentence, \"True Label\": true_label, \"Predicted Label\": predicted_label},\n",
            "<ipython-input-68-9af280cca4c4>:12: FutureWarning: The frame.append method is deprecated and will be removed from pandas in a future version. Use pandas.concat instead.\n",
            "  df = df.append({\"Index\": index, \"Sentence\": sentence, \"True Label\": true_label, \"Predicted Label\": predicted_label},\n",
            "<ipython-input-68-9af280cca4c4>:12: FutureWarning: The frame.append method is deprecated and will be removed from pandas in a future version. Use pandas.concat instead.\n",
            "  df = df.append({\"Index\": index, \"Sentence\": sentence, \"True Label\": true_label, \"Predicted Label\": predicted_label},\n",
            "<ipython-input-68-9af280cca4c4>:12: FutureWarning: The frame.append method is deprecated and will be removed from pandas in a future version. Use pandas.concat instead.\n",
            "  df = df.append({\"Index\": index, \"Sentence\": sentence, \"True Label\": true_label, \"Predicted Label\": predicted_label},\n",
            "<ipython-input-68-9af280cca4c4>:12: FutureWarning: The frame.append method is deprecated and will be removed from pandas in a future version. Use pandas.concat instead.\n",
            "  df = df.append({\"Index\": index, \"Sentence\": sentence, \"True Label\": true_label, \"Predicted Label\": predicted_label},\n",
            "<ipython-input-68-9af280cca4c4>:12: FutureWarning: The frame.append method is deprecated and will be removed from pandas in a future version. Use pandas.concat instead.\n",
            "  df = df.append({\"Index\": index, \"Sentence\": sentence, \"True Label\": true_label, \"Predicted Label\": predicted_label},\n",
            "<ipython-input-68-9af280cca4c4>:12: FutureWarning: The frame.append method is deprecated and will be removed from pandas in a future version. Use pandas.concat instead.\n",
            "  df = df.append({\"Index\": index, \"Sentence\": sentence, \"True Label\": true_label, \"Predicted Label\": predicted_label},\n",
            "<ipython-input-68-9af280cca4c4>:12: FutureWarning: The frame.append method is deprecated and will be removed from pandas in a future version. Use pandas.concat instead.\n",
            "  df = df.append({\"Index\": index, \"Sentence\": sentence, \"True Label\": true_label, \"Predicted Label\": predicted_label},\n",
            "<ipython-input-68-9af280cca4c4>:12: FutureWarning: The frame.append method is deprecated and will be removed from pandas in a future version. Use pandas.concat instead.\n",
            "  df = df.append({\"Index\": index, \"Sentence\": sentence, \"True Label\": true_label, \"Predicted Label\": predicted_label},\n",
            "<ipython-input-68-9af280cca4c4>:12: FutureWarning: The frame.append method is deprecated and will be removed from pandas in a future version. Use pandas.concat instead.\n",
            "  df = df.append({\"Index\": index, \"Sentence\": sentence, \"True Label\": true_label, \"Predicted Label\": predicted_label},\n",
            "<ipython-input-68-9af280cca4c4>:12: FutureWarning: The frame.append method is deprecated and will be removed from pandas in a future version. Use pandas.concat instead.\n",
            "  df = df.append({\"Index\": index, \"Sentence\": sentence, \"True Label\": true_label, \"Predicted Label\": predicted_label},\n",
            "<ipython-input-68-9af280cca4c4>:12: FutureWarning: The frame.append method is deprecated and will be removed from pandas in a future version. Use pandas.concat instead.\n",
            "  df = df.append({\"Index\": index, \"Sentence\": sentence, \"True Label\": true_label, \"Predicted Label\": predicted_label},\n",
            "<ipython-input-68-9af280cca4c4>:12: FutureWarning: The frame.append method is deprecated and will be removed from pandas in a future version. Use pandas.concat instead.\n",
            "  df = df.append({\"Index\": index, \"Sentence\": sentence, \"True Label\": true_label, \"Predicted Label\": predicted_label},\n",
            "<ipython-input-68-9af280cca4c4>:12: FutureWarning: The frame.append method is deprecated and will be removed from pandas in a future version. Use pandas.concat instead.\n",
            "  df = df.append({\"Index\": index, \"Sentence\": sentence, \"True Label\": true_label, \"Predicted Label\": predicted_label},\n",
            "<ipython-input-68-9af280cca4c4>:12: FutureWarning: The frame.append method is deprecated and will be removed from pandas in a future version. Use pandas.concat instead.\n",
            "  df = df.append({\"Index\": index, \"Sentence\": sentence, \"True Label\": true_label, \"Predicted Label\": predicted_label},\n",
            "<ipython-input-68-9af280cca4c4>:12: FutureWarning: The frame.append method is deprecated and will be removed from pandas in a future version. Use pandas.concat instead.\n",
            "  df = df.append({\"Index\": index, \"Sentence\": sentence, \"True Label\": true_label, \"Predicted Label\": predicted_label},\n",
            "<ipython-input-68-9af280cca4c4>:12: FutureWarning: The frame.append method is deprecated and will be removed from pandas in a future version. Use pandas.concat instead.\n",
            "  df = df.append({\"Index\": index, \"Sentence\": sentence, \"True Label\": true_label, \"Predicted Label\": predicted_label},\n",
            "<ipython-input-68-9af280cca4c4>:12: FutureWarning: The frame.append method is deprecated and will be removed from pandas in a future version. Use pandas.concat instead.\n",
            "  df = df.append({\"Index\": index, \"Sentence\": sentence, \"True Label\": true_label, \"Predicted Label\": predicted_label},\n",
            "<ipython-input-68-9af280cca4c4>:12: FutureWarning: The frame.append method is deprecated and will be removed from pandas in a future version. Use pandas.concat instead.\n",
            "  df = df.append({\"Index\": index, \"Sentence\": sentence, \"True Label\": true_label, \"Predicted Label\": predicted_label},\n",
            "<ipython-input-68-9af280cca4c4>:12: FutureWarning: The frame.append method is deprecated and will be removed from pandas in a future version. Use pandas.concat instead.\n",
            "  df = df.append({\"Index\": index, \"Sentence\": sentence, \"True Label\": true_label, \"Predicted Label\": predicted_label},\n",
            "<ipython-input-68-9af280cca4c4>:12: FutureWarning: The frame.append method is deprecated and will be removed from pandas in a future version. Use pandas.concat instead.\n",
            "  df = df.append({\"Index\": index, \"Sentence\": sentence, \"True Label\": true_label, \"Predicted Label\": predicted_label},\n",
            "<ipython-input-68-9af280cca4c4>:12: FutureWarning: The frame.append method is deprecated and will be removed from pandas in a future version. Use pandas.concat instead.\n",
            "  df = df.append({\"Index\": index, \"Sentence\": sentence, \"True Label\": true_label, \"Predicted Label\": predicted_label},\n",
            "<ipython-input-68-9af280cca4c4>:12: FutureWarning: The frame.append method is deprecated and will be removed from pandas in a future version. Use pandas.concat instead.\n",
            "  df = df.append({\"Index\": index, \"Sentence\": sentence, \"True Label\": true_label, \"Predicted Label\": predicted_label},\n",
            "<ipython-input-68-9af280cca4c4>:12: FutureWarning: The frame.append method is deprecated and will be removed from pandas in a future version. Use pandas.concat instead.\n",
            "  df = df.append({\"Index\": index, \"Sentence\": sentence, \"True Label\": true_label, \"Predicted Label\": predicted_label},\n",
            "<ipython-input-68-9af280cca4c4>:12: FutureWarning: The frame.append method is deprecated and will be removed from pandas in a future version. Use pandas.concat instead.\n",
            "  df = df.append({\"Index\": index, \"Sentence\": sentence, \"True Label\": true_label, \"Predicted Label\": predicted_label},\n",
            "<ipython-input-68-9af280cca4c4>:12: FutureWarning: The frame.append method is deprecated and will be removed from pandas in a future version. Use pandas.concat instead.\n",
            "  df = df.append({\"Index\": index, \"Sentence\": sentence, \"True Label\": true_label, \"Predicted Label\": predicted_label},\n",
            "<ipython-input-68-9af280cca4c4>:12: FutureWarning: The frame.append method is deprecated and will be removed from pandas in a future version. Use pandas.concat instead.\n",
            "  df = df.append({\"Index\": index, \"Sentence\": sentence, \"True Label\": true_label, \"Predicted Label\": predicted_label},\n",
            "<ipython-input-68-9af280cca4c4>:12: FutureWarning: The frame.append method is deprecated and will be removed from pandas in a future version. Use pandas.concat instead.\n",
            "  df = df.append({\"Index\": index, \"Sentence\": sentence, \"True Label\": true_label, \"Predicted Label\": predicted_label},\n",
            "<ipython-input-68-9af280cca4c4>:12: FutureWarning: The frame.append method is deprecated and will be removed from pandas in a future version. Use pandas.concat instead.\n",
            "  df = df.append({\"Index\": index, \"Sentence\": sentence, \"True Label\": true_label, \"Predicted Label\": predicted_label},\n",
            "<ipython-input-68-9af280cca4c4>:12: FutureWarning: The frame.append method is deprecated and will be removed from pandas in a future version. Use pandas.concat instead.\n",
            "  df = df.append({\"Index\": index, \"Sentence\": sentence, \"True Label\": true_label, \"Predicted Label\": predicted_label},\n",
            "<ipython-input-68-9af280cca4c4>:12: FutureWarning: The frame.append method is deprecated and will be removed from pandas in a future version. Use pandas.concat instead.\n",
            "  df = df.append({\"Index\": index, \"Sentence\": sentence, \"True Label\": true_label, \"Predicted Label\": predicted_label},\n",
            "<ipython-input-68-9af280cca4c4>:12: FutureWarning: The frame.append method is deprecated and will be removed from pandas in a future version. Use pandas.concat instead.\n",
            "  df = df.append({\"Index\": index, \"Sentence\": sentence, \"True Label\": true_label, \"Predicted Label\": predicted_label},\n",
            "<ipython-input-68-9af280cca4c4>:12: FutureWarning: The frame.append method is deprecated and will be removed from pandas in a future version. Use pandas.concat instead.\n",
            "  df = df.append({\"Index\": index, \"Sentence\": sentence, \"True Label\": true_label, \"Predicted Label\": predicted_label},\n",
            "<ipython-input-68-9af280cca4c4>:12: FutureWarning: The frame.append method is deprecated and will be removed from pandas in a future version. Use pandas.concat instead.\n",
            "  df = df.append({\"Index\": index, \"Sentence\": sentence, \"True Label\": true_label, \"Predicted Label\": predicted_label},\n",
            "<ipython-input-68-9af280cca4c4>:12: FutureWarning: The frame.append method is deprecated and will be removed from pandas in a future version. Use pandas.concat instead.\n",
            "  df = df.append({\"Index\": index, \"Sentence\": sentence, \"True Label\": true_label, \"Predicted Label\": predicted_label},\n",
            "<ipython-input-68-9af280cca4c4>:12: FutureWarning: The frame.append method is deprecated and will be removed from pandas in a future version. Use pandas.concat instead.\n",
            "  df = df.append({\"Index\": index, \"Sentence\": sentence, \"True Label\": true_label, \"Predicted Label\": predicted_label},\n",
            "<ipython-input-68-9af280cca4c4>:12: FutureWarning: The frame.append method is deprecated and will be removed from pandas in a future version. Use pandas.concat instead.\n",
            "  df = df.append({\"Index\": index, \"Sentence\": sentence, \"True Label\": true_label, \"Predicted Label\": predicted_label},\n",
            "<ipython-input-68-9af280cca4c4>:12: FutureWarning: The frame.append method is deprecated and will be removed from pandas in a future version. Use pandas.concat instead.\n",
            "  df = df.append({\"Index\": index, \"Sentence\": sentence, \"True Label\": true_label, \"Predicted Label\": predicted_label},\n"
          ]
        },
        {
          "output_type": "stream",
          "name": "stdout",
          "text": [
            "True Label: 0 | Predicted Label: 1\n",
            "index: 8122\n",
            "Sentence: tolong developer diperbaiki lagi bug nya kalau bisa dikasih unlimited money biar bisa isi minyak bbm sepuasnya tanpa bayar \n",
            "\n",
            "True Label: 0 | Predicted Label: 1\n",
            "index: 6253\n",
            "Sentence: email hilang enggak ada yang bisa bantu tanya sini enggak tao tanya sana enggak tao jadi mesti cari oles-oles kemana agar mudah di akses kami cuma mau bantu aplikasi ini kalo aplikasi bikin kepala kami selamat kami enggak bisa berbuat apa lagi tanpa kami aplikasi enggak akan jalan ujung tombak aplikasi itu kami tolong pertimbangkan sekalinya agar lebih mudah \n",
            "\n",
            "True Label: 1 | Predicted Label: 0\n",
            "index: 7472\n",
            "Sentence: tak kasih bintang dulu buat memotivasi supaya semakin bgu aplikasinya nanti kalau sudah bisa baru saya kasih bintang karena saya pakai selau gagal masukkan nomor tanya saya berharap semoga lebih di kembangkan lagi ayo semangat jangan keos demi keuntungan bersama \n",
            "\n",
            "True Label: 0 | Predicted Label: 1\n",
            "index: 10160\n",
            "Sentence: kepada admin tolong di kasihan karena banyak sekali bug dan padahal sinyal saya bagus tapi kenapa nge lag saya akhirnya tidak bisa pick hero karena bug sinyal itu \n",
            "\n",
            "True Label: 0 | Predicted Label: 1\n",
            "index: 5849\n",
            "Sentence: game nya bagus tapi masalahnya kalo mau login saya bingung mau mengapai \n",
            "\n",
            "True Label: 0 | Predicted Label: 1\n",
            "index: 4525\n",
            "Sentence: belum pernah ada aplikasi sempat ini \n",
            "\n",
            "True Label: 0 | Predicted Label: 1\n",
            "index: 7711\n",
            "Sentence: mohon untuk pihak play store kalo aplikasi sudah bintang atau supaya direview kembali untuk di force diperbaiki secepat mungkin atau di take down \n",
            "\n",
            "True Label: 0 | Predicted Label: 1\n",
            "index: 8717\n",
            "Sentence: ribet kasihan orang tua atau orang-orang esa yang enggak apa hp android buat makan saja susah apa lagi buat beli paket data terus kata-kata dulu enggak boleh mainan hp waktu mengisi bbm sekarang malah pakai hp buat beli bbm ribet bagaimana mau \n",
            "\n",
            "True Label: 0 | Predicted Label: 1\n",
            "index: 5947\n",
            "Sentence: untuk warna nya kok enggak enak banget dilihat bikin mata saya pegel pencampuran nya agak enggak menyambung ui nya masih seperti aplikasi tahun an tolong ya di modern ini lagi ini sudah tahun ui nya di plastik lagi dan warnanya menurut saya enggak harus dan aplikasinya bukannya mempermudah malah mempersulit mengira pakai aplikasi bakal lebih efisien eh malah memperlambat \n",
            "\n",
            "True Label: 1 | Predicted Label: 0\n",
            "index: 7286\n",
            "Sentence: kalo pembayaran nya pakai dana lebih mudah tau \n",
            "\n",
            "True Label: 1 | Predicted Label: 0\n",
            "index: 3997\n",
            "Sentence: server down saran sih jika sekiranya infrastruktur belum siap ya jangan memaksakan menyusahkan masyarakat saja \n",
            "\n",
            "True Label: 0 | Predicted Label: 1\n",
            "index: 6779\n",
            "Sentence: aplikasi otoriter bayarnya hanya bisa pakai link enggak mikir bagaimana caranya menyejahterakan rakyat kecil malah membebani harus beli minimal hp android paket data dan harus isi saldo link untuk transaksi mensejahterakan rakyat itu enggak semudah masuk got laki \n",
            "\n",
            "True Label: 1 | Predicted Label: 0\n",
            "index: 532\n",
            "Sentence: kesiapan yang belum maksimal tapi di paksa masuk ke masyarakat benahi saja dahulu fitur nya seperti fix bug koneksi app menjadi lebih baik dan juga mudah penggunaan nya \n",
            "\n",
            "True Label: 0 | Predicted Label: 1\n",
            "index: 2565\n",
            "Sentence: aplikasi ini sangat jelek sehingga saya kesulitan untuk menonton sih kakek di web biru \n",
            "\n",
            "True Label: 0 | Predicted Label: 1\n",
            "index: 9922\n",
            "Sentence: aplikasi tidak berguna error menyusahkan rakyat \n",
            "\n",
            "True Label: 0 | Predicted Label: 1\n",
            "index: 7528\n",
            "Sentence: aplikasinya blank saja buka nya malah lewat browser lancar apa guna aplikasi dong \n",
            "\n",
            "True Label: 0 | Predicted Label: 1\n",
            "index: 6800\n",
            "Sentence: gua mau daftar enggak bisa aduh rakyat mau daftar bukannya dipermudah malah dipersulit \n",
            "\n",
            "True Label: 0 | Predicted Label: 1\n",
            "index: 6788\n",
            "Sentence: tidak bisa verifikasi buat developer aplikasi ini dan pertamina kalo buat aplikasi yang memudahkan ya bukan aplikasi ecek ecek kayak begini bagaimana pengguna yang susah terjangkau sinyal coba perhatikan masyarakat di daerah jangan hanya memandang orang di kota besar saja membangun negeri jangan merepotkan masyarakat ya jujur saya kecewa \n",
            "\n",
            "True Label: 1 | Predicted Label: 0\n",
            "index: 8648\n",
            "Sentence: aku pernah daftar di spbu sudah lengkap semua data ee enggak taunya katanya foto stnk nya enggak jelas benar benar mengesalkan sudah nurut maunya pemerintah tapi kok di persulit ini bagaimana coba kalau memang belum siap jangan pemainnya harapan rakyat yang sudah nurut kalau mau mengerti konsumsi pertamax waduh bisa bisa mobil enggak jalan intinya beli mobil bukan untuk gaya gaya an tapi buat menghemat waktu dan biaya usaha tolong pihak terkait di perhatikan setiap keluhan rakyat kecil \n",
            "\n",
            "True Label: 0 | Predicted Label: 1\n",
            "index: 7801\n",
            "Sentence: persiapan aplikasi harus lebih di perhatikan sebelum di terapkan kepada masyarakat luas saya mengalami masalah bahkan pada saat proses verifikasi pendaftaran semoga masalah ini bisa di perbaiki secepatnya terimakasih \n",
            "\n",
            "True Label: 0 | Predicted Label: 1\n",
            "index: 9386\n",
            "Sentence: setelah sekian lama daftar baru dapat notifikasi dan qr adeknya scara penggunaan aplikasi pertamanya dapat mudah dilakukan di kota besar sekarang tinggal masalah di ketersediaan pertalite nya beberapa kali masuk spbu pertalite kosong \n",
            "\n",
            "True Label: 0 | Predicted Label: 1\n",
            "index: 8970\n",
            "Sentence: apakah bisa dipercaya dalam pemberian undian berhadiah karena selama ini tidak pernah diekspos kapan dan siapa saja pemenangnya pertamina pertamina kapan engkau berubah walaupun dipasang pak ahok sudah waktunya beres untuk orang yang jadul \n",
            "\n",
            "True Label: 0 | Predicted Label: 1\n",
            "index: 2749\n",
            "Sentence: mau ngisi solar saja jadi susah ribet alhasil saya harus mencela derek \n",
            "\n",
            "True Label: 0 | Predicted Label: 1\n",
            "index: 9954\n",
            "Sentence: masih banyak bug saya enggak bisa masuk dan berulang ulang ada tulisan seperti ini kaget toilet mohon di perbaiki dan diperkecil makanya biar rakyat yang seperti kami bisa bertransaksi dengan aplikasi seperti tidak berguna ini terimakasih cantiknya \n",
            "\n",
            "True Label: 0 | Predicted Label: 1\n",
            "index: 2763\n",
            "Sentence: bikin susah pengguna \n",
            "\n",
            "True Label: 1 | Predicted Label: 0\n",
            "index: 9271\n",
            "Sentence: rekomendasinya lama kita sono mobil selain susah mencari penumpang di persulit membeli bensin pertalite pelayanan sampah moga kalian cepat pulang amin \n",
            "\n",
            "True Label: 1 | Predicted Label: 0\n",
            "index: 6708\n",
            "Sentence: sungguh ribet jika harus menggunakan aplikasi ini dari pembayaran yang hanya bisa link saja dll sungguh sungguh ribet menurut saya alangkah baiknya jika sistemnya berubah menjadi seperti system ada toll lebih mudah dan praktis ketimbang aplikasi yang harus menggunakan smartphone yang belum tentu semua orang punya bintang satu lah buat aplikasi ini dan kebijakan nya terimakasih \n",
            "\n",
            "True Label: 0 | Predicted Label: 1\n",
            "index: 1097\n",
            "Sentence: my pertamina enggak bisa bayar orang pintar apa bagaimana sih sebelum meluncur harusnya test and error dulu terus \n",
            "\n",
            "True Label: 1 | Predicted Label: 0\n",
            "index: 3879\n",
            "Sentence: buat developer saya mewakili penduduk yang jauh dari pom bensin memberi saran kalo bisa aplikasi ini kasih tambahan layanan cod gratis ongkir tanpa biaya admin \n",
            "\n",
            "True Label: 1 | Predicted Label: 0\n",
            "index: 7986\n",
            "Sentence: daftarnya ribet transaksinya pun ribet bayar cash lebih cepat dan enggak bikin antrian \n",
            "\n",
            "True Label: 0 | Predicted Label: 1\n",
            "index: 4360\n",
            "Sentence: tolong hapus apk ini min \n",
            "\n",
            "True Label: 0 | Predicted Label: 1\n",
            "index: 4165\n",
            "Sentence: masukan kode empat delapan tuju lima untuk mendapatkan lantai pertalite gratis di spbu \n",
            "\n",
            "True Label: 0 | Predicted Label: 1\n",
            "index: 6022\n",
            "Sentence: bikin susah saja bug mulu aplikasi enggak bagus belum cocok masuk play store \n",
            "\n",
            "True Label: 0 | Predicted Label: 1\n",
            "index: 4545\n",
            "Sentence: ribet saja sudah lama antri malah update saja ah geblek bikin emosi \n",
            "\n",
            "True Label: 0 | Predicted Label: 1\n",
            "index: 4140\n",
            "Sentence: yakin aman memasukan nik kok saya ragu ya \n",
            "\n",
            "True Label: 0 | Predicted Label: 1\n",
            "index: 1619\n",
            "Sentence: pas mau bayar mesinya error enggak bisa di gunakan untung bawa uang chas kalau enggak sip ktp di spbu \n",
            "\n",
            "True Label: 0 | Predicted Label: 1\n",
            "index: 9068\n",
            "Sentence: pokok enggak lemot waktu scan struk \n",
            "\n",
            "True Label: 1 | Predicted Label: 0\n",
            "index: 9164\n",
            "Sentence: pernikahan saja lama pak bikin orang sehat jadi sakit \n",
            "\n",
            "True Label: 0 | Predicted Label: 1\n",
            "index: 2740\n",
            "Sentence: susah datar nya \n",
            "\n",
            "True Label: 0 | Predicted Label: 1\n",
            "index: 6148\n",
            "Sentence: hadiah manis-manisnya kurang bagus terlalu monoton gemasnya terlalu susah di mendapati memegang imut senang \n",
            "\n",
            "True Label: 0 | Predicted Label: 1\n",
            "index: 71\n",
            "Sentence: kesulitan mengisi minyak ktn atm jauh dan tidak ada cash semoga dengan ini semua kendala teratasi \n",
            "\n",
            "True Label: 0 | Predicted Label: 1\n",
            "index: 6405\n",
            "Sentence: aplikasinya lawak mau bayar saja di persulit mending di hapus saja my pertamina enggak berguna untuk kehidupan sehari dan tidak mempermudah kegiatan daftar dari tanggal juni sampai sekarang belum dapat qr nya memperbaiki sulit \n",
            "\n",
            "True Label: 0 | Predicted Label: 1\n",
            "index: 6334\n",
            "Sentence: sangat merepotkan rakyat beli bbm suruh pakai pertamanya tapi daftarnya sulit setengah mati daftar dari tanggal juli bolak balik di update enggak bisa di konfirmasi saja mohon di permudah pendaftaran nya terimakasih \n",
            "\n",
            "True Label: 1 | Predicted Label: 0\n",
            "index: 9472\n",
            "Sentence: qd qr enggak langsung ada di spbu tambah lama antri \n",
            "\n",
            "True Label: 0 | Predicted Label: 1\n",
            "index: 8533\n",
            "Sentence: pada saat dibuka saat pembayaran kurang nyaman takut meledak di pom sayang mobilnya \n",
            "\n",
            "True Label: 0 | Predicted Label: 1\n",
            "index: 3858\n",
            "Sentence: bikin ribet saja sudah antri beli nya makin antri saja aduh saran saja nih ya mau di atur kayak bagaimana pun tetap saja horang kayak bali nya peragakan kenapa coba info loker yang enggak mandang pink \n",
            "\n",
            "True Label: 1 | Predicted Label: 0\n",
            "index: 8057\n",
            "Sentence: coba bisa bayar lewat aplikasi dana dari pada link saja soal nya dana lebih gampang dan sekarang banyak pengguna hp yang punya app dana \n",
            "\n",
            "True Label: 0 | Predicted Label: 1\n",
            "index: 10141\n",
            "Sentence: masih banyak pegawai spbu ogah an melayani pelanggan yang melakukan pembayaran pakai apk ini dan link saja katanya sering gangguan entah itu benar apa enggak nyatanya mesin edc jarang tersedia didekat mesin pengisian bahan bakar \n",
            "\n",
            "True Label: 0 | Predicted Label: 1\n",
            "index: 14\n",
            "Sentence: aplikasi gagal enggak tau ngebug atau bagaimana bolak balik dan enggak jelas tanpa kita sadari kita bayar pajak buat bayar orang yang bikin aplikasi yang gagal aplikasi ini milik negara dan sekelas milik negara tapi kualitas sangat kurang memuaskan \n",
            "\n",
            "True Label: 0 | Predicted Label: 1\n",
            "index: 3959\n",
            "Sentence: just info mypertamina rupanya aplikasi ini terintegrasi dengan aplikasi linkaja jadi untuk transaksi beli bbm karena penasaran saya coba isi transfer dana ke aplikasi tersebut seadanya di situ tertera biaya admin rp jutaan mengomentari pasti akan top up dana ke linkaja bisa beberapa hari sekali dengan jumlah kendaraan mobil dan motor di indonesia tahun ini sebanyak juta akhlak yang beli bbm bersubsidi hanya berarti juta maka sebanyak juta kali rp rp milyar wow \n",
            "\n",
            "True Label: 0 | Predicted Label: 1\n",
            "index: 10374\n",
            "Sentence: sebenarnya aplikasi ini bagus tapi coba tolong bisa lebih membantu saya dalam mencari pekerjaan dikarnakan saya sedang butuh pekerjaan karena saya pikir aplikasi ini berguna untuk mencari pekerjaan jika anda sedang open recruitment mohon hubungi saya di nomor ini terimakasih \n",
            "\n",
            "True Label: 0 | Predicted Label: 1\n",
            "index: 2837\n",
            "Sentence: susah banget \n",
            "\n",
            "True Label: 0 | Predicted Label: 1\n",
            "index: 2689\n",
            "Sentence: jelek banget apknya mau byar jadi enggak bisa \n",
            "\n",
            "True Label: 0 | Predicted Label: 1\n",
            "index: 6767\n",
            "Sentence: masyarakat apa bayar pajak beli bensin saja susah nya didownload pun masih susah cara daftar nya duh embuh ketemu piye masih mudah daftar game slot \n",
            "\n",
            "True Label: 1 | Predicted Label: 0\n",
            "index: 2489\n",
            "Sentence: apk nya jelek terkesan di paksakan pas saya buka kadang suka fc \n",
            "\n",
            "True Label: 0 | Predicted Label: 1\n",
            "index: 9414\n",
            "Sentence: awalnya saya coba coba lama lama saya jadi ketagihan setelah saya ketagihan apknya malah jadi buruk \n",
            "\n",
            "True Label: 0 | Predicted Label: 1\n",
            "index: 2030\n",
            "Sentence: mau bayar pakai aplikasi selalu ditolak oleh spbu alasannya sistem error terus \n",
            "\n",
            "True Label: 0 | Predicted Label: 1\n",
            "index: 8472\n",
            "Sentence: waduh ribet pas bayar antrian panjang jaringan lemot buka hp samping pom bensin ledeki juga takut meletus bukanya diam bensin tidak dianjurkan main hp sangat berbahaya \n",
            "\n",
            "True Label: 0 | Predicted Label: 1\n",
            "index: 6857\n",
            "Sentence: aplikasinya untuk via pendaftaran masih mudah tapi untuk kedepannya penggunaan scan bayar belum dipastikan \n",
            "\n"
          ]
        },
        {
          "output_type": "stream",
          "name": "stderr",
          "text": [
            "<ipython-input-68-9af280cca4c4>:12: FutureWarning: The frame.append method is deprecated and will be removed from pandas in a future version. Use pandas.concat instead.\n",
            "  df = df.append({\"Index\": index, \"Sentence\": sentence, \"True Label\": true_label, \"Predicted Label\": predicted_label},\n",
            "<ipython-input-68-9af280cca4c4>:12: FutureWarning: The frame.append method is deprecated and will be removed from pandas in a future version. Use pandas.concat instead.\n",
            "  df = df.append({\"Index\": index, \"Sentence\": sentence, \"True Label\": true_label, \"Predicted Label\": predicted_label},\n",
            "<ipython-input-68-9af280cca4c4>:12: FutureWarning: The frame.append method is deprecated and will be removed from pandas in a future version. Use pandas.concat instead.\n",
            "  df = df.append({\"Index\": index, \"Sentence\": sentence, \"True Label\": true_label, \"Predicted Label\": predicted_label},\n",
            "<ipython-input-68-9af280cca4c4>:12: FutureWarning: The frame.append method is deprecated and will be removed from pandas in a future version. Use pandas.concat instead.\n",
            "  df = df.append({\"Index\": index, \"Sentence\": sentence, \"True Label\": true_label, \"Predicted Label\": predicted_label},\n",
            "<ipython-input-68-9af280cca4c4>:12: FutureWarning: The frame.append method is deprecated and will be removed from pandas in a future version. Use pandas.concat instead.\n",
            "  df = df.append({\"Index\": index, \"Sentence\": sentence, \"True Label\": true_label, \"Predicted Label\": predicted_label},\n",
            "<ipython-input-68-9af280cca4c4>:12: FutureWarning: The frame.append method is deprecated and will be removed from pandas in a future version. Use pandas.concat instead.\n",
            "  df = df.append({\"Index\": index, \"Sentence\": sentence, \"True Label\": true_label, \"Predicted Label\": predicted_label},\n",
            "<ipython-input-68-9af280cca4c4>:12: FutureWarning: The frame.append method is deprecated and will be removed from pandas in a future version. Use pandas.concat instead.\n",
            "  df = df.append({\"Index\": index, \"Sentence\": sentence, \"True Label\": true_label, \"Predicted Label\": predicted_label},\n",
            "<ipython-input-68-9af280cca4c4>:12: FutureWarning: The frame.append method is deprecated and will be removed from pandas in a future version. Use pandas.concat instead.\n",
            "  df = df.append({\"Index\": index, \"Sentence\": sentence, \"True Label\": true_label, \"Predicted Label\": predicted_label},\n",
            "<ipython-input-68-9af280cca4c4>:12: FutureWarning: The frame.append method is deprecated and will be removed from pandas in a future version. Use pandas.concat instead.\n",
            "  df = df.append({\"Index\": index, \"Sentence\": sentence, \"True Label\": true_label, \"Predicted Label\": predicted_label},\n",
            "<ipython-input-68-9af280cca4c4>:12: FutureWarning: The frame.append method is deprecated and will be removed from pandas in a future version. Use pandas.concat instead.\n",
            "  df = df.append({\"Index\": index, \"Sentence\": sentence, \"True Label\": true_label, \"Predicted Label\": predicted_label},\n",
            "<ipython-input-68-9af280cca4c4>:12: FutureWarning: The frame.append method is deprecated and will be removed from pandas in a future version. Use pandas.concat instead.\n",
            "  df = df.append({\"Index\": index, \"Sentence\": sentence, \"True Label\": true_label, \"Predicted Label\": predicted_label},\n",
            "<ipython-input-68-9af280cca4c4>:12: FutureWarning: The frame.append method is deprecated and will be removed from pandas in a future version. Use pandas.concat instead.\n",
            "  df = df.append({\"Index\": index, \"Sentence\": sentence, \"True Label\": true_label, \"Predicted Label\": predicted_label},\n",
            "<ipython-input-68-9af280cca4c4>:12: FutureWarning: The frame.append method is deprecated and will be removed from pandas in a future version. Use pandas.concat instead.\n",
            "  df = df.append({\"Index\": index, \"Sentence\": sentence, \"True Label\": true_label, \"Predicted Label\": predicted_label},\n",
            "<ipython-input-68-9af280cca4c4>:12: FutureWarning: The frame.append method is deprecated and will be removed from pandas in a future version. Use pandas.concat instead.\n",
            "  df = df.append({\"Index\": index, \"Sentence\": sentence, \"True Label\": true_label, \"Predicted Label\": predicted_label},\n",
            "<ipython-input-68-9af280cca4c4>:12: FutureWarning: The frame.append method is deprecated and will be removed from pandas in a future version. Use pandas.concat instead.\n",
            "  df = df.append({\"Index\": index, \"Sentence\": sentence, \"True Label\": true_label, \"Predicted Label\": predicted_label},\n",
            "<ipython-input-68-9af280cca4c4>:12: FutureWarning: The frame.append method is deprecated and will be removed from pandas in a future version. Use pandas.concat instead.\n",
            "  df = df.append({\"Index\": index, \"Sentence\": sentence, \"True Label\": true_label, \"Predicted Label\": predicted_label},\n",
            "<ipython-input-68-9af280cca4c4>:12: FutureWarning: The frame.append method is deprecated and will be removed from pandas in a future version. Use pandas.concat instead.\n",
            "  df = df.append({\"Index\": index, \"Sentence\": sentence, \"True Label\": true_label, \"Predicted Label\": predicted_label},\n"
          ]
        }
      ],
      "source": [
        "# print the wrong predicted label\n",
        "\n",
        "# Create a DataFrame to store the results\n",
        "df = pd.DataFrame(columns=[\"Index\", \"Sentence\", \"True Label\", \"Predicted Label\"])\n",
        "\n",
        "i=0\n",
        "for index, value in original_test_labels.iteritems():\n",
        "  if value != list_y_pred[i]:\n",
        "    true_label = value\n",
        "    predicted_label = list_y_pred[i]\n",
        "    sentence = text[index]\n",
        "    df = df.append({\"Index\": index, \"Sentence\": sentence, \"True Label\": true_label, \"Predicted Label\": predicted_label},\n",
        "                       ignore_index=True)\n",
        "    print('True Label:', true_label, '|', 'Predicted Label:', predicted_label)\n",
        "    print('index:', index)\n",
        "    print('Sentence:', sentence, '\\n')\n",
        "  i=i+1\n",
        "\n",
        "# Define the output file name\n",
        "output_report_file = report_path + model_identifier + model_save_name + ' wrong predictions report.csv'\n",
        "\n",
        "# Write the DataFrame to a CSV file\n",
        "df.to_csv(output_report_file, index=False)"
      ]
    },
    {
      "cell_type": "markdown",
      "metadata": {
        "id": "zpUtxJWBfz2l"
      },
      "source": [
        "# Save and Load Model"
      ]
    },
    {
      "cell_type": "markdown",
      "metadata": {
        "id": "ZdT-qapvIwME"
      },
      "source": [
        "## Save tokenizer"
      ]
    },
    {
      "cell_type": "code",
      "execution_count": null,
      "metadata": {
        "id": "6thxbg4fHJlU"
      },
      "outputs": [],
      "source": [
        "tokenizer.save_pretrained(tokenizer_path)"
      ]
    },
    {
      "cell_type": "markdown",
      "metadata": {
        "id": "vixBQDGaL8vF"
      },
      "source": [
        "## Save last model"
      ]
    },
    {
      "cell_type": "code",
      "execution_count": null,
      "metadata": {
        "colab": {
          "base_uri": "https://localhost:8080/"
        },
        "id": "0uL-RhiMGkM3",
        "outputId": "9c0020e3-36e4-4508-a979-8ddcf8b057ab"
      },
      "outputs": [
        {
          "name": "stdout",
          "output_type": "stream",
          "text": [
            "Saving final model...\n"
          ]
        }
      ],
      "source": [
        "# save the trained model weights for a final time\n",
        "save_model(epoch, model, optimizer, criterion)"
      ]
    },
    {
      "cell_type": "code",
      "execution_count": null,
      "metadata": {
        "id": "CMWvOzRcSPJh"
      },
      "outputs": [],
      "source": [
        "import os.path\n",
        "\n",
        "sz = os.path.getsize(model_path)\n",
        "print(f'The {model_path} size is', sz, 'bytes')"
      ]
    },
    {
      "cell_type": "markdown",
      "metadata": {
        "id": "oorZpAtRNhJx"
      },
      "source": [
        "## Load Best model"
      ]
    },
    {
      "cell_type": "code",
      "execution_count": null,
      "metadata": {
        "id": "DlYAO2AgN49o",
        "colab": {
          "base_uri": "https://localhost:8080/"
        },
        "outputId": "0b5abe9f-7cd8-4f37-d345-97b236e875b9"
      },
      "outputs": [
        {
          "output_type": "stream",
          "name": "stdout",
          "text": [
            "Best model was saved at 5 epochs\n",
            "\n"
          ]
        }
      ],
      "source": [
        "# load the best model checkpoint\n",
        "best_model_cp = torch.load(best_model_path)\n",
        "best_model_epoch = best_model_cp['epoch']\n",
        "print(f\"Best model was saved at {best_model_epoch} epochs\\n\")"
      ]
    },
    {
      "cell_type": "code",
      "execution_count": null,
      "metadata": {
        "id": "c4N7ujfCMTTF",
        "colab": {
          "base_uri": "https://localhost:8080/"
        },
        "outputId": "0e187bcb-f689-4260-d4ad-8aa1cecfd634"
      },
      "outputs": [
        {
          "output_type": "stream",
          "name": "stdout",
          "text": [
            "/content/gdrive/My Drive/TA/Ards/saved/b_IBDmg_2e5_d2_16.pth\n"
          ]
        }
      ],
      "source": [
        "print(best_model_path)"
      ]
    },
    {
      "cell_type": "code",
      "execution_count": null,
      "metadata": {
        "id": "RXIRvBUHbV_o"
      },
      "outputs": [],
      "source": [
        "del model"
      ]
    },
    {
      "cell_type": "code",
      "execution_count": null,
      "metadata": {
        "id": "EU8ylmDTFcqT"
      },
      "outputs": [],
      "source": [
        "model_identifier = \"b_\""
      ]
    },
    {
      "cell_type": "code",
      "execution_count": null,
      "metadata": {
        "id": "7E9vXvrmM7go"
      },
      "outputs": [],
      "source": [
        "model = IndoBERTBiLSTM(\n",
        "              bert_config,\n",
        "              bert,\n",
        "              HIDDEN_DIM,\n",
        "              OUTPUT_DIM,\n",
        "              N_LAYERS,\n",
        "              BIDIRECTIONAL,\n",
        "              DROPOUT)"
      ]
    },
    {
      "cell_type": "code",
      "execution_count": null,
      "metadata": {
        "id": "ZUbxcgf7IAwX",
        "colab": {
          "base_uri": "https://localhost:8080/"
        },
        "outputId": "5ffe6f7b-7b8d-41b8-afd1-07fab3131feb"
      },
      "outputs": [
        {
          "output_type": "execute_result",
          "data": {
            "text/plain": [
              "IndoBERTBiLSTM(\n",
              "  (bert): BertModel(\n",
              "    (embeddings): BertEmbeddings(\n",
              "      (word_embeddings): Embedding(50000, 768, padding_idx=0)\n",
              "      (position_embeddings): Embedding(512, 768)\n",
              "      (token_type_embeddings): Embedding(2, 768)\n",
              "      (LayerNorm): LayerNorm((768,), eps=1e-12, elementwise_affine=True)\n",
              "      (dropout): Dropout(p=0.1, inplace=False)\n",
              "    )\n",
              "    (encoder): BertEncoder(\n",
              "      (layer): ModuleList(\n",
              "        (0-11): 12 x BertLayer(\n",
              "          (attention): BertAttention(\n",
              "            (self): BertSelfAttention(\n",
              "              (query): Linear(in_features=768, out_features=768, bias=True)\n",
              "              (key): Linear(in_features=768, out_features=768, bias=True)\n",
              "              (value): Linear(in_features=768, out_features=768, bias=True)\n",
              "              (dropout): Dropout(p=0.1, inplace=False)\n",
              "            )\n",
              "            (output): BertSelfOutput(\n",
              "              (dense): Linear(in_features=768, out_features=768, bias=True)\n",
              "              (LayerNorm): LayerNorm((768,), eps=1e-12, elementwise_affine=True)\n",
              "              (dropout): Dropout(p=0.1, inplace=False)\n",
              "            )\n",
              "          )\n",
              "          (intermediate): BertIntermediate(\n",
              "            (dense): Linear(in_features=768, out_features=3072, bias=True)\n",
              "            (intermediate_act_fn): GELUActivation()\n",
              "          )\n",
              "          (output): BertOutput(\n",
              "            (dense): Linear(in_features=3072, out_features=768, bias=True)\n",
              "            (LayerNorm): LayerNorm((768,), eps=1e-12, elementwise_affine=True)\n",
              "            (dropout): Dropout(p=0.1, inplace=False)\n",
              "          )\n",
              "        )\n",
              "      )\n",
              "    )\n",
              "    (pooler): BertPooler(\n",
              "      (dense): Linear(in_features=768, out_features=768, bias=True)\n",
              "      (activation): Tanh()\n",
              "    )\n",
              "  )\n",
              "  (lstm): LSTM(768, 768, batch_first=True, bidirectional=True)\n",
              "  (dropout): Dropout(p=0.2, inplace=False)\n",
              "  (output_layer): Linear(in_features=1536, out_features=2, bias=True)\n",
              ")"
            ]
          },
          "metadata": {},
          "execution_count": 74
        }
      ],
      "source": [
        "model.load_state_dict(best_model_cp['model_state_dict'])\n",
        "model.cuda()"
      ]
    },
    {
      "cell_type": "markdown",
      "metadata": {
        "id": "A-cNk_HXNkTo"
      },
      "source": [
        "## Load last model"
      ]
    },
    {
      "cell_type": "code",
      "execution_count": null,
      "metadata": {
        "colab": {
          "base_uri": "https://localhost:8080/"
        },
        "id": "EJsfgbemHplW",
        "outputId": "f1a9610d-d240-4b16-bba4-ba078cc60790"
      },
      "outputs": [
        {
          "name": "stdout",
          "output_type": "stream",
          "text": [
            "Last model was saved at 9 epochs\n",
            "\n"
          ]
        }
      ],
      "source": [
        "# load the last model checkpoint\n",
        "last_model_cp = torch.load(model_path)\n",
        "last_model_epoch = last_model_cp['epoch']\n",
        "print(f\"Last model was saved at {last_model_epoch} epochs\\n\")"
      ]
    },
    {
      "cell_type": "code",
      "execution_count": null,
      "metadata": {
        "id": "2astIbz3FnqM"
      },
      "outputs": [],
      "source": [
        "model_identifier = \"f_\""
      ]
    },
    {
      "cell_type": "code",
      "execution_count": null,
      "metadata": {
        "id": "tWJQFl6WNrT5"
      },
      "outputs": [],
      "source": [
        "model = IndoBERTBiLSTM(\n",
        "              bert_config,\n",
        "              bert,\n",
        "              HIDDEN_DIM,\n",
        "              OUTPUT_DIM,\n",
        "              N_LAYERS,\n",
        "              BIDIRECTIONAL,\n",
        "              DROPOUT)"
      ]
    },
    {
      "cell_type": "code",
      "execution_count": null,
      "metadata": {
        "colab": {
          "base_uri": "https://localhost:8080/"
        },
        "id": "VKgiPa9gNtlo",
        "outputId": "aedf6dbf-c5ea-4f39-814b-01d79f171188"
      },
      "outputs": [
        {
          "data": {
            "text/plain": [
              "IndoBERTBiLSTM(\n",
              "  (bert): BertModel(\n",
              "    (embeddings): BertEmbeddings(\n",
              "      (word_embeddings): Embedding(50000, 768, padding_idx=0)\n",
              "      (position_embeddings): Embedding(512, 768)\n",
              "      (token_type_embeddings): Embedding(2, 768)\n",
              "      (LayerNorm): LayerNorm((768,), eps=1e-12, elementwise_affine=True)\n",
              "      (dropout): Dropout(p=0.1, inplace=False)\n",
              "    )\n",
              "    (encoder): BertEncoder(\n",
              "      (layer): ModuleList(\n",
              "        (0-11): 12 x BertLayer(\n",
              "          (attention): BertAttention(\n",
              "            (self): BertSelfAttention(\n",
              "              (query): Linear(in_features=768, out_features=768, bias=True)\n",
              "              (key): Linear(in_features=768, out_features=768, bias=True)\n",
              "              (value): Linear(in_features=768, out_features=768, bias=True)\n",
              "              (dropout): Dropout(p=0.1, inplace=False)\n",
              "            )\n",
              "            (output): BertSelfOutput(\n",
              "              (dense): Linear(in_features=768, out_features=768, bias=True)\n",
              "              (LayerNorm): LayerNorm((768,), eps=1e-12, elementwise_affine=True)\n",
              "              (dropout): Dropout(p=0.1, inplace=False)\n",
              "            )\n",
              "          )\n",
              "          (intermediate): BertIntermediate(\n",
              "            (dense): Linear(in_features=768, out_features=3072, bias=True)\n",
              "            (intermediate_act_fn): GELUActivation()\n",
              "          )\n",
              "          (output): BertOutput(\n",
              "            (dense): Linear(in_features=3072, out_features=768, bias=True)\n",
              "            (LayerNorm): LayerNorm((768,), eps=1e-12, elementwise_affine=True)\n",
              "            (dropout): Dropout(p=0.1, inplace=False)\n",
              "          )\n",
              "        )\n",
              "      )\n",
              "    )\n",
              "    (pooler): BertPooler(\n",
              "      (dense): Linear(in_features=768, out_features=768, bias=True)\n",
              "      (activation): Tanh()\n",
              "    )\n",
              "  )\n",
              "  (lstm): LSTM(768, 768, batch_first=True, bidirectional=True)\n",
              "  (dropout): Dropout(p=0.2, inplace=False)\n",
              "  (output_layer): Linear(in_features=1536, out_features=2, bias=True)\n",
              ")"
            ]
          },
          "execution_count": 125,
          "metadata": {},
          "output_type": "execute_result"
        }
      ],
      "source": [
        "model.load_state_dict(last_model_cp['model_state_dict'])\n",
        "model.cuda()"
      ]
    },
    {
      "cell_type": "markdown",
      "metadata": {
        "id": "tNzrGYyRNvJP"
      },
      "source": [
        "## Testing"
      ]
    },
    {
      "cell_type": "code",
      "execution_count": null,
      "metadata": {
        "colab": {
          "base_uri": "https://localhost:8080/"
        },
        "id": "ncBxJxZUTwhd",
        "outputId": "76ad5d5f-7782-43f9-e847-2ca07400e87b"
      },
      "outputs": [
        {
          "name": "stderr",
          "output_type": "stream",
          "text": [
            "Test LOSS:0.1906  ACC:0.9568 : 100%|██████████| 33/33 [00:07<00:00,  4.28it/s]"
          ]
        },
        {
          "name": "stdout",
          "output_type": "stream",
          "text": [
            "Elapsed : 0:00:08\n"
          ]
        },
        {
          "name": "stderr",
          "output_type": "stream",
          "text": [
            "\n"
          ]
        }
      ],
      "source": [
        "test(model, test_dataloader);"
      ]
    },
    {
      "cell_type": "markdown",
      "metadata": {
        "id": "Q9IsLW1ewXqK"
      },
      "source": [
        "# New Section"
      ]
    },
    {
      "cell_type": "markdown",
      "metadata": {
        "id": "ld60ENg8wh3r"
      },
      "source": [
        "## Evaluate on test"
      ]
    },
    {
      "cell_type": "code",
      "execution_count": null,
      "metadata": {
        "id": "lzZi9LYcwh30",
        "colab": {
          "base_uri": "https://localhost:8080/"
        },
        "outputId": "9c5679dd-25b6-4e4e-8536-7bf7c69dc030"
      },
      "outputs": [
        {
          "output_type": "stream",
          "name": "stderr",
          "text": [
            "Test LOSS:0.1881  ACC:0.9549 : 100%|██████████| 66/66 [00:09<00:00,  6.71it/s]"
          ]
        },
        {
          "output_type": "stream",
          "name": "stdout",
          "text": [
            "Elapsed : 0:00:10\n"
          ]
        },
        {
          "output_type": "stream",
          "name": "stderr",
          "text": [
            "\n"
          ]
        }
      ],
      "source": [
        "test_loss, test_acc, test_auc_score, list_y_pred, list_y_prob, list_y_true = test(model, test_dataloader)"
      ]
    },
    {
      "cell_type": "code",
      "execution_count": null,
      "metadata": {
        "id": "WZoXJUj_wh30",
        "colab": {
          "base_uri": "https://localhost:8080/"
        },
        "outputId": "5b54d422-ad24-4535-83f1-631a69338b10"
      },
      "outputs": [
        {
          "output_type": "execute_result",
          "data": {
            "text/plain": [
              "array([1.77112582e-07, 1.68012093e-07, 9.99999762e-01, ...,\n",
              "       4.48382991e-07, 2.16317659e-07, 9.99999762e-01])"
            ]
          },
          "metadata": {},
          "execution_count": 76
        }
      ],
      "source": [
        "list_y_prob"
      ]
    },
    {
      "cell_type": "markdown",
      "metadata": {
        "id": "KzMON3FCwh30"
      },
      "source": [
        "## Ukur"
      ]
    },
    {
      "cell_type": "code",
      "execution_count": null,
      "metadata": {
        "colab": {
          "base_uri": "https://localhost:8080/"
        },
        "id": "eoAx_OHnwh31",
        "outputId": "c877869d-e714-4855-c6d9-ef8c6af48d1e"
      },
      "outputs": [
        {
          "output_type": "execute_result",
          "data": {
            "text/plain": [
              "array([[509,  11],\n",
              "       [  4, 517]])"
            ]
          },
          "metadata": {},
          "execution_count": 59
        }
      ],
      "source": [
        "cf_matrix = confusion_matrix(list_y_true, list_y_pred)\n",
        "cf_matrix"
      ]
    },
    {
      "cell_type": "code",
      "execution_count": null,
      "metadata": {
        "colab": {
          "base_uri": "https://localhost:8080/",
          "height": 490
        },
        "id": "VuS_2gOOwh31",
        "outputId": "6dd70163-2054-446c-f3e0-bb5d35cbcaa5"
      },
      "outputs": [
        {
          "output_type": "display_data",
          "data": {
            "text/plain": [
              "<Figure size 640x480 with 0 Axes>"
            ]
          },
          "metadata": {}
        },
        {
          "output_type": "display_data",
          "data": {
            "text/plain": [
              "<Figure size 640x480 with 2 Axes>"
            ],
            "image/png": "[encoded data removed]"
          },
          "metadata": {}
        }
      ],
      "source": [
        "plt.figure(3)\n",
        "cf_matrix = ConfusionMatrixDisplay.from_predictions(list_y_true, list_y_pred, cmap='Blues')\n",
        "plt.title('Confusion Matrix')\n",
        "plt.savefig(graph_path + model_identifier + model_save_name + ' Confusion Matrix.png',dpi=300,bbox_inches='tight')\n",
        "plt.show()"
      ]
    },
    {
      "cell_type": "code",
      "execution_count": null,
      "metadata": {
        "colab": {
          "base_uri": "https://localhost:8080/"
        },
        "id": "jA_z50Hgwh31",
        "outputId": "93e2f906-c5d6-4e64-f393-16be8686bc3c"
      },
      "outputs": [
        {
          "output_type": "stream",
          "name": "stdout",
          "text": [
            "Accuracy: 0.985591\n",
            "AUC: 0.9992\n",
            "MCC: 0.9713\n",
            "Loss: 0.0394\n",
            "Precision: 0.9856 \n",
            "Recall: 0.9857 \n",
            "F1-Score: 0.9856 \n"
          ]
        }
      ],
      "source": [
        "precision, recall, f1_score, support = precision_recall_fscore_support(list_y_pred, list_y_true)\n",
        "mcc_score = matthews_corrcoef(list_y_true, list_y_pred)\n",
        "\n",
        "print(\"Accuracy: %.6f\" % test_acc)\n",
        "print(\"AUC: %.4f\" % test_auc_score)\n",
        "print(\"MCC: %.4f\" % mcc_score)\n",
        "print(\"Loss: %.4f\" % test_loss)\n",
        "print(\"Precision: %.4f \" % np.mean(precision))\n",
        "print(\"Recall: %.4f \" % np.mean(recall))\n",
        "print(\"F1-Score: %.4f \" % np.mean(f1_score))"
      ]
    },
    {
      "cell_type": "code",
      "execution_count": null,
      "metadata": {
        "id": "xEqUMYl3wh31"
      },
      "outputs": [],
      "source": [
        "test_report = {\n",
        "    'test_accuracy': test_acc,\n",
        "    'test_auc_score': test_auc_score,\n",
        "    'test_mcc_score': mcc_score,\n",
        "    'test_loss': test_loss,\n",
        "    'test_precision': np.mean(precision),\n",
        "    'test_recall': np.mean(recall),\n",
        "    'test_f1_score': np.mean(f1_score)\n",
        "    }"
      ]
    },
    {
      "cell_type": "code",
      "execution_count": null,
      "metadata": {
        "id": "RfWY1rpgwh31"
      },
      "outputs": [],
      "source": [
        "df_report = pd.DataFrame(test_report, index=[0])\n",
        "\n",
        "# Define the output file name\n",
        "output_report_file = report_path + model_identifier + model_save_name + ' testing report.csv'\n",
        "\n",
        "# Write the DataFrame to a CSV file\n",
        "df_report.to_csv(output_report_file, index=False)"
      ]
    },
    {
      "cell_type": "code",
      "execution_count": null,
      "metadata": {
        "colab": {
          "base_uri": "https://localhost:8080/"
        },
        "id": "jG78lbfJwh32",
        "outputId": "8879a83c-a5f3-45aa-de4b-d5c475b4f0f2"
      },
      "outputs": [
        {
          "output_type": "stream",
          "name": "stderr",
          "text": [
            "<ipython-input-64-9af280cca4c4>:7: FutureWarning: iteritems is deprecated and will be removed in a future version. Use .items instead.\n",
            "  for index, value in original_test_labels.iteritems():\n",
            "<ipython-input-64-9af280cca4c4>:12: FutureWarning: The frame.append method is deprecated and will be removed from pandas in a future version. Use pandas.concat instead.\n",
            "  df = df.append({\"Index\": index, \"Sentence\": sentence, \"True Label\": true_label, \"Predicted Label\": predicted_label},\n",
            "<ipython-input-64-9af280cca4c4>:12: FutureWarning: The frame.append method is deprecated and will be removed from pandas in a future version. Use pandas.concat instead.\n",
            "  df = df.append({\"Index\": index, \"Sentence\": sentence, \"True Label\": true_label, \"Predicted Label\": predicted_label},\n",
            "<ipython-input-64-9af280cca4c4>:12: FutureWarning: The frame.append method is deprecated and will be removed from pandas in a future version. Use pandas.concat instead.\n",
            "  df = df.append({\"Index\": index, \"Sentence\": sentence, \"True Label\": true_label, \"Predicted Label\": predicted_label},\n",
            "<ipython-input-64-9af280cca4c4>:12: FutureWarning: The frame.append method is deprecated and will be removed from pandas in a future version. Use pandas.concat instead.\n",
            "  df = df.append({\"Index\": index, \"Sentence\": sentence, \"True Label\": true_label, \"Predicted Label\": predicted_label},\n",
            "<ipython-input-64-9af280cca4c4>:12: FutureWarning: The frame.append method is deprecated and will be removed from pandas in a future version. Use pandas.concat instead.\n",
            "  df = df.append({\"Index\": index, \"Sentence\": sentence, \"True Label\": true_label, \"Predicted Label\": predicted_label},\n",
            "<ipython-input-64-9af280cca4c4>:12: FutureWarning: The frame.append method is deprecated and will be removed from pandas in a future version. Use pandas.concat instead.\n",
            "  df = df.append({\"Index\": index, \"Sentence\": sentence, \"True Label\": true_label, \"Predicted Label\": predicted_label},\n",
            "<ipython-input-64-9af280cca4c4>:12: FutureWarning: The frame.append method is deprecated and will be removed from pandas in a future version. Use pandas.concat instead.\n",
            "  df = df.append({\"Index\": index, \"Sentence\": sentence, \"True Label\": true_label, \"Predicted Label\": predicted_label},\n",
            "<ipython-input-64-9af280cca4c4>:12: FutureWarning: The frame.append method is deprecated and will be removed from pandas in a future version. Use pandas.concat instead.\n",
            "  df = df.append({\"Index\": index, \"Sentence\": sentence, \"True Label\": true_label, \"Predicted Label\": predicted_label},\n",
            "<ipython-input-64-9af280cca4c4>:12: FutureWarning: The frame.append method is deprecated and will be removed from pandas in a future version. Use pandas.concat instead.\n",
            "  df = df.append({\"Index\": index, \"Sentence\": sentence, \"True Label\": true_label, \"Predicted Label\": predicted_label},\n",
            "<ipython-input-64-9af280cca4c4>:12: FutureWarning: The frame.append method is deprecated and will be removed from pandas in a future version. Use pandas.concat instead.\n",
            "  df = df.append({\"Index\": index, \"Sentence\": sentence, \"True Label\": true_label, \"Predicted Label\": predicted_label},\n",
            "<ipython-input-64-9af280cca4c4>:12: FutureWarning: The frame.append method is deprecated and will be removed from pandas in a future version. Use pandas.concat instead.\n",
            "  df = df.append({\"Index\": index, \"Sentence\": sentence, \"True Label\": true_label, \"Predicted Label\": predicted_label},\n",
            "<ipython-input-64-9af280cca4c4>:12: FutureWarning: The frame.append method is deprecated and will be removed from pandas in a future version. Use pandas.concat instead.\n",
            "  df = df.append({\"Index\": index, \"Sentence\": sentence, \"True Label\": true_label, \"Predicted Label\": predicted_label},\n",
            "<ipython-input-64-9af280cca4c4>:12: FutureWarning: The frame.append method is deprecated and will be removed from pandas in a future version. Use pandas.concat instead.\n",
            "  df = df.append({\"Index\": index, \"Sentence\": sentence, \"True Label\": true_label, \"Predicted Label\": predicted_label},\n",
            "<ipython-input-64-9af280cca4c4>:12: FutureWarning: The frame.append method is deprecated and will be removed from pandas in a future version. Use pandas.concat instead.\n",
            "  df = df.append({\"Index\": index, \"Sentence\": sentence, \"True Label\": true_label, \"Predicted Label\": predicted_label},\n",
            "<ipython-input-64-9af280cca4c4>:12: FutureWarning: The frame.append method is deprecated and will be removed from pandas in a future version. Use pandas.concat instead.\n",
            "  df = df.append({\"Index\": index, \"Sentence\": sentence, \"True Label\": true_label, \"Predicted Label\": predicted_label},\n"
          ]
        },
        {
          "output_type": "stream",
          "name": "stdout",
          "text": [
            "True Label: 0 | Predicted Label: 1\n",
            "index: 8122\n",
            "Sentence: tolong developer diperbaiki lagi bug nya kalau bisa dikasih unlimited money biar bisa isi minyak bbm sepuasnya tanpa bayar \n",
            "\n",
            "True Label: 0 | Predicted Label: 1\n",
            "index: 7294\n",
            "Sentence: informasi yang di berikan cukup mudah cara membacanya dan untuk metode pembayarannya cukup mudah \n",
            "\n",
            "True Label: 0 | Predicted Label: 1\n",
            "index: 2268\n",
            "Sentence: sudah ok tapi masih ada kendala pada spbu yang kadang masih belum menerima pembayaran melalui aplikasi ini dengan alasan masih error \n",
            "\n",
            "True Label: 1 | Predicted Label: 0\n",
            "index: 9467\n",
            "Sentence: lemot enggak guna \n",
            "\n",
            "True Label: 0 | Predicted Label: 1\n",
            "index: 6396\n",
            "Sentence: saya kasih bintang dulu semoga di acc langsung baru nanti dikasih bintang setelah di acc semoga ini aplikasi yang tidak ribet dan mudah dalam pencairan ketika semua data kita sudah isi dengan baik dan benar terimakasih untuk perhatiannya \n",
            "\n",
            "True Label: 0 | Predicted Label: 1\n",
            "index: 9068\n",
            "Sentence: pokok enggak lemot waktu scan struk \n",
            "\n",
            "True Label: 1 | Predicted Label: 0\n",
            "index: 9164\n",
            "Sentence: pernikahan saja lama pak bikin orang sehat jadi sakit \n",
            "\n",
            "True Label: 1 | Predicted Label: 0\n",
            "index: 5446\n",
            "Sentence: sebenarnya bagus aplikasinya tapi sayang nya sering gangguan \n",
            "\n",
            "True Label: 0 | Predicted Label: 1\n",
            "index: 6334\n",
            "Sentence: sangat merepotkan rakyat beli bbm suruh pakai pertamanya tapi daftarnya sulit setengah mati daftar dari tanggal juli bolak balik di update enggak bisa di konfirmasi saja mohon di permudah pendaftaran nya terimakasih \n",
            "\n",
            "True Label: 0 | Predicted Label: 1\n",
            "index: 8533\n",
            "Sentence: pada saat dibuka saat pembayaran kurang nyaman takut meledak di pom sayang mobilnya \n",
            "\n",
            "True Label: 0 | Predicted Label: 1\n",
            "index: 3959\n",
            "Sentence: just info mypertamina rupanya aplikasi ini terintegrasi dengan aplikasi linkaja jadi untuk transaksi beli bbm karena penasaran saya coba isi transfer dana ke aplikasi tersebut seadanya di situ tertera biaya admin rp jutaan mengomentari pasti akan top up dana ke linkaja bisa beberapa hari sekali dengan jumlah kendaraan mobil dan motor di indonesia tahun ini sebanyak juta akhlak yang beli bbm bersubsidi hanya berarti juta maka sebanyak juta kali rp rp milyar wow \n",
            "\n",
            "True Label: 0 | Predicted Label: 1\n",
            "index: 7114\n",
            "Sentence: aplikasi yang bantu jadi lebih mudah ada kupon sama diskon di namanya sama bisa bayar langsung diaplikasi \n",
            "\n",
            "True Label: 1 | Predicted Label: 0\n",
            "index: 2489\n",
            "Sentence: apk nya jelek terkesan di paksakan pas saya buka kadang suka fc \n",
            "\n",
            "True Label: 0 | Predicted Label: 1\n",
            "index: 2030\n",
            "Sentence: mau bayar pakai aplikasi selalu ditolak oleh spbu alasannya sistem error terus \n",
            "\n",
            "True Label: 0 | Predicted Label: 1\n",
            "index: 6857\n",
            "Sentence: aplikasinya untuk via pendaftaran masih mudah tapi untuk kedepannya penggunaan scan bayar belum dipastikan \n",
            "\n"
          ]
        }
      ],
      "source": [
        "# print the wrong predicted label\n",
        "\n",
        "# Create a DataFrame to store the results\n",
        "df = pd.DataFrame(columns=[\"Index\", \"Sentence\", \"True Label\", \"Predicted Label\"])\n",
        "\n",
        "i=0\n",
        "for index, value in original_test_labels.iteritems():\n",
        "  if value != list_y_pred[i]:\n",
        "    true_label = value\n",
        "    predicted_label = list_y_pred[i]\n",
        "    sentence = text[index]\n",
        "    df = df.append({\"Index\": index, \"Sentence\": sentence, \"True Label\": true_label, \"Predicted Label\": predicted_label},\n",
        "                       ignore_index=True)\n",
        "    print('True Label:', true_label, '|', 'Predicted Label:', predicted_label)\n",
        "    print('index:', index)\n",
        "    print('Sentence:', sentence, '\\n')\n",
        "  i=i+1\n",
        "\n",
        "# Define the output file name\n",
        "output_report_file = report_path + model_identifier + model_save_name + ' wrong predictions report.csv'\n",
        "\n",
        "# Write the DataFrame to a CSV file\n",
        "df.to_csv(output_report_file, index=False)"
      ]
    },
    {
      "cell_type": "code",
      "execution_count": null,
      "metadata": {
        "colab": {
          "base_uri": "https://localhost:8080/"
        },
        "id": "fOMmVeknZbX8",
        "outputId": "dd24a441-5077-4185-ece5-424ef785eced"
      },
      "outputs": [
        {
          "output_type": "stream",
          "name": "stderr",
          "text": [
            "<ipython-input-65-7534fcb2f2a3>:7: FutureWarning: iteritems is deprecated and will be removed in a future version. Use .items instead.\n",
            "  for index, value in original_test_labels.iteritems():\n",
            "<ipython-input-65-7534fcb2f2a3>:11: FutureWarning: The frame.append method is deprecated and will be removed from pandas in a future version. Use pandas.concat instead.\n",
            "  df = df.append({\"Index\": index, \"Sentence\": sentence, \"True Label\": true_label, \"Predicted Label\": predicted_label},\n",
            "<ipython-input-65-7534fcb2f2a3>:11: FutureWarning: The frame.append method is deprecated and will be removed from pandas in a future version. Use pandas.concat instead.\n",
            "  df = df.append({\"Index\": index, \"Sentence\": sentence, \"True Label\": true_label, \"Predicted Label\": predicted_label},\n",
            "<ipython-input-65-7534fcb2f2a3>:11: FutureWarning: The frame.append method is deprecated and will be removed from pandas in a future version. Use pandas.concat instead.\n",
            "  df = df.append({\"Index\": index, \"Sentence\": sentence, \"True Label\": true_label, \"Predicted Label\": predicted_label},\n",
            "<ipython-input-65-7534fcb2f2a3>:11: FutureWarning: The frame.append method is deprecated and will be removed from pandas in a future version. Use pandas.concat instead.\n",
            "  df = df.append({\"Index\": index, \"Sentence\": sentence, \"True Label\": true_label, \"Predicted Label\": predicted_label},\n",
            "<ipython-input-65-7534fcb2f2a3>:11: FutureWarning: The frame.append method is deprecated and will be removed from pandas in a future version. Use pandas.concat instead.\n",
            "  df = df.append({\"Index\": index, \"Sentence\": sentence, \"True Label\": true_label, \"Predicted Label\": predicted_label},\n",
            "<ipython-input-65-7534fcb2f2a3>:11: FutureWarning: The frame.append method is deprecated and will be removed from pandas in a future version. Use pandas.concat instead.\n",
            "  df = df.append({\"Index\": index, \"Sentence\": sentence, \"True Label\": true_label, \"Predicted Label\": predicted_label},\n",
            "<ipython-input-65-7534fcb2f2a3>:11: FutureWarning: The frame.append method is deprecated and will be removed from pandas in a future version. Use pandas.concat instead.\n",
            "  df = df.append({\"Index\": index, \"Sentence\": sentence, \"True Label\": true_label, \"Predicted Label\": predicted_label},\n",
            "<ipython-input-65-7534fcb2f2a3>:11: FutureWarning: The frame.append method is deprecated and will be removed from pandas in a future version. Use pandas.concat instead.\n",
            "  df = df.append({\"Index\": index, \"Sentence\": sentence, \"True Label\": true_label, \"Predicted Label\": predicted_label},\n",
            "<ipython-input-65-7534fcb2f2a3>:11: FutureWarning: The frame.append method is deprecated and will be removed from pandas in a future version. Use pandas.concat instead.\n",
            "  df = df.append({\"Index\": index, \"Sentence\": sentence, \"True Label\": true_label, \"Predicted Label\": predicted_label},\n",
            "<ipython-input-65-7534fcb2f2a3>:11: FutureWarning: The frame.append method is deprecated and will be removed from pandas in a future version. Use pandas.concat instead.\n",
            "  df = df.append({\"Index\": index, \"Sentence\": sentence, \"True Label\": true_label, \"Predicted Label\": predicted_label},\n",
            "<ipython-input-65-7534fcb2f2a3>:11: FutureWarning: The frame.append method is deprecated and will be removed from pandas in a future version. Use pandas.concat instead.\n",
            "  df = df.append({\"Index\": index, \"Sentence\": sentence, \"True Label\": true_label, \"Predicted Label\": predicted_label},\n",
            "<ipython-input-65-7534fcb2f2a3>:11: FutureWarning: The frame.append method is deprecated and will be removed from pandas in a future version. Use pandas.concat instead.\n",
            "  df = df.append({\"Index\": index, \"Sentence\": sentence, \"True Label\": true_label, \"Predicted Label\": predicted_label},\n",
            "<ipython-input-65-7534fcb2f2a3>:11: FutureWarning: The frame.append method is deprecated and will be removed from pandas in a future version. Use pandas.concat instead.\n",
            "  df = df.append({\"Index\": index, \"Sentence\": sentence, \"True Label\": true_label, \"Predicted Label\": predicted_label},\n",
            "<ipython-input-65-7534fcb2f2a3>:11: FutureWarning: The frame.append method is deprecated and will be removed from pandas in a future version. Use pandas.concat instead.\n",
            "  df = df.append({\"Index\": index, \"Sentence\": sentence, \"True Label\": true_label, \"Predicted Label\": predicted_label},\n",
            "<ipython-input-65-7534fcb2f2a3>:11: FutureWarning: The frame.append method is deprecated and will be removed from pandas in a future version. Use pandas.concat instead.\n",
            "  df = df.append({\"Index\": index, \"Sentence\": sentence, \"True Label\": true_label, \"Predicted Label\": predicted_label},\n",
            "<ipython-input-65-7534fcb2f2a3>:11: FutureWarning: The frame.append method is deprecated and will be removed from pandas in a future version. Use pandas.concat instead.\n",
            "  df = df.append({\"Index\": index, \"Sentence\": sentence, \"True Label\": true_label, \"Predicted Label\": predicted_label},\n",
            "<ipython-input-65-7534fcb2f2a3>:11: FutureWarning: The frame.append method is deprecated and will be removed from pandas in a future version. Use pandas.concat instead.\n",
            "  df = df.append({\"Index\": index, \"Sentence\": sentence, \"True Label\": true_label, \"Predicted Label\": predicted_label},\n",
            "<ipython-input-65-7534fcb2f2a3>:11: FutureWarning: The frame.append method is deprecated and will be removed from pandas in a future version. Use pandas.concat instead.\n",
            "  df = df.append({\"Index\": index, \"Sentence\": sentence, \"True Label\": true_label, \"Predicted Label\": predicted_label},\n",
            "<ipython-input-65-7534fcb2f2a3>:11: FutureWarning: The frame.append method is deprecated and will be removed from pandas in a future version. Use pandas.concat instead.\n",
            "  df = df.append({\"Index\": index, \"Sentence\": sentence, \"True Label\": true_label, \"Predicted Label\": predicted_label},\n",
            "<ipython-input-65-7534fcb2f2a3>:11: FutureWarning: The frame.append method is deprecated and will be removed from pandas in a future version. Use pandas.concat instead.\n",
            "  df = df.append({\"Index\": index, \"Sentence\": sentence, \"True Label\": true_label, \"Predicted Label\": predicted_label},\n",
            "<ipython-input-65-7534fcb2f2a3>:11: FutureWarning: The frame.append method is deprecated and will be removed from pandas in a future version. Use pandas.concat instead.\n",
            "  df = df.append({\"Index\": index, \"Sentence\": sentence, \"True Label\": true_label, \"Predicted Label\": predicted_label},\n",
            "<ipython-input-65-7534fcb2f2a3>:11: FutureWarning: The frame.append method is deprecated and will be removed from pandas in a future version. Use pandas.concat instead.\n",
            "  df = df.append({\"Index\": index, \"Sentence\": sentence, \"True Label\": true_label, \"Predicted Label\": predicted_label},\n",
            "<ipython-input-65-7534fcb2f2a3>:11: FutureWarning: The frame.append method is deprecated and will be removed from pandas in a future version. Use pandas.concat instead.\n",
            "  df = df.append({\"Index\": index, \"Sentence\": sentence, \"True Label\": true_label, \"Predicted Label\": predicted_label},\n",
            "<ipython-input-65-7534fcb2f2a3>:11: FutureWarning: The frame.append method is deprecated and will be removed from pandas in a future version. Use pandas.concat instead.\n",
            "  df = df.append({\"Index\": index, \"Sentence\": sentence, \"True Label\": true_label, \"Predicted Label\": predicted_label},\n",
            "<ipython-input-65-7534fcb2f2a3>:11: FutureWarning: The frame.append method is deprecated and will be removed from pandas in a future version. Use pandas.concat instead.\n",
            "  df = df.append({\"Index\": index, \"Sentence\": sentence, \"True Label\": true_label, \"Predicted Label\": predicted_label},\n",
            "<ipython-input-65-7534fcb2f2a3>:11: FutureWarning: The frame.append method is deprecated and will be removed from pandas in a future version. Use pandas.concat instead.\n",
            "  df = df.append({\"Index\": index, \"Sentence\": sentence, \"True Label\": true_label, \"Predicted Label\": predicted_label},\n",
            "<ipython-input-65-7534fcb2f2a3>:11: FutureWarning: The frame.append method is deprecated and will be removed from pandas in a future version. Use pandas.concat instead.\n",
            "  df = df.append({\"Index\": index, \"Sentence\": sentence, \"True Label\": true_label, \"Predicted Label\": predicted_label},\n",
            "<ipython-input-65-7534fcb2f2a3>:11: FutureWarning: The frame.append method is deprecated and will be removed from pandas in a future version. Use pandas.concat instead.\n",
            "  df = df.append({\"Index\": index, \"Sentence\": sentence, \"True Label\": true_label, \"Predicted Label\": predicted_label},\n",
            "<ipython-input-65-7534fcb2f2a3>:11: FutureWarning: The frame.append method is deprecated and will be removed from pandas in a future version. Use pandas.concat instead.\n",
            "  df = df.append({\"Index\": index, \"Sentence\": sentence, \"True Label\": true_label, \"Predicted Label\": predicted_label},\n",
            "<ipython-input-65-7534fcb2f2a3>:11: FutureWarning: The frame.append method is deprecated and will be removed from pandas in a future version. Use pandas.concat instead.\n",
            "  df = df.append({\"Index\": index, \"Sentence\": sentence, \"True Label\": true_label, \"Predicted Label\": predicted_label},\n",
            "<ipython-input-65-7534fcb2f2a3>:11: FutureWarning: The frame.append method is deprecated and will be removed from pandas in a future version. Use pandas.concat instead.\n",
            "  df = df.append({\"Index\": index, \"Sentence\": sentence, \"True Label\": true_label, \"Predicted Label\": predicted_label},\n",
            "<ipython-input-65-7534fcb2f2a3>:11: FutureWarning: The frame.append method is deprecated and will be removed from pandas in a future version. Use pandas.concat instead.\n",
            "  df = df.append({\"Index\": index, \"Sentence\": sentence, \"True Label\": true_label, \"Predicted Label\": predicted_label},\n",
            "<ipython-input-65-7534fcb2f2a3>:11: FutureWarning: The frame.append method is deprecated and will be removed from pandas in a future version. Use pandas.concat instead.\n",
            "  df = df.append({\"Index\": index, \"Sentence\": sentence, \"True Label\": true_label, \"Predicted Label\": predicted_label},\n",
            "<ipython-input-65-7534fcb2f2a3>:11: FutureWarning: The frame.append method is deprecated and will be removed from pandas in a future version. Use pandas.concat instead.\n",
            "  df = df.append({\"Index\": index, \"Sentence\": sentence, \"True Label\": true_label, \"Predicted Label\": predicted_label},\n",
            "<ipython-input-65-7534fcb2f2a3>:11: FutureWarning: The frame.append method is deprecated and will be removed from pandas in a future version. Use pandas.concat instead.\n",
            "  df = df.append({\"Index\": index, \"Sentence\": sentence, \"True Label\": true_label, \"Predicted Label\": predicted_label},\n",
            "<ipython-input-65-7534fcb2f2a3>:11: FutureWarning: The frame.append method is deprecated and will be removed from pandas in a future version. Use pandas.concat instead.\n",
            "  df = df.append({\"Index\": index, \"Sentence\": sentence, \"True Label\": true_label, \"Predicted Label\": predicted_label},\n",
            "<ipython-input-65-7534fcb2f2a3>:11: FutureWarning: The frame.append method is deprecated and will be removed from pandas in a future version. Use pandas.concat instead.\n",
            "  df = df.append({\"Index\": index, \"Sentence\": sentence, \"True Label\": true_label, \"Predicted Label\": predicted_label},\n",
            "<ipython-input-65-7534fcb2f2a3>:11: FutureWarning: The frame.append method is deprecated and will be removed from pandas in a future version. Use pandas.concat instead.\n",
            "  df = df.append({\"Index\": index, \"Sentence\": sentence, \"True Label\": true_label, \"Predicted Label\": predicted_label},\n",
            "<ipython-input-65-7534fcb2f2a3>:11: FutureWarning: The frame.append method is deprecated and will be removed from pandas in a future version. Use pandas.concat instead.\n",
            "  df = df.append({\"Index\": index, \"Sentence\": sentence, \"True Label\": true_label, \"Predicted Label\": predicted_label},\n",
            "<ipython-input-65-7534fcb2f2a3>:11: FutureWarning: The frame.append method is deprecated and will be removed from pandas in a future version. Use pandas.concat instead.\n",
            "  df = df.append({\"Index\": index, \"Sentence\": sentence, \"True Label\": true_label, \"Predicted Label\": predicted_label},\n",
            "<ipython-input-65-7534fcb2f2a3>:11: FutureWarning: The frame.append method is deprecated and will be removed from pandas in a future version. Use pandas.concat instead.\n",
            "  df = df.append({\"Index\": index, \"Sentence\": sentence, \"True Label\": true_label, \"Predicted Label\": predicted_label},\n",
            "<ipython-input-65-7534fcb2f2a3>:11: FutureWarning: The frame.append method is deprecated and will be removed from pandas in a future version. Use pandas.concat instead.\n",
            "  df = df.append({\"Index\": index, \"Sentence\": sentence, \"True Label\": true_label, \"Predicted Label\": predicted_label},\n",
            "<ipython-input-65-7534fcb2f2a3>:11: FutureWarning: The frame.append method is deprecated and will be removed from pandas in a future version. Use pandas.concat instead.\n",
            "  df = df.append({\"Index\": index, \"Sentence\": sentence, \"True Label\": true_label, \"Predicted Label\": predicted_label},\n",
            "<ipython-input-65-7534fcb2f2a3>:11: FutureWarning: The frame.append method is deprecated and will be removed from pandas in a future version. Use pandas.concat instead.\n",
            "  df = df.append({\"Index\": index, \"Sentence\": sentence, \"True Label\": true_label, \"Predicted Label\": predicted_label},\n",
            "<ipython-input-65-7534fcb2f2a3>:11: FutureWarning: The frame.append method is deprecated and will be removed from pandas in a future version. Use pandas.concat instead.\n",
            "  df = df.append({\"Index\": index, \"Sentence\": sentence, \"True Label\": true_label, \"Predicted Label\": predicted_label},\n",
            "<ipython-input-65-7534fcb2f2a3>:11: FutureWarning: The frame.append method is deprecated and will be removed from pandas in a future version. Use pandas.concat instead.\n",
            "  df = df.append({\"Index\": index, \"Sentence\": sentence, \"True Label\": true_label, \"Predicted Label\": predicted_label},\n",
            "<ipython-input-65-7534fcb2f2a3>:11: FutureWarning: The frame.append method is deprecated and will be removed from pandas in a future version. Use pandas.concat instead.\n",
            "  df = df.append({\"Index\": index, \"Sentence\": sentence, \"True Label\": true_label, \"Predicted Label\": predicted_label},\n",
            "<ipython-input-65-7534fcb2f2a3>:11: FutureWarning: The frame.append method is deprecated and will be removed from pandas in a future version. Use pandas.concat instead.\n",
            "  df = df.append({\"Index\": index, \"Sentence\": sentence, \"True Label\": true_label, \"Predicted Label\": predicted_label},\n",
            "<ipython-input-65-7534fcb2f2a3>:11: FutureWarning: The frame.append method is deprecated and will be removed from pandas in a future version. Use pandas.concat instead.\n",
            "  df = df.append({\"Index\": index, \"Sentence\": sentence, \"True Label\": true_label, \"Predicted Label\": predicted_label},\n",
            "<ipython-input-65-7534fcb2f2a3>:11: FutureWarning: The frame.append method is deprecated and will be removed from pandas in a future version. Use pandas.concat instead.\n",
            "  df = df.append({\"Index\": index, \"Sentence\": sentence, \"True Label\": true_label, \"Predicted Label\": predicted_label},\n",
            "<ipython-input-65-7534fcb2f2a3>:11: FutureWarning: The frame.append method is deprecated and will be removed from pandas in a future version. Use pandas.concat instead.\n",
            "  df = df.append({\"Index\": index, \"Sentence\": sentence, \"True Label\": true_label, \"Predicted Label\": predicted_label},\n",
            "<ipython-input-65-7534fcb2f2a3>:11: FutureWarning: The frame.append method is deprecated and will be removed from pandas in a future version. Use pandas.concat instead.\n",
            "  df = df.append({\"Index\": index, \"Sentence\": sentence, \"True Label\": true_label, \"Predicted Label\": predicted_label},\n",
            "<ipython-input-65-7534fcb2f2a3>:11: FutureWarning: The frame.append method is deprecated and will be removed from pandas in a future version. Use pandas.concat instead.\n",
            "  df = df.append({\"Index\": index, \"Sentence\": sentence, \"True Label\": true_label, \"Predicted Label\": predicted_label},\n",
            "<ipython-input-65-7534fcb2f2a3>:11: FutureWarning: The frame.append method is deprecated and will be removed from pandas in a future version. Use pandas.concat instead.\n",
            "  df = df.append({\"Index\": index, \"Sentence\": sentence, \"True Label\": true_label, \"Predicted Label\": predicted_label},\n",
            "<ipython-input-65-7534fcb2f2a3>:11: FutureWarning: The frame.append method is deprecated and will be removed from pandas in a future version. Use pandas.concat instead.\n",
            "  df = df.append({\"Index\": index, \"Sentence\": sentence, \"True Label\": true_label, \"Predicted Label\": predicted_label},\n",
            "<ipython-input-65-7534fcb2f2a3>:11: FutureWarning: The frame.append method is deprecated and will be removed from pandas in a future version. Use pandas.concat instead.\n",
            "  df = df.append({\"Index\": index, \"Sentence\": sentence, \"True Label\": true_label, \"Predicted Label\": predicted_label},\n",
            "<ipython-input-65-7534fcb2f2a3>:11: FutureWarning: The frame.append method is deprecated and will be removed from pandas in a future version. Use pandas.concat instead.\n",
            "  df = df.append({\"Index\": index, \"Sentence\": sentence, \"True Label\": true_label, \"Predicted Label\": predicted_label},\n",
            "<ipython-input-65-7534fcb2f2a3>:11: FutureWarning: The frame.append method is deprecated and will be removed from pandas in a future version. Use pandas.concat instead.\n",
            "  df = df.append({\"Index\": index, \"Sentence\": sentence, \"True Label\": true_label, \"Predicted Label\": predicted_label},\n",
            "<ipython-input-65-7534fcb2f2a3>:11: FutureWarning: The frame.append method is deprecated and will be removed from pandas in a future version. Use pandas.concat instead.\n",
            "  df = df.append({\"Index\": index, \"Sentence\": sentence, \"True Label\": true_label, \"Predicted Label\": predicted_label},\n",
            "<ipython-input-65-7534fcb2f2a3>:11: FutureWarning: The frame.append method is deprecated and will be removed from pandas in a future version. Use pandas.concat instead.\n",
            "  df = df.append({\"Index\": index, \"Sentence\": sentence, \"True Label\": true_label, \"Predicted Label\": predicted_label},\n",
            "<ipython-input-65-7534fcb2f2a3>:11: FutureWarning: The frame.append method is deprecated and will be removed from pandas in a future version. Use pandas.concat instead.\n",
            "  df = df.append({\"Index\": index, \"Sentence\": sentence, \"True Label\": true_label, \"Predicted Label\": predicted_label},\n",
            "<ipython-input-65-7534fcb2f2a3>:11: FutureWarning: The frame.append method is deprecated and will be removed from pandas in a future version. Use pandas.concat instead.\n",
            "  df = df.append({\"Index\": index, \"Sentence\": sentence, \"True Label\": true_label, \"Predicted Label\": predicted_label},\n",
            "<ipython-input-65-7534fcb2f2a3>:11: FutureWarning: The frame.append method is deprecated and will be removed from pandas in a future version. Use pandas.concat instead.\n",
            "  df = df.append({\"Index\": index, \"Sentence\": sentence, \"True Label\": true_label, \"Predicted Label\": predicted_label},\n",
            "<ipython-input-65-7534fcb2f2a3>:11: FutureWarning: The frame.append method is deprecated and will be removed from pandas in a future version. Use pandas.concat instead.\n",
            "  df = df.append({\"Index\": index, \"Sentence\": sentence, \"True Label\": true_label, \"Predicted Label\": predicted_label},\n",
            "<ipython-input-65-7534fcb2f2a3>:11: FutureWarning: The frame.append method is deprecated and will be removed from pandas in a future version. Use pandas.concat instead.\n",
            "  df = df.append({\"Index\": index, \"Sentence\": sentence, \"True Label\": true_label, \"Predicted Label\": predicted_label},\n",
            "<ipython-input-65-7534fcb2f2a3>:11: FutureWarning: The frame.append method is deprecated and will be removed from pandas in a future version. Use pandas.concat instead.\n",
            "  df = df.append({\"Index\": index, \"Sentence\": sentence, \"True Label\": true_label, \"Predicted Label\": predicted_label},\n",
            "<ipython-input-65-7534fcb2f2a3>:11: FutureWarning: The frame.append method is deprecated and will be removed from pandas in a future version. Use pandas.concat instead.\n",
            "  df = df.append({\"Index\": index, \"Sentence\": sentence, \"True Label\": true_label, \"Predicted Label\": predicted_label},\n",
            "<ipython-input-65-7534fcb2f2a3>:11: FutureWarning: The frame.append method is deprecated and will be removed from pandas in a future version. Use pandas.concat instead.\n",
            "  df = df.append({\"Index\": index, \"Sentence\": sentence, \"True Label\": true_label, \"Predicted Label\": predicted_label},\n",
            "<ipython-input-65-7534fcb2f2a3>:11: FutureWarning: The frame.append method is deprecated and will be removed from pandas in a future version. Use pandas.concat instead.\n",
            "  df = df.append({\"Index\": index, \"Sentence\": sentence, \"True Label\": true_label, \"Predicted Label\": predicted_label},\n",
            "<ipython-input-65-7534fcb2f2a3>:11: FutureWarning: The frame.append method is deprecated and will be removed from pandas in a future version. Use pandas.concat instead.\n",
            "  df = df.append({\"Index\": index, \"Sentence\": sentence, \"True Label\": true_label, \"Predicted Label\": predicted_label},\n",
            "<ipython-input-65-7534fcb2f2a3>:11: FutureWarning: The frame.append method is deprecated and will be removed from pandas in a future version. Use pandas.concat instead.\n",
            "  df = df.append({\"Index\": index, \"Sentence\": sentence, \"True Label\": true_label, \"Predicted Label\": predicted_label},\n",
            "<ipython-input-65-7534fcb2f2a3>:11: FutureWarning: The frame.append method is deprecated and will be removed from pandas in a future version. Use pandas.concat instead.\n",
            "  df = df.append({\"Index\": index, \"Sentence\": sentence, \"True Label\": true_label, \"Predicted Label\": predicted_label},\n",
            "<ipython-input-65-7534fcb2f2a3>:11: FutureWarning: The frame.append method is deprecated and will be removed from pandas in a future version. Use pandas.concat instead.\n",
            "  df = df.append({\"Index\": index, \"Sentence\": sentence, \"True Label\": true_label, \"Predicted Label\": predicted_label},\n",
            "<ipython-input-65-7534fcb2f2a3>:11: FutureWarning: The frame.append method is deprecated and will be removed from pandas in a future version. Use pandas.concat instead.\n",
            "  df = df.append({\"Index\": index, \"Sentence\": sentence, \"True Label\": true_label, \"Predicted Label\": predicted_label},\n",
            "<ipython-input-65-7534fcb2f2a3>:11: FutureWarning: The frame.append method is deprecated and will be removed from pandas in a future version. Use pandas.concat instead.\n",
            "  df = df.append({\"Index\": index, \"Sentence\": sentence, \"True Label\": true_label, \"Predicted Label\": predicted_label},\n",
            "<ipython-input-65-7534fcb2f2a3>:11: FutureWarning: The frame.append method is deprecated and will be removed from pandas in a future version. Use pandas.concat instead.\n",
            "  df = df.append({\"Index\": index, \"Sentence\": sentence, \"True Label\": true_label, \"Predicted Label\": predicted_label},\n",
            "<ipython-input-65-7534fcb2f2a3>:11: FutureWarning: The frame.append method is deprecated and will be removed from pandas in a future version. Use pandas.concat instead.\n",
            "  df = df.append({\"Index\": index, \"Sentence\": sentence, \"True Label\": true_label, \"Predicted Label\": predicted_label},\n",
            "<ipython-input-65-7534fcb2f2a3>:11: FutureWarning: The frame.append method is deprecated and will be removed from pandas in a future version. Use pandas.concat instead.\n",
            "  df = df.append({\"Index\": index, \"Sentence\": sentence, \"True Label\": true_label, \"Predicted Label\": predicted_label},\n",
            "<ipython-input-65-7534fcb2f2a3>:11: FutureWarning: The frame.append method is deprecated and will be removed from pandas in a future version. Use pandas.concat instead.\n",
            "  df = df.append({\"Index\": index, \"Sentence\": sentence, \"True Label\": true_label, \"Predicted Label\": predicted_label},\n",
            "<ipython-input-65-7534fcb2f2a3>:11: FutureWarning: The frame.append method is deprecated and will be removed from pandas in a future version. Use pandas.concat instead.\n",
            "  df = df.append({\"Index\": index, \"Sentence\": sentence, \"True Label\": true_label, \"Predicted Label\": predicted_label},\n",
            "<ipython-input-65-7534fcb2f2a3>:11: FutureWarning: The frame.append method is deprecated and will be removed from pandas in a future version. Use pandas.concat instead.\n",
            "  df = df.append({\"Index\": index, \"Sentence\": sentence, \"True Label\": true_label, \"Predicted Label\": predicted_label},\n",
            "<ipython-input-65-7534fcb2f2a3>:11: FutureWarning: The frame.append method is deprecated and will be removed from pandas in a future version. Use pandas.concat instead.\n",
            "  df = df.append({\"Index\": index, \"Sentence\": sentence, \"True Label\": true_label, \"Predicted Label\": predicted_label},\n",
            "<ipython-input-65-7534fcb2f2a3>:11: FutureWarning: The frame.append method is deprecated and will be removed from pandas in a future version. Use pandas.concat instead.\n",
            "  df = df.append({\"Index\": index, \"Sentence\": sentence, \"True Label\": true_label, \"Predicted Label\": predicted_label},\n",
            "<ipython-input-65-7534fcb2f2a3>:11: FutureWarning: The frame.append method is deprecated and will be removed from pandas in a future version. Use pandas.concat instead.\n",
            "  df = df.append({\"Index\": index, \"Sentence\": sentence, \"True Label\": true_label, \"Predicted Label\": predicted_label},\n",
            "<ipython-input-65-7534fcb2f2a3>:11: FutureWarning: The frame.append method is deprecated and will be removed from pandas in a future version. Use pandas.concat instead.\n",
            "  df = df.append({\"Index\": index, \"Sentence\": sentence, \"True Label\": true_label, \"Predicted Label\": predicted_label},\n",
            "<ipython-input-65-7534fcb2f2a3>:11: FutureWarning: The frame.append method is deprecated and will be removed from pandas in a future version. Use pandas.concat instead.\n",
            "  df = df.append({\"Index\": index, \"Sentence\": sentence, \"True Label\": true_label, \"Predicted Label\": predicted_label},\n",
            "<ipython-input-65-7534fcb2f2a3>:11: FutureWarning: The frame.append method is deprecated and will be removed from pandas in a future version. Use pandas.concat instead.\n",
            "  df = df.append({\"Index\": index, \"Sentence\": sentence, \"True Label\": true_label, \"Predicted Label\": predicted_label},\n",
            "<ipython-input-65-7534fcb2f2a3>:11: FutureWarning: The frame.append method is deprecated and will be removed from pandas in a future version. Use pandas.concat instead.\n",
            "  df = df.append({\"Index\": index, \"Sentence\": sentence, \"True Label\": true_label, \"Predicted Label\": predicted_label},\n",
            "<ipython-input-65-7534fcb2f2a3>:11: FutureWarning: The frame.append method is deprecated and will be removed from pandas in a future version. Use pandas.concat instead.\n",
            "  df = df.append({\"Index\": index, \"Sentence\": sentence, \"True Label\": true_label, \"Predicted Label\": predicted_label},\n",
            "<ipython-input-65-7534fcb2f2a3>:11: FutureWarning: The frame.append method is deprecated and will be removed from pandas in a future version. Use pandas.concat instead.\n",
            "  df = df.append({\"Index\": index, \"Sentence\": sentence, \"True Label\": true_label, \"Predicted Label\": predicted_label},\n",
            "<ipython-input-65-7534fcb2f2a3>:11: FutureWarning: The frame.append method is deprecated and will be removed from pandas in a future version. Use pandas.concat instead.\n",
            "  df = df.append({\"Index\": index, \"Sentence\": sentence, \"True Label\": true_label, \"Predicted Label\": predicted_label},\n",
            "<ipython-input-65-7534fcb2f2a3>:11: FutureWarning: The frame.append method is deprecated and will be removed from pandas in a future version. Use pandas.concat instead.\n",
            "  df = df.append({\"Index\": index, \"Sentence\": sentence, \"True Label\": true_label, \"Predicted Label\": predicted_label},\n",
            "<ipython-input-65-7534fcb2f2a3>:11: FutureWarning: The frame.append method is deprecated and will be removed from pandas in a future version. Use pandas.concat instead.\n",
            "  df = df.append({\"Index\": index, \"Sentence\": sentence, \"True Label\": true_label, \"Predicted Label\": predicted_label},\n",
            "<ipython-input-65-7534fcb2f2a3>:11: FutureWarning: The frame.append method is deprecated and will be removed from pandas in a future version. Use pandas.concat instead.\n",
            "  df = df.append({\"Index\": index, \"Sentence\": sentence, \"True Label\": true_label, \"Predicted Label\": predicted_label},\n",
            "<ipython-input-65-7534fcb2f2a3>:11: FutureWarning: The frame.append method is deprecated and will be removed from pandas in a future version. Use pandas.concat instead.\n",
            "  df = df.append({\"Index\": index, \"Sentence\": sentence, \"True Label\": true_label, \"Predicted Label\": predicted_label},\n",
            "<ipython-input-65-7534fcb2f2a3>:11: FutureWarning: The frame.append method is deprecated and will be removed from pandas in a future version. Use pandas.concat instead.\n",
            "  df = df.append({\"Index\": index, \"Sentence\": sentence, \"True Label\": true_label, \"Predicted Label\": predicted_label},\n",
            "<ipython-input-65-7534fcb2f2a3>:11: FutureWarning: The frame.append method is deprecated and will be removed from pandas in a future version. Use pandas.concat instead.\n",
            "  df = df.append({\"Index\": index, \"Sentence\": sentence, \"True Label\": true_label, \"Predicted Label\": predicted_label},\n",
            "<ipython-input-65-7534fcb2f2a3>:11: FutureWarning: The frame.append method is deprecated and will be removed from pandas in a future version. Use pandas.concat instead.\n",
            "  df = df.append({\"Index\": index, \"Sentence\": sentence, \"True Label\": true_label, \"Predicted Label\": predicted_label},\n",
            "<ipython-input-65-7534fcb2f2a3>:11: FutureWarning: The frame.append method is deprecated and will be removed from pandas in a future version. Use pandas.concat instead.\n",
            "  df = df.append({\"Index\": index, \"Sentence\": sentence, \"True Label\": true_label, \"Predicted Label\": predicted_label},\n",
            "<ipython-input-65-7534fcb2f2a3>:11: FutureWarning: The frame.append method is deprecated and will be removed from pandas in a future version. Use pandas.concat instead.\n",
            "  df = df.append({\"Index\": index, \"Sentence\": sentence, \"True Label\": true_label, \"Predicted Label\": predicted_label},\n",
            "<ipython-input-65-7534fcb2f2a3>:11: FutureWarning: The frame.append method is deprecated and will be removed from pandas in a future version. Use pandas.concat instead.\n",
            "  df = df.append({\"Index\": index, \"Sentence\": sentence, \"True Label\": true_label, \"Predicted Label\": predicted_label},\n",
            "<ipython-input-65-7534fcb2f2a3>:11: FutureWarning: The frame.append method is deprecated and will be removed from pandas in a future version. Use pandas.concat instead.\n",
            "  df = df.append({\"Index\": index, \"Sentence\": sentence, \"True Label\": true_label, \"Predicted Label\": predicted_label},\n",
            "<ipython-input-65-7534fcb2f2a3>:11: FutureWarning: The frame.append method is deprecated and will be removed from pandas in a future version. Use pandas.concat instead.\n",
            "  df = df.append({\"Index\": index, \"Sentence\": sentence, \"True Label\": true_label, \"Predicted Label\": predicted_label},\n",
            "<ipython-input-65-7534fcb2f2a3>:11: FutureWarning: The frame.append method is deprecated and will be removed from pandas in a future version. Use pandas.concat instead.\n",
            "  df = df.append({\"Index\": index, \"Sentence\": sentence, \"True Label\": true_label, \"Predicted Label\": predicted_label},\n",
            "<ipython-input-65-7534fcb2f2a3>:11: FutureWarning: The frame.append method is deprecated and will be removed from pandas in a future version. Use pandas.concat instead.\n",
            "  df = df.append({\"Index\": index, \"Sentence\": sentence, \"True Label\": true_label, \"Predicted Label\": predicted_label},\n",
            "<ipython-input-65-7534fcb2f2a3>:11: FutureWarning: The frame.append method is deprecated and will be removed from pandas in a future version. Use pandas.concat instead.\n",
            "  df = df.append({\"Index\": index, \"Sentence\": sentence, \"True Label\": true_label, \"Predicted Label\": predicted_label},\n",
            "<ipython-input-65-7534fcb2f2a3>:11: FutureWarning: The frame.append method is deprecated and will be removed from pandas in a future version. Use pandas.concat instead.\n",
            "  df = df.append({\"Index\": index, \"Sentence\": sentence, \"True Label\": true_label, \"Predicted Label\": predicted_label},\n",
            "<ipython-input-65-7534fcb2f2a3>:11: FutureWarning: The frame.append method is deprecated and will be removed from pandas in a future version. Use pandas.concat instead.\n",
            "  df = df.append({\"Index\": index, \"Sentence\": sentence, \"True Label\": true_label, \"Predicted Label\": predicted_label},\n",
            "<ipython-input-65-7534fcb2f2a3>:11: FutureWarning: The frame.append method is deprecated and will be removed from pandas in a future version. Use pandas.concat instead.\n",
            "  df = df.append({\"Index\": index, \"Sentence\": sentence, \"True Label\": true_label, \"Predicted Label\": predicted_label},\n",
            "<ipython-input-65-7534fcb2f2a3>:11: FutureWarning: The frame.append method is deprecated and will be removed from pandas in a future version. Use pandas.concat instead.\n",
            "  df = df.append({\"Index\": index, \"Sentence\": sentence, \"True Label\": true_label, \"Predicted Label\": predicted_label},\n",
            "<ipython-input-65-7534fcb2f2a3>:11: FutureWarning: The frame.append method is deprecated and will be removed from pandas in a future version. Use pandas.concat instead.\n",
            "  df = df.append({\"Index\": index, \"Sentence\": sentence, \"True Label\": true_label, \"Predicted Label\": predicted_label},\n",
            "<ipython-input-65-7534fcb2f2a3>:11: FutureWarning: The frame.append method is deprecated and will be removed from pandas in a future version. Use pandas.concat instead.\n",
            "  df = df.append({\"Index\": index, \"Sentence\": sentence, \"True Label\": true_label, \"Predicted Label\": predicted_label},\n",
            "<ipython-input-65-7534fcb2f2a3>:11: FutureWarning: The frame.append method is deprecated and will be removed from pandas in a future version. Use pandas.concat instead.\n",
            "  df = df.append({\"Index\": index, \"Sentence\": sentence, \"True Label\": true_label, \"Predicted Label\": predicted_label},\n",
            "<ipython-input-65-7534fcb2f2a3>:11: FutureWarning: The frame.append method is deprecated and will be removed from pandas in a future version. Use pandas.concat instead.\n",
            "  df = df.append({\"Index\": index, \"Sentence\": sentence, \"True Label\": true_label, \"Predicted Label\": predicted_label},\n",
            "<ipython-input-65-7534fcb2f2a3>:11: FutureWarning: The frame.append method is deprecated and will be removed from pandas in a future version. Use pandas.concat instead.\n",
            "  df = df.append({\"Index\": index, \"Sentence\": sentence, \"True Label\": true_label, \"Predicted Label\": predicted_label},\n",
            "<ipython-input-65-7534fcb2f2a3>:11: FutureWarning: The frame.append method is deprecated and will be removed from pandas in a future version. Use pandas.concat instead.\n",
            "  df = df.append({\"Index\": index, \"Sentence\": sentence, \"True Label\": true_label, \"Predicted Label\": predicted_label},\n",
            "<ipython-input-65-7534fcb2f2a3>:11: FutureWarning: The frame.append method is deprecated and will be removed from pandas in a future version. Use pandas.concat instead.\n",
            "  df = df.append({\"Index\": index, \"Sentence\": sentence, \"True Label\": true_label, \"Predicted Label\": predicted_label},\n",
            "<ipython-input-65-7534fcb2f2a3>:11: FutureWarning: The frame.append method is deprecated and will be removed from pandas in a future version. Use pandas.concat instead.\n",
            "  df = df.append({\"Index\": index, \"Sentence\": sentence, \"True Label\": true_label, \"Predicted Label\": predicted_label},\n",
            "<ipython-input-65-7534fcb2f2a3>:11: FutureWarning: The frame.append method is deprecated and will be removed from pandas in a future version. Use pandas.concat instead.\n",
            "  df = df.append({\"Index\": index, \"Sentence\": sentence, \"True Label\": true_label, \"Predicted Label\": predicted_label},\n",
            "<ipython-input-65-7534fcb2f2a3>:11: FutureWarning: The frame.append method is deprecated and will be removed from pandas in a future version. Use pandas.concat instead.\n",
            "  df = df.append({\"Index\": index, \"Sentence\": sentence, \"True Label\": true_label, \"Predicted Label\": predicted_label},\n",
            "<ipython-input-65-7534fcb2f2a3>:11: FutureWarning: The frame.append method is deprecated and will be removed from pandas in a future version. Use pandas.concat instead.\n",
            "  df = df.append({\"Index\": index, \"Sentence\": sentence, \"True Label\": true_label, \"Predicted Label\": predicted_label},\n",
            "<ipython-input-65-7534fcb2f2a3>:11: FutureWarning: The frame.append method is deprecated and will be removed from pandas in a future version. Use pandas.concat instead.\n",
            "  df = df.append({\"Index\": index, \"Sentence\": sentence, \"True Label\": true_label, \"Predicted Label\": predicted_label},\n",
            "<ipython-input-65-7534fcb2f2a3>:11: FutureWarning: The frame.append method is deprecated and will be removed from pandas in a future version. Use pandas.concat instead.\n",
            "  df = df.append({\"Index\": index, \"Sentence\": sentence, \"True Label\": true_label, \"Predicted Label\": predicted_label},\n",
            "<ipython-input-65-7534fcb2f2a3>:11: FutureWarning: The frame.append method is deprecated and will be removed from pandas in a future version. Use pandas.concat instead.\n",
            "  df = df.append({\"Index\": index, \"Sentence\": sentence, \"True Label\": true_label, \"Predicted Label\": predicted_label},\n",
            "<ipython-input-65-7534fcb2f2a3>:11: FutureWarning: The frame.append method is deprecated and will be removed from pandas in a future version. Use pandas.concat instead.\n",
            "  df = df.append({\"Index\": index, \"Sentence\": sentence, \"True Label\": true_label, \"Predicted Label\": predicted_label},\n",
            "<ipython-input-65-7534fcb2f2a3>:11: FutureWarning: The frame.append method is deprecated and will be removed from pandas in a future version. Use pandas.concat instead.\n",
            "  df = df.append({\"Index\": index, \"Sentence\": sentence, \"True Label\": true_label, \"Predicted Label\": predicted_label},\n",
            "<ipython-input-65-7534fcb2f2a3>:11: FutureWarning: The frame.append method is deprecated and will be removed from pandas in a future version. Use pandas.concat instead.\n",
            "  df = df.append({\"Index\": index, \"Sentence\": sentence, \"True Label\": true_label, \"Predicted Label\": predicted_label},\n",
            "<ipython-input-65-7534fcb2f2a3>:11: FutureWarning: The frame.append method is deprecated and will be removed from pandas in a future version. Use pandas.concat instead.\n",
            "  df = df.append({\"Index\": index, \"Sentence\": sentence, \"True Label\": true_label, \"Predicted Label\": predicted_label},\n",
            "<ipython-input-65-7534fcb2f2a3>:11: FutureWarning: The frame.append method is deprecated and will be removed from pandas in a future version. Use pandas.concat instead.\n",
            "  df = df.append({\"Index\": index, \"Sentence\": sentence, \"True Label\": true_label, \"Predicted Label\": predicted_label},\n",
            "<ipython-input-65-7534fcb2f2a3>:11: FutureWarning: The frame.append method is deprecated and will be removed from pandas in a future version. Use pandas.concat instead.\n",
            "  df = df.append({\"Index\": index, \"Sentence\": sentence, \"True Label\": true_label, \"Predicted Label\": predicted_label},\n",
            "<ipython-input-65-7534fcb2f2a3>:11: FutureWarning: The frame.append method is deprecated and will be removed from pandas in a future version. Use pandas.concat instead.\n",
            "  df = df.append({\"Index\": index, \"Sentence\": sentence, \"True Label\": true_label, \"Predicted Label\": predicted_label},\n",
            "<ipython-input-65-7534fcb2f2a3>:11: FutureWarning: The frame.append method is deprecated and will be removed from pandas in a future version. Use pandas.concat instead.\n",
            "  df = df.append({\"Index\": index, \"Sentence\": sentence, \"True Label\": true_label, \"Predicted Label\": predicted_label},\n",
            "<ipython-input-65-7534fcb2f2a3>:11: FutureWarning: The frame.append method is deprecated and will be removed from pandas in a future version. Use pandas.concat instead.\n",
            "  df = df.append({\"Index\": index, \"Sentence\": sentence, \"True Label\": true_label, \"Predicted Label\": predicted_label},\n",
            "<ipython-input-65-7534fcb2f2a3>:11: FutureWarning: The frame.append method is deprecated and will be removed from pandas in a future version. Use pandas.concat instead.\n",
            "  df = df.append({\"Index\": index, \"Sentence\": sentence, \"True Label\": true_label, \"Predicted Label\": predicted_label},\n",
            "<ipython-input-65-7534fcb2f2a3>:11: FutureWarning: The frame.append method is deprecated and will be removed from pandas in a future version. Use pandas.concat instead.\n",
            "  df = df.append({\"Index\": index, \"Sentence\": sentence, \"True Label\": true_label, \"Predicted Label\": predicted_label},\n",
            "<ipython-input-65-7534fcb2f2a3>:11: FutureWarning: The frame.append method is deprecated and will be removed from pandas in a future version. Use pandas.concat instead.\n",
            "  df = df.append({\"Index\": index, \"Sentence\": sentence, \"True Label\": true_label, \"Predicted Label\": predicted_label},\n",
            "<ipython-input-65-7534fcb2f2a3>:11: FutureWarning: The frame.append method is deprecated and will be removed from pandas in a future version. Use pandas.concat instead.\n",
            "  df = df.append({\"Index\": index, \"Sentence\": sentence, \"True Label\": true_label, \"Predicted Label\": predicted_label},\n",
            "<ipython-input-65-7534fcb2f2a3>:11: FutureWarning: The frame.append method is deprecated and will be removed from pandas in a future version. Use pandas.concat instead.\n",
            "  df = df.append({\"Index\": index, \"Sentence\": sentence, \"True Label\": true_label, \"Predicted Label\": predicted_label},\n",
            "<ipython-input-65-7534fcb2f2a3>:11: FutureWarning: The frame.append method is deprecated and will be removed from pandas in a future version. Use pandas.concat instead.\n",
            "  df = df.append({\"Index\": index, \"Sentence\": sentence, \"True Label\": true_label, \"Predicted Label\": predicted_label},\n",
            "<ipython-input-65-7534fcb2f2a3>:11: FutureWarning: The frame.append method is deprecated and will be removed from pandas in a future version. Use pandas.concat instead.\n",
            "  df = df.append({\"Index\": index, \"Sentence\": sentence, \"True Label\": true_label, \"Predicted Label\": predicted_label},\n",
            "<ipython-input-65-7534fcb2f2a3>:11: FutureWarning: The frame.append method is deprecated and will be removed from pandas in a future version. Use pandas.concat instead.\n",
            "  df = df.append({\"Index\": index, \"Sentence\": sentence, \"True Label\": true_label, \"Predicted Label\": predicted_label},\n",
            "<ipython-input-65-7534fcb2f2a3>:11: FutureWarning: The frame.append method is deprecated and will be removed from pandas in a future version. Use pandas.concat instead.\n",
            "  df = df.append({\"Index\": index, \"Sentence\": sentence, \"True Label\": true_label, \"Predicted Label\": predicted_label},\n",
            "<ipython-input-65-7534fcb2f2a3>:11: FutureWarning: The frame.append method is deprecated and will be removed from pandas in a future version. Use pandas.concat instead.\n",
            "  df = df.append({\"Index\": index, \"Sentence\": sentence, \"True Label\": true_label, \"Predicted Label\": predicted_label},\n",
            "<ipython-input-65-7534fcb2f2a3>:11: FutureWarning: The frame.append method is deprecated and will be removed from pandas in a future version. Use pandas.concat instead.\n",
            "  df = df.append({\"Index\": index, \"Sentence\": sentence, \"True Label\": true_label, \"Predicted Label\": predicted_label},\n",
            "<ipython-input-65-7534fcb2f2a3>:11: FutureWarning: The frame.append method is deprecated and will be removed from pandas in a future version. Use pandas.concat instead.\n",
            "  df = df.append({\"Index\": index, \"Sentence\": sentence, \"True Label\": true_label, \"Predicted Label\": predicted_label},\n",
            "<ipython-input-65-7534fcb2f2a3>:11: FutureWarning: The frame.append method is deprecated and will be removed from pandas in a future version. Use pandas.concat instead.\n",
            "  df = df.append({\"Index\": index, \"Sentence\": sentence, \"True Label\": true_label, \"Predicted Label\": predicted_label},\n",
            "<ipython-input-65-7534fcb2f2a3>:11: FutureWarning: The frame.append method is deprecated and will be removed from pandas in a future version. Use pandas.concat instead.\n",
            "  df = df.append({\"Index\": index, \"Sentence\": sentence, \"True Label\": true_label, \"Predicted Label\": predicted_label},\n",
            "<ipython-input-65-7534fcb2f2a3>:11: FutureWarning: The frame.append method is deprecated and will be removed from pandas in a future version. Use pandas.concat instead.\n",
            "  df = df.append({\"Index\": index, \"Sentence\": sentence, \"True Label\": true_label, \"Predicted Label\": predicted_label},\n",
            "<ipython-input-65-7534fcb2f2a3>:11: FutureWarning: The frame.append method is deprecated and will be removed from pandas in a future version. Use pandas.concat instead.\n",
            "  df = df.append({\"Index\": index, \"Sentence\": sentence, \"True Label\": true_label, \"Predicted Label\": predicted_label},\n",
            "<ipython-input-65-7534fcb2f2a3>:11: FutureWarning: The frame.append method is deprecated and will be removed from pandas in a future version. Use pandas.concat instead.\n",
            "  df = df.append({\"Index\": index, \"Sentence\": sentence, \"True Label\": true_label, \"Predicted Label\": predicted_label},\n",
            "<ipython-input-65-7534fcb2f2a3>:11: FutureWarning: The frame.append method is deprecated and will be removed from pandas in a future version. Use pandas.concat instead.\n",
            "  df = df.append({\"Index\": index, \"Sentence\": sentence, \"True Label\": true_label, \"Predicted Label\": predicted_label},\n",
            "<ipython-input-65-7534fcb2f2a3>:11: FutureWarning: The frame.append method is deprecated and will be removed from pandas in a future version. Use pandas.concat instead.\n",
            "  df = df.append({\"Index\": index, \"Sentence\": sentence, \"True Label\": true_label, \"Predicted Label\": predicted_label},\n",
            "<ipython-input-65-7534fcb2f2a3>:11: FutureWarning: The frame.append method is deprecated and will be removed from pandas in a future version. Use pandas.concat instead.\n",
            "  df = df.append({\"Index\": index, \"Sentence\": sentence, \"True Label\": true_label, \"Predicted Label\": predicted_label},\n",
            "<ipython-input-65-7534fcb2f2a3>:11: FutureWarning: The frame.append method is deprecated and will be removed from pandas in a future version. Use pandas.concat instead.\n",
            "  df = df.append({\"Index\": index, \"Sentence\": sentence, \"True Label\": true_label, \"Predicted Label\": predicted_label},\n",
            "<ipython-input-65-7534fcb2f2a3>:11: FutureWarning: The frame.append method is deprecated and will be removed from pandas in a future version. Use pandas.concat instead.\n",
            "  df = df.append({\"Index\": index, \"Sentence\": sentence, \"True Label\": true_label, \"Predicted Label\": predicted_label},\n",
            "<ipython-input-65-7534fcb2f2a3>:11: FutureWarning: The frame.append method is deprecated and will be removed from pandas in a future version. Use pandas.concat instead.\n",
            "  df = df.append({\"Index\": index, \"Sentence\": sentence, \"True Label\": true_label, \"Predicted Label\": predicted_label},\n",
            "<ipython-input-65-7534fcb2f2a3>:11: FutureWarning: The frame.append method is deprecated and will be removed from pandas in a future version. Use pandas.concat instead.\n",
            "  df = df.append({\"Index\": index, \"Sentence\": sentence, \"True Label\": true_label, \"Predicted Label\": predicted_label},\n",
            "<ipython-input-65-7534fcb2f2a3>:11: FutureWarning: The frame.append method is deprecated and will be removed from pandas in a future version. Use pandas.concat instead.\n",
            "  df = df.append({\"Index\": index, \"Sentence\": sentence, \"True Label\": true_label, \"Predicted Label\": predicted_label},\n",
            "<ipython-input-65-7534fcb2f2a3>:11: FutureWarning: The frame.append method is deprecated and will be removed from pandas in a future version. Use pandas.concat instead.\n",
            "  df = df.append({\"Index\": index, \"Sentence\": sentence, \"True Label\": true_label, \"Predicted Label\": predicted_label},\n",
            "<ipython-input-65-7534fcb2f2a3>:11: FutureWarning: The frame.append method is deprecated and will be removed from pandas in a future version. Use pandas.concat instead.\n",
            "  df = df.append({\"Index\": index, \"Sentence\": sentence, \"True Label\": true_label, \"Predicted Label\": predicted_label},\n",
            "<ipython-input-65-7534fcb2f2a3>:11: FutureWarning: The frame.append method is deprecated and will be removed from pandas in a future version. Use pandas.concat instead.\n",
            "  df = df.append({\"Index\": index, \"Sentence\": sentence, \"True Label\": true_label, \"Predicted Label\": predicted_label},\n",
            "<ipython-input-65-7534fcb2f2a3>:11: FutureWarning: The frame.append method is deprecated and will be removed from pandas in a future version. Use pandas.concat instead.\n",
            "  df = df.append({\"Index\": index, \"Sentence\": sentence, \"True Label\": true_label, \"Predicted Label\": predicted_label},\n",
            "<ipython-input-65-7534fcb2f2a3>:11: FutureWarning: The frame.append method is deprecated and will be removed from pandas in a future version. Use pandas.concat instead.\n",
            "  df = df.append({\"Index\": index, \"Sentence\": sentence, \"True Label\": true_label, \"Predicted Label\": predicted_label},\n",
            "<ipython-input-65-7534fcb2f2a3>:11: FutureWarning: The frame.append method is deprecated and will be removed from pandas in a future version. Use pandas.concat instead.\n",
            "  df = df.append({\"Index\": index, \"Sentence\": sentence, \"True Label\": true_label, \"Predicted Label\": predicted_label},\n",
            "<ipython-input-65-7534fcb2f2a3>:11: FutureWarning: The frame.append method is deprecated and will be removed from pandas in a future version. Use pandas.concat instead.\n",
            "  df = df.append({\"Index\": index, \"Sentence\": sentence, \"True Label\": true_label, \"Predicted Label\": predicted_label},\n",
            "<ipython-input-65-7534fcb2f2a3>:11: FutureWarning: The frame.append method is deprecated and will be removed from pandas in a future version. Use pandas.concat instead.\n",
            "  df = df.append({\"Index\": index, \"Sentence\": sentence, \"True Label\": true_label, \"Predicted Label\": predicted_label},\n",
            "<ipython-input-65-7534fcb2f2a3>:11: FutureWarning: The frame.append method is deprecated and will be removed from pandas in a future version. Use pandas.concat instead.\n",
            "  df = df.append({\"Index\": index, \"Sentence\": sentence, \"True Label\": true_label, \"Predicted Label\": predicted_label},\n",
            "<ipython-input-65-7534fcb2f2a3>:11: FutureWarning: The frame.append method is deprecated and will be removed from pandas in a future version. Use pandas.concat instead.\n",
            "  df = df.append({\"Index\": index, \"Sentence\": sentence, \"True Label\": true_label, \"Predicted Label\": predicted_label},\n",
            "<ipython-input-65-7534fcb2f2a3>:11: FutureWarning: The frame.append method is deprecated and will be removed from pandas in a future version. Use pandas.concat instead.\n",
            "  df = df.append({\"Index\": index, \"Sentence\": sentence, \"True Label\": true_label, \"Predicted Label\": predicted_label},\n",
            "<ipython-input-65-7534fcb2f2a3>:11: FutureWarning: The frame.append method is deprecated and will be removed from pandas in a future version. Use pandas.concat instead.\n",
            "  df = df.append({\"Index\": index, \"Sentence\": sentence, \"True Label\": true_label, \"Predicted Label\": predicted_label},\n",
            "<ipython-input-65-7534fcb2f2a3>:11: FutureWarning: The frame.append method is deprecated and will be removed from pandas in a future version. Use pandas.concat instead.\n",
            "  df = df.append({\"Index\": index, \"Sentence\": sentence, \"True Label\": true_label, \"Predicted Label\": predicted_label},\n",
            "<ipython-input-65-7534fcb2f2a3>:11: FutureWarning: The frame.append method is deprecated and will be removed from pandas in a future version. Use pandas.concat instead.\n",
            "  df = df.append({\"Index\": index, \"Sentence\": sentence, \"True Label\": true_label, \"Predicted Label\": predicted_label},\n",
            "<ipython-input-65-7534fcb2f2a3>:11: FutureWarning: The frame.append method is deprecated and will be removed from pandas in a future version. Use pandas.concat instead.\n",
            "  df = df.append({\"Index\": index, \"Sentence\": sentence, \"True Label\": true_label, \"Predicted Label\": predicted_label},\n",
            "<ipython-input-65-7534fcb2f2a3>:11: FutureWarning: The frame.append method is deprecated and will be removed from pandas in a future version. Use pandas.concat instead.\n",
            "  df = df.append({\"Index\": index, \"Sentence\": sentence, \"True Label\": true_label, \"Predicted Label\": predicted_label},\n",
            "<ipython-input-65-7534fcb2f2a3>:11: FutureWarning: The frame.append method is deprecated and will be removed from pandas in a future version. Use pandas.concat instead.\n",
            "  df = df.append({\"Index\": index, \"Sentence\": sentence, \"True Label\": true_label, \"Predicted Label\": predicted_label},\n",
            "<ipython-input-65-7534fcb2f2a3>:11: FutureWarning: The frame.append method is deprecated and will be removed from pandas in a future version. Use pandas.concat instead.\n",
            "  df = df.append({\"Index\": index, \"Sentence\": sentence, \"True Label\": true_label, \"Predicted Label\": predicted_label},\n",
            "<ipython-input-65-7534fcb2f2a3>:11: FutureWarning: The frame.append method is deprecated and will be removed from pandas in a future version. Use pandas.concat instead.\n",
            "  df = df.append({\"Index\": index, \"Sentence\": sentence, \"True Label\": true_label, \"Predicted Label\": predicted_label},\n",
            "<ipython-input-65-7534fcb2f2a3>:11: FutureWarning: The frame.append method is deprecated and will be removed from pandas in a future version. Use pandas.concat instead.\n",
            "  df = df.append({\"Index\": index, \"Sentence\": sentence, \"True Label\": true_label, \"Predicted Label\": predicted_label},\n",
            "<ipython-input-65-7534fcb2f2a3>:11: FutureWarning: The frame.append method is deprecated and will be removed from pandas in a future version. Use pandas.concat instead.\n",
            "  df = df.append({\"Index\": index, \"Sentence\": sentence, \"True Label\": true_label, \"Predicted Label\": predicted_label},\n",
            "<ipython-input-65-7534fcb2f2a3>:11: FutureWarning: The frame.append method is deprecated and will be removed from pandas in a future version. Use pandas.concat instead.\n",
            "  df = df.append({\"Index\": index, \"Sentence\": sentence, \"True Label\": true_label, \"Predicted Label\": predicted_label},\n",
            "<ipython-input-65-7534fcb2f2a3>:11: FutureWarning: The frame.append method is deprecated and will be removed from pandas in a future version. Use pandas.concat instead.\n",
            "  df = df.append({\"Index\": index, \"Sentence\": sentence, \"True Label\": true_label, \"Predicted Label\": predicted_label},\n",
            "<ipython-input-65-7534fcb2f2a3>:11: FutureWarning: The frame.append method is deprecated and will be removed from pandas in a future version. Use pandas.concat instead.\n",
            "  df = df.append({\"Index\": index, \"Sentence\": sentence, \"True Label\": true_label, \"Predicted Label\": predicted_label},\n",
            "<ipython-input-65-7534fcb2f2a3>:11: FutureWarning: The frame.append method is deprecated and will be removed from pandas in a future version. Use pandas.concat instead.\n",
            "  df = df.append({\"Index\": index, \"Sentence\": sentence, \"True Label\": true_label, \"Predicted Label\": predicted_label},\n",
            "<ipython-input-65-7534fcb2f2a3>:11: FutureWarning: The frame.append method is deprecated and will be removed from pandas in a future version. Use pandas.concat instead.\n",
            "  df = df.append({\"Index\": index, \"Sentence\": sentence, \"True Label\": true_label, \"Predicted Label\": predicted_label},\n",
            "<ipython-input-65-7534fcb2f2a3>:11: FutureWarning: The frame.append method is deprecated and will be removed from pandas in a future version. Use pandas.concat instead.\n",
            "  df = df.append({\"Index\": index, \"Sentence\": sentence, \"True Label\": true_label, \"Predicted Label\": predicted_label},\n",
            "<ipython-input-65-7534fcb2f2a3>:11: FutureWarning: The frame.append method is deprecated and will be removed from pandas in a future version. Use pandas.concat instead.\n",
            "  df = df.append({\"Index\": index, \"Sentence\": sentence, \"True Label\": true_label, \"Predicted Label\": predicted_label},\n",
            "<ipython-input-65-7534fcb2f2a3>:11: FutureWarning: The frame.append method is deprecated and will be removed from pandas in a future version. Use pandas.concat instead.\n",
            "  df = df.append({\"Index\": index, \"Sentence\": sentence, \"True Label\": true_label, \"Predicted Label\": predicted_label},\n",
            "<ipython-input-65-7534fcb2f2a3>:11: FutureWarning: The frame.append method is deprecated and will be removed from pandas in a future version. Use pandas.concat instead.\n",
            "  df = df.append({\"Index\": index, \"Sentence\": sentence, \"True Label\": true_label, \"Predicted Label\": predicted_label},\n",
            "<ipython-input-65-7534fcb2f2a3>:11: FutureWarning: The frame.append method is deprecated and will be removed from pandas in a future version. Use pandas.concat instead.\n",
            "  df = df.append({\"Index\": index, \"Sentence\": sentence, \"True Label\": true_label, \"Predicted Label\": predicted_label},\n",
            "<ipython-input-65-7534fcb2f2a3>:11: FutureWarning: The frame.append method is deprecated and will be removed from pandas in a future version. Use pandas.concat instead.\n",
            "  df = df.append({\"Index\": index, \"Sentence\": sentence, \"True Label\": true_label, \"Predicted Label\": predicted_label},\n",
            "<ipython-input-65-7534fcb2f2a3>:11: FutureWarning: The frame.append method is deprecated and will be removed from pandas in a future version. Use pandas.concat instead.\n",
            "  df = df.append({\"Index\": index, \"Sentence\": sentence, \"True Label\": true_label, \"Predicted Label\": predicted_label},\n",
            "<ipython-input-65-7534fcb2f2a3>:11: FutureWarning: The frame.append method is deprecated and will be removed from pandas in a future version. Use pandas.concat instead.\n",
            "  df = df.append({\"Index\": index, \"Sentence\": sentence, \"True Label\": true_label, \"Predicted Label\": predicted_label},\n",
            "<ipython-input-65-7534fcb2f2a3>:11: FutureWarning: The frame.append method is deprecated and will be removed from pandas in a future version. Use pandas.concat instead.\n",
            "  df = df.append({\"Index\": index, \"Sentence\": sentence, \"True Label\": true_label, \"Predicted Label\": predicted_label},\n",
            "<ipython-input-65-7534fcb2f2a3>:11: FutureWarning: The frame.append method is deprecated and will be removed from pandas in a future version. Use pandas.concat instead.\n",
            "  df = df.append({\"Index\": index, \"Sentence\": sentence, \"True Label\": true_label, \"Predicted Label\": predicted_label},\n",
            "<ipython-input-65-7534fcb2f2a3>:11: FutureWarning: The frame.append method is deprecated and will be removed from pandas in a future version. Use pandas.concat instead.\n",
            "  df = df.append({\"Index\": index, \"Sentence\": sentence, \"True Label\": true_label, \"Predicted Label\": predicted_label},\n",
            "<ipython-input-65-7534fcb2f2a3>:11: FutureWarning: The frame.append method is deprecated and will be removed from pandas in a future version. Use pandas.concat instead.\n",
            "  df = df.append({\"Index\": index, \"Sentence\": sentence, \"True Label\": true_label, \"Predicted Label\": predicted_label},\n",
            "<ipython-input-65-7534fcb2f2a3>:11: FutureWarning: The frame.append method is deprecated and will be removed from pandas in a future version. Use pandas.concat instead.\n",
            "  df = df.append({\"Index\": index, \"Sentence\": sentence, \"True Label\": true_label, \"Predicted Label\": predicted_label},\n",
            "<ipython-input-65-7534fcb2f2a3>:11: FutureWarning: The frame.append method is deprecated and will be removed from pandas in a future version. Use pandas.concat instead.\n",
            "  df = df.append({\"Index\": index, \"Sentence\": sentence, \"True Label\": true_label, \"Predicted Label\": predicted_label},\n",
            "<ipython-input-65-7534fcb2f2a3>:11: FutureWarning: The frame.append method is deprecated and will be removed from pandas in a future version. Use pandas.concat instead.\n",
            "  df = df.append({\"Index\": index, \"Sentence\": sentence, \"True Label\": true_label, \"Predicted Label\": predicted_label},\n",
            "<ipython-input-65-7534fcb2f2a3>:11: FutureWarning: The frame.append method is deprecated and will be removed from pandas in a future version. Use pandas.concat instead.\n",
            "  df = df.append({\"Index\": index, \"Sentence\": sentence, \"True Label\": true_label, \"Predicted Label\": predicted_label},\n",
            "<ipython-input-65-7534fcb2f2a3>:11: FutureWarning: The frame.append method is deprecated and will be removed from pandas in a future version. Use pandas.concat instead.\n",
            "  df = df.append({\"Index\": index, \"Sentence\": sentence, \"True Label\": true_label, \"Predicted Label\": predicted_label},\n",
            "<ipython-input-65-7534fcb2f2a3>:11: FutureWarning: The frame.append method is deprecated and will be removed from pandas in a future version. Use pandas.concat instead.\n",
            "  df = df.append({\"Index\": index, \"Sentence\": sentence, \"True Label\": true_label, \"Predicted Label\": predicted_label},\n",
            "<ipython-input-65-7534fcb2f2a3>:11: FutureWarning: The frame.append method is deprecated and will be removed from pandas in a future version. Use pandas.concat instead.\n",
            "  df = df.append({\"Index\": index, \"Sentence\": sentence, \"True Label\": true_label, \"Predicted Label\": predicted_label},\n",
            "<ipython-input-65-7534fcb2f2a3>:11: FutureWarning: The frame.append method is deprecated and will be removed from pandas in a future version. Use pandas.concat instead.\n",
            "  df = df.append({\"Index\": index, \"Sentence\": sentence, \"True Label\": true_label, \"Predicted Label\": predicted_label},\n",
            "<ipython-input-65-7534fcb2f2a3>:11: FutureWarning: The frame.append method is deprecated and will be removed from pandas in a future version. Use pandas.concat instead.\n",
            "  df = df.append({\"Index\": index, \"Sentence\": sentence, \"True Label\": true_label, \"Predicted Label\": predicted_label},\n",
            "<ipython-input-65-7534fcb2f2a3>:11: FutureWarning: The frame.append method is deprecated and will be removed from pandas in a future version. Use pandas.concat instead.\n",
            "  df = df.append({\"Index\": index, \"Sentence\": sentence, \"True Label\": true_label, \"Predicted Label\": predicted_label},\n",
            "<ipython-input-65-7534fcb2f2a3>:11: FutureWarning: The frame.append method is deprecated and will be removed from pandas in a future version. Use pandas.concat instead.\n",
            "  df = df.append({\"Index\": index, \"Sentence\": sentence, \"True Label\": true_label, \"Predicted Label\": predicted_label},\n",
            "<ipython-input-65-7534fcb2f2a3>:11: FutureWarning: The frame.append method is deprecated and will be removed from pandas in a future version. Use pandas.concat instead.\n",
            "  df = df.append({\"Index\": index, \"Sentence\": sentence, \"True Label\": true_label, \"Predicted Label\": predicted_label},\n",
            "<ipython-input-65-7534fcb2f2a3>:11: FutureWarning: The frame.append method is deprecated and will be removed from pandas in a future version. Use pandas.concat instead.\n",
            "  df = df.append({\"Index\": index, \"Sentence\": sentence, \"True Label\": true_label, \"Predicted Label\": predicted_label},\n",
            "<ipython-input-65-7534fcb2f2a3>:11: FutureWarning: The frame.append method is deprecated and will be removed from pandas in a future version. Use pandas.concat instead.\n",
            "  df = df.append({\"Index\": index, \"Sentence\": sentence, \"True Label\": true_label, \"Predicted Label\": predicted_label},\n",
            "<ipython-input-65-7534fcb2f2a3>:11: FutureWarning: The frame.append method is deprecated and will be removed from pandas in a future version. Use pandas.concat instead.\n",
            "  df = df.append({\"Index\": index, \"Sentence\": sentence, \"True Label\": true_label, \"Predicted Label\": predicted_label},\n",
            "<ipython-input-65-7534fcb2f2a3>:11: FutureWarning: The frame.append method is deprecated and will be removed from pandas in a future version. Use pandas.concat instead.\n",
            "  df = df.append({\"Index\": index, \"Sentence\": sentence, \"True Label\": true_label, \"Predicted Label\": predicted_label},\n",
            "<ipython-input-65-7534fcb2f2a3>:11: FutureWarning: The frame.append method is deprecated and will be removed from pandas in a future version. Use pandas.concat instead.\n",
            "  df = df.append({\"Index\": index, \"Sentence\": sentence, \"True Label\": true_label, \"Predicted Label\": predicted_label},\n",
            "<ipython-input-65-7534fcb2f2a3>:11: FutureWarning: The frame.append method is deprecated and will be removed from pandas in a future version. Use pandas.concat instead.\n",
            "  df = df.append({\"Index\": index, \"Sentence\": sentence, \"True Label\": true_label, \"Predicted Label\": predicted_label},\n",
            "<ipython-input-65-7534fcb2f2a3>:11: FutureWarning: The frame.append method is deprecated and will be removed from pandas in a future version. Use pandas.concat instead.\n",
            "  df = df.append({\"Index\": index, \"Sentence\": sentence, \"True Label\": true_label, \"Predicted Label\": predicted_label},\n",
            "<ipython-input-65-7534fcb2f2a3>:11: FutureWarning: The frame.append method is deprecated and will be removed from pandas in a future version. Use pandas.concat instead.\n",
            "  df = df.append({\"Index\": index, \"Sentence\": sentence, \"True Label\": true_label, \"Predicted Label\": predicted_label},\n",
            "<ipython-input-65-7534fcb2f2a3>:11: FutureWarning: The frame.append method is deprecated and will be removed from pandas in a future version. Use pandas.concat instead.\n",
            "  df = df.append({\"Index\": index, \"Sentence\": sentence, \"True Label\": true_label, \"Predicted Label\": predicted_label},\n",
            "<ipython-input-65-7534fcb2f2a3>:11: FutureWarning: The frame.append method is deprecated and will be removed from pandas in a future version. Use pandas.concat instead.\n",
            "  df = df.append({\"Index\": index, \"Sentence\": sentence, \"True Label\": true_label, \"Predicted Label\": predicted_label},\n",
            "<ipython-input-65-7534fcb2f2a3>:11: FutureWarning: The frame.append method is deprecated and will be removed from pandas in a future version. Use pandas.concat instead.\n",
            "  df = df.append({\"Index\": index, \"Sentence\": sentence, \"True Label\": true_label, \"Predicted Label\": predicted_label},\n",
            "<ipython-input-65-7534fcb2f2a3>:11: FutureWarning: The frame.append method is deprecated and will be removed from pandas in a future version. Use pandas.concat instead.\n",
            "  df = df.append({\"Index\": index, \"Sentence\": sentence, \"True Label\": true_label, \"Predicted Label\": predicted_label},\n",
            "<ipython-input-65-7534fcb2f2a3>:11: FutureWarning: The frame.append method is deprecated and will be removed from pandas in a future version. Use pandas.concat instead.\n",
            "  df = df.append({\"Index\": index, \"Sentence\": sentence, \"True Label\": true_label, \"Predicted Label\": predicted_label},\n",
            "<ipython-input-65-7534fcb2f2a3>:11: FutureWarning: The frame.append method is deprecated and will be removed from pandas in a future version. Use pandas.concat instead.\n",
            "  df = df.append({\"Index\": index, \"Sentence\": sentence, \"True Label\": true_label, \"Predicted Label\": predicted_label},\n",
            "<ipython-input-65-7534fcb2f2a3>:11: FutureWarning: The frame.append method is deprecated and will be removed from pandas in a future version. Use pandas.concat instead.\n",
            "  df = df.append({\"Index\": index, \"Sentence\": sentence, \"True Label\": true_label, \"Predicted Label\": predicted_label},\n",
            "<ipython-input-65-7534fcb2f2a3>:11: FutureWarning: The frame.append method is deprecated and will be removed from pandas in a future version. Use pandas.concat instead.\n",
            "  df = df.append({\"Index\": index, \"Sentence\": sentence, \"True Label\": true_label, \"Predicted Label\": predicted_label},\n",
            "<ipython-input-65-7534fcb2f2a3>:11: FutureWarning: The frame.append method is deprecated and will be removed from pandas in a future version. Use pandas.concat instead.\n",
            "  df = df.append({\"Index\": index, \"Sentence\": sentence, \"True Label\": true_label, \"Predicted Label\": predicted_label},\n",
            "<ipython-input-65-7534fcb2f2a3>:11: FutureWarning: The frame.append method is deprecated and will be removed from pandas in a future version. Use pandas.concat instead.\n",
            "  df = df.append({\"Index\": index, \"Sentence\": sentence, \"True Label\": true_label, \"Predicted Label\": predicted_label},\n",
            "<ipython-input-65-7534fcb2f2a3>:11: FutureWarning: The frame.append method is deprecated and will be removed from pandas in a future version. Use pandas.concat instead.\n",
            "  df = df.append({\"Index\": index, \"Sentence\": sentence, \"True Label\": true_label, \"Predicted Label\": predicted_label},\n",
            "<ipython-input-65-7534fcb2f2a3>:11: FutureWarning: The frame.append method is deprecated and will be removed from pandas in a future version. Use pandas.concat instead.\n",
            "  df = df.append({\"Index\": index, \"Sentence\": sentence, \"True Label\": true_label, \"Predicted Label\": predicted_label},\n",
            "<ipython-input-65-7534fcb2f2a3>:11: FutureWarning: The frame.append method is deprecated and will be removed from pandas in a future version. Use pandas.concat instead.\n",
            "  df = df.append({\"Index\": index, \"Sentence\": sentence, \"True Label\": true_label, \"Predicted Label\": predicted_label},\n",
            "<ipython-input-65-7534fcb2f2a3>:11: FutureWarning: The frame.append method is deprecated and will be removed from pandas in a future version. Use pandas.concat instead.\n",
            "  df = df.append({\"Index\": index, \"Sentence\": sentence, \"True Label\": true_label, \"Predicted Label\": predicted_label},\n",
            "<ipython-input-65-7534fcb2f2a3>:11: FutureWarning: The frame.append method is deprecated and will be removed from pandas in a future version. Use pandas.concat instead.\n",
            "  df = df.append({\"Index\": index, \"Sentence\": sentence, \"True Label\": true_label, \"Predicted Label\": predicted_label},\n",
            "<ipython-input-65-7534fcb2f2a3>:11: FutureWarning: The frame.append method is deprecated and will be removed from pandas in a future version. Use pandas.concat instead.\n",
            "  df = df.append({\"Index\": index, \"Sentence\": sentence, \"True Label\": true_label, \"Predicted Label\": predicted_label},\n",
            "<ipython-input-65-7534fcb2f2a3>:11: FutureWarning: The frame.append method is deprecated and will be removed from pandas in a future version. Use pandas.concat instead.\n",
            "  df = df.append({\"Index\": index, \"Sentence\": sentence, \"True Label\": true_label, \"Predicted Label\": predicted_label},\n",
            "<ipython-input-65-7534fcb2f2a3>:11: FutureWarning: The frame.append method is deprecated and will be removed from pandas in a future version. Use pandas.concat instead.\n",
            "  df = df.append({\"Index\": index, \"Sentence\": sentence, \"True Label\": true_label, \"Predicted Label\": predicted_label},\n",
            "<ipython-input-65-7534fcb2f2a3>:11: FutureWarning: The frame.append method is deprecated and will be removed from pandas in a future version. Use pandas.concat instead.\n",
            "  df = df.append({\"Index\": index, \"Sentence\": sentence, \"True Label\": true_label, \"Predicted Label\": predicted_label},\n",
            "<ipython-input-65-7534fcb2f2a3>:11: FutureWarning: The frame.append method is deprecated and will be removed from pandas in a future version. Use pandas.concat instead.\n",
            "  df = df.append({\"Index\": index, \"Sentence\": sentence, \"True Label\": true_label, \"Predicted Label\": predicted_label},\n",
            "<ipython-input-65-7534fcb2f2a3>:11: FutureWarning: The frame.append method is deprecated and will be removed from pandas in a future version. Use pandas.concat instead.\n",
            "  df = df.append({\"Index\": index, \"Sentence\": sentence, \"True Label\": true_label, \"Predicted Label\": predicted_label},\n",
            "<ipython-input-65-7534fcb2f2a3>:11: FutureWarning: The frame.append method is deprecated and will be removed from pandas in a future version. Use pandas.concat instead.\n",
            "  df = df.append({\"Index\": index, \"Sentence\": sentence, \"True Label\": true_label, \"Predicted Label\": predicted_label},\n",
            "<ipython-input-65-7534fcb2f2a3>:11: FutureWarning: The frame.append method is deprecated and will be removed from pandas in a future version. Use pandas.concat instead.\n",
            "  df = df.append({\"Index\": index, \"Sentence\": sentence, \"True Label\": true_label, \"Predicted Label\": predicted_label},\n",
            "<ipython-input-65-7534fcb2f2a3>:11: FutureWarning: The frame.append method is deprecated and will be removed from pandas in a future version. Use pandas.concat instead.\n",
            "  df = df.append({\"Index\": index, \"Sentence\": sentence, \"True Label\": true_label, \"Predicted Label\": predicted_label},\n",
            "<ipython-input-65-7534fcb2f2a3>:11: FutureWarning: The frame.append method is deprecated and will be removed from pandas in a future version. Use pandas.concat instead.\n",
            "  df = df.append({\"Index\": index, \"Sentence\": sentence, \"True Label\": true_label, \"Predicted Label\": predicted_label},\n",
            "<ipython-input-65-7534fcb2f2a3>:11: FutureWarning: The frame.append method is deprecated and will be removed from pandas in a future version. Use pandas.concat instead.\n",
            "  df = df.append({\"Index\": index, \"Sentence\": sentence, \"True Label\": true_label, \"Predicted Label\": predicted_label},\n",
            "<ipython-input-65-7534fcb2f2a3>:11: FutureWarning: The frame.append method is deprecated and will be removed from pandas in a future version. Use pandas.concat instead.\n",
            "  df = df.append({\"Index\": index, \"Sentence\": sentence, \"True Label\": true_label, \"Predicted Label\": predicted_label},\n",
            "<ipython-input-65-7534fcb2f2a3>:11: FutureWarning: The frame.append method is deprecated and will be removed from pandas in a future version. Use pandas.concat instead.\n",
            "  df = df.append({\"Index\": index, \"Sentence\": sentence, \"True Label\": true_label, \"Predicted Label\": predicted_label},\n",
            "<ipython-input-65-7534fcb2f2a3>:11: FutureWarning: The frame.append method is deprecated and will be removed from pandas in a future version. Use pandas.concat instead.\n",
            "  df = df.append({\"Index\": index, \"Sentence\": sentence, \"True Label\": true_label, \"Predicted Label\": predicted_label},\n",
            "<ipython-input-65-7534fcb2f2a3>:11: FutureWarning: The frame.append method is deprecated and will be removed from pandas in a future version. Use pandas.concat instead.\n",
            "  df = df.append({\"Index\": index, \"Sentence\": sentence, \"True Label\": true_label, \"Predicted Label\": predicted_label},\n",
            "<ipython-input-65-7534fcb2f2a3>:11: FutureWarning: The frame.append method is deprecated and will be removed from pandas in a future version. Use pandas.concat instead.\n",
            "  df = df.append({\"Index\": index, \"Sentence\": sentence, \"True Label\": true_label, \"Predicted Label\": predicted_label},\n",
            "<ipython-input-65-7534fcb2f2a3>:11: FutureWarning: The frame.append method is deprecated and will be removed from pandas in a future version. Use pandas.concat instead.\n",
            "  df = df.append({\"Index\": index, \"Sentence\": sentence, \"True Label\": true_label, \"Predicted Label\": predicted_label},\n",
            "<ipython-input-65-7534fcb2f2a3>:11: FutureWarning: The frame.append method is deprecated and will be removed from pandas in a future version. Use pandas.concat instead.\n",
            "  df = df.append({\"Index\": index, \"Sentence\": sentence, \"True Label\": true_label, \"Predicted Label\": predicted_label},\n",
            "<ipython-input-65-7534fcb2f2a3>:11: FutureWarning: The frame.append method is deprecated and will be removed from pandas in a future version. Use pandas.concat instead.\n",
            "  df = df.append({\"Index\": index, \"Sentence\": sentence, \"True Label\": true_label, \"Predicted Label\": predicted_label},\n",
            "<ipython-input-65-7534fcb2f2a3>:11: FutureWarning: The frame.append method is deprecated and will be removed from pandas in a future version. Use pandas.concat instead.\n",
            "  df = df.append({\"Index\": index, \"Sentence\": sentence, \"True Label\": true_label, \"Predicted Label\": predicted_label},\n",
            "<ipython-input-65-7534fcb2f2a3>:11: FutureWarning: The frame.append method is deprecated and will be removed from pandas in a future version. Use pandas.concat instead.\n",
            "  df = df.append({\"Index\": index, \"Sentence\": sentence, \"True Label\": true_label, \"Predicted Label\": predicted_label},\n",
            "<ipython-input-65-7534fcb2f2a3>:11: FutureWarning: The frame.append method is deprecated and will be removed from pandas in a future version. Use pandas.concat instead.\n",
            "  df = df.append({\"Index\": index, \"Sentence\": sentence, \"True Label\": true_label, \"Predicted Label\": predicted_label},\n",
            "<ipython-input-65-7534fcb2f2a3>:11: FutureWarning: The frame.append method is deprecated and will be removed from pandas in a future version. Use pandas.concat instead.\n",
            "  df = df.append({\"Index\": index, \"Sentence\": sentence, \"True Label\": true_label, \"Predicted Label\": predicted_label},\n",
            "<ipython-input-65-7534fcb2f2a3>:11: FutureWarning: The frame.append method is deprecated and will be removed from pandas in a future version. Use pandas.concat instead.\n",
            "  df = df.append({\"Index\": index, \"Sentence\": sentence, \"True Label\": true_label, \"Predicted Label\": predicted_label},\n",
            "<ipython-input-65-7534fcb2f2a3>:11: FutureWarning: The frame.append method is deprecated and will be removed from pandas in a future version. Use pandas.concat instead.\n",
            "  df = df.append({\"Index\": index, \"Sentence\": sentence, \"True Label\": true_label, \"Predicted Label\": predicted_label},\n",
            "<ipython-input-65-7534fcb2f2a3>:11: FutureWarning: The frame.append method is deprecated and will be removed from pandas in a future version. Use pandas.concat instead.\n",
            "  df = df.append({\"Index\": index, \"Sentence\": sentence, \"True Label\": true_label, \"Predicted Label\": predicted_label},\n",
            "<ipython-input-65-7534fcb2f2a3>:11: FutureWarning: The frame.append method is deprecated and will be removed from pandas in a future version. Use pandas.concat instead.\n",
            "  df = df.append({\"Index\": index, \"Sentence\": sentence, \"True Label\": true_label, \"Predicted Label\": predicted_label},\n",
            "<ipython-input-65-7534fcb2f2a3>:11: FutureWarning: The frame.append method is deprecated and will be removed from pandas in a future version. Use pandas.concat instead.\n",
            "  df = df.append({\"Index\": index, \"Sentence\": sentence, \"True Label\": true_label, \"Predicted Label\": predicted_label},\n",
            "<ipython-input-65-7534fcb2f2a3>:11: FutureWarning: The frame.append method is deprecated and will be removed from pandas in a future version. Use pandas.concat instead.\n",
            "  df = df.append({\"Index\": index, \"Sentence\": sentence, \"True Label\": true_label, \"Predicted Label\": predicted_label},\n",
            "<ipython-input-65-7534fcb2f2a3>:11: FutureWarning: The frame.append method is deprecated and will be removed from pandas in a future version. Use pandas.concat instead.\n",
            "  df = df.append({\"Index\": index, \"Sentence\": sentence, \"True Label\": true_label, \"Predicted Label\": predicted_label},\n",
            "<ipython-input-65-7534fcb2f2a3>:11: FutureWarning: The frame.append method is deprecated and will be removed from pandas in a future version. Use pandas.concat instead.\n",
            "  df = df.append({\"Index\": index, \"Sentence\": sentence, \"True Label\": true_label, \"Predicted Label\": predicted_label},\n",
            "<ipython-input-65-7534fcb2f2a3>:11: FutureWarning: The frame.append method is deprecated and will be removed from pandas in a future version. Use pandas.concat instead.\n",
            "  df = df.append({\"Index\": index, \"Sentence\": sentence, \"True Label\": true_label, \"Predicted Label\": predicted_label},\n",
            "<ipython-input-65-7534fcb2f2a3>:11: FutureWarning: The frame.append method is deprecated and will be removed from pandas in a future version. Use pandas.concat instead.\n",
            "  df = df.append({\"Index\": index, \"Sentence\": sentence, \"True Label\": true_label, \"Predicted Label\": predicted_label},\n",
            "<ipython-input-65-7534fcb2f2a3>:11: FutureWarning: The frame.append method is deprecated and will be removed from pandas in a future version. Use pandas.concat instead.\n",
            "  df = df.append({\"Index\": index, \"Sentence\": sentence, \"True Label\": true_label, \"Predicted Label\": predicted_label},\n",
            "<ipython-input-65-7534fcb2f2a3>:11: FutureWarning: The frame.append method is deprecated and will be removed from pandas in a future version. Use pandas.concat instead.\n",
            "  df = df.append({\"Index\": index, \"Sentence\": sentence, \"True Label\": true_label, \"Predicted Label\": predicted_label},\n",
            "<ipython-input-65-7534fcb2f2a3>:11: FutureWarning: The frame.append method is deprecated and will be removed from pandas in a future version. Use pandas.concat instead.\n",
            "  df = df.append({\"Index\": index, \"Sentence\": sentence, \"True Label\": true_label, \"Predicted Label\": predicted_label},\n",
            "<ipython-input-65-7534fcb2f2a3>:11: FutureWarning: The frame.append method is deprecated and will be removed from pandas in a future version. Use pandas.concat instead.\n",
            "  df = df.append({\"Index\": index, \"Sentence\": sentence, \"True Label\": true_label, \"Predicted Label\": predicted_label},\n",
            "<ipython-input-65-7534fcb2f2a3>:11: FutureWarning: The frame.append method is deprecated and will be removed from pandas in a future version. Use pandas.concat instead.\n",
            "  df = df.append({\"Index\": index, \"Sentence\": sentence, \"True Label\": true_label, \"Predicted Label\": predicted_label},\n",
            "<ipython-input-65-7534fcb2f2a3>:11: FutureWarning: The frame.append method is deprecated and will be removed from pandas in a future version. Use pandas.concat instead.\n",
            "  df = df.append({\"Index\": index, \"Sentence\": sentence, \"True Label\": true_label, \"Predicted Label\": predicted_label},\n",
            "<ipython-input-65-7534fcb2f2a3>:11: FutureWarning: The frame.append method is deprecated and will be removed from pandas in a future version. Use pandas.concat instead.\n",
            "  df = df.append({\"Index\": index, \"Sentence\": sentence, \"True Label\": true_label, \"Predicted Label\": predicted_label},\n",
            "<ipython-input-65-7534fcb2f2a3>:11: FutureWarning: The frame.append method is deprecated and will be removed from pandas in a future version. Use pandas.concat instead.\n",
            "  df = df.append({\"Index\": index, \"Sentence\": sentence, \"True Label\": true_label, \"Predicted Label\": predicted_label},\n",
            "<ipython-input-65-7534fcb2f2a3>:11: FutureWarning: The frame.append method is deprecated and will be removed from pandas in a future version. Use pandas.concat instead.\n",
            "  df = df.append({\"Index\": index, \"Sentence\": sentence, \"True Label\": true_label, \"Predicted Label\": predicted_label},\n",
            "<ipython-input-65-7534fcb2f2a3>:11: FutureWarning: The frame.append method is deprecated and will be removed from pandas in a future version. Use pandas.concat instead.\n",
            "  df = df.append({\"Index\": index, \"Sentence\": sentence, \"True Label\": true_label, \"Predicted Label\": predicted_label},\n",
            "<ipython-input-65-7534fcb2f2a3>:11: FutureWarning: The frame.append method is deprecated and will be removed from pandas in a future version. Use pandas.concat instead.\n",
            "  df = df.append({\"Index\": index, \"Sentence\": sentence, \"True Label\": true_label, \"Predicted Label\": predicted_label},\n",
            "<ipython-input-65-7534fcb2f2a3>:11: FutureWarning: The frame.append method is deprecated and will be removed from pandas in a future version. Use pandas.concat instead.\n",
            "  df = df.append({\"Index\": index, \"Sentence\": sentence, \"True Label\": true_label, \"Predicted Label\": predicted_label},\n",
            "<ipython-input-65-7534fcb2f2a3>:11: FutureWarning: The frame.append method is deprecated and will be removed from pandas in a future version. Use pandas.concat instead.\n",
            "  df = df.append({\"Index\": index, \"Sentence\": sentence, \"True Label\": true_label, \"Predicted Label\": predicted_label},\n",
            "<ipython-input-65-7534fcb2f2a3>:11: FutureWarning: The frame.append method is deprecated and will be removed from pandas in a future version. Use pandas.concat instead.\n",
            "  df = df.append({\"Index\": index, \"Sentence\": sentence, \"True Label\": true_label, \"Predicted Label\": predicted_label},\n",
            "<ipython-input-65-7534fcb2f2a3>:11: FutureWarning: The frame.append method is deprecated and will be removed from pandas in a future version. Use pandas.concat instead.\n",
            "  df = df.append({\"Index\": index, \"Sentence\": sentence, \"True Label\": true_label, \"Predicted Label\": predicted_label},\n",
            "<ipython-input-65-7534fcb2f2a3>:11: FutureWarning: The frame.append method is deprecated and will be removed from pandas in a future version. Use pandas.concat instead.\n",
            "  df = df.append({\"Index\": index, \"Sentence\": sentence, \"True Label\": true_label, \"Predicted Label\": predicted_label},\n",
            "<ipython-input-65-7534fcb2f2a3>:11: FutureWarning: The frame.append method is deprecated and will be removed from pandas in a future version. Use pandas.concat instead.\n",
            "  df = df.append({\"Index\": index, \"Sentence\": sentence, \"True Label\": true_label, \"Predicted Label\": predicted_label},\n",
            "<ipython-input-65-7534fcb2f2a3>:11: FutureWarning: The frame.append method is deprecated and will be removed from pandas in a future version. Use pandas.concat instead.\n",
            "  df = df.append({\"Index\": index, \"Sentence\": sentence, \"True Label\": true_label, \"Predicted Label\": predicted_label},\n",
            "<ipython-input-65-7534fcb2f2a3>:11: FutureWarning: The frame.append method is deprecated and will be removed from pandas in a future version. Use pandas.concat instead.\n",
            "  df = df.append({\"Index\": index, \"Sentence\": sentence, \"True Label\": true_label, \"Predicted Label\": predicted_label},\n",
            "<ipython-input-65-7534fcb2f2a3>:11: FutureWarning: The frame.append method is deprecated and will be removed from pandas in a future version. Use pandas.concat instead.\n",
            "  df = df.append({\"Index\": index, \"Sentence\": sentence, \"True Label\": true_label, \"Predicted Label\": predicted_label},\n",
            "<ipython-input-65-7534fcb2f2a3>:11: FutureWarning: The frame.append method is deprecated and will be removed from pandas in a future version. Use pandas.concat instead.\n",
            "  df = df.append({\"Index\": index, \"Sentence\": sentence, \"True Label\": true_label, \"Predicted Label\": predicted_label},\n",
            "<ipython-input-65-7534fcb2f2a3>:11: FutureWarning: The frame.append method is deprecated and will be removed from pandas in a future version. Use pandas.concat instead.\n",
            "  df = df.append({\"Index\": index, \"Sentence\": sentence, \"True Label\": true_label, \"Predicted Label\": predicted_label},\n",
            "<ipython-input-65-7534fcb2f2a3>:11: FutureWarning: The frame.append method is deprecated and will be removed from pandas in a future version. Use pandas.concat instead.\n",
            "  df = df.append({\"Index\": index, \"Sentence\": sentence, \"True Label\": true_label, \"Predicted Label\": predicted_label},\n",
            "<ipython-input-65-7534fcb2f2a3>:11: FutureWarning: The frame.append method is deprecated and will be removed from pandas in a future version. Use pandas.concat instead.\n",
            "  df = df.append({\"Index\": index, \"Sentence\": sentence, \"True Label\": true_label, \"Predicted Label\": predicted_label},\n",
            "<ipython-input-65-7534fcb2f2a3>:11: FutureWarning: The frame.append method is deprecated and will be removed from pandas in a future version. Use pandas.concat instead.\n",
            "  df = df.append({\"Index\": index, \"Sentence\": sentence, \"True Label\": true_label, \"Predicted Label\": predicted_label},\n",
            "<ipython-input-65-7534fcb2f2a3>:11: FutureWarning: The frame.append method is deprecated and will be removed from pandas in a future version. Use pandas.concat instead.\n",
            "  df = df.append({\"Index\": index, \"Sentence\": sentence, \"True Label\": true_label, \"Predicted Label\": predicted_label},\n",
            "<ipython-input-65-7534fcb2f2a3>:11: FutureWarning: The frame.append method is deprecated and will be removed from pandas in a future version. Use pandas.concat instead.\n",
            "  df = df.append({\"Index\": index, \"Sentence\": sentence, \"True Label\": true_label, \"Predicted Label\": predicted_label},\n",
            "<ipython-input-65-7534fcb2f2a3>:11: FutureWarning: The frame.append method is deprecated and will be removed from pandas in a future version. Use pandas.concat instead.\n",
            "  df = df.append({\"Index\": index, \"Sentence\": sentence, \"True Label\": true_label, \"Predicted Label\": predicted_label},\n",
            "<ipython-input-65-7534fcb2f2a3>:11: FutureWarning: The frame.append method is deprecated and will be removed from pandas in a future version. Use pandas.concat instead.\n",
            "  df = df.append({\"Index\": index, \"Sentence\": sentence, \"True Label\": true_label, \"Predicted Label\": predicted_label},\n",
            "<ipython-input-65-7534fcb2f2a3>:11: FutureWarning: The frame.append method is deprecated and will be removed from pandas in a future version. Use pandas.concat instead.\n",
            "  df = df.append({\"Index\": index, \"Sentence\": sentence, \"True Label\": true_label, \"Predicted Label\": predicted_label},\n",
            "<ipython-input-65-7534fcb2f2a3>:11: FutureWarning: The frame.append method is deprecated and will be removed from pandas in a future version. Use pandas.concat instead.\n",
            "  df = df.append({\"Index\": index, \"Sentence\": sentence, \"True Label\": true_label, \"Predicted Label\": predicted_label},\n",
            "<ipython-input-65-7534fcb2f2a3>:11: FutureWarning: The frame.append method is deprecated and will be removed from pandas in a future version. Use pandas.concat instead.\n",
            "  df = df.append({\"Index\": index, \"Sentence\": sentence, \"True Label\": true_label, \"Predicted Label\": predicted_label},\n",
            "<ipython-input-65-7534fcb2f2a3>:11: FutureWarning: The frame.append method is deprecated and will be removed from pandas in a future version. Use pandas.concat instead.\n",
            "  df = df.append({\"Index\": index, \"Sentence\": sentence, \"True Label\": true_label, \"Predicted Label\": predicted_label},\n",
            "<ipython-input-65-7534fcb2f2a3>:11: FutureWarning: The frame.append method is deprecated and will be removed from pandas in a future version. Use pandas.concat instead.\n",
            "  df = df.append({\"Index\": index, \"Sentence\": sentence, \"True Label\": true_label, \"Predicted Label\": predicted_label},\n",
            "<ipython-input-65-7534fcb2f2a3>:11: FutureWarning: The frame.append method is deprecated and will be removed from pandas in a future version. Use pandas.concat instead.\n",
            "  df = df.append({\"Index\": index, \"Sentence\": sentence, \"True Label\": true_label, \"Predicted Label\": predicted_label},\n",
            "<ipython-input-65-7534fcb2f2a3>:11: FutureWarning: The frame.append method is deprecated and will be removed from pandas in a future version. Use pandas.concat instead.\n",
            "  df = df.append({\"Index\": index, \"Sentence\": sentence, \"True Label\": true_label, \"Predicted Label\": predicted_label},\n",
            "<ipython-input-65-7534fcb2f2a3>:11: FutureWarning: The frame.append method is deprecated and will be removed from pandas in a future version. Use pandas.concat instead.\n",
            "  df = df.append({\"Index\": index, \"Sentence\": sentence, \"True Label\": true_label, \"Predicted Label\": predicted_label},\n",
            "<ipython-input-65-7534fcb2f2a3>:11: FutureWarning: The frame.append method is deprecated and will be removed from pandas in a future version. Use pandas.concat instead.\n",
            "  df = df.append({\"Index\": index, \"Sentence\": sentence, \"True Label\": true_label, \"Predicted Label\": predicted_label},\n",
            "<ipython-input-65-7534fcb2f2a3>:11: FutureWarning: The frame.append method is deprecated and will be removed from pandas in a future version. Use pandas.concat instead.\n",
            "  df = df.append({\"Index\": index, \"Sentence\": sentence, \"True Label\": true_label, \"Predicted Label\": predicted_label},\n",
            "<ipython-input-65-7534fcb2f2a3>:11: FutureWarning: The frame.append method is deprecated and will be removed from pandas in a future version. Use pandas.concat instead.\n",
            "  df = df.append({\"Index\": index, \"Sentence\": sentence, \"True Label\": true_label, \"Predicted Label\": predicted_label},\n",
            "<ipython-input-65-7534fcb2f2a3>:11: FutureWarning: The frame.append method is deprecated and will be removed from pandas in a future version. Use pandas.concat instead.\n",
            "  df = df.append({\"Index\": index, \"Sentence\": sentence, \"True Label\": true_label, \"Predicted Label\": predicted_label},\n",
            "<ipython-input-65-7534fcb2f2a3>:11: FutureWarning: The frame.append method is deprecated and will be removed from pandas in a future version. Use pandas.concat instead.\n",
            "  df = df.append({\"Index\": index, \"Sentence\": sentence, \"True Label\": true_label, \"Predicted Label\": predicted_label},\n",
            "<ipython-input-65-7534fcb2f2a3>:11: FutureWarning: The frame.append method is deprecated and will be removed from pandas in a future version. Use pandas.concat instead.\n",
            "  df = df.append({\"Index\": index, \"Sentence\": sentence, \"True Label\": true_label, \"Predicted Label\": predicted_label},\n",
            "<ipython-input-65-7534fcb2f2a3>:11: FutureWarning: The frame.append method is deprecated and will be removed from pandas in a future version. Use pandas.concat instead.\n",
            "  df = df.append({\"Index\": index, \"Sentence\": sentence, \"True Label\": true_label, \"Predicted Label\": predicted_label},\n",
            "<ipython-input-65-7534fcb2f2a3>:11: FutureWarning: The frame.append method is deprecated and will be removed from pandas in a future version. Use pandas.concat instead.\n",
            "  df = df.append({\"Index\": index, \"Sentence\": sentence, \"True Label\": true_label, \"Predicted Label\": predicted_label},\n",
            "<ipython-input-65-7534fcb2f2a3>:11: FutureWarning: The frame.append method is deprecated and will be removed from pandas in a future version. Use pandas.concat instead.\n",
            "  df = df.append({\"Index\": index, \"Sentence\": sentence, \"True Label\": true_label, \"Predicted Label\": predicted_label},\n",
            "<ipython-input-65-7534fcb2f2a3>:11: FutureWarning: The frame.append method is deprecated and will be removed from pandas in a future version. Use pandas.concat instead.\n",
            "  df = df.append({\"Index\": index, \"Sentence\": sentence, \"True Label\": true_label, \"Predicted Label\": predicted_label},\n",
            "<ipython-input-65-7534fcb2f2a3>:11: FutureWarning: The frame.append method is deprecated and will be removed from pandas in a future version. Use pandas.concat instead.\n",
            "  df = df.append({\"Index\": index, \"Sentence\": sentence, \"True Label\": true_label, \"Predicted Label\": predicted_label},\n",
            "<ipython-input-65-7534fcb2f2a3>:11: FutureWarning: The frame.append method is deprecated and will be removed from pandas in a future version. Use pandas.concat instead.\n",
            "  df = df.append({\"Index\": index, \"Sentence\": sentence, \"True Label\": true_label, \"Predicted Label\": predicted_label},\n",
            "<ipython-input-65-7534fcb2f2a3>:11: FutureWarning: The frame.append method is deprecated and will be removed from pandas in a future version. Use pandas.concat instead.\n",
            "  df = df.append({\"Index\": index, \"Sentence\": sentence, \"True Label\": true_label, \"Predicted Label\": predicted_label},\n",
            "<ipython-input-65-7534fcb2f2a3>:11: FutureWarning: The frame.append method is deprecated and will be removed from pandas in a future version. Use pandas.concat instead.\n",
            "  df = df.append({\"Index\": index, \"Sentence\": sentence, \"True Label\": true_label, \"Predicted Label\": predicted_label},\n",
            "<ipython-input-65-7534fcb2f2a3>:11: FutureWarning: The frame.append method is deprecated and will be removed from pandas in a future version. Use pandas.concat instead.\n",
            "  df = df.append({\"Index\": index, \"Sentence\": sentence, \"True Label\": true_label, \"Predicted Label\": predicted_label},\n",
            "<ipython-input-65-7534fcb2f2a3>:11: FutureWarning: The frame.append method is deprecated and will be removed from pandas in a future version. Use pandas.concat instead.\n",
            "  df = df.append({\"Index\": index, \"Sentence\": sentence, \"True Label\": true_label, \"Predicted Label\": predicted_label},\n",
            "<ipython-input-65-7534fcb2f2a3>:11: FutureWarning: The frame.append method is deprecated and will be removed from pandas in a future version. Use pandas.concat instead.\n",
            "  df = df.append({\"Index\": index, \"Sentence\": sentence, \"True Label\": true_label, \"Predicted Label\": predicted_label},\n",
            "<ipython-input-65-7534fcb2f2a3>:11: FutureWarning: The frame.append method is deprecated and will be removed from pandas in a future version. Use pandas.concat instead.\n",
            "  df = df.append({\"Index\": index, \"Sentence\": sentence, \"True Label\": true_label, \"Predicted Label\": predicted_label},\n",
            "<ipython-input-65-7534fcb2f2a3>:11: FutureWarning: The frame.append method is deprecated and will be removed from pandas in a future version. Use pandas.concat instead.\n",
            "  df = df.append({\"Index\": index, \"Sentence\": sentence, \"True Label\": true_label, \"Predicted Label\": predicted_label},\n",
            "<ipython-input-65-7534fcb2f2a3>:11: FutureWarning: The frame.append method is deprecated and will be removed from pandas in a future version. Use pandas.concat instead.\n",
            "  df = df.append({\"Index\": index, \"Sentence\": sentence, \"True Label\": true_label, \"Predicted Label\": predicted_label},\n",
            "<ipython-input-65-7534fcb2f2a3>:11: FutureWarning: The frame.append method is deprecated and will be removed from pandas in a future version. Use pandas.concat instead.\n",
            "  df = df.append({\"Index\": index, \"Sentence\": sentence, \"True Label\": true_label, \"Predicted Label\": predicted_label},\n",
            "<ipython-input-65-7534fcb2f2a3>:11: FutureWarning: The frame.append method is deprecated and will be removed from pandas in a future version. Use pandas.concat instead.\n",
            "  df = df.append({\"Index\": index, \"Sentence\": sentence, \"True Label\": true_label, \"Predicted Label\": predicted_label},\n",
            "<ipython-input-65-7534fcb2f2a3>:11: FutureWarning: The frame.append method is deprecated and will be removed from pandas in a future version. Use pandas.concat instead.\n",
            "  df = df.append({\"Index\": index, \"Sentence\": sentence, \"True Label\": true_label, \"Predicted Label\": predicted_label},\n",
            "<ipython-input-65-7534fcb2f2a3>:11: FutureWarning: The frame.append method is deprecated and will be removed from pandas in a future version. Use pandas.concat instead.\n",
            "  df = df.append({\"Index\": index, \"Sentence\": sentence, \"True Label\": true_label, \"Predicted Label\": predicted_label},\n",
            "<ipython-input-65-7534fcb2f2a3>:11: FutureWarning: The frame.append method is deprecated and will be removed from pandas in a future version. Use pandas.concat instead.\n",
            "  df = df.append({\"Index\": index, \"Sentence\": sentence, \"True Label\": true_label, \"Predicted Label\": predicted_label},\n",
            "<ipython-input-65-7534fcb2f2a3>:11: FutureWarning: The frame.append method is deprecated and will be removed from pandas in a future version. Use pandas.concat instead.\n",
            "  df = df.append({\"Index\": index, \"Sentence\": sentence, \"True Label\": true_label, \"Predicted Label\": predicted_label},\n",
            "<ipython-input-65-7534fcb2f2a3>:11: FutureWarning: The frame.append method is deprecated and will be removed from pandas in a future version. Use pandas.concat instead.\n",
            "  df = df.append({\"Index\": index, \"Sentence\": sentence, \"True Label\": true_label, \"Predicted Label\": predicted_label},\n",
            "<ipython-input-65-7534fcb2f2a3>:11: FutureWarning: The frame.append method is deprecated and will be removed from pandas in a future version. Use pandas.concat instead.\n",
            "  df = df.append({\"Index\": index, \"Sentence\": sentence, \"True Label\": true_label, \"Predicted Label\": predicted_label},\n",
            "<ipython-input-65-7534fcb2f2a3>:11: FutureWarning: The frame.append method is deprecated and will be removed from pandas in a future version. Use pandas.concat instead.\n",
            "  df = df.append({\"Index\": index, \"Sentence\": sentence, \"True Label\": true_label, \"Predicted Label\": predicted_label},\n",
            "<ipython-input-65-7534fcb2f2a3>:11: FutureWarning: The frame.append method is deprecated and will be removed from pandas in a future version. Use pandas.concat instead.\n",
            "  df = df.append({\"Index\": index, \"Sentence\": sentence, \"True Label\": true_label, \"Predicted Label\": predicted_label},\n",
            "<ipython-input-65-7534fcb2f2a3>:11: FutureWarning: The frame.append method is deprecated and will be removed from pandas in a future version. Use pandas.concat instead.\n",
            "  df = df.append({\"Index\": index, \"Sentence\": sentence, \"True Label\": true_label, \"Predicted Label\": predicted_label},\n",
            "<ipython-input-65-7534fcb2f2a3>:11: FutureWarning: The frame.append method is deprecated and will be removed from pandas in a future version. Use pandas.concat instead.\n",
            "  df = df.append({\"Index\": index, \"Sentence\": sentence, \"True Label\": true_label, \"Predicted Label\": predicted_label},\n",
            "<ipython-input-65-7534fcb2f2a3>:11: FutureWarning: The frame.append method is deprecated and will be removed from pandas in a future version. Use pandas.concat instead.\n",
            "  df = df.append({\"Index\": index, \"Sentence\": sentence, \"True Label\": true_label, \"Predicted Label\": predicted_label},\n",
            "<ipython-input-65-7534fcb2f2a3>:11: FutureWarning: The frame.append method is deprecated and will be removed from pandas in a future version. Use pandas.concat instead.\n",
            "  df = df.append({\"Index\": index, \"Sentence\": sentence, \"True Label\": true_label, \"Predicted Label\": predicted_label},\n",
            "<ipython-input-65-7534fcb2f2a3>:11: FutureWarning: The frame.append method is deprecated and will be removed from pandas in a future version. Use pandas.concat instead.\n",
            "  df = df.append({\"Index\": index, \"Sentence\": sentence, \"True Label\": true_label, \"Predicted Label\": predicted_label},\n",
            "<ipython-input-65-7534fcb2f2a3>:11: FutureWarning: The frame.append method is deprecated and will be removed from pandas in a future version. Use pandas.concat instead.\n",
            "  df = df.append({\"Index\": index, \"Sentence\": sentence, \"True Label\": true_label, \"Predicted Label\": predicted_label},\n",
            "<ipython-input-65-7534fcb2f2a3>:11: FutureWarning: The frame.append method is deprecated and will be removed from pandas in a future version. Use pandas.concat instead.\n",
            "  df = df.append({\"Index\": index, \"Sentence\": sentence, \"True Label\": true_label, \"Predicted Label\": predicted_label},\n",
            "<ipython-input-65-7534fcb2f2a3>:11: FutureWarning: The frame.append method is deprecated and will be removed from pandas in a future version. Use pandas.concat instead.\n",
            "  df = df.append({\"Index\": index, \"Sentence\": sentence, \"True Label\": true_label, \"Predicted Label\": predicted_label},\n",
            "<ipython-input-65-7534fcb2f2a3>:11: FutureWarning: The frame.append method is deprecated and will be removed from pandas in a future version. Use pandas.concat instead.\n",
            "  df = df.append({\"Index\": index, \"Sentence\": sentence, \"True Label\": true_label, \"Predicted Label\": predicted_label},\n",
            "<ipython-input-65-7534fcb2f2a3>:11: FutureWarning: The frame.append method is deprecated and will be removed from pandas in a future version. Use pandas.concat instead.\n",
            "  df = df.append({\"Index\": index, \"Sentence\": sentence, \"True Label\": true_label, \"Predicted Label\": predicted_label},\n",
            "<ipython-input-65-7534fcb2f2a3>:11: FutureWarning: The frame.append method is deprecated and will be removed from pandas in a future version. Use pandas.concat instead.\n",
            "  df = df.append({\"Index\": index, \"Sentence\": sentence, \"True Label\": true_label, \"Predicted Label\": predicted_label},\n",
            "<ipython-input-65-7534fcb2f2a3>:11: FutureWarning: The frame.append method is deprecated and will be removed from pandas in a future version. Use pandas.concat instead.\n",
            "  df = df.append({\"Index\": index, \"Sentence\": sentence, \"True Label\": true_label, \"Predicted Label\": predicted_label},\n",
            "<ipython-input-65-7534fcb2f2a3>:11: FutureWarning: The frame.append method is deprecated and will be removed from pandas in a future version. Use pandas.concat instead.\n",
            "  df = df.append({\"Index\": index, \"Sentence\": sentence, \"True Label\": true_label, \"Predicted Label\": predicted_label},\n",
            "<ipython-input-65-7534fcb2f2a3>:11: FutureWarning: The frame.append method is deprecated and will be removed from pandas in a future version. Use pandas.concat instead.\n",
            "  df = df.append({\"Index\": index, \"Sentence\": sentence, \"True Label\": true_label, \"Predicted Label\": predicted_label},\n",
            "<ipython-input-65-7534fcb2f2a3>:11: FutureWarning: The frame.append method is deprecated and will be removed from pandas in a future version. Use pandas.concat instead.\n",
            "  df = df.append({\"Index\": index, \"Sentence\": sentence, \"True Label\": true_label, \"Predicted Label\": predicted_label},\n",
            "<ipython-input-65-7534fcb2f2a3>:11: FutureWarning: The frame.append method is deprecated and will be removed from pandas in a future version. Use pandas.concat instead.\n",
            "  df = df.append({\"Index\": index, \"Sentence\": sentence, \"True Label\": true_label, \"Predicted Label\": predicted_label},\n",
            "<ipython-input-65-7534fcb2f2a3>:11: FutureWarning: The frame.append method is deprecated and will be removed from pandas in a future version. Use pandas.concat instead.\n",
            "  df = df.append({\"Index\": index, \"Sentence\": sentence, \"True Label\": true_label, \"Predicted Label\": predicted_label},\n",
            "<ipython-input-65-7534fcb2f2a3>:11: FutureWarning: The frame.append method is deprecated and will be removed from pandas in a future version. Use pandas.concat instead.\n",
            "  df = df.append({\"Index\": index, \"Sentence\": sentence, \"True Label\": true_label, \"Predicted Label\": predicted_label},\n",
            "<ipython-input-65-7534fcb2f2a3>:11: FutureWarning: The frame.append method is deprecated and will be removed from pandas in a future version. Use pandas.concat instead.\n",
            "  df = df.append({\"Index\": index, \"Sentence\": sentence, \"True Label\": true_label, \"Predicted Label\": predicted_label},\n",
            "<ipython-input-65-7534fcb2f2a3>:11: FutureWarning: The frame.append method is deprecated and will be removed from pandas in a future version. Use pandas.concat instead.\n",
            "  df = df.append({\"Index\": index, \"Sentence\": sentence, \"True Label\": true_label, \"Predicted Label\": predicted_label},\n",
            "<ipython-input-65-7534fcb2f2a3>:11: FutureWarning: The frame.append method is deprecated and will be removed from pandas in a future version. Use pandas.concat instead.\n",
            "  df = df.append({\"Index\": index, \"Sentence\": sentence, \"True Label\": true_label, \"Predicted Label\": predicted_label},\n",
            "<ipython-input-65-7534fcb2f2a3>:11: FutureWarning: The frame.append method is deprecated and will be removed from pandas in a future version. Use pandas.concat instead.\n",
            "  df = df.append({\"Index\": index, \"Sentence\": sentence, \"True Label\": true_label, \"Predicted Label\": predicted_label},\n",
            "<ipython-input-65-7534fcb2f2a3>:11: FutureWarning: The frame.append method is deprecated and will be removed from pandas in a future version. Use pandas.concat instead.\n",
            "  df = df.append({\"Index\": index, \"Sentence\": sentence, \"True Label\": true_label, \"Predicted Label\": predicted_label},\n",
            "<ipython-input-65-7534fcb2f2a3>:11: FutureWarning: The frame.append method is deprecated and will be removed from pandas in a future version. Use pandas.concat instead.\n",
            "  df = df.append({\"Index\": index, \"Sentence\": sentence, \"True Label\": true_label, \"Predicted Label\": predicted_label},\n",
            "<ipython-input-65-7534fcb2f2a3>:11: FutureWarning: The frame.append method is deprecated and will be removed from pandas in a future version. Use pandas.concat instead.\n",
            "  df = df.append({\"Index\": index, \"Sentence\": sentence, \"True Label\": true_label, \"Predicted Label\": predicted_label},\n",
            "<ipython-input-65-7534fcb2f2a3>:11: FutureWarning: The frame.append method is deprecated and will be removed from pandas in a future version. Use pandas.concat instead.\n",
            "  df = df.append({\"Index\": index, \"Sentence\": sentence, \"True Label\": true_label, \"Predicted Label\": predicted_label},\n",
            "<ipython-input-65-7534fcb2f2a3>:11: FutureWarning: The frame.append method is deprecated and will be removed from pandas in a future version. Use pandas.concat instead.\n",
            "  df = df.append({\"Index\": index, \"Sentence\": sentence, \"True Label\": true_label, \"Predicted Label\": predicted_label},\n",
            "<ipython-input-65-7534fcb2f2a3>:11: FutureWarning: The frame.append method is deprecated and will be removed from pandas in a future version. Use pandas.concat instead.\n",
            "  df = df.append({\"Index\": index, \"Sentence\": sentence, \"True Label\": true_label, \"Predicted Label\": predicted_label},\n",
            "<ipython-input-65-7534fcb2f2a3>:11: FutureWarning: The frame.append method is deprecated and will be removed from pandas in a future version. Use pandas.concat instead.\n",
            "  df = df.append({\"Index\": index, \"Sentence\": sentence, \"True Label\": true_label, \"Predicted Label\": predicted_label},\n",
            "<ipython-input-65-7534fcb2f2a3>:11: FutureWarning: The frame.append method is deprecated and will be removed from pandas in a future version. Use pandas.concat instead.\n",
            "  df = df.append({\"Index\": index, \"Sentence\": sentence, \"True Label\": true_label, \"Predicted Label\": predicted_label},\n",
            "<ipython-input-65-7534fcb2f2a3>:11: FutureWarning: The frame.append method is deprecated and will be removed from pandas in a future version. Use pandas.concat instead.\n",
            "  df = df.append({\"Index\": index, \"Sentence\": sentence, \"True Label\": true_label, \"Predicted Label\": predicted_label},\n",
            "<ipython-input-65-7534fcb2f2a3>:11: FutureWarning: The frame.append method is deprecated and will be removed from pandas in a future version. Use pandas.concat instead.\n",
            "  df = df.append({\"Index\": index, \"Sentence\": sentence, \"True Label\": true_label, \"Predicted Label\": predicted_label},\n",
            "<ipython-input-65-7534fcb2f2a3>:11: FutureWarning: The frame.append method is deprecated and will be removed from pandas in a future version. Use pandas.concat instead.\n",
            "  df = df.append({\"Index\": index, \"Sentence\": sentence, \"True Label\": true_label, \"Predicted Label\": predicted_label},\n",
            "<ipython-input-65-7534fcb2f2a3>:11: FutureWarning: The frame.append method is deprecated and will be removed from pandas in a future version. Use pandas.concat instead.\n",
            "  df = df.append({\"Index\": index, \"Sentence\": sentence, \"True Label\": true_label, \"Predicted Label\": predicted_label},\n",
            "<ipython-input-65-7534fcb2f2a3>:11: FutureWarning: The frame.append method is deprecated and will be removed from pandas in a future version. Use pandas.concat instead.\n",
            "  df = df.append({\"Index\": index, \"Sentence\": sentence, \"True Label\": true_label, \"Predicted Label\": predicted_label},\n",
            "<ipython-input-65-7534fcb2f2a3>:11: FutureWarning: The frame.append method is deprecated and will be removed from pandas in a future version. Use pandas.concat instead.\n",
            "  df = df.append({\"Index\": index, \"Sentence\": sentence, \"True Label\": true_label, \"Predicted Label\": predicted_label},\n",
            "<ipython-input-65-7534fcb2f2a3>:11: FutureWarning: The frame.append method is deprecated and will be removed from pandas in a future version. Use pandas.concat instead.\n",
            "  df = df.append({\"Index\": index, \"Sentence\": sentence, \"True Label\": true_label, \"Predicted Label\": predicted_label},\n",
            "<ipython-input-65-7534fcb2f2a3>:11: FutureWarning: The frame.append method is deprecated and will be removed from pandas in a future version. Use pandas.concat instead.\n",
            "  df = df.append({\"Index\": index, \"Sentence\": sentence, \"True Label\": true_label, \"Predicted Label\": predicted_label},\n",
            "<ipython-input-65-7534fcb2f2a3>:11: FutureWarning: The frame.append method is deprecated and will be removed from pandas in a future version. Use pandas.concat instead.\n",
            "  df = df.append({\"Index\": index, \"Sentence\": sentence, \"True Label\": true_label, \"Predicted Label\": predicted_label},\n",
            "<ipython-input-65-7534fcb2f2a3>:11: FutureWarning: The frame.append method is deprecated and will be removed from pandas in a future version. Use pandas.concat instead.\n",
            "  df = df.append({\"Index\": index, \"Sentence\": sentence, \"True Label\": true_label, \"Predicted Label\": predicted_label},\n",
            "<ipython-input-65-7534fcb2f2a3>:11: FutureWarning: The frame.append method is deprecated and will be removed from pandas in a future version. Use pandas.concat instead.\n",
            "  df = df.append({\"Index\": index, \"Sentence\": sentence, \"True Label\": true_label, \"Predicted Label\": predicted_label},\n",
            "<ipython-input-65-7534fcb2f2a3>:11: FutureWarning: The frame.append method is deprecated and will be removed from pandas in a future version. Use pandas.concat instead.\n",
            "  df = df.append({\"Index\": index, \"Sentence\": sentence, \"True Label\": true_label, \"Predicted Label\": predicted_label},\n",
            "<ipython-input-65-7534fcb2f2a3>:11: FutureWarning: The frame.append method is deprecated and will be removed from pandas in a future version. Use pandas.concat instead.\n",
            "  df = df.append({\"Index\": index, \"Sentence\": sentence, \"True Label\": true_label, \"Predicted Label\": predicted_label},\n",
            "<ipython-input-65-7534fcb2f2a3>:11: FutureWarning: The frame.append method is deprecated and will be removed from pandas in a future version. Use pandas.concat instead.\n",
            "  df = df.append({\"Index\": index, \"Sentence\": sentence, \"True Label\": true_label, \"Predicted Label\": predicted_label},\n",
            "<ipython-input-65-7534fcb2f2a3>:11: FutureWarning: The frame.append method is deprecated and will be removed from pandas in a future version. Use pandas.concat instead.\n",
            "  df = df.append({\"Index\": index, \"Sentence\": sentence, \"True Label\": true_label, \"Predicted Label\": predicted_label},\n",
            "<ipython-input-65-7534fcb2f2a3>:11: FutureWarning: The frame.append method is deprecated and will be removed from pandas in a future version. Use pandas.concat instead.\n",
            "  df = df.append({\"Index\": index, \"Sentence\": sentence, \"True Label\": true_label, \"Predicted Label\": predicted_label},\n",
            "<ipython-input-65-7534fcb2f2a3>:11: FutureWarning: The frame.append method is deprecated and will be removed from pandas in a future version. Use pandas.concat instead.\n",
            "  df = df.append({\"Index\": index, \"Sentence\": sentence, \"True Label\": true_label, \"Predicted Label\": predicted_label},\n",
            "<ipython-input-65-7534fcb2f2a3>:11: FutureWarning: The frame.append method is deprecated and will be removed from pandas in a future version. Use pandas.concat instead.\n",
            "  df = df.append({\"Index\": index, \"Sentence\": sentence, \"True Label\": true_label, \"Predicted Label\": predicted_label},\n",
            "<ipython-input-65-7534fcb2f2a3>:11: FutureWarning: The frame.append method is deprecated and will be removed from pandas in a future version. Use pandas.concat instead.\n",
            "  df = df.append({\"Index\": index, \"Sentence\": sentence, \"True Label\": true_label, \"Predicted Label\": predicted_label},\n",
            "<ipython-input-65-7534fcb2f2a3>:11: FutureWarning: The frame.append method is deprecated and will be removed from pandas in a future version. Use pandas.concat instead.\n",
            "  df = df.append({\"Index\": index, \"Sentence\": sentence, \"True Label\": true_label, \"Predicted Label\": predicted_label},\n",
            "<ipython-input-65-7534fcb2f2a3>:11: FutureWarning: The frame.append method is deprecated and will be removed from pandas in a future version. Use pandas.concat instead.\n",
            "  df = df.append({\"Index\": index, \"Sentence\": sentence, \"True Label\": true_label, \"Predicted Label\": predicted_label},\n",
            "<ipython-input-65-7534fcb2f2a3>:11: FutureWarning: The frame.append method is deprecated and will be removed from pandas in a future version. Use pandas.concat instead.\n",
            "  df = df.append({\"Index\": index, \"Sentence\": sentence, \"True Label\": true_label, \"Predicted Label\": predicted_label},\n",
            "<ipython-input-65-7534fcb2f2a3>:11: FutureWarning: The frame.append method is deprecated and will be removed from pandas in a future version. Use pandas.concat instead.\n",
            "  df = df.append({\"Index\": index, \"Sentence\": sentence, \"True Label\": true_label, \"Predicted Label\": predicted_label},\n",
            "<ipython-input-65-7534fcb2f2a3>:11: FutureWarning: The frame.append method is deprecated and will be removed from pandas in a future version. Use pandas.concat instead.\n",
            "  df = df.append({\"Index\": index, \"Sentence\": sentence, \"True Label\": true_label, \"Predicted Label\": predicted_label},\n",
            "<ipython-input-65-7534fcb2f2a3>:11: FutureWarning: The frame.append method is deprecated and will be removed from pandas in a future version. Use pandas.concat instead.\n",
            "  df = df.append({\"Index\": index, \"Sentence\": sentence, \"True Label\": true_label, \"Predicted Label\": predicted_label},\n",
            "<ipython-input-65-7534fcb2f2a3>:11: FutureWarning: The frame.append method is deprecated and will be removed from pandas in a future version. Use pandas.concat instead.\n",
            "  df = df.append({\"Index\": index, \"Sentence\": sentence, \"True Label\": true_label, \"Predicted Label\": predicted_label},\n",
            "<ipython-input-65-7534fcb2f2a3>:11: FutureWarning: The frame.append method is deprecated and will be removed from pandas in a future version. Use pandas.concat instead.\n",
            "  df = df.append({\"Index\": index, \"Sentence\": sentence, \"True Label\": true_label, \"Predicted Label\": predicted_label},\n",
            "<ipython-input-65-7534fcb2f2a3>:11: FutureWarning: The frame.append method is deprecated and will be removed from pandas in a future version. Use pandas.concat instead.\n",
            "  df = df.append({\"Index\": index, \"Sentence\": sentence, \"True Label\": true_label, \"Predicted Label\": predicted_label},\n",
            "<ipython-input-65-7534fcb2f2a3>:11: FutureWarning: The frame.append method is deprecated and will be removed from pandas in a future version. Use pandas.concat instead.\n",
            "  df = df.append({\"Index\": index, \"Sentence\": sentence, \"True Label\": true_label, \"Predicted Label\": predicted_label},\n",
            "<ipython-input-65-7534fcb2f2a3>:11: FutureWarning: The frame.append method is deprecated and will be removed from pandas in a future version. Use pandas.concat instead.\n",
            "  df = df.append({\"Index\": index, \"Sentence\": sentence, \"True Label\": true_label, \"Predicted Label\": predicted_label},\n",
            "<ipython-input-65-7534fcb2f2a3>:11: FutureWarning: The frame.append method is deprecated and will be removed from pandas in a future version. Use pandas.concat instead.\n",
            "  df = df.append({\"Index\": index, \"Sentence\": sentence, \"True Label\": true_label, \"Predicted Label\": predicted_label},\n",
            "<ipython-input-65-7534fcb2f2a3>:11: FutureWarning: The frame.append method is deprecated and will be removed from pandas in a future version. Use pandas.concat instead.\n",
            "  df = df.append({\"Index\": index, \"Sentence\": sentence, \"True Label\": true_label, \"Predicted Label\": predicted_label},\n",
            "<ipython-input-65-7534fcb2f2a3>:11: FutureWarning: The frame.append method is deprecated and will be removed from pandas in a future version. Use pandas.concat instead.\n",
            "  df = df.append({\"Index\": index, \"Sentence\": sentence, \"True Label\": true_label, \"Predicted Label\": predicted_label},\n",
            "<ipython-input-65-7534fcb2f2a3>:11: FutureWarning: The frame.append method is deprecated and will be removed from pandas in a future version. Use pandas.concat instead.\n",
            "  df = df.append({\"Index\": index, \"Sentence\": sentence, \"True Label\": true_label, \"Predicted Label\": predicted_label},\n",
            "<ipython-input-65-7534fcb2f2a3>:11: FutureWarning: The frame.append method is deprecated and will be removed from pandas in a future version. Use pandas.concat instead.\n",
            "  df = df.append({\"Index\": index, \"Sentence\": sentence, \"True Label\": true_label, \"Predicted Label\": predicted_label},\n",
            "<ipython-input-65-7534fcb2f2a3>:11: FutureWarning: The frame.append method is deprecated and will be removed from pandas in a future version. Use pandas.concat instead.\n",
            "  df = df.append({\"Index\": index, \"Sentence\": sentence, \"True Label\": true_label, \"Predicted Label\": predicted_label},\n",
            "<ipython-input-65-7534fcb2f2a3>:11: FutureWarning: The frame.append method is deprecated and will be removed from pandas in a future version. Use pandas.concat instead.\n",
            "  df = df.append({\"Index\": index, \"Sentence\": sentence, \"True Label\": true_label, \"Predicted Label\": predicted_label},\n",
            "<ipython-input-65-7534fcb2f2a3>:11: FutureWarning: The frame.append method is deprecated and will be removed from pandas in a future version. Use pandas.concat instead.\n",
            "  df = df.append({\"Index\": index, \"Sentence\": sentence, \"True Label\": true_label, \"Predicted Label\": predicted_label},\n",
            "<ipython-input-65-7534fcb2f2a3>:11: FutureWarning: The frame.append method is deprecated and will be removed from pandas in a future version. Use pandas.concat instead.\n",
            "  df = df.append({\"Index\": index, \"Sentence\": sentence, \"True Label\": true_label, \"Predicted Label\": predicted_label},\n",
            "<ipython-input-65-7534fcb2f2a3>:11: FutureWarning: The frame.append method is deprecated and will be removed from pandas in a future version. Use pandas.concat instead.\n",
            "  df = df.append({\"Index\": index, \"Sentence\": sentence, \"True Label\": true_label, \"Predicted Label\": predicted_label},\n",
            "<ipython-input-65-7534fcb2f2a3>:11: FutureWarning: The frame.append method is deprecated and will be removed from pandas in a future version. Use pandas.concat instead.\n",
            "  df = df.append({\"Index\": index, \"Sentence\": sentence, \"True Label\": true_label, \"Predicted Label\": predicted_label},\n",
            "<ipython-input-65-7534fcb2f2a3>:11: FutureWarning: The frame.append method is deprecated and will be removed from pandas in a future version. Use pandas.concat instead.\n",
            "  df = df.append({\"Index\": index, \"Sentence\": sentence, \"True Label\": true_label, \"Predicted Label\": predicted_label},\n",
            "<ipython-input-65-7534fcb2f2a3>:11: FutureWarning: The frame.append method is deprecated and will be removed from pandas in a future version. Use pandas.concat instead.\n",
            "  df = df.append({\"Index\": index, \"Sentence\": sentence, \"True Label\": true_label, \"Predicted Label\": predicted_label},\n",
            "<ipython-input-65-7534fcb2f2a3>:11: FutureWarning: The frame.append method is deprecated and will be removed from pandas in a future version. Use pandas.concat instead.\n",
            "  df = df.append({\"Index\": index, \"Sentence\": sentence, \"True Label\": true_label, \"Predicted Label\": predicted_label},\n",
            "<ipython-input-65-7534fcb2f2a3>:11: FutureWarning: The frame.append method is deprecated and will be removed from pandas in a future version. Use pandas.concat instead.\n",
            "  df = df.append({\"Index\": index, \"Sentence\": sentence, \"True Label\": true_label, \"Predicted Label\": predicted_label},\n",
            "<ipython-input-65-7534fcb2f2a3>:11: FutureWarning: The frame.append method is deprecated and will be removed from pandas in a future version. Use pandas.concat instead.\n",
            "  df = df.append({\"Index\": index, \"Sentence\": sentence, \"True Label\": true_label, \"Predicted Label\": predicted_label},\n",
            "<ipython-input-65-7534fcb2f2a3>:11: FutureWarning: The frame.append method is deprecated and will be removed from pandas in a future version. Use pandas.concat instead.\n",
            "  df = df.append({\"Index\": index, \"Sentence\": sentence, \"True Label\": true_label, \"Predicted Label\": predicted_label},\n",
            "<ipython-input-65-7534fcb2f2a3>:11: FutureWarning: The frame.append method is deprecated and will be removed from pandas in a future version. Use pandas.concat instead.\n",
            "  df = df.append({\"Index\": index, \"Sentence\": sentence, \"True Label\": true_label, \"Predicted Label\": predicted_label},\n",
            "<ipython-input-65-7534fcb2f2a3>:11: FutureWarning: The frame.append method is deprecated and will be removed from pandas in a future version. Use pandas.concat instead.\n",
            "  df = df.append({\"Index\": index, \"Sentence\": sentence, \"True Label\": true_label, \"Predicted Label\": predicted_label},\n",
            "<ipython-input-65-7534fcb2f2a3>:11: FutureWarning: The frame.append method is deprecated and will be removed from pandas in a future version. Use pandas.concat instead.\n",
            "  df = df.append({\"Index\": index, \"Sentence\": sentence, \"True Label\": true_label, \"Predicted Label\": predicted_label},\n",
            "<ipython-input-65-7534fcb2f2a3>:11: FutureWarning: The frame.append method is deprecated and will be removed from pandas in a future version. Use pandas.concat instead.\n",
            "  df = df.append({\"Index\": index, \"Sentence\": sentence, \"True Label\": true_label, \"Predicted Label\": predicted_label},\n",
            "<ipython-input-65-7534fcb2f2a3>:11: FutureWarning: The frame.append method is deprecated and will be removed from pandas in a future version. Use pandas.concat instead.\n",
            "  df = df.append({\"Index\": index, \"Sentence\": sentence, \"True Label\": true_label, \"Predicted Label\": predicted_label},\n",
            "<ipython-input-65-7534fcb2f2a3>:11: FutureWarning: The frame.append method is deprecated and will be removed from pandas in a future version. Use pandas.concat instead.\n",
            "  df = df.append({\"Index\": index, \"Sentence\": sentence, \"True Label\": true_label, \"Predicted Label\": predicted_label},\n",
            "<ipython-input-65-7534fcb2f2a3>:11: FutureWarning: The frame.append method is deprecated and will be removed from pandas in a future version. Use pandas.concat instead.\n",
            "  df = df.append({\"Index\": index, \"Sentence\": sentence, \"True Label\": true_label, \"Predicted Label\": predicted_label},\n",
            "<ipython-input-65-7534fcb2f2a3>:11: FutureWarning: The frame.append method is deprecated and will be removed from pandas in a future version. Use pandas.concat instead.\n",
            "  df = df.append({\"Index\": index, \"Sentence\": sentence, \"True Label\": true_label, \"Predicted Label\": predicted_label},\n",
            "<ipython-input-65-7534fcb2f2a3>:11: FutureWarning: The frame.append method is deprecated and will be removed from pandas in a future version. Use pandas.concat instead.\n",
            "  df = df.append({\"Index\": index, \"Sentence\": sentence, \"True Label\": true_label, \"Predicted Label\": predicted_label},\n",
            "<ipython-input-65-7534fcb2f2a3>:11: FutureWarning: The frame.append method is deprecated and will be removed from pandas in a future version. Use pandas.concat instead.\n",
            "  df = df.append({\"Index\": index, \"Sentence\": sentence, \"True Label\": true_label, \"Predicted Label\": predicted_label},\n",
            "<ipython-input-65-7534fcb2f2a3>:11: FutureWarning: The frame.append method is deprecated and will be removed from pandas in a future version. Use pandas.concat instead.\n",
            "  df = df.append({\"Index\": index, \"Sentence\": sentence, \"True Label\": true_label, \"Predicted Label\": predicted_label},\n",
            "<ipython-input-65-7534fcb2f2a3>:11: FutureWarning: The frame.append method is deprecated and will be removed from pandas in a future version. Use pandas.concat instead.\n",
            "  df = df.append({\"Index\": index, \"Sentence\": sentence, \"True Label\": true_label, \"Predicted Label\": predicted_label},\n",
            "<ipython-input-65-7534fcb2f2a3>:11: FutureWarning: The frame.append method is deprecated and will be removed from pandas in a future version. Use pandas.concat instead.\n",
            "  df = df.append({\"Index\": index, \"Sentence\": sentence, \"True Label\": true_label, \"Predicted Label\": predicted_label},\n",
            "<ipython-input-65-7534fcb2f2a3>:11: FutureWarning: The frame.append method is deprecated and will be removed from pandas in a future version. Use pandas.concat instead.\n",
            "  df = df.append({\"Index\": index, \"Sentence\": sentence, \"True Label\": true_label, \"Predicted Label\": predicted_label},\n",
            "<ipython-input-65-7534fcb2f2a3>:11: FutureWarning: The frame.append method is deprecated and will be removed from pandas in a future version. Use pandas.concat instead.\n",
            "  df = df.append({\"Index\": index, \"Sentence\": sentence, \"True Label\": true_label, \"Predicted Label\": predicted_label},\n",
            "<ipython-input-65-7534fcb2f2a3>:11: FutureWarning: The frame.append method is deprecated and will be removed from pandas in a future version. Use pandas.concat instead.\n",
            "  df = df.append({\"Index\": index, \"Sentence\": sentence, \"True Label\": true_label, \"Predicted Label\": predicted_label},\n",
            "<ipython-input-65-7534fcb2f2a3>:11: FutureWarning: The frame.append method is deprecated and will be removed from pandas in a future version. Use pandas.concat instead.\n",
            "  df = df.append({\"Index\": index, \"Sentence\": sentence, \"True Label\": true_label, \"Predicted Label\": predicted_label},\n",
            "<ipython-input-65-7534fcb2f2a3>:11: FutureWarning: The frame.append method is deprecated and will be removed from pandas in a future version. Use pandas.concat instead.\n",
            "  df = df.append({\"Index\": index, \"Sentence\": sentence, \"True Label\": true_label, \"Predicted Label\": predicted_label},\n",
            "<ipython-input-65-7534fcb2f2a3>:11: FutureWarning: The frame.append method is deprecated and will be removed from pandas in a future version. Use pandas.concat instead.\n",
            "  df = df.append({\"Index\": index, \"Sentence\": sentence, \"True Label\": true_label, \"Predicted Label\": predicted_label},\n",
            "<ipython-input-65-7534fcb2f2a3>:11: FutureWarning: The frame.append method is deprecated and will be removed from pandas in a future version. Use pandas.concat instead.\n",
            "  df = df.append({\"Index\": index, \"Sentence\": sentence, \"True Label\": true_label, \"Predicted Label\": predicted_label},\n",
            "<ipython-input-65-7534fcb2f2a3>:11: FutureWarning: The frame.append method is deprecated and will be removed from pandas in a future version. Use pandas.concat instead.\n",
            "  df = df.append({\"Index\": index, \"Sentence\": sentence, \"True Label\": true_label, \"Predicted Label\": predicted_label},\n",
            "<ipython-input-65-7534fcb2f2a3>:11: FutureWarning: The frame.append method is deprecated and will be removed from pandas in a future version. Use pandas.concat instead.\n",
            "  df = df.append({\"Index\": index, \"Sentence\": sentence, \"True Label\": true_label, \"Predicted Label\": predicted_label},\n",
            "<ipython-input-65-7534fcb2f2a3>:11: FutureWarning: The frame.append method is deprecated and will be removed from pandas in a future version. Use pandas.concat instead.\n",
            "  df = df.append({\"Index\": index, \"Sentence\": sentence, \"True Label\": true_label, \"Predicted Label\": predicted_label},\n",
            "<ipython-input-65-7534fcb2f2a3>:11: FutureWarning: The frame.append method is deprecated and will be removed from pandas in a future version. Use pandas.concat instead.\n",
            "  df = df.append({\"Index\": index, \"Sentence\": sentence, \"True Label\": true_label, \"Predicted Label\": predicted_label},\n",
            "<ipython-input-65-7534fcb2f2a3>:11: FutureWarning: The frame.append method is deprecated and will be removed from pandas in a future version. Use pandas.concat instead.\n",
            "  df = df.append({\"Index\": index, \"Sentence\": sentence, \"True Label\": true_label, \"Predicted Label\": predicted_label},\n",
            "<ipython-input-65-7534fcb2f2a3>:11: FutureWarning: The frame.append method is deprecated and will be removed from pandas in a future version. Use pandas.concat instead.\n",
            "  df = df.append({\"Index\": index, \"Sentence\": sentence, \"True Label\": true_label, \"Predicted Label\": predicted_label},\n",
            "<ipython-input-65-7534fcb2f2a3>:11: FutureWarning: The frame.append method is deprecated and will be removed from pandas in a future version. Use pandas.concat instead.\n",
            "  df = df.append({\"Index\": index, \"Sentence\": sentence, \"True Label\": true_label, \"Predicted Label\": predicted_label},\n",
            "<ipython-input-65-7534fcb2f2a3>:11: FutureWarning: The frame.append method is deprecated and will be removed from pandas in a future version. Use pandas.concat instead.\n",
            "  df = df.append({\"Index\": index, \"Sentence\": sentence, \"True Label\": true_label, \"Predicted Label\": predicted_label},\n",
            "<ipython-input-65-7534fcb2f2a3>:11: FutureWarning: The frame.append method is deprecated and will be removed from pandas in a future version. Use pandas.concat instead.\n",
            "  df = df.append({\"Index\": index, \"Sentence\": sentence, \"True Label\": true_label, \"Predicted Label\": predicted_label},\n",
            "<ipython-input-65-7534fcb2f2a3>:11: FutureWarning: The frame.append method is deprecated and will be removed from pandas in a future version. Use pandas.concat instead.\n",
            "  df = df.append({\"Index\": index, \"Sentence\": sentence, \"True Label\": true_label, \"Predicted Label\": predicted_label},\n",
            "<ipython-input-65-7534fcb2f2a3>:11: FutureWarning: The frame.append method is deprecated and will be removed from pandas in a future version. Use pandas.concat instead.\n",
            "  df = df.append({\"Index\": index, \"Sentence\": sentence, \"True Label\": true_label, \"Predicted Label\": predicted_label},\n",
            "<ipython-input-65-7534fcb2f2a3>:11: FutureWarning: The frame.append method is deprecated and will be removed from pandas in a future version. Use pandas.concat instead.\n",
            "  df = df.append({\"Index\": index, \"Sentence\": sentence, \"True Label\": true_label, \"Predicted Label\": predicted_label},\n",
            "<ipython-input-65-7534fcb2f2a3>:11: FutureWarning: The frame.append method is deprecated and will be removed from pandas in a future version. Use pandas.concat instead.\n",
            "  df = df.append({\"Index\": index, \"Sentence\": sentence, \"True Label\": true_label, \"Predicted Label\": predicted_label},\n",
            "<ipython-input-65-7534fcb2f2a3>:11: FutureWarning: The frame.append method is deprecated and will be removed from pandas in a future version. Use pandas.concat instead.\n",
            "  df = df.append({\"Index\": index, \"Sentence\": sentence, \"True Label\": true_label, \"Predicted Label\": predicted_label},\n",
            "<ipython-input-65-7534fcb2f2a3>:11: FutureWarning: The frame.append method is deprecated and will be removed from pandas in a future version. Use pandas.concat instead.\n",
            "  df = df.append({\"Index\": index, \"Sentence\": sentence, \"True Label\": true_label, \"Predicted Label\": predicted_label},\n",
            "<ipython-input-65-7534fcb2f2a3>:11: FutureWarning: The frame.append method is deprecated and will be removed from pandas in a future version. Use pandas.concat instead.\n",
            "  df = df.append({\"Index\": index, \"Sentence\": sentence, \"True Label\": true_label, \"Predicted Label\": predicted_label},\n",
            "<ipython-input-65-7534fcb2f2a3>:11: FutureWarning: The frame.append method is deprecated and will be removed from pandas in a future version. Use pandas.concat instead.\n",
            "  df = df.append({\"Index\": index, \"Sentence\": sentence, \"True Label\": true_label, \"Predicted Label\": predicted_label},\n",
            "<ipython-input-65-7534fcb2f2a3>:11: FutureWarning: The frame.append method is deprecated and will be removed from pandas in a future version. Use pandas.concat instead.\n",
            "  df = df.append({\"Index\": index, \"Sentence\": sentence, \"True Label\": true_label, \"Predicted Label\": predicted_label},\n",
            "<ipython-input-65-7534fcb2f2a3>:11: FutureWarning: The frame.append method is deprecated and will be removed from pandas in a future version. Use pandas.concat instead.\n",
            "  df = df.append({\"Index\": index, \"Sentence\": sentence, \"True Label\": true_label, \"Predicted Label\": predicted_label},\n",
            "<ipython-input-65-7534fcb2f2a3>:11: FutureWarning: The frame.append method is deprecated and will be removed from pandas in a future version. Use pandas.concat instead.\n",
            "  df = df.append({\"Index\": index, \"Sentence\": sentence, \"True Label\": true_label, \"Predicted Label\": predicted_label},\n",
            "<ipython-input-65-7534fcb2f2a3>:11: FutureWarning: The frame.append method is deprecated and will be removed from pandas in a future version. Use pandas.concat instead.\n",
            "  df = df.append({\"Index\": index, \"Sentence\": sentence, \"True Label\": true_label, \"Predicted Label\": predicted_label},\n",
            "<ipython-input-65-7534fcb2f2a3>:11: FutureWarning: The frame.append method is deprecated and will be removed from pandas in a future version. Use pandas.concat instead.\n",
            "  df = df.append({\"Index\": index, \"Sentence\": sentence, \"True Label\": true_label, \"Predicted Label\": predicted_label},\n",
            "<ipython-input-65-7534fcb2f2a3>:11: FutureWarning: The frame.append method is deprecated and will be removed from pandas in a future version. Use pandas.concat instead.\n",
            "  df = df.append({\"Index\": index, \"Sentence\": sentence, \"True Label\": true_label, \"Predicted Label\": predicted_label},\n",
            "<ipython-input-65-7534fcb2f2a3>:11: FutureWarning: The frame.append method is deprecated and will be removed from pandas in a future version. Use pandas.concat instead.\n",
            "  df = df.append({\"Index\": index, \"Sentence\": sentence, \"True Label\": true_label, \"Predicted Label\": predicted_label},\n",
            "<ipython-input-65-7534fcb2f2a3>:11: FutureWarning: The frame.append method is deprecated and will be removed from pandas in a future version. Use pandas.concat instead.\n",
            "  df = df.append({\"Index\": index, \"Sentence\": sentence, \"True Label\": true_label, \"Predicted Label\": predicted_label},\n",
            "<ipython-input-65-7534fcb2f2a3>:11: FutureWarning: The frame.append method is deprecated and will be removed from pandas in a future version. Use pandas.concat instead.\n",
            "  df = df.append({\"Index\": index, \"Sentence\": sentence, \"True Label\": true_label, \"Predicted Label\": predicted_label},\n",
            "<ipython-input-65-7534fcb2f2a3>:11: FutureWarning: The frame.append method is deprecated and will be removed from pandas in a future version. Use pandas.concat instead.\n",
            "  df = df.append({\"Index\": index, \"Sentence\": sentence, \"True Label\": true_label, \"Predicted Label\": predicted_label},\n",
            "<ipython-input-65-7534fcb2f2a3>:11: FutureWarning: The frame.append method is deprecated and will be removed from pandas in a future version. Use pandas.concat instead.\n",
            "  df = df.append({\"Index\": index, \"Sentence\": sentence, \"True Label\": true_label, \"Predicted Label\": predicted_label},\n",
            "<ipython-input-65-7534fcb2f2a3>:11: FutureWarning: The frame.append method is deprecated and will be removed from pandas in a future version. Use pandas.concat instead.\n",
            "  df = df.append({\"Index\": index, \"Sentence\": sentence, \"True Label\": true_label, \"Predicted Label\": predicted_label},\n",
            "<ipython-input-65-7534fcb2f2a3>:11: FutureWarning: The frame.append method is deprecated and will be removed from pandas in a future version. Use pandas.concat instead.\n",
            "  df = df.append({\"Index\": index, \"Sentence\": sentence, \"True Label\": true_label, \"Predicted Label\": predicted_label},\n",
            "<ipython-input-65-7534fcb2f2a3>:11: FutureWarning: The frame.append method is deprecated and will be removed from pandas in a future version. Use pandas.concat instead.\n",
            "  df = df.append({\"Index\": index, \"Sentence\": sentence, \"True Label\": true_label, \"Predicted Label\": predicted_label},\n",
            "<ipython-input-65-7534fcb2f2a3>:11: FutureWarning: The frame.append method is deprecated and will be removed from pandas in a future version. Use pandas.concat instead.\n",
            "  df = df.append({\"Index\": index, \"Sentence\": sentence, \"True Label\": true_label, \"Predicted Label\": predicted_label},\n",
            "<ipython-input-65-7534fcb2f2a3>:11: FutureWarning: The frame.append method is deprecated and will be removed from pandas in a future version. Use pandas.concat instead.\n",
            "  df = df.append({\"Index\": index, \"Sentence\": sentence, \"True Label\": true_label, \"Predicted Label\": predicted_label},\n",
            "<ipython-input-65-7534fcb2f2a3>:11: FutureWarning: The frame.append method is deprecated and will be removed from pandas in a future version. Use pandas.concat instead.\n",
            "  df = df.append({\"Index\": index, \"Sentence\": sentence, \"True Label\": true_label, \"Predicted Label\": predicted_label},\n",
            "<ipython-input-65-7534fcb2f2a3>:11: FutureWarning: The frame.append method is deprecated and will be removed from pandas in a future version. Use pandas.concat instead.\n",
            "  df = df.append({\"Index\": index, \"Sentence\": sentence, \"True Label\": true_label, \"Predicted Label\": predicted_label},\n",
            "<ipython-input-65-7534fcb2f2a3>:11: FutureWarning: The frame.append method is deprecated and will be removed from pandas in a future version. Use pandas.concat instead.\n",
            "  df = df.append({\"Index\": index, \"Sentence\": sentence, \"True Label\": true_label, \"Predicted Label\": predicted_label},\n",
            "<ipython-input-65-7534fcb2f2a3>:11: FutureWarning: The frame.append method is deprecated and will be removed from pandas in a future version. Use pandas.concat instead.\n",
            "  df = df.append({\"Index\": index, \"Sentence\": sentence, \"True Label\": true_label, \"Predicted Label\": predicted_label},\n",
            "<ipython-input-65-7534fcb2f2a3>:11: FutureWarning: The frame.append method is deprecated and will be removed from pandas in a future version. Use pandas.concat instead.\n",
            "  df = df.append({\"Index\": index, \"Sentence\": sentence, \"True Label\": true_label, \"Predicted Label\": predicted_label},\n",
            "<ipython-input-65-7534fcb2f2a3>:11: FutureWarning: The frame.append method is deprecated and will be removed from pandas in a future version. Use pandas.concat instead.\n",
            "  df = df.append({\"Index\": index, \"Sentence\": sentence, \"True Label\": true_label, \"Predicted Label\": predicted_label},\n",
            "<ipython-input-65-7534fcb2f2a3>:11: FutureWarning: The frame.append method is deprecated and will be removed from pandas in a future version. Use pandas.concat instead.\n",
            "  df = df.append({\"Index\": index, \"Sentence\": sentence, \"True Label\": true_label, \"Predicted Label\": predicted_label},\n",
            "<ipython-input-65-7534fcb2f2a3>:11: FutureWarning: The frame.append method is deprecated and will be removed from pandas in a future version. Use pandas.concat instead.\n",
            "  df = df.append({\"Index\": index, \"Sentence\": sentence, \"True Label\": true_label, \"Predicted Label\": predicted_label},\n",
            "<ipython-input-65-7534fcb2f2a3>:11: FutureWarning: The frame.append method is deprecated and will be removed from pandas in a future version. Use pandas.concat instead.\n",
            "  df = df.append({\"Index\": index, \"Sentence\": sentence, \"True Label\": true_label, \"Predicted Label\": predicted_label},\n",
            "<ipython-input-65-7534fcb2f2a3>:11: FutureWarning: The frame.append method is deprecated and will be removed from pandas in a future version. Use pandas.concat instead.\n",
            "  df = df.append({\"Index\": index, \"Sentence\": sentence, \"True Label\": true_label, \"Predicted Label\": predicted_label},\n",
            "<ipython-input-65-7534fcb2f2a3>:11: FutureWarning: The frame.append method is deprecated and will be removed from pandas in a future version. Use pandas.concat instead.\n",
            "  df = df.append({\"Index\": index, \"Sentence\": sentence, \"True Label\": true_label, \"Predicted Label\": predicted_label},\n",
            "<ipython-input-65-7534fcb2f2a3>:11: FutureWarning: The frame.append method is deprecated and will be removed from pandas in a future version. Use pandas.concat instead.\n",
            "  df = df.append({\"Index\": index, \"Sentence\": sentence, \"True Label\": true_label, \"Predicted Label\": predicted_label},\n",
            "<ipython-input-65-7534fcb2f2a3>:11: FutureWarning: The frame.append method is deprecated and will be removed from pandas in a future version. Use pandas.concat instead.\n",
            "  df = df.append({\"Index\": index, \"Sentence\": sentence, \"True Label\": true_label, \"Predicted Label\": predicted_label},\n",
            "<ipython-input-65-7534fcb2f2a3>:11: FutureWarning: The frame.append method is deprecated and will be removed from pandas in a future version. Use pandas.concat instead.\n",
            "  df = df.append({\"Index\": index, \"Sentence\": sentence, \"True Label\": true_label, \"Predicted Label\": predicted_label},\n",
            "<ipython-input-65-7534fcb2f2a3>:11: FutureWarning: The frame.append method is deprecated and will be removed from pandas in a future version. Use pandas.concat instead.\n",
            "  df = df.append({\"Index\": index, \"Sentence\": sentence, \"True Label\": true_label, \"Predicted Label\": predicted_label},\n",
            "<ipython-input-65-7534fcb2f2a3>:11: FutureWarning: The frame.append method is deprecated and will be removed from pandas in a future version. Use pandas.concat instead.\n",
            "  df = df.append({\"Index\": index, \"Sentence\": sentence, \"True Label\": true_label, \"Predicted Label\": predicted_label},\n",
            "<ipython-input-65-7534fcb2f2a3>:11: FutureWarning: The frame.append method is deprecated and will be removed from pandas in a future version. Use pandas.concat instead.\n",
            "  df = df.append({\"Index\": index, \"Sentence\": sentence, \"True Label\": true_label, \"Predicted Label\": predicted_label},\n",
            "<ipython-input-65-7534fcb2f2a3>:11: FutureWarning: The frame.append method is deprecated and will be removed from pandas in a future version. Use pandas.concat instead.\n",
            "  df = df.append({\"Index\": index, \"Sentence\": sentence, \"True Label\": true_label, \"Predicted Label\": predicted_label},\n",
            "<ipython-input-65-7534fcb2f2a3>:11: FutureWarning: The frame.append method is deprecated and will be removed from pandas in a future version. Use pandas.concat instead.\n",
            "  df = df.append({\"Index\": index, \"Sentence\": sentence, \"True Label\": true_label, \"Predicted Label\": predicted_label},\n",
            "<ipython-input-65-7534fcb2f2a3>:11: FutureWarning: The frame.append method is deprecated and will be removed from pandas in a future version. Use pandas.concat instead.\n",
            "  df = df.append({\"Index\": index, \"Sentence\": sentence, \"True Label\": true_label, \"Predicted Label\": predicted_label},\n",
            "<ipython-input-65-7534fcb2f2a3>:11: FutureWarning: The frame.append method is deprecated and will be removed from pandas in a future version. Use pandas.concat instead.\n",
            "  df = df.append({\"Index\": index, \"Sentence\": sentence, \"True Label\": true_label, \"Predicted Label\": predicted_label},\n",
            "<ipython-input-65-7534fcb2f2a3>:11: FutureWarning: The frame.append method is deprecated and will be removed from pandas in a future version. Use pandas.concat instead.\n",
            "  df = df.append({\"Index\": index, \"Sentence\": sentence, \"True Label\": true_label, \"Predicted Label\": predicted_label},\n",
            "<ipython-input-65-7534fcb2f2a3>:11: FutureWarning: The frame.append method is deprecated and will be removed from pandas in a future version. Use pandas.concat instead.\n",
            "  df = df.append({\"Index\": index, \"Sentence\": sentence, \"True Label\": true_label, \"Predicted Label\": predicted_label},\n",
            "<ipython-input-65-7534fcb2f2a3>:11: FutureWarning: The frame.append method is deprecated and will be removed from pandas in a future version. Use pandas.concat instead.\n",
            "  df = df.append({\"Index\": index, \"Sentence\": sentence, \"True Label\": true_label, \"Predicted Label\": predicted_label},\n",
            "<ipython-input-65-7534fcb2f2a3>:11: FutureWarning: The frame.append method is deprecated and will be removed from pandas in a future version. Use pandas.concat instead.\n",
            "  df = df.append({\"Index\": index, \"Sentence\": sentence, \"True Label\": true_label, \"Predicted Label\": predicted_label},\n",
            "<ipython-input-65-7534fcb2f2a3>:11: FutureWarning: The frame.append method is deprecated and will be removed from pandas in a future version. Use pandas.concat instead.\n",
            "  df = df.append({\"Index\": index, \"Sentence\": sentence, \"True Label\": true_label, \"Predicted Label\": predicted_label},\n",
            "<ipython-input-65-7534fcb2f2a3>:11: FutureWarning: The frame.append method is deprecated and will be removed from pandas in a future version. Use pandas.concat instead.\n",
            "  df = df.append({\"Index\": index, \"Sentence\": sentence, \"True Label\": true_label, \"Predicted Label\": predicted_label},\n",
            "<ipython-input-65-7534fcb2f2a3>:11: FutureWarning: The frame.append method is deprecated and will be removed from pandas in a future version. Use pandas.concat instead.\n",
            "  df = df.append({\"Index\": index, \"Sentence\": sentence, \"True Label\": true_label, \"Predicted Label\": predicted_label},\n",
            "<ipython-input-65-7534fcb2f2a3>:11: FutureWarning: The frame.append method is deprecated and will be removed from pandas in a future version. Use pandas.concat instead.\n",
            "  df = df.append({\"Index\": index, \"Sentence\": sentence, \"True Label\": true_label, \"Predicted Label\": predicted_label},\n",
            "<ipython-input-65-7534fcb2f2a3>:11: FutureWarning: The frame.append method is deprecated and will be removed from pandas in a future version. Use pandas.concat instead.\n",
            "  df = df.append({\"Index\": index, \"Sentence\": sentence, \"True Label\": true_label, \"Predicted Label\": predicted_label},\n",
            "<ipython-input-65-7534fcb2f2a3>:11: FutureWarning: The frame.append method is deprecated and will be removed from pandas in a future version. Use pandas.concat instead.\n",
            "  df = df.append({\"Index\": index, \"Sentence\": sentence, \"True Label\": true_label, \"Predicted Label\": predicted_label},\n",
            "<ipython-input-65-7534fcb2f2a3>:11: FutureWarning: The frame.append method is deprecated and will be removed from pandas in a future version. Use pandas.concat instead.\n",
            "  df = df.append({\"Index\": index, \"Sentence\": sentence, \"True Label\": true_label, \"Predicted Label\": predicted_label},\n",
            "<ipython-input-65-7534fcb2f2a3>:11: FutureWarning: The frame.append method is deprecated and will be removed from pandas in a future version. Use pandas.concat instead.\n",
            "  df = df.append({\"Index\": index, \"Sentence\": sentence, \"True Label\": true_label, \"Predicted Label\": predicted_label},\n",
            "<ipython-input-65-7534fcb2f2a3>:11: FutureWarning: The frame.append method is deprecated and will be removed from pandas in a future version. Use pandas.concat instead.\n",
            "  df = df.append({\"Index\": index, \"Sentence\": sentence, \"True Label\": true_label, \"Predicted Label\": predicted_label},\n",
            "<ipython-input-65-7534fcb2f2a3>:11: FutureWarning: The frame.append method is deprecated and will be removed from pandas in a future version. Use pandas.concat instead.\n",
            "  df = df.append({\"Index\": index, \"Sentence\": sentence, \"True Label\": true_label, \"Predicted Label\": predicted_label},\n",
            "<ipython-input-65-7534fcb2f2a3>:11: FutureWarning: The frame.append method is deprecated and will be removed from pandas in a future version. Use pandas.concat instead.\n",
            "  df = df.append({\"Index\": index, \"Sentence\": sentence, \"True Label\": true_label, \"Predicted Label\": predicted_label},\n",
            "<ipython-input-65-7534fcb2f2a3>:11: FutureWarning: The frame.append method is deprecated and will be removed from pandas in a future version. Use pandas.concat instead.\n",
            "  df = df.append({\"Index\": index, \"Sentence\": sentence, \"True Label\": true_label, \"Predicted Label\": predicted_label},\n",
            "<ipython-input-65-7534fcb2f2a3>:11: FutureWarning: The frame.append method is deprecated and will be removed from pandas in a future version. Use pandas.concat instead.\n",
            "  df = df.append({\"Index\": index, \"Sentence\": sentence, \"True Label\": true_label, \"Predicted Label\": predicted_label},\n",
            "<ipython-input-65-7534fcb2f2a3>:11: FutureWarning: The frame.append method is deprecated and will be removed from pandas in a future version. Use pandas.concat instead.\n",
            "  df = df.append({\"Index\": index, \"Sentence\": sentence, \"True Label\": true_label, \"Predicted Label\": predicted_label},\n",
            "<ipython-input-65-7534fcb2f2a3>:11: FutureWarning: The frame.append method is deprecated and will be removed from pandas in a future version. Use pandas.concat instead.\n",
            "  df = df.append({\"Index\": index, \"Sentence\": sentence, \"True Label\": true_label, \"Predicted Label\": predicted_label},\n",
            "<ipython-input-65-7534fcb2f2a3>:11: FutureWarning: The frame.append method is deprecated and will be removed from pandas in a future version. Use pandas.concat instead.\n",
            "  df = df.append({\"Index\": index, \"Sentence\": sentence, \"True Label\": true_label, \"Predicted Label\": predicted_label},\n",
            "<ipython-input-65-7534fcb2f2a3>:11: FutureWarning: The frame.append method is deprecated and will be removed from pandas in a future version. Use pandas.concat instead.\n",
            "  df = df.append({\"Index\": index, \"Sentence\": sentence, \"True Label\": true_label, \"Predicted Label\": predicted_label},\n",
            "<ipython-input-65-7534fcb2f2a3>:11: FutureWarning: The frame.append method is deprecated and will be removed from pandas in a future version. Use pandas.concat instead.\n",
            "  df = df.append({\"Index\": index, \"Sentence\": sentence, \"True Label\": true_label, \"Predicted Label\": predicted_label},\n",
            "<ipython-input-65-7534fcb2f2a3>:11: FutureWarning: The frame.append method is deprecated and will be removed from pandas in a future version. Use pandas.concat instead.\n",
            "  df = df.append({\"Index\": index, \"Sentence\": sentence, \"True Label\": true_label, \"Predicted Label\": predicted_label},\n",
            "<ipython-input-65-7534fcb2f2a3>:11: FutureWarning: The frame.append method is deprecated and will be removed from pandas in a future version. Use pandas.concat instead.\n",
            "  df = df.append({\"Index\": index, \"Sentence\": sentence, \"True Label\": true_label, \"Predicted Label\": predicted_label},\n",
            "<ipython-input-65-7534fcb2f2a3>:11: FutureWarning: The frame.append method is deprecated and will be removed from pandas in a future version. Use pandas.concat instead.\n",
            "  df = df.append({\"Index\": index, \"Sentence\": sentence, \"True Label\": true_label, \"Predicted Label\": predicted_label},\n",
            "<ipython-input-65-7534fcb2f2a3>:11: FutureWarning: The frame.append method is deprecated and will be removed from pandas in a future version. Use pandas.concat instead.\n",
            "  df = df.append({\"Index\": index, \"Sentence\": sentence, \"True Label\": true_label, \"Predicted Label\": predicted_label},\n",
            "<ipython-input-65-7534fcb2f2a3>:11: FutureWarning: The frame.append method is deprecated and will be removed from pandas in a future version. Use pandas.concat instead.\n",
            "  df = df.append({\"Index\": index, \"Sentence\": sentence, \"True Label\": true_label, \"Predicted Label\": predicted_label},\n",
            "<ipython-input-65-7534fcb2f2a3>:11: FutureWarning: The frame.append method is deprecated and will be removed from pandas in a future version. Use pandas.concat instead.\n",
            "  df = df.append({\"Index\": index, \"Sentence\": sentence, \"True Label\": true_label, \"Predicted Label\": predicted_label},\n",
            "<ipython-input-65-7534fcb2f2a3>:11: FutureWarning: The frame.append method is deprecated and will be removed from pandas in a future version. Use pandas.concat instead.\n",
            "  df = df.append({\"Index\": index, \"Sentence\": sentence, \"True Label\": true_label, \"Predicted Label\": predicted_label},\n",
            "<ipython-input-65-7534fcb2f2a3>:11: FutureWarning: The frame.append method is deprecated and will be removed from pandas in a future version. Use pandas.concat instead.\n",
            "  df = df.append({\"Index\": index, \"Sentence\": sentence, \"True Label\": true_label, \"Predicted Label\": predicted_label},\n",
            "<ipython-input-65-7534fcb2f2a3>:11: FutureWarning: The frame.append method is deprecated and will be removed from pandas in a future version. Use pandas.concat instead.\n",
            "  df = df.append({\"Index\": index, \"Sentence\": sentence, \"True Label\": true_label, \"Predicted Label\": predicted_label},\n",
            "<ipython-input-65-7534fcb2f2a3>:11: FutureWarning: The frame.append method is deprecated and will be removed from pandas in a future version. Use pandas.concat instead.\n",
            "  df = df.append({\"Index\": index, \"Sentence\": sentence, \"True Label\": true_label, \"Predicted Label\": predicted_label},\n",
            "<ipython-input-65-7534fcb2f2a3>:11: FutureWarning: The frame.append method is deprecated and will be removed from pandas in a future version. Use pandas.concat instead.\n",
            "  df = df.append({\"Index\": index, \"Sentence\": sentence, \"True Label\": true_label, \"Predicted Label\": predicted_label},\n",
            "<ipython-input-65-7534fcb2f2a3>:11: FutureWarning: The frame.append method is deprecated and will be removed from pandas in a future version. Use pandas.concat instead.\n",
            "  df = df.append({\"Index\": index, \"Sentence\": sentence, \"True Label\": true_label, \"Predicted Label\": predicted_label},\n",
            "<ipython-input-65-7534fcb2f2a3>:11: FutureWarning: The frame.append method is deprecated and will be removed from pandas in a future version. Use pandas.concat instead.\n",
            "  df = df.append({\"Index\": index, \"Sentence\": sentence, \"True Label\": true_label, \"Predicted Label\": predicted_label},\n",
            "<ipython-input-65-7534fcb2f2a3>:11: FutureWarning: The frame.append method is deprecated and will be removed from pandas in a future version. Use pandas.concat instead.\n",
            "  df = df.append({\"Index\": index, \"Sentence\": sentence, \"True Label\": true_label, \"Predicted Label\": predicted_label},\n",
            "<ipython-input-65-7534fcb2f2a3>:11: FutureWarning: The frame.append method is deprecated and will be removed from pandas in a future version. Use pandas.concat instead.\n",
            "  df = df.append({\"Index\": index, \"Sentence\": sentence, \"True Label\": true_label, \"Predicted Label\": predicted_label},\n",
            "<ipython-input-65-7534fcb2f2a3>:11: FutureWarning: The frame.append method is deprecated and will be removed from pandas in a future version. Use pandas.concat instead.\n",
            "  df = df.append({\"Index\": index, \"Sentence\": sentence, \"True Label\": true_label, \"Predicted Label\": predicted_label},\n",
            "<ipython-input-65-7534fcb2f2a3>:11: FutureWarning: The frame.append method is deprecated and will be removed from pandas in a future version. Use pandas.concat instead.\n",
            "  df = df.append({\"Index\": index, \"Sentence\": sentence, \"True Label\": true_label, \"Predicted Label\": predicted_label},\n",
            "<ipython-input-65-7534fcb2f2a3>:11: FutureWarning: The frame.append method is deprecated and will be removed from pandas in a future version. Use pandas.concat instead.\n",
            "  df = df.append({\"Index\": index, \"Sentence\": sentence, \"True Label\": true_label, \"Predicted Label\": predicted_label},\n",
            "<ipython-input-65-7534fcb2f2a3>:11: FutureWarning: The frame.append method is deprecated and will be removed from pandas in a future version. Use pandas.concat instead.\n",
            "  df = df.append({\"Index\": index, \"Sentence\": sentence, \"True Label\": true_label, \"Predicted Label\": predicted_label},\n",
            "<ipython-input-65-7534fcb2f2a3>:11: FutureWarning: The frame.append method is deprecated and will be removed from pandas in a future version. Use pandas.concat instead.\n",
            "  df = df.append({\"Index\": index, \"Sentence\": sentence, \"True Label\": true_label, \"Predicted Label\": predicted_label},\n",
            "<ipython-input-65-7534fcb2f2a3>:11: FutureWarning: The frame.append method is deprecated and will be removed from pandas in a future version. Use pandas.concat instead.\n",
            "  df = df.append({\"Index\": index, \"Sentence\": sentence, \"True Label\": true_label, \"Predicted Label\": predicted_label},\n",
            "<ipython-input-65-7534fcb2f2a3>:11: FutureWarning: The frame.append method is deprecated and will be removed from pandas in a future version. Use pandas.concat instead.\n",
            "  df = df.append({\"Index\": index, \"Sentence\": sentence, \"True Label\": true_label, \"Predicted Label\": predicted_label},\n",
            "<ipython-input-65-7534fcb2f2a3>:11: FutureWarning: The frame.append method is deprecated and will be removed from pandas in a future version. Use pandas.concat instead.\n",
            "  df = df.append({\"Index\": index, \"Sentence\": sentence, \"True Label\": true_label, \"Predicted Label\": predicted_label},\n",
            "<ipython-input-65-7534fcb2f2a3>:11: FutureWarning: The frame.append method is deprecated and will be removed from pandas in a future version. Use pandas.concat instead.\n",
            "  df = df.append({\"Index\": index, \"Sentence\": sentence, \"True Label\": true_label, \"Predicted Label\": predicted_label},\n",
            "<ipython-input-65-7534fcb2f2a3>:11: FutureWarning: The frame.append method is deprecated and will be removed from pandas in a future version. Use pandas.concat instead.\n",
            "  df = df.append({\"Index\": index, \"Sentence\": sentence, \"True Label\": true_label, \"Predicted Label\": predicted_label},\n",
            "<ipython-input-65-7534fcb2f2a3>:11: FutureWarning: The frame.append method is deprecated and will be removed from pandas in a future version. Use pandas.concat instead.\n",
            "  df = df.append({\"Index\": index, \"Sentence\": sentence, \"True Label\": true_label, \"Predicted Label\": predicted_label},\n",
            "<ipython-input-65-7534fcb2f2a3>:11: FutureWarning: The frame.append method is deprecated and will be removed from pandas in a future version. Use pandas.concat instead.\n",
            "  df = df.append({\"Index\": index, \"Sentence\": sentence, \"True Label\": true_label, \"Predicted Label\": predicted_label},\n",
            "<ipython-input-65-7534fcb2f2a3>:11: FutureWarning: The frame.append method is deprecated and will be removed from pandas in a future version. Use pandas.concat instead.\n",
            "  df = df.append({\"Index\": index, \"Sentence\": sentence, \"True Label\": true_label, \"Predicted Label\": predicted_label},\n",
            "<ipython-input-65-7534fcb2f2a3>:11: FutureWarning: The frame.append method is deprecated and will be removed from pandas in a future version. Use pandas.concat instead.\n",
            "  df = df.append({\"Index\": index, \"Sentence\": sentence, \"True Label\": true_label, \"Predicted Label\": predicted_label},\n",
            "<ipython-input-65-7534fcb2f2a3>:11: FutureWarning: The frame.append method is deprecated and will be removed from pandas in a future version. Use pandas.concat instead.\n",
            "  df = df.append({\"Index\": index, \"Sentence\": sentence, \"True Label\": true_label, \"Predicted Label\": predicted_label},\n",
            "<ipython-input-65-7534fcb2f2a3>:11: FutureWarning: The frame.append method is deprecated and will be removed from pandas in a future version. Use pandas.concat instead.\n",
            "  df = df.append({\"Index\": index, \"Sentence\": sentence, \"True Label\": true_label, \"Predicted Label\": predicted_label},\n",
            "<ipython-input-65-7534fcb2f2a3>:11: FutureWarning: The frame.append method is deprecated and will be removed from pandas in a future version. Use pandas.concat instead.\n",
            "  df = df.append({\"Index\": index, \"Sentence\": sentence, \"True Label\": true_label, \"Predicted Label\": predicted_label},\n",
            "<ipython-input-65-7534fcb2f2a3>:11: FutureWarning: The frame.append method is deprecated and will be removed from pandas in a future version. Use pandas.concat instead.\n",
            "  df = df.append({\"Index\": index, \"Sentence\": sentence, \"True Label\": true_label, \"Predicted Label\": predicted_label},\n",
            "<ipython-input-65-7534fcb2f2a3>:11: FutureWarning: The frame.append method is deprecated and will be removed from pandas in a future version. Use pandas.concat instead.\n",
            "  df = df.append({\"Index\": index, \"Sentence\": sentence, \"True Label\": true_label, \"Predicted Label\": predicted_label},\n",
            "<ipython-input-65-7534fcb2f2a3>:11: FutureWarning: The frame.append method is deprecated and will be removed from pandas in a future version. Use pandas.concat instead.\n",
            "  df = df.append({\"Index\": index, \"Sentence\": sentence, \"True Label\": true_label, \"Predicted Label\": predicted_label},\n",
            "<ipython-input-65-7534fcb2f2a3>:11: FutureWarning: The frame.append method is deprecated and will be removed from pandas in a future version. Use pandas.concat instead.\n",
            "  df = df.append({\"Index\": index, \"Sentence\": sentence, \"True Label\": true_label, \"Predicted Label\": predicted_label},\n",
            "<ipython-input-65-7534fcb2f2a3>:11: FutureWarning: The frame.append method is deprecated and will be removed from pandas in a future version. Use pandas.concat instead.\n",
            "  df = df.append({\"Index\": index, \"Sentence\": sentence, \"True Label\": true_label, \"Predicted Label\": predicted_label},\n",
            "<ipython-input-65-7534fcb2f2a3>:11: FutureWarning: The frame.append method is deprecated and will be removed from pandas in a future version. Use pandas.concat instead.\n",
            "  df = df.append({\"Index\": index, \"Sentence\": sentence, \"True Label\": true_label, \"Predicted Label\": predicted_label},\n",
            "<ipython-input-65-7534fcb2f2a3>:11: FutureWarning: The frame.append method is deprecated and will be removed from pandas in a future version. Use pandas.concat instead.\n",
            "  df = df.append({\"Index\": index, \"Sentence\": sentence, \"True Label\": true_label, \"Predicted Label\": predicted_label},\n",
            "<ipython-input-65-7534fcb2f2a3>:11: FutureWarning: The frame.append method is deprecated and will be removed from pandas in a future version. Use pandas.concat instead.\n",
            "  df = df.append({\"Index\": index, \"Sentence\": sentence, \"True Label\": true_label, \"Predicted Label\": predicted_label},\n",
            "<ipython-input-65-7534fcb2f2a3>:11: FutureWarning: The frame.append method is deprecated and will be removed from pandas in a future version. Use pandas.concat instead.\n",
            "  df = df.append({\"Index\": index, \"Sentence\": sentence, \"True Label\": true_label, \"Predicted Label\": predicted_label},\n",
            "<ipython-input-65-7534fcb2f2a3>:11: FutureWarning: The frame.append method is deprecated and will be removed from pandas in a future version. Use pandas.concat instead.\n",
            "  df = df.append({\"Index\": index, \"Sentence\": sentence, \"True Label\": true_label, \"Predicted Label\": predicted_label},\n",
            "<ipython-input-65-7534fcb2f2a3>:11: FutureWarning: The frame.append method is deprecated and will be removed from pandas in a future version. Use pandas.concat instead.\n",
            "  df = df.append({\"Index\": index, \"Sentence\": sentence, \"True Label\": true_label, \"Predicted Label\": predicted_label},\n",
            "<ipython-input-65-7534fcb2f2a3>:11: FutureWarning: The frame.append method is deprecated and will be removed from pandas in a future version. Use pandas.concat instead.\n",
            "  df = df.append({\"Index\": index, \"Sentence\": sentence, \"True Label\": true_label, \"Predicted Label\": predicted_label},\n",
            "<ipython-input-65-7534fcb2f2a3>:11: FutureWarning: The frame.append method is deprecated and will be removed from pandas in a future version. Use pandas.concat instead.\n",
            "  df = df.append({\"Index\": index, \"Sentence\": sentence, \"True Label\": true_label, \"Predicted Label\": predicted_label},\n",
            "<ipython-input-65-7534fcb2f2a3>:11: FutureWarning: The frame.append method is deprecated and will be removed from pandas in a future version. Use pandas.concat instead.\n",
            "  df = df.append({\"Index\": index, \"Sentence\": sentence, \"True Label\": true_label, \"Predicted Label\": predicted_label},\n",
            "<ipython-input-65-7534fcb2f2a3>:11: FutureWarning: The frame.append method is deprecated and will be removed from pandas in a future version. Use pandas.concat instead.\n",
            "  df = df.append({\"Index\": index, \"Sentence\": sentence, \"True Label\": true_label, \"Predicted Label\": predicted_label},\n",
            "<ipython-input-65-7534fcb2f2a3>:11: FutureWarning: The frame.append method is deprecated and will be removed from pandas in a future version. Use pandas.concat instead.\n",
            "  df = df.append({\"Index\": index, \"Sentence\": sentence, \"True Label\": true_label, \"Predicted Label\": predicted_label},\n",
            "<ipython-input-65-7534fcb2f2a3>:11: FutureWarning: The frame.append method is deprecated and will be removed from pandas in a future version. Use pandas.concat instead.\n",
            "  df = df.append({\"Index\": index, \"Sentence\": sentence, \"True Label\": true_label, \"Predicted Label\": predicted_label},\n",
            "<ipython-input-65-7534fcb2f2a3>:11: FutureWarning: The frame.append method is deprecated and will be removed from pandas in a future version. Use pandas.concat instead.\n",
            "  df = df.append({\"Index\": index, \"Sentence\": sentence, \"True Label\": true_label, \"Predicted Label\": predicted_label},\n",
            "<ipython-input-65-7534fcb2f2a3>:11: FutureWarning: The frame.append method is deprecated and will be removed from pandas in a future version. Use pandas.concat instead.\n",
            "  df = df.append({\"Index\": index, \"Sentence\": sentence, \"True Label\": true_label, \"Predicted Label\": predicted_label},\n",
            "<ipython-input-65-7534fcb2f2a3>:11: FutureWarning: The frame.append method is deprecated and will be removed from pandas in a future version. Use pandas.concat instead.\n",
            "  df = df.append({\"Index\": index, \"Sentence\": sentence, \"True Label\": true_label, \"Predicted Label\": predicted_label},\n",
            "<ipython-input-65-7534fcb2f2a3>:11: FutureWarning: The frame.append method is deprecated and will be removed from pandas in a future version. Use pandas.concat instead.\n",
            "  df = df.append({\"Index\": index, \"Sentence\": sentence, \"True Label\": true_label, \"Predicted Label\": predicted_label},\n",
            "<ipython-input-65-7534fcb2f2a3>:11: FutureWarning: The frame.append method is deprecated and will be removed from pandas in a future version. Use pandas.concat instead.\n",
            "  df = df.append({\"Index\": index, \"Sentence\": sentence, \"True Label\": true_label, \"Predicted Label\": predicted_label},\n",
            "<ipython-input-65-7534fcb2f2a3>:11: FutureWarning: The frame.append method is deprecated and will be removed from pandas in a future version. Use pandas.concat instead.\n",
            "  df = df.append({\"Index\": index, \"Sentence\": sentence, \"True Label\": true_label, \"Predicted Label\": predicted_label},\n",
            "<ipython-input-65-7534fcb2f2a3>:11: FutureWarning: The frame.append method is deprecated and will be removed from pandas in a future version. Use pandas.concat instead.\n",
            "  df = df.append({\"Index\": index, \"Sentence\": sentence, \"True Label\": true_label, \"Predicted Label\": predicted_label},\n",
            "<ipython-input-65-7534fcb2f2a3>:11: FutureWarning: The frame.append method is deprecated and will be removed from pandas in a future version. Use pandas.concat instead.\n",
            "  df = df.append({\"Index\": index, \"Sentence\": sentence, \"True Label\": true_label, \"Predicted Label\": predicted_label},\n",
            "<ipython-input-65-7534fcb2f2a3>:11: FutureWarning: The frame.append method is deprecated and will be removed from pandas in a future version. Use pandas.concat instead.\n",
            "  df = df.append({\"Index\": index, \"Sentence\": sentence, \"True Label\": true_label, \"Predicted Label\": predicted_label},\n",
            "<ipython-input-65-7534fcb2f2a3>:11: FutureWarning: The frame.append method is deprecated and will be removed from pandas in a future version. Use pandas.concat instead.\n",
            "  df = df.append({\"Index\": index, \"Sentence\": sentence, \"True Label\": true_label, \"Predicted Label\": predicted_label},\n",
            "<ipython-input-65-7534fcb2f2a3>:11: FutureWarning: The frame.append method is deprecated and will be removed from pandas in a future version. Use pandas.concat instead.\n",
            "  df = df.append({\"Index\": index, \"Sentence\": sentence, \"True Label\": true_label, \"Predicted Label\": predicted_label},\n",
            "<ipython-input-65-7534fcb2f2a3>:11: FutureWarning: The frame.append method is deprecated and will be removed from pandas in a future version. Use pandas.concat instead.\n",
            "  df = df.append({\"Index\": index, \"Sentence\": sentence, \"True Label\": true_label, \"Predicted Label\": predicted_label},\n",
            "<ipython-input-65-7534fcb2f2a3>:11: FutureWarning: The frame.append method is deprecated and will be removed from pandas in a future version. Use pandas.concat instead.\n",
            "  df = df.append({\"Index\": index, \"Sentence\": sentence, \"True Label\": true_label, \"Predicted Label\": predicted_label},\n",
            "<ipython-input-65-7534fcb2f2a3>:11: FutureWarning: The frame.append method is deprecated and will be removed from pandas in a future version. Use pandas.concat instead.\n",
            "  df = df.append({\"Index\": index, \"Sentence\": sentence, \"True Label\": true_label, \"Predicted Label\": predicted_label},\n",
            "<ipython-input-65-7534fcb2f2a3>:11: FutureWarning: The frame.append method is deprecated and will be removed from pandas in a future version. Use pandas.concat instead.\n",
            "  df = df.append({\"Index\": index, \"Sentence\": sentence, \"True Label\": true_label, \"Predicted Label\": predicted_label},\n",
            "<ipython-input-65-7534fcb2f2a3>:11: FutureWarning: The frame.append method is deprecated and will be removed from pandas in a future version. Use pandas.concat instead.\n",
            "  df = df.append({\"Index\": index, \"Sentence\": sentence, \"True Label\": true_label, \"Predicted Label\": predicted_label},\n",
            "<ipython-input-65-7534fcb2f2a3>:11: FutureWarning: The frame.append method is deprecated and will be removed from pandas in a future version. Use pandas.concat instead.\n",
            "  df = df.append({\"Index\": index, \"Sentence\": sentence, \"True Label\": true_label, \"Predicted Label\": predicted_label},\n",
            "<ipython-input-65-7534fcb2f2a3>:11: FutureWarning: The frame.append method is deprecated and will be removed from pandas in a future version. Use pandas.concat instead.\n",
            "  df = df.append({\"Index\": index, \"Sentence\": sentence, \"True Label\": true_label, \"Predicted Label\": predicted_label},\n",
            "<ipython-input-65-7534fcb2f2a3>:11: FutureWarning: The frame.append method is deprecated and will be removed from pandas in a future version. Use pandas.concat instead.\n",
            "  df = df.append({\"Index\": index, \"Sentence\": sentence, \"True Label\": true_label, \"Predicted Label\": predicted_label},\n",
            "<ipython-input-65-7534fcb2f2a3>:11: FutureWarning: The frame.append method is deprecated and will be removed from pandas in a future version. Use pandas.concat instead.\n",
            "  df = df.append({\"Index\": index, \"Sentence\": sentence, \"True Label\": true_label, \"Predicted Label\": predicted_label},\n",
            "<ipython-input-65-7534fcb2f2a3>:11: FutureWarning: The frame.append method is deprecated and will be removed from pandas in a future version. Use pandas.concat instead.\n",
            "  df = df.append({\"Index\": index, \"Sentence\": sentence, \"True Label\": true_label, \"Predicted Label\": predicted_label},\n",
            "<ipython-input-65-7534fcb2f2a3>:11: FutureWarning: The frame.append method is deprecated and will be removed from pandas in a future version. Use pandas.concat instead.\n",
            "  df = df.append({\"Index\": index, \"Sentence\": sentence, \"True Label\": true_label, \"Predicted Label\": predicted_label},\n",
            "<ipython-input-65-7534fcb2f2a3>:11: FutureWarning: The frame.append method is deprecated and will be removed from pandas in a future version. Use pandas.concat instead.\n",
            "  df = df.append({\"Index\": index, \"Sentence\": sentence, \"True Label\": true_label, \"Predicted Label\": predicted_label},\n",
            "<ipython-input-65-7534fcb2f2a3>:11: FutureWarning: The frame.append method is deprecated and will be removed from pandas in a future version. Use pandas.concat instead.\n",
            "  df = df.append({\"Index\": index, \"Sentence\": sentence, \"True Label\": true_label, \"Predicted Label\": predicted_label},\n",
            "<ipython-input-65-7534fcb2f2a3>:11: FutureWarning: The frame.append method is deprecated and will be removed from pandas in a future version. Use pandas.concat instead.\n",
            "  df = df.append({\"Index\": index, \"Sentence\": sentence, \"True Label\": true_label, \"Predicted Label\": predicted_label},\n",
            "<ipython-input-65-7534fcb2f2a3>:11: FutureWarning: The frame.append method is deprecated and will be removed from pandas in a future version. Use pandas.concat instead.\n",
            "  df = df.append({\"Index\": index, \"Sentence\": sentence, \"True Label\": true_label, \"Predicted Label\": predicted_label},\n",
            "<ipython-input-65-7534fcb2f2a3>:11: FutureWarning: The frame.append method is deprecated and will be removed from pandas in a future version. Use pandas.concat instead.\n",
            "  df = df.append({\"Index\": index, \"Sentence\": sentence, \"True Label\": true_label, \"Predicted Label\": predicted_label},\n",
            "<ipython-input-65-7534fcb2f2a3>:11: FutureWarning: The frame.append method is deprecated and will be removed from pandas in a future version. Use pandas.concat instead.\n",
            "  df = df.append({\"Index\": index, \"Sentence\": sentence, \"True Label\": true_label, \"Predicted Label\": predicted_label},\n",
            "<ipython-input-65-7534fcb2f2a3>:11: FutureWarning: The frame.append method is deprecated and will be removed from pandas in a future version. Use pandas.concat instead.\n",
            "  df = df.append({\"Index\": index, \"Sentence\": sentence, \"True Label\": true_label, \"Predicted Label\": predicted_label},\n",
            "<ipython-input-65-7534fcb2f2a3>:11: FutureWarning: The frame.append method is deprecated and will be removed from pandas in a future version. Use pandas.concat instead.\n",
            "  df = df.append({\"Index\": index, \"Sentence\": sentence, \"True Label\": true_label, \"Predicted Label\": predicted_label},\n",
            "<ipython-input-65-7534fcb2f2a3>:11: FutureWarning: The frame.append method is deprecated and will be removed from pandas in a future version. Use pandas.concat instead.\n",
            "  df = df.append({\"Index\": index, \"Sentence\": sentence, \"True Label\": true_label, \"Predicted Label\": predicted_label},\n",
            "<ipython-input-65-7534fcb2f2a3>:11: FutureWarning: The frame.append method is deprecated and will be removed from pandas in a future version. Use pandas.concat instead.\n",
            "  df = df.append({\"Index\": index, \"Sentence\": sentence, \"True Label\": true_label, \"Predicted Label\": predicted_label},\n",
            "<ipython-input-65-7534fcb2f2a3>:11: FutureWarning: The frame.append method is deprecated and will be removed from pandas in a future version. Use pandas.concat instead.\n",
            "  df = df.append({\"Index\": index, \"Sentence\": sentence, \"True Label\": true_label, \"Predicted Label\": predicted_label},\n",
            "<ipython-input-65-7534fcb2f2a3>:11: FutureWarning: The frame.append method is deprecated and will be removed from pandas in a future version. Use pandas.concat instead.\n",
            "  df = df.append({\"Index\": index, \"Sentence\": sentence, \"True Label\": true_label, \"Predicted Label\": predicted_label},\n",
            "<ipython-input-65-7534fcb2f2a3>:11: FutureWarning: The frame.append method is deprecated and will be removed from pandas in a future version. Use pandas.concat instead.\n",
            "  df = df.append({\"Index\": index, \"Sentence\": sentence, \"True Label\": true_label, \"Predicted Label\": predicted_label},\n",
            "<ipython-input-65-7534fcb2f2a3>:11: FutureWarning: The frame.append method is deprecated and will be removed from pandas in a future version. Use pandas.concat instead.\n",
            "  df = df.append({\"Index\": index, \"Sentence\": sentence, \"True Label\": true_label, \"Predicted Label\": predicted_label},\n",
            "<ipython-input-65-7534fcb2f2a3>:11: FutureWarning: The frame.append method is deprecated and will be removed from pandas in a future version. Use pandas.concat instead.\n",
            "  df = df.append({\"Index\": index, \"Sentence\": sentence, \"True Label\": true_label, \"Predicted Label\": predicted_label},\n",
            "<ipython-input-65-7534fcb2f2a3>:11: FutureWarning: The frame.append method is deprecated and will be removed from pandas in a future version. Use pandas.concat instead.\n",
            "  df = df.append({\"Index\": index, \"Sentence\": sentence, \"True Label\": true_label, \"Predicted Label\": predicted_label},\n",
            "<ipython-input-65-7534fcb2f2a3>:11: FutureWarning: The frame.append method is deprecated and will be removed from pandas in a future version. Use pandas.concat instead.\n",
            "  df = df.append({\"Index\": index, \"Sentence\": sentence, \"True Label\": true_label, \"Predicted Label\": predicted_label},\n",
            "<ipython-input-65-7534fcb2f2a3>:11: FutureWarning: The frame.append method is deprecated and will be removed from pandas in a future version. Use pandas.concat instead.\n",
            "  df = df.append({\"Index\": index, \"Sentence\": sentence, \"True Label\": true_label, \"Predicted Label\": predicted_label},\n",
            "<ipython-input-65-7534fcb2f2a3>:11: FutureWarning: The frame.append method is deprecated and will be removed from pandas in a future version. Use pandas.concat instead.\n",
            "  df = df.append({\"Index\": index, \"Sentence\": sentence, \"True Label\": true_label, \"Predicted Label\": predicted_label},\n",
            "<ipython-input-65-7534fcb2f2a3>:11: FutureWarning: The frame.append method is deprecated and will be removed from pandas in a future version. Use pandas.concat instead.\n",
            "  df = df.append({\"Index\": index, \"Sentence\": sentence, \"True Label\": true_label, \"Predicted Label\": predicted_label},\n",
            "<ipython-input-65-7534fcb2f2a3>:11: FutureWarning: The frame.append method is deprecated and will be removed from pandas in a future version. Use pandas.concat instead.\n",
            "  df = df.append({\"Index\": index, \"Sentence\": sentence, \"True Label\": true_label, \"Predicted Label\": predicted_label},\n",
            "<ipython-input-65-7534fcb2f2a3>:11: FutureWarning: The frame.append method is deprecated and will be removed from pandas in a future version. Use pandas.concat instead.\n",
            "  df = df.append({\"Index\": index, \"Sentence\": sentence, \"True Label\": true_label, \"Predicted Label\": predicted_label},\n",
            "<ipython-input-65-7534fcb2f2a3>:11: FutureWarning: The frame.append method is deprecated and will be removed from pandas in a future version. Use pandas.concat instead.\n",
            "  df = df.append({\"Index\": index, \"Sentence\": sentence, \"True Label\": true_label, \"Predicted Label\": predicted_label},\n",
            "<ipython-input-65-7534fcb2f2a3>:11: FutureWarning: The frame.append method is deprecated and will be removed from pandas in a future version. Use pandas.concat instead.\n",
            "  df = df.append({\"Index\": index, \"Sentence\": sentence, \"True Label\": true_label, \"Predicted Label\": predicted_label},\n",
            "<ipython-input-65-7534fcb2f2a3>:11: FutureWarning: The frame.append method is deprecated and will be removed from pandas in a future version. Use pandas.concat instead.\n",
            "  df = df.append({\"Index\": index, \"Sentence\": sentence, \"True Label\": true_label, \"Predicted Label\": predicted_label},\n",
            "<ipython-input-65-7534fcb2f2a3>:11: FutureWarning: The frame.append method is deprecated and will be removed from pandas in a future version. Use pandas.concat instead.\n",
            "  df = df.append({\"Index\": index, \"Sentence\": sentence, \"True Label\": true_label, \"Predicted Label\": predicted_label},\n",
            "<ipython-input-65-7534fcb2f2a3>:11: FutureWarning: The frame.append method is deprecated and will be removed from pandas in a future version. Use pandas.concat instead.\n",
            "  df = df.append({\"Index\": index, \"Sentence\": sentence, \"True Label\": true_label, \"Predicted Label\": predicted_label},\n",
            "<ipython-input-65-7534fcb2f2a3>:11: FutureWarning: The frame.append method is deprecated and will be removed from pandas in a future version. Use pandas.concat instead.\n",
            "  df = df.append({\"Index\": index, \"Sentence\": sentence, \"True Label\": true_label, \"Predicted Label\": predicted_label},\n",
            "<ipython-input-65-7534fcb2f2a3>:11: FutureWarning: The frame.append method is deprecated and will be removed from pandas in a future version. Use pandas.concat instead.\n",
            "  df = df.append({\"Index\": index, \"Sentence\": sentence, \"True Label\": true_label, \"Predicted Label\": predicted_label},\n",
            "<ipython-input-65-7534fcb2f2a3>:11: FutureWarning: The frame.append method is deprecated and will be removed from pandas in a future version. Use pandas.concat instead.\n",
            "  df = df.append({\"Index\": index, \"Sentence\": sentence, \"True Label\": true_label, \"Predicted Label\": predicted_label},\n",
            "<ipython-input-65-7534fcb2f2a3>:11: FutureWarning: The frame.append method is deprecated and will be removed from pandas in a future version. Use pandas.concat instead.\n",
            "  df = df.append({\"Index\": index, \"Sentence\": sentence, \"True Label\": true_label, \"Predicted Label\": predicted_label},\n",
            "<ipython-input-65-7534fcb2f2a3>:11: FutureWarning: The frame.append method is deprecated and will be removed from pandas in a future version. Use pandas.concat instead.\n",
            "  df = df.append({\"Index\": index, \"Sentence\": sentence, \"True Label\": true_label, \"Predicted Label\": predicted_label},\n",
            "<ipython-input-65-7534fcb2f2a3>:11: FutureWarning: The frame.append method is deprecated and will be removed from pandas in a future version. Use pandas.concat instead.\n",
            "  df = df.append({\"Index\": index, \"Sentence\": sentence, \"True Label\": true_label, \"Predicted Label\": predicted_label},\n",
            "<ipython-input-65-7534fcb2f2a3>:11: FutureWarning: The frame.append method is deprecated and will be removed from pandas in a future version. Use pandas.concat instead.\n",
            "  df = df.append({\"Index\": index, \"Sentence\": sentence, \"True Label\": true_label, \"Predicted Label\": predicted_label},\n",
            "<ipython-input-65-7534fcb2f2a3>:11: FutureWarning: The frame.append method is deprecated and will be removed from pandas in a future version. Use pandas.concat instead.\n",
            "  df = df.append({\"Index\": index, \"Sentence\": sentence, \"True Label\": true_label, \"Predicted Label\": predicted_label},\n",
            "<ipython-input-65-7534fcb2f2a3>:11: FutureWarning: The frame.append method is deprecated and will be removed from pandas in a future version. Use pandas.concat instead.\n",
            "  df = df.append({\"Index\": index, \"Sentence\": sentence, \"True Label\": true_label, \"Predicted Label\": predicted_label},\n",
            "<ipython-input-65-7534fcb2f2a3>:11: FutureWarning: The frame.append method is deprecated and will be removed from pandas in a future version. Use pandas.concat instead.\n",
            "  df = df.append({\"Index\": index, \"Sentence\": sentence, \"True Label\": true_label, \"Predicted Label\": predicted_label},\n",
            "<ipython-input-65-7534fcb2f2a3>:11: FutureWarning: The frame.append method is deprecated and will be removed from pandas in a future version. Use pandas.concat instead.\n",
            "  df = df.append({\"Index\": index, \"Sentence\": sentence, \"True Label\": true_label, \"Predicted Label\": predicted_label},\n",
            "<ipython-input-65-7534fcb2f2a3>:11: FutureWarning: The frame.append method is deprecated and will be removed from pandas in a future version. Use pandas.concat instead.\n",
            "  df = df.append({\"Index\": index, \"Sentence\": sentence, \"True Label\": true_label, \"Predicted Label\": predicted_label},\n",
            "<ipython-input-65-7534fcb2f2a3>:11: FutureWarning: The frame.append method is deprecated and will be removed from pandas in a future version. Use pandas.concat instead.\n",
            "  df = df.append({\"Index\": index, \"Sentence\": sentence, \"True Label\": true_label, \"Predicted Label\": predicted_label},\n",
            "<ipython-input-65-7534fcb2f2a3>:11: FutureWarning: The frame.append method is deprecated and will be removed from pandas in a future version. Use pandas.concat instead.\n",
            "  df = df.append({\"Index\": index, \"Sentence\": sentence, \"True Label\": true_label, \"Predicted Label\": predicted_label},\n",
            "<ipython-input-65-7534fcb2f2a3>:11: FutureWarning: The frame.append method is deprecated and will be removed from pandas in a future version. Use pandas.concat instead.\n",
            "  df = df.append({\"Index\": index, \"Sentence\": sentence, \"True Label\": true_label, \"Predicted Label\": predicted_label},\n",
            "<ipython-input-65-7534fcb2f2a3>:11: FutureWarning: The frame.append method is deprecated and will be removed from pandas in a future version. Use pandas.concat instead.\n",
            "  df = df.append({\"Index\": index, \"Sentence\": sentence, \"True Label\": true_label, \"Predicted Label\": predicted_label},\n",
            "<ipython-input-65-7534fcb2f2a3>:11: FutureWarning: The frame.append method is deprecated and will be removed from pandas in a future version. Use pandas.concat instead.\n",
            "  df = df.append({\"Index\": index, \"Sentence\": sentence, \"True Label\": true_label, \"Predicted Label\": predicted_label},\n",
            "<ipython-input-65-7534fcb2f2a3>:11: FutureWarning: The frame.append method is deprecated and will be removed from pandas in a future version. Use pandas.concat instead.\n",
            "  df = df.append({\"Index\": index, \"Sentence\": sentence, \"True Label\": true_label, \"Predicted Label\": predicted_label},\n",
            "<ipython-input-65-7534fcb2f2a3>:11: FutureWarning: The frame.append method is deprecated and will be removed from pandas in a future version. Use pandas.concat instead.\n",
            "  df = df.append({\"Index\": index, \"Sentence\": sentence, \"True Label\": true_label, \"Predicted Label\": predicted_label},\n",
            "<ipython-input-65-7534fcb2f2a3>:11: FutureWarning: The frame.append method is deprecated and will be removed from pandas in a future version. Use pandas.concat instead.\n",
            "  df = df.append({\"Index\": index, \"Sentence\": sentence, \"True Label\": true_label, \"Predicted Label\": predicted_label},\n",
            "<ipython-input-65-7534fcb2f2a3>:11: FutureWarning: The frame.append method is deprecated and will be removed from pandas in a future version. Use pandas.concat instead.\n",
            "  df = df.append({\"Index\": index, \"Sentence\": sentence, \"True Label\": true_label, \"Predicted Label\": predicted_label},\n",
            "<ipython-input-65-7534fcb2f2a3>:11: FutureWarning: The frame.append method is deprecated and will be removed from pandas in a future version. Use pandas.concat instead.\n",
            "  df = df.append({\"Index\": index, \"Sentence\": sentence, \"True Label\": true_label, \"Predicted Label\": predicted_label},\n",
            "<ipython-input-65-7534fcb2f2a3>:11: FutureWarning: The frame.append method is deprecated and will be removed from pandas in a future version. Use pandas.concat instead.\n",
            "  df = df.append({\"Index\": index, \"Sentence\": sentence, \"True Label\": true_label, \"Predicted Label\": predicted_label},\n",
            "<ipython-input-65-7534fcb2f2a3>:11: FutureWarning: The frame.append method is deprecated and will be removed from pandas in a future version. Use pandas.concat instead.\n",
            "  df = df.append({\"Index\": index, \"Sentence\": sentence, \"True Label\": true_label, \"Predicted Label\": predicted_label},\n",
            "<ipython-input-65-7534fcb2f2a3>:11: FutureWarning: The frame.append method is deprecated and will be removed from pandas in a future version. Use pandas.concat instead.\n",
            "  df = df.append({\"Index\": index, \"Sentence\": sentence, \"True Label\": true_label, \"Predicted Label\": predicted_label},\n",
            "<ipython-input-65-7534fcb2f2a3>:11: FutureWarning: The frame.append method is deprecated and will be removed from pandas in a future version. Use pandas.concat instead.\n",
            "  df = df.append({\"Index\": index, \"Sentence\": sentence, \"True Label\": true_label, \"Predicted Label\": predicted_label},\n",
            "<ipython-input-65-7534fcb2f2a3>:11: FutureWarning: The frame.append method is deprecated and will be removed from pandas in a future version. Use pandas.concat instead.\n",
            "  df = df.append({\"Index\": index, \"Sentence\": sentence, \"True Label\": true_label, \"Predicted Label\": predicted_label},\n",
            "<ipython-input-65-7534fcb2f2a3>:11: FutureWarning: The frame.append method is deprecated and will be removed from pandas in a future version. Use pandas.concat instead.\n",
            "  df = df.append({\"Index\": index, \"Sentence\": sentence, \"True Label\": true_label, \"Predicted Label\": predicted_label},\n",
            "<ipython-input-65-7534fcb2f2a3>:11: FutureWarning: The frame.append method is deprecated and will be removed from pandas in a future version. Use pandas.concat instead.\n",
            "  df = df.append({\"Index\": index, \"Sentence\": sentence, \"True Label\": true_label, \"Predicted Label\": predicted_label},\n",
            "<ipython-input-65-7534fcb2f2a3>:11: FutureWarning: The frame.append method is deprecated and will be removed from pandas in a future version. Use pandas.concat instead.\n",
            "  df = df.append({\"Index\": index, \"Sentence\": sentence, \"True Label\": true_label, \"Predicted Label\": predicted_label},\n",
            "<ipython-input-65-7534fcb2f2a3>:11: FutureWarning: The frame.append method is deprecated and will be removed from pandas in a future version. Use pandas.concat instead.\n",
            "  df = df.append({\"Index\": index, \"Sentence\": sentence, \"True Label\": true_label, \"Predicted Label\": predicted_label},\n",
            "<ipython-input-65-7534fcb2f2a3>:11: FutureWarning: The frame.append method is deprecated and will be removed from pandas in a future version. Use pandas.concat instead.\n",
            "  df = df.append({\"Index\": index, \"Sentence\": sentence, \"True Label\": true_label, \"Predicted Label\": predicted_label},\n",
            "<ipython-input-65-7534fcb2f2a3>:11: FutureWarning: The frame.append method is deprecated and will be removed from pandas in a future version. Use pandas.concat instead.\n",
            "  df = df.append({\"Index\": index, \"Sentence\": sentence, \"True Label\": true_label, \"Predicted Label\": predicted_label},\n",
            "<ipython-input-65-7534fcb2f2a3>:11: FutureWarning: The frame.append method is deprecated and will be removed from pandas in a future version. Use pandas.concat instead.\n",
            "  df = df.append({\"Index\": index, \"Sentence\": sentence, \"True Label\": true_label, \"Predicted Label\": predicted_label},\n",
            "<ipython-input-65-7534fcb2f2a3>:11: FutureWarning: The frame.append method is deprecated and will be removed from pandas in a future version. Use pandas.concat instead.\n",
            "  df = df.append({\"Index\": index, \"Sentence\": sentence, \"True Label\": true_label, \"Predicted Label\": predicted_label},\n",
            "<ipython-input-65-7534fcb2f2a3>:11: FutureWarning: The frame.append method is deprecated and will be removed from pandas in a future version. Use pandas.concat instead.\n",
            "  df = df.append({\"Index\": index, \"Sentence\": sentence, \"True Label\": true_label, \"Predicted Label\": predicted_label},\n",
            "<ipython-input-65-7534fcb2f2a3>:11: FutureWarning: The frame.append method is deprecated and will be removed from pandas in a future version. Use pandas.concat instead.\n",
            "  df = df.append({\"Index\": index, \"Sentence\": sentence, \"True Label\": true_label, \"Predicted Label\": predicted_label},\n",
            "<ipython-input-65-7534fcb2f2a3>:11: FutureWarning: The frame.append method is deprecated and will be removed from pandas in a future version. Use pandas.concat instead.\n",
            "  df = df.append({\"Index\": index, \"Sentence\": sentence, \"True Label\": true_label, \"Predicted Label\": predicted_label},\n",
            "<ipython-input-65-7534fcb2f2a3>:11: FutureWarning: The frame.append method is deprecated and will be removed from pandas in a future version. Use pandas.concat instead.\n",
            "  df = df.append({\"Index\": index, \"Sentence\": sentence, \"True Label\": true_label, \"Predicted Label\": predicted_label},\n",
            "<ipython-input-65-7534fcb2f2a3>:11: FutureWarning: The frame.append method is deprecated and will be removed from pandas in a future version. Use pandas.concat instead.\n",
            "  df = df.append({\"Index\": index, \"Sentence\": sentence, \"True Label\": true_label, \"Predicted Label\": predicted_label},\n",
            "<ipython-input-65-7534fcb2f2a3>:11: FutureWarning: The frame.append method is deprecated and will be removed from pandas in a future version. Use pandas.concat instead.\n",
            "  df = df.append({\"Index\": index, \"Sentence\": sentence, \"True Label\": true_label, \"Predicted Label\": predicted_label},\n",
            "<ipython-input-65-7534fcb2f2a3>:11: FutureWarning: The frame.append method is deprecated and will be removed from pandas in a future version. Use pandas.concat instead.\n",
            "  df = df.append({\"Index\": index, \"Sentence\": sentence, \"True Label\": true_label, \"Predicted Label\": predicted_label},\n",
            "<ipython-input-65-7534fcb2f2a3>:11: FutureWarning: The frame.append method is deprecated and will be removed from pandas in a future version. Use pandas.concat instead.\n",
            "  df = df.append({\"Index\": index, \"Sentence\": sentence, \"True Label\": true_label, \"Predicted Label\": predicted_label},\n",
            "<ipython-input-65-7534fcb2f2a3>:11: FutureWarning: The frame.append method is deprecated and will be removed from pandas in a future version. Use pandas.concat instead.\n",
            "  df = df.append({\"Index\": index, \"Sentence\": sentence, \"True Label\": true_label, \"Predicted Label\": predicted_label},\n",
            "<ipython-input-65-7534fcb2f2a3>:11: FutureWarning: The frame.append method is deprecated and will be removed from pandas in a future version. Use pandas.concat instead.\n",
            "  df = df.append({\"Index\": index, \"Sentence\": sentence, \"True Label\": true_label, \"Predicted Label\": predicted_label},\n",
            "<ipython-input-65-7534fcb2f2a3>:11: FutureWarning: The frame.append method is deprecated and will be removed from pandas in a future version. Use pandas.concat instead.\n",
            "  df = df.append({\"Index\": index, \"Sentence\": sentence, \"True Label\": true_label, \"Predicted Label\": predicted_label},\n",
            "<ipython-input-65-7534fcb2f2a3>:11: FutureWarning: The frame.append method is deprecated and will be removed from pandas in a future version. Use pandas.concat instead.\n",
            "  df = df.append({\"Index\": index, \"Sentence\": sentence, \"True Label\": true_label, \"Predicted Label\": predicted_label},\n",
            "<ipython-input-65-7534fcb2f2a3>:11: FutureWarning: The frame.append method is deprecated and will be removed from pandas in a future version. Use pandas.concat instead.\n",
            "  df = df.append({\"Index\": index, \"Sentence\": sentence, \"True Label\": true_label, \"Predicted Label\": predicted_label},\n",
            "<ipython-input-65-7534fcb2f2a3>:11: FutureWarning: The frame.append method is deprecated and will be removed from pandas in a future version. Use pandas.concat instead.\n",
            "  df = df.append({\"Index\": index, \"Sentence\": sentence, \"True Label\": true_label, \"Predicted Label\": predicted_label},\n",
            "<ipython-input-65-7534fcb2f2a3>:11: FutureWarning: The frame.append method is deprecated and will be removed from pandas in a future version. Use pandas.concat instead.\n",
            "  df = df.append({\"Index\": index, \"Sentence\": sentence, \"True Label\": true_label, \"Predicted Label\": predicted_label},\n",
            "<ipython-input-65-7534fcb2f2a3>:11: FutureWarning: The frame.append method is deprecated and will be removed from pandas in a future version. Use pandas.concat instead.\n",
            "  df = df.append({\"Index\": index, \"Sentence\": sentence, \"True Label\": true_label, \"Predicted Label\": predicted_label},\n",
            "<ipython-input-65-7534fcb2f2a3>:11: FutureWarning: The frame.append method is deprecated and will be removed from pandas in a future version. Use pandas.concat instead.\n",
            "  df = df.append({\"Index\": index, \"Sentence\": sentence, \"True Label\": true_label, \"Predicted Label\": predicted_label},\n",
            "<ipython-input-65-7534fcb2f2a3>:11: FutureWarning: The frame.append method is deprecated and will be removed from pandas in a future version. Use pandas.concat instead.\n",
            "  df = df.append({\"Index\": index, \"Sentence\": sentence, \"True Label\": true_label, \"Predicted Label\": predicted_label},\n",
            "<ipython-input-65-7534fcb2f2a3>:11: FutureWarning: The frame.append method is deprecated and will be removed from pandas in a future version. Use pandas.concat instead.\n",
            "  df = df.append({\"Index\": index, \"Sentence\": sentence, \"True Label\": true_label, \"Predicted Label\": predicted_label},\n",
            "<ipython-input-65-7534fcb2f2a3>:11: FutureWarning: The frame.append method is deprecated and will be removed from pandas in a future version. Use pandas.concat instead.\n",
            "  df = df.append({\"Index\": index, \"Sentence\": sentence, \"True Label\": true_label, \"Predicted Label\": predicted_label},\n",
            "<ipython-input-65-7534fcb2f2a3>:11: FutureWarning: The frame.append method is deprecated and will be removed from pandas in a future version. Use pandas.concat instead.\n",
            "  df = df.append({\"Index\": index, \"Sentence\": sentence, \"True Label\": true_label, \"Predicted Label\": predicted_label},\n",
            "<ipython-input-65-7534fcb2f2a3>:11: FutureWarning: The frame.append method is deprecated and will be removed from pandas in a future version. Use pandas.concat instead.\n",
            "  df = df.append({\"Index\": index, \"Sentence\": sentence, \"True Label\": true_label, \"Predicted Label\": predicted_label},\n",
            "<ipython-input-65-7534fcb2f2a3>:11: FutureWarning: The frame.append method is deprecated and will be removed from pandas in a future version. Use pandas.concat instead.\n",
            "  df = df.append({\"Index\": index, \"Sentence\": sentence, \"True Label\": true_label, \"Predicted Label\": predicted_label},\n",
            "<ipython-input-65-7534fcb2f2a3>:11: FutureWarning: The frame.append method is deprecated and will be removed from pandas in a future version. Use pandas.concat instead.\n",
            "  df = df.append({\"Index\": index, \"Sentence\": sentence, \"True Label\": true_label, \"Predicted Label\": predicted_label},\n",
            "<ipython-input-65-7534fcb2f2a3>:11: FutureWarning: The frame.append method is deprecated and will be removed from pandas in a future version. Use pandas.concat instead.\n",
            "  df = df.append({\"Index\": index, \"Sentence\": sentence, \"True Label\": true_label, \"Predicted Label\": predicted_label},\n",
            "<ipython-input-65-7534fcb2f2a3>:11: FutureWarning: The frame.append method is deprecated and will be removed from pandas in a future version. Use pandas.concat instead.\n",
            "  df = df.append({\"Index\": index, \"Sentence\": sentence, \"True Label\": true_label, \"Predicted Label\": predicted_label},\n",
            "<ipython-input-65-7534fcb2f2a3>:11: FutureWarning: The frame.append method is deprecated and will be removed from pandas in a future version. Use pandas.concat instead.\n",
            "  df = df.append({\"Index\": index, \"Sentence\": sentence, \"True Label\": true_label, \"Predicted Label\": predicted_label},\n",
            "<ipython-input-65-7534fcb2f2a3>:11: FutureWarning: The frame.append method is deprecated and will be removed from pandas in a future version. Use pandas.concat instead.\n",
            "  df = df.append({\"Index\": index, \"Sentence\": sentence, \"True Label\": true_label, \"Predicted Label\": predicted_label},\n",
            "<ipython-input-65-7534fcb2f2a3>:11: FutureWarning: The frame.append method is deprecated and will be removed from pandas in a future version. Use pandas.concat instead.\n",
            "  df = df.append({\"Index\": index, \"Sentence\": sentence, \"True Label\": true_label, \"Predicted Label\": predicted_label},\n",
            "<ipython-input-65-7534fcb2f2a3>:11: FutureWarning: The frame.append method is deprecated and will be removed from pandas in a future version. Use pandas.concat instead.\n",
            "  df = df.append({\"Index\": index, \"Sentence\": sentence, \"True Label\": true_label, \"Predicted Label\": predicted_label},\n",
            "<ipython-input-65-7534fcb2f2a3>:11: FutureWarning: The frame.append method is deprecated and will be removed from pandas in a future version. Use pandas.concat instead.\n",
            "  df = df.append({\"Index\": index, \"Sentence\": sentence, \"True Label\": true_label, \"Predicted Label\": predicted_label},\n",
            "<ipython-input-65-7534fcb2f2a3>:11: FutureWarning: The frame.append method is deprecated and will be removed from pandas in a future version. Use pandas.concat instead.\n",
            "  df = df.append({\"Index\": index, \"Sentence\": sentence, \"True Label\": true_label, \"Predicted Label\": predicted_label},\n",
            "<ipython-input-65-7534fcb2f2a3>:11: FutureWarning: The frame.append method is deprecated and will be removed from pandas in a future version. Use pandas.concat instead.\n",
            "  df = df.append({\"Index\": index, \"Sentence\": sentence, \"True Label\": true_label, \"Predicted Label\": predicted_label},\n",
            "<ipython-input-65-7534fcb2f2a3>:11: FutureWarning: The frame.append method is deprecated and will be removed from pandas in a future version. Use pandas.concat instead.\n",
            "  df = df.append({\"Index\": index, \"Sentence\": sentence, \"True Label\": true_label, \"Predicted Label\": predicted_label},\n",
            "<ipython-input-65-7534fcb2f2a3>:11: FutureWarning: The frame.append method is deprecated and will be removed from pandas in a future version. Use pandas.concat instead.\n",
            "  df = df.append({\"Index\": index, \"Sentence\": sentence, \"True Label\": true_label, \"Predicted Label\": predicted_label},\n",
            "<ipython-input-65-7534fcb2f2a3>:11: FutureWarning: The frame.append method is deprecated and will be removed from pandas in a future version. Use pandas.concat instead.\n",
            "  df = df.append({\"Index\": index, \"Sentence\": sentence, \"True Label\": true_label, \"Predicted Label\": predicted_label},\n",
            "<ipython-input-65-7534fcb2f2a3>:11: FutureWarning: The frame.append method is deprecated and will be removed from pandas in a future version. Use pandas.concat instead.\n",
            "  df = df.append({\"Index\": index, \"Sentence\": sentence, \"True Label\": true_label, \"Predicted Label\": predicted_label},\n",
            "<ipython-input-65-7534fcb2f2a3>:11: FutureWarning: The frame.append method is deprecated and will be removed from pandas in a future version. Use pandas.concat instead.\n",
            "  df = df.append({\"Index\": index, \"Sentence\": sentence, \"True Label\": true_label, \"Predicted Label\": predicted_label},\n",
            "<ipython-input-65-7534fcb2f2a3>:11: FutureWarning: The frame.append method is deprecated and will be removed from pandas in a future version. Use pandas.concat instead.\n",
            "  df = df.append({\"Index\": index, \"Sentence\": sentence, \"True Label\": true_label, \"Predicted Label\": predicted_label},\n",
            "<ipython-input-65-7534fcb2f2a3>:11: FutureWarning: The frame.append method is deprecated and will be removed from pandas in a future version. Use pandas.concat instead.\n",
            "  df = df.append({\"Index\": index, \"Sentence\": sentence, \"True Label\": true_label, \"Predicted Label\": predicted_label},\n",
            "<ipython-input-65-7534fcb2f2a3>:11: FutureWarning: The frame.append method is deprecated and will be removed from pandas in a future version. Use pandas.concat instead.\n",
            "  df = df.append({\"Index\": index, \"Sentence\": sentence, \"True Label\": true_label, \"Predicted Label\": predicted_label},\n",
            "<ipython-input-65-7534fcb2f2a3>:11: FutureWarning: The frame.append method is deprecated and will be removed from pandas in a future version. Use pandas.concat instead.\n",
            "  df = df.append({\"Index\": index, \"Sentence\": sentence, \"True Label\": true_label, \"Predicted Label\": predicted_label},\n",
            "<ipython-input-65-7534fcb2f2a3>:11: FutureWarning: The frame.append method is deprecated and will be removed from pandas in a future version. Use pandas.concat instead.\n",
            "  df = df.append({\"Index\": index, \"Sentence\": sentence, \"True Label\": true_label, \"Predicted Label\": predicted_label},\n",
            "<ipython-input-65-7534fcb2f2a3>:11: FutureWarning: The frame.append method is deprecated and will be removed from pandas in a future version. Use pandas.concat instead.\n",
            "  df = df.append({\"Index\": index, \"Sentence\": sentence, \"True Label\": true_label, \"Predicted Label\": predicted_label},\n",
            "<ipython-input-65-7534fcb2f2a3>:11: FutureWarning: The frame.append method is deprecated and will be removed from pandas in a future version. Use pandas.concat instead.\n",
            "  df = df.append({\"Index\": index, \"Sentence\": sentence, \"True Label\": true_label, \"Predicted Label\": predicted_label},\n",
            "<ipython-input-65-7534fcb2f2a3>:11: FutureWarning: The frame.append method is deprecated and will be removed from pandas in a future version. Use pandas.concat instead.\n",
            "  df = df.append({\"Index\": index, \"Sentence\": sentence, \"True Label\": true_label, \"Predicted Label\": predicted_label},\n",
            "<ipython-input-65-7534fcb2f2a3>:11: FutureWarning: The frame.append method is deprecated and will be removed from pandas in a future version. Use pandas.concat instead.\n",
            "  df = df.append({\"Index\": index, \"Sentence\": sentence, \"True Label\": true_label, \"Predicted Label\": predicted_label},\n",
            "<ipython-input-65-7534fcb2f2a3>:11: FutureWarning: The frame.append method is deprecated and will be removed from pandas in a future version. Use pandas.concat instead.\n",
            "  df = df.append({\"Index\": index, \"Sentence\": sentence, \"True Label\": true_label, \"Predicted Label\": predicted_label},\n",
            "<ipython-input-65-7534fcb2f2a3>:11: FutureWarning: The frame.append method is deprecated and will be removed from pandas in a future version. Use pandas.concat instead.\n",
            "  df = df.append({\"Index\": index, \"Sentence\": sentence, \"True Label\": true_label, \"Predicted Label\": predicted_label},\n",
            "<ipython-input-65-7534fcb2f2a3>:11: FutureWarning: The frame.append method is deprecated and will be removed from pandas in a future version. Use pandas.concat instead.\n",
            "  df = df.append({\"Index\": index, \"Sentence\": sentence, \"True Label\": true_label, \"Predicted Label\": predicted_label},\n",
            "<ipython-input-65-7534fcb2f2a3>:11: FutureWarning: The frame.append method is deprecated and will be removed from pandas in a future version. Use pandas.concat instead.\n",
            "  df = df.append({\"Index\": index, \"Sentence\": sentence, \"True Label\": true_label, \"Predicted Label\": predicted_label},\n",
            "<ipython-input-65-7534fcb2f2a3>:11: FutureWarning: The frame.append method is deprecated and will be removed from pandas in a future version. Use pandas.concat instead.\n",
            "  df = df.append({\"Index\": index, \"Sentence\": sentence, \"True Label\": true_label, \"Predicted Label\": predicted_label},\n",
            "<ipython-input-65-7534fcb2f2a3>:11: FutureWarning: The frame.append method is deprecated and will be removed from pandas in a future version. Use pandas.concat instead.\n",
            "  df = df.append({\"Index\": index, \"Sentence\": sentence, \"True Label\": true_label, \"Predicted Label\": predicted_label},\n",
            "<ipython-input-65-7534fcb2f2a3>:11: FutureWarning: The frame.append method is deprecated and will be removed from pandas in a future version. Use pandas.concat instead.\n",
            "  df = df.append({\"Index\": index, \"Sentence\": sentence, \"True Label\": true_label, \"Predicted Label\": predicted_label},\n",
            "<ipython-input-65-7534fcb2f2a3>:11: FutureWarning: The frame.append method is deprecated and will be removed from pandas in a future version. Use pandas.concat instead.\n",
            "  df = df.append({\"Index\": index, \"Sentence\": sentence, \"True Label\": true_label, \"Predicted Label\": predicted_label},\n",
            "<ipython-input-65-7534fcb2f2a3>:11: FutureWarning: The frame.append method is deprecated and will be removed from pandas in a future version. Use pandas.concat instead.\n",
            "  df = df.append({\"Index\": index, \"Sentence\": sentence, \"True Label\": true_label, \"Predicted Label\": predicted_label},\n",
            "<ipython-input-65-7534fcb2f2a3>:11: FutureWarning: The frame.append method is deprecated and will be removed from pandas in a future version. Use pandas.concat instead.\n",
            "  df = df.append({\"Index\": index, \"Sentence\": sentence, \"True Label\": true_label, \"Predicted Label\": predicted_label},\n",
            "<ipython-input-65-7534fcb2f2a3>:11: FutureWarning: The frame.append method is deprecated and will be removed from pandas in a future version. Use pandas.concat instead.\n",
            "  df = df.append({\"Index\": index, \"Sentence\": sentence, \"True Label\": true_label, \"Predicted Label\": predicted_label},\n",
            "<ipython-input-65-7534fcb2f2a3>:11: FutureWarning: The frame.append method is deprecated and will be removed from pandas in a future version. Use pandas.concat instead.\n",
            "  df = df.append({\"Index\": index, \"Sentence\": sentence, \"True Label\": true_label, \"Predicted Label\": predicted_label},\n",
            "<ipython-input-65-7534fcb2f2a3>:11: FutureWarning: The frame.append method is deprecated and will be removed from pandas in a future version. Use pandas.concat instead.\n",
            "  df = df.append({\"Index\": index, \"Sentence\": sentence, \"True Label\": true_label, \"Predicted Label\": predicted_label},\n",
            "<ipython-input-65-7534fcb2f2a3>:11: FutureWarning: The frame.append method is deprecated and will be removed from pandas in a future version. Use pandas.concat instead.\n",
            "  df = df.append({\"Index\": index, \"Sentence\": sentence, \"True Label\": true_label, \"Predicted Label\": predicted_label},\n",
            "<ipython-input-65-7534fcb2f2a3>:11: FutureWarning: The frame.append method is deprecated and will be removed from pandas in a future version. Use pandas.concat instead.\n",
            "  df = df.append({\"Index\": index, \"Sentence\": sentence, \"True Label\": true_label, \"Predicted Label\": predicted_label},\n",
            "<ipython-input-65-7534fcb2f2a3>:11: FutureWarning: The frame.append method is deprecated and will be removed from pandas in a future version. Use pandas.concat instead.\n",
            "  df = df.append({\"Index\": index, \"Sentence\": sentence, \"True Label\": true_label, \"Predicted Label\": predicted_label},\n",
            "<ipython-input-65-7534fcb2f2a3>:11: FutureWarning: The frame.append method is deprecated and will be removed from pandas in a future version. Use pandas.concat instead.\n",
            "  df = df.append({\"Index\": index, \"Sentence\": sentence, \"True Label\": true_label, \"Predicted Label\": predicted_label},\n",
            "<ipython-input-65-7534fcb2f2a3>:11: FutureWarning: The frame.append method is deprecated and will be removed from pandas in a future version. Use pandas.concat instead.\n",
            "  df = df.append({\"Index\": index, \"Sentence\": sentence, \"True Label\": true_label, \"Predicted Label\": predicted_label},\n",
            "<ipython-input-65-7534fcb2f2a3>:11: FutureWarning: The frame.append method is deprecated and will be removed from pandas in a future version. Use pandas.concat instead.\n",
            "  df = df.append({\"Index\": index, \"Sentence\": sentence, \"True Label\": true_label, \"Predicted Label\": predicted_label},\n",
            "<ipython-input-65-7534fcb2f2a3>:11: FutureWarning: The frame.append method is deprecated and will be removed from pandas in a future version. Use pandas.concat instead.\n",
            "  df = df.append({\"Index\": index, \"Sentence\": sentence, \"True Label\": true_label, \"Predicted Label\": predicted_label},\n",
            "<ipython-input-65-7534fcb2f2a3>:11: FutureWarning: The frame.append method is deprecated and will be removed from pandas in a future version. Use pandas.concat instead.\n",
            "  df = df.append({\"Index\": index, \"Sentence\": sentence, \"True Label\": true_label, \"Predicted Label\": predicted_label},\n",
            "<ipython-input-65-7534fcb2f2a3>:11: FutureWarning: The frame.append method is deprecated and will be removed from pandas in a future version. Use pandas.concat instead.\n",
            "  df = df.append({\"Index\": index, \"Sentence\": sentence, \"True Label\": true_label, \"Predicted Label\": predicted_label},\n",
            "<ipython-input-65-7534fcb2f2a3>:11: FutureWarning: The frame.append method is deprecated and will be removed from pandas in a future version. Use pandas.concat instead.\n",
            "  df = df.append({\"Index\": index, \"Sentence\": sentence, \"True Label\": true_label, \"Predicted Label\": predicted_label},\n",
            "<ipython-input-65-7534fcb2f2a3>:11: FutureWarning: The frame.append method is deprecated and will be removed from pandas in a future version. Use pandas.concat instead.\n",
            "  df = df.append({\"Index\": index, \"Sentence\": sentence, \"True Label\": true_label, \"Predicted Label\": predicted_label},\n",
            "<ipython-input-65-7534fcb2f2a3>:11: FutureWarning: The frame.append method is deprecated and will be removed from pandas in a future version. Use pandas.concat instead.\n",
            "  df = df.append({\"Index\": index, \"Sentence\": sentence, \"True Label\": true_label, \"Predicted Label\": predicted_label},\n",
            "<ipython-input-65-7534fcb2f2a3>:11: FutureWarning: The frame.append method is deprecated and will be removed from pandas in a future version. Use pandas.concat instead.\n",
            "  df = df.append({\"Index\": index, \"Sentence\": sentence, \"True Label\": true_label, \"Predicted Label\": predicted_label},\n",
            "<ipython-input-65-7534fcb2f2a3>:11: FutureWarning: The frame.append method is deprecated and will be removed from pandas in a future version. Use pandas.concat instead.\n",
            "  df = df.append({\"Index\": index, \"Sentence\": sentence, \"True Label\": true_label, \"Predicted Label\": predicted_label},\n",
            "<ipython-input-65-7534fcb2f2a3>:11: FutureWarning: The frame.append method is deprecated and will be removed from pandas in a future version. Use pandas.concat instead.\n",
            "  df = df.append({\"Index\": index, \"Sentence\": sentence, \"True Label\": true_label, \"Predicted Label\": predicted_label},\n",
            "<ipython-input-65-7534fcb2f2a3>:11: FutureWarning: The frame.append method is deprecated and will be removed from pandas in a future version. Use pandas.concat instead.\n",
            "  df = df.append({\"Index\": index, \"Sentence\": sentence, \"True Label\": true_label, \"Predicted Label\": predicted_label},\n",
            "<ipython-input-65-7534fcb2f2a3>:11: FutureWarning: The frame.append method is deprecated and will be removed from pandas in a future version. Use pandas.concat instead.\n",
            "  df = df.append({\"Index\": index, \"Sentence\": sentence, \"True Label\": true_label, \"Predicted Label\": predicted_label},\n",
            "<ipython-input-65-7534fcb2f2a3>:11: FutureWarning: The frame.append method is deprecated and will be removed from pandas in a future version. Use pandas.concat instead.\n",
            "  df = df.append({\"Index\": index, \"Sentence\": sentence, \"True Label\": true_label, \"Predicted Label\": predicted_label},\n",
            "<ipython-input-65-7534fcb2f2a3>:11: FutureWarning: The frame.append method is deprecated and will be removed from pandas in a future version. Use pandas.concat instead.\n",
            "  df = df.append({\"Index\": index, \"Sentence\": sentence, \"True Label\": true_label, \"Predicted Label\": predicted_label},\n",
            "<ipython-input-65-7534fcb2f2a3>:11: FutureWarning: The frame.append method is deprecated and will be removed from pandas in a future version. Use pandas.concat instead.\n",
            "  df = df.append({\"Index\": index, \"Sentence\": sentence, \"True Label\": true_label, \"Predicted Label\": predicted_label},\n",
            "<ipython-input-65-7534fcb2f2a3>:11: FutureWarning: The frame.append method is deprecated and will be removed from pandas in a future version. Use pandas.concat instead.\n",
            "  df = df.append({\"Index\": index, \"Sentence\": sentence, \"True Label\": true_label, \"Predicted Label\": predicted_label},\n",
            "<ipython-input-65-7534fcb2f2a3>:11: FutureWarning: The frame.append method is deprecated and will be removed from pandas in a future version. Use pandas.concat instead.\n",
            "  df = df.append({\"Index\": index, \"Sentence\": sentence, \"True Label\": true_label, \"Predicted Label\": predicted_label},\n",
            "<ipython-input-65-7534fcb2f2a3>:11: FutureWarning: The frame.append method is deprecated and will be removed from pandas in a future version. Use pandas.concat instead.\n",
            "  df = df.append({\"Index\": index, \"Sentence\": sentence, \"True Label\": true_label, \"Predicted Label\": predicted_label},\n",
            "<ipython-input-65-7534fcb2f2a3>:11: FutureWarning: The frame.append method is deprecated and will be removed from pandas in a future version. Use pandas.concat instead.\n",
            "  df = df.append({\"Index\": index, \"Sentence\": sentence, \"True Label\": true_label, \"Predicted Label\": predicted_label},\n",
            "<ipython-input-65-7534fcb2f2a3>:11: FutureWarning: The frame.append method is deprecated and will be removed from pandas in a future version. Use pandas.concat instead.\n",
            "  df = df.append({\"Index\": index, \"Sentence\": sentence, \"True Label\": true_label, \"Predicted Label\": predicted_label},\n",
            "<ipython-input-65-7534fcb2f2a3>:11: FutureWarning: The frame.append method is deprecated and will be removed from pandas in a future version. Use pandas.concat instead.\n",
            "  df = df.append({\"Index\": index, \"Sentence\": sentence, \"True Label\": true_label, \"Predicted Label\": predicted_label},\n",
            "<ipython-input-65-7534fcb2f2a3>:11: FutureWarning: The frame.append method is deprecated and will be removed from pandas in a future version. Use pandas.concat instead.\n",
            "  df = df.append({\"Index\": index, \"Sentence\": sentence, \"True Label\": true_label, \"Predicted Label\": predicted_label},\n",
            "<ipython-input-65-7534fcb2f2a3>:11: FutureWarning: The frame.append method is deprecated and will be removed from pandas in a future version. Use pandas.concat instead.\n",
            "  df = df.append({\"Index\": index, \"Sentence\": sentence, \"True Label\": true_label, \"Predicted Label\": predicted_label},\n",
            "<ipython-input-65-7534fcb2f2a3>:11: FutureWarning: The frame.append method is deprecated and will be removed from pandas in a future version. Use pandas.concat instead.\n",
            "  df = df.append({\"Index\": index, \"Sentence\": sentence, \"True Label\": true_label, \"Predicted Label\": predicted_label},\n",
            "<ipython-input-65-7534fcb2f2a3>:11: FutureWarning: The frame.append method is deprecated and will be removed from pandas in a future version. Use pandas.concat instead.\n",
            "  df = df.append({\"Index\": index, \"Sentence\": sentence, \"True Label\": true_label, \"Predicted Label\": predicted_label},\n",
            "<ipython-input-65-7534fcb2f2a3>:11: FutureWarning: The frame.append method is deprecated and will be removed from pandas in a future version. Use pandas.concat instead.\n",
            "  df = df.append({\"Index\": index, \"Sentence\": sentence, \"True Label\": true_label, \"Predicted Label\": predicted_label},\n",
            "<ipython-input-65-7534fcb2f2a3>:11: FutureWarning: The frame.append method is deprecated and will be removed from pandas in a future version. Use pandas.concat instead.\n",
            "  df = df.append({\"Index\": index, \"Sentence\": sentence, \"True Label\": true_label, \"Predicted Label\": predicted_label},\n",
            "<ipython-input-65-7534fcb2f2a3>:11: FutureWarning: The frame.append method is deprecated and will be removed from pandas in a future version. Use pandas.concat instead.\n",
            "  df = df.append({\"Index\": index, \"Sentence\": sentence, \"True Label\": true_label, \"Predicted Label\": predicted_label},\n",
            "<ipython-input-65-7534fcb2f2a3>:11: FutureWarning: The frame.append method is deprecated and will be removed from pandas in a future version. Use pandas.concat instead.\n",
            "  df = df.append({\"Index\": index, \"Sentence\": sentence, \"True Label\": true_label, \"Predicted Label\": predicted_label},\n",
            "<ipython-input-65-7534fcb2f2a3>:11: FutureWarning: The frame.append method is deprecated and will be removed from pandas in a future version. Use pandas.concat instead.\n",
            "  df = df.append({\"Index\": index, \"Sentence\": sentence, \"True Label\": true_label, \"Predicted Label\": predicted_label},\n",
            "<ipython-input-65-7534fcb2f2a3>:11: FutureWarning: The frame.append method is deprecated and will be removed from pandas in a future version. Use pandas.concat instead.\n",
            "  df = df.append({\"Index\": index, \"Sentence\": sentence, \"True Label\": true_label, \"Predicted Label\": predicted_label},\n",
            "<ipython-input-65-7534fcb2f2a3>:11: FutureWarning: The frame.append method is deprecated and will be removed from pandas in a future version. Use pandas.concat instead.\n",
            "  df = df.append({\"Index\": index, \"Sentence\": sentence, \"True Label\": true_label, \"Predicted Label\": predicted_label},\n",
            "<ipython-input-65-7534fcb2f2a3>:11: FutureWarning: The frame.append method is deprecated and will be removed from pandas in a future version. Use pandas.concat instead.\n",
            "  df = df.append({\"Index\": index, \"Sentence\": sentence, \"True Label\": true_label, \"Predicted Label\": predicted_label},\n",
            "<ipython-input-65-7534fcb2f2a3>:11: FutureWarning: The frame.append method is deprecated and will be removed from pandas in a future version. Use pandas.concat instead.\n",
            "  df = df.append({\"Index\": index, \"Sentence\": sentence, \"True Label\": true_label, \"Predicted Label\": predicted_label},\n",
            "<ipython-input-65-7534fcb2f2a3>:11: FutureWarning: The frame.append method is deprecated and will be removed from pandas in a future version. Use pandas.concat instead.\n",
            "  df = df.append({\"Index\": index, \"Sentence\": sentence, \"True Label\": true_label, \"Predicted Label\": predicted_label},\n",
            "<ipython-input-65-7534fcb2f2a3>:11: FutureWarning: The frame.append method is deprecated and will be removed from pandas in a future version. Use pandas.concat instead.\n",
            "  df = df.append({\"Index\": index, \"Sentence\": sentence, \"True Label\": true_label, \"Predicted Label\": predicted_label},\n",
            "<ipython-input-65-7534fcb2f2a3>:11: FutureWarning: The frame.append method is deprecated and will be removed from pandas in a future version. Use pandas.concat instead.\n",
            "  df = df.append({\"Index\": index, \"Sentence\": sentence, \"True Label\": true_label, \"Predicted Label\": predicted_label},\n",
            "<ipython-input-65-7534fcb2f2a3>:11: FutureWarning: The frame.append method is deprecated and will be removed from pandas in a future version. Use pandas.concat instead.\n",
            "  df = df.append({\"Index\": index, \"Sentence\": sentence, \"True Label\": true_label, \"Predicted Label\": predicted_label},\n",
            "<ipython-input-65-7534fcb2f2a3>:11: FutureWarning: The frame.append method is deprecated and will be removed from pandas in a future version. Use pandas.concat instead.\n",
            "  df = df.append({\"Index\": index, \"Sentence\": sentence, \"True Label\": true_label, \"Predicted Label\": predicted_label},\n",
            "<ipython-input-65-7534fcb2f2a3>:11: FutureWarning: The frame.append method is deprecated and will be removed from pandas in a future version. Use pandas.concat instead.\n",
            "  df = df.append({\"Index\": index, \"Sentence\": sentence, \"True Label\": true_label, \"Predicted Label\": predicted_label},\n",
            "<ipython-input-65-7534fcb2f2a3>:11: FutureWarning: The frame.append method is deprecated and will be removed from pandas in a future version. Use pandas.concat instead.\n",
            "  df = df.append({\"Index\": index, \"Sentence\": sentence, \"True Label\": true_label, \"Predicted Label\": predicted_label},\n",
            "<ipython-input-65-7534fcb2f2a3>:11: FutureWarning: The frame.append method is deprecated and will be removed from pandas in a future version. Use pandas.concat instead.\n",
            "  df = df.append({\"Index\": index, \"Sentence\": sentence, \"True Label\": true_label, \"Predicted Label\": predicted_label},\n",
            "<ipython-input-65-7534fcb2f2a3>:11: FutureWarning: The frame.append method is deprecated and will be removed from pandas in a future version. Use pandas.concat instead.\n",
            "  df = df.append({\"Index\": index, \"Sentence\": sentence, \"True Label\": true_label, \"Predicted Label\": predicted_label},\n",
            "<ipython-input-65-7534fcb2f2a3>:11: FutureWarning: The frame.append method is deprecated and will be removed from pandas in a future version. Use pandas.concat instead.\n",
            "  df = df.append({\"Index\": index, \"Sentence\": sentence, \"True Label\": true_label, \"Predicted Label\": predicted_label},\n",
            "<ipython-input-65-7534fcb2f2a3>:11: FutureWarning: The frame.append method is deprecated and will be removed from pandas in a future version. Use pandas.concat instead.\n",
            "  df = df.append({\"Index\": index, \"Sentence\": sentence, \"True Label\": true_label, \"Predicted Label\": predicted_label},\n",
            "<ipython-input-65-7534fcb2f2a3>:11: FutureWarning: The frame.append method is deprecated and will be removed from pandas in a future version. Use pandas.concat instead.\n",
            "  df = df.append({\"Index\": index, \"Sentence\": sentence, \"True Label\": true_label, \"Predicted Label\": predicted_label},\n",
            "<ipython-input-65-7534fcb2f2a3>:11: FutureWarning: The frame.append method is deprecated and will be removed from pandas in a future version. Use pandas.concat instead.\n",
            "  df = df.append({\"Index\": index, \"Sentence\": sentence, \"True Label\": true_label, \"Predicted Label\": predicted_label},\n",
            "<ipython-input-65-7534fcb2f2a3>:11: FutureWarning: The frame.append method is deprecated and will be removed from pandas in a future version. Use pandas.concat instead.\n",
            "  df = df.append({\"Index\": index, \"Sentence\": sentence, \"True Label\": true_label, \"Predicted Label\": predicted_label},\n",
            "<ipython-input-65-7534fcb2f2a3>:11: FutureWarning: The frame.append method is deprecated and will be removed from pandas in a future version. Use pandas.concat instead.\n",
            "  df = df.append({\"Index\": index, \"Sentence\": sentence, \"True Label\": true_label, \"Predicted Label\": predicted_label},\n",
            "<ipython-input-65-7534fcb2f2a3>:11: FutureWarning: The frame.append method is deprecated and will be removed from pandas in a future version. Use pandas.concat instead.\n",
            "  df = df.append({\"Index\": index, \"Sentence\": sentence, \"True Label\": true_label, \"Predicted Label\": predicted_label},\n",
            "<ipython-input-65-7534fcb2f2a3>:11: FutureWarning: The frame.append method is deprecated and will be removed from pandas in a future version. Use pandas.concat instead.\n",
            "  df = df.append({\"Index\": index, \"Sentence\": sentence, \"True Label\": true_label, \"Predicted Label\": predicted_label},\n",
            "<ipython-input-65-7534fcb2f2a3>:11: FutureWarning: The frame.append method is deprecated and will be removed from pandas in a future version. Use pandas.concat instead.\n",
            "  df = df.append({\"Index\": index, \"Sentence\": sentence, \"True Label\": true_label, \"Predicted Label\": predicted_label},\n",
            "<ipython-input-65-7534fcb2f2a3>:11: FutureWarning: The frame.append method is deprecated and will be removed from pandas in a future version. Use pandas.concat instead.\n",
            "  df = df.append({\"Index\": index, \"Sentence\": sentence, \"True Label\": true_label, \"Predicted Label\": predicted_label},\n",
            "<ipython-input-65-7534fcb2f2a3>:11: FutureWarning: The frame.append method is deprecated and will be removed from pandas in a future version. Use pandas.concat instead.\n",
            "  df = df.append({\"Index\": index, \"Sentence\": sentence, \"True Label\": true_label, \"Predicted Label\": predicted_label},\n",
            "<ipython-input-65-7534fcb2f2a3>:11: FutureWarning: The frame.append method is deprecated and will be removed from pandas in a future version. Use pandas.concat instead.\n",
            "  df = df.append({\"Index\": index, \"Sentence\": sentence, \"True Label\": true_label, \"Predicted Label\": predicted_label},\n",
            "<ipython-input-65-7534fcb2f2a3>:11: FutureWarning: The frame.append method is deprecated and will be removed from pandas in a future version. Use pandas.concat instead.\n",
            "  df = df.append({\"Index\": index, \"Sentence\": sentence, \"True Label\": true_label, \"Predicted Label\": predicted_label},\n",
            "<ipython-input-65-7534fcb2f2a3>:11: FutureWarning: The frame.append method is deprecated and will be removed from pandas in a future version. Use pandas.concat instead.\n",
            "  df = df.append({\"Index\": index, \"Sentence\": sentence, \"True Label\": true_label, \"Predicted Label\": predicted_label},\n",
            "<ipython-input-65-7534fcb2f2a3>:11: FutureWarning: The frame.append method is deprecated and will be removed from pandas in a future version. Use pandas.concat instead.\n",
            "  df = df.append({\"Index\": index, \"Sentence\": sentence, \"True Label\": true_label, \"Predicted Label\": predicted_label},\n",
            "<ipython-input-65-7534fcb2f2a3>:11: FutureWarning: The frame.append method is deprecated and will be removed from pandas in a future version. Use pandas.concat instead.\n",
            "  df = df.append({\"Index\": index, \"Sentence\": sentence, \"True Label\": true_label, \"Predicted Label\": predicted_label},\n",
            "<ipython-input-65-7534fcb2f2a3>:11: FutureWarning: The frame.append method is deprecated and will be removed from pandas in a future version. Use pandas.concat instead.\n",
            "  df = df.append({\"Index\": index, \"Sentence\": sentence, \"True Label\": true_label, \"Predicted Label\": predicted_label},\n",
            "<ipython-input-65-7534fcb2f2a3>:11: FutureWarning: The frame.append method is deprecated and will be removed from pandas in a future version. Use pandas.concat instead.\n",
            "  df = df.append({\"Index\": index, \"Sentence\": sentence, \"True Label\": true_label, \"Predicted Label\": predicted_label},\n",
            "<ipython-input-65-7534fcb2f2a3>:11: FutureWarning: The frame.append method is deprecated and will be removed from pandas in a future version. Use pandas.concat instead.\n",
            "  df = df.append({\"Index\": index, \"Sentence\": sentence, \"True Label\": true_label, \"Predicted Label\": predicted_label},\n",
            "<ipython-input-65-7534fcb2f2a3>:11: FutureWarning: The frame.append method is deprecated and will be removed from pandas in a future version. Use pandas.concat instead.\n",
            "  df = df.append({\"Index\": index, \"Sentence\": sentence, \"True Label\": true_label, \"Predicted Label\": predicted_label},\n",
            "<ipython-input-65-7534fcb2f2a3>:11: FutureWarning: The frame.append method is deprecated and will be removed from pandas in a future version. Use pandas.concat instead.\n",
            "  df = df.append({\"Index\": index, \"Sentence\": sentence, \"True Label\": true_label, \"Predicted Label\": predicted_label},\n",
            "<ipython-input-65-7534fcb2f2a3>:11: FutureWarning: The frame.append method is deprecated and will be removed from pandas in a future version. Use pandas.concat instead.\n",
            "  df = df.append({\"Index\": index, \"Sentence\": sentence, \"True Label\": true_label, \"Predicted Label\": predicted_label},\n",
            "<ipython-input-65-7534fcb2f2a3>:11: FutureWarning: The frame.append method is deprecated and will be removed from pandas in a future version. Use pandas.concat instead.\n",
            "  df = df.append({\"Index\": index, \"Sentence\": sentence, \"True Label\": true_label, \"Predicted Label\": predicted_label},\n",
            "<ipython-input-65-7534fcb2f2a3>:11: FutureWarning: The frame.append method is deprecated and will be removed from pandas in a future version. Use pandas.concat instead.\n",
            "  df = df.append({\"Index\": index, \"Sentence\": sentence, \"True Label\": true_label, \"Predicted Label\": predicted_label},\n",
            "<ipython-input-65-7534fcb2f2a3>:11: FutureWarning: The frame.append method is deprecated and will be removed from pandas in a future version. Use pandas.concat instead.\n",
            "  df = df.append({\"Index\": index, \"Sentence\": sentence, \"True Label\": true_label, \"Predicted Label\": predicted_label},\n",
            "<ipython-input-65-7534fcb2f2a3>:11: FutureWarning: The frame.append method is deprecated and will be removed from pandas in a future version. Use pandas.concat instead.\n",
            "  df = df.append({\"Index\": index, \"Sentence\": sentence, \"True Label\": true_label, \"Predicted Label\": predicted_label},\n",
            "<ipython-input-65-7534fcb2f2a3>:11: FutureWarning: The frame.append method is deprecated and will be removed from pandas in a future version. Use pandas.concat instead.\n",
            "  df = df.append({\"Index\": index, \"Sentence\": sentence, \"True Label\": true_label, \"Predicted Label\": predicted_label},\n",
            "<ipython-input-65-7534fcb2f2a3>:11: FutureWarning: The frame.append method is deprecated and will be removed from pandas in a future version. Use pandas.concat instead.\n",
            "  df = df.append({\"Index\": index, \"Sentence\": sentence, \"True Label\": true_label, \"Predicted Label\": predicted_label},\n",
            "<ipython-input-65-7534fcb2f2a3>:11: FutureWarning: The frame.append method is deprecated and will be removed from pandas in a future version. Use pandas.concat instead.\n",
            "  df = df.append({\"Index\": index, \"Sentence\": sentence, \"True Label\": true_label, \"Predicted Label\": predicted_label},\n",
            "<ipython-input-65-7534fcb2f2a3>:11: FutureWarning: The frame.append method is deprecated and will be removed from pandas in a future version. Use pandas.concat instead.\n",
            "  df = df.append({\"Index\": index, \"Sentence\": sentence, \"True Label\": true_label, \"Predicted Label\": predicted_label},\n",
            "<ipython-input-65-7534fcb2f2a3>:11: FutureWarning: The frame.append method is deprecated and will be removed from pandas in a future version. Use pandas.concat instead.\n",
            "  df = df.append({\"Index\": index, \"Sentence\": sentence, \"True Label\": true_label, \"Predicted Label\": predicted_label},\n",
            "<ipython-input-65-7534fcb2f2a3>:11: FutureWarning: The frame.append method is deprecated and will be removed from pandas in a future version. Use pandas.concat instead.\n",
            "  df = df.append({\"Index\": index, \"Sentence\": sentence, \"True Label\": true_label, \"Predicted Label\": predicted_label},\n",
            "<ipython-input-65-7534fcb2f2a3>:11: FutureWarning: The frame.append method is deprecated and will be removed from pandas in a future version. Use pandas.concat instead.\n",
            "  df = df.append({\"Index\": index, \"Sentence\": sentence, \"True Label\": true_label, \"Predicted Label\": predicted_label},\n",
            "<ipython-input-65-7534fcb2f2a3>:11: FutureWarning: The frame.append method is deprecated and will be removed from pandas in a future version. Use pandas.concat instead.\n",
            "  df = df.append({\"Index\": index, \"Sentence\": sentence, \"True Label\": true_label, \"Predicted Label\": predicted_label},\n",
            "<ipython-input-65-7534fcb2f2a3>:11: FutureWarning: The frame.append method is deprecated and will be removed from pandas in a future version. Use pandas.concat instead.\n",
            "  df = df.append({\"Index\": index, \"Sentence\": sentence, \"True Label\": true_label, \"Predicted Label\": predicted_label},\n",
            "<ipython-input-65-7534fcb2f2a3>:11: FutureWarning: The frame.append method is deprecated and will be removed from pandas in a future version. Use pandas.concat instead.\n",
            "  df = df.append({\"Index\": index, \"Sentence\": sentence, \"True Label\": true_label, \"Predicted Label\": predicted_label},\n",
            "<ipython-input-65-7534fcb2f2a3>:11: FutureWarning: The frame.append method is deprecated and will be removed from pandas in a future version. Use pandas.concat instead.\n",
            "  df = df.append({\"Index\": index, \"Sentence\": sentence, \"True Label\": true_label, \"Predicted Label\": predicted_label},\n",
            "<ipython-input-65-7534fcb2f2a3>:11: FutureWarning: The frame.append method is deprecated and will be removed from pandas in a future version. Use pandas.concat instead.\n",
            "  df = df.append({\"Index\": index, \"Sentence\": sentence, \"True Label\": true_label, \"Predicted Label\": predicted_label},\n",
            "<ipython-input-65-7534fcb2f2a3>:11: FutureWarning: The frame.append method is deprecated and will be removed from pandas in a future version. Use pandas.concat instead.\n",
            "  df = df.append({\"Index\": index, \"Sentence\": sentence, \"True Label\": true_label, \"Predicted Label\": predicted_label},\n",
            "<ipython-input-65-7534fcb2f2a3>:11: FutureWarning: The frame.append method is deprecated and will be removed from pandas in a future version. Use pandas.concat instead.\n",
            "  df = df.append({\"Index\": index, \"Sentence\": sentence, \"True Label\": true_label, \"Predicted Label\": predicted_label},\n",
            "<ipython-input-65-7534fcb2f2a3>:11: FutureWarning: The frame.append method is deprecated and will be removed from pandas in a future version. Use pandas.concat instead.\n",
            "  df = df.append({\"Index\": index, \"Sentence\": sentence, \"True Label\": true_label, \"Predicted Label\": predicted_label},\n",
            "<ipython-input-65-7534fcb2f2a3>:11: FutureWarning: The frame.append method is deprecated and will be removed from pandas in a future version. Use pandas.concat instead.\n",
            "  df = df.append({\"Index\": index, \"Sentence\": sentence, \"True Label\": true_label, \"Predicted Label\": predicted_label},\n",
            "<ipython-input-65-7534fcb2f2a3>:11: FutureWarning: The frame.append method is deprecated and will be removed from pandas in a future version. Use pandas.concat instead.\n",
            "  df = df.append({\"Index\": index, \"Sentence\": sentence, \"True Label\": true_label, \"Predicted Label\": predicted_label},\n",
            "<ipython-input-65-7534fcb2f2a3>:11: FutureWarning: The frame.append method is deprecated and will be removed from pandas in a future version. Use pandas.concat instead.\n",
            "  df = df.append({\"Index\": index, \"Sentence\": sentence, \"True Label\": true_label, \"Predicted Label\": predicted_label},\n",
            "<ipython-input-65-7534fcb2f2a3>:11: FutureWarning: The frame.append method is deprecated and will be removed from pandas in a future version. Use pandas.concat instead.\n",
            "  df = df.append({\"Index\": index, \"Sentence\": sentence, \"True Label\": true_label, \"Predicted Label\": predicted_label},\n",
            "<ipython-input-65-7534fcb2f2a3>:11: FutureWarning: The frame.append method is deprecated and will be removed from pandas in a future version. Use pandas.concat instead.\n",
            "  df = df.append({\"Index\": index, \"Sentence\": sentence, \"True Label\": true_label, \"Predicted Label\": predicted_label},\n",
            "<ipython-input-65-7534fcb2f2a3>:11: FutureWarning: The frame.append method is deprecated and will be removed from pandas in a future version. Use pandas.concat instead.\n",
            "  df = df.append({\"Index\": index, \"Sentence\": sentence, \"True Label\": true_label, \"Predicted Label\": predicted_label},\n",
            "<ipython-input-65-7534fcb2f2a3>:11: FutureWarning: The frame.append method is deprecated and will be removed from pandas in a future version. Use pandas.concat instead.\n",
            "  df = df.append({\"Index\": index, \"Sentence\": sentence, \"True Label\": true_label, \"Predicted Label\": predicted_label},\n",
            "<ipython-input-65-7534fcb2f2a3>:11: FutureWarning: The frame.append method is deprecated and will be removed from pandas in a future version. Use pandas.concat instead.\n",
            "  df = df.append({\"Index\": index, \"Sentence\": sentence, \"True Label\": true_label, \"Predicted Label\": predicted_label},\n",
            "<ipython-input-65-7534fcb2f2a3>:11: FutureWarning: The frame.append method is deprecated and will be removed from pandas in a future version. Use pandas.concat instead.\n",
            "  df = df.append({\"Index\": index, \"Sentence\": sentence, \"True Label\": true_label, \"Predicted Label\": predicted_label},\n",
            "<ipython-input-65-7534fcb2f2a3>:11: FutureWarning: The frame.append method is deprecated and will be removed from pandas in a future version. Use pandas.concat instead.\n",
            "  df = df.append({\"Index\": index, \"Sentence\": sentence, \"True Label\": true_label, \"Predicted Label\": predicted_label},\n",
            "<ipython-input-65-7534fcb2f2a3>:11: FutureWarning: The frame.append method is deprecated and will be removed from pandas in a future version. Use pandas.concat instead.\n",
            "  df = df.append({\"Index\": index, \"Sentence\": sentence, \"True Label\": true_label, \"Predicted Label\": predicted_label},\n",
            "<ipython-input-65-7534fcb2f2a3>:11: FutureWarning: The frame.append method is deprecated and will be removed from pandas in a future version. Use pandas.concat instead.\n",
            "  df = df.append({\"Index\": index, \"Sentence\": sentence, \"True Label\": true_label, \"Predicted Label\": predicted_label},\n",
            "<ipython-input-65-7534fcb2f2a3>:11: FutureWarning: The frame.append method is deprecated and will be removed from pandas in a future version. Use pandas.concat instead.\n",
            "  df = df.append({\"Index\": index, \"Sentence\": sentence, \"True Label\": true_label, \"Predicted Label\": predicted_label},\n",
            "<ipython-input-65-7534fcb2f2a3>:11: FutureWarning: The frame.append method is deprecated and will be removed from pandas in a future version. Use pandas.concat instead.\n",
            "  df = df.append({\"Index\": index, \"Sentence\": sentence, \"True Label\": true_label, \"Predicted Label\": predicted_label},\n",
            "<ipython-input-65-7534fcb2f2a3>:11: FutureWarning: The frame.append method is deprecated and will be removed from pandas in a future version. Use pandas.concat instead.\n",
            "  df = df.append({\"Index\": index, \"Sentence\": sentence, \"True Label\": true_label, \"Predicted Label\": predicted_label},\n",
            "<ipython-input-65-7534fcb2f2a3>:11: FutureWarning: The frame.append method is deprecated and will be removed from pandas in a future version. Use pandas.concat instead.\n",
            "  df = df.append({\"Index\": index, \"Sentence\": sentence, \"True Label\": true_label, \"Predicted Label\": predicted_label},\n",
            "<ipython-input-65-7534fcb2f2a3>:11: FutureWarning: The frame.append method is deprecated and will be removed from pandas in a future version. Use pandas.concat instead.\n",
            "  df = df.append({\"Index\": index, \"Sentence\": sentence, \"True Label\": true_label, \"Predicted Label\": predicted_label},\n",
            "<ipython-input-65-7534fcb2f2a3>:11: FutureWarning: The frame.append method is deprecated and will be removed from pandas in a future version. Use pandas.concat instead.\n",
            "  df = df.append({\"Index\": index, \"Sentence\": sentence, \"True Label\": true_label, \"Predicted Label\": predicted_label},\n",
            "<ipython-input-65-7534fcb2f2a3>:11: FutureWarning: The frame.append method is deprecated and will be removed from pandas in a future version. Use pandas.concat instead.\n",
            "  df = df.append({\"Index\": index, \"Sentence\": sentence, \"True Label\": true_label, \"Predicted Label\": predicted_label},\n",
            "<ipython-input-65-7534fcb2f2a3>:11: FutureWarning: The frame.append method is deprecated and will be removed from pandas in a future version. Use pandas.concat instead.\n",
            "  df = df.append({\"Index\": index, \"Sentence\": sentence, \"True Label\": true_label, \"Predicted Label\": predicted_label},\n",
            "<ipython-input-65-7534fcb2f2a3>:11: FutureWarning: The frame.append method is deprecated and will be removed from pandas in a future version. Use pandas.concat instead.\n",
            "  df = df.append({\"Index\": index, \"Sentence\": sentence, \"True Label\": true_label, \"Predicted Label\": predicted_label},\n",
            "<ipython-input-65-7534fcb2f2a3>:11: FutureWarning: The frame.append method is deprecated and will be removed from pandas in a future version. Use pandas.concat instead.\n",
            "  df = df.append({\"Index\": index, \"Sentence\": sentence, \"True Label\": true_label, \"Predicted Label\": predicted_label},\n",
            "<ipython-input-65-7534fcb2f2a3>:11: FutureWarning: The frame.append method is deprecated and will be removed from pandas in a future version. Use pandas.concat instead.\n",
            "  df = df.append({\"Index\": index, \"Sentence\": sentence, \"True Label\": true_label, \"Predicted Label\": predicted_label},\n",
            "<ipython-input-65-7534fcb2f2a3>:11: FutureWarning: The frame.append method is deprecated and will be removed from pandas in a future version. Use pandas.concat instead.\n",
            "  df = df.append({\"Index\": index, \"Sentence\": sentence, \"True Label\": true_label, \"Predicted Label\": predicted_label},\n",
            "<ipython-input-65-7534fcb2f2a3>:11: FutureWarning: The frame.append method is deprecated and will be removed from pandas in a future version. Use pandas.concat instead.\n",
            "  df = df.append({\"Index\": index, \"Sentence\": sentence, \"True Label\": true_label, \"Predicted Label\": predicted_label},\n",
            "<ipython-input-65-7534fcb2f2a3>:11: FutureWarning: The frame.append method is deprecated and will be removed from pandas in a future version. Use pandas.concat instead.\n",
            "  df = df.append({\"Index\": index, \"Sentence\": sentence, \"True Label\": true_label, \"Predicted Label\": predicted_label},\n",
            "<ipython-input-65-7534fcb2f2a3>:11: FutureWarning: The frame.append method is deprecated and will be removed from pandas in a future version. Use pandas.concat instead.\n",
            "  df = df.append({\"Index\": index, \"Sentence\": sentence, \"True Label\": true_label, \"Predicted Label\": predicted_label},\n",
            "<ipython-input-65-7534fcb2f2a3>:11: FutureWarning: The frame.append method is deprecated and will be removed from pandas in a future version. Use pandas.concat instead.\n",
            "  df = df.append({\"Index\": index, \"Sentence\": sentence, \"True Label\": true_label, \"Predicted Label\": predicted_label},\n",
            "<ipython-input-65-7534fcb2f2a3>:11: FutureWarning: The frame.append method is deprecated and will be removed from pandas in a future version. Use pandas.concat instead.\n",
            "  df = df.append({\"Index\": index, \"Sentence\": sentence, \"True Label\": true_label, \"Predicted Label\": predicted_label},\n",
            "<ipython-input-65-7534fcb2f2a3>:11: FutureWarning: The frame.append method is deprecated and will be removed from pandas in a future version. Use pandas.concat instead.\n",
            "  df = df.append({\"Index\": index, \"Sentence\": sentence, \"True Label\": true_label, \"Predicted Label\": predicted_label},\n",
            "<ipython-input-65-7534fcb2f2a3>:11: FutureWarning: The frame.append method is deprecated and will be removed from pandas in a future version. Use pandas.concat instead.\n",
            "  df = df.append({\"Index\": index, \"Sentence\": sentence, \"True Label\": true_label, \"Predicted Label\": predicted_label},\n",
            "<ipython-input-65-7534fcb2f2a3>:11: FutureWarning: The frame.append method is deprecated and will be removed from pandas in a future version. Use pandas.concat instead.\n",
            "  df = df.append({\"Index\": index, \"Sentence\": sentence, \"True Label\": true_label, \"Predicted Label\": predicted_label},\n",
            "<ipython-input-65-7534fcb2f2a3>:11: FutureWarning: The frame.append method is deprecated and will be removed from pandas in a future version. Use pandas.concat instead.\n",
            "  df = df.append({\"Index\": index, \"Sentence\": sentence, \"True Label\": true_label, \"Predicted Label\": predicted_label},\n",
            "<ipython-input-65-7534fcb2f2a3>:11: FutureWarning: The frame.append method is deprecated and will be removed from pandas in a future version. Use pandas.concat instead.\n",
            "  df = df.append({\"Index\": index, \"Sentence\": sentence, \"True Label\": true_label, \"Predicted Label\": predicted_label},\n",
            "<ipython-input-65-7534fcb2f2a3>:11: FutureWarning: The frame.append method is deprecated and will be removed from pandas in a future version. Use pandas.concat instead.\n",
            "  df = df.append({\"Index\": index, \"Sentence\": sentence, \"True Label\": true_label, \"Predicted Label\": predicted_label},\n",
            "<ipython-input-65-7534fcb2f2a3>:11: FutureWarning: The frame.append method is deprecated and will be removed from pandas in a future version. Use pandas.concat instead.\n",
            "  df = df.append({\"Index\": index, \"Sentence\": sentence, \"True Label\": true_label, \"Predicted Label\": predicted_label},\n",
            "<ipython-input-65-7534fcb2f2a3>:11: FutureWarning: The frame.append method is deprecated and will be removed from pandas in a future version. Use pandas.concat instead.\n",
            "  df = df.append({\"Index\": index, \"Sentence\": sentence, \"True Label\": true_label, \"Predicted Label\": predicted_label},\n",
            "<ipython-input-65-7534fcb2f2a3>:11: FutureWarning: The frame.append method is deprecated and will be removed from pandas in a future version. Use pandas.concat instead.\n",
            "  df = df.append({\"Index\": index, \"Sentence\": sentence, \"True Label\": true_label, \"Predicted Label\": predicted_label},\n",
            "<ipython-input-65-7534fcb2f2a3>:11: FutureWarning: The frame.append method is deprecated and will be removed from pandas in a future version. Use pandas.concat instead.\n",
            "  df = df.append({\"Index\": index, \"Sentence\": sentence, \"True Label\": true_label, \"Predicted Label\": predicted_label},\n",
            "<ipython-input-65-7534fcb2f2a3>:11: FutureWarning: The frame.append method is deprecated and will be removed from pandas in a future version. Use pandas.concat instead.\n",
            "  df = df.append({\"Index\": index, \"Sentence\": sentence, \"True Label\": true_label, \"Predicted Label\": predicted_label},\n",
            "<ipython-input-65-7534fcb2f2a3>:11: FutureWarning: The frame.append method is deprecated and will be removed from pandas in a future version. Use pandas.concat instead.\n",
            "  df = df.append({\"Index\": index, \"Sentence\": sentence, \"True Label\": true_label, \"Predicted Label\": predicted_label},\n",
            "<ipython-input-65-7534fcb2f2a3>:11: FutureWarning: The frame.append method is deprecated and will be removed from pandas in a future version. Use pandas.concat instead.\n",
            "  df = df.append({\"Index\": index, \"Sentence\": sentence, \"True Label\": true_label, \"Predicted Label\": predicted_label},\n",
            "<ipython-input-65-7534fcb2f2a3>:11: FutureWarning: The frame.append method is deprecated and will be removed from pandas in a future version. Use pandas.concat instead.\n",
            "  df = df.append({\"Index\": index, \"Sentence\": sentence, \"True Label\": true_label, \"Predicted Label\": predicted_label},\n",
            "<ipython-input-65-7534fcb2f2a3>:11: FutureWarning: The frame.append method is deprecated and will be removed from pandas in a future version. Use pandas.concat instead.\n",
            "  df = df.append({\"Index\": index, \"Sentence\": sentence, \"True Label\": true_label, \"Predicted Label\": predicted_label},\n",
            "<ipython-input-65-7534fcb2f2a3>:11: FutureWarning: The frame.append method is deprecated and will be removed from pandas in a future version. Use pandas.concat instead.\n",
            "  df = df.append({\"Index\": index, \"Sentence\": sentence, \"True Label\": true_label, \"Predicted Label\": predicted_label},\n",
            "<ipython-input-65-7534fcb2f2a3>:11: FutureWarning: The frame.append method is deprecated and will be removed from pandas in a future version. Use pandas.concat instead.\n",
            "  df = df.append({\"Index\": index, \"Sentence\": sentence, \"True Label\": true_label, \"Predicted Label\": predicted_label},\n",
            "<ipython-input-65-7534fcb2f2a3>:11: FutureWarning: The frame.append method is deprecated and will be removed from pandas in a future version. Use pandas.concat instead.\n",
            "  df = df.append({\"Index\": index, \"Sentence\": sentence, \"True Label\": true_label, \"Predicted Label\": predicted_label},\n",
            "<ipython-input-65-7534fcb2f2a3>:11: FutureWarning: The frame.append method is deprecated and will be removed from pandas in a future version. Use pandas.concat instead.\n",
            "  df = df.append({\"Index\": index, \"Sentence\": sentence, \"True Label\": true_label, \"Predicted Label\": predicted_label},\n",
            "<ipython-input-65-7534fcb2f2a3>:11: FutureWarning: The frame.append method is deprecated and will be removed from pandas in a future version. Use pandas.concat instead.\n",
            "  df = df.append({\"Index\": index, \"Sentence\": sentence, \"True Label\": true_label, \"Predicted Label\": predicted_label},\n",
            "<ipython-input-65-7534fcb2f2a3>:11: FutureWarning: The frame.append method is deprecated and will be removed from pandas in a future version. Use pandas.concat instead.\n",
            "  df = df.append({\"Index\": index, \"Sentence\": sentence, \"True Label\": true_label, \"Predicted Label\": predicted_label},\n",
            "<ipython-input-65-7534fcb2f2a3>:11: FutureWarning: The frame.append method is deprecated and will be removed from pandas in a future version. Use pandas.concat instead.\n",
            "  df = df.append({\"Index\": index, \"Sentence\": sentence, \"True Label\": true_label, \"Predicted Label\": predicted_label},\n",
            "<ipython-input-65-7534fcb2f2a3>:11: FutureWarning: The frame.append method is deprecated and will be removed from pandas in a future version. Use pandas.concat instead.\n",
            "  df = df.append({\"Index\": index, \"Sentence\": sentence, \"True Label\": true_label, \"Predicted Label\": predicted_label},\n",
            "<ipython-input-65-7534fcb2f2a3>:11: FutureWarning: The frame.append method is deprecated and will be removed from pandas in a future version. Use pandas.concat instead.\n",
            "  df = df.append({\"Index\": index, \"Sentence\": sentence, \"True Label\": true_label, \"Predicted Label\": predicted_label},\n",
            "<ipython-input-65-7534fcb2f2a3>:11: FutureWarning: The frame.append method is deprecated and will be removed from pandas in a future version. Use pandas.concat instead.\n",
            "  df = df.append({\"Index\": index, \"Sentence\": sentence, \"True Label\": true_label, \"Predicted Label\": predicted_label},\n",
            "<ipython-input-65-7534fcb2f2a3>:11: FutureWarning: The frame.append method is deprecated and will be removed from pandas in a future version. Use pandas.concat instead.\n",
            "  df = df.append({\"Index\": index, \"Sentence\": sentence, \"True Label\": true_label, \"Predicted Label\": predicted_label},\n",
            "<ipython-input-65-7534fcb2f2a3>:11: FutureWarning: The frame.append method is deprecated and will be removed from pandas in a future version. Use pandas.concat instead.\n",
            "  df = df.append({\"Index\": index, \"Sentence\": sentence, \"True Label\": true_label, \"Predicted Label\": predicted_label},\n",
            "<ipython-input-65-7534fcb2f2a3>:11: FutureWarning: The frame.append method is deprecated and will be removed from pandas in a future version. Use pandas.concat instead.\n",
            "  df = df.append({\"Index\": index, \"Sentence\": sentence, \"True Label\": true_label, \"Predicted Label\": predicted_label},\n",
            "<ipython-input-65-7534fcb2f2a3>:11: FutureWarning: The frame.append method is deprecated and will be removed from pandas in a future version. Use pandas.concat instead.\n",
            "  df = df.append({\"Index\": index, \"Sentence\": sentence, \"True Label\": true_label, \"Predicted Label\": predicted_label},\n",
            "<ipython-input-65-7534fcb2f2a3>:11: FutureWarning: The frame.append method is deprecated and will be removed from pandas in a future version. Use pandas.concat instead.\n",
            "  df = df.append({\"Index\": index, \"Sentence\": sentence, \"True Label\": true_label, \"Predicted Label\": predicted_label},\n",
            "<ipython-input-65-7534fcb2f2a3>:11: FutureWarning: The frame.append method is deprecated and will be removed from pandas in a future version. Use pandas.concat instead.\n",
            "  df = df.append({\"Index\": index, \"Sentence\": sentence, \"True Label\": true_label, \"Predicted Label\": predicted_label},\n",
            "<ipython-input-65-7534fcb2f2a3>:11: FutureWarning: The frame.append method is deprecated and will be removed from pandas in a future version. Use pandas.concat instead.\n",
            "  df = df.append({\"Index\": index, \"Sentence\": sentence, \"True Label\": true_label, \"Predicted Label\": predicted_label},\n",
            "<ipython-input-65-7534fcb2f2a3>:11: FutureWarning: The frame.append method is deprecated and will be removed from pandas in a future version. Use pandas.concat instead.\n",
            "  df = df.append({\"Index\": index, \"Sentence\": sentence, \"True Label\": true_label, \"Predicted Label\": predicted_label},\n",
            "<ipython-input-65-7534fcb2f2a3>:11: FutureWarning: The frame.append method is deprecated and will be removed from pandas in a future version. Use pandas.concat instead.\n",
            "  df = df.append({\"Index\": index, \"Sentence\": sentence, \"True Label\": true_label, \"Predicted Label\": predicted_label},\n",
            "<ipython-input-65-7534fcb2f2a3>:11: FutureWarning: The frame.append method is deprecated and will be removed from pandas in a future version. Use pandas.concat instead.\n",
            "  df = df.append({\"Index\": index, \"Sentence\": sentence, \"True Label\": true_label, \"Predicted Label\": predicted_label},\n",
            "<ipython-input-65-7534fcb2f2a3>:11: FutureWarning: The frame.append method is deprecated and will be removed from pandas in a future version. Use pandas.concat instead.\n",
            "  df = df.append({\"Index\": index, \"Sentence\": sentence, \"True Label\": true_label, \"Predicted Label\": predicted_label},\n",
            "<ipython-input-65-7534fcb2f2a3>:11: FutureWarning: The frame.append method is deprecated and will be removed from pandas in a future version. Use pandas.concat instead.\n",
            "  df = df.append({\"Index\": index, \"Sentence\": sentence, \"True Label\": true_label, \"Predicted Label\": predicted_label},\n",
            "<ipython-input-65-7534fcb2f2a3>:11: FutureWarning: The frame.append method is deprecated and will be removed from pandas in a future version. Use pandas.concat instead.\n",
            "  df = df.append({\"Index\": index, \"Sentence\": sentence, \"True Label\": true_label, \"Predicted Label\": predicted_label},\n",
            "<ipython-input-65-7534fcb2f2a3>:11: FutureWarning: The frame.append method is deprecated and will be removed from pandas in a future version. Use pandas.concat instead.\n",
            "  df = df.append({\"Index\": index, \"Sentence\": sentence, \"True Label\": true_label, \"Predicted Label\": predicted_label},\n",
            "<ipython-input-65-7534fcb2f2a3>:11: FutureWarning: The frame.append method is deprecated and will be removed from pandas in a future version. Use pandas.concat instead.\n",
            "  df = df.append({\"Index\": index, \"Sentence\": sentence, \"True Label\": true_label, \"Predicted Label\": predicted_label},\n",
            "<ipython-input-65-7534fcb2f2a3>:11: FutureWarning: The frame.append method is deprecated and will be removed from pandas in a future version. Use pandas.concat instead.\n",
            "  df = df.append({\"Index\": index, \"Sentence\": sentence, \"True Label\": true_label, \"Predicted Label\": predicted_label},\n",
            "<ipython-input-65-7534fcb2f2a3>:11: FutureWarning: The frame.append method is deprecated and will be removed from pandas in a future version. Use pandas.concat instead.\n",
            "  df = df.append({\"Index\": index, \"Sentence\": sentence, \"True Label\": true_label, \"Predicted Label\": predicted_label},\n",
            "<ipython-input-65-7534fcb2f2a3>:11: FutureWarning: The frame.append method is deprecated and will be removed from pandas in a future version. Use pandas.concat instead.\n",
            "  df = df.append({\"Index\": index, \"Sentence\": sentence, \"True Label\": true_label, \"Predicted Label\": predicted_label},\n",
            "<ipython-input-65-7534fcb2f2a3>:11: FutureWarning: The frame.append method is deprecated and will be removed from pandas in a future version. Use pandas.concat instead.\n",
            "  df = df.append({\"Index\": index, \"Sentence\": sentence, \"True Label\": true_label, \"Predicted Label\": predicted_label},\n",
            "<ipython-input-65-7534fcb2f2a3>:11: FutureWarning: The frame.append method is deprecated and will be removed from pandas in a future version. Use pandas.concat instead.\n",
            "  df = df.append({\"Index\": index, \"Sentence\": sentence, \"True Label\": true_label, \"Predicted Label\": predicted_label},\n",
            "<ipython-input-65-7534fcb2f2a3>:11: FutureWarning: The frame.append method is deprecated and will be removed from pandas in a future version. Use pandas.concat instead.\n",
            "  df = df.append({\"Index\": index, \"Sentence\": sentence, \"True Label\": true_label, \"Predicted Label\": predicted_label},\n",
            "<ipython-input-65-7534fcb2f2a3>:11: FutureWarning: The frame.append method is deprecated and will be removed from pandas in a future version. Use pandas.concat instead.\n",
            "  df = df.append({\"Index\": index, \"Sentence\": sentence, \"True Label\": true_label, \"Predicted Label\": predicted_label},\n",
            "<ipython-input-65-7534fcb2f2a3>:11: FutureWarning: The frame.append method is deprecated and will be removed from pandas in a future version. Use pandas.concat instead.\n",
            "  df = df.append({\"Index\": index, \"Sentence\": sentence, \"True Label\": true_label, \"Predicted Label\": predicted_label},\n",
            "<ipython-input-65-7534fcb2f2a3>:11: FutureWarning: The frame.append method is deprecated and will be removed from pandas in a future version. Use pandas.concat instead.\n",
            "  df = df.append({\"Index\": index, \"Sentence\": sentence, \"True Label\": true_label, \"Predicted Label\": predicted_label},\n",
            "<ipython-input-65-7534fcb2f2a3>:11: FutureWarning: The frame.append method is deprecated and will be removed from pandas in a future version. Use pandas.concat instead.\n",
            "  df = df.append({\"Index\": index, \"Sentence\": sentence, \"True Label\": true_label, \"Predicted Label\": predicted_label},\n",
            "<ipython-input-65-7534fcb2f2a3>:11: FutureWarning: The frame.append method is deprecated and will be removed from pandas in a future version. Use pandas.concat instead.\n",
            "  df = df.append({\"Index\": index, \"Sentence\": sentence, \"True Label\": true_label, \"Predicted Label\": predicted_label},\n",
            "<ipython-input-65-7534fcb2f2a3>:11: FutureWarning: The frame.append method is deprecated and will be removed from pandas in a future version. Use pandas.concat instead.\n",
            "  df = df.append({\"Index\": index, \"Sentence\": sentence, \"True Label\": true_label, \"Predicted Label\": predicted_label},\n",
            "<ipython-input-65-7534fcb2f2a3>:11: FutureWarning: The frame.append method is deprecated and will be removed from pandas in a future version. Use pandas.concat instead.\n",
            "  df = df.append({\"Index\": index, \"Sentence\": sentence, \"True Label\": true_label, \"Predicted Label\": predicted_label},\n",
            "<ipython-input-65-7534fcb2f2a3>:11: FutureWarning: The frame.append method is deprecated and will be removed from pandas in a future version. Use pandas.concat instead.\n",
            "  df = df.append({\"Index\": index, \"Sentence\": sentence, \"True Label\": true_label, \"Predicted Label\": predicted_label},\n",
            "<ipython-input-65-7534fcb2f2a3>:11: FutureWarning: The frame.append method is deprecated and will be removed from pandas in a future version. Use pandas.concat instead.\n",
            "  df = df.append({\"Index\": index, \"Sentence\": sentence, \"True Label\": true_label, \"Predicted Label\": predicted_label},\n",
            "<ipython-input-65-7534fcb2f2a3>:11: FutureWarning: The frame.append method is deprecated and will be removed from pandas in a future version. Use pandas.concat instead.\n",
            "  df = df.append({\"Index\": index, \"Sentence\": sentence, \"True Label\": true_label, \"Predicted Label\": predicted_label},\n",
            "<ipython-input-65-7534fcb2f2a3>:11: FutureWarning: The frame.append method is deprecated and will be removed from pandas in a future version. Use pandas.concat instead.\n",
            "  df = df.append({\"Index\": index, \"Sentence\": sentence, \"True Label\": true_label, \"Predicted Label\": predicted_label},\n",
            "<ipython-input-65-7534fcb2f2a3>:11: FutureWarning: The frame.append method is deprecated and will be removed from pandas in a future version. Use pandas.concat instead.\n",
            "  df = df.append({\"Index\": index, \"Sentence\": sentence, \"True Label\": true_label, \"Predicted Label\": predicted_label},\n",
            "<ipython-input-65-7534fcb2f2a3>:11: FutureWarning: The frame.append method is deprecated and will be removed from pandas in a future version. Use pandas.concat instead.\n",
            "  df = df.append({\"Index\": index, \"Sentence\": sentence, \"True Label\": true_label, \"Predicted Label\": predicted_label},\n",
            "<ipython-input-65-7534fcb2f2a3>:11: FutureWarning: The frame.append method is deprecated and will be removed from pandas in a future version. Use pandas.concat instead.\n",
            "  df = df.append({\"Index\": index, \"Sentence\": sentence, \"True Label\": true_label, \"Predicted Label\": predicted_label},\n",
            "<ipython-input-65-7534fcb2f2a3>:11: FutureWarning: The frame.append method is deprecated and will be removed from pandas in a future version. Use pandas.concat instead.\n",
            "  df = df.append({\"Index\": index, \"Sentence\": sentence, \"True Label\": true_label, \"Predicted Label\": predicted_label},\n",
            "<ipython-input-65-7534fcb2f2a3>:11: FutureWarning: The frame.append method is deprecated and will be removed from pandas in a future version. Use pandas.concat instead.\n",
            "  df = df.append({\"Index\": index, \"Sentence\": sentence, \"True Label\": true_label, \"Predicted Label\": predicted_label},\n",
            "<ipython-input-65-7534fcb2f2a3>:11: FutureWarning: The frame.append method is deprecated and will be removed from pandas in a future version. Use pandas.concat instead.\n",
            "  df = df.append({\"Index\": index, \"Sentence\": sentence, \"True Label\": true_label, \"Predicted Label\": predicted_label},\n",
            "<ipython-input-65-7534fcb2f2a3>:11: FutureWarning: The frame.append method is deprecated and will be removed from pandas in a future version. Use pandas.concat instead.\n",
            "  df = df.append({\"Index\": index, \"Sentence\": sentence, \"True Label\": true_label, \"Predicted Label\": predicted_label},\n",
            "<ipython-input-65-7534fcb2f2a3>:11: FutureWarning: The frame.append method is deprecated and will be removed from pandas in a future version. Use pandas.concat instead.\n",
            "  df = df.append({\"Index\": index, \"Sentence\": sentence, \"True Label\": true_label, \"Predicted Label\": predicted_label},\n",
            "<ipython-input-65-7534fcb2f2a3>:11: FutureWarning: The frame.append method is deprecated and will be removed from pandas in a future version. Use pandas.concat instead.\n",
            "  df = df.append({\"Index\": index, \"Sentence\": sentence, \"True Label\": true_label, \"Predicted Label\": predicted_label},\n",
            "<ipython-input-65-7534fcb2f2a3>:11: FutureWarning: The frame.append method is deprecated and will be removed from pandas in a future version. Use pandas.concat instead.\n",
            "  df = df.append({\"Index\": index, \"Sentence\": sentence, \"True Label\": true_label, \"Predicted Label\": predicted_label},\n",
            "<ipython-input-65-7534fcb2f2a3>:11: FutureWarning: The frame.append method is deprecated and will be removed from pandas in a future version. Use pandas.concat instead.\n",
            "  df = df.append({\"Index\": index, \"Sentence\": sentence, \"True Label\": true_label, \"Predicted Label\": predicted_label},\n",
            "<ipython-input-65-7534fcb2f2a3>:11: FutureWarning: The frame.append method is deprecated and will be removed from pandas in a future version. Use pandas.concat instead.\n",
            "  df = df.append({\"Index\": index, \"Sentence\": sentence, \"True Label\": true_label, \"Predicted Label\": predicted_label},\n",
            "<ipython-input-65-7534fcb2f2a3>:11: FutureWarning: The frame.append method is deprecated and will be removed from pandas in a future version. Use pandas.concat instead.\n",
            "  df = df.append({\"Index\": index, \"Sentence\": sentence, \"True Label\": true_label, \"Predicted Label\": predicted_label},\n",
            "<ipython-input-65-7534fcb2f2a3>:11: FutureWarning: The frame.append method is deprecated and will be removed from pandas in a future version. Use pandas.concat instead.\n",
            "  df = df.append({\"Index\": index, \"Sentence\": sentence, \"True Label\": true_label, \"Predicted Label\": predicted_label},\n",
            "<ipython-input-65-7534fcb2f2a3>:11: FutureWarning: The frame.append method is deprecated and will be removed from pandas in a future version. Use pandas.concat instead.\n",
            "  df = df.append({\"Index\": index, \"Sentence\": sentence, \"True Label\": true_label, \"Predicted Label\": predicted_label},\n",
            "<ipython-input-65-7534fcb2f2a3>:11: FutureWarning: The frame.append method is deprecated and will be removed from pandas in a future version. Use pandas.concat instead.\n",
            "  df = df.append({\"Index\": index, \"Sentence\": sentence, \"True Label\": true_label, \"Predicted Label\": predicted_label},\n",
            "<ipython-input-65-7534fcb2f2a3>:11: FutureWarning: The frame.append method is deprecated and will be removed from pandas in a future version. Use pandas.concat instead.\n",
            "  df = df.append({\"Index\": index, \"Sentence\": sentence, \"True Label\": true_label, \"Predicted Label\": predicted_label},\n",
            "<ipython-input-65-7534fcb2f2a3>:11: FutureWarning: The frame.append method is deprecated and will be removed from pandas in a future version. Use pandas.concat instead.\n",
            "  df = df.append({\"Index\": index, \"Sentence\": sentence, \"True Label\": true_label, \"Predicted Label\": predicted_label},\n",
            "<ipython-input-65-7534fcb2f2a3>:11: FutureWarning: The frame.append method is deprecated and will be removed from pandas in a future version. Use pandas.concat instead.\n",
            "  df = df.append({\"Index\": index, \"Sentence\": sentence, \"True Label\": true_label, \"Predicted Label\": predicted_label},\n",
            "<ipython-input-65-7534fcb2f2a3>:11: FutureWarning: The frame.append method is deprecated and will be removed from pandas in a future version. Use pandas.concat instead.\n",
            "  df = df.append({\"Index\": index, \"Sentence\": sentence, \"True Label\": true_label, \"Predicted Label\": predicted_label},\n",
            "<ipython-input-65-7534fcb2f2a3>:11: FutureWarning: The frame.append method is deprecated and will be removed from pandas in a future version. Use pandas.concat instead.\n",
            "  df = df.append({\"Index\": index, \"Sentence\": sentence, \"True Label\": true_label, \"Predicted Label\": predicted_label},\n",
            "<ipython-input-65-7534fcb2f2a3>:11: FutureWarning: The frame.append method is deprecated and will be removed from pandas in a future version. Use pandas.concat instead.\n",
            "  df = df.append({\"Index\": index, \"Sentence\": sentence, \"True Label\": true_label, \"Predicted Label\": predicted_label},\n",
            "<ipython-input-65-7534fcb2f2a3>:11: FutureWarning: The frame.append method is deprecated and will be removed from pandas in a future version. Use pandas.concat instead.\n",
            "  df = df.append({\"Index\": index, \"Sentence\": sentence, \"True Label\": true_label, \"Predicted Label\": predicted_label},\n",
            "<ipython-input-65-7534fcb2f2a3>:11: FutureWarning: The frame.append method is deprecated and will be removed from pandas in a future version. Use pandas.concat instead.\n",
            "  df = df.append({\"Index\": index, \"Sentence\": sentence, \"True Label\": true_label, \"Predicted Label\": predicted_label},\n",
            "<ipython-input-65-7534fcb2f2a3>:11: FutureWarning: The frame.append method is deprecated and will be removed from pandas in a future version. Use pandas.concat instead.\n",
            "  df = df.append({\"Index\": index, \"Sentence\": sentence, \"True Label\": true_label, \"Predicted Label\": predicted_label},\n",
            "<ipython-input-65-7534fcb2f2a3>:11: FutureWarning: The frame.append method is deprecated and will be removed from pandas in a future version. Use pandas.concat instead.\n",
            "  df = df.append({\"Index\": index, \"Sentence\": sentence, \"True Label\": true_label, \"Predicted Label\": predicted_label},\n",
            "<ipython-input-65-7534fcb2f2a3>:11: FutureWarning: The frame.append method is deprecated and will be removed from pandas in a future version. Use pandas.concat instead.\n",
            "  df = df.append({\"Index\": index, \"Sentence\": sentence, \"True Label\": true_label, \"Predicted Label\": predicted_label},\n",
            "<ipython-input-65-7534fcb2f2a3>:11: FutureWarning: The frame.append method is deprecated and will be removed from pandas in a future version. Use pandas.concat instead.\n",
            "  df = df.append({\"Index\": index, \"Sentence\": sentence, \"True Label\": true_label, \"Predicted Label\": predicted_label},\n",
            "<ipython-input-65-7534fcb2f2a3>:11: FutureWarning: The frame.append method is deprecated and will be removed from pandas in a future version. Use pandas.concat instead.\n",
            "  df = df.append({\"Index\": index, \"Sentence\": sentence, \"True Label\": true_label, \"Predicted Label\": predicted_label},\n",
            "<ipython-input-65-7534fcb2f2a3>:11: FutureWarning: The frame.append method is deprecated and will be removed from pandas in a future version. Use pandas.concat instead.\n",
            "  df = df.append({\"Index\": index, \"Sentence\": sentence, \"True Label\": true_label, \"Predicted Label\": predicted_label},\n",
            "<ipython-input-65-7534fcb2f2a3>:11: FutureWarning: The frame.append method is deprecated and will be removed from pandas in a future version. Use pandas.concat instead.\n",
            "  df = df.append({\"Index\": index, \"Sentence\": sentence, \"True Label\": true_label, \"Predicted Label\": predicted_label},\n",
            "<ipython-input-65-7534fcb2f2a3>:11: FutureWarning: The frame.append method is deprecated and will be removed from pandas in a future version. Use pandas.concat instead.\n",
            "  df = df.append({\"Index\": index, \"Sentence\": sentence, \"True Label\": true_label, \"Predicted Label\": predicted_label},\n",
            "<ipython-input-65-7534fcb2f2a3>:11: FutureWarning: The frame.append method is deprecated and will be removed from pandas in a future version. Use pandas.concat instead.\n",
            "  df = df.append({\"Index\": index, \"Sentence\": sentence, \"True Label\": true_label, \"Predicted Label\": predicted_label},\n",
            "<ipython-input-65-7534fcb2f2a3>:11: FutureWarning: The frame.append method is deprecated and will be removed from pandas in a future version. Use pandas.concat instead.\n",
            "  df = df.append({\"Index\": index, \"Sentence\": sentence, \"True Label\": true_label, \"Predicted Label\": predicted_label},\n",
            "<ipython-input-65-7534fcb2f2a3>:11: FutureWarning: The frame.append method is deprecated and will be removed from pandas in a future version. Use pandas.concat instead.\n",
            "  df = df.append({\"Index\": index, \"Sentence\": sentence, \"True Label\": true_label, \"Predicted Label\": predicted_label},\n",
            "<ipython-input-65-7534fcb2f2a3>:11: FutureWarning: The frame.append method is deprecated and will be removed from pandas in a future version. Use pandas.concat instead.\n",
            "  df = df.append({\"Index\": index, \"Sentence\": sentence, \"True Label\": true_label, \"Predicted Label\": predicted_label},\n",
            "<ipython-input-65-7534fcb2f2a3>:11: FutureWarning: The frame.append method is deprecated and will be removed from pandas in a future version. Use pandas.concat instead.\n",
            "  df = df.append({\"Index\": index, \"Sentence\": sentence, \"True Label\": true_label, \"Predicted Label\": predicted_label},\n",
            "<ipython-input-65-7534fcb2f2a3>:11: FutureWarning: The frame.append method is deprecated and will be removed from pandas in a future version. Use pandas.concat instead.\n",
            "  df = df.append({\"Index\": index, \"Sentence\": sentence, \"True Label\": true_label, \"Predicted Label\": predicted_label},\n",
            "<ipython-input-65-7534fcb2f2a3>:11: FutureWarning: The frame.append method is deprecated and will be removed from pandas in a future version. Use pandas.concat instead.\n",
            "  df = df.append({\"Index\": index, \"Sentence\": sentence, \"True Label\": true_label, \"Predicted Label\": predicted_label},\n",
            "<ipython-input-65-7534fcb2f2a3>:11: FutureWarning: The frame.append method is deprecated and will be removed from pandas in a future version. Use pandas.concat instead.\n",
            "  df = df.append({\"Index\": index, \"Sentence\": sentence, \"True Label\": true_label, \"Predicted Label\": predicted_label},\n",
            "<ipython-input-65-7534fcb2f2a3>:11: FutureWarning: The frame.append method is deprecated and will be removed from pandas in a future version. Use pandas.concat instead.\n",
            "  df = df.append({\"Index\": index, \"Sentence\": sentence, \"True Label\": true_label, \"Predicted Label\": predicted_label},\n",
            "<ipython-input-65-7534fcb2f2a3>:11: FutureWarning: The frame.append method is deprecated and will be removed from pandas in a future version. Use pandas.concat instead.\n",
            "  df = df.append({\"Index\": index, \"Sentence\": sentence, \"True Label\": true_label, \"Predicted Label\": predicted_label},\n",
            "<ipython-input-65-7534fcb2f2a3>:11: FutureWarning: The frame.append method is deprecated and will be removed from pandas in a future version. Use pandas.concat instead.\n",
            "  df = df.append({\"Index\": index, \"Sentence\": sentence, \"True Label\": true_label, \"Predicted Label\": predicted_label},\n",
            "<ipython-input-65-7534fcb2f2a3>:11: FutureWarning: The frame.append method is deprecated and will be removed from pandas in a future version. Use pandas.concat instead.\n",
            "  df = df.append({\"Index\": index, \"Sentence\": sentence, \"True Label\": true_label, \"Predicted Label\": predicted_label},\n",
            "<ipython-input-65-7534fcb2f2a3>:11: FutureWarning: The frame.append method is deprecated and will be removed from pandas in a future version. Use pandas.concat instead.\n",
            "  df = df.append({\"Index\": index, \"Sentence\": sentence, \"True Label\": true_label, \"Predicted Label\": predicted_label},\n",
            "<ipython-input-65-7534fcb2f2a3>:11: FutureWarning: The frame.append method is deprecated and will be removed from pandas in a future version. Use pandas.concat instead.\n",
            "  df = df.append({\"Index\": index, \"Sentence\": sentence, \"True Label\": true_label, \"Predicted Label\": predicted_label},\n",
            "<ipython-input-65-7534fcb2f2a3>:11: FutureWarning: The frame.append method is deprecated and will be removed from pandas in a future version. Use pandas.concat instead.\n",
            "  df = df.append({\"Index\": index, \"Sentence\": sentence, \"True Label\": true_label, \"Predicted Label\": predicted_label},\n",
            "<ipython-input-65-7534fcb2f2a3>:11: FutureWarning: The frame.append method is deprecated and will be removed from pandas in a future version. Use pandas.concat instead.\n",
            "  df = df.append({\"Index\": index, \"Sentence\": sentence, \"True Label\": true_label, \"Predicted Label\": predicted_label},\n",
            "<ipython-input-65-7534fcb2f2a3>:11: FutureWarning: The frame.append method is deprecated and will be removed from pandas in a future version. Use pandas.concat instead.\n",
            "  df = df.append({\"Index\": index, \"Sentence\": sentence, \"True Label\": true_label, \"Predicted Label\": predicted_label},\n",
            "<ipython-input-65-7534fcb2f2a3>:11: FutureWarning: The frame.append method is deprecated and will be removed from pandas in a future version. Use pandas.concat instead.\n",
            "  df = df.append({\"Index\": index, \"Sentence\": sentence, \"True Label\": true_label, \"Predicted Label\": predicted_label},\n",
            "<ipython-input-65-7534fcb2f2a3>:11: FutureWarning: The frame.append method is deprecated and will be removed from pandas in a future version. Use pandas.concat instead.\n",
            "  df = df.append({\"Index\": index, \"Sentence\": sentence, \"True Label\": true_label, \"Predicted Label\": predicted_label},\n",
            "<ipython-input-65-7534fcb2f2a3>:11: FutureWarning: The frame.append method is deprecated and will be removed from pandas in a future version. Use pandas.concat instead.\n",
            "  df = df.append({\"Index\": index, \"Sentence\": sentence, \"True Label\": true_label, \"Predicted Label\": predicted_label},\n",
            "<ipython-input-65-7534fcb2f2a3>:11: FutureWarning: The frame.append method is deprecated and will be removed from pandas in a future version. Use pandas.concat instead.\n",
            "  df = df.append({\"Index\": index, \"Sentence\": sentence, \"True Label\": true_label, \"Predicted Label\": predicted_label},\n",
            "<ipython-input-65-7534fcb2f2a3>:11: FutureWarning: The frame.append method is deprecated and will be removed from pandas in a future version. Use pandas.concat instead.\n",
            "  df = df.append({\"Index\": index, \"Sentence\": sentence, \"True Label\": true_label, \"Predicted Label\": predicted_label},\n",
            "<ipython-input-65-7534fcb2f2a3>:11: FutureWarning: The frame.append method is deprecated and will be removed from pandas in a future version. Use pandas.concat instead.\n",
            "  df = df.append({\"Index\": index, \"Sentence\": sentence, \"True Label\": true_label, \"Predicted Label\": predicted_label},\n",
            "<ipython-input-65-7534fcb2f2a3>:11: FutureWarning: The frame.append method is deprecated and will be removed from pandas in a future version. Use pandas.concat instead.\n",
            "  df = df.append({\"Index\": index, \"Sentence\": sentence, \"True Label\": true_label, \"Predicted Label\": predicted_label},\n",
            "<ipython-input-65-7534fcb2f2a3>:11: FutureWarning: The frame.append method is deprecated and will be removed from pandas in a future version. Use pandas.concat instead.\n",
            "  df = df.append({\"Index\": index, \"Sentence\": sentence, \"True Label\": true_label, \"Predicted Label\": predicted_label},\n",
            "<ipython-input-65-7534fcb2f2a3>:11: FutureWarning: The frame.append method is deprecated and will be removed from pandas in a future version. Use pandas.concat instead.\n",
            "  df = df.append({\"Index\": index, \"Sentence\": sentence, \"True Label\": true_label, \"Predicted Label\": predicted_label},\n",
            "<ipython-input-65-7534fcb2f2a3>:11: FutureWarning: The frame.append method is deprecated and will be removed from pandas in a future version. Use pandas.concat instead.\n",
            "  df = df.append({\"Index\": index, \"Sentence\": sentence, \"True Label\": true_label, \"Predicted Label\": predicted_label},\n",
            "<ipython-input-65-7534fcb2f2a3>:11: FutureWarning: The frame.append method is deprecated and will be removed from pandas in a future version. Use pandas.concat instead.\n",
            "  df = df.append({\"Index\": index, \"Sentence\": sentence, \"True Label\": true_label, \"Predicted Label\": predicted_label},\n",
            "<ipython-input-65-7534fcb2f2a3>:11: FutureWarning: The frame.append method is deprecated and will be removed from pandas in a future version. Use pandas.concat instead.\n",
            "  df = df.append({\"Index\": index, \"Sentence\": sentence, \"True Label\": true_label, \"Predicted Label\": predicted_label},\n",
            "<ipython-input-65-7534fcb2f2a3>:11: FutureWarning: The frame.append method is deprecated and will be removed from pandas in a future version. Use pandas.concat instead.\n",
            "  df = df.append({\"Index\": index, \"Sentence\": sentence, \"True Label\": true_label, \"Predicted Label\": predicted_label},\n",
            "<ipython-input-65-7534fcb2f2a3>:11: FutureWarning: The frame.append method is deprecated and will be removed from pandas in a future version. Use pandas.concat instead.\n",
            "  df = df.append({\"Index\": index, \"Sentence\": sentence, \"True Label\": true_label, \"Predicted Label\": predicted_label},\n",
            "<ipython-input-65-7534fcb2f2a3>:11: FutureWarning: The frame.append method is deprecated and will be removed from pandas in a future version. Use pandas.concat instead.\n",
            "  df = df.append({\"Index\": index, \"Sentence\": sentence, \"True Label\": true_label, \"Predicted Label\": predicted_label},\n",
            "<ipython-input-65-7534fcb2f2a3>:11: FutureWarning: The frame.append method is deprecated and will be removed from pandas in a future version. Use pandas.concat instead.\n",
            "  df = df.append({\"Index\": index, \"Sentence\": sentence, \"True Label\": true_label, \"Predicted Label\": predicted_label},\n",
            "<ipython-input-65-7534fcb2f2a3>:11: FutureWarning: The frame.append method is deprecated and will be removed from pandas in a future version. Use pandas.concat instead.\n",
            "  df = df.append({\"Index\": index, \"Sentence\": sentence, \"True Label\": true_label, \"Predicted Label\": predicted_label},\n",
            "<ipython-input-65-7534fcb2f2a3>:11: FutureWarning: The frame.append method is deprecated and will be removed from pandas in a future version. Use pandas.concat instead.\n",
            "  df = df.append({\"Index\": index, \"Sentence\": sentence, \"True Label\": true_label, \"Predicted Label\": predicted_label},\n",
            "<ipython-input-65-7534fcb2f2a3>:11: FutureWarning: The frame.append method is deprecated and will be removed from pandas in a future version. Use pandas.concat instead.\n",
            "  df = df.append({\"Index\": index, \"Sentence\": sentence, \"True Label\": true_label, \"Predicted Label\": predicted_label},\n",
            "<ipython-input-65-7534fcb2f2a3>:11: FutureWarning: The frame.append method is deprecated and will be removed from pandas in a future version. Use pandas.concat instead.\n",
            "  df = df.append({\"Index\": index, \"Sentence\": sentence, \"True Label\": true_label, \"Predicted Label\": predicted_label},\n",
            "<ipython-input-65-7534fcb2f2a3>:11: FutureWarning: The frame.append method is deprecated and will be removed from pandas in a future version. Use pandas.concat instead.\n",
            "  df = df.append({\"Index\": index, \"Sentence\": sentence, \"True Label\": true_label, \"Predicted Label\": predicted_label},\n",
            "<ipython-input-65-7534fcb2f2a3>:11: FutureWarning: The frame.append method is deprecated and will be removed from pandas in a future version. Use pandas.concat instead.\n",
            "  df = df.append({\"Index\": index, \"Sentence\": sentence, \"True Label\": true_label, \"Predicted Label\": predicted_label},\n",
            "<ipython-input-65-7534fcb2f2a3>:11: FutureWarning: The frame.append method is deprecated and will be removed from pandas in a future version. Use pandas.concat instead.\n",
            "  df = df.append({\"Index\": index, \"Sentence\": sentence, \"True Label\": true_label, \"Predicted Label\": predicted_label},\n",
            "<ipython-input-65-7534fcb2f2a3>:11: FutureWarning: The frame.append method is deprecated and will be removed from pandas in a future version. Use pandas.concat instead.\n",
            "  df = df.append({\"Index\": index, \"Sentence\": sentence, \"True Label\": true_label, \"Predicted Label\": predicted_label},\n",
            "<ipython-input-65-7534fcb2f2a3>:11: FutureWarning: The frame.append method is deprecated and will be removed from pandas in a future version. Use pandas.concat instead.\n",
            "  df = df.append({\"Index\": index, \"Sentence\": sentence, \"True Label\": true_label, \"Predicted Label\": predicted_label},\n",
            "<ipython-input-65-7534fcb2f2a3>:11: FutureWarning: The frame.append method is deprecated and will be removed from pandas in a future version. Use pandas.concat instead.\n",
            "  df = df.append({\"Index\": index, \"Sentence\": sentence, \"True Label\": true_label, \"Predicted Label\": predicted_label},\n",
            "<ipython-input-65-7534fcb2f2a3>:11: FutureWarning: The frame.append method is deprecated and will be removed from pandas in a future version. Use pandas.concat instead.\n",
            "  df = df.append({\"Index\": index, \"Sentence\": sentence, \"True Label\": true_label, \"Predicted Label\": predicted_label},\n",
            "<ipython-input-65-7534fcb2f2a3>:11: FutureWarning: The frame.append method is deprecated and will be removed from pandas in a future version. Use pandas.concat instead.\n",
            "  df = df.append({\"Index\": index, \"Sentence\": sentence, \"True Label\": true_label, \"Predicted Label\": predicted_label},\n",
            "<ipython-input-65-7534fcb2f2a3>:11: FutureWarning: The frame.append method is deprecated and will be removed from pandas in a future version. Use pandas.concat instead.\n",
            "  df = df.append({\"Index\": index, \"Sentence\": sentence, \"True Label\": true_label, \"Predicted Label\": predicted_label},\n",
            "<ipython-input-65-7534fcb2f2a3>:11: FutureWarning: The frame.append method is deprecated and will be removed from pandas in a future version. Use pandas.concat instead.\n",
            "  df = df.append({\"Index\": index, \"Sentence\": sentence, \"True Label\": true_label, \"Predicted Label\": predicted_label},\n",
            "<ipython-input-65-7534fcb2f2a3>:11: FutureWarning: The frame.append method is deprecated and will be removed from pandas in a future version. Use pandas.concat instead.\n",
            "  df = df.append({\"Index\": index, \"Sentence\": sentence, \"True Label\": true_label, \"Predicted Label\": predicted_label},\n",
            "<ipython-input-65-7534fcb2f2a3>:11: FutureWarning: The frame.append method is deprecated and will be removed from pandas in a future version. Use pandas.concat instead.\n",
            "  df = df.append({\"Index\": index, \"Sentence\": sentence, \"True Label\": true_label, \"Predicted Label\": predicted_label},\n",
            "<ipython-input-65-7534fcb2f2a3>:11: FutureWarning: The frame.append method is deprecated and will be removed from pandas in a future version. Use pandas.concat instead.\n",
            "  df = df.append({\"Index\": index, \"Sentence\": sentence, \"True Label\": true_label, \"Predicted Label\": predicted_label},\n",
            "<ipython-input-65-7534fcb2f2a3>:11: FutureWarning: The frame.append method is deprecated and will be removed from pandas in a future version. Use pandas.concat instead.\n",
            "  df = df.append({\"Index\": index, \"Sentence\": sentence, \"True Label\": true_label, \"Predicted Label\": predicted_label},\n",
            "<ipython-input-65-7534fcb2f2a3>:11: FutureWarning: The frame.append method is deprecated and will be removed from pandas in a future version. Use pandas.concat instead.\n",
            "  df = df.append({\"Index\": index, \"Sentence\": sentence, \"True Label\": true_label, \"Predicted Label\": predicted_label},\n",
            "<ipython-input-65-7534fcb2f2a3>:11: FutureWarning: The frame.append method is deprecated and will be removed from pandas in a future version. Use pandas.concat instead.\n",
            "  df = df.append({\"Index\": index, \"Sentence\": sentence, \"True Label\": true_label, \"Predicted Label\": predicted_label},\n",
            "<ipython-input-65-7534fcb2f2a3>:11: FutureWarning: The frame.append method is deprecated and will be removed from pandas in a future version. Use pandas.concat instead.\n",
            "  df = df.append({\"Index\": index, \"Sentence\": sentence, \"True Label\": true_label, \"Predicted Label\": predicted_label},\n",
            "<ipython-input-65-7534fcb2f2a3>:11: FutureWarning: The frame.append method is deprecated and will be removed from pandas in a future version. Use pandas.concat instead.\n",
            "  df = df.append({\"Index\": index, \"Sentence\": sentence, \"True Label\": true_label, \"Predicted Label\": predicted_label},\n",
            "<ipython-input-65-7534fcb2f2a3>:11: FutureWarning: The frame.append method is deprecated and will be removed from pandas in a future version. Use pandas.concat instead.\n",
            "  df = df.append({\"Index\": index, \"Sentence\": sentence, \"True Label\": true_label, \"Predicted Label\": predicted_label},\n",
            "<ipython-input-65-7534fcb2f2a3>:11: FutureWarning: The frame.append method is deprecated and will be removed from pandas in a future version. Use pandas.concat instead.\n",
            "  df = df.append({\"Index\": index, \"Sentence\": sentence, \"True Label\": true_label, \"Predicted Label\": predicted_label},\n",
            "<ipython-input-65-7534fcb2f2a3>:11: FutureWarning: The frame.append method is deprecated and will be removed from pandas in a future version. Use pandas.concat instead.\n",
            "  df = df.append({\"Index\": index, \"Sentence\": sentence, \"True Label\": true_label, \"Predicted Label\": predicted_label},\n",
            "<ipython-input-65-7534fcb2f2a3>:11: FutureWarning: The frame.append method is deprecated and will be removed from pandas in a future version. Use pandas.concat instead.\n",
            "  df = df.append({\"Index\": index, \"Sentence\": sentence, \"True Label\": true_label, \"Predicted Label\": predicted_label},\n",
            "<ipython-input-65-7534fcb2f2a3>:11: FutureWarning: The frame.append method is deprecated and will be removed from pandas in a future version. Use pandas.concat instead.\n",
            "  df = df.append({\"Index\": index, \"Sentence\": sentence, \"True Label\": true_label, \"Predicted Label\": predicted_label},\n",
            "<ipython-input-65-7534fcb2f2a3>:11: FutureWarning: The frame.append method is deprecated and will be removed from pandas in a future version. Use pandas.concat instead.\n",
            "  df = df.append({\"Index\": index, \"Sentence\": sentence, \"True Label\": true_label, \"Predicted Label\": predicted_label},\n",
            "<ipython-input-65-7534fcb2f2a3>:11: FutureWarning: The frame.append method is deprecated and will be removed from pandas in a future version. Use pandas.concat instead.\n",
            "  df = df.append({\"Index\": index, \"Sentence\": sentence, \"True Label\": true_label, \"Predicted Label\": predicted_label},\n",
            "<ipython-input-65-7534fcb2f2a3>:11: FutureWarning: The frame.append method is deprecated and will be removed from pandas in a future version. Use pandas.concat instead.\n",
            "  df = df.append({\"Index\": index, \"Sentence\": sentence, \"True Label\": true_label, \"Predicted Label\": predicted_label},\n",
            "<ipython-input-65-7534fcb2f2a3>:11: FutureWarning: The frame.append method is deprecated and will be removed from pandas in a future version. Use pandas.concat instead.\n",
            "  df = df.append({\"Index\": index, \"Sentence\": sentence, \"True Label\": true_label, \"Predicted Label\": predicted_label},\n",
            "<ipython-input-65-7534fcb2f2a3>:11: FutureWarning: The frame.append method is deprecated and will be removed from pandas in a future version. Use pandas.concat instead.\n",
            "  df = df.append({\"Index\": index, \"Sentence\": sentence, \"True Label\": true_label, \"Predicted Label\": predicted_label},\n",
            "<ipython-input-65-7534fcb2f2a3>:11: FutureWarning: The frame.append method is deprecated and will be removed from pandas in a future version. Use pandas.concat instead.\n",
            "  df = df.append({\"Index\": index, \"Sentence\": sentence, \"True Label\": true_label, \"Predicted Label\": predicted_label},\n",
            "<ipython-input-65-7534fcb2f2a3>:11: FutureWarning: The frame.append method is deprecated and will be removed from pandas in a future version. Use pandas.concat instead.\n",
            "  df = df.append({\"Index\": index, \"Sentence\": sentence, \"True Label\": true_label, \"Predicted Label\": predicted_label},\n",
            "<ipython-input-65-7534fcb2f2a3>:11: FutureWarning: The frame.append method is deprecated and will be removed from pandas in a future version. Use pandas.concat instead.\n",
            "  df = df.append({\"Index\": index, \"Sentence\": sentence, \"True Label\": true_label, \"Predicted Label\": predicted_label},\n",
            "<ipython-input-65-7534fcb2f2a3>:11: FutureWarning: The frame.append method is deprecated and will be removed from pandas in a future version. Use pandas.concat instead.\n",
            "  df = df.append({\"Index\": index, \"Sentence\": sentence, \"True Label\": true_label, \"Predicted Label\": predicted_label},\n",
            "<ipython-input-65-7534fcb2f2a3>:11: FutureWarning: The frame.append method is deprecated and will be removed from pandas in a future version. Use pandas.concat instead.\n",
            "  df = df.append({\"Index\": index, \"Sentence\": sentence, \"True Label\": true_label, \"Predicted Label\": predicted_label},\n",
            "<ipython-input-65-7534fcb2f2a3>:11: FutureWarning: The frame.append method is deprecated and will be removed from pandas in a future version. Use pandas.concat instead.\n",
            "  df = df.append({\"Index\": index, \"Sentence\": sentence, \"True Label\": true_label, \"Predicted Label\": predicted_label},\n",
            "<ipython-input-65-7534fcb2f2a3>:11: FutureWarning: The frame.append method is deprecated and will be removed from pandas in a future version. Use pandas.concat instead.\n",
            "  df = df.append({\"Index\": index, \"Sentence\": sentence, \"True Label\": true_label, \"Predicted Label\": predicted_label},\n",
            "<ipython-input-65-7534fcb2f2a3>:11: FutureWarning: The frame.append method is deprecated and will be removed from pandas in a future version. Use pandas.concat instead.\n",
            "  df = df.append({\"Index\": index, \"Sentence\": sentence, \"True Label\": true_label, \"Predicted Label\": predicted_label},\n",
            "<ipython-input-65-7534fcb2f2a3>:11: FutureWarning: The frame.append method is deprecated and will be removed from pandas in a future version. Use pandas.concat instead.\n",
            "  df = df.append({\"Index\": index, \"Sentence\": sentence, \"True Label\": true_label, \"Predicted Label\": predicted_label},\n",
            "<ipython-input-65-7534fcb2f2a3>:11: FutureWarning: The frame.append method is deprecated and will be removed from pandas in a future version. Use pandas.concat instead.\n",
            "  df = df.append({\"Index\": index, \"Sentence\": sentence, \"True Label\": true_label, \"Predicted Label\": predicted_label},\n",
            "<ipython-input-65-7534fcb2f2a3>:11: FutureWarning: The frame.append method is deprecated and will be removed from pandas in a future version. Use pandas.concat instead.\n",
            "  df = df.append({\"Index\": index, \"Sentence\": sentence, \"True Label\": true_label, \"Predicted Label\": predicted_label},\n",
            "<ipython-input-65-7534fcb2f2a3>:11: FutureWarning: The frame.append method is deprecated and will be removed from pandas in a future version. Use pandas.concat instead.\n",
            "  df = df.append({\"Index\": index, \"Sentence\": sentence, \"True Label\": true_label, \"Predicted Label\": predicted_label},\n"
          ]
        },
        {
          "output_type": "stream",
          "name": "stdout",
          "text": [
            "1041\n"
          ]
        },
        {
          "output_type": "stream",
          "name": "stderr",
          "text": [
            "<ipython-input-65-7534fcb2f2a3>:11: FutureWarning: The frame.append method is deprecated and will be removed from pandas in a future version. Use pandas.concat instead.\n",
            "  df = df.append({\"Index\": index, \"Sentence\": sentence, \"True Label\": true_label, \"Predicted Label\": predicted_label},\n",
            "<ipython-input-65-7534fcb2f2a3>:11: FutureWarning: The frame.append method is deprecated and will be removed from pandas in a future version. Use pandas.concat instead.\n",
            "  df = df.append({\"Index\": index, \"Sentence\": sentence, \"True Label\": true_label, \"Predicted Label\": predicted_label},\n",
            "<ipython-input-65-7534fcb2f2a3>:11: FutureWarning: The frame.append method is deprecated and will be removed from pandas in a future version. Use pandas.concat instead.\n",
            "  df = df.append({\"Index\": index, \"Sentence\": sentence, \"True Label\": true_label, \"Predicted Label\": predicted_label},\n",
            "<ipython-input-65-7534fcb2f2a3>:11: FutureWarning: The frame.append method is deprecated and will be removed from pandas in a future version. Use pandas.concat instead.\n",
            "  df = df.append({\"Index\": index, \"Sentence\": sentence, \"True Label\": true_label, \"Predicted Label\": predicted_label},\n",
            "<ipython-input-65-7534fcb2f2a3>:11: FutureWarning: The frame.append method is deprecated and will be removed from pandas in a future version. Use pandas.concat instead.\n",
            "  df = df.append({\"Index\": index, \"Sentence\": sentence, \"True Label\": true_label, \"Predicted Label\": predicted_label},\n",
            "<ipython-input-65-7534fcb2f2a3>:11: FutureWarning: The frame.append method is deprecated and will be removed from pandas in a future version. Use pandas.concat instead.\n",
            "  df = df.append({\"Index\": index, \"Sentence\": sentence, \"True Label\": true_label, \"Predicted Label\": predicted_label},\n",
            "<ipython-input-65-7534fcb2f2a3>:11: FutureWarning: The frame.append method is deprecated and will be removed from pandas in a future version. Use pandas.concat instead.\n",
            "  df = df.append({\"Index\": index, \"Sentence\": sentence, \"True Label\": true_label, \"Predicted Label\": predicted_label},\n",
            "<ipython-input-65-7534fcb2f2a3>:11: FutureWarning: The frame.append method is deprecated and will be removed from pandas in a future version. Use pandas.concat instead.\n",
            "  df = df.append({\"Index\": index, \"Sentence\": sentence, \"True Label\": true_label, \"Predicted Label\": predicted_label},\n",
            "<ipython-input-65-7534fcb2f2a3>:11: FutureWarning: The frame.append method is deprecated and will be removed from pandas in a future version. Use pandas.concat instead.\n",
            "  df = df.append({\"Index\": index, \"Sentence\": sentence, \"True Label\": true_label, \"Predicted Label\": predicted_label},\n",
            "<ipython-input-65-7534fcb2f2a3>:11: FutureWarning: The frame.append method is deprecated and will be removed from pandas in a future version. Use pandas.concat instead.\n",
            "  df = df.append({\"Index\": index, \"Sentence\": sentence, \"True Label\": true_label, \"Predicted Label\": predicted_label},\n",
            "<ipython-input-65-7534fcb2f2a3>:11: FutureWarning: The frame.append method is deprecated and will be removed from pandas in a future version. Use pandas.concat instead.\n",
            "  df = df.append({\"Index\": index, \"Sentence\": sentence, \"True Label\": true_label, \"Predicted Label\": predicted_label},\n",
            "<ipython-input-65-7534fcb2f2a3>:11: FutureWarning: The frame.append method is deprecated and will be removed from pandas in a future version. Use pandas.concat instead.\n",
            "  df = df.append({\"Index\": index, \"Sentence\": sentence, \"True Label\": true_label, \"Predicted Label\": predicted_label},\n",
            "<ipython-input-65-7534fcb2f2a3>:11: FutureWarning: The frame.append method is deprecated and will be removed from pandas in a future version. Use pandas.concat instead.\n",
            "  df = df.append({\"Index\": index, \"Sentence\": sentence, \"True Label\": true_label, \"Predicted Label\": predicted_label},\n",
            "<ipython-input-65-7534fcb2f2a3>:11: FutureWarning: The frame.append method is deprecated and will be removed from pandas in a future version. Use pandas.concat instead.\n",
            "  df = df.append({\"Index\": index, \"Sentence\": sentence, \"True Label\": true_label, \"Predicted Label\": predicted_label},\n",
            "<ipython-input-65-7534fcb2f2a3>:11: FutureWarning: The frame.append method is deprecated and will be removed from pandas in a future version. Use pandas.concat instead.\n",
            "  df = df.append({\"Index\": index, \"Sentence\": sentence, \"True Label\": true_label, \"Predicted Label\": predicted_label},\n",
            "<ipython-input-65-7534fcb2f2a3>:11: FutureWarning: The frame.append method is deprecated and will be removed from pandas in a future version. Use pandas.concat instead.\n",
            "  df = df.append({\"Index\": index, \"Sentence\": sentence, \"True Label\": true_label, \"Predicted Label\": predicted_label},\n",
            "<ipython-input-65-7534fcb2f2a3>:11: FutureWarning: The frame.append method is deprecated and will be removed from pandas in a future version. Use pandas.concat instead.\n",
            "  df = df.append({\"Index\": index, \"Sentence\": sentence, \"True Label\": true_label, \"Predicted Label\": predicted_label},\n",
            "<ipython-input-65-7534fcb2f2a3>:11: FutureWarning: The frame.append method is deprecated and will be removed from pandas in a future version. Use pandas.concat instead.\n",
            "  df = df.append({\"Index\": index, \"Sentence\": sentence, \"True Label\": true_label, \"Predicted Label\": predicted_label},\n",
            "<ipython-input-65-7534fcb2f2a3>:11: FutureWarning: The frame.append method is deprecated and will be removed from pandas in a future version. Use pandas.concat instead.\n",
            "  df = df.append({\"Index\": index, \"Sentence\": sentence, \"True Label\": true_label, \"Predicted Label\": predicted_label},\n",
            "<ipython-input-65-7534fcb2f2a3>:11: FutureWarning: The frame.append method is deprecated and will be removed from pandas in a future version. Use pandas.concat instead.\n",
            "  df = df.append({\"Index\": index, \"Sentence\": sentence, \"True Label\": true_label, \"Predicted Label\": predicted_label},\n",
            "<ipython-input-65-7534fcb2f2a3>:11: FutureWarning: The frame.append method is deprecated and will be removed from pandas in a future version. Use pandas.concat instead.\n",
            "  df = df.append({\"Index\": index, \"Sentence\": sentence, \"True Label\": true_label, \"Predicted Label\": predicted_label},\n",
            "<ipython-input-65-7534fcb2f2a3>:11: FutureWarning: The frame.append method is deprecated and will be removed from pandas in a future version. Use pandas.concat instead.\n",
            "  df = df.append({\"Index\": index, \"Sentence\": sentence, \"True Label\": true_label, \"Predicted Label\": predicted_label},\n",
            "<ipython-input-65-7534fcb2f2a3>:11: FutureWarning: The frame.append method is deprecated and will be removed from pandas in a future version. Use pandas.concat instead.\n",
            "  df = df.append({\"Index\": index, \"Sentence\": sentence, \"True Label\": true_label, \"Predicted Label\": predicted_label},\n",
            "<ipython-input-65-7534fcb2f2a3>:11: FutureWarning: The frame.append method is deprecated and will be removed from pandas in a future version. Use pandas.concat instead.\n",
            "  df = df.append({\"Index\": index, \"Sentence\": sentence, \"True Label\": true_label, \"Predicted Label\": predicted_label},\n",
            "<ipython-input-65-7534fcb2f2a3>:11: FutureWarning: The frame.append method is deprecated and will be removed from pandas in a future version. Use pandas.concat instead.\n",
            "  df = df.append({\"Index\": index, \"Sentence\": sentence, \"True Label\": true_label, \"Predicted Label\": predicted_label},\n",
            "<ipython-input-65-7534fcb2f2a3>:11: FutureWarning: The frame.append method is deprecated and will be removed from pandas in a future version. Use pandas.concat instead.\n",
            "  df = df.append({\"Index\": index, \"Sentence\": sentence, \"True Label\": true_label, \"Predicted Label\": predicted_label},\n",
            "<ipython-input-65-7534fcb2f2a3>:11: FutureWarning: The frame.append method is deprecated and will be removed from pandas in a future version. Use pandas.concat instead.\n",
            "  df = df.append({\"Index\": index, \"Sentence\": sentence, \"True Label\": true_label, \"Predicted Label\": predicted_label},\n",
            "<ipython-input-65-7534fcb2f2a3>:11: FutureWarning: The frame.append method is deprecated and will be removed from pandas in a future version. Use pandas.concat instead.\n",
            "  df = df.append({\"Index\": index, \"Sentence\": sentence, \"True Label\": true_label, \"Predicted Label\": predicted_label},\n",
            "<ipython-input-65-7534fcb2f2a3>:11: FutureWarning: The frame.append method is deprecated and will be removed from pandas in a future version. Use pandas.concat instead.\n",
            "  df = df.append({\"Index\": index, \"Sentence\": sentence, \"True Label\": true_label, \"Predicted Label\": predicted_label},\n",
            "<ipython-input-65-7534fcb2f2a3>:11: FutureWarning: The frame.append method is deprecated and will be removed from pandas in a future version. Use pandas.concat instead.\n",
            "  df = df.append({\"Index\": index, \"Sentence\": sentence, \"True Label\": true_label, \"Predicted Label\": predicted_label},\n",
            "<ipython-input-65-7534fcb2f2a3>:11: FutureWarning: The frame.append method is deprecated and will be removed from pandas in a future version. Use pandas.concat instead.\n",
            "  df = df.append({\"Index\": index, \"Sentence\": sentence, \"True Label\": true_label, \"Predicted Label\": predicted_label},\n",
            "<ipython-input-65-7534fcb2f2a3>:11: FutureWarning: The frame.append method is deprecated and will be removed from pandas in a future version. Use pandas.concat instead.\n",
            "  df = df.append({\"Index\": index, \"Sentence\": sentence, \"True Label\": true_label, \"Predicted Label\": predicted_label},\n",
            "<ipython-input-65-7534fcb2f2a3>:11: FutureWarning: The frame.append method is deprecated and will be removed from pandas in a future version. Use pandas.concat instead.\n",
            "  df = df.append({\"Index\": index, \"Sentence\": sentence, \"True Label\": true_label, \"Predicted Label\": predicted_label},\n",
            "<ipython-input-65-7534fcb2f2a3>:11: FutureWarning: The frame.append method is deprecated and will be removed from pandas in a future version. Use pandas.concat instead.\n",
            "  df = df.append({\"Index\": index, \"Sentence\": sentence, \"True Label\": true_label, \"Predicted Label\": predicted_label},\n",
            "<ipython-input-65-7534fcb2f2a3>:11: FutureWarning: The frame.append method is deprecated and will be removed from pandas in a future version. Use pandas.concat instead.\n",
            "  df = df.append({\"Index\": index, \"Sentence\": sentence, \"True Label\": true_label, \"Predicted Label\": predicted_label},\n",
            "<ipython-input-65-7534fcb2f2a3>:11: FutureWarning: The frame.append method is deprecated and will be removed from pandas in a future version. Use pandas.concat instead.\n",
            "  df = df.append({\"Index\": index, \"Sentence\": sentence, \"True Label\": true_label, \"Predicted Label\": predicted_label},\n",
            "<ipython-input-65-7534fcb2f2a3>:11: FutureWarning: The frame.append method is deprecated and will be removed from pandas in a future version. Use pandas.concat instead.\n",
            "  df = df.append({\"Index\": index, \"Sentence\": sentence, \"True Label\": true_label, \"Predicted Label\": predicted_label},\n",
            "<ipython-input-65-7534fcb2f2a3>:11: FutureWarning: The frame.append method is deprecated and will be removed from pandas in a future version. Use pandas.concat instead.\n",
            "  df = df.append({\"Index\": index, \"Sentence\": sentence, \"True Label\": true_label, \"Predicted Label\": predicted_label},\n",
            "<ipython-input-65-7534fcb2f2a3>:11: FutureWarning: The frame.append method is deprecated and will be removed from pandas in a future version. Use pandas.concat instead.\n",
            "  df = df.append({\"Index\": index, \"Sentence\": sentence, \"True Label\": true_label, \"Predicted Label\": predicted_label},\n",
            "<ipython-input-65-7534fcb2f2a3>:11: FutureWarning: The frame.append method is deprecated and will be removed from pandas in a future version. Use pandas.concat instead.\n",
            "  df = df.append({\"Index\": index, \"Sentence\": sentence, \"True Label\": true_label, \"Predicted Label\": predicted_label},\n",
            "<ipython-input-65-7534fcb2f2a3>:11: FutureWarning: The frame.append method is deprecated and will be removed from pandas in a future version. Use pandas.concat instead.\n",
            "  df = df.append({\"Index\": index, \"Sentence\": sentence, \"True Label\": true_label, \"Predicted Label\": predicted_label},\n",
            "<ipython-input-65-7534fcb2f2a3>:11: FutureWarning: The frame.append method is deprecated and will be removed from pandas in a future version. Use pandas.concat instead.\n",
            "  df = df.append({\"Index\": index, \"Sentence\": sentence, \"True Label\": true_label, \"Predicted Label\": predicted_label},\n",
            "<ipython-input-65-7534fcb2f2a3>:11: FutureWarning: The frame.append method is deprecated and will be removed from pandas in a future version. Use pandas.concat instead.\n",
            "  df = df.append({\"Index\": index, \"Sentence\": sentence, \"True Label\": true_label, \"Predicted Label\": predicted_label},\n",
            "<ipython-input-65-7534fcb2f2a3>:11: FutureWarning: The frame.append method is deprecated and will be removed from pandas in a future version. Use pandas.concat instead.\n",
            "  df = df.append({\"Index\": index, \"Sentence\": sentence, \"True Label\": true_label, \"Predicted Label\": predicted_label},\n",
            "<ipython-input-65-7534fcb2f2a3>:11: FutureWarning: The frame.append method is deprecated and will be removed from pandas in a future version. Use pandas.concat instead.\n",
            "  df = df.append({\"Index\": index, \"Sentence\": sentence, \"True Label\": true_label, \"Predicted Label\": predicted_label},\n",
            "<ipython-input-65-7534fcb2f2a3>:11: FutureWarning: The frame.append method is deprecated and will be removed from pandas in a future version. Use pandas.concat instead.\n",
            "  df = df.append({\"Index\": index, \"Sentence\": sentence, \"True Label\": true_label, \"Predicted Label\": predicted_label},\n",
            "<ipython-input-65-7534fcb2f2a3>:11: FutureWarning: The frame.append method is deprecated and will be removed from pandas in a future version. Use pandas.concat instead.\n",
            "  df = df.append({\"Index\": index, \"Sentence\": sentence, \"True Label\": true_label, \"Predicted Label\": predicted_label},\n",
            "<ipython-input-65-7534fcb2f2a3>:11: FutureWarning: The frame.append method is deprecated and will be removed from pandas in a future version. Use pandas.concat instead.\n",
            "  df = df.append({\"Index\": index, \"Sentence\": sentence, \"True Label\": true_label, \"Predicted Label\": predicted_label},\n",
            "<ipython-input-65-7534fcb2f2a3>:11: FutureWarning: The frame.append method is deprecated and will be removed from pandas in a future version. Use pandas.concat instead.\n",
            "  df = df.append({\"Index\": index, \"Sentence\": sentence, \"True Label\": true_label, \"Predicted Label\": predicted_label},\n",
            "<ipython-input-65-7534fcb2f2a3>:11: FutureWarning: The frame.append method is deprecated and will be removed from pandas in a future version. Use pandas.concat instead.\n",
            "  df = df.append({\"Index\": index, \"Sentence\": sentence, \"True Label\": true_label, \"Predicted Label\": predicted_label},\n",
            "<ipython-input-65-7534fcb2f2a3>:11: FutureWarning: The frame.append method is deprecated and will be removed from pandas in a future version. Use pandas.concat instead.\n",
            "  df = df.append({\"Index\": index, \"Sentence\": sentence, \"True Label\": true_label, \"Predicted Label\": predicted_label},\n",
            "<ipython-input-65-7534fcb2f2a3>:11: FutureWarning: The frame.append method is deprecated and will be removed from pandas in a future version. Use pandas.concat instead.\n",
            "  df = df.append({\"Index\": index, \"Sentence\": sentence, \"True Label\": true_label, \"Predicted Label\": predicted_label},\n",
            "<ipython-input-65-7534fcb2f2a3>:11: FutureWarning: The frame.append method is deprecated and will be removed from pandas in a future version. Use pandas.concat instead.\n",
            "  df = df.append({\"Index\": index, \"Sentence\": sentence, \"True Label\": true_label, \"Predicted Label\": predicted_label},\n",
            "<ipython-input-65-7534fcb2f2a3>:11: FutureWarning: The frame.append method is deprecated and will be removed from pandas in a future version. Use pandas.concat instead.\n",
            "  df = df.append({\"Index\": index, \"Sentence\": sentence, \"True Label\": true_label, \"Predicted Label\": predicted_label},\n",
            "<ipython-input-65-7534fcb2f2a3>:11: FutureWarning: The frame.append method is deprecated and will be removed from pandas in a future version. Use pandas.concat instead.\n",
            "  df = df.append({\"Index\": index, \"Sentence\": sentence, \"True Label\": true_label, \"Predicted Label\": predicted_label},\n",
            "<ipython-input-65-7534fcb2f2a3>:11: FutureWarning: The frame.append method is deprecated and will be removed from pandas in a future version. Use pandas.concat instead.\n",
            "  df = df.append({\"Index\": index, \"Sentence\": sentence, \"True Label\": true_label, \"Predicted Label\": predicted_label},\n",
            "<ipython-input-65-7534fcb2f2a3>:11: FutureWarning: The frame.append method is deprecated and will be removed from pandas in a future version. Use pandas.concat instead.\n",
            "  df = df.append({\"Index\": index, \"Sentence\": sentence, \"True Label\": true_label, \"Predicted Label\": predicted_label},\n",
            "<ipython-input-65-7534fcb2f2a3>:11: FutureWarning: The frame.append method is deprecated and will be removed from pandas in a future version. Use pandas.concat instead.\n",
            "  df = df.append({\"Index\": index, \"Sentence\": sentence, \"True Label\": true_label, \"Predicted Label\": predicted_label},\n",
            "<ipython-input-65-7534fcb2f2a3>:11: FutureWarning: The frame.append method is deprecated and will be removed from pandas in a future version. Use pandas.concat instead.\n",
            "  df = df.append({\"Index\": index, \"Sentence\": sentence, \"True Label\": true_label, \"Predicted Label\": predicted_label},\n",
            "<ipython-input-65-7534fcb2f2a3>:11: FutureWarning: The frame.append method is deprecated and will be removed from pandas in a future version. Use pandas.concat instead.\n",
            "  df = df.append({\"Index\": index, \"Sentence\": sentence, \"True Label\": true_label, \"Predicted Label\": predicted_label},\n"
          ]
        }
      ],
      "source": [
        "# print the wrong predicted label\n",
        "\n",
        "# Create a DataFrame to store the results\n",
        "df = pd.DataFrame(columns=[\"Index\", \"Sentence\", \"True Label\", \"Predicted Label\"])\n",
        "\n",
        "i=0\n",
        "for index, value in original_test_labels.iteritems():\n",
        "  true_label = value\n",
        "  predicted_label = list_y_pred[i]\n",
        "  sentence = text[index]\n",
        "  df = df.append({\"Index\": index, \"Sentence\": sentence, \"True Label\": true_label, \"Predicted Label\": predicted_label},\n",
        "                      ignore_index=True)\n",
        "  # print('True Label:', true_label, '|', 'Predicted Label:', predicted_label)\n",
        "  # print('index:', index)\n",
        "  # print('Sentence:', sentence, '\\n')\n",
        "  i=i+1\n",
        "\n",
        "print(i)\n",
        "# Define the output file name\n",
        "output_report_file = report_path + model_identifier + model_save_name + ' all test.csv'\n",
        "\n",
        "# Write the DataFrame to a CSV file\n",
        "df.to_csv(output_report_file, index=False)"
      ]
    },
    {
      "cell_type": "markdown",
      "metadata": {
        "id": "KZqrud-9ZOy1"
      },
      "source": [
        "## Bests\n"
      ]
    },
    {
      "cell_type": "code",
      "execution_count": null,
      "metadata": {
        "colab": {
          "base_uri": "https://localhost:8080/"
        },
        "id": "_l4ddUuLZVev",
        "outputId": "33a5f977-cdfd-4f01-b727-3dfa9601e072"
      },
      "outputs": [
        {
          "name": "stdout",
          "output_type": "stream",
          "text": [
            "Accuracy: 0.9587\n",
            "AUC: 0.9914\n",
            "MCC: 0.9174\n",
            "Loss: 0.1692\n",
            "Precision: 0.9587 \n",
            "Recall: 0.9587 \n",
            "F1-Score: 0.9587 \n"
          ]
        }
      ],
      "source": [
        "precision, recall, f1_score, support = precision_recall_fscore_support(list_y_pred, list_y_true)\n",
        "mcc_score = matthews_corrcoef(list_y_true, list_y_pred)\n",
        "\n",
        "print(\"Accuracy: %.4f\" % test_acc)\n",
        "print(\"AUC: %.4f\" % test_auc_score)\n",
        "print(\"MCC: %.4f\" % mcc_score)\n",
        "print(\"Loss: %.4f\" % test_loss)\n",
        "print(\"Precision: %.4f \" % np.mean(precision))\n",
        "print(\"Recall: %.4f \" % np.mean(recall))\n",
        "print(\"F1-Score: %.4f \" % np.mean(f1_score))"
      ]
    },
    {
      "cell_type": "markdown",
      "metadata": {
        "id": "l2klrvsYTdTC"
      },
      "source": [
        "# Upload model"
      ]
    },
    {
      "cell_type": "markdown",
      "metadata": {
        "id": "CzIohIK9U_Qn"
      },
      "source": [
        "## Upload to hub"
      ]
    },
    {
      "cell_type": "code",
      "execution_count": null,
      "metadata": {
        "colab": {
          "base_uri": "https://localhost:8080/"
        },
        "id": "mDgv1iigTglg",
        "outputId": "0f62bb58-14a2-41ab-ed8c-e51de65bd6e1"
      },
      "outputs": [
        {
          "name": "stdout",
          "output_type": "stream",
          "text": [
            "Looking in indexes: https://pypi.org/simple, https://us-python.pkg.dev/colab-wheels/public/simple/\n",
            "Requirement already satisfied: huggingface_hub in /usr/local/lib/python3.10/dist-packages (0.15.1)\n",
            "Requirement already satisfied: filelock in /usr/local/lib/python3.10/dist-packages (from huggingface_hub) (3.12.0)\n",
            "Requirement already satisfied: fsspec in /usr/local/lib/python3.10/dist-packages (from huggingface_hub) (2023.4.0)\n",
            "Requirement already satisfied: requests in /usr/local/lib/python3.10/dist-packages (from huggingface_hub) (2.27.1)\n",
            "Requirement already satisfied: tqdm>=4.42.1 in /usr/local/lib/python3.10/dist-packages (from huggingface_hub) (4.65.0)\n",
            "Requirement already satisfied: pyyaml>=5.1 in /usr/local/lib/python3.10/dist-packages (from huggingface_hub) (6.0)\n",
            "Requirement already satisfied: typing-extensions>=3.7.4.3 in /usr/local/lib/python3.10/dist-packages (from huggingface_hub) (4.5.0)\n",
            "Requirement already satisfied: packaging>=20.9 in /usr/local/lib/python3.10/dist-packages (from huggingface_hub) (23.1)\n",
            "Requirement already satisfied: urllib3<1.27,>=1.21.1 in /usr/local/lib/python3.10/dist-packages (from requests->huggingface_hub) (1.26.15)\n",
            "Requirement already satisfied: certifi>=2017.4.17 in /usr/local/lib/python3.10/dist-packages (from requests->huggingface_hub) (2022.12.7)\n",
            "Requirement already satisfied: charset-normalizer~=2.0.0 in /usr/local/lib/python3.10/dist-packages (from requests->huggingface_hub) (2.0.12)\n",
            "Requirement already satisfied: idna<4,>=2.5 in /usr/local/lib/python3.10/dist-packages (from requests->huggingface_hub) (3.4)\n"
          ]
        }
      ],
      "source": [
        "!pip install huggingface_hub"
      ]
    },
    {
      "cell_type": "code",
      "execution_count": null,
      "metadata": {
        "colab": {
          "base_uri": "https://localhost:8080/",
          "height": 162
        },
        "id": "R-RnSyajT8be",
        "outputId": "e5e43cb8-df92-4c67-bdf7-4d417eadb919"
      },
      "outputs": [
        {
          "data": {
            "application/vnd.jupyter.widget-view+json": {
              "model_id": "614fddbacff5438bb1d40b45b4c85e7a",
              "version_major": 2,
              "version_minor": 0
            },
            "text/plain": [
              "VBox(children=(HTML(value='<center> <img\\nsrc=https://huggingface.co/front/assets/huggingface_logo-noborder.sv…"
            ]
          },
          "metadata": {},
          "output_type": "display_data"
        }
      ],
      "source": [
        "from huggingface_hub import notebook_login\n",
        "\n",
        "notebook_login()"
      ]
    },
    {
      "cell_type": "code",
      "execution_count": null,
      "metadata": {
        "colab": {
          "base_uri": "https://localhost:8080/",
          "height": 154
        },
        "id": "IwsD0va1UjmL",
        "outputId": "e21df317-ffa0-4bb8-c6ec-260e4d509725"
      },
      "outputs": [
        {
          "data": {
            "application/vnd.jupyter.widget-view+json": {
              "model_id": "db452d881ac1434d81aff918cfcb0f5d",
              "version_major": 2,
              "version_minor": 0
            },
            "text/plain": [
              "Upload 1 LFS files:   0%|          | 0/1 [00:00<?, ?it/s]"
            ]
          },
          "metadata": {},
          "output_type": "display_data"
        },
        {
          "data": {
            "application/vnd.jupyter.widget-view+json": {
              "model_id": "8f5fec2ce64d479bbfef6c7c64e304a9",
              "version_major": 2,
              "version_minor": 0
            },
            "text/plain": [
              "pytorch_model.bin:   0%|          | 0.00/602M [00:00<?, ?B/s]"
            ]
          },
          "metadata": {},
          "output_type": "display_data"
        },
        {
          "data": {
            "text/plain": [
              "CommitInfo(commit_url='https://huggingface.co/kadabengaran/IndoBERT-BiLSTM-Useful-App-Review/commit/d846405e8f674d25fffd8e3fb36617f635532bfb', commit_message='Upload IndoBERTBiLSTM', commit_description='', oid='d846405e8f674d25fffd8e3fb36617f635532bfb', pr_url=None, pr_revision=None, pr_num=None)"
            ]
          },
          "execution_count": 90,
          "metadata": {},
          "output_type": "execute_result"
        }
      ],
      "source": [
        "model.push_to_hub(\"kadabengaran/IndoBERT-BiLSTM-Useful-App-Review\")"
      ]
    },
    {
      "cell_type": "code",
      "execution_count": null,
      "metadata": {
        "colab": {
          "base_uri": "https://localhost:8080/"
        },
        "id": "8Fz0Yngw0Ler",
        "outputId": "4180f74a-3b96-4ba0-96b4-1a471d4a0ca7"
      },
      "outputs": [
        {
          "name": "stderr",
          "output_type": "stream",
          "text": [
            "/usr/local/lib/python3.10/dist-packages/huggingface_hub/_commit_api.py:232: UserWarning: About to update multiple times the same file in the same commit: 'vocab.txt'. This can cause undesired inconsistencies in your repo.\n",
            "  warnings.warn(\n",
            "/usr/local/lib/python3.10/dist-packages/huggingface_hub/_commit_api.py:232: UserWarning: About to update multiple times the same file in the same commit: 'tokenizer_config.json'. This can cause undesired inconsistencies in your repo.\n",
            "  warnings.warn(\n",
            "/usr/local/lib/python3.10/dist-packages/huggingface_hub/_commit_api.py:232: UserWarning: About to update multiple times the same file in the same commit: 'special_tokens_map.json'. This can cause undesired inconsistencies in your repo.\n",
            "  warnings.warn(\n"
          ]
        },
        {
          "data": {
            "text/plain": [
              "CommitInfo(commit_url='https://huggingface.co/kadabengaran/IndoBERT-BiLSTM-Useful-App-Review/commit/680f300e4704ede7d63650daf727bd14199973d5', commit_message='Upload tokenizer', commit_description='', oid='680f300e4704ede7d63650daf727bd14199973d5', pr_url=None, pr_revision=None, pr_num=None)"
            ]
          },
          "execution_count": 169,
          "metadata": {},
          "output_type": "execute_result"
        }
      ],
      "source": [
        "tokenizer.push_to_hub(\"kadabengaran/IndoBERT-BiLSTM-Useful-App-Review\")"
      ]
    },
    {
      "cell_type": "markdown",
      "metadata": {
        "id": "_W6s9SH6VCdm"
      },
      "source": [
        "## Load from hub"
      ]
    },
    {
      "cell_type": "code",
      "execution_count": null,
      "metadata": {
        "id": "q0uctJ-BqHvr"
      },
      "outputs": [],
      "source": [
        "del model"
      ]
    },
    {
      "cell_type": "code",
      "execution_count": null,
      "metadata": {
        "colab": {
          "base_uri": "https://localhost:8080/",
          "height": 970
        },
        "id": "sCkQBtTjVEVl",
        "outputId": "a1bcf698-a817-437a-b41c-064a7ad4fa0b"
      },
      "outputs": [
        {
          "data": {
            "application/vnd.jupyter.widget-view+json": {
              "model_id": "2f6c2c9b5c494495a4b7eaa12d4b586a",
              "version_major": 2,
              "version_minor": 0
            },
            "text/plain": [
              "Downloading (…)lve/main/config.json:   0%|          | 0.00/588 [00:00<?, ?B/s]"
            ]
          },
          "metadata": {},
          "output_type": "display_data"
        },
        {
          "data": {
            "application/vnd.jupyter.widget-view+json": {
              "model_id": "6644f3e96be84620a1185f0885eb9afc",
              "version_major": 2,
              "version_minor": 0
            },
            "text/plain": [
              "Downloading pytorch_model.bin:   0%|          | 0.00/602M [00:00<?, ?B/s]"
            ]
          },
          "metadata": {},
          "output_type": "display_data"
        },
        {
          "data": {
            "text/plain": [
              "IndoBERTBiLSTM(\n",
              "  (bert): BertModel(\n",
              "    (embeddings): BertEmbeddings(\n",
              "      (word_embeddings): Embedding(50000, 768, padding_idx=0)\n",
              "      (position_embeddings): Embedding(512, 768)\n",
              "      (token_type_embeddings): Embedding(2, 768)\n",
              "      (LayerNorm): LayerNorm((768,), eps=1e-12, elementwise_affine=True)\n",
              "      (dropout): Dropout(p=0.1, inplace=False)\n",
              "    )\n",
              "    (encoder): BertEncoder(\n",
              "      (layer): ModuleList(\n",
              "        (0-11): 12 x BertLayer(\n",
              "          (attention): BertAttention(\n",
              "            (self): BertSelfAttention(\n",
              "              (query): Linear(in_features=768, out_features=768, bias=True)\n",
              "              (key): Linear(in_features=768, out_features=768, bias=True)\n",
              "              (value): Linear(in_features=768, out_features=768, bias=True)\n",
              "              (dropout): Dropout(p=0.1, inplace=False)\n",
              "            )\n",
              "            (output): BertSelfOutput(\n",
              "              (dense): Linear(in_features=768, out_features=768, bias=True)\n",
              "              (LayerNorm): LayerNorm((768,), eps=1e-12, elementwise_affine=True)\n",
              "              (dropout): Dropout(p=0.1, inplace=False)\n",
              "            )\n",
              "          )\n",
              "          (intermediate): BertIntermediate(\n",
              "            (dense): Linear(in_features=768, out_features=3072, bias=True)\n",
              "            (intermediate_act_fn): GELUActivation()\n",
              "          )\n",
              "          (output): BertOutput(\n",
              "            (dense): Linear(in_features=3072, out_features=768, bias=True)\n",
              "            (LayerNorm): LayerNorm((768,), eps=1e-12, elementwise_affine=True)\n",
              "            (dropout): Dropout(p=0.1, inplace=False)\n",
              "          )\n",
              "        )\n",
              "      )\n",
              "    )\n",
              "    (pooler): BertPooler(\n",
              "      (dense): Linear(in_features=768, out_features=768, bias=True)\n",
              "      (activation): Tanh()\n",
              "    )\n",
              "  )\n",
              "  (lstm): LSTM(768, 768, num_layers=2, batch_first=True, bidirectional=True)\n",
              "  (dropout): Dropout(p=0.2, inplace=False)\n",
              "  (global_pooling): AdaptiveAvgPool1d(output_size=1)\n",
              "  (hidden_layer): Linear(in_features=1536, out_features=1536, bias=True)\n",
              "  (output_layer): Linear(in_features=1536, out_features=2, bias=True)\n",
              "  (relu): ReLU()\n",
              ")"
            ]
          },
          "execution_count": 85,
          "metadata": {},
          "output_type": "execute_result"
        }
      ],
      "source": [
        "MODEL = \"kadabengaran/IndoBERT-BiLSTM-Useful-App-Review\"\n",
        "\n",
        "model = IndoBERTBiLSTM.from_pretrained(MODEL,\n",
        "                                     bert,\n",
        "                                     HIDDEN_DIM,\n",
        "                                     OUTPUT_DIM,\n",
        "                                     N_LAYERS, BIDIRECTIONAL,\n",
        "                                     DROPOUT)\n",
        "model.cuda()"
      ]
    },
    {
      "cell_type": "markdown",
      "metadata": {
        "id": "upPqanGjDrvM"
      },
      "source": [
        "# Predict"
      ]
    },
    {
      "cell_type": "code",
      "execution_count": null,
      "metadata": {
        "id": "mwwtakpNRsIf"
      },
      "outputs": [],
      "source": [
        "import re\n",
        "\n",
        "def remove_special_characters(text):\n",
        "\n",
        "    # case folding\n",
        "    text = text.lower()\n",
        "\n",
        "    # menghapus karakter khusus\n",
        "    text = re.sub(r'[^a-zA-Z0-9\\s]', ' ', text)\n",
        "    text = re.sub(r'[0-9]', ' ', text)\n",
        "\n",
        "    # # replace multiple whitespace characters with a single space\n",
        "    text = re.sub(r\"\\s+\", \" \", text)\n",
        "\n",
        "    return text"
      ]
    },
    {
      "cell_type": "code",
      "execution_count": null,
      "metadata": {
        "id": "etqOG1ibaKOV"
      },
      "outputs": [],
      "source": [
        "del tokenizer"
      ]
    },
    {
      "cell_type": "code",
      "execution_count": null,
      "metadata": {
        "id": "2KGcmQHuaKOW"
      },
      "outputs": [],
      "source": [
        "tokenizer_path = main_path + F\"tokenizer/{model_name}\"\n",
        "tokenizer = BertTokenizer.from_pretrained(tokenizer_path)"
      ]
    },
    {
      "cell_type": "code",
      "execution_count": null,
      "metadata": {
        "id": "PLkozf07Fijv"
      },
      "outputs": [],
      "source": [
        "# input_text = \"saya sudah terverivikasi dan sdh sempat SS barcode, bgtu bbrp bulan kemudian tidak sengaja terhapus barcode nya,ketika sy mau unduh lg masa hrs mulai dr awal lg . Mohon di perbaiki dan di permudah untuk login.\"\n",
        "# input_text = \"aplikasi terkutuk loginnya seperti menangkap koruptor susah setengah mati\"\n",
        "# input_text = \"kesulitan mengisi minyak karena atm jauh dan tidak ada cash semoga dengan ini semua kendala teratasi\"\n",
        "input_text = \"aplikasi sangat banyak bug dan malah menyusahkan pengguna sehingga bukannya memudahkan tapi malah menyebabkan antrian di spbu\"\n",
        "# input_text = \"aduh aplikasi murahan mau dipakai rakyat kirim sms verifikasi saja nyangkut entah dimana jangan buang waktu pakai aplikasi murahan ini perbaiki dulu pakai modalnya dengan maksimal jangan di korupsi ya pak bikin aplikasi yang top\""
      ]
    },
    {
      "cell_type": "code",
      "execution_count": null,
      "metadata": {
        "id": "sCu7FlSfkeCM"
      },
      "outputs": [],
      "source": [
        "def predict(text, model, tokenizer, device):\n",
        "    if device.type == 'cuda':\n",
        "        model.cuda()\n",
        "\n",
        "    test_ids = []\n",
        "    test_attention_mask = []\n",
        "\n",
        "    text = remove_special_characters(text)\n",
        "    encoding = tokenize_data(text, tokenizer)\n",
        "\n",
        "    # Extract IDs and Attention Mask\n",
        "    test_ids.append(encoding['input_ids'])\n",
        "    test_attention_mask.append(encoding['attention_mask'])\n",
        "    test_ids = torch.cat(test_ids, dim=0)\n",
        "    test_attention_mask = torch.cat(test_attention_mask, dim=0)\n",
        "\n",
        "    # Forward pass, calculate logit\n",
        "    with torch.no_grad():\n",
        "        outputs = model(test_ids.to(device),\n",
        "                        test_attention_mask.to(device))\n",
        "    print(\"output \", outputs)\n",
        "    predictions = torch.argmax(outputs, dim=-1)\n",
        "    print(\"output \", predictions)\n",
        "    return predictions.item()"
      ]
    },
    {
      "cell_type": "code",
      "execution_count": null,
      "metadata": {
        "id": "7Ts2e9mCCRTc"
      },
      "outputs": [],
      "source": [
        "def get_key(val, my_dict):\n",
        "    for key, value in my_dict.items():\n",
        "        if val == value:\n",
        "            return key"
      ]
    },
    {
      "cell_type": "code",
      "execution_count": null,
      "metadata": {
        "colab": {
          "base_uri": "https://localhost:8080/",
          "height": 72
        },
        "id": "NbRik_asByQ1",
        "outputId": "1f025ecb-1347-4e35-e094-74a27957633b"
      },
      "outputs": [
        {
          "name": "stdout",
          "output_type": "stream",
          "text": [
            "output  tensor([[ 3.0563, -2.9960]], device='cuda:0')\n",
            "output  tensor([0], device='cuda:0')\n"
          ]
        },
        {
          "data": {
            "application/vnd.google.colaboratory.intrinsic+json": {
              "type": "string"
            },
            "text/plain": [
              "'Not Useful'"
            ]
          },
          "execution_count": 91,
          "metadata": {},
          "output_type": "execute_result"
        }
      ],
      "source": [
        "prediction_labels = {'Not Useful': 0, 'Useful': 1}\n",
        "prediction = predict(input_text, model, tokenizer, device)\n",
        "final_result = get_key(prediction, prediction_labels)\n",
        "final_result"
      ]
    },
    {
      "cell_type": "code",
      "execution_count": null,
      "metadata": {
        "colab": {
          "base_uri": "https://localhost:8080/",
          "height": 36
        },
        "id": "Xue2ONN0B4kD",
        "outputId": "d524a825-6a67-4547-f374-cef68e927e62"
      },
      "outputs": [
        {
          "data": {
            "application/vnd.google.colaboratory.intrinsic+json": {
              "type": "string"
            },
            "text/plain": [
              "'Not Useful'"
            ]
          },
          "execution_count": 93,
          "metadata": {},
          "output_type": "execute_result"
        }
      ],
      "source": [
        "final_result"
      ]
    },
    {
      "cell_type": "markdown",
      "metadata": {
        "id": "fhSO-9dGqB18"
      },
      "source": [
        "# Predict Multi"
      ]
    },
    {
      "cell_type": "code",
      "execution_count": null,
      "metadata": {
        "colab": {
          "base_uri": "https://localhost:8080/"
        },
        "id": "Uc7oCrWQarvt",
        "outputId": "07d5f64d-e3ea-4514-8575-985de2ce5877"
      },
      "outputs": [
        {
          "name": "stdout",
          "output_type": "stream",
          "text": [
            " sangat suuusah diakses terlalu banyak persyaratan yg harus diisi saat sudah mengisi belum tentu terdaftar sangat menyusahkan masyarakat menghabiskan waktu aja sia buang buang waktu\n"
          ]
        }
      ],
      "source": [
        "import re\n",
        "\n",
        "def remove_special_characters(text):\n",
        "\n",
        "    # case folding\n",
        "    text = text.lower()\n",
        "\n",
        "    # menghapus karakter khusus\n",
        "    text = re.sub(r'[^a-zA-Z0-9\\s]', ' ', text)\n",
        "    text = re.sub(r'[0-9]', ' ', text)\n",
        "\n",
        "    # # replace multiple whitespace characters with a single space\n",
        "    text = re.sub(r\"\\s+\", \" \", text)\n",
        "\n",
        "    return text"
      ]
    },
    {
      "cell_type": "code",
      "execution_count": null,
      "metadata": {
        "id": "NpNWKBucB-EQ"
      },
      "outputs": [],
      "source": [
        "del tokenizer"
      ]
    },
    {
      "cell_type": "code",
      "execution_count": null,
      "metadata": {
        "id": "gHGcLvQWtIbZ"
      },
      "outputs": [],
      "source": [
        "tokenizer_path = main_path + F\"tokenizer/{model_name}\"\n",
        "tokenizer = BertTokenizer.from_pretrained(tokenizer_path)"
      ]
    },
    {
      "cell_type": "code",
      "execution_count": null,
      "metadata": {
        "colab": {
          "base_uri": "https://localhost:8080/"
        },
        "id": "f98pRDp9qFFc",
        "outputId": "f29a14ef-eef8-4797-bdef-c4965cc05f55"
      },
      "outputs": [
        {
          "data": {
            "text/plain": [
              "['---------- select column -------------',\n",
              " 'ï»¿label',\n",
              " 'userName',\n",
              " 'score',\n",
              " 'at',\n",
              " 'content']"
            ]
          },
          "execution_count": 61,
          "metadata": {},
          "output_type": "execute_result"
        }
      ],
      "source": [
        "data_multi = pd.read_csv(main_path + \"datas/100 test new.csv\", encoding='latin-1')\n",
        "\n",
        "header_list = data_multi.columns.tolist()\n",
        "header_list.insert(0, \"---------- select column -------------\")\n",
        "header_list"
      ]
    },
    {
      "cell_type": "code",
      "execution_count": null,
      "metadata": {
        "id": "5TzrEo2ssOJa"
      },
      "outputs": [],
      "source": [
        "index = 5"
      ]
    },
    {
      "cell_type": "code",
      "execution_count": null,
      "metadata": {
        "colab": {
          "base_uri": "https://localhost:8080/"
        },
        "id": "TuD83Zz1r1mF",
        "outputId": "c8b76855-1f90-4b21-eb95-04b016468e62"
      },
      "outputs": [
        {
          "data": {
            "text/plain": [
              "0     app mypertamina di hp saya tidak bisa lagi log...\n",
              "1                          tidak bisa akses qr code nya\n",
              "2        mau masuk barcode saja tidak bisa piye to kih \n",
              "3     setelah update malah menu program subsidi tepa...\n",
              "4     aplikasi sangat aneh tidak bisa terhubung deng...\n",
              "                            ...                        \n",
              "95    sangat payah digunakan ber ulang ulang daftar ...\n",
              "96           pendaftaran sangat susah lagi ke menu awal\n",
              "97    itu lah makin susah ngisi bbm mana harga makin...\n",
              "98    susah iya melawan orang pintar otak otak nya m...\n",
              "99    saya doakan pertamina bangkrut spbu nya kebaka...\n",
              "Name: content, Length: 100, dtype: object"
            ]
          },
          "execution_count": 64,
          "metadata": {},
          "output_type": "execute_result"
        }
      ],
      "source": [
        "data_multi[header_list[index]]"
      ]
    },
    {
      "cell_type": "code",
      "execution_count": null,
      "metadata": {
        "id": "TWtt_In9rjVK"
      },
      "outputs": [],
      "source": [
        "df_process = data_multi[header_list[index]]\n",
        "csv_input = data_multi\n",
        "csv_process = df_process"
      ]
    },
    {
      "cell_type": "code",
      "execution_count": null,
      "metadata": {
        "id": "yQ7XJHqSt-b5"
      },
      "outputs": [],
      "source": [
        "def predict_multiple(data, model, tokenizer, device):\n",
        "    input_ids = []\n",
        "    attention_masks = []\n",
        "    print(\"Preprocess.....\")\n",
        "    for row in tqdm(data.tolist()):\n",
        "        text = remove_special_characters(row)\n",
        "        text = tokenize_data(text, tokenizer)\n",
        "        input_ids.append(text['input_ids'])\n",
        "        attention_masks.append(text['attention_mask'])\n",
        "\n",
        "    predictions = []\n",
        "\n",
        "    print(\"Classifying.....\")\n",
        "    with torch.no_grad():\n",
        "        for i in tqdm(range(len(input_ids))):\n",
        "            test_ids = input_ids[i]\n",
        "            test_attention_mask = attention_masks[i]\n",
        "            outputs = model(test_ids.to(device), test_attention_mask.to(device))\n",
        "            prediction = torch.argmax(outputs, dim= -1)\n",
        "            # prediction_label = get_key(prediction.item(), LABELS)\n",
        "            predictions.append(prediction.item())\n",
        "\n",
        "    return predictions"
      ]
    },
    {
      "cell_type": "code",
      "execution_count": null,
      "metadata": {
        "colab": {
          "base_uri": "https://localhost:8080/"
        },
        "id": "tJsZYkIst9jD",
        "outputId": "a8e2d75f-e4b1-4190-a5d7-07f23b099535"
      },
      "outputs": [
        {
          "name": "stdout",
          "output_type": "stream",
          "text": [
            "Preprocess.....\n"
          ]
        },
        {
          "name": "stderr",
          "output_type": "stream",
          "text": [
            "  0%|          | 0/100 [00:00<?, ?it/s]Truncation was not explicitly activated but `max_length` is provided a specific value, please use `truncation=True` to explicitly truncate examples to max length. Defaulting to 'longest_first' truncation strategy. If you encode pairs of sequences (GLUE-style) with the tokenizer you can select this strategy more precisely by providing a specific strategy to `truncation`.\n",
            "/usr/local/lib/python3.10/dist-packages/transformers/tokenization_utils_base.py:2377: FutureWarning: The `pad_to_max_length` argument is deprecated and will be removed in a future version, use `padding=True` or `padding='longest'` to pad to the longest sequence in the batch, or use `padding='max_length'` to pad to a max length. In this case, you can give a specific length with `max_length` (e.g. `max_length=45`) or leave max_length to None to pad to the maximal input size of the model (e.g. 512 for Bert).\n",
            "  warnings.warn(\n",
            "100%|██████████| 100/100 [00:00<00:00, 501.03it/s]\n"
          ]
        },
        {
          "name": "stdout",
          "output_type": "stream",
          "text": [
            "Classifying.....\n"
          ]
        },
        {
          "name": "stderr",
          "output_type": "stream",
          "text": [
            "100%|██████████| 100/100 [00:03<00:00, 33.00it/s]\n"
          ]
        }
      ],
      "source": [
        "prediction = predict_multiple(df_process, model, tokenizer, device)"
      ]
    },
    {
      "cell_type": "code",
      "execution_count": null,
      "metadata": {
        "colab": {
          "base_uri": "https://localhost:8080/",
          "height": 580
        },
        "id": "2yk-BGZBuuXs",
        "outputId": "f870b155-766e-46ae-d124-f630d4dbe909"
      },
      "outputs": [
        {
          "data": {
            "text/html": [
              "\n",
              "  <div id=\"df-156bdc0b-231d-469f-be1f-0acc479aa3e0\">\n",
              "    <div class=\"colab-df-container\">\n",
              "      <div>\n",
              "<style scoped>\n",
              "    .dataframe tbody tr th:only-of-type {\n",
              "        vertical-align: middle;\n",
              "    }\n",
              "\n",
              "    .dataframe tbody tr th {\n",
              "        vertical-align: top;\n",
              "    }\n",
              "\n",
              "    .dataframe thead th {\n",
              "        text-align: right;\n",
              "    }\n",
              "</style>\n",
              "<table border=\"1\" class=\"dataframe\">\n",
              "  <thead>\n",
              "    <tr style=\"text-align: right;\">\n",
              "      <th></th>\n",
              "      <th>ï»¿label</th>\n",
              "      <th>userName</th>\n",
              "      <th>score</th>\n",
              "      <th>at</th>\n",
              "      <th>content</th>\n",
              "      <th>classification_result</th>\n",
              "    </tr>\n",
              "  </thead>\n",
              "  <tbody>\n",
              "    <tr>\n",
              "      <th>0</th>\n",
              "      <td>1</td>\n",
              "      <td>Mangatas Simorangkir</td>\n",
              "      <td>3</td>\n",
              "      <td>11/21/2022 12:08</td>\n",
              "      <td>app mypertamina di hp saya tidak bisa lagi log...</td>\n",
              "      <td>1</td>\n",
              "    </tr>\n",
              "    <tr>\n",
              "      <th>1</th>\n",
              "      <td>1</td>\n",
              "      <td>Lukman Kurniawan</td>\n",
              "      <td>1</td>\n",
              "      <td>11/21/2022 11:39</td>\n",
              "      <td>tidak bisa akses qr code nya</td>\n",
              "      <td>1</td>\n",
              "    </tr>\n",
              "    <tr>\n",
              "      <th>2</th>\n",
              "      <td>1</td>\n",
              "      <td>Susanto Ganesa</td>\n",
              "      <td>1</td>\n",
              "      <td>11/21/2022 11:03</td>\n",
              "      <td>mau masuk barcode saja tidak bisa piye to kih</td>\n",
              "      <td>1</td>\n",
              "    </tr>\n",
              "    <tr>\n",
              "      <th>3</th>\n",
              "      <td>1</td>\n",
              "      <td>Tiyo Aldo</td>\n",
              "      <td>1</td>\n",
              "      <td>11/21/2022 10:27</td>\n",
              "      <td>setelah update malah menu program subsidi tepa...</td>\n",
              "      <td>1</td>\n",
              "    </tr>\n",
              "    <tr>\n",
              "      <th>4</th>\n",
              "      <td>1</td>\n",
              "      <td>majid irwanto</td>\n",
              "      <td>1</td>\n",
              "      <td>11/21/2022 9:05</td>\n",
              "      <td>aplikasi sangat aneh tidak bisa terhubung deng...</td>\n",
              "      <td>1</td>\n",
              "    </tr>\n",
              "    <tr>\n",
              "      <th>5</th>\n",
              "      <td>1</td>\n",
              "      <td>lucky jalu</td>\n",
              "      <td>1</td>\n",
              "      <td>11/21/2022 5:13</td>\n",
              "      <td>payah menu daftar transaksi tidak bisa dibuka</td>\n",
              "      <td>1</td>\n",
              "    </tr>\n",
              "    <tr>\n",
              "      <th>6</th>\n",
              "      <td>1</td>\n",
              "      <td>HERMAWAN KRISTI</td>\n",
              "      <td>1</td>\n",
              "      <td>11/21/2022 4:54</td>\n",
              "      <td>balik versi masih muncul qr barcode nya yang t...</td>\n",
              "      <td>1</td>\n",
              "    </tr>\n",
              "    <tr>\n",
              "      <th>7</th>\n",
              "      <td>1</td>\n",
              "      <td>Rey Lando</td>\n",
              "      <td>1</td>\n",
              "      <td>11/20/2022 15:06</td>\n",
              "      <td>ini sudah bulan tidak terverifikasi data saya ...</td>\n",
              "      <td>1</td>\n",
              "    </tr>\n",
              "    <tr>\n",
              "      <th>8</th>\n",
              "      <td>0</td>\n",
              "      <td>Muhammad Abdullah Ar-Rasyid</td>\n",
              "      <td>1</td>\n",
              "      <td>11/20/2022 12:44</td>\n",
              "      <td>maaf tinggal aplikasi enggak guna ditolak teru...</td>\n",
              "      <td>0</td>\n",
              "    </tr>\n",
              "    <tr>\n",
              "      <th>9</th>\n",
              "      <td>1</td>\n",
              "      <td>Stevanus Santoso</td>\n",
              "      <td>3</td>\n",
              "      <td>11/20/2022 12:01</td>\n",
              "      <td>susahnya untuk terhubung ke link aja tidak sep...</td>\n",
              "      <td>1</td>\n",
              "    </tr>\n",
              "  </tbody>\n",
              "</table>\n",
              "</div>\n",
              "      <button class=\"colab-df-convert\" onclick=\"convertToInteractive('df-156bdc0b-231d-469f-be1f-0acc479aa3e0')\"\n",
              "              title=\"Convert this dataframe to an interactive table.\"\n",
              "              style=\"display:none;\">\n",
              "        \n",
              "  <svg xmlns=\"http://www.w3.org/2000/svg\" height=\"24px\"viewBox=\"0 0 24 24\"\n",
              "       width=\"24px\">\n",
              "    <path d=\"M0 0h24v24H0V0z\" fill=\"none\"/>\n",
              "    <path d=\"M18.56 5.44l.94 2.06.94-2.06 2.06-.94-2.06-.94-.94-2.06-.94 2.06-2.06.94zm-11 1L8.5 8.5l.94-2.06 2.06-.94-2.06-.94L8.5 2.5l-.94 2.06-2.06.94zm10 10l.94 2.06.94-2.06 2.06-.94-2.06-.94-.94-2.06-.94 2.06-2.06.94z\"/><path d=\"M17.41 7.96l-1.37-1.37c-.4-.4-.92-.59-1.43-.59-.52 0-1.04.2-1.43.59L10.3 9.45l-7.72 7.72c-.78.78-.78 2.05 0 2.83L4 21.41c.39.39.9.59 1.41.59.51 0 1.02-.2 1.41-.59l7.78-7.78 2.81-2.81c.8-.78.8-2.07 0-2.86zM5.41 20L4 18.59l7.72-7.72 1.47 1.35L5.41 20z\"/>\n",
              "  </svg>\n",
              "      </button>\n",
              "      \n",
              "  <style>\n",
              "    .colab-df-container {\n",
              "      display:flex;\n",
              "      flex-wrap:wrap;\n",
              "      gap: 12px;\n",
              "    }\n",
              "\n",
              "    .colab-df-convert {\n",
              "      background-color: #E8F0FE;\n",
              "      border: none;\n",
              "      border-radius: 50%;\n",
              "      cursor: pointer;\n",
              "      display: none;\n",
              "      fill: #1967D2;\n",
              "      height: 32px;\n",
              "      padding: 0 0 0 0;\n",
              "      width: 32px;\n",
              "    }\n",
              "\n",
              "    .colab-df-convert:hover {\n",
              "      background-color: #E2EBFA;\n",
              "      box-shadow: 0px 1px 2px rgba(60, 64, 67, 0.3), 0px 1px 3px 1px rgba(60, 64, 67, 0.15);\n",
              "      fill: #174EA6;\n",
              "    }\n",
              "\n",
              "    [theme=dark] .colab-df-convert {\n",
              "      background-color: #3B4455;\n",
              "      fill: #D2E3FC;\n",
              "    }\n",
              "\n",
              "    [theme=dark] .colab-df-convert:hover {\n",
              "      background-color: #434B5C;\n",
              "      box-shadow: 0px 1px 3px 1px rgba(0, 0, 0, 0.15);\n",
              "      filter: drop-shadow(0px 1px 2px rgba(0, 0, 0, 0.3));\n",
              "      fill: #FFFFFF;\n",
              "    }\n",
              "  </style>\n",
              "\n",
              "      <script>\n",
              "        const buttonEl =\n",
              "          document.querySelector('#df-156bdc0b-231d-469f-be1f-0acc479aa3e0 button.colab-df-convert');\n",
              "        buttonEl.style.display =\n",
              "          google.colab.kernel.accessAllowed ? 'block' : 'none';\n",
              "\n",
              "        async function convertToInteractive(key) {\n",
              "          const element = document.querySelector('#df-156bdc0b-231d-469f-be1f-0acc479aa3e0');\n",
              "          const dataTable =\n",
              "            await google.colab.kernel.invokeFunction('convertToInteractive',\n",
              "                                                     [key], {});\n",
              "          if (!dataTable) return;\n",
              "\n",
              "          const docLinkHtml = 'Like what you see? Visit the ' +\n",
              "            '<a target=\"_blank\" href=https://colab.research.google.com/notebooks/data_table.ipynb>data table notebook</a>'\n",
              "            + ' to learn more about interactive tables.';\n",
              "          element.innerHTML = '';\n",
              "          dataTable['output_type'] = 'display_data';\n",
              "          await google.colab.output.renderOutput(dataTable, element);\n",
              "          const docLink = document.createElement('div');\n",
              "          docLink.innerHTML = docLinkHtml;\n",
              "          element.appendChild(docLink);\n",
              "        }\n",
              "      </script>\n",
              "    </div>\n",
              "  </div>\n",
              "  "
            ],
            "text/plain": [
              "   ï»¿label                     userName  score                at  \\\n",
              "0         1         Mangatas Simorangkir      3  11/21/2022 12:08   \n",
              "1         1             Lukman Kurniawan      1  11/21/2022 11:39   \n",
              "2         1               Susanto Ganesa      1  11/21/2022 11:03   \n",
              "3         1                    Tiyo Aldo      1  11/21/2022 10:27   \n",
              "4         1                majid irwanto      1   11/21/2022 9:05   \n",
              "5         1                   lucky jalu      1   11/21/2022 5:13   \n",
              "6         1              HERMAWAN KRISTI      1   11/21/2022 4:54   \n",
              "7         1                    Rey Lando      1  11/20/2022 15:06   \n",
              "8         0  Muhammad Abdullah Ar-Rasyid      1  11/20/2022 12:44   \n",
              "9         1             Stevanus Santoso      3  11/20/2022 12:01   \n",
              "\n",
              "                                             content  classification_result  \n",
              "0  app mypertamina di hp saya tidak bisa lagi log...                      1  \n",
              "1                       tidak bisa akses qr code nya                      1  \n",
              "2     mau masuk barcode saja tidak bisa piye to kih                       1  \n",
              "3  setelah update malah menu program subsidi tepa...                      1  \n",
              "4  aplikasi sangat aneh tidak bisa terhubung deng...                      1  \n",
              "5      payah menu daftar transaksi tidak bisa dibuka                      1  \n",
              "6  balik versi masih muncul qr barcode nya yang t...                      1  \n",
              "7  ini sudah bulan tidak terverifikasi data saya ...                      1  \n",
              "8  maaf tinggal aplikasi enggak guna ditolak teru...                      0  \n",
              "9  susahnya untuk terhubung ke link aja tidak sep...                      1  "
            ]
          },
          "execution_count": 71,
          "metadata": {},
          "output_type": "execute_result"
        }
      ],
      "source": [
        "input_file = csv_input\n",
        "input_file[\"classification_result\"] = prediction\n",
        "input_file.head(10)"
      ]
    },
    {
      "cell_type": "code",
      "execution_count": null,
      "metadata": {
        "id": "rnHlYYInu8Ya"
      },
      "outputs": [],
      "source": [
        "# Define the output file name\n",
        "output_classification_result_file = main_path + \"datas/100 test new_predict.csv\"\n",
        "\n",
        "# Write the DataFrame to a CSV file\n",
        "input_file.to_csv(output_classification_result_file, index=False)"
      ]
    }
  ],
  "metadata": {
    "accelerator": "GPU",
    "colab": {
      "collapsed_sections": [
        "f7UvCWa5iIvY",
        "6wVQtUNeOoF8",
        "KQkHoz0dOhwL",
        "c24O-0OIKcyw",
        "6LTgA5-uLysm",
        "ie3_tbfaf1xM",
        "x0g1TlsngOKE",
        "DhLljZXljeeE",
        "XO5zzAHki8sX",
        "6fXQspOklrqV",
        "entGLSGMjACU",
        "wrPZFJZYrby8",
        "Pfvmz6CIxofB",
        "5SFjq7XHIebX",
        "XDoiGZ7ePL5Z",
        "ThVtFPsTPZzQ",
        "rRg-gGtK2KGY",
        "YMSiD3EG1m0K",
        "ZdT-qapvIwME",
        "vixBQDGaL8vF",
        "oorZpAtRNhJx",
        "A-cNk_HXNkTo",
        "tNzrGYyRNvJP",
        "ld60ENg8wh3r",
        "KzMON3FCwh30",
        "l2klrvsYTdTC",
        "CzIohIK9U_Qn",
        "_W6s9SH6VCdm",
        "upPqanGjDrvM",
        "fhSO-9dGqB18"
      ],
      "provenance": []
    },
    "gpuClass": "standard",
    "kernelspec": {
      "display_name": "Python 3",
      "name": "python3"
    },
    "language_info": {
      "name": "python"
    }
  },
  "nbformat": 4,
  "nbformat_minor": 0
}